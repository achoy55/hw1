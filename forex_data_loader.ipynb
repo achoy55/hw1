{
 "cells": [
  {
   "cell_type": "code",
   "execution_count": null,
   "metadata": {},
   "outputs": [
    {
     "name": "stdout",
     "output_type": "stream",
     "text": [
      "yfinance version: 0.2.50\n"
     ]
    }
   ],
   "source": [
    "import yfinance as yf\n",
    "import pandas as pd\n",
    "from datetime import timedelta, datetime\n",
    "from dateutil.relativedelta import relativedelta\n",
    "import os\n",
    "\n",
    "print(\"yfinance version: {}\".format(yf.__version__))"
   ]
  },
  {
   "cell_type": "code",
   "execution_count": null,
   "metadata": {},
   "outputs": [],
   "source": [
    "# period=-2400\n",
    "# time_interval='1d'\n",
    "# tickers = ['EURUSD=X', 'GBPUSD=X', 'USDCHF=X', 'USDJPY=X']\n",
    "# forex_tickers = ['EURUSD', 'GBPUSD', 'USDCHF', 'USDJPY']\n",
    "\n"
   ]
  },
  {
   "cell_type": "code",
   "execution_count": 13,
   "metadata": {},
   "outputs": [],
   "source": [
    "delta = timedelta(days=period) # \n",
    "today = datetime.now()"
   ]
  },
  {
   "cell_type": "code",
   "execution_count": null,
   "metadata": {},
   "outputs": [],
   "source": [
    "print(\"Start load FOREX data interval with: {}, from: {}\".format(time_interval, today+delta))\n",
    "\n",
    "data = yf.download(tickers, today+delta, interval=time_interval, group_by='ticker')\n",
    "data.index.names = ['Date']\n",
    "\n",
    "# data = yf.download(tickers, today+delta, interval=time_interval)\n",
    "# data.columns = pd.MultiIndex.from_tuples([i[::-1] for i in data.columns])\n",
    " \n",
    "data.info()"
   ]
  },
  {
   "cell_type": "code",
   "execution_count": 15,
   "metadata": {},
   "outputs": [],
   "source": [
    "#Should be ${workspaceFolder} in vscode://settings/jupyter.notebookFileRoot \n",
    "save_location = \"forex_data\"\n",
    "if not os.path.exists(save_location) :\n",
    "    os.makedirs(save_location)\n",
    "    print(\"=== Directory '%s' created ===\" % save_location)"
   ]
  },
  {
   "cell_type": "code",
   "execution_count": 16,
   "metadata": {},
   "outputs": [
    {
     "name": "stdout",
     "output_type": "stream",
     "text": [
      "=== Download FOREX data completed ===\n"
     ]
    }
   ],
   "source": [
    "for i in tickers:\n",
    "    symbol = i[:len(i)-2]\n",
    "    try:\n",
    "        TEMP = data[i].copy(deep=True)\n",
    "        TEMP = TEMP.dropna()\n",
    "        TEMP.to_csv(save_location+\"/\"+symbol+\".csv\")\n",
    "    except:\n",
    "        print(\"Unable to load data for {}\".format(i))\n",
    "\n",
    "print(\"=== Download FOREX data completed ===\")"
   ]
  }
 ],
 "metadata": {
  "kernelspec": {
   "display_name": "otus",
   "language": "python",
   "name": "python3"
  },
  "language_info": {
   "codemirror_mode": {
    "name": "ipython",
    "version": 3
   },
   "file_extension": ".py",
   "mimetype": "text/x-python",
   "name": "python",
   "nbconvert_exporter": "python",
   "pygments_lexer": "ipython3",
   "version": "3.11.10"
  }
 },
 "nbformat": 4,
 "nbformat_minor": 2
}
