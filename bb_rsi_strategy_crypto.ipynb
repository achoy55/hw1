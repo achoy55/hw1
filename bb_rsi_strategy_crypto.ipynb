{
 "cells": [
  {
   "cell_type": "markdown",
   "metadata": {},
   "source": [
    "Стратегия объединяет BBANDS, RSI и определенные свечные паттерны для обнаружения точек разворота и определения оптимальных позиций входа.\n",
    "- RSI - потдверждение тренда\n",
    "- ATR - управления торговлей, используется для подсчета параметров стоп-лосса и тейк-профита <br>(класс BBRSIStrategy [backtest_strategy.ipynb](backtest_strategy.ipynb))\n",
    "\n",
    "- apply_bb_rsi_strategy - основная функция сигналов и индикаторов\n",
    "    - add_bb_rsi_strategy - добавляет индикаторы\n",
    "    - add_bb_rsi_signal - определяет точки входа и выхода на базе индикаторов\n",
    "- get_best_bb_rsi_strategy - основная функция поиска оптимальных параметров\n",
    "- backest_bb_rsi_strategy - функция бэктестинга\n",
    "- [walk_forward_optimization_by_index](./useful_functions.ipynb) - хелпер функция генерации wfo"
   ]
  },
  {
   "cell_type": "code",
   "execution_count": 1,
   "metadata": {},
   "outputs": [],
   "source": [
    "import os\n",
    "import pandas as pd\n",
    "import warnings\n",
    "import numpy as np\n",
    "import plotly.graph_objects as go\n",
    "from plotly.subplots import make_subplots\n",
    "from backtesting import Backtest\n",
    "import seaborn as sns\n",
    "import matplotlib.pyplot as plt\n",
    "from datetime import datetime\n",
    "import import_ipynb\n",
    "\n",
    "from tqdm import tqdm\n",
    "tqdm.pandas()\n",
    "warnings.simplefilter('ignore')"
   ]
  },
  {
   "cell_type": "code",
   "execution_count": 2,
   "metadata": {},
   "outputs": [],
   "source": [
    "# period=-2400\n",
    "period=-(datetime.now() - datetime(2019, 1, 1)).days\n",
    "time_interval='1d'\n",
    "tickers = ['BTC-USD', 'ETH-USD'] #, 'SOL-USD', 'XRP-USD'\n",
    "dir = \"crypto_data\""
   ]
  },
  {
   "cell_type": "code",
   "execution_count": 38,
   "metadata": {},
   "outputs": [
    {
     "name": "stdout",
     "output_type": "stream",
     "text": [
      "yfinance version: 0.2.50\n",
      "Start load crypto data with interval: 1d, from: 2019-01-01 16:26:24.892113\n"
     ]
    },
    {
     "name": "stderr",
     "output_type": "stream",
     "text": [
      "[*********************100%***********************]  4 of 4 completed\n"
     ]
    },
    {
     "name": "stdout",
     "output_type": "stream",
     "text": [
      "<class 'pandas.core.frame.DataFrame'>\n",
      "DatetimeIndex: 2178 entries, 2019-01-01 to 2024-12-17\n",
      "Freq: D\n",
      "Data columns (total 24 columns):\n",
      " #   Column                Non-Null Count  Dtype  \n",
      "---  ------                --------------  -----  \n",
      " 0   (BTC-USD, Open)       2178 non-null   float64\n",
      " 1   (BTC-USD, High)       2178 non-null   float64\n",
      " 2   (BTC-USD, Low)        2178 non-null   float64\n",
      " 3   (BTC-USD, Close)      2178 non-null   float64\n",
      " 4   (BTC-USD, Adj Close)  2178 non-null   float64\n",
      " 5   (BTC-USD, Volume)     2178 non-null   int64  \n",
      " 6   (SOL-USD, Open)       1713 non-null   float64\n",
      " 7   (SOL-USD, High)       1713 non-null   float64\n",
      " 8   (SOL-USD, Low)        1713 non-null   float64\n",
      " 9   (SOL-USD, Close)      1713 non-null   float64\n",
      " 10  (SOL-USD, Adj Close)  1713 non-null   float64\n",
      " 11  (SOL-USD, Volume)     1713 non-null   float64\n",
      " 12  (ETH-USD, Open)       2178 non-null   float64\n",
      " 13  (ETH-USD, High)       2178 non-null   float64\n",
      " 14  (ETH-USD, Low)        2178 non-null   float64\n",
      " 15  (ETH-USD, Close)      2178 non-null   float64\n",
      " 16  (ETH-USD, Adj Close)  2178 non-null   float64\n",
      " 17  (ETH-USD, Volume)     2178 non-null   int64  \n",
      " 18  (XRP-USD, Open)       2178 non-null   float64\n",
      " 19  (XRP-USD, High)       2178 non-null   float64\n",
      " 20  (XRP-USD, Low)        2178 non-null   float64\n",
      " 21  (XRP-USD, Close)      2178 non-null   float64\n",
      " 22  (XRP-USD, Adj Close)  2178 non-null   float64\n",
      " 23  (XRP-USD, Volume)     2178 non-null   int64  \n",
      "dtypes: float64(21), int64(3)\n",
      "memory usage: 425.4 KB\n",
      "Download crypto data completed\n"
     ]
    }
   ],
   "source": [
    "%run crypto_data_loader.ipynb"
   ]
  },
  {
   "cell_type": "markdown",
   "metadata": {},
   "source": [
    "### Usefull functions"
   ]
  },
  {
   "cell_type": "code",
   "execution_count": 3,
   "metadata": {},
   "outputs": [],
   "source": [
    "# %run file_loader.ipynb\n",
    "# %run useful_functions.ipynb\n",
    "# %run backtest_strategy.ipynb\n",
    "\n",
    "from file_loader import loading_v3, get_data\n",
    "from useful_functions import get_best_bb_rsi_strategy, walk_forward_optimization_by_index, apply_bb_rsi_strategy, add_pointpos_column\n",
    "from backtest_strategy import BBRSIStrategy\n",
    "\n",
    "# log.basicConfig(level=log.INFO)"
   ]
  },
  {
   "cell_type": "markdown",
   "metadata": {},
   "source": [
    "### Loading data and Calculate Bollinger Bands and RSI and apply Signal"
   ]
  },
  {
   "cell_type": "code",
   "execution_count": null,
   "metadata": {},
   "outputs": [
    {
     "name": "stdout",
     "output_type": "stream",
     "text": [
      "Start BTC-USD backtesting, df: 2178\n",
      "BTC-USD wfo iterations: 60\n"
     ]
    },
    {
     "name": "stderr",
     "output_type": "stream",
     "text": [
      "  0%|          | 0/60 [00:00<?, ?it/s]"
     ]
    },
    {
     "name": "stdout",
     "output_type": "stream",
     "text": [
      "BTC-USD : train_set: 2019-01-01 00:00:00 - 2019-07-19 00:00:00, test_set: 2019-07-20 00:00:00 - 2019-08-21 00:00:00\n"
     ]
    },
    {
     "data": {
      "application/vnd.jupyter.widget-view+json": {
       "model_id": "16d5338638a04189993bce0e04953a09",
       "version_major": 2,
       "version_minor": 0
      },
      "text/plain": [
       "Backtest.optimize:   0%|          | 0/9 [00:00<?, ?it/s]"
      ]
     },
     "metadata": {},
     "output_type": "display_data"
    },
    {
     "name": "stdout",
     "output_type": "stream",
     "text": [
      "Performance, current: 66.66666666666666, best_performance: -inf\n"
     ]
    },
    {
     "data": {
      "application/vnd.jupyter.widget-view+json": {
       "model_id": "ad4a35fc959849b9a77cf61f34a6ac57",
       "version_major": 2,
       "version_minor": 0
      },
      "text/plain": [
       "Backtest.optimize:   0%|          | 0/9 [00:00<?, ?it/s]"
      ]
     },
     "metadata": {},
     "output_type": "display_data"
    },
    {
     "data": {
      "application/vnd.jupyter.widget-view+json": {
       "model_id": "3b320e720e9e47bdbb474c0c19f57e05",
       "version_major": 2,
       "version_minor": 0
      },
      "text/plain": [
       "Backtest.optimize:   0%|          | 0/9 [00:00<?, ?it/s]"
      ]
     },
     "metadata": {},
     "output_type": "display_data"
    },
    {
     "data": {
      "application/vnd.jupyter.widget-view+json": {
       "model_id": "5e67dd74c69945398fd27d1aa8c26727",
       "version_major": 2,
       "version_minor": 0
      },
      "text/plain": [
       "Backtest.optimize:   0%|          | 0/9 [00:00<?, ?it/s]"
      ]
     },
     "metadata": {},
     "output_type": "display_data"
    },
    {
     "data": {
      "application/vnd.jupyter.widget-view+json": {
       "model_id": "08f4e057682f41c381a448a3e13c8bb7",
       "version_major": 2,
       "version_minor": 0
      },
      "text/plain": [
       "Backtest.optimize:   0%|          | 0/9 [00:00<?, ?it/s]"
      ]
     },
     "metadata": {},
     "output_type": "display_data"
    },
    {
     "data": {
      "application/vnd.jupyter.widget-view+json": {
       "model_id": "1af0afe625f14a93b9f36bb8b445589d",
       "version_major": 2,
       "version_minor": 0
      },
      "text/plain": [
       "Backtest.optimize:   0%|          | 0/9 [00:00<?, ?it/s]"
      ]
     },
     "metadata": {},
     "output_type": "display_data"
    },
    {
     "data": {
      "application/vnd.jupyter.widget-view+json": {
       "model_id": "eaf990b020cb40a18230a0911d7a84ad",
       "version_major": 2,
       "version_minor": 0
      },
      "text/plain": [
       "Backtest.optimize:   0%|          | 0/9 [00:00<?, ?it/s]"
      ]
     },
     "metadata": {},
     "output_type": "display_data"
    },
    {
     "data": {
      "application/vnd.jupyter.widget-view+json": {
       "model_id": "4184af086b974979ab6cfc71744080bd",
       "version_major": 2,
       "version_minor": 0
      },
      "text/plain": [
       "Backtest.optimize:   0%|          | 0/9 [00:00<?, ?it/s]"
      ]
     },
     "metadata": {},
     "output_type": "display_data"
    },
    {
     "data": {
      "application/vnd.jupyter.widget-view+json": {
       "model_id": "f6cde9becc6d442cbcf75ffc40506ea5",
       "version_major": 2,
       "version_minor": 0
      },
      "text/plain": [
       "Backtest.optimize:   0%|          | 0/9 [00:00<?, ?it/s]"
      ]
     },
     "metadata": {},
     "output_type": "display_data"
    },
    {
     "data": {
      "application/vnd.jupyter.widget-view+json": {
       "model_id": "8b1ea01e115e435ebc4feb3ca61990d6",
       "version_major": 2,
       "version_minor": 0
      },
      "text/plain": [
       "Backtest.optimize:   0%|          | 0/9 [00:00<?, ?it/s]"
      ]
     },
     "metadata": {},
     "output_type": "display_data"
    },
    {
     "data": {
      "application/vnd.jupyter.widget-view+json": {
       "model_id": "3d3a72b119f74677a5ba328a49421dfe",
       "version_major": 2,
       "version_minor": 0
      },
      "text/plain": [
       "Backtest.optimize:   0%|          | 0/9 [00:00<?, ?it/s]"
      ]
     },
     "metadata": {},
     "output_type": "display_data"
    },
    {
     "data": {
      "application/vnd.jupyter.widget-view+json": {
       "model_id": "c580d0afe54940dfb0709672b7f976f9",
       "version_major": 2,
       "version_minor": 0
      },
      "text/plain": [
       "Backtest.optimize:   0%|          | 0/9 [00:00<?, ?it/s]"
      ]
     },
     "metadata": {},
     "output_type": "display_data"
    },
    {
     "data": {
      "application/vnd.jupyter.widget-view+json": {
       "model_id": "66a321eeb35d4703a4f8fb1517bca928",
       "version_major": 2,
       "version_minor": 0
      },
      "text/plain": [
       "Backtest.optimize:   0%|          | 0/9 [00:00<?, ?it/s]"
      ]
     },
     "metadata": {},
     "output_type": "display_data"
    },
    {
     "data": {
      "application/vnd.jupyter.widget-view+json": {
       "model_id": "fabe54cd0ae645a58d66d76fe32bc666",
       "version_major": 2,
       "version_minor": 0
      },
      "text/plain": [
       "Backtest.optimize:   0%|          | 0/9 [00:00<?, ?it/s]"
      ]
     },
     "metadata": {},
     "output_type": "display_data"
    },
    {
     "data": {
      "application/vnd.jupyter.widget-view+json": {
       "model_id": "167dd670c2f542f8a20a7b3cb44c6aeb",
       "version_major": 2,
       "version_minor": 0
      },
      "text/plain": [
       "Backtest.optimize:   0%|          | 0/9 [00:00<?, ?it/s]"
      ]
     },
     "metadata": {},
     "output_type": "display_data"
    },
    {
     "data": {
      "application/vnd.jupyter.widget-view+json": {
       "model_id": "8ffa3e597eaf487ab09fd3e137ddec0e",
       "version_major": 2,
       "version_minor": 0
      },
      "text/plain": [
       "Backtest.optimize:   0%|          | 0/9 [00:00<?, ?it/s]"
      ]
     },
     "metadata": {},
     "output_type": "display_data"
    },
    {
     "data": {
      "application/vnd.jupyter.widget-view+json": {
       "model_id": "0428dee4384e4bd18ebf4a842d607480",
       "version_major": 2,
       "version_minor": 0
      },
      "text/plain": [
       "Backtest.optimize:   0%|          | 0/9 [00:00<?, ?it/s]"
      ]
     },
     "metadata": {},
     "output_type": "display_data"
    },
    {
     "data": {
      "application/vnd.jupyter.widget-view+json": {
       "model_id": "272aaf7e6062483bade7852d5a0d7c2f",
       "version_major": 2,
       "version_minor": 0
      },
      "text/plain": [
       "Backtest.optimize:   0%|          | 0/9 [00:00<?, ?it/s]"
      ]
     },
     "metadata": {},
     "output_type": "display_data"
    },
    {
     "data": {
      "application/vnd.jupyter.widget-view+json": {
       "model_id": "ec548e0f278c4e5ea0eec8e3dc2507cf",
       "version_major": 2,
       "version_minor": 0
      },
      "text/plain": [
       "Backtest.optimize:   0%|          | 0/9 [00:00<?, ?it/s]"
      ]
     },
     "metadata": {},
     "output_type": "display_data"
    },
    {
     "data": {
      "application/vnd.jupyter.widget-view+json": {
       "model_id": "43c81c10045f436f9e18d2107cb1f2fe",
       "version_major": 2,
       "version_minor": 0
      },
      "text/plain": [
       "Backtest.optimize:   0%|          | 0/9 [00:00<?, ?it/s]"
      ]
     },
     "metadata": {},
     "output_type": "display_data"
    },
    {
     "data": {
      "application/vnd.jupyter.widget-view+json": {
       "model_id": "1df4ef368c1545d3af4baa69c729c61c",
       "version_major": 2,
       "version_minor": 0
      },
      "text/plain": [
       "Backtest.optimize:   0%|          | 0/9 [00:00<?, ?it/s]"
      ]
     },
     "metadata": {},
     "output_type": "display_data"
    },
    {
     "data": {
      "application/vnd.jupyter.widget-view+json": {
       "model_id": "8519da35d9204b4d9da4348073f84153",
       "version_major": 2,
       "version_minor": 0
      },
      "text/plain": [
       "Backtest.optimize:   0%|          | 0/9 [00:00<?, ?it/s]"
      ]
     },
     "metadata": {},
     "output_type": "display_data"
    },
    {
     "data": {
      "application/vnd.jupyter.widget-view+json": {
       "model_id": "f21a950445cc4a8a864a71121bba96bf",
       "version_major": 2,
       "version_minor": 0
      },
      "text/plain": [
       "Backtest.optimize:   0%|          | 0/9 [00:00<?, ?it/s]"
      ]
     },
     "metadata": {},
     "output_type": "display_data"
    },
    {
     "data": {
      "application/vnd.jupyter.widget-view+json": {
       "model_id": "f4c1fc85f2b54cb3bbce248eb6343e6d",
       "version_major": 2,
       "version_minor": 0
      },
      "text/plain": [
       "Backtest.optimize:   0%|          | 0/9 [00:00<?, ?it/s]"
      ]
     },
     "metadata": {},
     "output_type": "display_data"
    },
    {
     "data": {
      "application/vnd.jupyter.widget-view+json": {
       "model_id": "a70a0bb074d8429cbba5e6e113d1c639",
       "version_major": 2,
       "version_minor": 0
      },
      "text/plain": [
       "Backtest.optimize:   0%|          | 0/9 [00:00<?, ?it/s]"
      ]
     },
     "metadata": {},
     "output_type": "display_data"
    },
    {
     "data": {
      "application/vnd.jupyter.widget-view+json": {
       "model_id": "a2ce33307f524efa8db52c671459ba75",
       "version_major": 2,
       "version_minor": 0
      },
      "text/plain": [
       "Backtest.optimize:   0%|          | 0/9 [00:00<?, ?it/s]"
      ]
     },
     "metadata": {},
     "output_type": "display_data"
    },
    {
     "data": {
      "application/vnd.jupyter.widget-view+json": {
       "model_id": "9ff2b98720e34c23ad46d5ed24fa43a8",
       "version_major": 2,
       "version_minor": 0
      },
      "text/plain": [
       "Backtest.optimize:   0%|          | 0/9 [00:00<?, ?it/s]"
      ]
     },
     "metadata": {},
     "output_type": "display_data"
    },
    {
     "data": {
      "application/vnd.jupyter.widget-view+json": {
       "model_id": "3f3b0d07fa734f3fbaa4a18419ed4cc1",
       "version_major": 2,
       "version_minor": 0
      },
      "text/plain": [
       "Backtest.optimize:   0%|          | 0/9 [00:00<?, ?it/s]"
      ]
     },
     "metadata": {},
     "output_type": "display_data"
    },
    {
     "data": {
      "application/vnd.jupyter.widget-view+json": {
       "model_id": "9c84f1f689d04f288ecd6a593fd8632c",
       "version_major": 2,
       "version_minor": 0
      },
      "text/plain": [
       "Backtest.optimize:   0%|          | 0/9 [00:00<?, ?it/s]"
      ]
     },
     "metadata": {},
     "output_type": "display_data"
    },
    {
     "data": {
      "application/vnd.jupyter.widget-view+json": {
       "model_id": "9be928fe53254133b3a4a17ea5aa0782",
       "version_major": 2,
       "version_minor": 0
      },
      "text/plain": [
       "Backtest.optimize:   0%|          | 0/9 [00:00<?, ?it/s]"
      ]
     },
     "metadata": {},
     "output_type": "display_data"
    },
    {
     "data": {
      "application/vnd.jupyter.widget-view+json": {
       "model_id": "59839e70e34f495780c2b092bed35819",
       "version_major": 2,
       "version_minor": 0
      },
      "text/plain": [
       "Backtest.optimize:   0%|          | 0/9 [00:00<?, ?it/s]"
      ]
     },
     "metadata": {},
     "output_type": "display_data"
    },
    {
     "data": {
      "application/vnd.jupyter.widget-view+json": {
       "model_id": "52e0d7ec6cbf495782cf75dfd1635804",
       "version_major": 2,
       "version_minor": 0
      },
      "text/plain": [
       "Backtest.optimize:   0%|          | 0/9 [00:00<?, ?it/s]"
      ]
     },
     "metadata": {},
     "output_type": "display_data"
    },
    {
     "data": {
      "application/vnd.jupyter.widget-view+json": {
       "model_id": "ca7ccb84d16a47e5a7fc6b2674cde476",
       "version_major": 2,
       "version_minor": 0
      },
      "text/plain": [
       "Backtest.optimize:   0%|          | 0/9 [00:00<?, ?it/s]"
      ]
     },
     "metadata": {},
     "output_type": "display_data"
    },
    {
     "data": {
      "application/vnd.jupyter.widget-view+json": {
       "model_id": "95cf1dbcf73f4a84a9445f497aa404a2",
       "version_major": 2,
       "version_minor": 0
      },
      "text/plain": [
       "Backtest.optimize:   0%|          | 0/9 [00:00<?, ?it/s]"
      ]
     },
     "metadata": {},
     "output_type": "display_data"
    },
    {
     "data": {
      "application/vnd.jupyter.widget-view+json": {
       "model_id": "1eb0f7c141854e7d8629ca3cc183ad08",
       "version_major": 2,
       "version_minor": 0
      },
      "text/plain": [
       "Backtest.optimize:   0%|          | 0/9 [00:00<?, ?it/s]"
      ]
     },
     "metadata": {},
     "output_type": "display_data"
    },
    {
     "data": {
      "application/vnd.jupyter.widget-view+json": {
       "model_id": "84756e0788be4f5eb7f7794a91e090a9",
       "version_major": 2,
       "version_minor": 0
      },
      "text/plain": [
       "Backtest.optimize:   0%|          | 0/9 [00:00<?, ?it/s]"
      ]
     },
     "metadata": {},
     "output_type": "display_data"
    },
    {
     "data": {
      "application/vnd.jupyter.widget-view+json": {
       "model_id": "199ab2cf23604d92a82af3b41966e57c",
       "version_major": 2,
       "version_minor": 0
      },
      "text/plain": [
       "Backtest.optimize:   0%|          | 0/9 [00:00<?, ?it/s]"
      ]
     },
     "metadata": {},
     "output_type": "display_data"
    },
    {
     "data": {
      "application/vnd.jupyter.widget-view+json": {
       "model_id": "85bffae37a284e1ab1f1fee4550c43dd",
       "version_major": 2,
       "version_minor": 0
      },
      "text/plain": [
       "Backtest.optimize:   0%|          | 0/9 [00:00<?, ?it/s]"
      ]
     },
     "metadata": {},
     "output_type": "display_data"
    },
    {
     "data": {
      "application/vnd.jupyter.widget-view+json": {
       "model_id": "5176d70567c842dc8fe20a9422e552b4",
       "version_major": 2,
       "version_minor": 0
      },
      "text/plain": [
       "Backtest.optimize:   0%|          | 0/9 [00:00<?, ?it/s]"
      ]
     },
     "metadata": {},
     "output_type": "display_data"
    },
    {
     "data": {
      "application/vnd.jupyter.widget-view+json": {
       "model_id": "90c48b49ecaa420f982d598de208f8b3",
       "version_major": 2,
       "version_minor": 0
      },
      "text/plain": [
       "Backtest.optimize:   0%|          | 0/9 [00:00<?, ?it/s]"
      ]
     },
     "metadata": {},
     "output_type": "display_data"
    },
    {
     "data": {
      "application/vnd.jupyter.widget-view+json": {
       "model_id": "83aa7505f0d942aebb786ce3a9363536",
       "version_major": 2,
       "version_minor": 0
      },
      "text/plain": [
       "Backtest.optimize:   0%|          | 0/9 [00:00<?, ?it/s]"
      ]
     },
     "metadata": {},
     "output_type": "display_data"
    },
    {
     "data": {
      "application/vnd.jupyter.widget-view+json": {
       "model_id": "ea5f95eadb064751be0be2b66765d9b9",
       "version_major": 2,
       "version_minor": 0
      },
      "text/plain": [
       "Backtest.optimize:   0%|          | 0/9 [00:00<?, ?it/s]"
      ]
     },
     "metadata": {},
     "output_type": "display_data"
    },
    {
     "data": {
      "application/vnd.jupyter.widget-view+json": {
       "model_id": "dc57a975ec5d4ab3b12ca05234d15f3e",
       "version_major": 2,
       "version_minor": 0
      },
      "text/plain": [
       "Backtest.optimize:   0%|          | 0/9 [00:00<?, ?it/s]"
      ]
     },
     "metadata": {},
     "output_type": "display_data"
    },
    {
     "data": {
      "application/vnd.jupyter.widget-view+json": {
       "model_id": "b707df98f4ff406fa99077643029bdb5",
       "version_major": 2,
       "version_minor": 0
      },
      "text/plain": [
       "Backtest.optimize:   0%|          | 0/9 [00:00<?, ?it/s]"
      ]
     },
     "metadata": {},
     "output_type": "display_data"
    },
    {
     "data": {
      "application/vnd.jupyter.widget-view+json": {
       "model_id": "13317484e02f4a6daa478256ef5edfc8",
       "version_major": 2,
       "version_minor": 0
      },
      "text/plain": [
       "Backtest.optimize:   0%|          | 0/9 [00:00<?, ?it/s]"
      ]
     },
     "metadata": {},
     "output_type": "display_data"
    },
    {
     "data": {
      "application/vnd.jupyter.widget-view+json": {
       "model_id": "325e0deccb5343ac8ccfe157c9fc6bb3",
       "version_major": 2,
       "version_minor": 0
      },
      "text/plain": [
       "Backtest.optimize:   0%|          | 0/9 [00:00<?, ?it/s]"
      ]
     },
     "metadata": {},
     "output_type": "display_data"
    },
    {
     "data": {
      "application/vnd.jupyter.widget-view+json": {
       "model_id": "7e89b8e4e26a4a98938248dfab19d04f",
       "version_major": 2,
       "version_minor": 0
      },
      "text/plain": [
       "Backtest.optimize:   0%|          | 0/9 [00:00<?, ?it/s]"
      ]
     },
     "metadata": {},
     "output_type": "display_data"
    },
    {
     "data": {
      "application/vnd.jupyter.widget-view+json": {
       "model_id": "14733564b2974626a0a32f712495637d",
       "version_major": 2,
       "version_minor": 0
      },
      "text/plain": [
       "Backtest.optimize:   0%|          | 0/9 [00:00<?, ?it/s]"
      ]
     },
     "metadata": {},
     "output_type": "display_data"
    },
    {
     "data": {
      "application/vnd.jupyter.widget-view+json": {
       "model_id": "0e193515fe374ad39ed5a6c4be4fb2ca",
       "version_major": 2,
       "version_minor": 0
      },
      "text/plain": [
       "Backtest.optimize:   0%|          | 0/9 [00:00<?, ?it/s]"
      ]
     },
     "metadata": {},
     "output_type": "display_data"
    },
    {
     "data": {
      "application/vnd.jupyter.widget-view+json": {
       "model_id": "c5332a7908734730ac10b999363f2c0e",
       "version_major": 2,
       "version_minor": 0
      },
      "text/plain": [
       "Backtest.optimize:   0%|          | 0/9 [00:00<?, ?it/s]"
      ]
     },
     "metadata": {},
     "output_type": "display_data"
    },
    {
     "data": {
      "application/vnd.jupyter.widget-view+json": {
       "model_id": "0d6e2b190b8f4dafaa682d64472c25fd",
       "version_major": 2,
       "version_minor": 0
      },
      "text/plain": [
       "Backtest.optimize:   0%|          | 0/9 [00:00<?, ?it/s]"
      ]
     },
     "metadata": {},
     "output_type": "display_data"
    },
    {
     "data": {
      "application/vnd.jupyter.widget-view+json": {
       "model_id": "3a0417b0e3384f3492d3e42a8aab1f2e",
       "version_major": 2,
       "version_minor": 0
      },
      "text/plain": [
       "Backtest.optimize:   0%|          | 0/9 [00:00<?, ?it/s]"
      ]
     },
     "metadata": {},
     "output_type": "display_data"
    },
    {
     "data": {
      "application/vnd.jupyter.widget-view+json": {
       "model_id": "1d7b20e6d787462d82854cd542f8052c",
       "version_major": 2,
       "version_minor": 0
      },
      "text/plain": [
       "Backtest.optimize:   0%|          | 0/9 [00:00<?, ?it/s]"
      ]
     },
     "metadata": {},
     "output_type": "display_data"
    },
    {
     "data": {
      "application/vnd.jupyter.widget-view+json": {
       "model_id": "0138c038796d4548970c6f4b1ab3bff6",
       "version_major": 2,
       "version_minor": 0
      },
      "text/plain": [
       "Backtest.optimize:   0%|          | 0/9 [00:00<?, ?it/s]"
      ]
     },
     "metadata": {},
     "output_type": "display_data"
    },
    {
     "data": {
      "application/vnd.jupyter.widget-view+json": {
       "model_id": "97516a1b53ef46c291d5f09fdb2399fe",
       "version_major": 2,
       "version_minor": 0
      },
      "text/plain": [
       "Backtest.optimize:   0%|          | 0/9 [00:00<?, ?it/s]"
      ]
     },
     "metadata": {},
     "output_type": "display_data"
    },
    {
     "data": {
      "application/vnd.jupyter.widget-view+json": {
       "model_id": "3f4b3fc460574d14b40b0630ae7dfab5",
       "version_major": 2,
       "version_minor": 0
      },
      "text/plain": [
       "Backtest.optimize:   0%|          | 0/9 [00:00<?, ?it/s]"
      ]
     },
     "metadata": {},
     "output_type": "display_data"
    },
    {
     "data": {
      "application/vnd.jupyter.widget-view+json": {
       "model_id": "8c6527f66b3a463cbed64c36bb2e6344",
       "version_major": 2,
       "version_minor": 0
      },
      "text/plain": [
       "Backtest.optimize:   0%|          | 0/9 [00:00<?, ?it/s]"
      ]
     },
     "metadata": {},
     "output_type": "display_data"
    },
    {
     "data": {
      "application/vnd.jupyter.widget-view+json": {
       "model_id": "3c478c4452fb4953ae6930a9bd17c195",
       "version_major": 2,
       "version_minor": 0
      },
      "text/plain": [
       "Backtest.optimize:   0%|          | 0/9 [00:00<?, ?it/s]"
      ]
     },
     "metadata": {},
     "output_type": "display_data"
    },
    {
     "data": {
      "application/vnd.jupyter.widget-view+json": {
       "model_id": "6d95865783654531987f52debba9f047",
       "version_major": 2,
       "version_minor": 0
      },
      "text/plain": [
       "Backtest.optimize:   0%|          | 0/9 [00:00<?, ?it/s]"
      ]
     },
     "metadata": {},
     "output_type": "display_data"
    },
    {
     "data": {
      "application/vnd.jupyter.widget-view+json": {
       "model_id": "c8e24bb8373c4619855a29033498c185",
       "version_major": 2,
       "version_minor": 0
      },
      "text/plain": [
       "Backtest.optimize:   0%|          | 0/9 [00:00<?, ?it/s]"
      ]
     },
     "metadata": {},
     "output_type": "display_data"
    },
    {
     "data": {
      "application/vnd.jupyter.widget-view+json": {
       "model_id": "2a69144c1b144e92bb24ddc47ee3a9f1",
       "version_major": 2,
       "version_minor": 0
      },
      "text/plain": [
       "Backtest.optimize:   0%|          | 0/9 [00:00<?, ?it/s]"
      ]
     },
     "metadata": {},
     "output_type": "display_data"
    },
    {
     "data": {
      "application/vnd.jupyter.widget-view+json": {
       "model_id": "fb4d105f339448b38b89a3b9341a6e84",
       "version_major": 2,
       "version_minor": 0
      },
      "text/plain": [
       "Backtest.optimize:   0%|          | 0/9 [00:00<?, ?it/s]"
      ]
     },
     "metadata": {},
     "output_type": "display_data"
    },
    {
     "data": {
      "application/vnd.jupyter.widget-view+json": {
       "model_id": "9b98462767c849699971734729a39616",
       "version_major": 2,
       "version_minor": 0
      },
      "text/plain": [
       "Backtest.optimize:   0%|          | 0/9 [00:00<?, ?it/s]"
      ]
     },
     "metadata": {},
     "output_type": "display_data"
    },
    {
     "data": {
      "application/vnd.jupyter.widget-view+json": {
       "model_id": "4cd79d334ba547c7b7101bcd41cdc19c",
       "version_major": 2,
       "version_minor": 0
      },
      "text/plain": [
       "Backtest.optimize:   0%|          | 0/9 [00:00<?, ?it/s]"
      ]
     },
     "metadata": {},
     "output_type": "display_data"
    },
    {
     "data": {
      "application/vnd.jupyter.widget-view+json": {
       "model_id": "ebfaa9b6c3dc43109b148d9c09e71cfa",
       "version_major": 2,
       "version_minor": 0
      },
      "text/plain": [
       "Backtest.optimize:   0%|          | 0/9 [00:00<?, ?it/s]"
      ]
     },
     "metadata": {},
     "output_type": "display_data"
    },
    {
     "data": {
      "application/vnd.jupyter.widget-view+json": {
       "model_id": "2678ba4a2fc5429bb416a27e0b2e0ea0",
       "version_major": 2,
       "version_minor": 0
      },
      "text/plain": [
       "Backtest.optimize:   0%|          | 0/9 [00:00<?, ?it/s]"
      ]
     },
     "metadata": {},
     "output_type": "display_data"
    },
    {
     "data": {
      "application/vnd.jupyter.widget-view+json": {
       "model_id": "91e2150ba6c749ae8ec3d280cd80f92a",
       "version_major": 2,
       "version_minor": 0
      },
      "text/plain": [
       "Backtest.optimize:   0%|          | 0/9 [00:00<?, ?it/s]"
      ]
     },
     "metadata": {},
     "output_type": "display_data"
    },
    {
     "data": {
      "application/vnd.jupyter.widget-view+json": {
       "model_id": "91ff42f14b4d435d8d6c9c6e8b23212d",
       "version_major": 2,
       "version_minor": 0
      },
      "text/plain": [
       "Backtest.optimize:   0%|          | 0/9 [00:00<?, ?it/s]"
      ]
     },
     "metadata": {},
     "output_type": "display_data"
    },
    {
     "data": {
      "application/vnd.jupyter.widget-view+json": {
       "model_id": "edfdd4380f434503be50cdb0193c24f8",
       "version_major": 2,
       "version_minor": 0
      },
      "text/plain": [
       "Backtest.optimize:   0%|          | 0/9 [00:00<?, ?it/s]"
      ]
     },
     "metadata": {},
     "output_type": "display_data"
    },
    {
     "data": {
      "application/vnd.jupyter.widget-view+json": {
       "model_id": "9ac59d281752492f93f8fc4e006ececd",
       "version_major": 2,
       "version_minor": 0
      },
      "text/plain": [
       "Backtest.optimize:   0%|          | 0/9 [00:00<?, ?it/s]"
      ]
     },
     "metadata": {},
     "output_type": "display_data"
    },
    {
     "data": {
      "application/vnd.jupyter.widget-view+json": {
       "model_id": "8449217d4dd148aeb49a7f0bd7953a39",
       "version_major": 2,
       "version_minor": 0
      },
      "text/plain": [
       "Backtest.optimize:   0%|          | 0/9 [00:00<?, ?it/s]"
      ]
     },
     "metadata": {},
     "output_type": "display_data"
    },
    {
     "data": {
      "application/vnd.jupyter.widget-view+json": {
       "model_id": "c4e5bcdeeac34bd4aae0ee6b344e7d42",
       "version_major": 2,
       "version_minor": 0
      },
      "text/plain": [
       "Backtest.optimize:   0%|          | 0/9 [00:00<?, ?it/s]"
      ]
     },
     "metadata": {},
     "output_type": "display_data"
    },
    {
     "data": {
      "application/vnd.jupyter.widget-view+json": {
       "model_id": "9599f1c22e0c479b8af6d06ee068b0ee",
       "version_major": 2,
       "version_minor": 0
      },
      "text/plain": [
       "Backtest.optimize:   0%|          | 0/9 [00:00<?, ?it/s]"
      ]
     },
     "metadata": {},
     "output_type": "display_data"
    },
    {
     "data": {
      "application/vnd.jupyter.widget-view+json": {
       "model_id": "87b5213dbf9248a0a385552596f97ef1",
       "version_major": 2,
       "version_minor": 0
      },
      "text/plain": [
       "Backtest.optimize:   0%|          | 0/9 [00:00<?, ?it/s]"
      ]
     },
     "metadata": {},
     "output_type": "display_data"
    },
    {
     "data": {
      "application/vnd.jupyter.widget-view+json": {
       "model_id": "4e0797f79c1f4298b0f8b09aa4e1cb03",
       "version_major": 2,
       "version_minor": 0
      },
      "text/plain": [
       "Backtest.optimize:   0%|          | 0/9 [00:00<?, ?it/s]"
      ]
     },
     "metadata": {},
     "output_type": "display_data"
    },
    {
     "data": {
      "application/vnd.jupyter.widget-view+json": {
       "model_id": "0aca7538da8f4e65b6ff232c494b70ea",
       "version_major": 2,
       "version_minor": 0
      },
      "text/plain": [
       "Backtest.optimize:   0%|          | 0/9 [00:00<?, ?it/s]"
      ]
     },
     "metadata": {},
     "output_type": "display_data"
    },
    {
     "data": {
      "application/vnd.jupyter.widget-view+json": {
       "model_id": "95717ab79a814835a90160e49b699f39",
       "version_major": 2,
       "version_minor": 0
      },
      "text/plain": [
       "Backtest.optimize:   0%|          | 0/9 [00:00<?, ?it/s]"
      ]
     },
     "metadata": {},
     "output_type": "display_data"
    },
    {
     "data": {
      "application/vnd.jupyter.widget-view+json": {
       "model_id": "b61f88a7bc1a40feafee1d7af54e812f",
       "version_major": 2,
       "version_minor": 0
      },
      "text/plain": [
       "Backtest.optimize:   0%|          | 0/9 [00:00<?, ?it/s]"
      ]
     },
     "metadata": {},
     "output_type": "display_data"
    },
    {
     "data": {
      "application/vnd.jupyter.widget-view+json": {
       "model_id": "40ae5b9dad7947029218162c8fee5003",
       "version_major": 2,
       "version_minor": 0
      },
      "text/plain": [
       "Backtest.optimize:   0%|          | 0/9 [00:00<?, ?it/s]"
      ]
     },
     "metadata": {},
     "output_type": "display_data"
    },
    {
     "data": {
      "application/vnd.jupyter.widget-view+json": {
       "model_id": "8697d2811c414628828aa0b0fe5d756d",
       "version_major": 2,
       "version_minor": 0
      },
      "text/plain": [
       "Backtest.optimize:   0%|          | 0/9 [00:00<?, ?it/s]"
      ]
     },
     "metadata": {},
     "output_type": "display_data"
    },
    {
     "data": {
      "application/vnd.jupyter.widget-view+json": {
       "model_id": "9ad34390c496443180b8b4b178af154f",
       "version_major": 2,
       "version_minor": 0
      },
      "text/plain": [
       "Backtest.optimize:   0%|          | 0/9 [00:00<?, ?it/s]"
      ]
     },
     "metadata": {},
     "output_type": "display_data"
    },
    {
     "name": "stderr",
     "output_type": "stream",
     "text": [
      "  2%|▏         | 1/60 [02:03<2:01:19, 123.38s/it]"
     ]
    },
    {
     "name": "stdout",
     "output_type": "stream",
     "text": [
      "BTC-USD : best_params: {'cash': 10000, 'maximize': 'Return [%]', 'max_tries': 300, 'method': 'grid', 'stats_item': 'Win Rate [%]', 'bb_std': 1.5, 'back_candles': 7, 'ema_period': 30, 'bb_period': 30, 'bb_width_threshold': 0.001, 'atr_period': 14, 'rsi_period': 14}, best_performance: 66.66666666666666\n",
      "BTC-USD : train_set: 2019-02-03 00:00:00 - 2019-08-21 00:00:00, test_set: 2019-08-22 00:00:00 - 2019-09-23 00:00:00\n"
     ]
    },
    {
     "data": {
      "application/vnd.jupyter.widget-view+json": {
       "model_id": "52102572105b44e0b2c8536672a46cc4",
       "version_major": 2,
       "version_minor": 0
      },
      "text/plain": [
       "Backtest.optimize:   0%|          | 0/9 [00:00<?, ?it/s]"
      ]
     },
     "metadata": {},
     "output_type": "display_data"
    },
    {
     "data": {
      "application/vnd.jupyter.widget-view+json": {
       "model_id": "785121fc9e3e4b09aaa2f0aae9422165",
       "version_major": 2,
       "version_minor": 0
      },
      "text/plain": [
       "Backtest.optimize:   0%|          | 0/9 [00:00<?, ?it/s]"
      ]
     },
     "metadata": {},
     "output_type": "display_data"
    },
    {
     "data": {
      "application/vnd.jupyter.widget-view+json": {
       "model_id": "7964643e3fa848bf977ca62c96ae0548",
       "version_major": 2,
       "version_minor": 0
      },
      "text/plain": [
       "Backtest.optimize:   0%|          | 0/9 [00:00<?, ?it/s]"
      ]
     },
     "metadata": {},
     "output_type": "display_data"
    },
    {
     "data": {
      "application/vnd.jupyter.widget-view+json": {
       "model_id": "54b428fd351d49fe8c39e10d3c0ffbdd",
       "version_major": 2,
       "version_minor": 0
      },
      "text/plain": [
       "Backtest.optimize:   0%|          | 0/9 [00:00<?, ?it/s]"
      ]
     },
     "metadata": {},
     "output_type": "display_data"
    },
    {
     "data": {
      "application/vnd.jupyter.widget-view+json": {
       "model_id": "0ad918cea3e240808e3ce83b52cafbc0",
       "version_major": 2,
       "version_minor": 0
      },
      "text/plain": [
       "Backtest.optimize:   0%|          | 0/9 [00:00<?, ?it/s]"
      ]
     },
     "metadata": {},
     "output_type": "display_data"
    },
    {
     "data": {
      "application/vnd.jupyter.widget-view+json": {
       "model_id": "e45d6deb8c1b4f03b9d5dfb0d9c27f0e",
       "version_major": 2,
       "version_minor": 0
      },
      "text/plain": [
       "Backtest.optimize:   0%|          | 0/9 [00:00<?, ?it/s]"
      ]
     },
     "metadata": {},
     "output_type": "display_data"
    },
    {
     "data": {
      "application/vnd.jupyter.widget-view+json": {
       "model_id": "3bb67089a6cd41e891daff2861a66be7",
       "version_major": 2,
       "version_minor": 0
      },
      "text/plain": [
       "Backtest.optimize:   0%|          | 0/9 [00:00<?, ?it/s]"
      ]
     },
     "metadata": {},
     "output_type": "display_data"
    },
    {
     "data": {
      "application/vnd.jupyter.widget-view+json": {
       "model_id": "438f38c5b7c14655a8244756d8ccf43a",
       "version_major": 2,
       "version_minor": 0
      },
      "text/plain": [
       "Backtest.optimize:   0%|          | 0/9 [00:00<?, ?it/s]"
      ]
     },
     "metadata": {},
     "output_type": "display_data"
    },
    {
     "data": {
      "application/vnd.jupyter.widget-view+json": {
       "model_id": "243e0b291db746a08bd8930e670749bb",
       "version_major": 2,
       "version_minor": 0
      },
      "text/plain": [
       "Backtest.optimize:   0%|          | 0/9 [00:00<?, ?it/s]"
      ]
     },
     "metadata": {},
     "output_type": "display_data"
    },
    {
     "data": {
      "application/vnd.jupyter.widget-view+json": {
       "model_id": "563aec1de9124a3bb83bffcc4b85cc9b",
       "version_major": 2,
       "version_minor": 0
      },
      "text/plain": [
       "Backtest.optimize:   0%|          | 0/9 [00:00<?, ?it/s]"
      ]
     },
     "metadata": {},
     "output_type": "display_data"
    },
    {
     "data": {
      "application/vnd.jupyter.widget-view+json": {
       "model_id": "b93361fba88c40bd827057fee7cf3cd8",
       "version_major": 2,
       "version_minor": 0
      },
      "text/plain": [
       "Backtest.optimize:   0%|          | 0/9 [00:00<?, ?it/s]"
      ]
     },
     "metadata": {},
     "output_type": "display_data"
    },
    {
     "data": {
      "application/vnd.jupyter.widget-view+json": {
       "model_id": "5ff6ca5ef8154d009330b00c89c37923",
       "version_major": 2,
       "version_minor": 0
      },
      "text/plain": [
       "Backtest.optimize:   0%|          | 0/9 [00:00<?, ?it/s]"
      ]
     },
     "metadata": {},
     "output_type": "display_data"
    },
    {
     "data": {
      "application/vnd.jupyter.widget-view+json": {
       "model_id": "863dc946193644e38b9521771d186c2f",
       "version_major": 2,
       "version_minor": 0
      },
      "text/plain": [
       "Backtest.optimize:   0%|          | 0/9 [00:00<?, ?it/s]"
      ]
     },
     "metadata": {},
     "output_type": "display_data"
    },
    {
     "data": {
      "application/vnd.jupyter.widget-view+json": {
       "model_id": "38b249bde7704c4d8cd3e3f9e1c0e2c0",
       "version_major": 2,
       "version_minor": 0
      },
      "text/plain": [
       "Backtest.optimize:   0%|          | 0/9 [00:00<?, ?it/s]"
      ]
     },
     "metadata": {},
     "output_type": "display_data"
    },
    {
     "data": {
      "application/vnd.jupyter.widget-view+json": {
       "model_id": "c8d216fe1b224bdc8a29f8f4ea5ab892",
       "version_major": 2,
       "version_minor": 0
      },
      "text/plain": [
       "Backtest.optimize:   0%|          | 0/9 [00:00<?, ?it/s]"
      ]
     },
     "metadata": {},
     "output_type": "display_data"
    },
    {
     "data": {
      "application/vnd.jupyter.widget-view+json": {
       "model_id": "78f5ee908641483696a0701dabae10f0",
       "version_major": 2,
       "version_minor": 0
      },
      "text/plain": [
       "Backtest.optimize:   0%|          | 0/9 [00:00<?, ?it/s]"
      ]
     },
     "metadata": {},
     "output_type": "display_data"
    },
    {
     "data": {
      "application/vnd.jupyter.widget-view+json": {
       "model_id": "421ec2c8f9974c5e985c8d42bf0a32ee",
       "version_major": 2,
       "version_minor": 0
      },
      "text/plain": [
       "Backtest.optimize:   0%|          | 0/9 [00:00<?, ?it/s]"
      ]
     },
     "metadata": {},
     "output_type": "display_data"
    },
    {
     "data": {
      "application/vnd.jupyter.widget-view+json": {
       "model_id": "a25500908b3e4a55bcdcd4fae45f313d",
       "version_major": 2,
       "version_minor": 0
      },
      "text/plain": [
       "Backtest.optimize:   0%|          | 0/9 [00:00<?, ?it/s]"
      ]
     },
     "metadata": {},
     "output_type": "display_data"
    },
    {
     "data": {
      "application/vnd.jupyter.widget-view+json": {
       "model_id": "16b6e70426c740e083aee966799babbb",
       "version_major": 2,
       "version_minor": 0
      },
      "text/plain": [
       "Backtest.optimize:   0%|          | 0/9 [00:00<?, ?it/s]"
      ]
     },
     "metadata": {},
     "output_type": "display_data"
    },
    {
     "data": {
      "application/vnd.jupyter.widget-view+json": {
       "model_id": "2a5c5ab0c0c1402ebb8e3ef5a971bacb",
       "version_major": 2,
       "version_minor": 0
      },
      "text/plain": [
       "Backtest.optimize:   0%|          | 0/9 [00:00<?, ?it/s]"
      ]
     },
     "metadata": {},
     "output_type": "display_data"
    },
    {
     "data": {
      "application/vnd.jupyter.widget-view+json": {
       "model_id": "937fa1fc9c7b4324adc8165049626dca",
       "version_major": 2,
       "version_minor": 0
      },
      "text/plain": [
       "Backtest.optimize:   0%|          | 0/9 [00:00<?, ?it/s]"
      ]
     },
     "metadata": {},
     "output_type": "display_data"
    },
    {
     "data": {
      "application/vnd.jupyter.widget-view+json": {
       "model_id": "348678aae4164d0784a15a7471517ced",
       "version_major": 2,
       "version_minor": 0
      },
      "text/plain": [
       "Backtest.optimize:   0%|          | 0/9 [00:00<?, ?it/s]"
      ]
     },
     "metadata": {},
     "output_type": "display_data"
    },
    {
     "data": {
      "application/vnd.jupyter.widget-view+json": {
       "model_id": "fd2596c035614ba9897a86ebf58a53e9",
       "version_major": 2,
       "version_minor": 0
      },
      "text/plain": [
       "Backtest.optimize:   0%|          | 0/9 [00:00<?, ?it/s]"
      ]
     },
     "metadata": {},
     "output_type": "display_data"
    },
    {
     "data": {
      "application/vnd.jupyter.widget-view+json": {
       "model_id": "94cd0eb7753847dda1fc1398d009e9f8",
       "version_major": 2,
       "version_minor": 0
      },
      "text/plain": [
       "Backtest.optimize:   0%|          | 0/9 [00:00<?, ?it/s]"
      ]
     },
     "metadata": {},
     "output_type": "display_data"
    },
    {
     "data": {
      "application/vnd.jupyter.widget-view+json": {
       "model_id": "32dd947514624ba693b0af6c1fa59240",
       "version_major": 2,
       "version_minor": 0
      },
      "text/plain": [
       "Backtest.optimize:   0%|          | 0/9 [00:00<?, ?it/s]"
      ]
     },
     "metadata": {},
     "output_type": "display_data"
    },
    {
     "data": {
      "application/vnd.jupyter.widget-view+json": {
       "model_id": "487e5f6f842c462495c5083b3d65e94c",
       "version_major": 2,
       "version_minor": 0
      },
      "text/plain": [
       "Backtest.optimize:   0%|          | 0/9 [00:00<?, ?it/s]"
      ]
     },
     "metadata": {},
     "output_type": "display_data"
    },
    {
     "data": {
      "application/vnd.jupyter.widget-view+json": {
       "model_id": "8108730984a0408ea0375624f215f74b",
       "version_major": 2,
       "version_minor": 0
      },
      "text/plain": [
       "Backtest.optimize:   0%|          | 0/9 [00:00<?, ?it/s]"
      ]
     },
     "metadata": {},
     "output_type": "display_data"
    },
    {
     "data": {
      "application/vnd.jupyter.widget-view+json": {
       "model_id": "49b22e2e7a8e4b93a26273b25bb74819",
       "version_major": 2,
       "version_minor": 0
      },
      "text/plain": [
       "Backtest.optimize:   0%|          | 0/9 [00:00<?, ?it/s]"
      ]
     },
     "metadata": {},
     "output_type": "display_data"
    },
    {
     "name": "stdout",
     "output_type": "stream",
     "text": [
      "Performance, current: 33.33333333333333, best_performance: -inf\n"
     ]
    },
    {
     "data": {
      "application/vnd.jupyter.widget-view+json": {
       "model_id": "3d28d9c824b5469489ae10237190b86d",
       "version_major": 2,
       "version_minor": 0
      },
      "text/plain": [
       "Backtest.optimize:   0%|          | 0/9 [00:00<?, ?it/s]"
      ]
     },
     "metadata": {},
     "output_type": "display_data"
    },
    {
     "data": {
      "application/vnd.jupyter.widget-view+json": {
       "model_id": "f3f8c5fa6e254ca983bc56eb98eba8b8",
       "version_major": 2,
       "version_minor": 0
      },
      "text/plain": [
       "Backtest.optimize:   0%|          | 0/9 [00:00<?, ?it/s]"
      ]
     },
     "metadata": {},
     "output_type": "display_data"
    },
    {
     "name": "stdout",
     "output_type": "stream",
     "text": [
      "Performance, current: 50.0, best_performance: 33.33333333333333\n"
     ]
    },
    {
     "data": {
      "application/vnd.jupyter.widget-view+json": {
       "model_id": "727e8d14cacf479e991e23ce7b12e79f",
       "version_major": 2,
       "version_minor": 0
      },
      "text/plain": [
       "Backtest.optimize:   0%|          | 0/9 [00:00<?, ?it/s]"
      ]
     },
     "metadata": {},
     "output_type": "display_data"
    },
    {
     "data": {
      "application/vnd.jupyter.widget-view+json": {
       "model_id": "51ddff980b754de5bb9c4c8a0dbc05f1",
       "version_major": 2,
       "version_minor": 0
      },
      "text/plain": [
       "Backtest.optimize:   0%|          | 0/9 [00:00<?, ?it/s]"
      ]
     },
     "metadata": {},
     "output_type": "display_data"
    },
    {
     "data": {
      "application/vnd.jupyter.widget-view+json": {
       "model_id": "35de6d6821ea47c0bfa1bd3d2097328a",
       "version_major": 2,
       "version_minor": 0
      },
      "text/plain": [
       "Backtest.optimize:   0%|          | 0/9 [00:00<?, ?it/s]"
      ]
     },
     "metadata": {},
     "output_type": "display_data"
    },
    {
     "data": {
      "application/vnd.jupyter.widget-view+json": {
       "model_id": "88510d2667744f418078cfaf31faa315",
       "version_major": 2,
       "version_minor": 0
      },
      "text/plain": [
       "Backtest.optimize:   0%|          | 0/9 [00:00<?, ?it/s]"
      ]
     },
     "metadata": {},
     "output_type": "display_data"
    },
    {
     "data": {
      "application/vnd.jupyter.widget-view+json": {
       "model_id": "f0cfcc3b283c486495b6f8b1ea079a12",
       "version_major": 2,
       "version_minor": 0
      },
      "text/plain": [
       "Backtest.optimize:   0%|          | 0/9 [00:00<?, ?it/s]"
      ]
     },
     "metadata": {},
     "output_type": "display_data"
    },
    {
     "data": {
      "application/vnd.jupyter.widget-view+json": {
       "model_id": "df5ed33e971747e8b14c39b84c6b75aa",
       "version_major": 2,
       "version_minor": 0
      },
      "text/plain": [
       "Backtest.optimize:   0%|          | 0/9 [00:00<?, ?it/s]"
      ]
     },
     "metadata": {},
     "output_type": "display_data"
    },
    {
     "data": {
      "application/vnd.jupyter.widget-view+json": {
       "model_id": "03a5f35f5f554566b455fc694fb23266",
       "version_major": 2,
       "version_minor": 0
      },
      "text/plain": [
       "Backtest.optimize:   0%|          | 0/9 [00:00<?, ?it/s]"
      ]
     },
     "metadata": {},
     "output_type": "display_data"
    },
    {
     "data": {
      "application/vnd.jupyter.widget-view+json": {
       "model_id": "fef3945a95bb46c8b273f875f2785c1a",
       "version_major": 2,
       "version_minor": 0
      },
      "text/plain": [
       "Backtest.optimize:   0%|          | 0/9 [00:00<?, ?it/s]"
      ]
     },
     "metadata": {},
     "output_type": "display_data"
    },
    {
     "data": {
      "application/vnd.jupyter.widget-view+json": {
       "model_id": "42af0de523f14e318eedfe8e957f4591",
       "version_major": 2,
       "version_minor": 0
      },
      "text/plain": [
       "Backtest.optimize:   0%|          | 0/9 [00:00<?, ?it/s]"
      ]
     },
     "metadata": {},
     "output_type": "display_data"
    },
    {
     "data": {
      "application/vnd.jupyter.widget-view+json": {
       "model_id": "25be5b01457340e79b066a9a8122a8b3",
       "version_major": 2,
       "version_minor": 0
      },
      "text/plain": [
       "Backtest.optimize:   0%|          | 0/9 [00:00<?, ?it/s]"
      ]
     },
     "metadata": {},
     "output_type": "display_data"
    },
    {
     "data": {
      "application/vnd.jupyter.widget-view+json": {
       "model_id": "a36fb832eda54a67838cec7d675cc1fb",
       "version_major": 2,
       "version_minor": 0
      },
      "text/plain": [
       "Backtest.optimize:   0%|          | 0/9 [00:00<?, ?it/s]"
      ]
     },
     "metadata": {},
     "output_type": "display_data"
    },
    {
     "data": {
      "application/vnd.jupyter.widget-view+json": {
       "model_id": "39287ffc6f6e485ea2d642b4d548c64e",
       "version_major": 2,
       "version_minor": 0
      },
      "text/plain": [
       "Backtest.optimize:   0%|          | 0/9 [00:00<?, ?it/s]"
      ]
     },
     "metadata": {},
     "output_type": "display_data"
    },
    {
     "data": {
      "application/vnd.jupyter.widget-view+json": {
       "model_id": "42e15697ef234aeeb506b2e964e521f8",
       "version_major": 2,
       "version_minor": 0
      },
      "text/plain": [
       "Backtest.optimize:   0%|          | 0/9 [00:00<?, ?it/s]"
      ]
     },
     "metadata": {},
     "output_type": "display_data"
    },
    {
     "data": {
      "application/vnd.jupyter.widget-view+json": {
       "model_id": "d11eb90b94274c3cb966ae94e237a58b",
       "version_major": 2,
       "version_minor": 0
      },
      "text/plain": [
       "Backtest.optimize:   0%|          | 0/9 [00:00<?, ?it/s]"
      ]
     },
     "metadata": {},
     "output_type": "display_data"
    },
    {
     "data": {
      "application/vnd.jupyter.widget-view+json": {
       "model_id": "2ee9a43f391846a3a6619c30b42ead5d",
       "version_major": 2,
       "version_minor": 0
      },
      "text/plain": [
       "Backtest.optimize:   0%|          | 0/9 [00:00<?, ?it/s]"
      ]
     },
     "metadata": {},
     "output_type": "display_data"
    },
    {
     "data": {
      "application/vnd.jupyter.widget-view+json": {
       "model_id": "1d28e2d6482b4e05a48bbaf1a22daba5",
       "version_major": 2,
       "version_minor": 0
      },
      "text/plain": [
       "Backtest.optimize:   0%|          | 0/9 [00:00<?, ?it/s]"
      ]
     },
     "metadata": {},
     "output_type": "display_data"
    },
    {
     "data": {
      "application/vnd.jupyter.widget-view+json": {
       "model_id": "577749ae6d224d569500f9c88890bd39",
       "version_major": 2,
       "version_minor": 0
      },
      "text/plain": [
       "Backtest.optimize:   0%|          | 0/9 [00:00<?, ?it/s]"
      ]
     },
     "metadata": {},
     "output_type": "display_data"
    },
    {
     "data": {
      "application/vnd.jupyter.widget-view+json": {
       "model_id": "f6989823dbe246d487e4b9414f1b4190",
       "version_major": 2,
       "version_minor": 0
      },
      "text/plain": [
       "Backtest.optimize:   0%|          | 0/9 [00:00<?, ?it/s]"
      ]
     },
     "metadata": {},
     "output_type": "display_data"
    },
    {
     "data": {
      "application/vnd.jupyter.widget-view+json": {
       "model_id": "91ce4e8f4ea349c282cdd28c1c8ce272",
       "version_major": 2,
       "version_minor": 0
      },
      "text/plain": [
       "Backtest.optimize:   0%|          | 0/9 [00:00<?, ?it/s]"
      ]
     },
     "metadata": {},
     "output_type": "display_data"
    },
    {
     "data": {
      "application/vnd.jupyter.widget-view+json": {
       "model_id": "a52049154b2c4fa588af2b309e764853",
       "version_major": 2,
       "version_minor": 0
      },
      "text/plain": [
       "Backtest.optimize:   0%|          | 0/9 [00:00<?, ?it/s]"
      ]
     },
     "metadata": {},
     "output_type": "display_data"
    },
    {
     "data": {
      "application/vnd.jupyter.widget-view+json": {
       "model_id": "d8edb5e97a4d4676af201af43a2a3192",
       "version_major": 2,
       "version_minor": 0
      },
      "text/plain": [
       "Backtest.optimize:   0%|          | 0/9 [00:00<?, ?it/s]"
      ]
     },
     "metadata": {},
     "output_type": "display_data"
    },
    {
     "data": {
      "application/vnd.jupyter.widget-view+json": {
       "model_id": "881c12e85428434e82dc6a0cbccba7b7",
       "version_major": 2,
       "version_minor": 0
      },
      "text/plain": [
       "Backtest.optimize:   0%|          | 0/9 [00:00<?, ?it/s]"
      ]
     },
     "metadata": {},
     "output_type": "display_data"
    },
    {
     "data": {
      "application/vnd.jupyter.widget-view+json": {
       "model_id": "0ecaaf24c80a47bc9bbd83a9a1a57ae9",
       "version_major": 2,
       "version_minor": 0
      },
      "text/plain": [
       "Backtest.optimize:   0%|          | 0/9 [00:00<?, ?it/s]"
      ]
     },
     "metadata": {},
     "output_type": "display_data"
    },
    {
     "data": {
      "application/vnd.jupyter.widget-view+json": {
       "model_id": "945eacc508e74b9894cb413ecce6292e",
       "version_major": 2,
       "version_minor": 0
      },
      "text/plain": [
       "Backtest.optimize:   0%|          | 0/9 [00:00<?, ?it/s]"
      ]
     },
     "metadata": {},
     "output_type": "display_data"
    },
    {
     "data": {
      "application/vnd.jupyter.widget-view+json": {
       "model_id": "8a3ad5c2417c49b7adba5796f08db689",
       "version_major": 2,
       "version_minor": 0
      },
      "text/plain": [
       "Backtest.optimize:   0%|          | 0/9 [00:00<?, ?it/s]"
      ]
     },
     "metadata": {},
     "output_type": "display_data"
    },
    {
     "data": {
      "application/vnd.jupyter.widget-view+json": {
       "model_id": "b9fd8baee62142598d8b08b0ebb6f231",
       "version_major": 2,
       "version_minor": 0
      },
      "text/plain": [
       "Backtest.optimize:   0%|          | 0/9 [00:00<?, ?it/s]"
      ]
     },
     "metadata": {},
     "output_type": "display_data"
    },
    {
     "data": {
      "application/vnd.jupyter.widget-view+json": {
       "model_id": "1d5daef53dc64136a1221df1e2e944ae",
       "version_major": 2,
       "version_minor": 0
      },
      "text/plain": [
       "Backtest.optimize:   0%|          | 0/9 [00:00<?, ?it/s]"
      ]
     },
     "metadata": {},
     "output_type": "display_data"
    },
    {
     "data": {
      "application/vnd.jupyter.widget-view+json": {
       "model_id": "da544502a5f54f88a3f24c6df965a984",
       "version_major": 2,
       "version_minor": 0
      },
      "text/plain": [
       "Backtest.optimize:   0%|          | 0/9 [00:00<?, ?it/s]"
      ]
     },
     "metadata": {},
     "output_type": "display_data"
    },
    {
     "data": {
      "application/vnd.jupyter.widget-view+json": {
       "model_id": "d7201bff1fb84336937f3103ac2e9557",
       "version_major": 2,
       "version_minor": 0
      },
      "text/plain": [
       "Backtest.optimize:   0%|          | 0/9 [00:00<?, ?it/s]"
      ]
     },
     "metadata": {},
     "output_type": "display_data"
    },
    {
     "data": {
      "application/vnd.jupyter.widget-view+json": {
       "model_id": "0502a71d7eac4a43a2c55ff16032f170",
       "version_major": 2,
       "version_minor": 0
      },
      "text/plain": [
       "Backtest.optimize:   0%|          | 0/9 [00:00<?, ?it/s]"
      ]
     },
     "metadata": {},
     "output_type": "display_data"
    },
    {
     "data": {
      "application/vnd.jupyter.widget-view+json": {
       "model_id": "75a6b06bf48a4e1da07b25f410f1716c",
       "version_major": 2,
       "version_minor": 0
      },
      "text/plain": [
       "Backtest.optimize:   0%|          | 0/9 [00:00<?, ?it/s]"
      ]
     },
     "metadata": {},
     "output_type": "display_data"
    },
    {
     "data": {
      "application/vnd.jupyter.widget-view+json": {
       "model_id": "9b6a2003b0544feb886279d2b713cec8",
       "version_major": 2,
       "version_minor": 0
      },
      "text/plain": [
       "Backtest.optimize:   0%|          | 0/9 [00:00<?, ?it/s]"
      ]
     },
     "metadata": {},
     "output_type": "display_data"
    },
    {
     "data": {
      "application/vnd.jupyter.widget-view+json": {
       "model_id": "4576b44c77ea43e8ab459182a0516189",
       "version_major": 2,
       "version_minor": 0
      },
      "text/plain": [
       "Backtest.optimize:   0%|          | 0/9 [00:00<?, ?it/s]"
      ]
     },
     "metadata": {},
     "output_type": "display_data"
    },
    {
     "data": {
      "application/vnd.jupyter.widget-view+json": {
       "model_id": "e0a13f7eff9f4a1187d1a9abb5728c53",
       "version_major": 2,
       "version_minor": 0
      },
      "text/plain": [
       "Backtest.optimize:   0%|          | 0/9 [00:00<?, ?it/s]"
      ]
     },
     "metadata": {},
     "output_type": "display_data"
    },
    {
     "data": {
      "application/vnd.jupyter.widget-view+json": {
       "model_id": "ab9507af726244c5a0ce04ff4e78f42a",
       "version_major": 2,
       "version_minor": 0
      },
      "text/plain": [
       "Backtest.optimize:   0%|          | 0/9 [00:00<?, ?it/s]"
      ]
     },
     "metadata": {},
     "output_type": "display_data"
    },
    {
     "data": {
      "application/vnd.jupyter.widget-view+json": {
       "model_id": "abf039a49c2c482fbcdc91c215cd0263",
       "version_major": 2,
       "version_minor": 0
      },
      "text/plain": [
       "Backtest.optimize:   0%|          | 0/9 [00:00<?, ?it/s]"
      ]
     },
     "metadata": {},
     "output_type": "display_data"
    },
    {
     "data": {
      "application/vnd.jupyter.widget-view+json": {
       "model_id": "c9f1714a41554be78666a2d826e4c92b",
       "version_major": 2,
       "version_minor": 0
      },
      "text/plain": [
       "Backtest.optimize:   0%|          | 0/9 [00:00<?, ?it/s]"
      ]
     },
     "metadata": {},
     "output_type": "display_data"
    },
    {
     "data": {
      "application/vnd.jupyter.widget-view+json": {
       "model_id": "12bda98709ae45458dc2c095461aa123",
       "version_major": 2,
       "version_minor": 0
      },
      "text/plain": [
       "Backtest.optimize:   0%|          | 0/9 [00:00<?, ?it/s]"
      ]
     },
     "metadata": {},
     "output_type": "display_data"
    },
    {
     "data": {
      "application/vnd.jupyter.widget-view+json": {
       "model_id": "b174a6f5de0a4d999176efa3aaff649d",
       "version_major": 2,
       "version_minor": 0
      },
      "text/plain": [
       "Backtest.optimize:   0%|          | 0/9 [00:00<?, ?it/s]"
      ]
     },
     "metadata": {},
     "output_type": "display_data"
    },
    {
     "data": {
      "application/vnd.jupyter.widget-view+json": {
       "model_id": "f32501c3cc754d8d9bec64a31d661a33",
       "version_major": 2,
       "version_minor": 0
      },
      "text/plain": [
       "Backtest.optimize:   0%|          | 0/9 [00:00<?, ?it/s]"
      ]
     },
     "metadata": {},
     "output_type": "display_data"
    },
    {
     "data": {
      "application/vnd.jupyter.widget-view+json": {
       "model_id": "06ee0b773ce64f77b93d56157e45fb20",
       "version_major": 2,
       "version_minor": 0
      },
      "text/plain": [
       "Backtest.optimize:   0%|          | 0/9 [00:00<?, ?it/s]"
      ]
     },
     "metadata": {},
     "output_type": "display_data"
    },
    {
     "data": {
      "application/vnd.jupyter.widget-view+json": {
       "model_id": "fb084134c1f44c438eba2109aece93d8",
       "version_major": 2,
       "version_minor": 0
      },
      "text/plain": [
       "Backtest.optimize:   0%|          | 0/9 [00:00<?, ?it/s]"
      ]
     },
     "metadata": {},
     "output_type": "display_data"
    },
    {
     "data": {
      "application/vnd.jupyter.widget-view+json": {
       "model_id": "5582ae0b192d45fb8ee99565cf5a643e",
       "version_major": 2,
       "version_minor": 0
      },
      "text/plain": [
       "Backtest.optimize:   0%|          | 0/9 [00:00<?, ?it/s]"
      ]
     },
     "metadata": {},
     "output_type": "display_data"
    },
    {
     "data": {
      "application/vnd.jupyter.widget-view+json": {
       "model_id": "bbcc3e378fcc44969910f1abdd7a3d1b",
       "version_major": 2,
       "version_minor": 0
      },
      "text/plain": [
       "Backtest.optimize:   0%|          | 0/9 [00:00<?, ?it/s]"
      ]
     },
     "metadata": {},
     "output_type": "display_data"
    },
    {
     "data": {
      "application/vnd.jupyter.widget-view+json": {
       "model_id": "3d7c68daa469454190b297aa6088f666",
       "version_major": 2,
       "version_minor": 0
      },
      "text/plain": [
       "Backtest.optimize:   0%|          | 0/9 [00:00<?, ?it/s]"
      ]
     },
     "metadata": {},
     "output_type": "display_data"
    },
    {
     "data": {
      "application/vnd.jupyter.widget-view+json": {
       "model_id": "b7eb3b37687644ac91be05ccb3efea32",
       "version_major": 2,
       "version_minor": 0
      },
      "text/plain": [
       "Backtest.optimize:   0%|          | 0/9 [00:00<?, ?it/s]"
      ]
     },
     "metadata": {},
     "output_type": "display_data"
    },
    {
     "data": {
      "application/vnd.jupyter.widget-view+json": {
       "model_id": "c43d04d3e22546599597ae955158631f",
       "version_major": 2,
       "version_minor": 0
      },
      "text/plain": [
       "Backtest.optimize:   0%|          | 0/9 [00:00<?, ?it/s]"
      ]
     },
     "metadata": {},
     "output_type": "display_data"
    },
    {
     "data": {
      "application/vnd.jupyter.widget-view+json": {
       "model_id": "a175ea05b8354753a6a33bd23efe6c19",
       "version_major": 2,
       "version_minor": 0
      },
      "text/plain": [
       "Backtest.optimize:   0%|          | 0/9 [00:00<?, ?it/s]"
      ]
     },
     "metadata": {},
     "output_type": "display_data"
    },
    {
     "data": {
      "application/vnd.jupyter.widget-view+json": {
       "model_id": "e0750eebae6a4d5b909f1a25c1bfc880",
       "version_major": 2,
       "version_minor": 0
      },
      "text/plain": [
       "Backtest.optimize:   0%|          | 0/9 [00:00<?, ?it/s]"
      ]
     },
     "metadata": {},
     "output_type": "display_data"
    },
    {
     "data": {
      "application/vnd.jupyter.widget-view+json": {
       "model_id": "9579c8ddc8f742a2a9b0e1fa5746a34b",
       "version_major": 2,
       "version_minor": 0
      },
      "text/plain": [
       "Backtest.optimize:   0%|          | 0/9 [00:00<?, ?it/s]"
      ]
     },
     "metadata": {},
     "output_type": "display_data"
    },
    {
     "data": {
      "application/vnd.jupyter.widget-view+json": {
       "model_id": "7411b849dfe548a28a7fc485c2a2df3b",
       "version_major": 2,
       "version_minor": 0
      },
      "text/plain": [
       "Backtest.optimize:   0%|          | 0/9 [00:00<?, ?it/s]"
      ]
     },
     "metadata": {},
     "output_type": "display_data"
    },
    {
     "name": "stderr",
     "output_type": "stream",
     "text": [
      "  3%|▎         | 2/60 [04:08<2:00:19, 124.47s/it]"
     ]
    },
    {
     "name": "stdout",
     "output_type": "stream",
     "text": [
      "BTC-USD : best_params: {'cash': 10000, 'maximize': 'Return [%]', 'max_tries': 300, 'method': 'grid', 'stats_item': 'Win Rate [%]', 'bb_std': 1.5, 'back_candles': 7, 'ema_period': 30, 'bb_period': 30, 'bb_width_threshold': 0.001, 'atr_period': 14, 'rsi_period': 14}, best_performance: 50.0\n",
      "BTC-USD : train_set: 2019-03-08 00:00:00 - 2019-09-23 00:00:00, test_set: 2019-09-24 00:00:00 - 2019-10-26 00:00:00\n"
     ]
    },
    {
     "data": {
      "application/vnd.jupyter.widget-view+json": {
       "model_id": "e09d1ee58df94e2c9e97b6e08a1da3ed",
       "version_major": 2,
       "version_minor": 0
      },
      "text/plain": [
       "Backtest.optimize:   0%|          | 0/9 [00:00<?, ?it/s]"
      ]
     },
     "metadata": {},
     "output_type": "display_data"
    },
    {
     "data": {
      "application/vnd.jupyter.widget-view+json": {
       "model_id": "9f5ec34809e64f9eac38fd938ef2de57",
       "version_major": 2,
       "version_minor": 0
      },
      "text/plain": [
       "Backtest.optimize:   0%|          | 0/9 [00:00<?, ?it/s]"
      ]
     },
     "metadata": {},
     "output_type": "display_data"
    },
    {
     "data": {
      "application/vnd.jupyter.widget-view+json": {
       "model_id": "ff27547521794580976faa1a04aab2dd",
       "version_major": 2,
       "version_minor": 0
      },
      "text/plain": [
       "Backtest.optimize:   0%|          | 0/9 [00:00<?, ?it/s]"
      ]
     },
     "metadata": {},
     "output_type": "display_data"
    },
    {
     "data": {
      "application/vnd.jupyter.widget-view+json": {
       "model_id": "61cb891a1e0d4491a86c96128b05b1e8",
       "version_major": 2,
       "version_minor": 0
      },
      "text/plain": [
       "Backtest.optimize:   0%|          | 0/9 [00:00<?, ?it/s]"
      ]
     },
     "metadata": {},
     "output_type": "display_data"
    },
    {
     "data": {
      "application/vnd.jupyter.widget-view+json": {
       "model_id": "a5a04b65acc84beda5d06fedc822dae5",
       "version_major": 2,
       "version_minor": 0
      },
      "text/plain": [
       "Backtest.optimize:   0%|          | 0/9 [00:00<?, ?it/s]"
      ]
     },
     "metadata": {},
     "output_type": "display_data"
    },
    {
     "data": {
      "application/vnd.jupyter.widget-view+json": {
       "model_id": "7de3ca230d6f4966b74e0bcba5686405",
       "version_major": 2,
       "version_minor": 0
      },
      "text/plain": [
       "Backtest.optimize:   0%|          | 0/9 [00:00<?, ?it/s]"
      ]
     },
     "metadata": {},
     "output_type": "display_data"
    },
    {
     "data": {
      "application/vnd.jupyter.widget-view+json": {
       "model_id": "bc68421b7d7c48c1a41c0b200e5f0451",
       "version_major": 2,
       "version_minor": 0
      },
      "text/plain": [
       "Backtest.optimize:   0%|          | 0/9 [00:00<?, ?it/s]"
      ]
     },
     "metadata": {},
     "output_type": "display_data"
    },
    {
     "data": {
      "application/vnd.jupyter.widget-view+json": {
       "model_id": "26e973bbcc8f4f76b15de75b1eea2790",
       "version_major": 2,
       "version_minor": 0
      },
      "text/plain": [
       "Backtest.optimize:   0%|          | 0/9 [00:00<?, ?it/s]"
      ]
     },
     "metadata": {},
     "output_type": "display_data"
    },
    {
     "data": {
      "application/vnd.jupyter.widget-view+json": {
       "model_id": "8751d27d15064d18a45ca14cab2c98a2",
       "version_major": 2,
       "version_minor": 0
      },
      "text/plain": [
       "Backtest.optimize:   0%|          | 0/9 [00:00<?, ?it/s]"
      ]
     },
     "metadata": {},
     "output_type": "display_data"
    },
    {
     "data": {
      "application/vnd.jupyter.widget-view+json": {
       "model_id": "d6d1ecdae738468cbfc75b08adc6f7d4",
       "version_major": 2,
       "version_minor": 0
      },
      "text/plain": [
       "Backtest.optimize:   0%|          | 0/9 [00:00<?, ?it/s]"
      ]
     },
     "metadata": {},
     "output_type": "display_data"
    },
    {
     "data": {
      "application/vnd.jupyter.widget-view+json": {
       "model_id": "b294693578ca4e599b282f0e6a00f3ac",
       "version_major": 2,
       "version_minor": 0
      },
      "text/plain": [
       "Backtest.optimize:   0%|          | 0/9 [00:00<?, ?it/s]"
      ]
     },
     "metadata": {},
     "output_type": "display_data"
    },
    {
     "data": {
      "application/vnd.jupyter.widget-view+json": {
       "model_id": "4a0df9357185467e80210c831434f7a6",
       "version_major": 2,
       "version_minor": 0
      },
      "text/plain": [
       "Backtest.optimize:   0%|          | 0/9 [00:00<?, ?it/s]"
      ]
     },
     "metadata": {},
     "output_type": "display_data"
    },
    {
     "data": {
      "application/vnd.jupyter.widget-view+json": {
       "model_id": "a5c342f7f6d246fda4e6b1cad73dd15f",
       "version_major": 2,
       "version_minor": 0
      },
      "text/plain": [
       "Backtest.optimize:   0%|          | 0/9 [00:00<?, ?it/s]"
      ]
     },
     "metadata": {},
     "output_type": "display_data"
    },
    {
     "data": {
      "application/vnd.jupyter.widget-view+json": {
       "model_id": "ac61fac1725b4f868f86443d801c6e01",
       "version_major": 2,
       "version_minor": 0
      },
      "text/plain": [
       "Backtest.optimize:   0%|          | 0/9 [00:00<?, ?it/s]"
      ]
     },
     "metadata": {},
     "output_type": "display_data"
    },
    {
     "data": {
      "application/vnd.jupyter.widget-view+json": {
       "model_id": "dcbd86f922a046a1a4e4d1521761a852",
       "version_major": 2,
       "version_minor": 0
      },
      "text/plain": [
       "Backtest.optimize:   0%|          | 0/9 [00:00<?, ?it/s]"
      ]
     },
     "metadata": {},
     "output_type": "display_data"
    },
    {
     "data": {
      "application/vnd.jupyter.widget-view+json": {
       "model_id": "d35b854b55c343dba44f4440b26dc820",
       "version_major": 2,
       "version_minor": 0
      },
      "text/plain": [
       "Backtest.optimize:   0%|          | 0/9 [00:00<?, ?it/s]"
      ]
     },
     "metadata": {},
     "output_type": "display_data"
    },
    {
     "data": {
      "application/vnd.jupyter.widget-view+json": {
       "model_id": "eaf933f51f1e4fb784e66604141fafa3",
       "version_major": 2,
       "version_minor": 0
      },
      "text/plain": [
       "Backtest.optimize:   0%|          | 0/9 [00:00<?, ?it/s]"
      ]
     },
     "metadata": {},
     "output_type": "display_data"
    },
    {
     "data": {
      "application/vnd.jupyter.widget-view+json": {
       "model_id": "bcd74aa05f014da1a26a6327d8e5c82c",
       "version_major": 2,
       "version_minor": 0
      },
      "text/plain": [
       "Backtest.optimize:   0%|          | 0/9 [00:00<?, ?it/s]"
      ]
     },
     "metadata": {},
     "output_type": "display_data"
    },
    {
     "data": {
      "application/vnd.jupyter.widget-view+json": {
       "model_id": "c0fabb917aa74fd883e6baf3ccf91328",
       "version_major": 2,
       "version_minor": 0
      },
      "text/plain": [
       "Backtest.optimize:   0%|          | 0/9 [00:00<?, ?it/s]"
      ]
     },
     "metadata": {},
     "output_type": "display_data"
    },
    {
     "data": {
      "application/vnd.jupyter.widget-view+json": {
       "model_id": "24947837633246bc8c7eadaaecd1aeab",
       "version_major": 2,
       "version_minor": 0
      },
      "text/plain": [
       "Backtest.optimize:   0%|          | 0/9 [00:00<?, ?it/s]"
      ]
     },
     "metadata": {},
     "output_type": "display_data"
    },
    {
     "data": {
      "application/vnd.jupyter.widget-view+json": {
       "model_id": "35c3a250fb7a4e2dbe31877424c96337",
       "version_major": 2,
       "version_minor": 0
      },
      "text/plain": [
       "Backtest.optimize:   0%|          | 0/9 [00:00<?, ?it/s]"
      ]
     },
     "metadata": {},
     "output_type": "display_data"
    },
    {
     "data": {
      "application/vnd.jupyter.widget-view+json": {
       "model_id": "0800c199e07447939247e16c654a7898",
       "version_major": 2,
       "version_minor": 0
      },
      "text/plain": [
       "Backtest.optimize:   0%|          | 0/9 [00:00<?, ?it/s]"
      ]
     },
     "metadata": {},
     "output_type": "display_data"
    },
    {
     "data": {
      "application/vnd.jupyter.widget-view+json": {
       "model_id": "0f46acc9529445cfa906ea41b9d950b5",
       "version_major": 2,
       "version_minor": 0
      },
      "text/plain": [
       "Backtest.optimize:   0%|          | 0/9 [00:00<?, ?it/s]"
      ]
     },
     "metadata": {},
     "output_type": "display_data"
    },
    {
     "data": {
      "application/vnd.jupyter.widget-view+json": {
       "model_id": "391a6d4391bd4f4982ac8c760bd34dde",
       "version_major": 2,
       "version_minor": 0
      },
      "text/plain": [
       "Backtest.optimize:   0%|          | 0/9 [00:00<?, ?it/s]"
      ]
     },
     "metadata": {},
     "output_type": "display_data"
    },
    {
     "data": {
      "application/vnd.jupyter.widget-view+json": {
       "model_id": "f32603ef4b174a77a1af20a2c9655121",
       "version_major": 2,
       "version_minor": 0
      },
      "text/plain": [
       "Backtest.optimize:   0%|          | 0/9 [00:00<?, ?it/s]"
      ]
     },
     "metadata": {},
     "output_type": "display_data"
    },
    {
     "data": {
      "application/vnd.jupyter.widget-view+json": {
       "model_id": "f3d951699dae4b09bd2e71cc2d7ccda8",
       "version_major": 2,
       "version_minor": 0
      },
      "text/plain": [
       "Backtest.optimize:   0%|          | 0/9 [00:00<?, ?it/s]"
      ]
     },
     "metadata": {},
     "output_type": "display_data"
    },
    {
     "data": {
      "application/vnd.jupyter.widget-view+json": {
       "model_id": "6d1bc4b156164701a1989b03732da474",
       "version_major": 2,
       "version_minor": 0
      },
      "text/plain": [
       "Backtest.optimize:   0%|          | 0/9 [00:00<?, ?it/s]"
      ]
     },
     "metadata": {},
     "output_type": "display_data"
    },
    {
     "data": {
      "application/vnd.jupyter.widget-view+json": {
       "model_id": "4694ef2b4c31483e82fd69ecbf426bbd",
       "version_major": 2,
       "version_minor": 0
      },
      "text/plain": [
       "Backtest.optimize:   0%|          | 0/9 [00:00<?, ?it/s]"
      ]
     },
     "metadata": {},
     "output_type": "display_data"
    },
    {
     "data": {
      "application/vnd.jupyter.widget-view+json": {
       "model_id": "80e5d154605d42cca8a91325036c3027",
       "version_major": 2,
       "version_minor": 0
      },
      "text/plain": [
       "Backtest.optimize:   0%|          | 0/9 [00:00<?, ?it/s]"
      ]
     },
     "metadata": {},
     "output_type": "display_data"
    },
    {
     "data": {
      "application/vnd.jupyter.widget-view+json": {
       "model_id": "810c079d1fec4832b8fd9808e887660f",
       "version_major": 2,
       "version_minor": 0
      },
      "text/plain": [
       "Backtest.optimize:   0%|          | 0/9 [00:00<?, ?it/s]"
      ]
     },
     "metadata": {},
     "output_type": "display_data"
    },
    {
     "data": {
      "application/vnd.jupyter.widget-view+json": {
       "model_id": "7ee82262e6e947e380cf27fe280bd76a",
       "version_major": 2,
       "version_minor": 0
      },
      "text/plain": [
       "Backtest.optimize:   0%|          | 0/9 [00:00<?, ?it/s]"
      ]
     },
     "metadata": {},
     "output_type": "display_data"
    },
    {
     "data": {
      "application/vnd.jupyter.widget-view+json": {
       "model_id": "f3292b4198164ef08f1229ed039203c7",
       "version_major": 2,
       "version_minor": 0
      },
      "text/plain": [
       "Backtest.optimize:   0%|          | 0/9 [00:00<?, ?it/s]"
      ]
     },
     "metadata": {},
     "output_type": "display_data"
    },
    {
     "data": {
      "application/vnd.jupyter.widget-view+json": {
       "model_id": "536d7f9aab564782ac12f309a39a0070",
       "version_major": 2,
       "version_minor": 0
      },
      "text/plain": [
       "Backtest.optimize:   0%|          | 0/9 [00:00<?, ?it/s]"
      ]
     },
     "metadata": {},
     "output_type": "display_data"
    },
    {
     "data": {
      "application/vnd.jupyter.widget-view+json": {
       "model_id": "d648ff68b93f4b97a6c12388f34a2b04",
       "version_major": 2,
       "version_minor": 0
      },
      "text/plain": [
       "Backtest.optimize:   0%|          | 0/9 [00:00<?, ?it/s]"
      ]
     },
     "metadata": {},
     "output_type": "display_data"
    },
    {
     "data": {
      "application/vnd.jupyter.widget-view+json": {
       "model_id": "2cd58926a693472b8d4f987a9413851e",
       "version_major": 2,
       "version_minor": 0
      },
      "text/plain": [
       "Backtest.optimize:   0%|          | 0/9 [00:00<?, ?it/s]"
      ]
     },
     "metadata": {},
     "output_type": "display_data"
    },
    {
     "data": {
      "application/vnd.jupyter.widget-view+json": {
       "model_id": "26d8118e866543d3be7623e3868813aa",
       "version_major": 2,
       "version_minor": 0
      },
      "text/plain": [
       "Backtest.optimize:   0%|          | 0/9 [00:00<?, ?it/s]"
      ]
     },
     "metadata": {},
     "output_type": "display_data"
    },
    {
     "data": {
      "application/vnd.jupyter.widget-view+json": {
       "model_id": "43587d23bca54c4a9b2baea277b5527a",
       "version_major": 2,
       "version_minor": 0
      },
      "text/plain": [
       "Backtest.optimize:   0%|          | 0/9 [00:00<?, ?it/s]"
      ]
     },
     "metadata": {},
     "output_type": "display_data"
    },
    {
     "data": {
      "application/vnd.jupyter.widget-view+json": {
       "model_id": "e93888c432ad4c688816affc059e21b9",
       "version_major": 2,
       "version_minor": 0
      },
      "text/plain": [
       "Backtest.optimize:   0%|          | 0/9 [00:00<?, ?it/s]"
      ]
     },
     "metadata": {},
     "output_type": "display_data"
    },
    {
     "data": {
      "application/vnd.jupyter.widget-view+json": {
       "model_id": "1a5230b6737d47928d6cdbd1f5d6d671",
       "version_major": 2,
       "version_minor": 0
      },
      "text/plain": [
       "Backtest.optimize:   0%|          | 0/9 [00:00<?, ?it/s]"
      ]
     },
     "metadata": {},
     "output_type": "display_data"
    },
    {
     "data": {
      "application/vnd.jupyter.widget-view+json": {
       "model_id": "7568b2a404f94530a873ae7871430641",
       "version_major": 2,
       "version_minor": 0
      },
      "text/plain": [
       "Backtest.optimize:   0%|          | 0/9 [00:00<?, ?it/s]"
      ]
     },
     "metadata": {},
     "output_type": "display_data"
    },
    {
     "data": {
      "application/vnd.jupyter.widget-view+json": {
       "model_id": "fb91bc6997fe462cb24ab7b9d4292658",
       "version_major": 2,
       "version_minor": 0
      },
      "text/plain": [
       "Backtest.optimize:   0%|          | 0/9 [00:00<?, ?it/s]"
      ]
     },
     "metadata": {},
     "output_type": "display_data"
    },
    {
     "data": {
      "application/vnd.jupyter.widget-view+json": {
       "model_id": "978e800d77e740c99284e8681cec34b7",
       "version_major": 2,
       "version_minor": 0
      },
      "text/plain": [
       "Backtest.optimize:   0%|          | 0/9 [00:00<?, ?it/s]"
      ]
     },
     "metadata": {},
     "output_type": "display_data"
    },
    {
     "data": {
      "application/vnd.jupyter.widget-view+json": {
       "model_id": "e1711e41cd4e43078ededf6f1c176641",
       "version_major": 2,
       "version_minor": 0
      },
      "text/plain": [
       "Backtest.optimize:   0%|          | 0/9 [00:00<?, ?it/s]"
      ]
     },
     "metadata": {},
     "output_type": "display_data"
    },
    {
     "data": {
      "application/vnd.jupyter.widget-view+json": {
       "model_id": "b3a7473eccb74ed8bae9f4f66e0a73e2",
       "version_major": 2,
       "version_minor": 0
      },
      "text/plain": [
       "Backtest.optimize:   0%|          | 0/9 [00:00<?, ?it/s]"
      ]
     },
     "metadata": {},
     "output_type": "display_data"
    },
    {
     "data": {
      "application/vnd.jupyter.widget-view+json": {
       "model_id": "f2a128739c864800a66f5d6b1e83628c",
       "version_major": 2,
       "version_minor": 0
      },
      "text/plain": [
       "Backtest.optimize:   0%|          | 0/9 [00:00<?, ?it/s]"
      ]
     },
     "metadata": {},
     "output_type": "display_data"
    },
    {
     "data": {
      "application/vnd.jupyter.widget-view+json": {
       "model_id": "6e402f9863dd4e0ba7d28bd0f6127d9a",
       "version_major": 2,
       "version_minor": 0
      },
      "text/plain": [
       "Backtest.optimize:   0%|          | 0/9 [00:00<?, ?it/s]"
      ]
     },
     "metadata": {},
     "output_type": "display_data"
    },
    {
     "data": {
      "application/vnd.jupyter.widget-view+json": {
       "model_id": "850db2bdfd4b4610b2057edd08d675cf",
       "version_major": 2,
       "version_minor": 0
      },
      "text/plain": [
       "Backtest.optimize:   0%|          | 0/9 [00:00<?, ?it/s]"
      ]
     },
     "metadata": {},
     "output_type": "display_data"
    },
    {
     "data": {
      "application/vnd.jupyter.widget-view+json": {
       "model_id": "592c5cb9289e401a8ec12f58beeb3ddd",
       "version_major": 2,
       "version_minor": 0
      },
      "text/plain": [
       "Backtest.optimize:   0%|          | 0/9 [00:00<?, ?it/s]"
      ]
     },
     "metadata": {},
     "output_type": "display_data"
    },
    {
     "data": {
      "application/vnd.jupyter.widget-view+json": {
       "model_id": "4e67328bfa85437c912fc4ad5a6f2f75",
       "version_major": 2,
       "version_minor": 0
      },
      "text/plain": [
       "Backtest.optimize:   0%|          | 0/9 [00:00<?, ?it/s]"
      ]
     },
     "metadata": {},
     "output_type": "display_data"
    },
    {
     "data": {
      "application/vnd.jupyter.widget-view+json": {
       "model_id": "93ba30f95d32491ca4b77238032df9b3",
       "version_major": 2,
       "version_minor": 0
      },
      "text/plain": [
       "Backtest.optimize:   0%|          | 0/9 [00:00<?, ?it/s]"
      ]
     },
     "metadata": {},
     "output_type": "display_data"
    },
    {
     "data": {
      "application/vnd.jupyter.widget-view+json": {
       "model_id": "9d4c9de8d6884feb8dba15b86f71748f",
       "version_major": 2,
       "version_minor": 0
      },
      "text/plain": [
       "Backtest.optimize:   0%|          | 0/9 [00:00<?, ?it/s]"
      ]
     },
     "metadata": {},
     "output_type": "display_data"
    },
    {
     "data": {
      "application/vnd.jupyter.widget-view+json": {
       "model_id": "216023fddbfb4303b2550c4501f162b3",
       "version_major": 2,
       "version_minor": 0
      },
      "text/plain": [
       "Backtest.optimize:   0%|          | 0/9 [00:00<?, ?it/s]"
      ]
     },
     "metadata": {},
     "output_type": "display_data"
    },
    {
     "data": {
      "application/vnd.jupyter.widget-view+json": {
       "model_id": "b6d6676c56f04e5188f78e6f2ba5bceb",
       "version_major": 2,
       "version_minor": 0
      },
      "text/plain": [
       "Backtest.optimize:   0%|          | 0/9 [00:00<?, ?it/s]"
      ]
     },
     "metadata": {},
     "output_type": "display_data"
    },
    {
     "data": {
      "application/vnd.jupyter.widget-view+json": {
       "model_id": "cb6d869e7ce443528ec21556e360c125",
       "version_major": 2,
       "version_minor": 0
      },
      "text/plain": [
       "Backtest.optimize:   0%|          | 0/9 [00:00<?, ?it/s]"
      ]
     },
     "metadata": {},
     "output_type": "display_data"
    },
    {
     "data": {
      "application/vnd.jupyter.widget-view+json": {
       "model_id": "977a4a6defdc473cb3333e9fa411be26",
       "version_major": 2,
       "version_minor": 0
      },
      "text/plain": [
       "Backtest.optimize:   0%|          | 0/9 [00:00<?, ?it/s]"
      ]
     },
     "metadata": {},
     "output_type": "display_data"
    },
    {
     "data": {
      "application/vnd.jupyter.widget-view+json": {
       "model_id": "9a57edf367d44677a41f9fb4fcd8ae89",
       "version_major": 2,
       "version_minor": 0
      },
      "text/plain": [
       "Backtest.optimize:   0%|          | 0/9 [00:00<?, ?it/s]"
      ]
     },
     "metadata": {},
     "output_type": "display_data"
    },
    {
     "data": {
      "application/vnd.jupyter.widget-view+json": {
       "model_id": "f7e298b6ffbf4896a13119c37873f7bc",
       "version_major": 2,
       "version_minor": 0
      },
      "text/plain": [
       "Backtest.optimize:   0%|          | 0/9 [00:00<?, ?it/s]"
      ]
     },
     "metadata": {},
     "output_type": "display_data"
    },
    {
     "data": {
      "application/vnd.jupyter.widget-view+json": {
       "model_id": "b2e905706e7b4666b2d9ca487068c8be",
       "version_major": 2,
       "version_minor": 0
      },
      "text/plain": [
       "Backtest.optimize:   0%|          | 0/9 [00:00<?, ?it/s]"
      ]
     },
     "metadata": {},
     "output_type": "display_data"
    },
    {
     "data": {
      "application/vnd.jupyter.widget-view+json": {
       "model_id": "8c21f30aa40049e199c058c260ec3c59",
       "version_major": 2,
       "version_minor": 0
      },
      "text/plain": [
       "Backtest.optimize:   0%|          | 0/9 [00:00<?, ?it/s]"
      ]
     },
     "metadata": {},
     "output_type": "display_data"
    },
    {
     "data": {
      "application/vnd.jupyter.widget-view+json": {
       "model_id": "bfdfbd8935984a65ab076ad189111862",
       "version_major": 2,
       "version_minor": 0
      },
      "text/plain": [
       "Backtest.optimize:   0%|          | 0/9 [00:00<?, ?it/s]"
      ]
     },
     "metadata": {},
     "output_type": "display_data"
    },
    {
     "data": {
      "application/vnd.jupyter.widget-view+json": {
       "model_id": "0f7ec3af28d04f4897d59b84619bc37c",
       "version_major": 2,
       "version_minor": 0
      },
      "text/plain": [
       "Backtest.optimize:   0%|          | 0/9 [00:00<?, ?it/s]"
      ]
     },
     "metadata": {},
     "output_type": "display_data"
    },
    {
     "data": {
      "application/vnd.jupyter.widget-view+json": {
       "model_id": "94ebcb56d9ef4ecf906660ad44d3cd5d",
       "version_major": 2,
       "version_minor": 0
      },
      "text/plain": [
       "Backtest.optimize:   0%|          | 0/9 [00:00<?, ?it/s]"
      ]
     },
     "metadata": {},
     "output_type": "display_data"
    },
    {
     "data": {
      "application/vnd.jupyter.widget-view+json": {
       "model_id": "090e5dd001d34a4fb67c59185411ee3e",
       "version_major": 2,
       "version_minor": 0
      },
      "text/plain": [
       "Backtest.optimize:   0%|          | 0/9 [00:00<?, ?it/s]"
      ]
     },
     "metadata": {},
     "output_type": "display_data"
    },
    {
     "data": {
      "application/vnd.jupyter.widget-view+json": {
       "model_id": "49489e39018e4a33bef0eddca811c1ef",
       "version_major": 2,
       "version_minor": 0
      },
      "text/plain": [
       "Backtest.optimize:   0%|          | 0/9 [00:00<?, ?it/s]"
      ]
     },
     "metadata": {},
     "output_type": "display_data"
    },
    {
     "data": {
      "application/vnd.jupyter.widget-view+json": {
       "model_id": "b5d0c4e74b574189b5c4a14970ad3793",
       "version_major": 2,
       "version_minor": 0
      },
      "text/plain": [
       "Backtest.optimize:   0%|          | 0/9 [00:00<?, ?it/s]"
      ]
     },
     "metadata": {},
     "output_type": "display_data"
    },
    {
     "data": {
      "application/vnd.jupyter.widget-view+json": {
       "model_id": "7e69f59572674ac0b622b5e4f972c075",
       "version_major": 2,
       "version_minor": 0
      },
      "text/plain": [
       "Backtest.optimize:   0%|          | 0/9 [00:00<?, ?it/s]"
      ]
     },
     "metadata": {},
     "output_type": "display_data"
    },
    {
     "data": {
      "application/vnd.jupyter.widget-view+json": {
       "model_id": "50e0e56fc90343dd9fd1d1f36b01722e",
       "version_major": 2,
       "version_minor": 0
      },
      "text/plain": [
       "Backtest.optimize:   0%|          | 0/9 [00:00<?, ?it/s]"
      ]
     },
     "metadata": {},
     "output_type": "display_data"
    },
    {
     "data": {
      "application/vnd.jupyter.widget-view+json": {
       "model_id": "8fdcdeb3b1d741e6a53872c09f38d4b6",
       "version_major": 2,
       "version_minor": 0
      },
      "text/plain": [
       "Backtest.optimize:   0%|          | 0/9 [00:00<?, ?it/s]"
      ]
     },
     "metadata": {},
     "output_type": "display_data"
    },
    {
     "data": {
      "application/vnd.jupyter.widget-view+json": {
       "model_id": "bff7ca6150814dd49ffa10c78a872c3b",
       "version_major": 2,
       "version_minor": 0
      },
      "text/plain": [
       "Backtest.optimize:   0%|          | 0/9 [00:00<?, ?it/s]"
      ]
     },
     "metadata": {},
     "output_type": "display_data"
    },
    {
     "data": {
      "application/vnd.jupyter.widget-view+json": {
       "model_id": "358b7cc5c3354342b743aba3cc1e9da3",
       "version_major": 2,
       "version_minor": 0
      },
      "text/plain": [
       "Backtest.optimize:   0%|          | 0/9 [00:00<?, ?it/s]"
      ]
     },
     "metadata": {},
     "output_type": "display_data"
    },
    {
     "data": {
      "application/vnd.jupyter.widget-view+json": {
       "model_id": "e31812008e3843b0b7b08ba98f08f950",
       "version_major": 2,
       "version_minor": 0
      },
      "text/plain": [
       "Backtest.optimize:   0%|          | 0/9 [00:00<?, ?it/s]"
      ]
     },
     "metadata": {},
     "output_type": "display_data"
    },
    {
     "data": {
      "application/vnd.jupyter.widget-view+json": {
       "model_id": "aad7165782ff4876bb587e7322f126ba",
       "version_major": 2,
       "version_minor": 0
      },
      "text/plain": [
       "Backtest.optimize:   0%|          | 0/9 [00:00<?, ?it/s]"
      ]
     },
     "metadata": {},
     "output_type": "display_data"
    },
    {
     "data": {
      "application/vnd.jupyter.widget-view+json": {
       "model_id": "0ac627849b7f4fd7aea9626c41a725a9",
       "version_major": 2,
       "version_minor": 0
      },
      "text/plain": [
       "Backtest.optimize:   0%|          | 0/9 [00:00<?, ?it/s]"
      ]
     },
     "metadata": {},
     "output_type": "display_data"
    },
    {
     "data": {
      "application/vnd.jupyter.widget-view+json": {
       "model_id": "17a262ef221349239ad91e406ceb8b44",
       "version_major": 2,
       "version_minor": 0
      },
      "text/plain": [
       "Backtest.optimize:   0%|          | 0/9 [00:00<?, ?it/s]"
      ]
     },
     "metadata": {},
     "output_type": "display_data"
    },
    {
     "data": {
      "application/vnd.jupyter.widget-view+json": {
       "model_id": "971b3ec0327640cba4c9ff5826308378",
       "version_major": 2,
       "version_minor": 0
      },
      "text/plain": [
       "Backtest.optimize:   0%|          | 0/9 [00:00<?, ?it/s]"
      ]
     },
     "metadata": {},
     "output_type": "display_data"
    },
    {
     "data": {
      "application/vnd.jupyter.widget-view+json": {
       "model_id": "e5b88ebe5fe241f89b37ff5116e0665b",
       "version_major": 2,
       "version_minor": 0
      },
      "text/plain": [
       "Backtest.optimize:   0%|          | 0/9 [00:00<?, ?it/s]"
      ]
     },
     "metadata": {},
     "output_type": "display_data"
    },
    {
     "data": {
      "application/vnd.jupyter.widget-view+json": {
       "model_id": "66ca48e7966f40e78873047ee425e70a",
       "version_major": 2,
       "version_minor": 0
      },
      "text/plain": [
       "Backtest.optimize:   0%|          | 0/9 [00:00<?, ?it/s]"
      ]
     },
     "metadata": {},
     "output_type": "display_data"
    },
    {
     "data": {
      "application/vnd.jupyter.widget-view+json": {
       "model_id": "b60ce6371196472097f633cc7b05fb7d",
       "version_major": 2,
       "version_minor": 0
      },
      "text/plain": [
       "Backtest.optimize:   0%|          | 0/9 [00:00<?, ?it/s]"
      ]
     },
     "metadata": {},
     "output_type": "display_data"
    },
    {
     "data": {
      "application/vnd.jupyter.widget-view+json": {
       "model_id": "6f13db67adc04dc390df3fe3382c4f35",
       "version_major": 2,
       "version_minor": 0
      },
      "text/plain": [
       "Backtest.optimize:   0%|          | 0/9 [00:00<?, ?it/s]"
      ]
     },
     "metadata": {},
     "output_type": "display_data"
    },
    {
     "data": {
      "application/vnd.jupyter.widget-view+json": {
       "model_id": "00790e1c3bef46eabf5510caf83ba0c5",
       "version_major": 2,
       "version_minor": 0
      },
      "text/plain": [
       "Backtest.optimize:   0%|          | 0/9 [00:00<?, ?it/s]"
      ]
     },
     "metadata": {},
     "output_type": "display_data"
    },
    {
     "data": {
      "application/vnd.jupyter.widget-view+json": {
       "model_id": "d396437eb3af40a8a377a558540d2703",
       "version_major": 2,
       "version_minor": 0
      },
      "text/plain": [
       "Backtest.optimize:   0%|          | 0/9 [00:00<?, ?it/s]"
      ]
     },
     "metadata": {},
     "output_type": "display_data"
    },
    {
     "name": "stderr",
     "output_type": "stream",
     "text": [
      "  5%|▌         | 3/60 [06:17<2:00:20, 126.67s/it]"
     ]
    },
    {
     "name": "stdout",
     "output_type": "stream",
     "text": [
      "BTC-USD : best_params: None, best_performance: -inf\n",
      "BTC-USD : train_set: 2019-04-10 00:00:00 - 2019-10-26 00:00:00, test_set: 2019-10-27 00:00:00 - 2019-11-28 00:00:00\n"
     ]
    },
    {
     "data": {
      "application/vnd.jupyter.widget-view+json": {
       "model_id": "0c85b8a003fa4fadb499c2c8b6c8c3c8",
       "version_major": 2,
       "version_minor": 0
      },
      "text/plain": [
       "Backtest.optimize:   0%|          | 0/9 [00:00<?, ?it/s]"
      ]
     },
     "metadata": {},
     "output_type": "display_data"
    },
    {
     "data": {
      "application/vnd.jupyter.widget-view+json": {
       "model_id": "3b25aa8fa1444d29bab075037c0abe4f",
       "version_major": 2,
       "version_minor": 0
      },
      "text/plain": [
       "Backtest.optimize:   0%|          | 0/9 [00:00<?, ?it/s]"
      ]
     },
     "metadata": {},
     "output_type": "display_data"
    },
    {
     "data": {
      "application/vnd.jupyter.widget-view+json": {
       "model_id": "529169515ff845889e3a5d98c9ea8a57",
       "version_major": 2,
       "version_minor": 0
      },
      "text/plain": [
       "Backtest.optimize:   0%|          | 0/9 [00:00<?, ?it/s]"
      ]
     },
     "metadata": {},
     "output_type": "display_data"
    },
    {
     "data": {
      "application/vnd.jupyter.widget-view+json": {
       "model_id": "bb2f239f9a5f4f86b41606d36dd429a6",
       "version_major": 2,
       "version_minor": 0
      },
      "text/plain": [
       "Backtest.optimize:   0%|          | 0/9 [00:00<?, ?it/s]"
      ]
     },
     "metadata": {},
     "output_type": "display_data"
    },
    {
     "data": {
      "application/vnd.jupyter.widget-view+json": {
       "model_id": "78bb7a788bcf4e5e87b1bcab0ffb1028",
       "version_major": 2,
       "version_minor": 0
      },
      "text/plain": [
       "Backtest.optimize:   0%|          | 0/9 [00:00<?, ?it/s]"
      ]
     },
     "metadata": {},
     "output_type": "display_data"
    },
    {
     "data": {
      "application/vnd.jupyter.widget-view+json": {
       "model_id": "7704d65ba570499c8ad3cf51d6469ff1",
       "version_major": 2,
       "version_minor": 0
      },
      "text/plain": [
       "Backtest.optimize:   0%|          | 0/9 [00:00<?, ?it/s]"
      ]
     },
     "metadata": {},
     "output_type": "display_data"
    },
    {
     "data": {
      "application/vnd.jupyter.widget-view+json": {
       "model_id": "1d0dd7fcf11d4b769de83a01aeca6444",
       "version_major": 2,
       "version_minor": 0
      },
      "text/plain": [
       "Backtest.optimize:   0%|          | 0/9 [00:00<?, ?it/s]"
      ]
     },
     "metadata": {},
     "output_type": "display_data"
    },
    {
     "data": {
      "application/vnd.jupyter.widget-view+json": {
       "model_id": "7bd1b224b479448dbd9408ef305b2ee2",
       "version_major": 2,
       "version_minor": 0
      },
      "text/plain": [
       "Backtest.optimize:   0%|          | 0/9 [00:00<?, ?it/s]"
      ]
     },
     "metadata": {},
     "output_type": "display_data"
    },
    {
     "data": {
      "application/vnd.jupyter.widget-view+json": {
       "model_id": "63dc3c4ba5304416ba6fd21aa7d851bf",
       "version_major": 2,
       "version_minor": 0
      },
      "text/plain": [
       "Backtest.optimize:   0%|          | 0/9 [00:00<?, ?it/s]"
      ]
     },
     "metadata": {},
     "output_type": "display_data"
    },
    {
     "data": {
      "application/vnd.jupyter.widget-view+json": {
       "model_id": "d0f2b9794605428baecd679927947dca",
       "version_major": 2,
       "version_minor": 0
      },
      "text/plain": [
       "Backtest.optimize:   0%|          | 0/9 [00:00<?, ?it/s]"
      ]
     },
     "metadata": {},
     "output_type": "display_data"
    },
    {
     "data": {
      "application/vnd.jupyter.widget-view+json": {
       "model_id": "b85986e85c4f4b30aca2a59f5f8b4bd4",
       "version_major": 2,
       "version_minor": 0
      },
      "text/plain": [
       "Backtest.optimize:   0%|          | 0/9 [00:00<?, ?it/s]"
      ]
     },
     "metadata": {},
     "output_type": "display_data"
    },
    {
     "data": {
      "application/vnd.jupyter.widget-view+json": {
       "model_id": "39197de4d984497ba9af91a5049e7e77",
       "version_major": 2,
       "version_minor": 0
      },
      "text/plain": [
       "Backtest.optimize:   0%|          | 0/9 [00:00<?, ?it/s]"
      ]
     },
     "metadata": {},
     "output_type": "display_data"
    },
    {
     "data": {
      "application/vnd.jupyter.widget-view+json": {
       "model_id": "8ebbb98bddf34554b986597a48642936",
       "version_major": 2,
       "version_minor": 0
      },
      "text/plain": [
       "Backtest.optimize:   0%|          | 0/9 [00:00<?, ?it/s]"
      ]
     },
     "metadata": {},
     "output_type": "display_data"
    },
    {
     "data": {
      "application/vnd.jupyter.widget-view+json": {
       "model_id": "2f653bc3317f49b1b04b5de3c5bf3967",
       "version_major": 2,
       "version_minor": 0
      },
      "text/plain": [
       "Backtest.optimize:   0%|          | 0/9 [00:00<?, ?it/s]"
      ]
     },
     "metadata": {},
     "output_type": "display_data"
    },
    {
     "data": {
      "application/vnd.jupyter.widget-view+json": {
       "model_id": "61844c955eb94d5fa6a85125fc747f98",
       "version_major": 2,
       "version_minor": 0
      },
      "text/plain": [
       "Backtest.optimize:   0%|          | 0/9 [00:00<?, ?it/s]"
      ]
     },
     "metadata": {},
     "output_type": "display_data"
    },
    {
     "data": {
      "application/vnd.jupyter.widget-view+json": {
       "model_id": "d6f0097b2eaf4c0fb7c406fd2e801d1a",
       "version_major": 2,
       "version_minor": 0
      },
      "text/plain": [
       "Backtest.optimize:   0%|          | 0/9 [00:00<?, ?it/s]"
      ]
     },
     "metadata": {},
     "output_type": "display_data"
    },
    {
     "data": {
      "application/vnd.jupyter.widget-view+json": {
       "model_id": "709e4d17669f416c8926be3de10c23c8",
       "version_major": 2,
       "version_minor": 0
      },
      "text/plain": [
       "Backtest.optimize:   0%|          | 0/9 [00:00<?, ?it/s]"
      ]
     },
     "metadata": {},
     "output_type": "display_data"
    },
    {
     "data": {
      "application/vnd.jupyter.widget-view+json": {
       "model_id": "d82b2550643247189c33b76e19bc65dd",
       "version_major": 2,
       "version_minor": 0
      },
      "text/plain": [
       "Backtest.optimize:   0%|          | 0/9 [00:00<?, ?it/s]"
      ]
     },
     "metadata": {},
     "output_type": "display_data"
    },
    {
     "data": {
      "application/vnd.jupyter.widget-view+json": {
       "model_id": "564453b54e9a41b69874e9529f992bb5",
       "version_major": 2,
       "version_minor": 0
      },
      "text/plain": [
       "Backtest.optimize:   0%|          | 0/9 [00:00<?, ?it/s]"
      ]
     },
     "metadata": {},
     "output_type": "display_data"
    },
    {
     "data": {
      "application/vnd.jupyter.widget-view+json": {
       "model_id": "a848787749864053be4c4d1acfe20fd9",
       "version_major": 2,
       "version_minor": 0
      },
      "text/plain": [
       "Backtest.optimize:   0%|          | 0/9 [00:00<?, ?it/s]"
      ]
     },
     "metadata": {},
     "output_type": "display_data"
    },
    {
     "data": {
      "application/vnd.jupyter.widget-view+json": {
       "model_id": "76cfdf56b1e144ffa39afd611986c397",
       "version_major": 2,
       "version_minor": 0
      },
      "text/plain": [
       "Backtest.optimize:   0%|          | 0/9 [00:00<?, ?it/s]"
      ]
     },
     "metadata": {},
     "output_type": "display_data"
    },
    {
     "data": {
      "application/vnd.jupyter.widget-view+json": {
       "model_id": "72bc2498042042abb7920dd65f30a3d8",
       "version_major": 2,
       "version_minor": 0
      },
      "text/plain": [
       "Backtest.optimize:   0%|          | 0/9 [00:00<?, ?it/s]"
      ]
     },
     "metadata": {},
     "output_type": "display_data"
    },
    {
     "data": {
      "application/vnd.jupyter.widget-view+json": {
       "model_id": "32ff80e0929949819b74216972011ae4",
       "version_major": 2,
       "version_minor": 0
      },
      "text/plain": [
       "Backtest.optimize:   0%|          | 0/9 [00:00<?, ?it/s]"
      ]
     },
     "metadata": {},
     "output_type": "display_data"
    },
    {
     "data": {
      "application/vnd.jupyter.widget-view+json": {
       "model_id": "1c38e2e3430641fd9b9d5fd178820b13",
       "version_major": 2,
       "version_minor": 0
      },
      "text/plain": [
       "Backtest.optimize:   0%|          | 0/9 [00:00<?, ?it/s]"
      ]
     },
     "metadata": {},
     "output_type": "display_data"
    },
    {
     "data": {
      "application/vnd.jupyter.widget-view+json": {
       "model_id": "d0e7905394754808aad9f6553ab4e522",
       "version_major": 2,
       "version_minor": 0
      },
      "text/plain": [
       "Backtest.optimize:   0%|          | 0/9 [00:00<?, ?it/s]"
      ]
     },
     "metadata": {},
     "output_type": "display_data"
    },
    {
     "data": {
      "application/vnd.jupyter.widget-view+json": {
       "model_id": "502a182938534d73906f2885791de82b",
       "version_major": 2,
       "version_minor": 0
      },
      "text/plain": [
       "Backtest.optimize:   0%|          | 0/9 [00:00<?, ?it/s]"
      ]
     },
     "metadata": {},
     "output_type": "display_data"
    },
    {
     "data": {
      "application/vnd.jupyter.widget-view+json": {
       "model_id": "b8a56c7a49ae47f4bf0da003fbbc8d51",
       "version_major": 2,
       "version_minor": 0
      },
      "text/plain": [
       "Backtest.optimize:   0%|          | 0/9 [00:00<?, ?it/s]"
      ]
     },
     "metadata": {},
     "output_type": "display_data"
    },
    {
     "data": {
      "application/vnd.jupyter.widget-view+json": {
       "model_id": "dbba91c5c5c544e6b97972bb22baaafa",
       "version_major": 2,
       "version_minor": 0
      },
      "text/plain": [
       "Backtest.optimize:   0%|          | 0/9 [00:00<?, ?it/s]"
      ]
     },
     "metadata": {},
     "output_type": "display_data"
    },
    {
     "data": {
      "application/vnd.jupyter.widget-view+json": {
       "model_id": "a54066c969a244588d5ccc7128ef4c55",
       "version_major": 2,
       "version_minor": 0
      },
      "text/plain": [
       "Backtest.optimize:   0%|          | 0/9 [00:00<?, ?it/s]"
      ]
     },
     "metadata": {},
     "output_type": "display_data"
    },
    {
     "data": {
      "application/vnd.jupyter.widget-view+json": {
       "model_id": "969ec3e614054aca89609fe48cda3113",
       "version_major": 2,
       "version_minor": 0
      },
      "text/plain": [
       "Backtest.optimize:   0%|          | 0/9 [00:00<?, ?it/s]"
      ]
     },
     "metadata": {},
     "output_type": "display_data"
    },
    {
     "data": {
      "application/vnd.jupyter.widget-view+json": {
       "model_id": "e9098f1f0a184a8bb1980920ba26ff76",
       "version_major": 2,
       "version_minor": 0
      },
      "text/plain": [
       "Backtest.optimize:   0%|          | 0/9 [00:00<?, ?it/s]"
      ]
     },
     "metadata": {},
     "output_type": "display_data"
    },
    {
     "data": {
      "application/vnd.jupyter.widget-view+json": {
       "model_id": "f0d52910715a4183a016a6ac1f488490",
       "version_major": 2,
       "version_minor": 0
      },
      "text/plain": [
       "Backtest.optimize:   0%|          | 0/9 [00:00<?, ?it/s]"
      ]
     },
     "metadata": {},
     "output_type": "display_data"
    },
    {
     "data": {
      "application/vnd.jupyter.widget-view+json": {
       "model_id": "b659912334574172a265e96397d62118",
       "version_major": 2,
       "version_minor": 0
      },
      "text/plain": [
       "Backtest.optimize:   0%|          | 0/9 [00:00<?, ?it/s]"
      ]
     },
     "metadata": {},
     "output_type": "display_data"
    },
    {
     "data": {
      "application/vnd.jupyter.widget-view+json": {
       "model_id": "02b5cb14d6644942bdec42aebb750f43",
       "version_major": 2,
       "version_minor": 0
      },
      "text/plain": [
       "Backtest.optimize:   0%|          | 0/9 [00:00<?, ?it/s]"
      ]
     },
     "metadata": {},
     "output_type": "display_data"
    },
    {
     "data": {
      "application/vnd.jupyter.widget-view+json": {
       "model_id": "e05e549891ab4b3b9249f0d40c6625c9",
       "version_major": 2,
       "version_minor": 0
      },
      "text/plain": [
       "Backtest.optimize:   0%|          | 0/9 [00:00<?, ?it/s]"
      ]
     },
     "metadata": {},
     "output_type": "display_data"
    },
    {
     "data": {
      "application/vnd.jupyter.widget-view+json": {
       "model_id": "7f30a08f11c048e48b3211c355323330",
       "version_major": 2,
       "version_minor": 0
      },
      "text/plain": [
       "Backtest.optimize:   0%|          | 0/9 [00:00<?, ?it/s]"
      ]
     },
     "metadata": {},
     "output_type": "display_data"
    },
    {
     "data": {
      "application/vnd.jupyter.widget-view+json": {
       "model_id": "5495a2daaf07400fa3dce683bcfa751c",
       "version_major": 2,
       "version_minor": 0
      },
      "text/plain": [
       "Backtest.optimize:   0%|          | 0/9 [00:00<?, ?it/s]"
      ]
     },
     "metadata": {},
     "output_type": "display_data"
    },
    {
     "data": {
      "application/vnd.jupyter.widget-view+json": {
       "model_id": "69065a441d6b4570bc4adeaf94582699",
       "version_major": 2,
       "version_minor": 0
      },
      "text/plain": [
       "Backtest.optimize:   0%|          | 0/9 [00:00<?, ?it/s]"
      ]
     },
     "metadata": {},
     "output_type": "display_data"
    },
    {
     "data": {
      "application/vnd.jupyter.widget-view+json": {
       "model_id": "59373c9101744505b35c3f2ee060534f",
       "version_major": 2,
       "version_minor": 0
      },
      "text/plain": [
       "Backtest.optimize:   0%|          | 0/9 [00:00<?, ?it/s]"
      ]
     },
     "metadata": {},
     "output_type": "display_data"
    },
    {
     "data": {
      "application/vnd.jupyter.widget-view+json": {
       "model_id": "2331d6cbb6914530afe91c5fd90b7fde",
       "version_major": 2,
       "version_minor": 0
      },
      "text/plain": [
       "Backtest.optimize:   0%|          | 0/9 [00:00<?, ?it/s]"
      ]
     },
     "metadata": {},
     "output_type": "display_data"
    },
    {
     "data": {
      "application/vnd.jupyter.widget-view+json": {
       "model_id": "9a117af75ceb45c9be02815b2ed45fee",
       "version_major": 2,
       "version_minor": 0
      },
      "text/plain": [
       "Backtest.optimize:   0%|          | 0/9 [00:00<?, ?it/s]"
      ]
     },
     "metadata": {},
     "output_type": "display_data"
    },
    {
     "data": {
      "application/vnd.jupyter.widget-view+json": {
       "model_id": "95ca6068ec6b4849856187579bd4c35a",
       "version_major": 2,
       "version_minor": 0
      },
      "text/plain": [
       "Backtest.optimize:   0%|          | 0/9 [00:00<?, ?it/s]"
      ]
     },
     "metadata": {},
     "output_type": "display_data"
    },
    {
     "data": {
      "application/vnd.jupyter.widget-view+json": {
       "model_id": "d43a862618da4e49b185bc2a62a5bc81",
       "version_major": 2,
       "version_minor": 0
      },
      "text/plain": [
       "Backtest.optimize:   0%|          | 0/9 [00:00<?, ?it/s]"
      ]
     },
     "metadata": {},
     "output_type": "display_data"
    },
    {
     "data": {
      "application/vnd.jupyter.widget-view+json": {
       "model_id": "5f13f71d6b014e3fa194476a4aa2efe5",
       "version_major": 2,
       "version_minor": 0
      },
      "text/plain": [
       "Backtest.optimize:   0%|          | 0/9 [00:00<?, ?it/s]"
      ]
     },
     "metadata": {},
     "output_type": "display_data"
    },
    {
     "data": {
      "application/vnd.jupyter.widget-view+json": {
       "model_id": "d2757240e15d488781854d8be9b621cb",
       "version_major": 2,
       "version_minor": 0
      },
      "text/plain": [
       "Backtest.optimize:   0%|          | 0/9 [00:00<?, ?it/s]"
      ]
     },
     "metadata": {},
     "output_type": "display_data"
    },
    {
     "data": {
      "application/vnd.jupyter.widget-view+json": {
       "model_id": "6bb06ad9999143ea9b73019f0b372265",
       "version_major": 2,
       "version_minor": 0
      },
      "text/plain": [
       "Backtest.optimize:   0%|          | 0/9 [00:00<?, ?it/s]"
      ]
     },
     "metadata": {},
     "output_type": "display_data"
    },
    {
     "data": {
      "application/vnd.jupyter.widget-view+json": {
       "model_id": "aac0001460884f6ea72226b9b674f768",
       "version_major": 2,
       "version_minor": 0
      },
      "text/plain": [
       "Backtest.optimize:   0%|          | 0/9 [00:00<?, ?it/s]"
      ]
     },
     "metadata": {},
     "output_type": "display_data"
    },
    {
     "data": {
      "application/vnd.jupyter.widget-view+json": {
       "model_id": "2391381a156c4c4d8a582da3499d462a",
       "version_major": 2,
       "version_minor": 0
      },
      "text/plain": [
       "Backtest.optimize:   0%|          | 0/9 [00:00<?, ?it/s]"
      ]
     },
     "metadata": {},
     "output_type": "display_data"
    },
    {
     "data": {
      "application/vnd.jupyter.widget-view+json": {
       "model_id": "50a91000074040498d3e5c6aea24ed11",
       "version_major": 2,
       "version_minor": 0
      },
      "text/plain": [
       "Backtest.optimize:   0%|          | 0/9 [00:00<?, ?it/s]"
      ]
     },
     "metadata": {},
     "output_type": "display_data"
    },
    {
     "data": {
      "application/vnd.jupyter.widget-view+json": {
       "model_id": "3ff1b27ab5fc4c7399dde0eb2e20dd76",
       "version_major": 2,
       "version_minor": 0
      },
      "text/plain": [
       "Backtest.optimize:   0%|          | 0/9 [00:00<?, ?it/s]"
      ]
     },
     "metadata": {},
     "output_type": "display_data"
    },
    {
     "data": {
      "application/vnd.jupyter.widget-view+json": {
       "model_id": "5e23683212384e77b879194822853b72",
       "version_major": 2,
       "version_minor": 0
      },
      "text/plain": [
       "Backtest.optimize:   0%|          | 0/9 [00:00<?, ?it/s]"
      ]
     },
     "metadata": {},
     "output_type": "display_data"
    },
    {
     "data": {
      "application/vnd.jupyter.widget-view+json": {
       "model_id": "84ebe4bc730244ca88502917b7902770",
       "version_major": 2,
       "version_minor": 0
      },
      "text/plain": [
       "Backtest.optimize:   0%|          | 0/9 [00:00<?, ?it/s]"
      ]
     },
     "metadata": {},
     "output_type": "display_data"
    },
    {
     "data": {
      "application/vnd.jupyter.widget-view+json": {
       "model_id": "18212a79e6ce445f833ec75db6fc5131",
       "version_major": 2,
       "version_minor": 0
      },
      "text/plain": [
       "Backtest.optimize:   0%|          | 0/9 [00:00<?, ?it/s]"
      ]
     },
     "metadata": {},
     "output_type": "display_data"
    },
    {
     "data": {
      "application/vnd.jupyter.widget-view+json": {
       "model_id": "08e286e960a842ddaf52f78493486b5f",
       "version_major": 2,
       "version_minor": 0
      },
      "text/plain": [
       "Backtest.optimize:   0%|          | 0/9 [00:00<?, ?it/s]"
      ]
     },
     "metadata": {},
     "output_type": "display_data"
    },
    {
     "data": {
      "application/vnd.jupyter.widget-view+json": {
       "model_id": "1348cfc11d7a4f1b8a72a4681ee9adf2",
       "version_major": 2,
       "version_minor": 0
      },
      "text/plain": [
       "Backtest.optimize:   0%|          | 0/9 [00:00<?, ?it/s]"
      ]
     },
     "metadata": {},
     "output_type": "display_data"
    },
    {
     "data": {
      "application/vnd.jupyter.widget-view+json": {
       "model_id": "4f349c37e92e470bac93945584b726ac",
       "version_major": 2,
       "version_minor": 0
      },
      "text/plain": [
       "Backtest.optimize:   0%|          | 0/9 [00:00<?, ?it/s]"
      ]
     },
     "metadata": {},
     "output_type": "display_data"
    },
    {
     "data": {
      "application/vnd.jupyter.widget-view+json": {
       "model_id": "5de2938b21524816b5a6f16ba55a8536",
       "version_major": 2,
       "version_minor": 0
      },
      "text/plain": [
       "Backtest.optimize:   0%|          | 0/9 [00:00<?, ?it/s]"
      ]
     },
     "metadata": {},
     "output_type": "display_data"
    },
    {
     "data": {
      "application/vnd.jupyter.widget-view+json": {
       "model_id": "3ea08b75ddae4813aeb7f33aef25129d",
       "version_major": 2,
       "version_minor": 0
      },
      "text/plain": [
       "Backtest.optimize:   0%|          | 0/9 [00:00<?, ?it/s]"
      ]
     },
     "metadata": {},
     "output_type": "display_data"
    },
    {
     "data": {
      "application/vnd.jupyter.widget-view+json": {
       "model_id": "8c367cb4136245a486cc72c2465befc0",
       "version_major": 2,
       "version_minor": 0
      },
      "text/plain": [
       "Backtest.optimize:   0%|          | 0/9 [00:00<?, ?it/s]"
      ]
     },
     "metadata": {},
     "output_type": "display_data"
    },
    {
     "data": {
      "application/vnd.jupyter.widget-view+json": {
       "model_id": "5d28530a32bb4858adfdd8f609e016a4",
       "version_major": 2,
       "version_minor": 0
      },
      "text/plain": [
       "Backtest.optimize:   0%|          | 0/9 [00:00<?, ?it/s]"
      ]
     },
     "metadata": {},
     "output_type": "display_data"
    },
    {
     "data": {
      "application/vnd.jupyter.widget-view+json": {
       "model_id": "5f2e675f2eee49128ceb706a6aff0141",
       "version_major": 2,
       "version_minor": 0
      },
      "text/plain": [
       "Backtest.optimize:   0%|          | 0/9 [00:00<?, ?it/s]"
      ]
     },
     "metadata": {},
     "output_type": "display_data"
    },
    {
     "data": {
      "application/vnd.jupyter.widget-view+json": {
       "model_id": "b657185da96b4c508dcb169377a770fb",
       "version_major": 2,
       "version_minor": 0
      },
      "text/plain": [
       "Backtest.optimize:   0%|          | 0/9 [00:00<?, ?it/s]"
      ]
     },
     "metadata": {},
     "output_type": "display_data"
    },
    {
     "data": {
      "application/vnd.jupyter.widget-view+json": {
       "model_id": "52c4ed266a5b4453918e975cab0be4a0",
       "version_major": 2,
       "version_minor": 0
      },
      "text/plain": [
       "Backtest.optimize:   0%|          | 0/9 [00:00<?, ?it/s]"
      ]
     },
     "metadata": {},
     "output_type": "display_data"
    },
    {
     "data": {
      "application/vnd.jupyter.widget-view+json": {
       "model_id": "e40e0fd9305d4068ae5fd9f64e18df79",
       "version_major": 2,
       "version_minor": 0
      },
      "text/plain": [
       "Backtest.optimize:   0%|          | 0/9 [00:00<?, ?it/s]"
      ]
     },
     "metadata": {},
     "output_type": "display_data"
    },
    {
     "data": {
      "application/vnd.jupyter.widget-view+json": {
       "model_id": "618ad6ad49ef496986cde59607085ea9",
       "version_major": 2,
       "version_minor": 0
      },
      "text/plain": [
       "Backtest.optimize:   0%|          | 0/9 [00:00<?, ?it/s]"
      ]
     },
     "metadata": {},
     "output_type": "display_data"
    },
    {
     "data": {
      "application/vnd.jupyter.widget-view+json": {
       "model_id": "ce5016c9c9aa404d8bbdaaa80175e87c",
       "version_major": 2,
       "version_minor": 0
      },
      "text/plain": [
       "Backtest.optimize:   0%|          | 0/9 [00:00<?, ?it/s]"
      ]
     },
     "metadata": {},
     "output_type": "display_data"
    },
    {
     "data": {
      "application/vnd.jupyter.widget-view+json": {
       "model_id": "b7d498e31c464c00a02a27df61b92d87",
       "version_major": 2,
       "version_minor": 0
      },
      "text/plain": [
       "Backtest.optimize:   0%|          | 0/9 [00:00<?, ?it/s]"
      ]
     },
     "metadata": {},
     "output_type": "display_data"
    },
    {
     "data": {
      "application/vnd.jupyter.widget-view+json": {
       "model_id": "71157b9667f84cebb5b3e0c566e7021c",
       "version_major": 2,
       "version_minor": 0
      },
      "text/plain": [
       "Backtest.optimize:   0%|          | 0/9 [00:00<?, ?it/s]"
      ]
     },
     "metadata": {},
     "output_type": "display_data"
    },
    {
     "data": {
      "application/vnd.jupyter.widget-view+json": {
       "model_id": "a3c95f9143e74ae697268416d335473e",
       "version_major": 2,
       "version_minor": 0
      },
      "text/plain": [
       "Backtest.optimize:   0%|          | 0/9 [00:00<?, ?it/s]"
      ]
     },
     "metadata": {},
     "output_type": "display_data"
    },
    {
     "data": {
      "application/vnd.jupyter.widget-view+json": {
       "model_id": "1b88ec4e1c0e46e1a9cf34007bf7e95e",
       "version_major": 2,
       "version_minor": 0
      },
      "text/plain": [
       "Backtest.optimize:   0%|          | 0/9 [00:00<?, ?it/s]"
      ]
     },
     "metadata": {},
     "output_type": "display_data"
    },
    {
     "data": {
      "application/vnd.jupyter.widget-view+json": {
       "model_id": "ac3bc35d76b945ac8d62a881b2c735f1",
       "version_major": 2,
       "version_minor": 0
      },
      "text/plain": [
       "Backtest.optimize:   0%|          | 0/9 [00:00<?, ?it/s]"
      ]
     },
     "metadata": {},
     "output_type": "display_data"
    },
    {
     "data": {
      "application/vnd.jupyter.widget-view+json": {
       "model_id": "91bf812c0a014d4bbc63ebd5bcebc416",
       "version_major": 2,
       "version_minor": 0
      },
      "text/plain": [
       "Backtest.optimize:   0%|          | 0/9 [00:00<?, ?it/s]"
      ]
     },
     "metadata": {},
     "output_type": "display_data"
    },
    {
     "data": {
      "application/vnd.jupyter.widget-view+json": {
       "model_id": "43d2d1d657d74a82904e81fd7a7d2fe1",
       "version_major": 2,
       "version_minor": 0
      },
      "text/plain": [
       "Backtest.optimize:   0%|          | 0/9 [00:00<?, ?it/s]"
      ]
     },
     "metadata": {},
     "output_type": "display_data"
    },
    {
     "data": {
      "application/vnd.jupyter.widget-view+json": {
       "model_id": "def91cfaf2f147589cfc889b87a46702",
       "version_major": 2,
       "version_minor": 0
      },
      "text/plain": [
       "Backtest.optimize:   0%|          | 0/9 [00:00<?, ?it/s]"
      ]
     },
     "metadata": {},
     "output_type": "display_data"
    },
    {
     "data": {
      "application/vnd.jupyter.widget-view+json": {
       "model_id": "4f04f3701e104acba1c68b0854fc9983",
       "version_major": 2,
       "version_minor": 0
      },
      "text/plain": [
       "Backtest.optimize:   0%|          | 0/9 [00:00<?, ?it/s]"
      ]
     },
     "metadata": {},
     "output_type": "display_data"
    },
    {
     "data": {
      "application/vnd.jupyter.widget-view+json": {
       "model_id": "119b4a71aa4842eda47b55bf40f5f2e4",
       "version_major": 2,
       "version_minor": 0
      },
      "text/plain": [
       "Backtest.optimize:   0%|          | 0/9 [00:00<?, ?it/s]"
      ]
     },
     "metadata": {},
     "output_type": "display_data"
    },
    {
     "data": {
      "application/vnd.jupyter.widget-view+json": {
       "model_id": "dabc22c0de464da9b3028946ebe41a8b",
       "version_major": 2,
       "version_minor": 0
      },
      "text/plain": [
       "Backtest.optimize:   0%|          | 0/9 [00:00<?, ?it/s]"
      ]
     },
     "metadata": {},
     "output_type": "display_data"
    },
    {
     "data": {
      "application/vnd.jupyter.widget-view+json": {
       "model_id": "047b8a0d578a4e28bb9aa8b6effde446",
       "version_major": 2,
       "version_minor": 0
      },
      "text/plain": [
       "Backtest.optimize:   0%|          | 0/9 [00:00<?, ?it/s]"
      ]
     },
     "metadata": {},
     "output_type": "display_data"
    },
    {
     "data": {
      "application/vnd.jupyter.widget-view+json": {
       "model_id": "efbae81671564b589c01d9e3a9fadc1a",
       "version_major": 2,
       "version_minor": 0
      },
      "text/plain": [
       "Backtest.optimize:   0%|          | 0/9 [00:00<?, ?it/s]"
      ]
     },
     "metadata": {},
     "output_type": "display_data"
    },
    {
     "data": {
      "application/vnd.jupyter.widget-view+json": {
       "model_id": "99ac733c7221493581f3a75b30043031",
       "version_major": 2,
       "version_minor": 0
      },
      "text/plain": [
       "Backtest.optimize:   0%|          | 0/9 [00:00<?, ?it/s]"
      ]
     },
     "metadata": {},
     "output_type": "display_data"
    },
    {
     "data": {
      "application/vnd.jupyter.widget-view+json": {
       "model_id": "e8ecc8e61f4142e4a5ccfe5d6b8606c8",
       "version_major": 2,
       "version_minor": 0
      },
      "text/plain": [
       "Backtest.optimize:   0%|          | 0/9 [00:00<?, ?it/s]"
      ]
     },
     "metadata": {},
     "output_type": "display_data"
    },
    {
     "name": "stderr",
     "output_type": "stream",
     "text": [
      "  7%|▋         | 4/60 [08:16<1:55:21, 123.59s/it]"
     ]
    },
    {
     "name": "stdout",
     "output_type": "stream",
     "text": [
      "BTC-USD : best_params: None, best_performance: -inf\n",
      "BTC-USD : train_set: 2019-05-13 00:00:00 - 2019-11-28 00:00:00, test_set: 2019-11-29 00:00:00 - 2019-12-31 00:00:00\n"
     ]
    },
    {
     "data": {
      "application/vnd.jupyter.widget-view+json": {
       "model_id": "c909a47513364cf48b5c4861ee432685",
       "version_major": 2,
       "version_minor": 0
      },
      "text/plain": [
       "Backtest.optimize:   0%|          | 0/9 [00:00<?, ?it/s]"
      ]
     },
     "metadata": {},
     "output_type": "display_data"
    },
    {
     "name": "stdout",
     "output_type": "stream",
     "text": [
      "Performance, current: 100.0, best_performance: -inf\n"
     ]
    },
    {
     "data": {
      "application/vnd.jupyter.widget-view+json": {
       "model_id": "27b94d464d63410d88a77cf0a29be982",
       "version_major": 2,
       "version_minor": 0
      },
      "text/plain": [
       "Backtest.optimize:   0%|          | 0/9 [00:00<?, ?it/s]"
      ]
     },
     "metadata": {},
     "output_type": "display_data"
    },
    {
     "data": {
      "application/vnd.jupyter.widget-view+json": {
       "model_id": "4211d865806f47f48e2f4e0a8b30b97c",
       "version_major": 2,
       "version_minor": 0
      },
      "text/plain": [
       "Backtest.optimize:   0%|          | 0/9 [00:00<?, ?it/s]"
      ]
     },
     "metadata": {},
     "output_type": "display_data"
    },
    {
     "data": {
      "application/vnd.jupyter.widget-view+json": {
       "model_id": "edc2cb8f3fbb41e1921b719e653f7a64",
       "version_major": 2,
       "version_minor": 0
      },
      "text/plain": [
       "Backtest.optimize:   0%|          | 0/9 [00:00<?, ?it/s]"
      ]
     },
     "metadata": {},
     "output_type": "display_data"
    },
    {
     "data": {
      "application/vnd.jupyter.widget-view+json": {
       "model_id": "079ba938c5ae410eb6e796848616c318",
       "version_major": 2,
       "version_minor": 0
      },
      "text/plain": [
       "Backtest.optimize:   0%|          | 0/9 [00:00<?, ?it/s]"
      ]
     },
     "metadata": {},
     "output_type": "display_data"
    },
    {
     "data": {
      "application/vnd.jupyter.widget-view+json": {
       "model_id": "b83d4d1c7ce34f0e8f157ba90924afd1",
       "version_major": 2,
       "version_minor": 0
      },
      "text/plain": [
       "Backtest.optimize:   0%|          | 0/9 [00:00<?, ?it/s]"
      ]
     },
     "metadata": {},
     "output_type": "display_data"
    },
    {
     "data": {
      "application/vnd.jupyter.widget-view+json": {
       "model_id": "f3ef22e1d8284ac2af458824191c1290",
       "version_major": 2,
       "version_minor": 0
      },
      "text/plain": [
       "Backtest.optimize:   0%|          | 0/9 [00:00<?, ?it/s]"
      ]
     },
     "metadata": {},
     "output_type": "display_data"
    },
    {
     "data": {
      "application/vnd.jupyter.widget-view+json": {
       "model_id": "f21b9da3414d4ee2a44cd2e20fad3275",
       "version_major": 2,
       "version_minor": 0
      },
      "text/plain": [
       "Backtest.optimize:   0%|          | 0/9 [00:00<?, ?it/s]"
      ]
     },
     "metadata": {},
     "output_type": "display_data"
    },
    {
     "data": {
      "application/vnd.jupyter.widget-view+json": {
       "model_id": "8a44c720b6f14481b5a1d506970c6bcd",
       "version_major": 2,
       "version_minor": 0
      },
      "text/plain": [
       "Backtest.optimize:   0%|          | 0/9 [00:00<?, ?it/s]"
      ]
     },
     "metadata": {},
     "output_type": "display_data"
    },
    {
     "data": {
      "application/vnd.jupyter.widget-view+json": {
       "model_id": "c0e934b339b54f58af65b80bb80ec464",
       "version_major": 2,
       "version_minor": 0
      },
      "text/plain": [
       "Backtest.optimize:   0%|          | 0/9 [00:00<?, ?it/s]"
      ]
     },
     "metadata": {},
     "output_type": "display_data"
    },
    {
     "data": {
      "application/vnd.jupyter.widget-view+json": {
       "model_id": "1ce7deed91a84a3b93d0070d0cb2f93f",
       "version_major": 2,
       "version_minor": 0
      },
      "text/plain": [
       "Backtest.optimize:   0%|          | 0/9 [00:00<?, ?it/s]"
      ]
     },
     "metadata": {},
     "output_type": "display_data"
    },
    {
     "data": {
      "application/vnd.jupyter.widget-view+json": {
       "model_id": "395a5de0e92c4719b56db39f24f27842",
       "version_major": 2,
       "version_minor": 0
      },
      "text/plain": [
       "Backtest.optimize:   0%|          | 0/9 [00:00<?, ?it/s]"
      ]
     },
     "metadata": {},
     "output_type": "display_data"
    },
    {
     "data": {
      "application/vnd.jupyter.widget-view+json": {
       "model_id": "2de6ef75ff584b5482aa8befbbaf2108",
       "version_major": 2,
       "version_minor": 0
      },
      "text/plain": [
       "Backtest.optimize:   0%|          | 0/9 [00:00<?, ?it/s]"
      ]
     },
     "metadata": {},
     "output_type": "display_data"
    },
    {
     "data": {
      "application/vnd.jupyter.widget-view+json": {
       "model_id": "80a5bb3901ef4ee9b78f671ac1b2cbef",
       "version_major": 2,
       "version_minor": 0
      },
      "text/plain": [
       "Backtest.optimize:   0%|          | 0/9 [00:00<?, ?it/s]"
      ]
     },
     "metadata": {},
     "output_type": "display_data"
    },
    {
     "data": {
      "application/vnd.jupyter.widget-view+json": {
       "model_id": "a48751ff1a604d1ca362ab6fae1907f8",
       "version_major": 2,
       "version_minor": 0
      },
      "text/plain": [
       "Backtest.optimize:   0%|          | 0/9 [00:00<?, ?it/s]"
      ]
     },
     "metadata": {},
     "output_type": "display_data"
    },
    {
     "data": {
      "application/vnd.jupyter.widget-view+json": {
       "model_id": "ab2b66b5874440cd8011e5a08ca40020",
       "version_major": 2,
       "version_minor": 0
      },
      "text/plain": [
       "Backtest.optimize:   0%|          | 0/9 [00:00<?, ?it/s]"
      ]
     },
     "metadata": {},
     "output_type": "display_data"
    },
    {
     "data": {
      "application/vnd.jupyter.widget-view+json": {
       "model_id": "2ed85b5f17d744068324a4aff2a8c00c",
       "version_major": 2,
       "version_minor": 0
      },
      "text/plain": [
       "Backtest.optimize:   0%|          | 0/9 [00:00<?, ?it/s]"
      ]
     },
     "metadata": {},
     "output_type": "display_data"
    },
    {
     "data": {
      "application/vnd.jupyter.widget-view+json": {
       "model_id": "5539083c2fc0452487583d48e67af03f",
       "version_major": 2,
       "version_minor": 0
      },
      "text/plain": [
       "Backtest.optimize:   0%|          | 0/9 [00:00<?, ?it/s]"
      ]
     },
     "metadata": {},
     "output_type": "display_data"
    },
    {
     "data": {
      "application/vnd.jupyter.widget-view+json": {
       "model_id": "d560120506bf4059b4afd91a068a3463",
       "version_major": 2,
       "version_minor": 0
      },
      "text/plain": [
       "Backtest.optimize:   0%|          | 0/9 [00:00<?, ?it/s]"
      ]
     },
     "metadata": {},
     "output_type": "display_data"
    },
    {
     "data": {
      "application/vnd.jupyter.widget-view+json": {
       "model_id": "e20190860e24424193458d3bd5cd6a4d",
       "version_major": 2,
       "version_minor": 0
      },
      "text/plain": [
       "Backtest.optimize:   0%|          | 0/9 [00:00<?, ?it/s]"
      ]
     },
     "metadata": {},
     "output_type": "display_data"
    },
    {
     "data": {
      "application/vnd.jupyter.widget-view+json": {
       "model_id": "18d2408ca4ff4e8a8374fe72ea41fd0a",
       "version_major": 2,
       "version_minor": 0
      },
      "text/plain": [
       "Backtest.optimize:   0%|          | 0/9 [00:00<?, ?it/s]"
      ]
     },
     "metadata": {},
     "output_type": "display_data"
    },
    {
     "data": {
      "application/vnd.jupyter.widget-view+json": {
       "model_id": "66f7c304e3494f718de882b8cfd24b8b",
       "version_major": 2,
       "version_minor": 0
      },
      "text/plain": [
       "Backtest.optimize:   0%|          | 0/9 [00:00<?, ?it/s]"
      ]
     },
     "metadata": {},
     "output_type": "display_data"
    },
    {
     "data": {
      "application/vnd.jupyter.widget-view+json": {
       "model_id": "b97125f48d3949cf969c458ac75c7e05",
       "version_major": 2,
       "version_minor": 0
      },
      "text/plain": [
       "Backtest.optimize:   0%|          | 0/9 [00:00<?, ?it/s]"
      ]
     },
     "metadata": {},
     "output_type": "display_data"
    },
    {
     "data": {
      "application/vnd.jupyter.widget-view+json": {
       "model_id": "0186421b31424dad967b963ccf640020",
       "version_major": 2,
       "version_minor": 0
      },
      "text/plain": [
       "Backtest.optimize:   0%|          | 0/9 [00:00<?, ?it/s]"
      ]
     },
     "metadata": {},
     "output_type": "display_data"
    },
    {
     "data": {
      "application/vnd.jupyter.widget-view+json": {
       "model_id": "3deee7ea6bd84d1cacdf70f8cc798811",
       "version_major": 2,
       "version_minor": 0
      },
      "text/plain": [
       "Backtest.optimize:   0%|          | 0/9 [00:00<?, ?it/s]"
      ]
     },
     "metadata": {},
     "output_type": "display_data"
    },
    {
     "data": {
      "application/vnd.jupyter.widget-view+json": {
       "model_id": "3d372f243b274af78e8926d60d8ddbac",
       "version_major": 2,
       "version_minor": 0
      },
      "text/plain": [
       "Backtest.optimize:   0%|          | 0/9 [00:00<?, ?it/s]"
      ]
     },
     "metadata": {},
     "output_type": "display_data"
    },
    {
     "data": {
      "application/vnd.jupyter.widget-view+json": {
       "model_id": "fa89f62d7e98484d882f681a3515d946",
       "version_major": 2,
       "version_minor": 0
      },
      "text/plain": [
       "Backtest.optimize:   0%|          | 0/9 [00:00<?, ?it/s]"
      ]
     },
     "metadata": {},
     "output_type": "display_data"
    },
    {
     "data": {
      "application/vnd.jupyter.widget-view+json": {
       "model_id": "95e9dd1de2f94b64a36306494149f92a",
       "version_major": 2,
       "version_minor": 0
      },
      "text/plain": [
       "Backtest.optimize:   0%|          | 0/9 [00:00<?, ?it/s]"
      ]
     },
     "metadata": {},
     "output_type": "display_data"
    },
    {
     "data": {
      "application/vnd.jupyter.widget-view+json": {
       "model_id": "92fdfd425daa444a9c34e0c4f17729f5",
       "version_major": 2,
       "version_minor": 0
      },
      "text/plain": [
       "Backtest.optimize:   0%|          | 0/9 [00:00<?, ?it/s]"
      ]
     },
     "metadata": {},
     "output_type": "display_data"
    },
    {
     "data": {
      "application/vnd.jupyter.widget-view+json": {
       "model_id": "085941dad19344b7b1ed931d964d2d7b",
       "version_major": 2,
       "version_minor": 0
      },
      "text/plain": [
       "Backtest.optimize:   0%|          | 0/9 [00:00<?, ?it/s]"
      ]
     },
     "metadata": {},
     "output_type": "display_data"
    },
    {
     "data": {
      "application/vnd.jupyter.widget-view+json": {
       "model_id": "aba7545158384144af0c678f815812a8",
       "version_major": 2,
       "version_minor": 0
      },
      "text/plain": [
       "Backtest.optimize:   0%|          | 0/9 [00:00<?, ?it/s]"
      ]
     },
     "metadata": {},
     "output_type": "display_data"
    },
    {
     "data": {
      "application/vnd.jupyter.widget-view+json": {
       "model_id": "8a297340d10a4e6fb3279f8eda0a9a07",
       "version_major": 2,
       "version_minor": 0
      },
      "text/plain": [
       "Backtest.optimize:   0%|          | 0/9 [00:00<?, ?it/s]"
      ]
     },
     "metadata": {},
     "output_type": "display_data"
    },
    {
     "data": {
      "application/vnd.jupyter.widget-view+json": {
       "model_id": "117f2417916d4c97bb6fce1bc1da32c7",
       "version_major": 2,
       "version_minor": 0
      },
      "text/plain": [
       "Backtest.optimize:   0%|          | 0/9 [00:00<?, ?it/s]"
      ]
     },
     "metadata": {},
     "output_type": "display_data"
    },
    {
     "data": {
      "application/vnd.jupyter.widget-view+json": {
       "model_id": "9139de11e95e49679f61ab1ba68ecc34",
       "version_major": 2,
       "version_minor": 0
      },
      "text/plain": [
       "Backtest.optimize:   0%|          | 0/9 [00:00<?, ?it/s]"
      ]
     },
     "metadata": {},
     "output_type": "display_data"
    },
    {
     "data": {
      "application/vnd.jupyter.widget-view+json": {
       "model_id": "a37377a2204145989a5ecf287d987f92",
       "version_major": 2,
       "version_minor": 0
      },
      "text/plain": [
       "Backtest.optimize:   0%|          | 0/9 [00:00<?, ?it/s]"
      ]
     },
     "metadata": {},
     "output_type": "display_data"
    },
    {
     "data": {
      "application/vnd.jupyter.widget-view+json": {
       "model_id": "b5558eebc56f45f092fadba75af5c738",
       "version_major": 2,
       "version_minor": 0
      },
      "text/plain": [
       "Backtest.optimize:   0%|          | 0/9 [00:00<?, ?it/s]"
      ]
     },
     "metadata": {},
     "output_type": "display_data"
    },
    {
     "data": {
      "application/vnd.jupyter.widget-view+json": {
       "model_id": "18de9706ae484db0b46582dfbd782169",
       "version_major": 2,
       "version_minor": 0
      },
      "text/plain": [
       "Backtest.optimize:   0%|          | 0/9 [00:00<?, ?it/s]"
      ]
     },
     "metadata": {},
     "output_type": "display_data"
    },
    {
     "data": {
      "application/vnd.jupyter.widget-view+json": {
       "model_id": "bfa7d8a632a844d0b9ddb63f8abdd262",
       "version_major": 2,
       "version_minor": 0
      },
      "text/plain": [
       "Backtest.optimize:   0%|          | 0/9 [00:00<?, ?it/s]"
      ]
     },
     "metadata": {},
     "output_type": "display_data"
    },
    {
     "data": {
      "application/vnd.jupyter.widget-view+json": {
       "model_id": "b1920bfab44c4a22b814c78a4335ff92",
       "version_major": 2,
       "version_minor": 0
      },
      "text/plain": [
       "Backtest.optimize:   0%|          | 0/9 [00:00<?, ?it/s]"
      ]
     },
     "metadata": {},
     "output_type": "display_data"
    },
    {
     "data": {
      "application/vnd.jupyter.widget-view+json": {
       "model_id": "3d8e1a3db4ca495b8bdf5b214149030e",
       "version_major": 2,
       "version_minor": 0
      },
      "text/plain": [
       "Backtest.optimize:   0%|          | 0/9 [00:00<?, ?it/s]"
      ]
     },
     "metadata": {},
     "output_type": "display_data"
    },
    {
     "data": {
      "application/vnd.jupyter.widget-view+json": {
       "model_id": "cc8f54fa2ccf44ff92d67c345081e58c",
       "version_major": 2,
       "version_minor": 0
      },
      "text/plain": [
       "Backtest.optimize:   0%|          | 0/9 [00:00<?, ?it/s]"
      ]
     },
     "metadata": {},
     "output_type": "display_data"
    },
    {
     "data": {
      "application/vnd.jupyter.widget-view+json": {
       "model_id": "21bc4e7df0654554a352c8455ec23347",
       "version_major": 2,
       "version_minor": 0
      },
      "text/plain": [
       "Backtest.optimize:   0%|          | 0/9 [00:00<?, ?it/s]"
      ]
     },
     "metadata": {},
     "output_type": "display_data"
    },
    {
     "data": {
      "application/vnd.jupyter.widget-view+json": {
       "model_id": "4b04ce141bc04654838f7e50021e3b09",
       "version_major": 2,
       "version_minor": 0
      },
      "text/plain": [
       "Backtest.optimize:   0%|          | 0/9 [00:00<?, ?it/s]"
      ]
     },
     "metadata": {},
     "output_type": "display_data"
    },
    {
     "data": {
      "application/vnd.jupyter.widget-view+json": {
       "model_id": "054f30b3525b46c6a57d2c8748ed6654",
       "version_major": 2,
       "version_minor": 0
      },
      "text/plain": [
       "Backtest.optimize:   0%|          | 0/9 [00:00<?, ?it/s]"
      ]
     },
     "metadata": {},
     "output_type": "display_data"
    },
    {
     "data": {
      "application/vnd.jupyter.widget-view+json": {
       "model_id": "573aef131e3f4798a87311531d3d4768",
       "version_major": 2,
       "version_minor": 0
      },
      "text/plain": [
       "Backtest.optimize:   0%|          | 0/9 [00:00<?, ?it/s]"
      ]
     },
     "metadata": {},
     "output_type": "display_data"
    },
    {
     "data": {
      "application/vnd.jupyter.widget-view+json": {
       "model_id": "e319311be872443db2ad5615f48c3174",
       "version_major": 2,
       "version_minor": 0
      },
      "text/plain": [
       "Backtest.optimize:   0%|          | 0/9 [00:00<?, ?it/s]"
      ]
     },
     "metadata": {},
     "output_type": "display_data"
    },
    {
     "data": {
      "application/vnd.jupyter.widget-view+json": {
       "model_id": "e5a35be364db421f8478a2ff09ebcfe6",
       "version_major": 2,
       "version_minor": 0
      },
      "text/plain": [
       "Backtest.optimize:   0%|          | 0/9 [00:00<?, ?it/s]"
      ]
     },
     "metadata": {},
     "output_type": "display_data"
    },
    {
     "data": {
      "application/vnd.jupyter.widget-view+json": {
       "model_id": "80c14d74e7f942babf4a5b35a58f22ce",
       "version_major": 2,
       "version_minor": 0
      },
      "text/plain": [
       "Backtest.optimize:   0%|          | 0/9 [00:00<?, ?it/s]"
      ]
     },
     "metadata": {},
     "output_type": "display_data"
    },
    {
     "data": {
      "application/vnd.jupyter.widget-view+json": {
       "model_id": "bc379f544fdf4ad7a71603bc1b51569e",
       "version_major": 2,
       "version_minor": 0
      },
      "text/plain": [
       "Backtest.optimize:   0%|          | 0/9 [00:00<?, ?it/s]"
      ]
     },
     "metadata": {},
     "output_type": "display_data"
    },
    {
     "data": {
      "application/vnd.jupyter.widget-view+json": {
       "model_id": "9a77af3ff977414eb7cd4e381cbf8975",
       "version_major": 2,
       "version_minor": 0
      },
      "text/plain": [
       "Backtest.optimize:   0%|          | 0/9 [00:00<?, ?it/s]"
      ]
     },
     "metadata": {},
     "output_type": "display_data"
    },
    {
     "data": {
      "application/vnd.jupyter.widget-view+json": {
       "model_id": "7fd1c5f430474bb8a916d7c21b97d70b",
       "version_major": 2,
       "version_minor": 0
      },
      "text/plain": [
       "Backtest.optimize:   0%|          | 0/9 [00:00<?, ?it/s]"
      ]
     },
     "metadata": {},
     "output_type": "display_data"
    },
    {
     "data": {
      "application/vnd.jupyter.widget-view+json": {
       "model_id": "68c53936b4664f928d8d9ef708ba8cc5",
       "version_major": 2,
       "version_minor": 0
      },
      "text/plain": [
       "Backtest.optimize:   0%|          | 0/9 [00:00<?, ?it/s]"
      ]
     },
     "metadata": {},
     "output_type": "display_data"
    },
    {
     "data": {
      "application/vnd.jupyter.widget-view+json": {
       "model_id": "08a8db2c58bd46fb82385eaeca736bce",
       "version_major": 2,
       "version_minor": 0
      },
      "text/plain": [
       "Backtest.optimize:   0%|          | 0/9 [00:00<?, ?it/s]"
      ]
     },
     "metadata": {},
     "output_type": "display_data"
    },
    {
     "data": {
      "application/vnd.jupyter.widget-view+json": {
       "model_id": "f155b293dfbd43f98c220f78fa11707c",
       "version_major": 2,
       "version_minor": 0
      },
      "text/plain": [
       "Backtest.optimize:   0%|          | 0/9 [00:00<?, ?it/s]"
      ]
     },
     "metadata": {},
     "output_type": "display_data"
    },
    {
     "data": {
      "application/vnd.jupyter.widget-view+json": {
       "model_id": "9a1b01eb7871427a8fe1315fc2729249",
       "version_major": 2,
       "version_minor": 0
      },
      "text/plain": [
       "Backtest.optimize:   0%|          | 0/9 [00:00<?, ?it/s]"
      ]
     },
     "metadata": {},
     "output_type": "display_data"
    },
    {
     "data": {
      "application/vnd.jupyter.widget-view+json": {
       "model_id": "f788f7b7a3e94d2cafe607b17aa79afe",
       "version_major": 2,
       "version_minor": 0
      },
      "text/plain": [
       "Backtest.optimize:   0%|          | 0/9 [00:00<?, ?it/s]"
      ]
     },
     "metadata": {},
     "output_type": "display_data"
    },
    {
     "data": {
      "application/vnd.jupyter.widget-view+json": {
       "model_id": "d3e98b101cd040df8b6f172073692f02",
       "version_major": 2,
       "version_minor": 0
      },
      "text/plain": [
       "Backtest.optimize:   0%|          | 0/9 [00:00<?, ?it/s]"
      ]
     },
     "metadata": {},
     "output_type": "display_data"
    },
    {
     "data": {
      "application/vnd.jupyter.widget-view+json": {
       "model_id": "150953b9d61b4cc9a158114d14ac00ab",
       "version_major": 2,
       "version_minor": 0
      },
      "text/plain": [
       "Backtest.optimize:   0%|          | 0/9 [00:00<?, ?it/s]"
      ]
     },
     "metadata": {},
     "output_type": "display_data"
    },
    {
     "data": {
      "application/vnd.jupyter.widget-view+json": {
       "model_id": "ede4cc30cf9a4b6694d943fb50b654c9",
       "version_major": 2,
       "version_minor": 0
      },
      "text/plain": [
       "Backtest.optimize:   0%|          | 0/9 [00:00<?, ?it/s]"
      ]
     },
     "metadata": {},
     "output_type": "display_data"
    },
    {
     "data": {
      "application/vnd.jupyter.widget-view+json": {
       "model_id": "05331157d6fa48c6b39968db5b30da8e",
       "version_major": 2,
       "version_minor": 0
      },
      "text/plain": [
       "Backtest.optimize:   0%|          | 0/9 [00:00<?, ?it/s]"
      ]
     },
     "metadata": {},
     "output_type": "display_data"
    },
    {
     "data": {
      "application/vnd.jupyter.widget-view+json": {
       "model_id": "7a7bf639dab340a4a08bea09499e716f",
       "version_major": 2,
       "version_minor": 0
      },
      "text/plain": [
       "Backtest.optimize:   0%|          | 0/9 [00:00<?, ?it/s]"
      ]
     },
     "metadata": {},
     "output_type": "display_data"
    },
    {
     "data": {
      "application/vnd.jupyter.widget-view+json": {
       "model_id": "6841f1427a814ef9a74f389fe3d29c31",
       "version_major": 2,
       "version_minor": 0
      },
      "text/plain": [
       "Backtest.optimize:   0%|          | 0/9 [00:00<?, ?it/s]"
      ]
     },
     "metadata": {},
     "output_type": "display_data"
    },
    {
     "data": {
      "application/vnd.jupyter.widget-view+json": {
       "model_id": "c1323fa2e94143e89779cce2c799a9fc",
       "version_major": 2,
       "version_minor": 0
      },
      "text/plain": [
       "Backtest.optimize:   0%|          | 0/9 [00:00<?, ?it/s]"
      ]
     },
     "metadata": {},
     "output_type": "display_data"
    },
    {
     "data": {
      "application/vnd.jupyter.widget-view+json": {
       "model_id": "97eb7720c8b741e0b031df9aee20ae00",
       "version_major": 2,
       "version_minor": 0
      },
      "text/plain": [
       "Backtest.optimize:   0%|          | 0/9 [00:00<?, ?it/s]"
      ]
     },
     "metadata": {},
     "output_type": "display_data"
    },
    {
     "data": {
      "application/vnd.jupyter.widget-view+json": {
       "model_id": "5490c85af4884eec83eeb382a1c71d57",
       "version_major": 2,
       "version_minor": 0
      },
      "text/plain": [
       "Backtest.optimize:   0%|          | 0/9 [00:00<?, ?it/s]"
      ]
     },
     "metadata": {},
     "output_type": "display_data"
    },
    {
     "data": {
      "application/vnd.jupyter.widget-view+json": {
       "model_id": "8c6a637b610f4ff0aae9b13e7a734a47",
       "version_major": 2,
       "version_minor": 0
      },
      "text/plain": [
       "Backtest.optimize:   0%|          | 0/9 [00:00<?, ?it/s]"
      ]
     },
     "metadata": {},
     "output_type": "display_data"
    },
    {
     "data": {
      "application/vnd.jupyter.widget-view+json": {
       "model_id": "16bea45854704ff58ba157efc7a9f2e9",
       "version_major": 2,
       "version_minor": 0
      },
      "text/plain": [
       "Backtest.optimize:   0%|          | 0/9 [00:00<?, ?it/s]"
      ]
     },
     "metadata": {},
     "output_type": "display_data"
    },
    {
     "data": {
      "application/vnd.jupyter.widget-view+json": {
       "model_id": "9f2f2302e82543bfbe3c7d4070c54a42",
       "version_major": 2,
       "version_minor": 0
      },
      "text/plain": [
       "Backtest.optimize:   0%|          | 0/9 [00:00<?, ?it/s]"
      ]
     },
     "metadata": {},
     "output_type": "display_data"
    },
    {
     "data": {
      "application/vnd.jupyter.widget-view+json": {
       "model_id": "dec790898cb0443e97381d929c83ba91",
       "version_major": 2,
       "version_minor": 0
      },
      "text/plain": [
       "Backtest.optimize:   0%|          | 0/9 [00:00<?, ?it/s]"
      ]
     },
     "metadata": {},
     "output_type": "display_data"
    },
    {
     "data": {
      "application/vnd.jupyter.widget-view+json": {
       "model_id": "c96d7c1a7c8141f99fac62fbfe023aa7",
       "version_major": 2,
       "version_minor": 0
      },
      "text/plain": [
       "Backtest.optimize:   0%|          | 0/9 [00:00<?, ?it/s]"
      ]
     },
     "metadata": {},
     "output_type": "display_data"
    },
    {
     "data": {
      "application/vnd.jupyter.widget-view+json": {
       "model_id": "949fbcda6e784d0d9a1e1c73b4a44d8f",
       "version_major": 2,
       "version_minor": 0
      },
      "text/plain": [
       "Backtest.optimize:   0%|          | 0/9 [00:00<?, ?it/s]"
      ]
     },
     "metadata": {},
     "output_type": "display_data"
    },
    {
     "data": {
      "application/vnd.jupyter.widget-view+json": {
       "model_id": "9498bc0561914db799dd92e4676dd811",
       "version_major": 2,
       "version_minor": 0
      },
      "text/plain": [
       "Backtest.optimize:   0%|          | 0/9 [00:00<?, ?it/s]"
      ]
     },
     "metadata": {},
     "output_type": "display_data"
    },
    {
     "data": {
      "application/vnd.jupyter.widget-view+json": {
       "model_id": "05b06b4ec0d64dd69b2d3201b6ce5e0e",
       "version_major": 2,
       "version_minor": 0
      },
      "text/plain": [
       "Backtest.optimize:   0%|          | 0/9 [00:00<?, ?it/s]"
      ]
     },
     "metadata": {},
     "output_type": "display_data"
    },
    {
     "data": {
      "application/vnd.jupyter.widget-view+json": {
       "model_id": "40f25e0830024380a5b83f9ee1336979",
       "version_major": 2,
       "version_minor": 0
      },
      "text/plain": [
       "Backtest.optimize:   0%|          | 0/9 [00:00<?, ?it/s]"
      ]
     },
     "metadata": {},
     "output_type": "display_data"
    },
    {
     "data": {
      "application/vnd.jupyter.widget-view+json": {
       "model_id": "ae99f7fdacd74896bce342dd30b558d9",
       "version_major": 2,
       "version_minor": 0
      },
      "text/plain": [
       "Backtest.optimize:   0%|          | 0/9 [00:00<?, ?it/s]"
      ]
     },
     "metadata": {},
     "output_type": "display_data"
    },
    {
     "data": {
      "application/vnd.jupyter.widget-view+json": {
       "model_id": "d54b5418f6134f08a9fc8fe8980f55cd",
       "version_major": 2,
       "version_minor": 0
      },
      "text/plain": [
       "Backtest.optimize:   0%|          | 0/9 [00:00<?, ?it/s]"
      ]
     },
     "metadata": {},
     "output_type": "display_data"
    },
    {
     "data": {
      "application/vnd.jupyter.widget-view+json": {
       "model_id": "45ddfc47b9334690acecf2f92099c08a",
       "version_major": 2,
       "version_minor": 0
      },
      "text/plain": [
       "Backtest.optimize:   0%|          | 0/9 [00:00<?, ?it/s]"
      ]
     },
     "metadata": {},
     "output_type": "display_data"
    },
    {
     "data": {
      "application/vnd.jupyter.widget-view+json": {
       "model_id": "a52c0a3bcd0f4ff3a77510a5f00ced5b",
       "version_major": 2,
       "version_minor": 0
      },
      "text/plain": [
       "Backtest.optimize:   0%|          | 0/9 [00:00<?, ?it/s]"
      ]
     },
     "metadata": {},
     "output_type": "display_data"
    },
    {
     "data": {
      "application/vnd.jupyter.widget-view+json": {
       "model_id": "299aec9ac10f47389552b82c9863efea",
       "version_major": 2,
       "version_minor": 0
      },
      "text/plain": [
       "Backtest.optimize:   0%|          | 0/9 [00:00<?, ?it/s]"
      ]
     },
     "metadata": {},
     "output_type": "display_data"
    },
    {
     "data": {
      "application/vnd.jupyter.widget-view+json": {
       "model_id": "976300b902924f21a387199b8266d1b4",
       "version_major": 2,
       "version_minor": 0
      },
      "text/plain": [
       "Backtest.optimize:   0%|          | 0/9 [00:00<?, ?it/s]"
      ]
     },
     "metadata": {},
     "output_type": "display_data"
    },
    {
     "data": {
      "application/vnd.jupyter.widget-view+json": {
       "model_id": "0878d9ffa97941babe888f21a76563fd",
       "version_major": 2,
       "version_minor": 0
      },
      "text/plain": [
       "Backtest.optimize:   0%|          | 0/9 [00:00<?, ?it/s]"
      ]
     },
     "metadata": {},
     "output_type": "display_data"
    },
    {
     "name": "stderr",
     "output_type": "stream",
     "text": [
      "  8%|▊         | 5/60 [10:24<1:54:39, 125.09s/it]"
     ]
    },
    {
     "name": "stdout",
     "output_type": "stream",
     "text": [
      "BTC-USD : best_params: {'cash': 10000, 'maximize': 'Return [%]', 'max_tries': 300, 'method': 'grid', 'stats_item': 'Win Rate [%]', 'bb_std': 1.5, 'back_candles': 7, 'ema_period': 30, 'bb_period': 30, 'bb_width_threshold': 0.001, 'atr_period': 14, 'rsi_period': 14}, best_performance: 100.0\n",
      "BTC-USD : train_set: 2019-06-15 00:00:00 - 2019-12-31 00:00:00, test_set: 2020-01-01 00:00:00 - 2020-02-02 00:00:00\n"
     ]
    },
    {
     "data": {
      "application/vnd.jupyter.widget-view+json": {
       "model_id": "60cc362ecc8f47c1b9737c42929d3969",
       "version_major": 2,
       "version_minor": 0
      },
      "text/plain": [
       "Backtest.optimize:   0%|          | 0/9 [00:00<?, ?it/s]"
      ]
     },
     "metadata": {},
     "output_type": "display_data"
    },
    {
     "data": {
      "application/vnd.jupyter.widget-view+json": {
       "model_id": "e213aa0acdc4446380b3a23b1975d0f7",
       "version_major": 2,
       "version_minor": 0
      },
      "text/plain": [
       "Backtest.optimize:   0%|          | 0/9 [00:00<?, ?it/s]"
      ]
     },
     "metadata": {},
     "output_type": "display_data"
    },
    {
     "data": {
      "application/vnd.jupyter.widget-view+json": {
       "model_id": "6ff2b408508f464790e34555a9fa1fb0",
       "version_major": 2,
       "version_minor": 0
      },
      "text/plain": [
       "Backtest.optimize:   0%|          | 0/9 [00:00<?, ?it/s]"
      ]
     },
     "metadata": {},
     "output_type": "display_data"
    },
    {
     "data": {
      "application/vnd.jupyter.widget-view+json": {
       "model_id": "b009ab368bc64f4d93ef05fc5260367a",
       "version_major": 2,
       "version_minor": 0
      },
      "text/plain": [
       "Backtest.optimize:   0%|          | 0/9 [00:00<?, ?it/s]"
      ]
     },
     "metadata": {},
     "output_type": "display_data"
    },
    {
     "data": {
      "application/vnd.jupyter.widget-view+json": {
       "model_id": "b2ad6d2b730443dca630deb86fec3fea",
       "version_major": 2,
       "version_minor": 0
      },
      "text/plain": [
       "Backtest.optimize:   0%|          | 0/9 [00:00<?, ?it/s]"
      ]
     },
     "metadata": {},
     "output_type": "display_data"
    },
    {
     "data": {
      "application/vnd.jupyter.widget-view+json": {
       "model_id": "0639dbc47b2e45f78d3eeabaf38d8b93",
       "version_major": 2,
       "version_minor": 0
      },
      "text/plain": [
       "Backtest.optimize:   0%|          | 0/9 [00:00<?, ?it/s]"
      ]
     },
     "metadata": {},
     "output_type": "display_data"
    },
    {
     "data": {
      "application/vnd.jupyter.widget-view+json": {
       "model_id": "064d8fa0b2244782be963f5094130da3",
       "version_major": 2,
       "version_minor": 0
      },
      "text/plain": [
       "Backtest.optimize:   0%|          | 0/9 [00:00<?, ?it/s]"
      ]
     },
     "metadata": {},
     "output_type": "display_data"
    },
    {
     "data": {
      "application/vnd.jupyter.widget-view+json": {
       "model_id": "d66f54a1d0ef45a7a3319c0bb9e30abc",
       "version_major": 2,
       "version_minor": 0
      },
      "text/plain": [
       "Backtest.optimize:   0%|          | 0/9 [00:00<?, ?it/s]"
      ]
     },
     "metadata": {},
     "output_type": "display_data"
    },
    {
     "data": {
      "application/vnd.jupyter.widget-view+json": {
       "model_id": "c49cf5426f8a4bf79631de6c0e9c7546",
       "version_major": 2,
       "version_minor": 0
      },
      "text/plain": [
       "Backtest.optimize:   0%|          | 0/9 [00:00<?, ?it/s]"
      ]
     },
     "metadata": {},
     "output_type": "display_data"
    },
    {
     "data": {
      "application/vnd.jupyter.widget-view+json": {
       "model_id": "9ef1be5815f1493ba07fc8b2ce87acf4",
       "version_major": 2,
       "version_minor": 0
      },
      "text/plain": [
       "Backtest.optimize:   0%|          | 0/9 [00:00<?, ?it/s]"
      ]
     },
     "metadata": {},
     "output_type": "display_data"
    },
    {
     "data": {
      "application/vnd.jupyter.widget-view+json": {
       "model_id": "e83806c679764d5a92afe19658a0269e",
       "version_major": 2,
       "version_minor": 0
      },
      "text/plain": [
       "Backtest.optimize:   0%|          | 0/9 [00:00<?, ?it/s]"
      ]
     },
     "metadata": {},
     "output_type": "display_data"
    },
    {
     "data": {
      "application/vnd.jupyter.widget-view+json": {
       "model_id": "b87da12678a549adbbe953ac5cf95c59",
       "version_major": 2,
       "version_minor": 0
      },
      "text/plain": [
       "Backtest.optimize:   0%|          | 0/9 [00:00<?, ?it/s]"
      ]
     },
     "metadata": {},
     "output_type": "display_data"
    },
    {
     "data": {
      "application/vnd.jupyter.widget-view+json": {
       "model_id": "052fb3709fc24e83b6637d3852ccb147",
       "version_major": 2,
       "version_minor": 0
      },
      "text/plain": [
       "Backtest.optimize:   0%|          | 0/9 [00:00<?, ?it/s]"
      ]
     },
     "metadata": {},
     "output_type": "display_data"
    },
    {
     "data": {
      "application/vnd.jupyter.widget-view+json": {
       "model_id": "4975285ed0524ce594f809909afc58b6",
       "version_major": 2,
       "version_minor": 0
      },
      "text/plain": [
       "Backtest.optimize:   0%|          | 0/9 [00:00<?, ?it/s]"
      ]
     },
     "metadata": {},
     "output_type": "display_data"
    },
    {
     "data": {
      "application/vnd.jupyter.widget-view+json": {
       "model_id": "d091131433674d0f9cb0027b9dd36b03",
       "version_major": 2,
       "version_minor": 0
      },
      "text/plain": [
       "Backtest.optimize:   0%|          | 0/9 [00:00<?, ?it/s]"
      ]
     },
     "metadata": {},
     "output_type": "display_data"
    },
    {
     "data": {
      "application/vnd.jupyter.widget-view+json": {
       "model_id": "925de6715e9e4983ab7a7913f300e6c9",
       "version_major": 2,
       "version_minor": 0
      },
      "text/plain": [
       "Backtest.optimize:   0%|          | 0/9 [00:00<?, ?it/s]"
      ]
     },
     "metadata": {},
     "output_type": "display_data"
    },
    {
     "data": {
      "application/vnd.jupyter.widget-view+json": {
       "model_id": "35e46d69671e45bba4fc886eda9c1a62",
       "version_major": 2,
       "version_minor": 0
      },
      "text/plain": [
       "Backtest.optimize:   0%|          | 0/9 [00:00<?, ?it/s]"
      ]
     },
     "metadata": {},
     "output_type": "display_data"
    },
    {
     "data": {
      "application/vnd.jupyter.widget-view+json": {
       "model_id": "718e26c0c9004c68a4280345314fc4da",
       "version_major": 2,
       "version_minor": 0
      },
      "text/plain": [
       "Backtest.optimize:   0%|          | 0/9 [00:00<?, ?it/s]"
      ]
     },
     "metadata": {},
     "output_type": "display_data"
    },
    {
     "data": {
      "application/vnd.jupyter.widget-view+json": {
       "model_id": "b20fb3b112f04766ae6c1b08343d773e",
       "version_major": 2,
       "version_minor": 0
      },
      "text/plain": [
       "Backtest.optimize:   0%|          | 0/9 [00:00<?, ?it/s]"
      ]
     },
     "metadata": {},
     "output_type": "display_data"
    },
    {
     "data": {
      "application/vnd.jupyter.widget-view+json": {
       "model_id": "aaa947cb494e426cb2c955097e0175a2",
       "version_major": 2,
       "version_minor": 0
      },
      "text/plain": [
       "Backtest.optimize:   0%|          | 0/9 [00:00<?, ?it/s]"
      ]
     },
     "metadata": {},
     "output_type": "display_data"
    },
    {
     "data": {
      "application/vnd.jupyter.widget-view+json": {
       "model_id": "73f96cb09dea4fcd8386329f96551316",
       "version_major": 2,
       "version_minor": 0
      },
      "text/plain": [
       "Backtest.optimize:   0%|          | 0/9 [00:00<?, ?it/s]"
      ]
     },
     "metadata": {},
     "output_type": "display_data"
    },
    {
     "data": {
      "application/vnd.jupyter.widget-view+json": {
       "model_id": "de6a367572ed4554b420fd5fcd9501ce",
       "version_major": 2,
       "version_minor": 0
      },
      "text/plain": [
       "Backtest.optimize:   0%|          | 0/9 [00:00<?, ?it/s]"
      ]
     },
     "metadata": {},
     "output_type": "display_data"
    },
    {
     "data": {
      "application/vnd.jupyter.widget-view+json": {
       "model_id": "5e9b90a677074a3b97e02a91ae021f6a",
       "version_major": 2,
       "version_minor": 0
      },
      "text/plain": [
       "Backtest.optimize:   0%|          | 0/9 [00:00<?, ?it/s]"
      ]
     },
     "metadata": {},
     "output_type": "display_data"
    },
    {
     "data": {
      "application/vnd.jupyter.widget-view+json": {
       "model_id": "67c8124f439a4ac9aed10a1ad2f9646d",
       "version_major": 2,
       "version_minor": 0
      },
      "text/plain": [
       "Backtest.optimize:   0%|          | 0/9 [00:00<?, ?it/s]"
      ]
     },
     "metadata": {},
     "output_type": "display_data"
    },
    {
     "data": {
      "application/vnd.jupyter.widget-view+json": {
       "model_id": "978cb9adeb6543419633cbf2c63a1391",
       "version_major": 2,
       "version_minor": 0
      },
      "text/plain": [
       "Backtest.optimize:   0%|          | 0/9 [00:00<?, ?it/s]"
      ]
     },
     "metadata": {},
     "output_type": "display_data"
    },
    {
     "data": {
      "application/vnd.jupyter.widget-view+json": {
       "model_id": "2a978a9f93fa44819268aedd14454cf7",
       "version_major": 2,
       "version_minor": 0
      },
      "text/plain": [
       "Backtest.optimize:   0%|          | 0/9 [00:00<?, ?it/s]"
      ]
     },
     "metadata": {},
     "output_type": "display_data"
    },
    {
     "data": {
      "application/vnd.jupyter.widget-view+json": {
       "model_id": "e1541c06e33d4bf698b8ce2c22834914",
       "version_major": 2,
       "version_minor": 0
      },
      "text/plain": [
       "Backtest.optimize:   0%|          | 0/9 [00:00<?, ?it/s]"
      ]
     },
     "metadata": {},
     "output_type": "display_data"
    },
    {
     "data": {
      "application/vnd.jupyter.widget-view+json": {
       "model_id": "882127b749514d13b9ef1f5700fc1c01",
       "version_major": 2,
       "version_minor": 0
      },
      "text/plain": [
       "Backtest.optimize:   0%|          | 0/9 [00:00<?, ?it/s]"
      ]
     },
     "metadata": {},
     "output_type": "display_data"
    },
    {
     "data": {
      "application/vnd.jupyter.widget-view+json": {
       "model_id": "763f48ca556c43529589c21d4309e382",
       "version_major": 2,
       "version_minor": 0
      },
      "text/plain": [
       "Backtest.optimize:   0%|          | 0/9 [00:00<?, ?it/s]"
      ]
     },
     "metadata": {},
     "output_type": "display_data"
    },
    {
     "data": {
      "application/vnd.jupyter.widget-view+json": {
       "model_id": "c8bae282966245279031729ededf1e1f",
       "version_major": 2,
       "version_minor": 0
      },
      "text/plain": [
       "Backtest.optimize:   0%|          | 0/9 [00:00<?, ?it/s]"
      ]
     },
     "metadata": {},
     "output_type": "display_data"
    },
    {
     "data": {
      "application/vnd.jupyter.widget-view+json": {
       "model_id": "61050873d0734f3bbaf451518723d79e",
       "version_major": 2,
       "version_minor": 0
      },
      "text/plain": [
       "Backtest.optimize:   0%|          | 0/9 [00:00<?, ?it/s]"
      ]
     },
     "metadata": {},
     "output_type": "display_data"
    },
    {
     "data": {
      "application/vnd.jupyter.widget-view+json": {
       "model_id": "fa322605e37d4d8699c395bc496cbd2a",
       "version_major": 2,
       "version_minor": 0
      },
      "text/plain": [
       "Backtest.optimize:   0%|          | 0/9 [00:00<?, ?it/s]"
      ]
     },
     "metadata": {},
     "output_type": "display_data"
    },
    {
     "data": {
      "application/vnd.jupyter.widget-view+json": {
       "model_id": "ed7df4e9395a42748ccc86d4c63eeb61",
       "version_major": 2,
       "version_minor": 0
      },
      "text/plain": [
       "Backtest.optimize:   0%|          | 0/9 [00:00<?, ?it/s]"
      ]
     },
     "metadata": {},
     "output_type": "display_data"
    },
    {
     "data": {
      "application/vnd.jupyter.widget-view+json": {
       "model_id": "23a06c2dc15641f0938a502a81851604",
       "version_major": 2,
       "version_minor": 0
      },
      "text/plain": [
       "Backtest.optimize:   0%|          | 0/9 [00:00<?, ?it/s]"
      ]
     },
     "metadata": {},
     "output_type": "display_data"
    },
    {
     "data": {
      "application/vnd.jupyter.widget-view+json": {
       "model_id": "0b65a650062f4c4d9676723943b70382",
       "version_major": 2,
       "version_minor": 0
      },
      "text/plain": [
       "Backtest.optimize:   0%|          | 0/9 [00:00<?, ?it/s]"
      ]
     },
     "metadata": {},
     "output_type": "display_data"
    },
    {
     "data": {
      "application/vnd.jupyter.widget-view+json": {
       "model_id": "d14e356a217042cbb5f8980626937233",
       "version_major": 2,
       "version_minor": 0
      },
      "text/plain": [
       "Backtest.optimize:   0%|          | 0/9 [00:00<?, ?it/s]"
      ]
     },
     "metadata": {},
     "output_type": "display_data"
    },
    {
     "data": {
      "application/vnd.jupyter.widget-view+json": {
       "model_id": "831c5148348247aea6c460f624552c45",
       "version_major": 2,
       "version_minor": 0
      },
      "text/plain": [
       "Backtest.optimize:   0%|          | 0/9 [00:00<?, ?it/s]"
      ]
     },
     "metadata": {},
     "output_type": "display_data"
    },
    {
     "data": {
      "application/vnd.jupyter.widget-view+json": {
       "model_id": "9f637719482544f3b334ece9bb09ba80",
       "version_major": 2,
       "version_minor": 0
      },
      "text/plain": [
       "Backtest.optimize:   0%|          | 0/9 [00:00<?, ?it/s]"
      ]
     },
     "metadata": {},
     "output_type": "display_data"
    },
    {
     "data": {
      "application/vnd.jupyter.widget-view+json": {
       "model_id": "86e4c20e18d0460682354b9da9da18ea",
       "version_major": 2,
       "version_minor": 0
      },
      "text/plain": [
       "Backtest.optimize:   0%|          | 0/9 [00:00<?, ?it/s]"
      ]
     },
     "metadata": {},
     "output_type": "display_data"
    },
    {
     "data": {
      "application/vnd.jupyter.widget-view+json": {
       "model_id": "86a2cc9396dd44b18192f62debf9b354",
       "version_major": 2,
       "version_minor": 0
      },
      "text/plain": [
       "Backtest.optimize:   0%|          | 0/9 [00:00<?, ?it/s]"
      ]
     },
     "metadata": {},
     "output_type": "display_data"
    },
    {
     "data": {
      "application/vnd.jupyter.widget-view+json": {
       "model_id": "b3cc9054f5df42e5881d5e1bea7f6c6d",
       "version_major": 2,
       "version_minor": 0
      },
      "text/plain": [
       "Backtest.optimize:   0%|          | 0/9 [00:00<?, ?it/s]"
      ]
     },
     "metadata": {},
     "output_type": "display_data"
    },
    {
     "data": {
      "application/vnd.jupyter.widget-view+json": {
       "model_id": "4c06bd2b384144aeb5250e14dacd258a",
       "version_major": 2,
       "version_minor": 0
      },
      "text/plain": [
       "Backtest.optimize:   0%|          | 0/9 [00:00<?, ?it/s]"
      ]
     },
     "metadata": {},
     "output_type": "display_data"
    },
    {
     "data": {
      "application/vnd.jupyter.widget-view+json": {
       "model_id": "edcd81bc1384485c9f33f83071d42497",
       "version_major": 2,
       "version_minor": 0
      },
      "text/plain": [
       "Backtest.optimize:   0%|          | 0/9 [00:00<?, ?it/s]"
      ]
     },
     "metadata": {},
     "output_type": "display_data"
    },
    {
     "data": {
      "application/vnd.jupyter.widget-view+json": {
       "model_id": "3069c336aa6448e4927922133f9eedd0",
       "version_major": 2,
       "version_minor": 0
      },
      "text/plain": [
       "Backtest.optimize:   0%|          | 0/9 [00:00<?, ?it/s]"
      ]
     },
     "metadata": {},
     "output_type": "display_data"
    },
    {
     "data": {
      "application/vnd.jupyter.widget-view+json": {
       "model_id": "0328f8bd626b42498d7d4fffe6abed87",
       "version_major": 2,
       "version_minor": 0
      },
      "text/plain": [
       "Backtest.optimize:   0%|          | 0/9 [00:00<?, ?it/s]"
      ]
     },
     "metadata": {},
     "output_type": "display_data"
    },
    {
     "data": {
      "application/vnd.jupyter.widget-view+json": {
       "model_id": "79caa51a38a6452ebd900f04cce25d7a",
       "version_major": 2,
       "version_minor": 0
      },
      "text/plain": [
       "Backtest.optimize:   0%|          | 0/9 [00:00<?, ?it/s]"
      ]
     },
     "metadata": {},
     "output_type": "display_data"
    },
    {
     "data": {
      "application/vnd.jupyter.widget-view+json": {
       "model_id": "ebaacc42fa524b49afed47b61db0e655",
       "version_major": 2,
       "version_minor": 0
      },
      "text/plain": [
       "Backtest.optimize:   0%|          | 0/9 [00:00<?, ?it/s]"
      ]
     },
     "metadata": {},
     "output_type": "display_data"
    },
    {
     "data": {
      "application/vnd.jupyter.widget-view+json": {
       "model_id": "a296acbd7dab40caa1a9600f1538e2f0",
       "version_major": 2,
       "version_minor": 0
      },
      "text/plain": [
       "Backtest.optimize:   0%|          | 0/9 [00:00<?, ?it/s]"
      ]
     },
     "metadata": {},
     "output_type": "display_data"
    },
    {
     "data": {
      "application/vnd.jupyter.widget-view+json": {
       "model_id": "f6783bda9d764fefb32f90ef027268aa",
       "version_major": 2,
       "version_minor": 0
      },
      "text/plain": [
       "Backtest.optimize:   0%|          | 0/9 [00:00<?, ?it/s]"
      ]
     },
     "metadata": {},
     "output_type": "display_data"
    },
    {
     "data": {
      "application/vnd.jupyter.widget-view+json": {
       "model_id": "a7c42852ce38467998b535c451cef42f",
       "version_major": 2,
       "version_minor": 0
      },
      "text/plain": [
       "Backtest.optimize:   0%|          | 0/9 [00:00<?, ?it/s]"
      ]
     },
     "metadata": {},
     "output_type": "display_data"
    },
    {
     "data": {
      "application/vnd.jupyter.widget-view+json": {
       "model_id": "b2a481c4fa8943058a9069ce607107f2",
       "version_major": 2,
       "version_minor": 0
      },
      "text/plain": [
       "Backtest.optimize:   0%|          | 0/9 [00:00<?, ?it/s]"
      ]
     },
     "metadata": {},
     "output_type": "display_data"
    },
    {
     "data": {
      "application/vnd.jupyter.widget-view+json": {
       "model_id": "da317fc5ecd3426daeba0914ea67d2ae",
       "version_major": 2,
       "version_minor": 0
      },
      "text/plain": [
       "Backtest.optimize:   0%|          | 0/9 [00:00<?, ?it/s]"
      ]
     },
     "metadata": {},
     "output_type": "display_data"
    },
    {
     "data": {
      "application/vnd.jupyter.widget-view+json": {
       "model_id": "8f09d751ca9247a5981197044fe64340",
       "version_major": 2,
       "version_minor": 0
      },
      "text/plain": [
       "Backtest.optimize:   0%|          | 0/9 [00:00<?, ?it/s]"
      ]
     },
     "metadata": {},
     "output_type": "display_data"
    },
    {
     "data": {
      "application/vnd.jupyter.widget-view+json": {
       "model_id": "df06f6a9d65748e18af86da5773ccaa8",
       "version_major": 2,
       "version_minor": 0
      },
      "text/plain": [
       "Backtest.optimize:   0%|          | 0/9 [00:00<?, ?it/s]"
      ]
     },
     "metadata": {},
     "output_type": "display_data"
    },
    {
     "data": {
      "application/vnd.jupyter.widget-view+json": {
       "model_id": "7dad284fd5364ba5b64641aa7ee75504",
       "version_major": 2,
       "version_minor": 0
      },
      "text/plain": [
       "Backtest.optimize:   0%|          | 0/9 [00:00<?, ?it/s]"
      ]
     },
     "metadata": {},
     "output_type": "display_data"
    },
    {
     "data": {
      "application/vnd.jupyter.widget-view+json": {
       "model_id": "a93ced09ddf84df99345bd50add7a896",
       "version_major": 2,
       "version_minor": 0
      },
      "text/plain": [
       "Backtest.optimize:   0%|          | 0/9 [00:00<?, ?it/s]"
      ]
     },
     "metadata": {},
     "output_type": "display_data"
    },
    {
     "data": {
      "application/vnd.jupyter.widget-view+json": {
       "model_id": "28e6b038d7604695b79e63f38d1ad55f",
       "version_major": 2,
       "version_minor": 0
      },
      "text/plain": [
       "Backtest.optimize:   0%|          | 0/9 [00:00<?, ?it/s]"
      ]
     },
     "metadata": {},
     "output_type": "display_data"
    },
    {
     "data": {
      "application/vnd.jupyter.widget-view+json": {
       "model_id": "d550cc85ef4e44ab9276c662c02ace3b",
       "version_major": 2,
       "version_minor": 0
      },
      "text/plain": [
       "Backtest.optimize:   0%|          | 0/9 [00:00<?, ?it/s]"
      ]
     },
     "metadata": {},
     "output_type": "display_data"
    },
    {
     "data": {
      "application/vnd.jupyter.widget-view+json": {
       "model_id": "97324cef35fa4a1ab46041da47ef0367",
       "version_major": 2,
       "version_minor": 0
      },
      "text/plain": [
       "Backtest.optimize:   0%|          | 0/9 [00:00<?, ?it/s]"
      ]
     },
     "metadata": {},
     "output_type": "display_data"
    },
    {
     "data": {
      "application/vnd.jupyter.widget-view+json": {
       "model_id": "93fb0d0a2ea449c7aa6339e21d4212ca",
       "version_major": 2,
       "version_minor": 0
      },
      "text/plain": [
       "Backtest.optimize:   0%|          | 0/9 [00:00<?, ?it/s]"
      ]
     },
     "metadata": {},
     "output_type": "display_data"
    },
    {
     "data": {
      "application/vnd.jupyter.widget-view+json": {
       "model_id": "42a33f2330e847c18c4c4d0e1492532e",
       "version_major": 2,
       "version_minor": 0
      },
      "text/plain": [
       "Backtest.optimize:   0%|          | 0/9 [00:00<?, ?it/s]"
      ]
     },
     "metadata": {},
     "output_type": "display_data"
    },
    {
     "data": {
      "application/vnd.jupyter.widget-view+json": {
       "model_id": "1de465cc8d4641bf97882bfa8824a082",
       "version_major": 2,
       "version_minor": 0
      },
      "text/plain": [
       "Backtest.optimize:   0%|          | 0/9 [00:00<?, ?it/s]"
      ]
     },
     "metadata": {},
     "output_type": "display_data"
    },
    {
     "data": {
      "application/vnd.jupyter.widget-view+json": {
       "model_id": "17da238e1b7541beb62f9e2d1d6cb1db",
       "version_major": 2,
       "version_minor": 0
      },
      "text/plain": [
       "Backtest.optimize:   0%|          | 0/9 [00:00<?, ?it/s]"
      ]
     },
     "metadata": {},
     "output_type": "display_data"
    },
    {
     "data": {
      "application/vnd.jupyter.widget-view+json": {
       "model_id": "63560e9734964fd4a3bf0a2a3d5ce12b",
       "version_major": 2,
       "version_minor": 0
      },
      "text/plain": [
       "Backtest.optimize:   0%|          | 0/9 [00:00<?, ?it/s]"
      ]
     },
     "metadata": {},
     "output_type": "display_data"
    },
    {
     "data": {
      "application/vnd.jupyter.widget-view+json": {
       "model_id": "5f3fcfd666e54d4d84cd4482d0c21c3c",
       "version_major": 2,
       "version_minor": 0
      },
      "text/plain": [
       "Backtest.optimize:   0%|          | 0/9 [00:00<?, ?it/s]"
      ]
     },
     "metadata": {},
     "output_type": "display_data"
    },
    {
     "data": {
      "application/vnd.jupyter.widget-view+json": {
       "model_id": "48360256310148b2a8eaebc34671c3ff",
       "version_major": 2,
       "version_minor": 0
      },
      "text/plain": [
       "Backtest.optimize:   0%|          | 0/9 [00:00<?, ?it/s]"
      ]
     },
     "metadata": {},
     "output_type": "display_data"
    },
    {
     "data": {
      "application/vnd.jupyter.widget-view+json": {
       "model_id": "335dedb505614cb9bdc59ebd88718d03",
       "version_major": 2,
       "version_minor": 0
      },
      "text/plain": [
       "Backtest.optimize:   0%|          | 0/9 [00:00<?, ?it/s]"
      ]
     },
     "metadata": {},
     "output_type": "display_data"
    },
    {
     "data": {
      "application/vnd.jupyter.widget-view+json": {
       "model_id": "c2e95f85eb7d4d348f3baf6df47ed73e",
       "version_major": 2,
       "version_minor": 0
      },
      "text/plain": [
       "Backtest.optimize:   0%|          | 0/9 [00:00<?, ?it/s]"
      ]
     },
     "metadata": {},
     "output_type": "display_data"
    },
    {
     "data": {
      "application/vnd.jupyter.widget-view+json": {
       "model_id": "5dbed7d33bed4bc1add07fb1d9b05688",
       "version_major": 2,
       "version_minor": 0
      },
      "text/plain": [
       "Backtest.optimize:   0%|          | 0/9 [00:00<?, ?it/s]"
      ]
     },
     "metadata": {},
     "output_type": "display_data"
    },
    {
     "data": {
      "application/vnd.jupyter.widget-view+json": {
       "model_id": "6cddf245f9f444db901a275ec813896a",
       "version_major": 2,
       "version_minor": 0
      },
      "text/plain": [
       "Backtest.optimize:   0%|          | 0/9 [00:00<?, ?it/s]"
      ]
     },
     "metadata": {},
     "output_type": "display_data"
    },
    {
     "data": {
      "application/vnd.jupyter.widget-view+json": {
       "model_id": "2ed9966826e549268250823915d4b407",
       "version_major": 2,
       "version_minor": 0
      },
      "text/plain": [
       "Backtest.optimize:   0%|          | 0/9 [00:00<?, ?it/s]"
      ]
     },
     "metadata": {},
     "output_type": "display_data"
    },
    {
     "data": {
      "application/vnd.jupyter.widget-view+json": {
       "model_id": "d1bcafdf3d5d44aca723df844243bb83",
       "version_major": 2,
       "version_minor": 0
      },
      "text/plain": [
       "Backtest.optimize:   0%|          | 0/9 [00:00<?, ?it/s]"
      ]
     },
     "metadata": {},
     "output_type": "display_data"
    },
    {
     "data": {
      "application/vnd.jupyter.widget-view+json": {
       "model_id": "5c7b3f9b30d94e19801d00c042a27e09",
       "version_major": 2,
       "version_minor": 0
      },
      "text/plain": [
       "Backtest.optimize:   0%|          | 0/9 [00:00<?, ?it/s]"
      ]
     },
     "metadata": {},
     "output_type": "display_data"
    },
    {
     "data": {
      "application/vnd.jupyter.widget-view+json": {
       "model_id": "db3cfd8c7c114aa0b49c63e0046ec7c5",
       "version_major": 2,
       "version_minor": 0
      },
      "text/plain": [
       "Backtest.optimize:   0%|          | 0/9 [00:00<?, ?it/s]"
      ]
     },
     "metadata": {},
     "output_type": "display_data"
    },
    {
     "data": {
      "application/vnd.jupyter.widget-view+json": {
       "model_id": "577e1b7e82294f85a9cff94482882e9d",
       "version_major": 2,
       "version_minor": 0
      },
      "text/plain": [
       "Backtest.optimize:   0%|          | 0/9 [00:00<?, ?it/s]"
      ]
     },
     "metadata": {},
     "output_type": "display_data"
    },
    {
     "data": {
      "application/vnd.jupyter.widget-view+json": {
       "model_id": "ec69fad56cd141798da55a55c13dbba1",
       "version_major": 2,
       "version_minor": 0
      },
      "text/plain": [
       "Backtest.optimize:   0%|          | 0/9 [00:00<?, ?it/s]"
      ]
     },
     "metadata": {},
     "output_type": "display_data"
    },
    {
     "data": {
      "application/vnd.jupyter.widget-view+json": {
       "model_id": "868cbbdd47e24abda596f20653ce2e4e",
       "version_major": 2,
       "version_minor": 0
      },
      "text/plain": [
       "Backtest.optimize:   0%|          | 0/9 [00:00<?, ?it/s]"
      ]
     },
     "metadata": {},
     "output_type": "display_data"
    },
    {
     "data": {
      "application/vnd.jupyter.widget-view+json": {
       "model_id": "57baf96c14d84bfb8dd8c43f03d989d3",
       "version_major": 2,
       "version_minor": 0
      },
      "text/plain": [
       "Backtest.optimize:   0%|          | 0/9 [00:00<?, ?it/s]"
      ]
     },
     "metadata": {},
     "output_type": "display_data"
    },
    {
     "data": {
      "application/vnd.jupyter.widget-view+json": {
       "model_id": "18968d8fe84a4e299907822771c28441",
       "version_major": 2,
       "version_minor": 0
      },
      "text/plain": [
       "Backtest.optimize:   0%|          | 0/9 [00:00<?, ?it/s]"
      ]
     },
     "metadata": {},
     "output_type": "display_data"
    },
    {
     "data": {
      "application/vnd.jupyter.widget-view+json": {
       "model_id": "556e206e03b948418be8a11b23843499",
       "version_major": 2,
       "version_minor": 0
      },
      "text/plain": [
       "Backtest.optimize:   0%|          | 0/9 [00:00<?, ?it/s]"
      ]
     },
     "metadata": {},
     "output_type": "display_data"
    },
    {
     "data": {
      "application/vnd.jupyter.widget-view+json": {
       "model_id": "311324cdd9a348b79c546e15f8144bf9",
       "version_major": 2,
       "version_minor": 0
      },
      "text/plain": [
       "Backtest.optimize:   0%|          | 0/9 [00:00<?, ?it/s]"
      ]
     },
     "metadata": {},
     "output_type": "display_data"
    },
    {
     "name": "stderr",
     "output_type": "stream",
     "text": [
      " 10%|█         | 6/60 [12:21<1:50:03, 122.29s/it]"
     ]
    },
    {
     "name": "stdout",
     "output_type": "stream",
     "text": [
      "BTC-USD : best_params: None, best_performance: -inf\n",
      "BTC-USD : train_set: 2019-07-18 00:00:00 - 2020-02-02 00:00:00, test_set: 2020-02-03 00:00:00 - 2020-03-06 00:00:00\n"
     ]
    },
    {
     "data": {
      "application/vnd.jupyter.widget-view+json": {
       "model_id": "0a71dcfce96e40d2acd082542b1fbe10",
       "version_major": 2,
       "version_minor": 0
      },
      "text/plain": [
       "Backtest.optimize:   0%|          | 0/9 [00:00<?, ?it/s]"
      ]
     },
     "metadata": {},
     "output_type": "display_data"
    },
    {
     "data": {
      "application/vnd.jupyter.widget-view+json": {
       "model_id": "56564810bc58405085ace91f08051a7c",
       "version_major": 2,
       "version_minor": 0
      },
      "text/plain": [
       "Backtest.optimize:   0%|          | 0/9 [00:00<?, ?it/s]"
      ]
     },
     "metadata": {},
     "output_type": "display_data"
    },
    {
     "data": {
      "application/vnd.jupyter.widget-view+json": {
       "model_id": "3db9172ef13d4e2b82171e2be040e1cb",
       "version_major": 2,
       "version_minor": 0
      },
      "text/plain": [
       "Backtest.optimize:   0%|          | 0/9 [00:00<?, ?it/s]"
      ]
     },
     "metadata": {},
     "output_type": "display_data"
    },
    {
     "data": {
      "application/vnd.jupyter.widget-view+json": {
       "model_id": "e7a572f63ba14dd684cc1208297158d4",
       "version_major": 2,
       "version_minor": 0
      },
      "text/plain": [
       "Backtest.optimize:   0%|          | 0/9 [00:00<?, ?it/s]"
      ]
     },
     "metadata": {},
     "output_type": "display_data"
    },
    {
     "data": {
      "application/vnd.jupyter.widget-view+json": {
       "model_id": "df879bb82dfd4e16a063116b23a17a44",
       "version_major": 2,
       "version_minor": 0
      },
      "text/plain": [
       "Backtest.optimize:   0%|          | 0/9 [00:00<?, ?it/s]"
      ]
     },
     "metadata": {},
     "output_type": "display_data"
    },
    {
     "data": {
      "application/vnd.jupyter.widget-view+json": {
       "model_id": "78d6e158392d4c0ab74b18e1ebff2799",
       "version_major": 2,
       "version_minor": 0
      },
      "text/plain": [
       "Backtest.optimize:   0%|          | 0/9 [00:00<?, ?it/s]"
      ]
     },
     "metadata": {},
     "output_type": "display_data"
    },
    {
     "data": {
      "application/vnd.jupyter.widget-view+json": {
       "model_id": "3edf14cc712a4bc3a680662ff0225eb3",
       "version_major": 2,
       "version_minor": 0
      },
      "text/plain": [
       "Backtest.optimize:   0%|          | 0/9 [00:00<?, ?it/s]"
      ]
     },
     "metadata": {},
     "output_type": "display_data"
    },
    {
     "data": {
      "application/vnd.jupyter.widget-view+json": {
       "model_id": "1bfae91da870424598f9fea1e82e4a40",
       "version_major": 2,
       "version_minor": 0
      },
      "text/plain": [
       "Backtest.optimize:   0%|          | 0/9 [00:00<?, ?it/s]"
      ]
     },
     "metadata": {},
     "output_type": "display_data"
    },
    {
     "data": {
      "application/vnd.jupyter.widget-view+json": {
       "model_id": "5e5124af7a4b4eca9459ea6a735a58c3",
       "version_major": 2,
       "version_minor": 0
      },
      "text/plain": [
       "Backtest.optimize:   0%|          | 0/9 [00:00<?, ?it/s]"
      ]
     },
     "metadata": {},
     "output_type": "display_data"
    },
    {
     "data": {
      "application/vnd.jupyter.widget-view+json": {
       "model_id": "dbcf98f512ed48b29047c0d8a81b66ed",
       "version_major": 2,
       "version_minor": 0
      },
      "text/plain": [
       "Backtest.optimize:   0%|          | 0/9 [00:00<?, ?it/s]"
      ]
     },
     "metadata": {},
     "output_type": "display_data"
    },
    {
     "data": {
      "application/vnd.jupyter.widget-view+json": {
       "model_id": "025e21a562224bfb8a5fd133f80eb03c",
       "version_major": 2,
       "version_minor": 0
      },
      "text/plain": [
       "Backtest.optimize:   0%|          | 0/9 [00:00<?, ?it/s]"
      ]
     },
     "metadata": {},
     "output_type": "display_data"
    },
    {
     "data": {
      "application/vnd.jupyter.widget-view+json": {
       "model_id": "9545723eeb064474b2a8e000091b768c",
       "version_major": 2,
       "version_minor": 0
      },
      "text/plain": [
       "Backtest.optimize:   0%|          | 0/9 [00:00<?, ?it/s]"
      ]
     },
     "metadata": {},
     "output_type": "display_data"
    },
    {
     "data": {
      "application/vnd.jupyter.widget-view+json": {
       "model_id": "3284c9e538f94eb4994ef4888329a15c",
       "version_major": 2,
       "version_minor": 0
      },
      "text/plain": [
       "Backtest.optimize:   0%|          | 0/9 [00:00<?, ?it/s]"
      ]
     },
     "metadata": {},
     "output_type": "display_data"
    },
    {
     "data": {
      "application/vnd.jupyter.widget-view+json": {
       "model_id": "44cebe09838d4351aca910768fe9b5aa",
       "version_major": 2,
       "version_minor": 0
      },
      "text/plain": [
       "Backtest.optimize:   0%|          | 0/9 [00:00<?, ?it/s]"
      ]
     },
     "metadata": {},
     "output_type": "display_data"
    },
    {
     "data": {
      "application/vnd.jupyter.widget-view+json": {
       "model_id": "cecfe947c6b64ee083178af46cd1f39c",
       "version_major": 2,
       "version_minor": 0
      },
      "text/plain": [
       "Backtest.optimize:   0%|          | 0/9 [00:00<?, ?it/s]"
      ]
     },
     "metadata": {},
     "output_type": "display_data"
    },
    {
     "data": {
      "application/vnd.jupyter.widget-view+json": {
       "model_id": "4fc95d05a42c4bd39c0b33a2fcb1a013",
       "version_major": 2,
       "version_minor": 0
      },
      "text/plain": [
       "Backtest.optimize:   0%|          | 0/9 [00:00<?, ?it/s]"
      ]
     },
     "metadata": {},
     "output_type": "display_data"
    },
    {
     "data": {
      "application/vnd.jupyter.widget-view+json": {
       "model_id": "2fa6ee219a364ac889608477fff60585",
       "version_major": 2,
       "version_minor": 0
      },
      "text/plain": [
       "Backtest.optimize:   0%|          | 0/9 [00:00<?, ?it/s]"
      ]
     },
     "metadata": {},
     "output_type": "display_data"
    },
    {
     "data": {
      "application/vnd.jupyter.widget-view+json": {
       "model_id": "a501bbf80be846fda5f0b67d576664a0",
       "version_major": 2,
       "version_minor": 0
      },
      "text/plain": [
       "Backtest.optimize:   0%|          | 0/9 [00:00<?, ?it/s]"
      ]
     },
     "metadata": {},
     "output_type": "display_data"
    },
    {
     "data": {
      "application/vnd.jupyter.widget-view+json": {
       "model_id": "59f3cee868fd4130b0e1c80bbf7bc6dd",
       "version_major": 2,
       "version_minor": 0
      },
      "text/plain": [
       "Backtest.optimize:   0%|          | 0/9 [00:00<?, ?it/s]"
      ]
     },
     "metadata": {},
     "output_type": "display_data"
    },
    {
     "data": {
      "application/vnd.jupyter.widget-view+json": {
       "model_id": "7b562c592984458fafcf991485071ca3",
       "version_major": 2,
       "version_minor": 0
      },
      "text/plain": [
       "Backtest.optimize:   0%|          | 0/9 [00:00<?, ?it/s]"
      ]
     },
     "metadata": {},
     "output_type": "display_data"
    },
    {
     "data": {
      "application/vnd.jupyter.widget-view+json": {
       "model_id": "1b40e953261e4595ad75f5370b56b467",
       "version_major": 2,
       "version_minor": 0
      },
      "text/plain": [
       "Backtest.optimize:   0%|          | 0/9 [00:00<?, ?it/s]"
      ]
     },
     "metadata": {},
     "output_type": "display_data"
    },
    {
     "data": {
      "application/vnd.jupyter.widget-view+json": {
       "model_id": "6e0421ec55a847d89d28d432fc18253b",
       "version_major": 2,
       "version_minor": 0
      },
      "text/plain": [
       "Backtest.optimize:   0%|          | 0/9 [00:00<?, ?it/s]"
      ]
     },
     "metadata": {},
     "output_type": "display_data"
    },
    {
     "data": {
      "application/vnd.jupyter.widget-view+json": {
       "model_id": "54d814481eb142918bdb50389c944ba6",
       "version_major": 2,
       "version_minor": 0
      },
      "text/plain": [
       "Backtest.optimize:   0%|          | 0/9 [00:00<?, ?it/s]"
      ]
     },
     "metadata": {},
     "output_type": "display_data"
    },
    {
     "data": {
      "application/vnd.jupyter.widget-view+json": {
       "model_id": "2f1774ab80c84eceb2124c083ced5d2e",
       "version_major": 2,
       "version_minor": 0
      },
      "text/plain": [
       "Backtest.optimize:   0%|          | 0/9 [00:00<?, ?it/s]"
      ]
     },
     "metadata": {},
     "output_type": "display_data"
    },
    {
     "data": {
      "application/vnd.jupyter.widget-view+json": {
       "model_id": "d2fce711f8f345c99a288a6f3060adf9",
       "version_major": 2,
       "version_minor": 0
      },
      "text/plain": [
       "Backtest.optimize:   0%|          | 0/9 [00:00<?, ?it/s]"
      ]
     },
     "metadata": {},
     "output_type": "display_data"
    },
    {
     "data": {
      "application/vnd.jupyter.widget-view+json": {
       "model_id": "8fbc9f78fe02498785b8663dcd2b849e",
       "version_major": 2,
       "version_minor": 0
      },
      "text/plain": [
       "Backtest.optimize:   0%|          | 0/9 [00:00<?, ?it/s]"
      ]
     },
     "metadata": {},
     "output_type": "display_data"
    },
    {
     "data": {
      "application/vnd.jupyter.widget-view+json": {
       "model_id": "0abce5e617ca4dee9e342477e12c56f4",
       "version_major": 2,
       "version_minor": 0
      },
      "text/plain": [
       "Backtest.optimize:   0%|          | 0/9 [00:00<?, ?it/s]"
      ]
     },
     "metadata": {},
     "output_type": "display_data"
    },
    {
     "data": {
      "application/vnd.jupyter.widget-view+json": {
       "model_id": "d53f6f8510944a6a9b199db48976eec7",
       "version_major": 2,
       "version_minor": 0
      },
      "text/plain": [
       "Backtest.optimize:   0%|          | 0/9 [00:00<?, ?it/s]"
      ]
     },
     "metadata": {},
     "output_type": "display_data"
    },
    {
     "data": {
      "application/vnd.jupyter.widget-view+json": {
       "model_id": "06c7e7744f7d473c8f352f3046db7b38",
       "version_major": 2,
       "version_minor": 0
      },
      "text/plain": [
       "Backtest.optimize:   0%|          | 0/9 [00:00<?, ?it/s]"
      ]
     },
     "metadata": {},
     "output_type": "display_data"
    },
    {
     "data": {
      "application/vnd.jupyter.widget-view+json": {
       "model_id": "312a0a573c8f45d49a663abb2d788659",
       "version_major": 2,
       "version_minor": 0
      },
      "text/plain": [
       "Backtest.optimize:   0%|          | 0/9 [00:00<?, ?it/s]"
      ]
     },
     "metadata": {},
     "output_type": "display_data"
    },
    {
     "data": {
      "application/vnd.jupyter.widget-view+json": {
       "model_id": "a04c52b4cd8141348acfc207d0c47b54",
       "version_major": 2,
       "version_minor": 0
      },
      "text/plain": [
       "Backtest.optimize:   0%|          | 0/9 [00:00<?, ?it/s]"
      ]
     },
     "metadata": {},
     "output_type": "display_data"
    },
    {
     "data": {
      "application/vnd.jupyter.widget-view+json": {
       "model_id": "feb0c142538242eca25a0e646cbb18b7",
       "version_major": 2,
       "version_minor": 0
      },
      "text/plain": [
       "Backtest.optimize:   0%|          | 0/9 [00:00<?, ?it/s]"
      ]
     },
     "metadata": {},
     "output_type": "display_data"
    },
    {
     "data": {
      "application/vnd.jupyter.widget-view+json": {
       "model_id": "914fe3da2f1147dab28544b5415f48e0",
       "version_major": 2,
       "version_minor": 0
      },
      "text/plain": [
       "Backtest.optimize:   0%|          | 0/9 [00:00<?, ?it/s]"
      ]
     },
     "metadata": {},
     "output_type": "display_data"
    },
    {
     "data": {
      "application/vnd.jupyter.widget-view+json": {
       "model_id": "df65d32ddd3a4aaaa406f9f722a83080",
       "version_major": 2,
       "version_minor": 0
      },
      "text/plain": [
       "Backtest.optimize:   0%|          | 0/9 [00:00<?, ?it/s]"
      ]
     },
     "metadata": {},
     "output_type": "display_data"
    },
    {
     "data": {
      "application/vnd.jupyter.widget-view+json": {
       "model_id": "4e9ce73be5af4598a1589c08a53f5a8b",
       "version_major": 2,
       "version_minor": 0
      },
      "text/plain": [
       "Backtest.optimize:   0%|          | 0/9 [00:00<?, ?it/s]"
      ]
     },
     "metadata": {},
     "output_type": "display_data"
    },
    {
     "data": {
      "application/vnd.jupyter.widget-view+json": {
       "model_id": "aea5da09bd194134aef125a3e2f2f264",
       "version_major": 2,
       "version_minor": 0
      },
      "text/plain": [
       "Backtest.optimize:   0%|          | 0/9 [00:00<?, ?it/s]"
      ]
     },
     "metadata": {},
     "output_type": "display_data"
    },
    {
     "data": {
      "application/vnd.jupyter.widget-view+json": {
       "model_id": "9a0c3316de554e50a79a12a6d282ffd4",
       "version_major": 2,
       "version_minor": 0
      },
      "text/plain": [
       "Backtest.optimize:   0%|          | 0/9 [00:00<?, ?it/s]"
      ]
     },
     "metadata": {},
     "output_type": "display_data"
    },
    {
     "data": {
      "application/vnd.jupyter.widget-view+json": {
       "model_id": "664a175e1d2a4fe799933c6da640e2c9",
       "version_major": 2,
       "version_minor": 0
      },
      "text/plain": [
       "Backtest.optimize:   0%|          | 0/9 [00:00<?, ?it/s]"
      ]
     },
     "metadata": {},
     "output_type": "display_data"
    },
    {
     "data": {
      "application/vnd.jupyter.widget-view+json": {
       "model_id": "790464fa607c477c8c95f87459d44418",
       "version_major": 2,
       "version_minor": 0
      },
      "text/plain": [
       "Backtest.optimize:   0%|          | 0/9 [00:00<?, ?it/s]"
      ]
     },
     "metadata": {},
     "output_type": "display_data"
    },
    {
     "data": {
      "application/vnd.jupyter.widget-view+json": {
       "model_id": "9194909234fb4ae4b1ade06fc8005fc9",
       "version_major": 2,
       "version_minor": 0
      },
      "text/plain": [
       "Backtest.optimize:   0%|          | 0/9 [00:00<?, ?it/s]"
      ]
     },
     "metadata": {},
     "output_type": "display_data"
    },
    {
     "data": {
      "application/vnd.jupyter.widget-view+json": {
       "model_id": "6faed3bb42074b0d9add17f7873b730c",
       "version_major": 2,
       "version_minor": 0
      },
      "text/plain": [
       "Backtest.optimize:   0%|          | 0/9 [00:00<?, ?it/s]"
      ]
     },
     "metadata": {},
     "output_type": "display_data"
    },
    {
     "data": {
      "application/vnd.jupyter.widget-view+json": {
       "model_id": "c477d04dc96d4139acf86c093c333271",
       "version_major": 2,
       "version_minor": 0
      },
      "text/plain": [
       "Backtest.optimize:   0%|          | 0/9 [00:00<?, ?it/s]"
      ]
     },
     "metadata": {},
     "output_type": "display_data"
    },
    {
     "data": {
      "application/vnd.jupyter.widget-view+json": {
       "model_id": "0ce9d74d39e44b878d60bc80d9b1a865",
       "version_major": 2,
       "version_minor": 0
      },
      "text/plain": [
       "Backtest.optimize:   0%|          | 0/9 [00:00<?, ?it/s]"
      ]
     },
     "metadata": {},
     "output_type": "display_data"
    },
    {
     "data": {
      "application/vnd.jupyter.widget-view+json": {
       "model_id": "19c518274e2d40978206793015dd3390",
       "version_major": 2,
       "version_minor": 0
      },
      "text/plain": [
       "Backtest.optimize:   0%|          | 0/9 [00:00<?, ?it/s]"
      ]
     },
     "metadata": {},
     "output_type": "display_data"
    },
    {
     "data": {
      "application/vnd.jupyter.widget-view+json": {
       "model_id": "0d553c57d7f0410a863b0c4bd78b8600",
       "version_major": 2,
       "version_minor": 0
      },
      "text/plain": [
       "Backtest.optimize:   0%|          | 0/9 [00:00<?, ?it/s]"
      ]
     },
     "metadata": {},
     "output_type": "display_data"
    },
    {
     "data": {
      "application/vnd.jupyter.widget-view+json": {
       "model_id": "b64602ba982d4b869e17b07aaa6c7921",
       "version_major": 2,
       "version_minor": 0
      },
      "text/plain": [
       "Backtest.optimize:   0%|          | 0/9 [00:00<?, ?it/s]"
      ]
     },
     "metadata": {},
     "output_type": "display_data"
    },
    {
     "data": {
      "application/vnd.jupyter.widget-view+json": {
       "model_id": "e521ea4afd734530bb951e0816ec7c44",
       "version_major": 2,
       "version_minor": 0
      },
      "text/plain": [
       "Backtest.optimize:   0%|          | 0/9 [00:00<?, ?it/s]"
      ]
     },
     "metadata": {},
     "output_type": "display_data"
    },
    {
     "data": {
      "application/vnd.jupyter.widget-view+json": {
       "model_id": "07ffd5e8d0824044b7426e45901fc8cf",
       "version_major": 2,
       "version_minor": 0
      },
      "text/plain": [
       "Backtest.optimize:   0%|          | 0/9 [00:00<?, ?it/s]"
      ]
     },
     "metadata": {},
     "output_type": "display_data"
    },
    {
     "data": {
      "application/vnd.jupyter.widget-view+json": {
       "model_id": "fbc11a127a854243ad85e4049ccdbe42",
       "version_major": 2,
       "version_minor": 0
      },
      "text/plain": [
       "Backtest.optimize:   0%|          | 0/9 [00:00<?, ?it/s]"
      ]
     },
     "metadata": {},
     "output_type": "display_data"
    },
    {
     "data": {
      "application/vnd.jupyter.widget-view+json": {
       "model_id": "4e0f1f03979e4458a3a116cc5aac1fb2",
       "version_major": 2,
       "version_minor": 0
      },
      "text/plain": [
       "Backtest.optimize:   0%|          | 0/9 [00:00<?, ?it/s]"
      ]
     },
     "metadata": {},
     "output_type": "display_data"
    },
    {
     "data": {
      "application/vnd.jupyter.widget-view+json": {
       "model_id": "2fe5d7b321e44e8e98d71d00a631da8d",
       "version_major": 2,
       "version_minor": 0
      },
      "text/plain": [
       "Backtest.optimize:   0%|          | 0/9 [00:00<?, ?it/s]"
      ]
     },
     "metadata": {},
     "output_type": "display_data"
    },
    {
     "data": {
      "application/vnd.jupyter.widget-view+json": {
       "model_id": "2723dcf9a7bf477f9b4952c9ca43b491",
       "version_major": 2,
       "version_minor": 0
      },
      "text/plain": [
       "Backtest.optimize:   0%|          | 0/9 [00:00<?, ?it/s]"
      ]
     },
     "metadata": {},
     "output_type": "display_data"
    },
    {
     "data": {
      "application/vnd.jupyter.widget-view+json": {
       "model_id": "258a844bb9b944bba42f81fe16b8351a",
       "version_major": 2,
       "version_minor": 0
      },
      "text/plain": [
       "Backtest.optimize:   0%|          | 0/9 [00:00<?, ?it/s]"
      ]
     },
     "metadata": {},
     "output_type": "display_data"
    },
    {
     "data": {
      "application/vnd.jupyter.widget-view+json": {
       "model_id": "24a78c7844d14bfd937213533bd2560e",
       "version_major": 2,
       "version_minor": 0
      },
      "text/plain": [
       "Backtest.optimize:   0%|          | 0/9 [00:00<?, ?it/s]"
      ]
     },
     "metadata": {},
     "output_type": "display_data"
    },
    {
     "data": {
      "application/vnd.jupyter.widget-view+json": {
       "model_id": "1cf58247e072466188fd190ec430b153",
       "version_major": 2,
       "version_minor": 0
      },
      "text/plain": [
       "Backtest.optimize:   0%|          | 0/9 [00:00<?, ?it/s]"
      ]
     },
     "metadata": {},
     "output_type": "display_data"
    },
    {
     "data": {
      "application/vnd.jupyter.widget-view+json": {
       "model_id": "ebf9d69e25d84fd8912779d098bf3422",
       "version_major": 2,
       "version_minor": 0
      },
      "text/plain": [
       "Backtest.optimize:   0%|          | 0/9 [00:00<?, ?it/s]"
      ]
     },
     "metadata": {},
     "output_type": "display_data"
    },
    {
     "data": {
      "application/vnd.jupyter.widget-view+json": {
       "model_id": "4dfa5b1374864aab999c16373ac4399c",
       "version_major": 2,
       "version_minor": 0
      },
      "text/plain": [
       "Backtest.optimize:   0%|          | 0/9 [00:00<?, ?it/s]"
      ]
     },
     "metadata": {},
     "output_type": "display_data"
    },
    {
     "data": {
      "application/vnd.jupyter.widget-view+json": {
       "model_id": "edb3d2996ced434fbb5c08d20a6d1d8e",
       "version_major": 2,
       "version_minor": 0
      },
      "text/plain": [
       "Backtest.optimize:   0%|          | 0/9 [00:00<?, ?it/s]"
      ]
     },
     "metadata": {},
     "output_type": "display_data"
    },
    {
     "data": {
      "application/vnd.jupyter.widget-view+json": {
       "model_id": "d289d43dbc39448eb54b607854a0d6e9",
       "version_major": 2,
       "version_minor": 0
      },
      "text/plain": [
       "Backtest.optimize:   0%|          | 0/9 [00:00<?, ?it/s]"
      ]
     },
     "metadata": {},
     "output_type": "display_data"
    },
    {
     "data": {
      "application/vnd.jupyter.widget-view+json": {
       "model_id": "5bc5136928384d7db6cac161f10f3263",
       "version_major": 2,
       "version_minor": 0
      },
      "text/plain": [
       "Backtest.optimize:   0%|          | 0/9 [00:00<?, ?it/s]"
      ]
     },
     "metadata": {},
     "output_type": "display_data"
    },
    {
     "data": {
      "application/vnd.jupyter.widget-view+json": {
       "model_id": "72442d9ca7f740c99cb201ddf2f351c6",
       "version_major": 2,
       "version_minor": 0
      },
      "text/plain": [
       "Backtest.optimize:   0%|          | 0/9 [00:00<?, ?it/s]"
      ]
     },
     "metadata": {},
     "output_type": "display_data"
    },
    {
     "data": {
      "application/vnd.jupyter.widget-view+json": {
       "model_id": "5f3d61084c6a40e8a8309d7702e13f97",
       "version_major": 2,
       "version_minor": 0
      },
      "text/plain": [
       "Backtest.optimize:   0%|          | 0/9 [00:00<?, ?it/s]"
      ]
     },
     "metadata": {},
     "output_type": "display_data"
    },
    {
     "data": {
      "application/vnd.jupyter.widget-view+json": {
       "model_id": "beba2a2954044bab85ced32c7eb25b93",
       "version_major": 2,
       "version_minor": 0
      },
      "text/plain": [
       "Backtest.optimize:   0%|          | 0/9 [00:00<?, ?it/s]"
      ]
     },
     "metadata": {},
     "output_type": "display_data"
    },
    {
     "data": {
      "application/vnd.jupyter.widget-view+json": {
       "model_id": "8463e20860424610a7ebfca288edf061",
       "version_major": 2,
       "version_minor": 0
      },
      "text/plain": [
       "Backtest.optimize:   0%|          | 0/9 [00:00<?, ?it/s]"
      ]
     },
     "metadata": {},
     "output_type": "display_data"
    },
    {
     "data": {
      "application/vnd.jupyter.widget-view+json": {
       "model_id": "1166a689dfc6478c927aa9137b6a2991",
       "version_major": 2,
       "version_minor": 0
      },
      "text/plain": [
       "Backtest.optimize:   0%|          | 0/9 [00:00<?, ?it/s]"
      ]
     },
     "metadata": {},
     "output_type": "display_data"
    },
    {
     "data": {
      "application/vnd.jupyter.widget-view+json": {
       "model_id": "8f2f80acbb85468ca326bb87dd33b2bb",
       "version_major": 2,
       "version_minor": 0
      },
      "text/plain": [
       "Backtest.optimize:   0%|          | 0/9 [00:00<?, ?it/s]"
      ]
     },
     "metadata": {},
     "output_type": "display_data"
    },
    {
     "data": {
      "application/vnd.jupyter.widget-view+json": {
       "model_id": "9d29307e2a0d4bffa7c187aefcbd0dfc",
       "version_major": 2,
       "version_minor": 0
      },
      "text/plain": [
       "Backtest.optimize:   0%|          | 0/9 [00:00<?, ?it/s]"
      ]
     },
     "metadata": {},
     "output_type": "display_data"
    },
    {
     "data": {
      "application/vnd.jupyter.widget-view+json": {
       "model_id": "bd190c6bafbc4903a8a13f83f5950c9c",
       "version_major": 2,
       "version_minor": 0
      },
      "text/plain": [
       "Backtest.optimize:   0%|          | 0/9 [00:00<?, ?it/s]"
      ]
     },
     "metadata": {},
     "output_type": "display_data"
    },
    {
     "data": {
      "application/vnd.jupyter.widget-view+json": {
       "model_id": "3bab0f69d690448881f0a3820c8b394c",
       "version_major": 2,
       "version_minor": 0
      },
      "text/plain": [
       "Backtest.optimize:   0%|          | 0/9 [00:00<?, ?it/s]"
      ]
     },
     "metadata": {},
     "output_type": "display_data"
    },
    {
     "data": {
      "application/vnd.jupyter.widget-view+json": {
       "model_id": "d01e3047a5d944338bbf06d87416c4e1",
       "version_major": 2,
       "version_minor": 0
      },
      "text/plain": [
       "Backtest.optimize:   0%|          | 0/9 [00:00<?, ?it/s]"
      ]
     },
     "metadata": {},
     "output_type": "display_data"
    },
    {
     "data": {
      "application/vnd.jupyter.widget-view+json": {
       "model_id": "7139e7934d234f28a66e8269b9a5f80a",
       "version_major": 2,
       "version_minor": 0
      },
      "text/plain": [
       "Backtest.optimize:   0%|          | 0/9 [00:00<?, ?it/s]"
      ]
     },
     "metadata": {},
     "output_type": "display_data"
    },
    {
     "data": {
      "application/vnd.jupyter.widget-view+json": {
       "model_id": "5d1d5da911e1414bbe0526760bf77b62",
       "version_major": 2,
       "version_minor": 0
      },
      "text/plain": [
       "Backtest.optimize:   0%|          | 0/9 [00:00<?, ?it/s]"
      ]
     },
     "metadata": {},
     "output_type": "display_data"
    },
    {
     "data": {
      "application/vnd.jupyter.widget-view+json": {
       "model_id": "ce90242142be4749ab56803a2baa8e08",
       "version_major": 2,
       "version_minor": 0
      },
      "text/plain": [
       "Backtest.optimize:   0%|          | 0/9 [00:00<?, ?it/s]"
      ]
     },
     "metadata": {},
     "output_type": "display_data"
    },
    {
     "data": {
      "application/vnd.jupyter.widget-view+json": {
       "model_id": "5b4c4c619fb04019ba25ea23f51a9b4e",
       "version_major": 2,
       "version_minor": 0
      },
      "text/plain": [
       "Backtest.optimize:   0%|          | 0/9 [00:00<?, ?it/s]"
      ]
     },
     "metadata": {},
     "output_type": "display_data"
    },
    {
     "data": {
      "application/vnd.jupyter.widget-view+json": {
       "model_id": "eadf525c1dd045d3bfacd241227b62fe",
       "version_major": 2,
       "version_minor": 0
      },
      "text/plain": [
       "Backtest.optimize:   0%|          | 0/9 [00:00<?, ?it/s]"
      ]
     },
     "metadata": {},
     "output_type": "display_data"
    },
    {
     "data": {
      "application/vnd.jupyter.widget-view+json": {
       "model_id": "5f62c5dbe64f42b7a5c6562e7add7616",
       "version_major": 2,
       "version_minor": 0
      },
      "text/plain": [
       "Backtest.optimize:   0%|          | 0/9 [00:00<?, ?it/s]"
      ]
     },
     "metadata": {},
     "output_type": "display_data"
    },
    {
     "data": {
      "application/vnd.jupyter.widget-view+json": {
       "model_id": "3c0ee380b40d43b998b24c2240dc3b92",
       "version_major": 2,
       "version_minor": 0
      },
      "text/plain": [
       "Backtest.optimize:   0%|          | 0/9 [00:00<?, ?it/s]"
      ]
     },
     "metadata": {},
     "output_type": "display_data"
    },
    {
     "data": {
      "application/vnd.jupyter.widget-view+json": {
       "model_id": "cced9b3a3556404681b03e6a0ac74cab",
       "version_major": 2,
       "version_minor": 0
      },
      "text/plain": [
       "Backtest.optimize:   0%|          | 0/9 [00:00<?, ?it/s]"
      ]
     },
     "metadata": {},
     "output_type": "display_data"
    },
    {
     "data": {
      "application/vnd.jupyter.widget-view+json": {
       "model_id": "4e9d0564829947c18365e156c63e68f5",
       "version_major": 2,
       "version_minor": 0
      },
      "text/plain": [
       "Backtest.optimize:   0%|          | 0/9 [00:00<?, ?it/s]"
      ]
     },
     "metadata": {},
     "output_type": "display_data"
    },
    {
     "data": {
      "application/vnd.jupyter.widget-view+json": {
       "model_id": "432c6e8ac6584c9c90752c5b88b7a3f0",
       "version_major": 2,
       "version_minor": 0
      },
      "text/plain": [
       "Backtest.optimize:   0%|          | 0/9 [00:00<?, ?it/s]"
      ]
     },
     "metadata": {},
     "output_type": "display_data"
    },
    {
     "data": {
      "application/vnd.jupyter.widget-view+json": {
       "model_id": "21b0fd9696c6445cabd46742514405d9",
       "version_major": 2,
       "version_minor": 0
      },
      "text/plain": [
       "Backtest.optimize:   0%|          | 0/9 [00:00<?, ?it/s]"
      ]
     },
     "metadata": {},
     "output_type": "display_data"
    },
    {
     "name": "stderr",
     "output_type": "stream",
     "text": [
      " 12%|█▏        | 7/60 [14:16<1:45:56, 119.94s/it]"
     ]
    },
    {
     "name": "stdout",
     "output_type": "stream",
     "text": [
      "BTC-USD : best_params: None, best_performance: -inf\n",
      "BTC-USD : train_set: 2019-08-20 00:00:00 - 2020-03-06 00:00:00, test_set: 2020-03-07 00:00:00 - 2020-04-08 00:00:00\n"
     ]
    },
    {
     "data": {
      "application/vnd.jupyter.widget-view+json": {
       "model_id": "168763c4f24640908c8a001995f66254",
       "version_major": 2,
       "version_minor": 0
      },
      "text/plain": [
       "Backtest.optimize:   0%|          | 0/9 [00:00<?, ?it/s]"
      ]
     },
     "metadata": {},
     "output_type": "display_data"
    },
    {
     "data": {
      "application/vnd.jupyter.widget-view+json": {
       "model_id": "730a631eeacf491584d1571bbbe41a3a",
       "version_major": 2,
       "version_minor": 0
      },
      "text/plain": [
       "Backtest.optimize:   0%|          | 0/9 [00:00<?, ?it/s]"
      ]
     },
     "metadata": {},
     "output_type": "display_data"
    },
    {
     "data": {
      "application/vnd.jupyter.widget-view+json": {
       "model_id": "98bfa1f337444d519dc039755994f542",
       "version_major": 2,
       "version_minor": 0
      },
      "text/plain": [
       "Backtest.optimize:   0%|          | 0/9 [00:00<?, ?it/s]"
      ]
     },
     "metadata": {},
     "output_type": "display_data"
    },
    {
     "data": {
      "application/vnd.jupyter.widget-view+json": {
       "model_id": "ac0849cef79246048db4edff60b79af6",
       "version_major": 2,
       "version_minor": 0
      },
      "text/plain": [
       "Backtest.optimize:   0%|          | 0/9 [00:00<?, ?it/s]"
      ]
     },
     "metadata": {},
     "output_type": "display_data"
    },
    {
     "data": {
      "application/vnd.jupyter.widget-view+json": {
       "model_id": "f5f9f5b09c9a43b3a7381239d0631452",
       "version_major": 2,
       "version_minor": 0
      },
      "text/plain": [
       "Backtest.optimize:   0%|          | 0/9 [00:00<?, ?it/s]"
      ]
     },
     "metadata": {},
     "output_type": "display_data"
    },
    {
     "data": {
      "application/vnd.jupyter.widget-view+json": {
       "model_id": "28de60d32b7643dab571fc2dcb788331",
       "version_major": 2,
       "version_minor": 0
      },
      "text/plain": [
       "Backtest.optimize:   0%|          | 0/9 [00:00<?, ?it/s]"
      ]
     },
     "metadata": {},
     "output_type": "display_data"
    },
    {
     "data": {
      "application/vnd.jupyter.widget-view+json": {
       "model_id": "beb5680fce9f4461b165be98c311acb0",
       "version_major": 2,
       "version_minor": 0
      },
      "text/plain": [
       "Backtest.optimize:   0%|          | 0/9 [00:00<?, ?it/s]"
      ]
     },
     "metadata": {},
     "output_type": "display_data"
    },
    {
     "data": {
      "application/vnd.jupyter.widget-view+json": {
       "model_id": "792e8eb9d9ab463595461ad42fafe786",
       "version_major": 2,
       "version_minor": 0
      },
      "text/plain": [
       "Backtest.optimize:   0%|          | 0/9 [00:00<?, ?it/s]"
      ]
     },
     "metadata": {},
     "output_type": "display_data"
    },
    {
     "data": {
      "application/vnd.jupyter.widget-view+json": {
       "model_id": "8fe9d8b7fa3c46289eacd930c5b95965",
       "version_major": 2,
       "version_minor": 0
      },
      "text/plain": [
       "Backtest.optimize:   0%|          | 0/9 [00:00<?, ?it/s]"
      ]
     },
     "metadata": {},
     "output_type": "display_data"
    },
    {
     "data": {
      "application/vnd.jupyter.widget-view+json": {
       "model_id": "e1b670e7044d4b61b962d2551c989077",
       "version_major": 2,
       "version_minor": 0
      },
      "text/plain": [
       "Backtest.optimize:   0%|          | 0/9 [00:00<?, ?it/s]"
      ]
     },
     "metadata": {},
     "output_type": "display_data"
    },
    {
     "data": {
      "application/vnd.jupyter.widget-view+json": {
       "model_id": "69ec4960a5884b06877fe4f72b53970b",
       "version_major": 2,
       "version_minor": 0
      },
      "text/plain": [
       "Backtest.optimize:   0%|          | 0/9 [00:00<?, ?it/s]"
      ]
     },
     "metadata": {},
     "output_type": "display_data"
    },
    {
     "data": {
      "application/vnd.jupyter.widget-view+json": {
       "model_id": "5915356d2ed34f0e872bcf31349a1e9a",
       "version_major": 2,
       "version_minor": 0
      },
      "text/plain": [
       "Backtest.optimize:   0%|          | 0/9 [00:00<?, ?it/s]"
      ]
     },
     "metadata": {},
     "output_type": "display_data"
    },
    {
     "data": {
      "application/vnd.jupyter.widget-view+json": {
       "model_id": "5a888aa5a6094b3e9c3665fe9c3f175a",
       "version_major": 2,
       "version_minor": 0
      },
      "text/plain": [
       "Backtest.optimize:   0%|          | 0/9 [00:00<?, ?it/s]"
      ]
     },
     "metadata": {},
     "output_type": "display_data"
    },
    {
     "data": {
      "application/vnd.jupyter.widget-view+json": {
       "model_id": "22ce5e5f0d2f4de3ba2bbed006d38ddc",
       "version_major": 2,
       "version_minor": 0
      },
      "text/plain": [
       "Backtest.optimize:   0%|          | 0/9 [00:00<?, ?it/s]"
      ]
     },
     "metadata": {},
     "output_type": "display_data"
    },
    {
     "data": {
      "application/vnd.jupyter.widget-view+json": {
       "model_id": "f1ad91b530054dd793cf0b7e877a6c2c",
       "version_major": 2,
       "version_minor": 0
      },
      "text/plain": [
       "Backtest.optimize:   0%|          | 0/9 [00:00<?, ?it/s]"
      ]
     },
     "metadata": {},
     "output_type": "display_data"
    },
    {
     "data": {
      "application/vnd.jupyter.widget-view+json": {
       "model_id": "ca65fb5f4ca24c88881fc86678a462ed",
       "version_major": 2,
       "version_minor": 0
      },
      "text/plain": [
       "Backtest.optimize:   0%|          | 0/9 [00:00<?, ?it/s]"
      ]
     },
     "metadata": {},
     "output_type": "display_data"
    },
    {
     "data": {
      "application/vnd.jupyter.widget-view+json": {
       "model_id": "1f8ebf6c1cdd4180b1baef8e59991344",
       "version_major": 2,
       "version_minor": 0
      },
      "text/plain": [
       "Backtest.optimize:   0%|          | 0/9 [00:00<?, ?it/s]"
      ]
     },
     "metadata": {},
     "output_type": "display_data"
    },
    {
     "data": {
      "application/vnd.jupyter.widget-view+json": {
       "model_id": "816b445c00ab485a9fb362442522a5bf",
       "version_major": 2,
       "version_minor": 0
      },
      "text/plain": [
       "Backtest.optimize:   0%|          | 0/9 [00:00<?, ?it/s]"
      ]
     },
     "metadata": {},
     "output_type": "display_data"
    },
    {
     "data": {
      "application/vnd.jupyter.widget-view+json": {
       "model_id": "44026e68853d41a59cf753a4514672c5",
       "version_major": 2,
       "version_minor": 0
      },
      "text/plain": [
       "Backtest.optimize:   0%|          | 0/9 [00:00<?, ?it/s]"
      ]
     },
     "metadata": {},
     "output_type": "display_data"
    },
    {
     "data": {
      "application/vnd.jupyter.widget-view+json": {
       "model_id": "d33faa0d5e6144248621d8d98213daa0",
       "version_major": 2,
       "version_minor": 0
      },
      "text/plain": [
       "Backtest.optimize:   0%|          | 0/9 [00:00<?, ?it/s]"
      ]
     },
     "metadata": {},
     "output_type": "display_data"
    },
    {
     "data": {
      "application/vnd.jupyter.widget-view+json": {
       "model_id": "7607538020dd4ff6972935fe3657c9f6",
       "version_major": 2,
       "version_minor": 0
      },
      "text/plain": [
       "Backtest.optimize:   0%|          | 0/9 [00:00<?, ?it/s]"
      ]
     },
     "metadata": {},
     "output_type": "display_data"
    },
    {
     "data": {
      "application/vnd.jupyter.widget-view+json": {
       "model_id": "73252e952cee4e2d849cd13b2eb7eaa3",
       "version_major": 2,
       "version_minor": 0
      },
      "text/plain": [
       "Backtest.optimize:   0%|          | 0/9 [00:00<?, ?it/s]"
      ]
     },
     "metadata": {},
     "output_type": "display_data"
    },
    {
     "data": {
      "application/vnd.jupyter.widget-view+json": {
       "model_id": "7e84581e7cf040d580a5eea27d0cde1c",
       "version_major": 2,
       "version_minor": 0
      },
      "text/plain": [
       "Backtest.optimize:   0%|          | 0/9 [00:00<?, ?it/s]"
      ]
     },
     "metadata": {},
     "output_type": "display_data"
    },
    {
     "data": {
      "application/vnd.jupyter.widget-view+json": {
       "model_id": "83cd04af09f7415c9e94e37d44642a9a",
       "version_major": 2,
       "version_minor": 0
      },
      "text/plain": [
       "Backtest.optimize:   0%|          | 0/9 [00:00<?, ?it/s]"
      ]
     },
     "metadata": {},
     "output_type": "display_data"
    },
    {
     "data": {
      "application/vnd.jupyter.widget-view+json": {
       "model_id": "d44404559bb640f7a5e1a107ae831f82",
       "version_major": 2,
       "version_minor": 0
      },
      "text/plain": [
       "Backtest.optimize:   0%|          | 0/9 [00:00<?, ?it/s]"
      ]
     },
     "metadata": {},
     "output_type": "display_data"
    },
    {
     "data": {
      "application/vnd.jupyter.widget-view+json": {
       "model_id": "71bfa380733841e98bf77b08b0367865",
       "version_major": 2,
       "version_minor": 0
      },
      "text/plain": [
       "Backtest.optimize:   0%|          | 0/9 [00:00<?, ?it/s]"
      ]
     },
     "metadata": {},
     "output_type": "display_data"
    },
    {
     "data": {
      "application/vnd.jupyter.widget-view+json": {
       "model_id": "13d99bab40d443f2a350c4cf95352b16",
       "version_major": 2,
       "version_minor": 0
      },
      "text/plain": [
       "Backtest.optimize:   0%|          | 0/9 [00:00<?, ?it/s]"
      ]
     },
     "metadata": {},
     "output_type": "display_data"
    },
    {
     "data": {
      "application/vnd.jupyter.widget-view+json": {
       "model_id": "6d0a138e50c94517b53b4223f113f2e2",
       "version_major": 2,
       "version_minor": 0
      },
      "text/plain": [
       "Backtest.optimize:   0%|          | 0/9 [00:00<?, ?it/s]"
      ]
     },
     "metadata": {},
     "output_type": "display_data"
    },
    {
     "data": {
      "application/vnd.jupyter.widget-view+json": {
       "model_id": "94cede79440f4193afdbd7717a9b4b4d",
       "version_major": 2,
       "version_minor": 0
      },
      "text/plain": [
       "Backtest.optimize:   0%|          | 0/9 [00:00<?, ?it/s]"
      ]
     },
     "metadata": {},
     "output_type": "display_data"
    },
    {
     "data": {
      "application/vnd.jupyter.widget-view+json": {
       "model_id": "5a3d3cda1fd54c47b1375eabe99a24a2",
       "version_major": 2,
       "version_minor": 0
      },
      "text/plain": [
       "Backtest.optimize:   0%|          | 0/9 [00:00<?, ?it/s]"
      ]
     },
     "metadata": {},
     "output_type": "display_data"
    },
    {
     "data": {
      "application/vnd.jupyter.widget-view+json": {
       "model_id": "e4db8aa077dd4454b34e83c505c7da02",
       "version_major": 2,
       "version_minor": 0
      },
      "text/plain": [
       "Backtest.optimize:   0%|          | 0/9 [00:00<?, ?it/s]"
      ]
     },
     "metadata": {},
     "output_type": "display_data"
    },
    {
     "data": {
      "application/vnd.jupyter.widget-view+json": {
       "model_id": "1f074a9980f746759bb077e8fadf3319",
       "version_major": 2,
       "version_minor": 0
      },
      "text/plain": [
       "Backtest.optimize:   0%|          | 0/9 [00:00<?, ?it/s]"
      ]
     },
     "metadata": {},
     "output_type": "display_data"
    },
    {
     "data": {
      "application/vnd.jupyter.widget-view+json": {
       "model_id": "be4eaf94fbba4afbb102124432c54ce4",
       "version_major": 2,
       "version_minor": 0
      },
      "text/plain": [
       "Backtest.optimize:   0%|          | 0/9 [00:00<?, ?it/s]"
      ]
     },
     "metadata": {},
     "output_type": "display_data"
    },
    {
     "data": {
      "application/vnd.jupyter.widget-view+json": {
       "model_id": "886ca773b46b48e9856891aab36d9219",
       "version_major": 2,
       "version_minor": 0
      },
      "text/plain": [
       "Backtest.optimize:   0%|          | 0/9 [00:00<?, ?it/s]"
      ]
     },
     "metadata": {},
     "output_type": "display_data"
    },
    {
     "data": {
      "application/vnd.jupyter.widget-view+json": {
       "model_id": "25219788ed77425cb351d0cd6b952ea1",
       "version_major": 2,
       "version_minor": 0
      },
      "text/plain": [
       "Backtest.optimize:   0%|          | 0/9 [00:00<?, ?it/s]"
      ]
     },
     "metadata": {},
     "output_type": "display_data"
    },
    {
     "data": {
      "application/vnd.jupyter.widget-view+json": {
       "model_id": "bd68350ee5cb45719a8e2501855cb92a",
       "version_major": 2,
       "version_minor": 0
      },
      "text/plain": [
       "Backtest.optimize:   0%|          | 0/9 [00:00<?, ?it/s]"
      ]
     },
     "metadata": {},
     "output_type": "display_data"
    },
    {
     "data": {
      "application/vnd.jupyter.widget-view+json": {
       "model_id": "fccec2d60cfc435db96add4335f80518",
       "version_major": 2,
       "version_minor": 0
      },
      "text/plain": [
       "Backtest.optimize:   0%|          | 0/9 [00:00<?, ?it/s]"
      ]
     },
     "metadata": {},
     "output_type": "display_data"
    },
    {
     "data": {
      "application/vnd.jupyter.widget-view+json": {
       "model_id": "14bc57eb875147cd9fdb8f05b2dc59a8",
       "version_major": 2,
       "version_minor": 0
      },
      "text/plain": [
       "Backtest.optimize:   0%|          | 0/9 [00:00<?, ?it/s]"
      ]
     },
     "metadata": {},
     "output_type": "display_data"
    },
    {
     "data": {
      "application/vnd.jupyter.widget-view+json": {
       "model_id": "0248b137f7c749dea1befc6bad856a24",
       "version_major": 2,
       "version_minor": 0
      },
      "text/plain": [
       "Backtest.optimize:   0%|          | 0/9 [00:00<?, ?it/s]"
      ]
     },
     "metadata": {},
     "output_type": "display_data"
    },
    {
     "data": {
      "application/vnd.jupyter.widget-view+json": {
       "model_id": "e2261cdbaa304f1f8803ef9cd464a4fe",
       "version_major": 2,
       "version_minor": 0
      },
      "text/plain": [
       "Backtest.optimize:   0%|          | 0/9 [00:00<?, ?it/s]"
      ]
     },
     "metadata": {},
     "output_type": "display_data"
    },
    {
     "data": {
      "application/vnd.jupyter.widget-view+json": {
       "model_id": "84d3db55834c426cbd2ca636426cfa6c",
       "version_major": 2,
       "version_minor": 0
      },
      "text/plain": [
       "Backtest.optimize:   0%|          | 0/9 [00:00<?, ?it/s]"
      ]
     },
     "metadata": {},
     "output_type": "display_data"
    },
    {
     "data": {
      "application/vnd.jupyter.widget-view+json": {
       "model_id": "1633127bd8284972a7eb2c46cde7f616",
       "version_major": 2,
       "version_minor": 0
      },
      "text/plain": [
       "Backtest.optimize:   0%|          | 0/9 [00:00<?, ?it/s]"
      ]
     },
     "metadata": {},
     "output_type": "display_data"
    },
    {
     "data": {
      "application/vnd.jupyter.widget-view+json": {
       "model_id": "cb3fa6a2079d4160832e25fe569fa1eb",
       "version_major": 2,
       "version_minor": 0
      },
      "text/plain": [
       "Backtest.optimize:   0%|          | 0/9 [00:00<?, ?it/s]"
      ]
     },
     "metadata": {},
     "output_type": "display_data"
    },
    {
     "data": {
      "application/vnd.jupyter.widget-view+json": {
       "model_id": "742f7b4e81734c9ca63788b66e7eb873",
       "version_major": 2,
       "version_minor": 0
      },
      "text/plain": [
       "Backtest.optimize:   0%|          | 0/9 [00:00<?, ?it/s]"
      ]
     },
     "metadata": {},
     "output_type": "display_data"
    },
    {
     "data": {
      "application/vnd.jupyter.widget-view+json": {
       "model_id": "5a3dd0187bfd4d73803f66da0df4210f",
       "version_major": 2,
       "version_minor": 0
      },
      "text/plain": [
       "Backtest.optimize:   0%|          | 0/9 [00:00<?, ?it/s]"
      ]
     },
     "metadata": {},
     "output_type": "display_data"
    },
    {
     "data": {
      "application/vnd.jupyter.widget-view+json": {
       "model_id": "0f1032fcecb84dc8889315d3a0964c66",
       "version_major": 2,
       "version_minor": 0
      },
      "text/plain": [
       "Backtest.optimize:   0%|          | 0/9 [00:00<?, ?it/s]"
      ]
     },
     "metadata": {},
     "output_type": "display_data"
    },
    {
     "data": {
      "application/vnd.jupyter.widget-view+json": {
       "model_id": "1a78f564f3f14b70bf41a5f018afc68c",
       "version_major": 2,
       "version_minor": 0
      },
      "text/plain": [
       "Backtest.optimize:   0%|          | 0/9 [00:00<?, ?it/s]"
      ]
     },
     "metadata": {},
     "output_type": "display_data"
    },
    {
     "data": {
      "application/vnd.jupyter.widget-view+json": {
       "model_id": "25e594a3ec2149b8a7c9563428409da3",
       "version_major": 2,
       "version_minor": 0
      },
      "text/plain": [
       "Backtest.optimize:   0%|          | 0/9 [00:00<?, ?it/s]"
      ]
     },
     "metadata": {},
     "output_type": "display_data"
    },
    {
     "data": {
      "application/vnd.jupyter.widget-view+json": {
       "model_id": "547425567ee74ad8b033945b244ca072",
       "version_major": 2,
       "version_minor": 0
      },
      "text/plain": [
       "Backtest.optimize:   0%|          | 0/9 [00:00<?, ?it/s]"
      ]
     },
     "metadata": {},
     "output_type": "display_data"
    },
    {
     "data": {
      "application/vnd.jupyter.widget-view+json": {
       "model_id": "0e2e8032f336466aa46f1453d41d7b96",
       "version_major": 2,
       "version_minor": 0
      },
      "text/plain": [
       "Backtest.optimize:   0%|          | 0/9 [00:00<?, ?it/s]"
      ]
     },
     "metadata": {},
     "output_type": "display_data"
    },
    {
     "data": {
      "application/vnd.jupyter.widget-view+json": {
       "model_id": "38cde5ddc261470b85d22b0a3e928726",
       "version_major": 2,
       "version_minor": 0
      },
      "text/plain": [
       "Backtest.optimize:   0%|          | 0/9 [00:00<?, ?it/s]"
      ]
     },
     "metadata": {},
     "output_type": "display_data"
    },
    {
     "data": {
      "application/vnd.jupyter.widget-view+json": {
       "model_id": "54122ddcb1fe4df8b0640ebe8e78bcb1",
       "version_major": 2,
       "version_minor": 0
      },
      "text/plain": [
       "Backtest.optimize:   0%|          | 0/9 [00:00<?, ?it/s]"
      ]
     },
     "metadata": {},
     "output_type": "display_data"
    },
    {
     "data": {
      "application/vnd.jupyter.widget-view+json": {
       "model_id": "52e3e6fd2e6743e29efb72615f3d762c",
       "version_major": 2,
       "version_minor": 0
      },
      "text/plain": [
       "Backtest.optimize:   0%|          | 0/9 [00:00<?, ?it/s]"
      ]
     },
     "metadata": {},
     "output_type": "display_data"
    },
    {
     "data": {
      "application/vnd.jupyter.widget-view+json": {
       "model_id": "8c2493bf20b44a1c87b8ab18b1ea1444",
       "version_major": 2,
       "version_minor": 0
      },
      "text/plain": [
       "Backtest.optimize:   0%|          | 0/9 [00:00<?, ?it/s]"
      ]
     },
     "metadata": {},
     "output_type": "display_data"
    },
    {
     "data": {
      "application/vnd.jupyter.widget-view+json": {
       "model_id": "299227d9d2fa412cbace6351907ebbc8",
       "version_major": 2,
       "version_minor": 0
      },
      "text/plain": [
       "Backtest.optimize:   0%|          | 0/9 [00:00<?, ?it/s]"
      ]
     },
     "metadata": {},
     "output_type": "display_data"
    },
    {
     "data": {
      "application/vnd.jupyter.widget-view+json": {
       "model_id": "4bb02ef527ca4d9fa89c6ca0511152bd",
       "version_major": 2,
       "version_minor": 0
      },
      "text/plain": [
       "Backtest.optimize:   0%|          | 0/9 [00:00<?, ?it/s]"
      ]
     },
     "metadata": {},
     "output_type": "display_data"
    },
    {
     "data": {
      "application/vnd.jupyter.widget-view+json": {
       "model_id": "6eccd38fbe854d389896f2bfed330b2a",
       "version_major": 2,
       "version_minor": 0
      },
      "text/plain": [
       "Backtest.optimize:   0%|          | 0/9 [00:00<?, ?it/s]"
      ]
     },
     "metadata": {},
     "output_type": "display_data"
    },
    {
     "data": {
      "application/vnd.jupyter.widget-view+json": {
       "model_id": "037ec7cdb31343e989bade79764cc940",
       "version_major": 2,
       "version_minor": 0
      },
      "text/plain": [
       "Backtest.optimize:   0%|          | 0/9 [00:00<?, ?it/s]"
      ]
     },
     "metadata": {},
     "output_type": "display_data"
    },
    {
     "data": {
      "application/vnd.jupyter.widget-view+json": {
       "model_id": "af2136b387674ffdbe36b6df26f5a167",
       "version_major": 2,
       "version_minor": 0
      },
      "text/plain": [
       "Backtest.optimize:   0%|          | 0/9 [00:00<?, ?it/s]"
      ]
     },
     "metadata": {},
     "output_type": "display_data"
    },
    {
     "data": {
      "application/vnd.jupyter.widget-view+json": {
       "model_id": "946cc7b48c974d3d8b238be3790be5e6",
       "version_major": 2,
       "version_minor": 0
      },
      "text/plain": [
       "Backtest.optimize:   0%|          | 0/9 [00:00<?, ?it/s]"
      ]
     },
     "metadata": {},
     "output_type": "display_data"
    },
    {
     "data": {
      "application/vnd.jupyter.widget-view+json": {
       "model_id": "9927544b5cd94ed6a8a170a38fb791ae",
       "version_major": 2,
       "version_minor": 0
      },
      "text/plain": [
       "Backtest.optimize:   0%|          | 0/9 [00:00<?, ?it/s]"
      ]
     },
     "metadata": {},
     "output_type": "display_data"
    },
    {
     "data": {
      "application/vnd.jupyter.widget-view+json": {
       "model_id": "b95bab0ee4bf495b9920e4b50fd82619",
       "version_major": 2,
       "version_minor": 0
      },
      "text/plain": [
       "Backtest.optimize:   0%|          | 0/9 [00:00<?, ?it/s]"
      ]
     },
     "metadata": {},
     "output_type": "display_data"
    },
    {
     "data": {
      "application/vnd.jupyter.widget-view+json": {
       "model_id": "a7cf4b7b54704e6080360763a8543d54",
       "version_major": 2,
       "version_minor": 0
      },
      "text/plain": [
       "Backtest.optimize:   0%|          | 0/9 [00:00<?, ?it/s]"
      ]
     },
     "metadata": {},
     "output_type": "display_data"
    },
    {
     "data": {
      "application/vnd.jupyter.widget-view+json": {
       "model_id": "ad6506e4f9e245dfaf20936d8fde5f5e",
       "version_major": 2,
       "version_minor": 0
      },
      "text/plain": [
       "Backtest.optimize:   0%|          | 0/9 [00:00<?, ?it/s]"
      ]
     },
     "metadata": {},
     "output_type": "display_data"
    },
    {
     "data": {
      "application/vnd.jupyter.widget-view+json": {
       "model_id": "6b167ab90a9d4a7d8e31c66b187593cb",
       "version_major": 2,
       "version_minor": 0
      },
      "text/plain": [
       "Backtest.optimize:   0%|          | 0/9 [00:00<?, ?it/s]"
      ]
     },
     "metadata": {},
     "output_type": "display_data"
    },
    {
     "data": {
      "application/vnd.jupyter.widget-view+json": {
       "model_id": "0d4e29a5aa58418fada538b673f41b2f",
       "version_major": 2,
       "version_minor": 0
      },
      "text/plain": [
       "Backtest.optimize:   0%|          | 0/9 [00:00<?, ?it/s]"
      ]
     },
     "metadata": {},
     "output_type": "display_data"
    },
    {
     "data": {
      "application/vnd.jupyter.widget-view+json": {
       "model_id": "adcd391573ab45d8b80cf5e00d333b64",
       "version_major": 2,
       "version_minor": 0
      },
      "text/plain": [
       "Backtest.optimize:   0%|          | 0/9 [00:00<?, ?it/s]"
      ]
     },
     "metadata": {},
     "output_type": "display_data"
    },
    {
     "data": {
      "application/vnd.jupyter.widget-view+json": {
       "model_id": "115a86d1530b466f9abbd6fd430f114c",
       "version_major": 2,
       "version_minor": 0
      },
      "text/plain": [
       "Backtest.optimize:   0%|          | 0/9 [00:00<?, ?it/s]"
      ]
     },
     "metadata": {},
     "output_type": "display_data"
    },
    {
     "data": {
      "application/vnd.jupyter.widget-view+json": {
       "model_id": "a2064113849a44e2aa97c77d5e9861e5",
       "version_major": 2,
       "version_minor": 0
      },
      "text/plain": [
       "Backtest.optimize:   0%|          | 0/9 [00:00<?, ?it/s]"
      ]
     },
     "metadata": {},
     "output_type": "display_data"
    },
    {
     "data": {
      "application/vnd.jupyter.widget-view+json": {
       "model_id": "fd1b27e9460349deaf8fa0ae6f3fc110",
       "version_major": 2,
       "version_minor": 0
      },
      "text/plain": [
       "Backtest.optimize:   0%|          | 0/9 [00:00<?, ?it/s]"
      ]
     },
     "metadata": {},
     "output_type": "display_data"
    },
    {
     "data": {
      "application/vnd.jupyter.widget-view+json": {
       "model_id": "116f96ac0a3c43c0b372ed5e2db5aba4",
       "version_major": 2,
       "version_minor": 0
      },
      "text/plain": [
       "Backtest.optimize:   0%|          | 0/9 [00:00<?, ?it/s]"
      ]
     },
     "metadata": {},
     "output_type": "display_data"
    },
    {
     "data": {
      "application/vnd.jupyter.widget-view+json": {
       "model_id": "17925d80cbab461abb28483d3e474c98",
       "version_major": 2,
       "version_minor": 0
      },
      "text/plain": [
       "Backtest.optimize:   0%|          | 0/9 [00:00<?, ?it/s]"
      ]
     },
     "metadata": {},
     "output_type": "display_data"
    },
    {
     "data": {
      "application/vnd.jupyter.widget-view+json": {
       "model_id": "1963ed9595794025859af7f1771ef0ab",
       "version_major": 2,
       "version_minor": 0
      },
      "text/plain": [
       "Backtest.optimize:   0%|          | 0/9 [00:00<?, ?it/s]"
      ]
     },
     "metadata": {},
     "output_type": "display_data"
    },
    {
     "data": {
      "application/vnd.jupyter.widget-view+json": {
       "model_id": "5a75bb693eee4853827e48fa8aa4c773",
       "version_major": 2,
       "version_minor": 0
      },
      "text/plain": [
       "Backtest.optimize:   0%|          | 0/9 [00:00<?, ?it/s]"
      ]
     },
     "metadata": {},
     "output_type": "display_data"
    },
    {
     "data": {
      "application/vnd.jupyter.widget-view+json": {
       "model_id": "eae41ba735d74728b5a61af11eb8875f",
       "version_major": 2,
       "version_minor": 0
      },
      "text/plain": [
       "Backtest.optimize:   0%|          | 0/9 [00:00<?, ?it/s]"
      ]
     },
     "metadata": {},
     "output_type": "display_data"
    },
    {
     "data": {
      "application/vnd.jupyter.widget-view+json": {
       "model_id": "07ca96ee993a4185986d91babfdab7ee",
       "version_major": 2,
       "version_minor": 0
      },
      "text/plain": [
       "Backtest.optimize:   0%|          | 0/9 [00:00<?, ?it/s]"
      ]
     },
     "metadata": {},
     "output_type": "display_data"
    },
    {
     "data": {
      "application/vnd.jupyter.widget-view+json": {
       "model_id": "b20c34bc314541b7aeb3dbfb3461c4a7",
       "version_major": 2,
       "version_minor": 0
      },
      "text/plain": [
       "Backtest.optimize:   0%|          | 0/9 [00:00<?, ?it/s]"
      ]
     },
     "metadata": {},
     "output_type": "display_data"
    },
    {
     "data": {
      "application/vnd.jupyter.widget-view+json": {
       "model_id": "545e26b6f94c4785a0bd8fe5eb84ca5b",
       "version_major": 2,
       "version_minor": 0
      },
      "text/plain": [
       "Backtest.optimize:   0%|          | 0/9 [00:00<?, ?it/s]"
      ]
     },
     "metadata": {},
     "output_type": "display_data"
    },
    {
     "data": {
      "application/vnd.jupyter.widget-view+json": {
       "model_id": "27b6f624e9f04e02b22d148f2067f42a",
       "version_major": 2,
       "version_minor": 0
      },
      "text/plain": [
       "Backtest.optimize:   0%|          | 0/9 [00:00<?, ?it/s]"
      ]
     },
     "metadata": {},
     "output_type": "display_data"
    },
    {
     "data": {
      "application/vnd.jupyter.widget-view+json": {
       "model_id": "3870eb7d4b7e4d8aa3bc68d2401376b1",
       "version_major": 2,
       "version_minor": 0
      },
      "text/plain": [
       "Backtest.optimize:   0%|          | 0/9 [00:00<?, ?it/s]"
      ]
     },
     "metadata": {},
     "output_type": "display_data"
    },
    {
     "data": {
      "application/vnd.jupyter.widget-view+json": {
       "model_id": "b41b4d5f79d54afeb724fc9e970105ba",
       "version_major": 2,
       "version_minor": 0
      },
      "text/plain": [
       "Backtest.optimize:   0%|          | 0/9 [00:00<?, ?it/s]"
      ]
     },
     "metadata": {},
     "output_type": "display_data"
    },
    {
     "name": "stderr",
     "output_type": "stream",
     "text": [
      " 13%|█▎        | 8/60 [16:04<1:40:39, 116.15s/it]"
     ]
    },
    {
     "name": "stdout",
     "output_type": "stream",
     "text": [
      "BTC-USD : best_params: None, best_performance: -inf\n",
      "BTC-USD : train_set: 2019-09-22 00:00:00 - 2020-04-08 00:00:00, test_set: 2020-04-09 00:00:00 - 2020-05-11 00:00:00\n"
     ]
    },
    {
     "data": {
      "application/vnd.jupyter.widget-view+json": {
       "model_id": "9fb4cd508bfb4250b03af45a03afcc72",
       "version_major": 2,
       "version_minor": 0
      },
      "text/plain": [
       "Backtest.optimize:   0%|          | 0/9 [00:00<?, ?it/s]"
      ]
     },
     "metadata": {},
     "output_type": "display_data"
    },
    {
     "data": {
      "application/vnd.jupyter.widget-view+json": {
       "model_id": "bb05486303f54eada17740963e8abae5",
       "version_major": 2,
       "version_minor": 0
      },
      "text/plain": [
       "Backtest.optimize:   0%|          | 0/9 [00:00<?, ?it/s]"
      ]
     },
     "metadata": {},
     "output_type": "display_data"
    },
    {
     "data": {
      "application/vnd.jupyter.widget-view+json": {
       "model_id": "0d21953014ea4281ad0d80dda0b44a46",
       "version_major": 2,
       "version_minor": 0
      },
      "text/plain": [
       "Backtest.optimize:   0%|          | 0/9 [00:00<?, ?it/s]"
      ]
     },
     "metadata": {},
     "output_type": "display_data"
    },
    {
     "data": {
      "application/vnd.jupyter.widget-view+json": {
       "model_id": "b4eb41d0067347888a7ad9004aff7356",
       "version_major": 2,
       "version_minor": 0
      },
      "text/plain": [
       "Backtest.optimize:   0%|          | 0/9 [00:00<?, ?it/s]"
      ]
     },
     "metadata": {},
     "output_type": "display_data"
    },
    {
     "data": {
      "application/vnd.jupyter.widget-view+json": {
       "model_id": "517ff726bed441c59fb5314fe142531e",
       "version_major": 2,
       "version_minor": 0
      },
      "text/plain": [
       "Backtest.optimize:   0%|          | 0/9 [00:00<?, ?it/s]"
      ]
     },
     "metadata": {},
     "output_type": "display_data"
    },
    {
     "data": {
      "application/vnd.jupyter.widget-view+json": {
       "model_id": "94ef942e36234f85b61094f7b7dc4ac6",
       "version_major": 2,
       "version_minor": 0
      },
      "text/plain": [
       "Backtest.optimize:   0%|          | 0/9 [00:00<?, ?it/s]"
      ]
     },
     "metadata": {},
     "output_type": "display_data"
    },
    {
     "data": {
      "application/vnd.jupyter.widget-view+json": {
       "model_id": "f76ef43af7f041ec9f6870e36d03c911",
       "version_major": 2,
       "version_minor": 0
      },
      "text/plain": [
       "Backtest.optimize:   0%|          | 0/9 [00:00<?, ?it/s]"
      ]
     },
     "metadata": {},
     "output_type": "display_data"
    },
    {
     "data": {
      "application/vnd.jupyter.widget-view+json": {
       "model_id": "5bcddc2040a241108b25fa31ddf27b77",
       "version_major": 2,
       "version_minor": 0
      },
      "text/plain": [
       "Backtest.optimize:   0%|          | 0/9 [00:00<?, ?it/s]"
      ]
     },
     "metadata": {},
     "output_type": "display_data"
    },
    {
     "data": {
      "application/vnd.jupyter.widget-view+json": {
       "model_id": "d47fa86125704f09a04fadf1269d89eb",
       "version_major": 2,
       "version_minor": 0
      },
      "text/plain": [
       "Backtest.optimize:   0%|          | 0/9 [00:00<?, ?it/s]"
      ]
     },
     "metadata": {},
     "output_type": "display_data"
    },
    {
     "data": {
      "application/vnd.jupyter.widget-view+json": {
       "model_id": "ee02aaab32b34c7fb3ba2eee2e657c28",
       "version_major": 2,
       "version_minor": 0
      },
      "text/plain": [
       "Backtest.optimize:   0%|          | 0/9 [00:00<?, ?it/s]"
      ]
     },
     "metadata": {},
     "output_type": "display_data"
    },
    {
     "data": {
      "application/vnd.jupyter.widget-view+json": {
       "model_id": "0cbd461e61f04dbaa90d2a5d609bcec9",
       "version_major": 2,
       "version_minor": 0
      },
      "text/plain": [
       "Backtest.optimize:   0%|          | 0/9 [00:00<?, ?it/s]"
      ]
     },
     "metadata": {},
     "output_type": "display_data"
    },
    {
     "data": {
      "application/vnd.jupyter.widget-view+json": {
       "model_id": "be3a24f06fdc41e9a281d65198f151d5",
       "version_major": 2,
       "version_minor": 0
      },
      "text/plain": [
       "Backtest.optimize:   0%|          | 0/9 [00:00<?, ?it/s]"
      ]
     },
     "metadata": {},
     "output_type": "display_data"
    },
    {
     "data": {
      "application/vnd.jupyter.widget-view+json": {
       "model_id": "7c2e1cd799de4089a73bb5bea0ca08b8",
       "version_major": 2,
       "version_minor": 0
      },
      "text/plain": [
       "Backtest.optimize:   0%|          | 0/9 [00:00<?, ?it/s]"
      ]
     },
     "metadata": {},
     "output_type": "display_data"
    },
    {
     "data": {
      "application/vnd.jupyter.widget-view+json": {
       "model_id": "d96ced27f8a24e43a7eed09428bf0441",
       "version_major": 2,
       "version_minor": 0
      },
      "text/plain": [
       "Backtest.optimize:   0%|          | 0/9 [00:00<?, ?it/s]"
      ]
     },
     "metadata": {},
     "output_type": "display_data"
    },
    {
     "data": {
      "application/vnd.jupyter.widget-view+json": {
       "model_id": "7b7f29c59d7c425f9e6831b2e009f40a",
       "version_major": 2,
       "version_minor": 0
      },
      "text/plain": [
       "Backtest.optimize:   0%|          | 0/9 [00:00<?, ?it/s]"
      ]
     },
     "metadata": {},
     "output_type": "display_data"
    },
    {
     "data": {
      "application/vnd.jupyter.widget-view+json": {
       "model_id": "e2d1c39ca8f84e9fbc2850362ef9ce52",
       "version_major": 2,
       "version_minor": 0
      },
      "text/plain": [
       "Backtest.optimize:   0%|          | 0/9 [00:00<?, ?it/s]"
      ]
     },
     "metadata": {},
     "output_type": "display_data"
    },
    {
     "data": {
      "application/vnd.jupyter.widget-view+json": {
       "model_id": "07a7cea98bca44a881b2ca23e2069b99",
       "version_major": 2,
       "version_minor": 0
      },
      "text/plain": [
       "Backtest.optimize:   0%|          | 0/9 [00:00<?, ?it/s]"
      ]
     },
     "metadata": {},
     "output_type": "display_data"
    },
    {
     "data": {
      "application/vnd.jupyter.widget-view+json": {
       "model_id": "3b8ce0eb95c140fdb708ea35b8a370bc",
       "version_major": 2,
       "version_minor": 0
      },
      "text/plain": [
       "Backtest.optimize:   0%|          | 0/9 [00:00<?, ?it/s]"
      ]
     },
     "metadata": {},
     "output_type": "display_data"
    },
    {
     "data": {
      "application/vnd.jupyter.widget-view+json": {
       "model_id": "214e5e2ceef44575bf2d39174a19eb8d",
       "version_major": 2,
       "version_minor": 0
      },
      "text/plain": [
       "Backtest.optimize:   0%|          | 0/9 [00:00<?, ?it/s]"
      ]
     },
     "metadata": {},
     "output_type": "display_data"
    },
    {
     "data": {
      "application/vnd.jupyter.widget-view+json": {
       "model_id": "9dd00b85f1ad4edab783041db57d6b7a",
       "version_major": 2,
       "version_minor": 0
      },
      "text/plain": [
       "Backtest.optimize:   0%|          | 0/9 [00:00<?, ?it/s]"
      ]
     },
     "metadata": {},
     "output_type": "display_data"
    },
    {
     "data": {
      "application/vnd.jupyter.widget-view+json": {
       "model_id": "e6b16d17d1e44d5db9c2f7a019812cd0",
       "version_major": 2,
       "version_minor": 0
      },
      "text/plain": [
       "Backtest.optimize:   0%|          | 0/9 [00:00<?, ?it/s]"
      ]
     },
     "metadata": {},
     "output_type": "display_data"
    },
    {
     "data": {
      "application/vnd.jupyter.widget-view+json": {
       "model_id": "c035e38a62e040bd8d6529b5581e9b1e",
       "version_major": 2,
       "version_minor": 0
      },
      "text/plain": [
       "Backtest.optimize:   0%|          | 0/9 [00:00<?, ?it/s]"
      ]
     },
     "metadata": {},
     "output_type": "display_data"
    },
    {
     "data": {
      "application/vnd.jupyter.widget-view+json": {
       "model_id": "07fdd501c3654bf1832bbe5570ce0ff3",
       "version_major": 2,
       "version_minor": 0
      },
      "text/plain": [
       "Backtest.optimize:   0%|          | 0/9 [00:00<?, ?it/s]"
      ]
     },
     "metadata": {},
     "output_type": "display_data"
    },
    {
     "data": {
      "application/vnd.jupyter.widget-view+json": {
       "model_id": "9e7f9e1028cd4feabc1fd6d6fd863596",
       "version_major": 2,
       "version_minor": 0
      },
      "text/plain": [
       "Backtest.optimize:   0%|          | 0/9 [00:00<?, ?it/s]"
      ]
     },
     "metadata": {},
     "output_type": "display_data"
    },
    {
     "data": {
      "application/vnd.jupyter.widget-view+json": {
       "model_id": "69e71961cd974fe99a1b57e4fadfc803",
       "version_major": 2,
       "version_minor": 0
      },
      "text/plain": [
       "Backtest.optimize:   0%|          | 0/9 [00:00<?, ?it/s]"
      ]
     },
     "metadata": {},
     "output_type": "display_data"
    },
    {
     "data": {
      "application/vnd.jupyter.widget-view+json": {
       "model_id": "11c5c36d5d8a41918bb722f8585049ba",
       "version_major": 2,
       "version_minor": 0
      },
      "text/plain": [
       "Backtest.optimize:   0%|          | 0/9 [00:00<?, ?it/s]"
      ]
     },
     "metadata": {},
     "output_type": "display_data"
    },
    {
     "data": {
      "application/vnd.jupyter.widget-view+json": {
       "model_id": "b7e32c0135dc49019db2e089a0b379c3",
       "version_major": 2,
       "version_minor": 0
      },
      "text/plain": [
       "Backtest.optimize:   0%|          | 0/9 [00:00<?, ?it/s]"
      ]
     },
     "metadata": {},
     "output_type": "display_data"
    },
    {
     "data": {
      "application/vnd.jupyter.widget-view+json": {
       "model_id": "97ef116a5a124452a57a31abf7cc6a0c",
       "version_major": 2,
       "version_minor": 0
      },
      "text/plain": [
       "Backtest.optimize:   0%|          | 0/9 [00:00<?, ?it/s]"
      ]
     },
     "metadata": {},
     "output_type": "display_data"
    },
    {
     "data": {
      "application/vnd.jupyter.widget-view+json": {
       "model_id": "9f9f4d0548fd4015a23aed3013411ec1",
       "version_major": 2,
       "version_minor": 0
      },
      "text/plain": [
       "Backtest.optimize:   0%|          | 0/9 [00:00<?, ?it/s]"
      ]
     },
     "metadata": {},
     "output_type": "display_data"
    },
    {
     "data": {
      "application/vnd.jupyter.widget-view+json": {
       "model_id": "d601f3e27ae943688311c3daf0dd4695",
       "version_major": 2,
       "version_minor": 0
      },
      "text/plain": [
       "Backtest.optimize:   0%|          | 0/9 [00:00<?, ?it/s]"
      ]
     },
     "metadata": {},
     "output_type": "display_data"
    },
    {
     "data": {
      "application/vnd.jupyter.widget-view+json": {
       "model_id": "a9151b9b773c4c5b8c4da8c8ce5fb5a7",
       "version_major": 2,
       "version_minor": 0
      },
      "text/plain": [
       "Backtest.optimize:   0%|          | 0/9 [00:00<?, ?it/s]"
      ]
     },
     "metadata": {},
     "output_type": "display_data"
    },
    {
     "data": {
      "application/vnd.jupyter.widget-view+json": {
       "model_id": "1a6484e6b28b4d859468e4a2247e73c3",
       "version_major": 2,
       "version_minor": 0
      },
      "text/plain": [
       "Backtest.optimize:   0%|          | 0/9 [00:00<?, ?it/s]"
      ]
     },
     "metadata": {},
     "output_type": "display_data"
    },
    {
     "data": {
      "application/vnd.jupyter.widget-view+json": {
       "model_id": "9a5be023c6524dc8860d71fc0ea57a7e",
       "version_major": 2,
       "version_minor": 0
      },
      "text/plain": [
       "Backtest.optimize:   0%|          | 0/9 [00:00<?, ?it/s]"
      ]
     },
     "metadata": {},
     "output_type": "display_data"
    },
    {
     "data": {
      "application/vnd.jupyter.widget-view+json": {
       "model_id": "6262ea7ac7ff4fa8a2a454b905189325",
       "version_major": 2,
       "version_minor": 0
      },
      "text/plain": [
       "Backtest.optimize:   0%|          | 0/9 [00:00<?, ?it/s]"
      ]
     },
     "metadata": {},
     "output_type": "display_data"
    },
    {
     "data": {
      "application/vnd.jupyter.widget-view+json": {
       "model_id": "1a8ea0a1b7a646e9a16ef15aded946be",
       "version_major": 2,
       "version_minor": 0
      },
      "text/plain": [
       "Backtest.optimize:   0%|          | 0/9 [00:00<?, ?it/s]"
      ]
     },
     "metadata": {},
     "output_type": "display_data"
    },
    {
     "data": {
      "application/vnd.jupyter.widget-view+json": {
       "model_id": "c85c4b97c9ed4c9baa4f26c3d0a6b0e3",
       "version_major": 2,
       "version_minor": 0
      },
      "text/plain": [
       "Backtest.optimize:   0%|          | 0/9 [00:00<?, ?it/s]"
      ]
     },
     "metadata": {},
     "output_type": "display_data"
    },
    {
     "data": {
      "application/vnd.jupyter.widget-view+json": {
       "model_id": "5e96d4bacb4f4594818ff8c56c18c2ea",
       "version_major": 2,
       "version_minor": 0
      },
      "text/plain": [
       "Backtest.optimize:   0%|          | 0/9 [00:00<?, ?it/s]"
      ]
     },
     "metadata": {},
     "output_type": "display_data"
    },
    {
     "data": {
      "application/vnd.jupyter.widget-view+json": {
       "model_id": "68e653dbe81148abbce2a5473965a6af",
       "version_major": 2,
       "version_minor": 0
      },
      "text/plain": [
       "Backtest.optimize:   0%|          | 0/9 [00:00<?, ?it/s]"
      ]
     },
     "metadata": {},
     "output_type": "display_data"
    },
    {
     "data": {
      "application/vnd.jupyter.widget-view+json": {
       "model_id": "861ded8ff3754783a1374b867e315e4d",
       "version_major": 2,
       "version_minor": 0
      },
      "text/plain": [
       "Backtest.optimize:   0%|          | 0/9 [00:00<?, ?it/s]"
      ]
     },
     "metadata": {},
     "output_type": "display_data"
    },
    {
     "data": {
      "application/vnd.jupyter.widget-view+json": {
       "model_id": "d3957b711e694fa0bfe41aaf7b4d2cce",
       "version_major": 2,
       "version_minor": 0
      },
      "text/plain": [
       "Backtest.optimize:   0%|          | 0/9 [00:00<?, ?it/s]"
      ]
     },
     "metadata": {},
     "output_type": "display_data"
    },
    {
     "data": {
      "application/vnd.jupyter.widget-view+json": {
       "model_id": "92ea97bf822e4d14856acbfc1b38fac2",
       "version_major": 2,
       "version_minor": 0
      },
      "text/plain": [
       "Backtest.optimize:   0%|          | 0/9 [00:00<?, ?it/s]"
      ]
     },
     "metadata": {},
     "output_type": "display_data"
    },
    {
     "data": {
      "application/vnd.jupyter.widget-view+json": {
       "model_id": "2ad6074f184e4950bdc9cdf4a344d753",
       "version_major": 2,
       "version_minor": 0
      },
      "text/plain": [
       "Backtest.optimize:   0%|          | 0/9 [00:00<?, ?it/s]"
      ]
     },
     "metadata": {},
     "output_type": "display_data"
    },
    {
     "data": {
      "application/vnd.jupyter.widget-view+json": {
       "model_id": "dd34c7e7f29342f2a4f439dbb849bc69",
       "version_major": 2,
       "version_minor": 0
      },
      "text/plain": [
       "Backtest.optimize:   0%|          | 0/9 [00:00<?, ?it/s]"
      ]
     },
     "metadata": {},
     "output_type": "display_data"
    },
    {
     "data": {
      "application/vnd.jupyter.widget-view+json": {
       "model_id": "b1190bf8c0b14069a5a226bff089fa5b",
       "version_major": 2,
       "version_minor": 0
      },
      "text/plain": [
       "Backtest.optimize:   0%|          | 0/9 [00:00<?, ?it/s]"
      ]
     },
     "metadata": {},
     "output_type": "display_data"
    },
    {
     "data": {
      "application/vnd.jupyter.widget-view+json": {
       "model_id": "735fe6b0753546ac9d7f1231b40ccfb0",
       "version_major": 2,
       "version_minor": 0
      },
      "text/plain": [
       "Backtest.optimize:   0%|          | 0/9 [00:00<?, ?it/s]"
      ]
     },
     "metadata": {},
     "output_type": "display_data"
    },
    {
     "data": {
      "application/vnd.jupyter.widget-view+json": {
       "model_id": "962b9a7a3b1b415fbc23ddbbe036ce52",
       "version_major": 2,
       "version_minor": 0
      },
      "text/plain": [
       "Backtest.optimize:   0%|          | 0/9 [00:00<?, ?it/s]"
      ]
     },
     "metadata": {},
     "output_type": "display_data"
    },
    {
     "data": {
      "application/vnd.jupyter.widget-view+json": {
       "model_id": "c28425f6ac05417ab57835d628acaf78",
       "version_major": 2,
       "version_minor": 0
      },
      "text/plain": [
       "Backtest.optimize:   0%|          | 0/9 [00:00<?, ?it/s]"
      ]
     },
     "metadata": {},
     "output_type": "display_data"
    },
    {
     "data": {
      "application/vnd.jupyter.widget-view+json": {
       "model_id": "8a46d06e44124a00a0bd58ad84b23237",
       "version_major": 2,
       "version_minor": 0
      },
      "text/plain": [
       "Backtest.optimize:   0%|          | 0/9 [00:00<?, ?it/s]"
      ]
     },
     "metadata": {},
     "output_type": "display_data"
    },
    {
     "data": {
      "application/vnd.jupyter.widget-view+json": {
       "model_id": "6b512c7145d24f678144048ab25a7c29",
       "version_major": 2,
       "version_minor": 0
      },
      "text/plain": [
       "Backtest.optimize:   0%|          | 0/9 [00:00<?, ?it/s]"
      ]
     },
     "metadata": {},
     "output_type": "display_data"
    },
    {
     "data": {
      "application/vnd.jupyter.widget-view+json": {
       "model_id": "da0901e45e144e2f92c9688f457f2e58",
       "version_major": 2,
       "version_minor": 0
      },
      "text/plain": [
       "Backtest.optimize:   0%|          | 0/9 [00:00<?, ?it/s]"
      ]
     },
     "metadata": {},
     "output_type": "display_data"
    },
    {
     "data": {
      "application/vnd.jupyter.widget-view+json": {
       "model_id": "ef65ac8004954d35b66dcbd59f5354b1",
       "version_major": 2,
       "version_minor": 0
      },
      "text/plain": [
       "Backtest.optimize:   0%|          | 0/9 [00:00<?, ?it/s]"
      ]
     },
     "metadata": {},
     "output_type": "display_data"
    },
    {
     "data": {
      "application/vnd.jupyter.widget-view+json": {
       "model_id": "3f425ba9ff7b4979828abdd0f6e42539",
       "version_major": 2,
       "version_minor": 0
      },
      "text/plain": [
       "Backtest.optimize:   0%|          | 0/9 [00:00<?, ?it/s]"
      ]
     },
     "metadata": {},
     "output_type": "display_data"
    },
    {
     "data": {
      "application/vnd.jupyter.widget-view+json": {
       "model_id": "c81db631c5384c849b5359a4c67f24b6",
       "version_major": 2,
       "version_minor": 0
      },
      "text/plain": [
       "Backtest.optimize:   0%|          | 0/9 [00:00<?, ?it/s]"
      ]
     },
     "metadata": {},
     "output_type": "display_data"
    },
    {
     "data": {
      "application/vnd.jupyter.widget-view+json": {
       "model_id": "3f6bb4b86b544b218d1a12175681a473",
       "version_major": 2,
       "version_minor": 0
      },
      "text/plain": [
       "Backtest.optimize:   0%|          | 0/9 [00:00<?, ?it/s]"
      ]
     },
     "metadata": {},
     "output_type": "display_data"
    },
    {
     "data": {
      "application/vnd.jupyter.widget-view+json": {
       "model_id": "c33b8d2a75514d95b1171620f5169c5a",
       "version_major": 2,
       "version_minor": 0
      },
      "text/plain": [
       "Backtest.optimize:   0%|          | 0/9 [00:00<?, ?it/s]"
      ]
     },
     "metadata": {},
     "output_type": "display_data"
    },
    {
     "data": {
      "application/vnd.jupyter.widget-view+json": {
       "model_id": "c92514a5f41641bd9a675aff512056fc",
       "version_major": 2,
       "version_minor": 0
      },
      "text/plain": [
       "Backtest.optimize:   0%|          | 0/9 [00:00<?, ?it/s]"
      ]
     },
     "metadata": {},
     "output_type": "display_data"
    },
    {
     "data": {
      "application/vnd.jupyter.widget-view+json": {
       "model_id": "a08874b7eac7445a91e49ee6d83f79de",
       "version_major": 2,
       "version_minor": 0
      },
      "text/plain": [
       "Backtest.optimize:   0%|          | 0/9 [00:00<?, ?it/s]"
      ]
     },
     "metadata": {},
     "output_type": "display_data"
    },
    {
     "data": {
      "application/vnd.jupyter.widget-view+json": {
       "model_id": "39bf0b7c91484fd284bdea0d4261d99f",
       "version_major": 2,
       "version_minor": 0
      },
      "text/plain": [
       "Backtest.optimize:   0%|          | 0/9 [00:00<?, ?it/s]"
      ]
     },
     "metadata": {},
     "output_type": "display_data"
    },
    {
     "data": {
      "application/vnd.jupyter.widget-view+json": {
       "model_id": "560c984628924f7388002abae63d22b1",
       "version_major": 2,
       "version_minor": 0
      },
      "text/plain": [
       "Backtest.optimize:   0%|          | 0/9 [00:00<?, ?it/s]"
      ]
     },
     "metadata": {},
     "output_type": "display_data"
    },
    {
     "data": {
      "application/vnd.jupyter.widget-view+json": {
       "model_id": "9fce2778617649b9940f9000f808e638",
       "version_major": 2,
       "version_minor": 0
      },
      "text/plain": [
       "Backtest.optimize:   0%|          | 0/9 [00:00<?, ?it/s]"
      ]
     },
     "metadata": {},
     "output_type": "display_data"
    },
    {
     "data": {
      "application/vnd.jupyter.widget-view+json": {
       "model_id": "2d433559b490411b844b0d5882f01fcc",
       "version_major": 2,
       "version_minor": 0
      },
      "text/plain": [
       "Backtest.optimize:   0%|          | 0/9 [00:00<?, ?it/s]"
      ]
     },
     "metadata": {},
     "output_type": "display_data"
    },
    {
     "data": {
      "application/vnd.jupyter.widget-view+json": {
       "model_id": "5cb13479b4e04ada9e42c6cb7fd5eb8a",
       "version_major": 2,
       "version_minor": 0
      },
      "text/plain": [
       "Backtest.optimize:   0%|          | 0/9 [00:00<?, ?it/s]"
      ]
     },
     "metadata": {},
     "output_type": "display_data"
    },
    {
     "data": {
      "application/vnd.jupyter.widget-view+json": {
       "model_id": "d2883cc9ab52413fbf9ed53b69f10745",
       "version_major": 2,
       "version_minor": 0
      },
      "text/plain": [
       "Backtest.optimize:   0%|          | 0/9 [00:00<?, ?it/s]"
      ]
     },
     "metadata": {},
     "output_type": "display_data"
    },
    {
     "data": {
      "application/vnd.jupyter.widget-view+json": {
       "model_id": "e0efcafb61a2432d81dd30aa5a65e45d",
       "version_major": 2,
       "version_minor": 0
      },
      "text/plain": [
       "Backtest.optimize:   0%|          | 0/9 [00:00<?, ?it/s]"
      ]
     },
     "metadata": {},
     "output_type": "display_data"
    },
    {
     "data": {
      "application/vnd.jupyter.widget-view+json": {
       "model_id": "5ee5873d176f409b85d519272ec7d3de",
       "version_major": 2,
       "version_minor": 0
      },
      "text/plain": [
       "Backtest.optimize:   0%|          | 0/9 [00:00<?, ?it/s]"
      ]
     },
     "metadata": {},
     "output_type": "display_data"
    },
    {
     "data": {
      "application/vnd.jupyter.widget-view+json": {
       "model_id": "a793d93c85ee4c0995b257c6f02bd994",
       "version_major": 2,
       "version_minor": 0
      },
      "text/plain": [
       "Backtest.optimize:   0%|          | 0/9 [00:00<?, ?it/s]"
      ]
     },
     "metadata": {},
     "output_type": "display_data"
    },
    {
     "data": {
      "application/vnd.jupyter.widget-view+json": {
       "model_id": "57379f5242a14acf9568028618986c2a",
       "version_major": 2,
       "version_minor": 0
      },
      "text/plain": [
       "Backtest.optimize:   0%|          | 0/9 [00:00<?, ?it/s]"
      ]
     },
     "metadata": {},
     "output_type": "display_data"
    },
    {
     "data": {
      "application/vnd.jupyter.widget-view+json": {
       "model_id": "b261722f4cb34ab5b714b97493828237",
       "version_major": 2,
       "version_minor": 0
      },
      "text/plain": [
       "Backtest.optimize:   0%|          | 0/9 [00:00<?, ?it/s]"
      ]
     },
     "metadata": {},
     "output_type": "display_data"
    },
    {
     "data": {
      "application/vnd.jupyter.widget-view+json": {
       "model_id": "facac86fca784648b256eafabe8daf2a",
       "version_major": 2,
       "version_minor": 0
      },
      "text/plain": [
       "Backtest.optimize:   0%|          | 0/9 [00:00<?, ?it/s]"
      ]
     },
     "metadata": {},
     "output_type": "display_data"
    },
    {
     "data": {
      "application/vnd.jupyter.widget-view+json": {
       "model_id": "2ba41f54af264c05b672b3257745e363",
       "version_major": 2,
       "version_minor": 0
      },
      "text/plain": [
       "Backtest.optimize:   0%|          | 0/9 [00:00<?, ?it/s]"
      ]
     },
     "metadata": {},
     "output_type": "display_data"
    },
    {
     "data": {
      "application/vnd.jupyter.widget-view+json": {
       "model_id": "1d48582200844ddbb6e08a333f238940",
       "version_major": 2,
       "version_minor": 0
      },
      "text/plain": [
       "Backtest.optimize:   0%|          | 0/9 [00:00<?, ?it/s]"
      ]
     },
     "metadata": {},
     "output_type": "display_data"
    },
    {
     "data": {
      "application/vnd.jupyter.widget-view+json": {
       "model_id": "0bba01c116e2411183bffe1dd890ac41",
       "version_major": 2,
       "version_minor": 0
      },
      "text/plain": [
       "Backtest.optimize:   0%|          | 0/9 [00:00<?, ?it/s]"
      ]
     },
     "metadata": {},
     "output_type": "display_data"
    },
    {
     "data": {
      "application/vnd.jupyter.widget-view+json": {
       "model_id": "a6e4ddec9dd7423a8b0e46e602b65ff6",
       "version_major": 2,
       "version_minor": 0
      },
      "text/plain": [
       "Backtest.optimize:   0%|          | 0/9 [00:00<?, ?it/s]"
      ]
     },
     "metadata": {},
     "output_type": "display_data"
    },
    {
     "data": {
      "application/vnd.jupyter.widget-view+json": {
       "model_id": "02c44dd3f2fd496289dd006b90635304",
       "version_major": 2,
       "version_minor": 0
      },
      "text/plain": [
       "Backtest.optimize:   0%|          | 0/9 [00:00<?, ?it/s]"
      ]
     },
     "metadata": {},
     "output_type": "display_data"
    },
    {
     "data": {
      "application/vnd.jupyter.widget-view+json": {
       "model_id": "5c96ee9f8f0b4adeb240d157f108d0fe",
       "version_major": 2,
       "version_minor": 0
      },
      "text/plain": [
       "Backtest.optimize:   0%|          | 0/9 [00:00<?, ?it/s]"
      ]
     },
     "metadata": {},
     "output_type": "display_data"
    },
    {
     "data": {
      "application/vnd.jupyter.widget-view+json": {
       "model_id": "ca92033907fa468fb8c588ca485fdaa2",
       "version_major": 2,
       "version_minor": 0
      },
      "text/plain": [
       "Backtest.optimize:   0%|          | 0/9 [00:00<?, ?it/s]"
      ]
     },
     "metadata": {},
     "output_type": "display_data"
    },
    {
     "data": {
      "application/vnd.jupyter.widget-view+json": {
       "model_id": "d084654f9cc6407dbc30ef031a64d499",
       "version_major": 2,
       "version_minor": 0
      },
      "text/plain": [
       "Backtest.optimize:   0%|          | 0/9 [00:00<?, ?it/s]"
      ]
     },
     "metadata": {},
     "output_type": "display_data"
    },
    {
     "data": {
      "application/vnd.jupyter.widget-view+json": {
       "model_id": "a26afd2f5ef249908d12b707d641546b",
       "version_major": 2,
       "version_minor": 0
      },
      "text/plain": [
       "Backtest.optimize:   0%|          | 0/9 [00:00<?, ?it/s]"
      ]
     },
     "metadata": {},
     "output_type": "display_data"
    },
    {
     "data": {
      "application/vnd.jupyter.widget-view+json": {
       "model_id": "cef58cd4f3de4198985d6b3383d64bc2",
       "version_major": 2,
       "version_minor": 0
      },
      "text/plain": [
       "Backtest.optimize:   0%|          | 0/9 [00:00<?, ?it/s]"
      ]
     },
     "metadata": {},
     "output_type": "display_data"
    },
    {
     "data": {
      "application/vnd.jupyter.widget-view+json": {
       "model_id": "0762acc369b74441ad48232dc1a762be",
       "version_major": 2,
       "version_minor": 0
      },
      "text/plain": [
       "Backtest.optimize:   0%|          | 0/9 [00:00<?, ?it/s]"
      ]
     },
     "metadata": {},
     "output_type": "display_data"
    },
    {
     "data": {
      "application/vnd.jupyter.widget-view+json": {
       "model_id": "a957146461664eb68ff549b3fb6edaf5",
       "version_major": 2,
       "version_minor": 0
      },
      "text/plain": [
       "Backtest.optimize:   0%|          | 0/9 [00:00<?, ?it/s]"
      ]
     },
     "metadata": {},
     "output_type": "display_data"
    },
    {
     "name": "stderr",
     "output_type": "stream",
     "text": [
      " 15%|█▌        | 9/60 [17:53<1:36:47, 113.88s/it]"
     ]
    },
    {
     "name": "stdout",
     "output_type": "stream",
     "text": [
      "BTC-USD : best_params: None, best_performance: -inf\n",
      "BTC-USD : train_set: 2019-10-25 00:00:00 - 2020-05-11 00:00:00, test_set: 2020-05-12 00:00:00 - 2020-06-13 00:00:00\n"
     ]
    },
    {
     "data": {
      "application/vnd.jupyter.widget-view+json": {
       "model_id": "803cb6c30f564777b30c3fcdd1094976",
       "version_major": 2,
       "version_minor": 0
      },
      "text/plain": [
       "Backtest.optimize:   0%|          | 0/9 [00:00<?, ?it/s]"
      ]
     },
     "metadata": {},
     "output_type": "display_data"
    },
    {
     "data": {
      "application/vnd.jupyter.widget-view+json": {
       "model_id": "34ae0f4a421649f788a638deef74c087",
       "version_major": 2,
       "version_minor": 0
      },
      "text/plain": [
       "Backtest.optimize:   0%|          | 0/9 [00:00<?, ?it/s]"
      ]
     },
     "metadata": {},
     "output_type": "display_data"
    },
    {
     "data": {
      "application/vnd.jupyter.widget-view+json": {
       "model_id": "540b801d40ac483f9d9581f62778162a",
       "version_major": 2,
       "version_minor": 0
      },
      "text/plain": [
       "Backtest.optimize:   0%|          | 0/9 [00:00<?, ?it/s]"
      ]
     },
     "metadata": {},
     "output_type": "display_data"
    },
    {
     "data": {
      "application/vnd.jupyter.widget-view+json": {
       "model_id": "59eead0638f24c8f87bb3c2651b96dde",
       "version_major": 2,
       "version_minor": 0
      },
      "text/plain": [
       "Backtest.optimize:   0%|          | 0/9 [00:00<?, ?it/s]"
      ]
     },
     "metadata": {},
     "output_type": "display_data"
    },
    {
     "data": {
      "application/vnd.jupyter.widget-view+json": {
       "model_id": "9e3a9ec0d3524bed8134149e1dafb0fe",
       "version_major": 2,
       "version_minor": 0
      },
      "text/plain": [
       "Backtest.optimize:   0%|          | 0/9 [00:00<?, ?it/s]"
      ]
     },
     "metadata": {},
     "output_type": "display_data"
    },
    {
     "data": {
      "application/vnd.jupyter.widget-view+json": {
       "model_id": "ffa11714414a4f718bf9da63790b576a",
       "version_major": 2,
       "version_minor": 0
      },
      "text/plain": [
       "Backtest.optimize:   0%|          | 0/9 [00:00<?, ?it/s]"
      ]
     },
     "metadata": {},
     "output_type": "display_data"
    },
    {
     "data": {
      "application/vnd.jupyter.widget-view+json": {
       "model_id": "3f29bbac84934eb5ae829e26dae71794",
       "version_major": 2,
       "version_minor": 0
      },
      "text/plain": [
       "Backtest.optimize:   0%|          | 0/9 [00:00<?, ?it/s]"
      ]
     },
     "metadata": {},
     "output_type": "display_data"
    },
    {
     "data": {
      "application/vnd.jupyter.widget-view+json": {
       "model_id": "e2d3956a3ff4405bbd36680b14319f92",
       "version_major": 2,
       "version_minor": 0
      },
      "text/plain": [
       "Backtest.optimize:   0%|          | 0/9 [00:00<?, ?it/s]"
      ]
     },
     "metadata": {},
     "output_type": "display_data"
    },
    {
     "data": {
      "application/vnd.jupyter.widget-view+json": {
       "model_id": "20f1e6fe2d5b40ee9cda924a01e60e95",
       "version_major": 2,
       "version_minor": 0
      },
      "text/plain": [
       "Backtest.optimize:   0%|          | 0/9 [00:00<?, ?it/s]"
      ]
     },
     "metadata": {},
     "output_type": "display_data"
    },
    {
     "data": {
      "application/vnd.jupyter.widget-view+json": {
       "model_id": "115851fd3d2b4908962868e42cedc29d",
       "version_major": 2,
       "version_minor": 0
      },
      "text/plain": [
       "Backtest.optimize:   0%|          | 0/9 [00:00<?, ?it/s]"
      ]
     },
     "metadata": {},
     "output_type": "display_data"
    },
    {
     "data": {
      "application/vnd.jupyter.widget-view+json": {
       "model_id": "b77ee67797514fc2b32bf672b910e073",
       "version_major": 2,
       "version_minor": 0
      },
      "text/plain": [
       "Backtest.optimize:   0%|          | 0/9 [00:00<?, ?it/s]"
      ]
     },
     "metadata": {},
     "output_type": "display_data"
    },
    {
     "data": {
      "application/vnd.jupyter.widget-view+json": {
       "model_id": "83fb139e91b84318bedb170251ef7712",
       "version_major": 2,
       "version_minor": 0
      },
      "text/plain": [
       "Backtest.optimize:   0%|          | 0/9 [00:00<?, ?it/s]"
      ]
     },
     "metadata": {},
     "output_type": "display_data"
    },
    {
     "data": {
      "application/vnd.jupyter.widget-view+json": {
       "model_id": "9c68650586324895a05da9d4ffd72c32",
       "version_major": 2,
       "version_minor": 0
      },
      "text/plain": [
       "Backtest.optimize:   0%|          | 0/9 [00:00<?, ?it/s]"
      ]
     },
     "metadata": {},
     "output_type": "display_data"
    },
    {
     "data": {
      "application/vnd.jupyter.widget-view+json": {
       "model_id": "f3019a3e01de4c36b914b40c57404fd9",
       "version_major": 2,
       "version_minor": 0
      },
      "text/plain": [
       "Backtest.optimize:   0%|          | 0/9 [00:00<?, ?it/s]"
      ]
     },
     "metadata": {},
     "output_type": "display_data"
    },
    {
     "data": {
      "application/vnd.jupyter.widget-view+json": {
       "model_id": "ccf4d3a9fcaa4e8eae59f286336faa25",
       "version_major": 2,
       "version_minor": 0
      },
      "text/plain": [
       "Backtest.optimize:   0%|          | 0/9 [00:00<?, ?it/s]"
      ]
     },
     "metadata": {},
     "output_type": "display_data"
    },
    {
     "data": {
      "application/vnd.jupyter.widget-view+json": {
       "model_id": "b1f979026e914f2dbd94f4aa001c20f1",
       "version_major": 2,
       "version_minor": 0
      },
      "text/plain": [
       "Backtest.optimize:   0%|          | 0/9 [00:00<?, ?it/s]"
      ]
     },
     "metadata": {},
     "output_type": "display_data"
    },
    {
     "data": {
      "application/vnd.jupyter.widget-view+json": {
       "model_id": "cd3b1bfd7e6d46f09c8315476fa5a6d9",
       "version_major": 2,
       "version_minor": 0
      },
      "text/plain": [
       "Backtest.optimize:   0%|          | 0/9 [00:00<?, ?it/s]"
      ]
     },
     "metadata": {},
     "output_type": "display_data"
    },
    {
     "data": {
      "application/vnd.jupyter.widget-view+json": {
       "model_id": "9d51bbc7f22c4d469318efe4986b1e27",
       "version_major": 2,
       "version_minor": 0
      },
      "text/plain": [
       "Backtest.optimize:   0%|          | 0/9 [00:00<?, ?it/s]"
      ]
     },
     "metadata": {},
     "output_type": "display_data"
    },
    {
     "data": {
      "application/vnd.jupyter.widget-view+json": {
       "model_id": "7aa4760bd4aa4eac8326029efe9e1aa8",
       "version_major": 2,
       "version_minor": 0
      },
      "text/plain": [
       "Backtest.optimize:   0%|          | 0/9 [00:00<?, ?it/s]"
      ]
     },
     "metadata": {},
     "output_type": "display_data"
    },
    {
     "data": {
      "application/vnd.jupyter.widget-view+json": {
       "model_id": "4c6e78fd9a7e4bbc9118096db00785aa",
       "version_major": 2,
       "version_minor": 0
      },
      "text/plain": [
       "Backtest.optimize:   0%|          | 0/9 [00:00<?, ?it/s]"
      ]
     },
     "metadata": {},
     "output_type": "display_data"
    },
    {
     "data": {
      "application/vnd.jupyter.widget-view+json": {
       "model_id": "8500672dff1e401a9555999f23906cdf",
       "version_major": 2,
       "version_minor": 0
      },
      "text/plain": [
       "Backtest.optimize:   0%|          | 0/9 [00:00<?, ?it/s]"
      ]
     },
     "metadata": {},
     "output_type": "display_data"
    },
    {
     "data": {
      "application/vnd.jupyter.widget-view+json": {
       "model_id": "d182efe8863a4d39a971740f4df3a02d",
       "version_major": 2,
       "version_minor": 0
      },
      "text/plain": [
       "Backtest.optimize:   0%|          | 0/9 [00:00<?, ?it/s]"
      ]
     },
     "metadata": {},
     "output_type": "display_data"
    },
    {
     "data": {
      "application/vnd.jupyter.widget-view+json": {
       "model_id": "c873d708282e44d2a67c8f81ac81fbbe",
       "version_major": 2,
       "version_minor": 0
      },
      "text/plain": [
       "Backtest.optimize:   0%|          | 0/9 [00:00<?, ?it/s]"
      ]
     },
     "metadata": {},
     "output_type": "display_data"
    },
    {
     "data": {
      "application/vnd.jupyter.widget-view+json": {
       "model_id": "851025bf43594a70b62207a8b33a811f",
       "version_major": 2,
       "version_minor": 0
      },
      "text/plain": [
       "Backtest.optimize:   0%|          | 0/9 [00:00<?, ?it/s]"
      ]
     },
     "metadata": {},
     "output_type": "display_data"
    },
    {
     "data": {
      "application/vnd.jupyter.widget-view+json": {
       "model_id": "2a60fce7a844483ca8bd1faa91d1ad7c",
       "version_major": 2,
       "version_minor": 0
      },
      "text/plain": [
       "Backtest.optimize:   0%|          | 0/9 [00:00<?, ?it/s]"
      ]
     },
     "metadata": {},
     "output_type": "display_data"
    },
    {
     "data": {
      "application/vnd.jupyter.widget-view+json": {
       "model_id": "0d632bdb25894b79b9a138bf775e146a",
       "version_major": 2,
       "version_minor": 0
      },
      "text/plain": [
       "Backtest.optimize:   0%|          | 0/9 [00:00<?, ?it/s]"
      ]
     },
     "metadata": {},
     "output_type": "display_data"
    },
    {
     "data": {
      "application/vnd.jupyter.widget-view+json": {
       "model_id": "4a19b32aed95456abfaf295bcbeec7e0",
       "version_major": 2,
       "version_minor": 0
      },
      "text/plain": [
       "Backtest.optimize:   0%|          | 0/9 [00:00<?, ?it/s]"
      ]
     },
     "metadata": {},
     "output_type": "display_data"
    },
    {
     "data": {
      "application/vnd.jupyter.widget-view+json": {
       "model_id": "3fc66130fde2444985de1c6ffdb70b9d",
       "version_major": 2,
       "version_minor": 0
      },
      "text/plain": [
       "Backtest.optimize:   0%|          | 0/9 [00:00<?, ?it/s]"
      ]
     },
     "metadata": {},
     "output_type": "display_data"
    },
    {
     "data": {
      "application/vnd.jupyter.widget-view+json": {
       "model_id": "3defb06baea94e5ea4077a52e6c49ba8",
       "version_major": 2,
       "version_minor": 0
      },
      "text/plain": [
       "Backtest.optimize:   0%|          | 0/9 [00:00<?, ?it/s]"
      ]
     },
     "metadata": {},
     "output_type": "display_data"
    },
    {
     "data": {
      "application/vnd.jupyter.widget-view+json": {
       "model_id": "26531e71ced74211a65de74ea030cf7b",
       "version_major": 2,
       "version_minor": 0
      },
      "text/plain": [
       "Backtest.optimize:   0%|          | 0/9 [00:00<?, ?it/s]"
      ]
     },
     "metadata": {},
     "output_type": "display_data"
    },
    {
     "data": {
      "application/vnd.jupyter.widget-view+json": {
       "model_id": "7869ff81f1504e07886ae414749dfaef",
       "version_major": 2,
       "version_minor": 0
      },
      "text/plain": [
       "Backtest.optimize:   0%|          | 0/9 [00:00<?, ?it/s]"
      ]
     },
     "metadata": {},
     "output_type": "display_data"
    },
    {
     "data": {
      "application/vnd.jupyter.widget-view+json": {
       "model_id": "e38f926ff4464dc1bb9d3f98f5877b6c",
       "version_major": 2,
       "version_minor": 0
      },
      "text/plain": [
       "Backtest.optimize:   0%|          | 0/9 [00:00<?, ?it/s]"
      ]
     },
     "metadata": {},
     "output_type": "display_data"
    },
    {
     "data": {
      "application/vnd.jupyter.widget-view+json": {
       "model_id": "5a166efba0ec48a2a794581cfc1132c9",
       "version_major": 2,
       "version_minor": 0
      },
      "text/plain": [
       "Backtest.optimize:   0%|          | 0/9 [00:00<?, ?it/s]"
      ]
     },
     "metadata": {},
     "output_type": "display_data"
    },
    {
     "data": {
      "application/vnd.jupyter.widget-view+json": {
       "model_id": "7006d778c10c4577ad3617fb6ba3098b",
       "version_major": 2,
       "version_minor": 0
      },
      "text/plain": [
       "Backtest.optimize:   0%|          | 0/9 [00:00<?, ?it/s]"
      ]
     },
     "metadata": {},
     "output_type": "display_data"
    },
    {
     "data": {
      "application/vnd.jupyter.widget-view+json": {
       "model_id": "8cd1dbb68db8426c8a16c489ef5920e0",
       "version_major": 2,
       "version_minor": 0
      },
      "text/plain": [
       "Backtest.optimize:   0%|          | 0/9 [00:00<?, ?it/s]"
      ]
     },
     "metadata": {},
     "output_type": "display_data"
    },
    {
     "data": {
      "application/vnd.jupyter.widget-view+json": {
       "model_id": "d8f3f646deee4d28aa71ba73b09b3dc0",
       "version_major": 2,
       "version_minor": 0
      },
      "text/plain": [
       "Backtest.optimize:   0%|          | 0/9 [00:00<?, ?it/s]"
      ]
     },
     "metadata": {},
     "output_type": "display_data"
    },
    {
     "data": {
      "application/vnd.jupyter.widget-view+json": {
       "model_id": "70e3d9ccf044424d89af253d5e8f7e41",
       "version_major": 2,
       "version_minor": 0
      },
      "text/plain": [
       "Backtest.optimize:   0%|          | 0/9 [00:00<?, ?it/s]"
      ]
     },
     "metadata": {},
     "output_type": "display_data"
    },
    {
     "data": {
      "application/vnd.jupyter.widget-view+json": {
       "model_id": "4f0ab62a473a48f6825a727a11073a4c",
       "version_major": 2,
       "version_minor": 0
      },
      "text/plain": [
       "Backtest.optimize:   0%|          | 0/9 [00:00<?, ?it/s]"
      ]
     },
     "metadata": {},
     "output_type": "display_data"
    },
    {
     "data": {
      "application/vnd.jupyter.widget-view+json": {
       "model_id": "7cb48c22702a497992ccb418e31a080e",
       "version_major": 2,
       "version_minor": 0
      },
      "text/plain": [
       "Backtest.optimize:   0%|          | 0/9 [00:00<?, ?it/s]"
      ]
     },
     "metadata": {},
     "output_type": "display_data"
    },
    {
     "data": {
      "application/vnd.jupyter.widget-view+json": {
       "model_id": "4fc0b40c35514b76b401c08a67a25dd2",
       "version_major": 2,
       "version_minor": 0
      },
      "text/plain": [
       "Backtest.optimize:   0%|          | 0/9 [00:00<?, ?it/s]"
      ]
     },
     "metadata": {},
     "output_type": "display_data"
    },
    {
     "data": {
      "application/vnd.jupyter.widget-view+json": {
       "model_id": "bf588dc920024872b71345ca84d246c9",
       "version_major": 2,
       "version_minor": 0
      },
      "text/plain": [
       "Backtest.optimize:   0%|          | 0/9 [00:00<?, ?it/s]"
      ]
     },
     "metadata": {},
     "output_type": "display_data"
    },
    {
     "data": {
      "application/vnd.jupyter.widget-view+json": {
       "model_id": "dc4a208690c14c179ed6d52b94fbdfd0",
       "version_major": 2,
       "version_minor": 0
      },
      "text/plain": [
       "Backtest.optimize:   0%|          | 0/9 [00:00<?, ?it/s]"
      ]
     },
     "metadata": {},
     "output_type": "display_data"
    },
    {
     "data": {
      "application/vnd.jupyter.widget-view+json": {
       "model_id": "597cd0a290884fb892bcc2203d9c40fb",
       "version_major": 2,
       "version_minor": 0
      },
      "text/plain": [
       "Backtest.optimize:   0%|          | 0/9 [00:00<?, ?it/s]"
      ]
     },
     "metadata": {},
     "output_type": "display_data"
    },
    {
     "data": {
      "application/vnd.jupyter.widget-view+json": {
       "model_id": "96ede24be93c402297a7aaa51cabeabf",
       "version_major": 2,
       "version_minor": 0
      },
      "text/plain": [
       "Backtest.optimize:   0%|          | 0/9 [00:00<?, ?it/s]"
      ]
     },
     "metadata": {},
     "output_type": "display_data"
    },
    {
     "data": {
      "application/vnd.jupyter.widget-view+json": {
       "model_id": "018f180c9d3d4b5c8e45693e6b617eea",
       "version_major": 2,
       "version_minor": 0
      },
      "text/plain": [
       "Backtest.optimize:   0%|          | 0/9 [00:00<?, ?it/s]"
      ]
     },
     "metadata": {},
     "output_type": "display_data"
    },
    {
     "data": {
      "application/vnd.jupyter.widget-view+json": {
       "model_id": "a908a12330b649b396338096f9f2899c",
       "version_major": 2,
       "version_minor": 0
      },
      "text/plain": [
       "Backtest.optimize:   0%|          | 0/9 [00:00<?, ?it/s]"
      ]
     },
     "metadata": {},
     "output_type": "display_data"
    },
    {
     "data": {
      "application/vnd.jupyter.widget-view+json": {
       "model_id": "f2cb12cbe7f84a828d8432209f1f48ff",
       "version_major": 2,
       "version_minor": 0
      },
      "text/plain": [
       "Backtest.optimize:   0%|          | 0/9 [00:00<?, ?it/s]"
      ]
     },
     "metadata": {},
     "output_type": "display_data"
    },
    {
     "data": {
      "application/vnd.jupyter.widget-view+json": {
       "model_id": "411c6844942d490c98eb57fb4d1f088a",
       "version_major": 2,
       "version_minor": 0
      },
      "text/plain": [
       "Backtest.optimize:   0%|          | 0/9 [00:00<?, ?it/s]"
      ]
     },
     "metadata": {},
     "output_type": "display_data"
    },
    {
     "data": {
      "application/vnd.jupyter.widget-view+json": {
       "model_id": "93eb19bf8ab346d99a9c7bf921e4f2c7",
       "version_major": 2,
       "version_minor": 0
      },
      "text/plain": [
       "Backtest.optimize:   0%|          | 0/9 [00:00<?, ?it/s]"
      ]
     },
     "metadata": {},
     "output_type": "display_data"
    },
    {
     "data": {
      "application/vnd.jupyter.widget-view+json": {
       "model_id": "5b2fbcb3cbd04e01ae5f9fc6f96d87e7",
       "version_major": 2,
       "version_minor": 0
      },
      "text/plain": [
       "Backtest.optimize:   0%|          | 0/9 [00:00<?, ?it/s]"
      ]
     },
     "metadata": {},
     "output_type": "display_data"
    },
    {
     "data": {
      "application/vnd.jupyter.widget-view+json": {
       "model_id": "e3f458633de84204a5872903bf20e28c",
       "version_major": 2,
       "version_minor": 0
      },
      "text/plain": [
       "Backtest.optimize:   0%|          | 0/9 [00:00<?, ?it/s]"
      ]
     },
     "metadata": {},
     "output_type": "display_data"
    },
    {
     "data": {
      "application/vnd.jupyter.widget-view+json": {
       "model_id": "10c230a90579494990b0ed4d61e81c30",
       "version_major": 2,
       "version_minor": 0
      },
      "text/plain": [
       "Backtest.optimize:   0%|          | 0/9 [00:00<?, ?it/s]"
      ]
     },
     "metadata": {},
     "output_type": "display_data"
    },
    {
     "data": {
      "application/vnd.jupyter.widget-view+json": {
       "model_id": "e3cac1ede5534aebace3f000585eb616",
       "version_major": 2,
       "version_minor": 0
      },
      "text/plain": [
       "Backtest.optimize:   0%|          | 0/9 [00:00<?, ?it/s]"
      ]
     },
     "metadata": {},
     "output_type": "display_data"
    },
    {
     "data": {
      "application/vnd.jupyter.widget-view+json": {
       "model_id": "a7d2c52b59fc4a6bbc8bf5556374aef6",
       "version_major": 2,
       "version_minor": 0
      },
      "text/plain": [
       "Backtest.optimize:   0%|          | 0/9 [00:00<?, ?it/s]"
      ]
     },
     "metadata": {},
     "output_type": "display_data"
    },
    {
     "data": {
      "application/vnd.jupyter.widget-view+json": {
       "model_id": "32e41e8546604f8ea85bf0cc3b9fde09",
       "version_major": 2,
       "version_minor": 0
      },
      "text/plain": [
       "Backtest.optimize:   0%|          | 0/9 [00:00<?, ?it/s]"
      ]
     },
     "metadata": {},
     "output_type": "display_data"
    },
    {
     "data": {
      "application/vnd.jupyter.widget-view+json": {
       "model_id": "06d550d4628f4363a2e579586aa35125",
       "version_major": 2,
       "version_minor": 0
      },
      "text/plain": [
       "Backtest.optimize:   0%|          | 0/9 [00:00<?, ?it/s]"
      ]
     },
     "metadata": {},
     "output_type": "display_data"
    },
    {
     "data": {
      "application/vnd.jupyter.widget-view+json": {
       "model_id": "e5a4c9b3addb4c82bb8359b4022a6238",
       "version_major": 2,
       "version_minor": 0
      },
      "text/plain": [
       "Backtest.optimize:   0%|          | 0/9 [00:00<?, ?it/s]"
      ]
     },
     "metadata": {},
     "output_type": "display_data"
    },
    {
     "data": {
      "application/vnd.jupyter.widget-view+json": {
       "model_id": "fe296355647a417f9236d48e4f944098",
       "version_major": 2,
       "version_minor": 0
      },
      "text/plain": [
       "Backtest.optimize:   0%|          | 0/9 [00:00<?, ?it/s]"
      ]
     },
     "metadata": {},
     "output_type": "display_data"
    },
    {
     "data": {
      "application/vnd.jupyter.widget-view+json": {
       "model_id": "d1db606fc77d49e1b2ee4ea863f68b55",
       "version_major": 2,
       "version_minor": 0
      },
      "text/plain": [
       "Backtest.optimize:   0%|          | 0/9 [00:00<?, ?it/s]"
      ]
     },
     "metadata": {},
     "output_type": "display_data"
    },
    {
     "data": {
      "application/vnd.jupyter.widget-view+json": {
       "model_id": "31cc053c90cd4f389ed7ab5c5dec6514",
       "version_major": 2,
       "version_minor": 0
      },
      "text/plain": [
       "Backtest.optimize:   0%|          | 0/9 [00:00<?, ?it/s]"
      ]
     },
     "metadata": {},
     "output_type": "display_data"
    },
    {
     "data": {
      "application/vnd.jupyter.widget-view+json": {
       "model_id": "b4ac37255c284741b11cfacbe9c5bace",
       "version_major": 2,
       "version_minor": 0
      },
      "text/plain": [
       "Backtest.optimize:   0%|          | 0/9 [00:00<?, ?it/s]"
      ]
     },
     "metadata": {},
     "output_type": "display_data"
    },
    {
     "data": {
      "application/vnd.jupyter.widget-view+json": {
       "model_id": "5c24305575c345f799a3bbe264befa3c",
       "version_major": 2,
       "version_minor": 0
      },
      "text/plain": [
       "Backtest.optimize:   0%|          | 0/9 [00:00<?, ?it/s]"
      ]
     },
     "metadata": {},
     "output_type": "display_data"
    },
    {
     "data": {
      "application/vnd.jupyter.widget-view+json": {
       "model_id": "e12257e113234e6a95ed4dfb2274ef5c",
       "version_major": 2,
       "version_minor": 0
      },
      "text/plain": [
       "Backtest.optimize:   0%|          | 0/9 [00:00<?, ?it/s]"
      ]
     },
     "metadata": {},
     "output_type": "display_data"
    },
    {
     "data": {
      "application/vnd.jupyter.widget-view+json": {
       "model_id": "2d1523df62e340a2ae518fefdbc75e2f",
       "version_major": 2,
       "version_minor": 0
      },
      "text/plain": [
       "Backtest.optimize:   0%|          | 0/9 [00:00<?, ?it/s]"
      ]
     },
     "metadata": {},
     "output_type": "display_data"
    },
    {
     "data": {
      "application/vnd.jupyter.widget-view+json": {
       "model_id": "6f3b3ef032bd41728fb159c5807b1a81",
       "version_major": 2,
       "version_minor": 0
      },
      "text/plain": [
       "Backtest.optimize:   0%|          | 0/9 [00:00<?, ?it/s]"
      ]
     },
     "metadata": {},
     "output_type": "display_data"
    },
    {
     "data": {
      "application/vnd.jupyter.widget-view+json": {
       "model_id": "79078b06d7384cb8be7211c5ee770914",
       "version_major": 2,
       "version_minor": 0
      },
      "text/plain": [
       "Backtest.optimize:   0%|          | 0/9 [00:00<?, ?it/s]"
      ]
     },
     "metadata": {},
     "output_type": "display_data"
    },
    {
     "data": {
      "application/vnd.jupyter.widget-view+json": {
       "model_id": "8a25151e3edd438088eea87403148581",
       "version_major": 2,
       "version_minor": 0
      },
      "text/plain": [
       "Backtest.optimize:   0%|          | 0/9 [00:00<?, ?it/s]"
      ]
     },
     "metadata": {},
     "output_type": "display_data"
    },
    {
     "data": {
      "application/vnd.jupyter.widget-view+json": {
       "model_id": "b1f8c5cae19a46c882b027725bb6adb6",
       "version_major": 2,
       "version_minor": 0
      },
      "text/plain": [
       "Backtest.optimize:   0%|          | 0/9 [00:00<?, ?it/s]"
      ]
     },
     "metadata": {},
     "output_type": "display_data"
    },
    {
     "data": {
      "application/vnd.jupyter.widget-view+json": {
       "model_id": "b75f321de5e54a23bba17be130bbc515",
       "version_major": 2,
       "version_minor": 0
      },
      "text/plain": [
       "Backtest.optimize:   0%|          | 0/9 [00:00<?, ?it/s]"
      ]
     },
     "metadata": {},
     "output_type": "display_data"
    },
    {
     "data": {
      "application/vnd.jupyter.widget-view+json": {
       "model_id": "7c5897d54a4646119f319a4b42b484d6",
       "version_major": 2,
       "version_minor": 0
      },
      "text/plain": [
       "Backtest.optimize:   0%|          | 0/9 [00:00<?, ?it/s]"
      ]
     },
     "metadata": {},
     "output_type": "display_data"
    },
    {
     "data": {
      "application/vnd.jupyter.widget-view+json": {
       "model_id": "85fb824ba69f41559f10bf68685a2fdc",
       "version_major": 2,
       "version_minor": 0
      },
      "text/plain": [
       "Backtest.optimize:   0%|          | 0/9 [00:00<?, ?it/s]"
      ]
     },
     "metadata": {},
     "output_type": "display_data"
    },
    {
     "data": {
      "application/vnd.jupyter.widget-view+json": {
       "model_id": "c745d0575d4d4755966cd2a7cd20c327",
       "version_major": 2,
       "version_minor": 0
      },
      "text/plain": [
       "Backtest.optimize:   0%|          | 0/9 [00:00<?, ?it/s]"
      ]
     },
     "metadata": {},
     "output_type": "display_data"
    },
    {
     "data": {
      "application/vnd.jupyter.widget-view+json": {
       "model_id": "7a896e6958784474b0aa52650bb2a5f1",
       "version_major": 2,
       "version_minor": 0
      },
      "text/plain": [
       "Backtest.optimize:   0%|          | 0/9 [00:00<?, ?it/s]"
      ]
     },
     "metadata": {},
     "output_type": "display_data"
    },
    {
     "data": {
      "application/vnd.jupyter.widget-view+json": {
       "model_id": "56ee596cc3ca4e0898b072befaf4104b",
       "version_major": 2,
       "version_minor": 0
      },
      "text/plain": [
       "Backtest.optimize:   0%|          | 0/9 [00:00<?, ?it/s]"
      ]
     },
     "metadata": {},
     "output_type": "display_data"
    },
    {
     "data": {
      "application/vnd.jupyter.widget-view+json": {
       "model_id": "62fed7661fbb45a09ffc5b6e69ec7d85",
       "version_major": 2,
       "version_minor": 0
      },
      "text/plain": [
       "Backtest.optimize:   0%|          | 0/9 [00:00<?, ?it/s]"
      ]
     },
     "metadata": {},
     "output_type": "display_data"
    },
    {
     "data": {
      "application/vnd.jupyter.widget-view+json": {
       "model_id": "17d8f403fc1f439784e5467502f2bb5a",
       "version_major": 2,
       "version_minor": 0
      },
      "text/plain": [
       "Backtest.optimize:   0%|          | 0/9 [00:00<?, ?it/s]"
      ]
     },
     "metadata": {},
     "output_type": "display_data"
    },
    {
     "data": {
      "application/vnd.jupyter.widget-view+json": {
       "model_id": "a5ac0f53000e44639df0b95f8066df56",
       "version_major": 2,
       "version_minor": 0
      },
      "text/plain": [
       "Backtest.optimize:   0%|          | 0/9 [00:00<?, ?it/s]"
      ]
     },
     "metadata": {},
     "output_type": "display_data"
    },
    {
     "data": {
      "application/vnd.jupyter.widget-view+json": {
       "model_id": "6d89bc1bc24f4fcb9da7446711dbced0",
       "version_major": 2,
       "version_minor": 0
      },
      "text/plain": [
       "Backtest.optimize:   0%|          | 0/9 [00:00<?, ?it/s]"
      ]
     },
     "metadata": {},
     "output_type": "display_data"
    },
    {
     "data": {
      "application/vnd.jupyter.widget-view+json": {
       "model_id": "a3d9996e607b44fcb1717ce5b8cd697c",
       "version_major": 2,
       "version_minor": 0
      },
      "text/plain": [
       "Backtest.optimize:   0%|          | 0/9 [00:00<?, ?it/s]"
      ]
     },
     "metadata": {},
     "output_type": "display_data"
    },
    {
     "data": {
      "application/vnd.jupyter.widget-view+json": {
       "model_id": "959cb2527a384beea8382a83cbb0601f",
       "version_major": 2,
       "version_minor": 0
      },
      "text/plain": [
       "Backtest.optimize:   0%|          | 0/9 [00:00<?, ?it/s]"
      ]
     },
     "metadata": {},
     "output_type": "display_data"
    },
    {
     "data": {
      "application/vnd.jupyter.widget-view+json": {
       "model_id": "0fff8d497c2942d2942c9c42cd792298",
       "version_major": 2,
       "version_minor": 0
      },
      "text/plain": [
       "Backtest.optimize:   0%|          | 0/9 [00:00<?, ?it/s]"
      ]
     },
     "metadata": {},
     "output_type": "display_data"
    },
    {
     "name": "stderr",
     "output_type": "stream",
     "text": [
      " 17%|█▋        | 10/60 [19:44<1:34:18, 113.17s/it]"
     ]
    },
    {
     "name": "stdout",
     "output_type": "stream",
     "text": [
      "BTC-USD : best_params: None, best_performance: -inf\n",
      "BTC-USD : train_set: 2019-11-27 00:00:00 - 2020-06-13 00:00:00, test_set: 2020-06-14 00:00:00 - 2020-07-16 00:00:00\n"
     ]
    },
    {
     "data": {
      "application/vnd.jupyter.widget-view+json": {
       "model_id": "d5411cb532d74ea7a9b276ceb1a2a384",
       "version_major": 2,
       "version_minor": 0
      },
      "text/plain": [
       "Backtest.optimize:   0%|          | 0/9 [00:00<?, ?it/s]"
      ]
     },
     "metadata": {},
     "output_type": "display_data"
    },
    {
     "data": {
      "application/vnd.jupyter.widget-view+json": {
       "model_id": "e90d163c641c4ec4bfc58f89cd38351c",
       "version_major": 2,
       "version_minor": 0
      },
      "text/plain": [
       "Backtest.optimize:   0%|          | 0/9 [00:00<?, ?it/s]"
      ]
     },
     "metadata": {},
     "output_type": "display_data"
    },
    {
     "data": {
      "application/vnd.jupyter.widget-view+json": {
       "model_id": "0b9d0a8be5394aa4a5e5acfcab08d7f6",
       "version_major": 2,
       "version_minor": 0
      },
      "text/plain": [
       "Backtest.optimize:   0%|          | 0/9 [00:00<?, ?it/s]"
      ]
     },
     "metadata": {},
     "output_type": "display_data"
    },
    {
     "data": {
      "application/vnd.jupyter.widget-view+json": {
       "model_id": "717a3d89343e4647ae674a80292b773c",
       "version_major": 2,
       "version_minor": 0
      },
      "text/plain": [
       "Backtest.optimize:   0%|          | 0/9 [00:00<?, ?it/s]"
      ]
     },
     "metadata": {},
     "output_type": "display_data"
    },
    {
     "data": {
      "application/vnd.jupyter.widget-view+json": {
       "model_id": "53a2bac42dc64058aab5a99a82ce312c",
       "version_major": 2,
       "version_minor": 0
      },
      "text/plain": [
       "Backtest.optimize:   0%|          | 0/9 [00:00<?, ?it/s]"
      ]
     },
     "metadata": {},
     "output_type": "display_data"
    },
    {
     "data": {
      "application/vnd.jupyter.widget-view+json": {
       "model_id": "f93ebe60adef47a98357dc25b5ab5542",
       "version_major": 2,
       "version_minor": 0
      },
      "text/plain": [
       "Backtest.optimize:   0%|          | 0/9 [00:00<?, ?it/s]"
      ]
     },
     "metadata": {},
     "output_type": "display_data"
    },
    {
     "data": {
      "application/vnd.jupyter.widget-view+json": {
       "model_id": "26d2f8e8739143ed8c44c246e21b92f3",
       "version_major": 2,
       "version_minor": 0
      },
      "text/plain": [
       "Backtest.optimize:   0%|          | 0/9 [00:00<?, ?it/s]"
      ]
     },
     "metadata": {},
     "output_type": "display_data"
    },
    {
     "data": {
      "application/vnd.jupyter.widget-view+json": {
       "model_id": "cde8e7f6f68b4596bf67c5f6616391bb",
       "version_major": 2,
       "version_minor": 0
      },
      "text/plain": [
       "Backtest.optimize:   0%|          | 0/9 [00:00<?, ?it/s]"
      ]
     },
     "metadata": {},
     "output_type": "display_data"
    },
    {
     "data": {
      "application/vnd.jupyter.widget-view+json": {
       "model_id": "62503ae8fc7e4b69ab5827a577c5889b",
       "version_major": 2,
       "version_minor": 0
      },
      "text/plain": [
       "Backtest.optimize:   0%|          | 0/9 [00:00<?, ?it/s]"
      ]
     },
     "metadata": {},
     "output_type": "display_data"
    },
    {
     "data": {
      "application/vnd.jupyter.widget-view+json": {
       "model_id": "e3c86d1cc0ad4b2aad463e19acc484d9",
       "version_major": 2,
       "version_minor": 0
      },
      "text/plain": [
       "Backtest.optimize:   0%|          | 0/9 [00:00<?, ?it/s]"
      ]
     },
     "metadata": {},
     "output_type": "display_data"
    },
    {
     "data": {
      "application/vnd.jupyter.widget-view+json": {
       "model_id": "e541f17a0e844794a06624fc351f1d86",
       "version_major": 2,
       "version_minor": 0
      },
      "text/plain": [
       "Backtest.optimize:   0%|          | 0/9 [00:00<?, ?it/s]"
      ]
     },
     "metadata": {},
     "output_type": "display_data"
    },
    {
     "data": {
      "application/vnd.jupyter.widget-view+json": {
       "model_id": "0bf3892127a34aceaa8e9f5cf6674041",
       "version_major": 2,
       "version_minor": 0
      },
      "text/plain": [
       "Backtest.optimize:   0%|          | 0/9 [00:00<?, ?it/s]"
      ]
     },
     "metadata": {},
     "output_type": "display_data"
    },
    {
     "data": {
      "application/vnd.jupyter.widget-view+json": {
       "model_id": "8bc5d38bd16340dd9a8d971a63c990f4",
       "version_major": 2,
       "version_minor": 0
      },
      "text/plain": [
       "Backtest.optimize:   0%|          | 0/9 [00:00<?, ?it/s]"
      ]
     },
     "metadata": {},
     "output_type": "display_data"
    },
    {
     "data": {
      "application/vnd.jupyter.widget-view+json": {
       "model_id": "cbd138e8d81b4ed79481d8740b0f72ac",
       "version_major": 2,
       "version_minor": 0
      },
      "text/plain": [
       "Backtest.optimize:   0%|          | 0/9 [00:00<?, ?it/s]"
      ]
     },
     "metadata": {},
     "output_type": "display_data"
    },
    {
     "data": {
      "application/vnd.jupyter.widget-view+json": {
       "model_id": "e309195b1341439aa2b50e5401da4760",
       "version_major": 2,
       "version_minor": 0
      },
      "text/plain": [
       "Backtest.optimize:   0%|          | 0/9 [00:00<?, ?it/s]"
      ]
     },
     "metadata": {},
     "output_type": "display_data"
    },
    {
     "data": {
      "application/vnd.jupyter.widget-view+json": {
       "model_id": "d405f571001c49f890836c3ffb1334a3",
       "version_major": 2,
       "version_minor": 0
      },
      "text/plain": [
       "Backtest.optimize:   0%|          | 0/9 [00:00<?, ?it/s]"
      ]
     },
     "metadata": {},
     "output_type": "display_data"
    },
    {
     "data": {
      "application/vnd.jupyter.widget-view+json": {
       "model_id": "3200b2b60c634c858cb9be4ada1d1d20",
       "version_major": 2,
       "version_minor": 0
      },
      "text/plain": [
       "Backtest.optimize:   0%|          | 0/9 [00:00<?, ?it/s]"
      ]
     },
     "metadata": {},
     "output_type": "display_data"
    },
    {
     "data": {
      "application/vnd.jupyter.widget-view+json": {
       "model_id": "2f2a2f34eada4121a1776a16ac4f1836",
       "version_major": 2,
       "version_minor": 0
      },
      "text/plain": [
       "Backtest.optimize:   0%|          | 0/9 [00:00<?, ?it/s]"
      ]
     },
     "metadata": {},
     "output_type": "display_data"
    },
    {
     "data": {
      "application/vnd.jupyter.widget-view+json": {
       "model_id": "25a12a3050f8440d908d16525a4eff32",
       "version_major": 2,
       "version_minor": 0
      },
      "text/plain": [
       "Backtest.optimize:   0%|          | 0/9 [00:00<?, ?it/s]"
      ]
     },
     "metadata": {},
     "output_type": "display_data"
    },
    {
     "data": {
      "application/vnd.jupyter.widget-view+json": {
       "model_id": "08118e573e614e5d91081585169bb03e",
       "version_major": 2,
       "version_minor": 0
      },
      "text/plain": [
       "Backtest.optimize:   0%|          | 0/9 [00:00<?, ?it/s]"
      ]
     },
     "metadata": {},
     "output_type": "display_data"
    },
    {
     "data": {
      "application/vnd.jupyter.widget-view+json": {
       "model_id": "55b43d65ca484227a3528e1351edc3c3",
       "version_major": 2,
       "version_minor": 0
      },
      "text/plain": [
       "Backtest.optimize:   0%|          | 0/9 [00:00<?, ?it/s]"
      ]
     },
     "metadata": {},
     "output_type": "display_data"
    },
    {
     "data": {
      "application/vnd.jupyter.widget-view+json": {
       "model_id": "37205ce491a84f99a696f00184cf1274",
       "version_major": 2,
       "version_minor": 0
      },
      "text/plain": [
       "Backtest.optimize:   0%|          | 0/9 [00:00<?, ?it/s]"
      ]
     },
     "metadata": {},
     "output_type": "display_data"
    },
    {
     "data": {
      "application/vnd.jupyter.widget-view+json": {
       "model_id": "4bf2782576b5455d89ca8702e53b55a4",
       "version_major": 2,
       "version_minor": 0
      },
      "text/plain": [
       "Backtest.optimize:   0%|          | 0/9 [00:00<?, ?it/s]"
      ]
     },
     "metadata": {},
     "output_type": "display_data"
    },
    {
     "data": {
      "application/vnd.jupyter.widget-view+json": {
       "model_id": "851edff5c81543eeb528d323ff9c9707",
       "version_major": 2,
       "version_minor": 0
      },
      "text/plain": [
       "Backtest.optimize:   0%|          | 0/9 [00:00<?, ?it/s]"
      ]
     },
     "metadata": {},
     "output_type": "display_data"
    },
    {
     "data": {
      "application/vnd.jupyter.widget-view+json": {
       "model_id": "0d5d0383929144fc8df839cd706ed329",
       "version_major": 2,
       "version_minor": 0
      },
      "text/plain": [
       "Backtest.optimize:   0%|          | 0/9 [00:00<?, ?it/s]"
      ]
     },
     "metadata": {},
     "output_type": "display_data"
    },
    {
     "data": {
      "application/vnd.jupyter.widget-view+json": {
       "model_id": "bd4aad37f6734f47bf369ffa0886d286",
       "version_major": 2,
       "version_minor": 0
      },
      "text/plain": [
       "Backtest.optimize:   0%|          | 0/9 [00:00<?, ?it/s]"
      ]
     },
     "metadata": {},
     "output_type": "display_data"
    },
    {
     "data": {
      "application/vnd.jupyter.widget-view+json": {
       "model_id": "479be938586b4f1eb7f2730be8526e1d",
       "version_major": 2,
       "version_minor": 0
      },
      "text/plain": [
       "Backtest.optimize:   0%|          | 0/9 [00:00<?, ?it/s]"
      ]
     },
     "metadata": {},
     "output_type": "display_data"
    },
    {
     "data": {
      "application/vnd.jupyter.widget-view+json": {
       "model_id": "9bc5407391354ac99ee88c58c79f1794",
       "version_major": 2,
       "version_minor": 0
      },
      "text/plain": [
       "Backtest.optimize:   0%|          | 0/9 [00:00<?, ?it/s]"
      ]
     },
     "metadata": {},
     "output_type": "display_data"
    },
    {
     "data": {
      "application/vnd.jupyter.widget-view+json": {
       "model_id": "9c9a7652bce747b4ae4411cf1741941e",
       "version_major": 2,
       "version_minor": 0
      },
      "text/plain": [
       "Backtest.optimize:   0%|          | 0/9 [00:00<?, ?it/s]"
      ]
     },
     "metadata": {},
     "output_type": "display_data"
    },
    {
     "data": {
      "application/vnd.jupyter.widget-view+json": {
       "model_id": "41a1dc9143644d0680f62c358f89d303",
       "version_major": 2,
       "version_minor": 0
      },
      "text/plain": [
       "Backtest.optimize:   0%|          | 0/9 [00:00<?, ?it/s]"
      ]
     },
     "metadata": {},
     "output_type": "display_data"
    },
    {
     "data": {
      "application/vnd.jupyter.widget-view+json": {
       "model_id": "6576ca23b80042efafbfd0ba2b370eb1",
       "version_major": 2,
       "version_minor": 0
      },
      "text/plain": [
       "Backtest.optimize:   0%|          | 0/9 [00:00<?, ?it/s]"
      ]
     },
     "metadata": {},
     "output_type": "display_data"
    },
    {
     "data": {
      "application/vnd.jupyter.widget-view+json": {
       "model_id": "8b59c75376f74f0e8b52c1da9c0c2207",
       "version_major": 2,
       "version_minor": 0
      },
      "text/plain": [
       "Backtest.optimize:   0%|          | 0/9 [00:00<?, ?it/s]"
      ]
     },
     "metadata": {},
     "output_type": "display_data"
    },
    {
     "data": {
      "application/vnd.jupyter.widget-view+json": {
       "model_id": "cedda97b1c534f5b9c5fcf3d268859cb",
       "version_major": 2,
       "version_minor": 0
      },
      "text/plain": [
       "Backtest.optimize:   0%|          | 0/9 [00:00<?, ?it/s]"
      ]
     },
     "metadata": {},
     "output_type": "display_data"
    },
    {
     "data": {
      "application/vnd.jupyter.widget-view+json": {
       "model_id": "e3de519f17af4a59a04042c0c603ee94",
       "version_major": 2,
       "version_minor": 0
      },
      "text/plain": [
       "Backtest.optimize:   0%|          | 0/9 [00:00<?, ?it/s]"
      ]
     },
     "metadata": {},
     "output_type": "display_data"
    },
    {
     "data": {
      "application/vnd.jupyter.widget-view+json": {
       "model_id": "b69e9ef630534778a5fa2435cc6a0029",
       "version_major": 2,
       "version_minor": 0
      },
      "text/plain": [
       "Backtest.optimize:   0%|          | 0/9 [00:00<?, ?it/s]"
      ]
     },
     "metadata": {},
     "output_type": "display_data"
    },
    {
     "data": {
      "application/vnd.jupyter.widget-view+json": {
       "model_id": "485b57ce22bf4d2993720204689431cd",
       "version_major": 2,
       "version_minor": 0
      },
      "text/plain": [
       "Backtest.optimize:   0%|          | 0/9 [00:00<?, ?it/s]"
      ]
     },
     "metadata": {},
     "output_type": "display_data"
    },
    {
     "data": {
      "application/vnd.jupyter.widget-view+json": {
       "model_id": "26d89141d2c64d7683595abf91df5eda",
       "version_major": 2,
       "version_minor": 0
      },
      "text/plain": [
       "Backtest.optimize:   0%|          | 0/9 [00:00<?, ?it/s]"
      ]
     },
     "metadata": {},
     "output_type": "display_data"
    },
    {
     "data": {
      "application/vnd.jupyter.widget-view+json": {
       "model_id": "9f129f6373324e188b12d964ab080c45",
       "version_major": 2,
       "version_minor": 0
      },
      "text/plain": [
       "Backtest.optimize:   0%|          | 0/9 [00:00<?, ?it/s]"
      ]
     },
     "metadata": {},
     "output_type": "display_data"
    },
    {
     "data": {
      "application/vnd.jupyter.widget-view+json": {
       "model_id": "2d27bfa084b342f99ccab4345d7f4303",
       "version_major": 2,
       "version_minor": 0
      },
      "text/plain": [
       "Backtest.optimize:   0%|          | 0/9 [00:00<?, ?it/s]"
      ]
     },
     "metadata": {},
     "output_type": "display_data"
    },
    {
     "data": {
      "application/vnd.jupyter.widget-view+json": {
       "model_id": "0dbc7bc4bca3467ca955a4b3893c8c01",
       "version_major": 2,
       "version_minor": 0
      },
      "text/plain": [
       "Backtest.optimize:   0%|          | 0/9 [00:00<?, ?it/s]"
      ]
     },
     "metadata": {},
     "output_type": "display_data"
    },
    {
     "data": {
      "application/vnd.jupyter.widget-view+json": {
       "model_id": "a5fadf7405c54714ae77722a5cc6002d",
       "version_major": 2,
       "version_minor": 0
      },
      "text/plain": [
       "Backtest.optimize:   0%|          | 0/9 [00:00<?, ?it/s]"
      ]
     },
     "metadata": {},
     "output_type": "display_data"
    },
    {
     "data": {
      "application/vnd.jupyter.widget-view+json": {
       "model_id": "ea5b9f71f78c4bbda8c94ca2982b8c19",
       "version_major": 2,
       "version_minor": 0
      },
      "text/plain": [
       "Backtest.optimize:   0%|          | 0/9 [00:00<?, ?it/s]"
      ]
     },
     "metadata": {},
     "output_type": "display_data"
    },
    {
     "data": {
      "application/vnd.jupyter.widget-view+json": {
       "model_id": "d1a6b7092b884b13bbdf6a3224494a0f",
       "version_major": 2,
       "version_minor": 0
      },
      "text/plain": [
       "Backtest.optimize:   0%|          | 0/9 [00:00<?, ?it/s]"
      ]
     },
     "metadata": {},
     "output_type": "display_data"
    },
    {
     "data": {
      "application/vnd.jupyter.widget-view+json": {
       "model_id": "f8c0cfe62fb2400cb9bc4fa163ebfd8c",
       "version_major": 2,
       "version_minor": 0
      },
      "text/plain": [
       "Backtest.optimize:   0%|          | 0/9 [00:00<?, ?it/s]"
      ]
     },
     "metadata": {},
     "output_type": "display_data"
    },
    {
     "data": {
      "application/vnd.jupyter.widget-view+json": {
       "model_id": "ddcb2c31fe1b4e4fbdd87fa78c5b6cef",
       "version_major": 2,
       "version_minor": 0
      },
      "text/plain": [
       "Backtest.optimize:   0%|          | 0/9 [00:00<?, ?it/s]"
      ]
     },
     "metadata": {},
     "output_type": "display_data"
    },
    {
     "data": {
      "application/vnd.jupyter.widget-view+json": {
       "model_id": "88734fcadd8842cf83dc3f2b63fbfc2d",
       "version_major": 2,
       "version_minor": 0
      },
      "text/plain": [
       "Backtest.optimize:   0%|          | 0/9 [00:00<?, ?it/s]"
      ]
     },
     "metadata": {},
     "output_type": "display_data"
    },
    {
     "data": {
      "application/vnd.jupyter.widget-view+json": {
       "model_id": "f8c5d149e19444f698c6bb0e6ed1531c",
       "version_major": 2,
       "version_minor": 0
      },
      "text/plain": [
       "Backtest.optimize:   0%|          | 0/9 [00:00<?, ?it/s]"
      ]
     },
     "metadata": {},
     "output_type": "display_data"
    },
    {
     "data": {
      "application/vnd.jupyter.widget-view+json": {
       "model_id": "4ee6832e4efa4783af10313791ca1951",
       "version_major": 2,
       "version_minor": 0
      },
      "text/plain": [
       "Backtest.optimize:   0%|          | 0/9 [00:00<?, ?it/s]"
      ]
     },
     "metadata": {},
     "output_type": "display_data"
    },
    {
     "data": {
      "application/vnd.jupyter.widget-view+json": {
       "model_id": "9a640513111a4af2b1da96c63ccf7010",
       "version_major": 2,
       "version_minor": 0
      },
      "text/plain": [
       "Backtest.optimize:   0%|          | 0/9 [00:00<?, ?it/s]"
      ]
     },
     "metadata": {},
     "output_type": "display_data"
    },
    {
     "data": {
      "application/vnd.jupyter.widget-view+json": {
       "model_id": "9d4bdbc6f13546c291cf397a6e23c324",
       "version_major": 2,
       "version_minor": 0
      },
      "text/plain": [
       "Backtest.optimize:   0%|          | 0/9 [00:00<?, ?it/s]"
      ]
     },
     "metadata": {},
     "output_type": "display_data"
    },
    {
     "data": {
      "application/vnd.jupyter.widget-view+json": {
       "model_id": "8cae1934cccd47198732eff5745edcfd",
       "version_major": 2,
       "version_minor": 0
      },
      "text/plain": [
       "Backtest.optimize:   0%|          | 0/9 [00:00<?, ?it/s]"
      ]
     },
     "metadata": {},
     "output_type": "display_data"
    },
    {
     "data": {
      "application/vnd.jupyter.widget-view+json": {
       "model_id": "8acd86b089e04e78abdccaa310a0ba76",
       "version_major": 2,
       "version_minor": 0
      },
      "text/plain": [
       "Backtest.optimize:   0%|          | 0/9 [00:00<?, ?it/s]"
      ]
     },
     "metadata": {},
     "output_type": "display_data"
    },
    {
     "data": {
      "application/vnd.jupyter.widget-view+json": {
       "model_id": "a54c52a6d0294a45a94a05a5268fa52c",
       "version_major": 2,
       "version_minor": 0
      },
      "text/plain": [
       "Backtest.optimize:   0%|          | 0/9 [00:00<?, ?it/s]"
      ]
     },
     "metadata": {},
     "output_type": "display_data"
    },
    {
     "data": {
      "application/vnd.jupyter.widget-view+json": {
       "model_id": "78186df053164b5689d1801dcadc8561",
       "version_major": 2,
       "version_minor": 0
      },
      "text/plain": [
       "Backtest.optimize:   0%|          | 0/9 [00:00<?, ?it/s]"
      ]
     },
     "metadata": {},
     "output_type": "display_data"
    },
    {
     "data": {
      "application/vnd.jupyter.widget-view+json": {
       "model_id": "fbe10de789bf42038076562b6ac0a616",
       "version_major": 2,
       "version_minor": 0
      },
      "text/plain": [
       "Backtest.optimize:   0%|          | 0/9 [00:00<?, ?it/s]"
      ]
     },
     "metadata": {},
     "output_type": "display_data"
    },
    {
     "data": {
      "application/vnd.jupyter.widget-view+json": {
       "model_id": "e0c248017d1a47fa9bc481ae4d498624",
       "version_major": 2,
       "version_minor": 0
      },
      "text/plain": [
       "Backtest.optimize:   0%|          | 0/9 [00:00<?, ?it/s]"
      ]
     },
     "metadata": {},
     "output_type": "display_data"
    },
    {
     "data": {
      "application/vnd.jupyter.widget-view+json": {
       "model_id": "592f1d523023497ea8479b22b2c0687d",
       "version_major": 2,
       "version_minor": 0
      },
      "text/plain": [
       "Backtest.optimize:   0%|          | 0/9 [00:00<?, ?it/s]"
      ]
     },
     "metadata": {},
     "output_type": "display_data"
    },
    {
     "data": {
      "application/vnd.jupyter.widget-view+json": {
       "model_id": "840f8e989686491ab29c5d586ec3c171",
       "version_major": 2,
       "version_minor": 0
      },
      "text/plain": [
       "Backtest.optimize:   0%|          | 0/9 [00:00<?, ?it/s]"
      ]
     },
     "metadata": {},
     "output_type": "display_data"
    },
    {
     "data": {
      "application/vnd.jupyter.widget-view+json": {
       "model_id": "d78e27b5501f44058c784084248db527",
       "version_major": 2,
       "version_minor": 0
      },
      "text/plain": [
       "Backtest.optimize:   0%|          | 0/9 [00:00<?, ?it/s]"
      ]
     },
     "metadata": {},
     "output_type": "display_data"
    },
    {
     "data": {
      "application/vnd.jupyter.widget-view+json": {
       "model_id": "a96eeb4ee3984a3c905626e0e3af0543",
       "version_major": 2,
       "version_minor": 0
      },
      "text/plain": [
       "Backtest.optimize:   0%|          | 0/9 [00:00<?, ?it/s]"
      ]
     },
     "metadata": {},
     "output_type": "display_data"
    },
    {
     "data": {
      "application/vnd.jupyter.widget-view+json": {
       "model_id": "42f47756049a42ab858196e61fadc275",
       "version_major": 2,
       "version_minor": 0
      },
      "text/plain": [
       "Backtest.optimize:   0%|          | 0/9 [00:00<?, ?it/s]"
      ]
     },
     "metadata": {},
     "output_type": "display_data"
    },
    {
     "data": {
      "application/vnd.jupyter.widget-view+json": {
       "model_id": "5de07e2217c4460684390c38103fb818",
       "version_major": 2,
       "version_minor": 0
      },
      "text/plain": [
       "Backtest.optimize:   0%|          | 0/9 [00:00<?, ?it/s]"
      ]
     },
     "metadata": {},
     "output_type": "display_data"
    },
    {
     "data": {
      "application/vnd.jupyter.widget-view+json": {
       "model_id": "e2a073c2314e4c8a9dedf026ba5e8c7f",
       "version_major": 2,
       "version_minor": 0
      },
      "text/plain": [
       "Backtest.optimize:   0%|          | 0/9 [00:00<?, ?it/s]"
      ]
     },
     "metadata": {},
     "output_type": "display_data"
    },
    {
     "data": {
      "application/vnd.jupyter.widget-view+json": {
       "model_id": "7c3c500948314c839228ea5785f58ce5",
       "version_major": 2,
       "version_minor": 0
      },
      "text/plain": [
       "Backtest.optimize:   0%|          | 0/9 [00:00<?, ?it/s]"
      ]
     },
     "metadata": {},
     "output_type": "display_data"
    },
    {
     "data": {
      "application/vnd.jupyter.widget-view+json": {
       "model_id": "0d42b619843b4842a709de460eb8d29d",
       "version_major": 2,
       "version_minor": 0
      },
      "text/plain": [
       "Backtest.optimize:   0%|          | 0/9 [00:00<?, ?it/s]"
      ]
     },
     "metadata": {},
     "output_type": "display_data"
    },
    {
     "data": {
      "application/vnd.jupyter.widget-view+json": {
       "model_id": "f553256ac2cd4a5c86639f5713ebed16",
       "version_major": 2,
       "version_minor": 0
      },
      "text/plain": [
       "Backtest.optimize:   0%|          | 0/9 [00:00<?, ?it/s]"
      ]
     },
     "metadata": {},
     "output_type": "display_data"
    },
    {
     "data": {
      "application/vnd.jupyter.widget-view+json": {
       "model_id": "651af328322e4caf886ebba83be64df4",
       "version_major": 2,
       "version_minor": 0
      },
      "text/plain": [
       "Backtest.optimize:   0%|          | 0/9 [00:00<?, ?it/s]"
      ]
     },
     "metadata": {},
     "output_type": "display_data"
    },
    {
     "data": {
      "application/vnd.jupyter.widget-view+json": {
       "model_id": "4d41b27111ae4833bac0e299aaba3e86",
       "version_major": 2,
       "version_minor": 0
      },
      "text/plain": [
       "Backtest.optimize:   0%|          | 0/9 [00:00<?, ?it/s]"
      ]
     },
     "metadata": {},
     "output_type": "display_data"
    },
    {
     "data": {
      "application/vnd.jupyter.widget-view+json": {
       "model_id": "15a7562dd3c84eb989f0d38c0be7eb77",
       "version_major": 2,
       "version_minor": 0
      },
      "text/plain": [
       "Backtest.optimize:   0%|          | 0/9 [00:00<?, ?it/s]"
      ]
     },
     "metadata": {},
     "output_type": "display_data"
    },
    {
     "data": {
      "application/vnd.jupyter.widget-view+json": {
       "model_id": "71b218e004b94e75a5585149ef622565",
       "version_major": 2,
       "version_minor": 0
      },
      "text/plain": [
       "Backtest.optimize:   0%|          | 0/9 [00:00<?, ?it/s]"
      ]
     },
     "metadata": {},
     "output_type": "display_data"
    },
    {
     "data": {
      "application/vnd.jupyter.widget-view+json": {
       "model_id": "66f8634cc81d4385a7bad0cad32d2c47",
       "version_major": 2,
       "version_minor": 0
      },
      "text/plain": [
       "Backtest.optimize:   0%|          | 0/9 [00:00<?, ?it/s]"
      ]
     },
     "metadata": {},
     "output_type": "display_data"
    },
    {
     "data": {
      "application/vnd.jupyter.widget-view+json": {
       "model_id": "32d9d69c843d439b9ed47615c6447596",
       "version_major": 2,
       "version_minor": 0
      },
      "text/plain": [
       "Backtest.optimize:   0%|          | 0/9 [00:00<?, ?it/s]"
      ]
     },
     "metadata": {},
     "output_type": "display_data"
    },
    {
     "data": {
      "application/vnd.jupyter.widget-view+json": {
       "model_id": "ee624ad12a754a04871865fa3d1f2658",
       "version_major": 2,
       "version_minor": 0
      },
      "text/plain": [
       "Backtest.optimize:   0%|          | 0/9 [00:00<?, ?it/s]"
      ]
     },
     "metadata": {},
     "output_type": "display_data"
    },
    {
     "data": {
      "application/vnd.jupyter.widget-view+json": {
       "model_id": "9fc962aa66d34100930906bb3660880f",
       "version_major": 2,
       "version_minor": 0
      },
      "text/plain": [
       "Backtest.optimize:   0%|          | 0/9 [00:00<?, ?it/s]"
      ]
     },
     "metadata": {},
     "output_type": "display_data"
    },
    {
     "data": {
      "application/vnd.jupyter.widget-view+json": {
       "model_id": "fc988d7477014aa7bb03aa534f0703ea",
       "version_major": 2,
       "version_minor": 0
      },
      "text/plain": [
       "Backtest.optimize:   0%|          | 0/9 [00:00<?, ?it/s]"
      ]
     },
     "metadata": {},
     "output_type": "display_data"
    },
    {
     "data": {
      "application/vnd.jupyter.widget-view+json": {
       "model_id": "f2f3bf84211a47a2ac27841d20943f62",
       "version_major": 2,
       "version_minor": 0
      },
      "text/plain": [
       "Backtest.optimize:   0%|          | 0/9 [00:00<?, ?it/s]"
      ]
     },
     "metadata": {},
     "output_type": "display_data"
    },
    {
     "data": {
      "application/vnd.jupyter.widget-view+json": {
       "model_id": "6c2afad2e24b42b3a29e2375c2980316",
       "version_major": 2,
       "version_minor": 0
      },
      "text/plain": [
       "Backtest.optimize:   0%|          | 0/9 [00:00<?, ?it/s]"
      ]
     },
     "metadata": {},
     "output_type": "display_data"
    },
    {
     "data": {
      "application/vnd.jupyter.widget-view+json": {
       "model_id": "bc8321f575d14afaafc8d1a735bc5d8e",
       "version_major": 2,
       "version_minor": 0
      },
      "text/plain": [
       "Backtest.optimize:   0%|          | 0/9 [00:00<?, ?it/s]"
      ]
     },
     "metadata": {},
     "output_type": "display_data"
    },
    {
     "data": {
      "application/vnd.jupyter.widget-view+json": {
       "model_id": "cea52f990e6644718b0e46b33ded297e",
       "version_major": 2,
       "version_minor": 0
      },
      "text/plain": [
       "Backtest.optimize:   0%|          | 0/9 [00:00<?, ?it/s]"
      ]
     },
     "metadata": {},
     "output_type": "display_data"
    },
    {
     "data": {
      "application/vnd.jupyter.widget-view+json": {
       "model_id": "4b2a8598845a430a8041ee587cc2bcd8",
       "version_major": 2,
       "version_minor": 0
      },
      "text/plain": [
       "Backtest.optimize:   0%|          | 0/9 [00:00<?, ?it/s]"
      ]
     },
     "metadata": {},
     "output_type": "display_data"
    },
    {
     "data": {
      "application/vnd.jupyter.widget-view+json": {
       "model_id": "cb40b0933e1649d09b5c440bad62922a",
       "version_major": 2,
       "version_minor": 0
      },
      "text/plain": [
       "Backtest.optimize:   0%|          | 0/9 [00:00<?, ?it/s]"
      ]
     },
     "metadata": {},
     "output_type": "display_data"
    },
    {
     "name": "stderr",
     "output_type": "stream",
     "text": [
      " 18%|█▊        | 11/60 [21:38<1:32:24, 113.14s/it]"
     ]
    },
    {
     "name": "stdout",
     "output_type": "stream",
     "text": [
      "BTC-USD : best_params: None, best_performance: -inf\n",
      "BTC-USD : train_set: 2019-12-30 00:00:00 - 2020-07-16 00:00:00, test_set: 2020-07-17 00:00:00 - 2020-08-18 00:00:00\n"
     ]
    },
    {
     "data": {
      "application/vnd.jupyter.widget-view+json": {
       "model_id": "4f970b964a1749f19b5b41af28ab01d5",
       "version_major": 2,
       "version_minor": 0
      },
      "text/plain": [
       "Backtest.optimize:   0%|          | 0/9 [00:00<?, ?it/s]"
      ]
     },
     "metadata": {},
     "output_type": "display_data"
    },
    {
     "data": {
      "application/vnd.jupyter.widget-view+json": {
       "model_id": "4dddd64ca2c34c34a236a58e054b2dd6",
       "version_major": 2,
       "version_minor": 0
      },
      "text/plain": [
       "Backtest.optimize:   0%|          | 0/9 [00:00<?, ?it/s]"
      ]
     },
     "metadata": {},
     "output_type": "display_data"
    },
    {
     "data": {
      "application/vnd.jupyter.widget-view+json": {
       "model_id": "dab188237d624f48b9d959fc93b59193",
       "version_major": 2,
       "version_minor": 0
      },
      "text/plain": [
       "Backtest.optimize:   0%|          | 0/9 [00:00<?, ?it/s]"
      ]
     },
     "metadata": {},
     "output_type": "display_data"
    },
    {
     "data": {
      "application/vnd.jupyter.widget-view+json": {
       "model_id": "18d86ac4c36c4343816dce2725100fe2",
       "version_major": 2,
       "version_minor": 0
      },
      "text/plain": [
       "Backtest.optimize:   0%|          | 0/9 [00:00<?, ?it/s]"
      ]
     },
     "metadata": {},
     "output_type": "display_data"
    },
    {
     "data": {
      "application/vnd.jupyter.widget-view+json": {
       "model_id": "c6e83afb9f0f40db80d9b93b0a974730",
       "version_major": 2,
       "version_minor": 0
      },
      "text/plain": [
       "Backtest.optimize:   0%|          | 0/9 [00:00<?, ?it/s]"
      ]
     },
     "metadata": {},
     "output_type": "display_data"
    },
    {
     "data": {
      "application/vnd.jupyter.widget-view+json": {
       "model_id": "cb10414d8aae418098c166ab3ccd8156",
       "version_major": 2,
       "version_minor": 0
      },
      "text/plain": [
       "Backtest.optimize:   0%|          | 0/9 [00:00<?, ?it/s]"
      ]
     },
     "metadata": {},
     "output_type": "display_data"
    },
    {
     "data": {
      "application/vnd.jupyter.widget-view+json": {
       "model_id": "a661063dc9914ff1aba9d4724df677a1",
       "version_major": 2,
       "version_minor": 0
      },
      "text/plain": [
       "Backtest.optimize:   0%|          | 0/9 [00:00<?, ?it/s]"
      ]
     },
     "metadata": {},
     "output_type": "display_data"
    },
    {
     "data": {
      "application/vnd.jupyter.widget-view+json": {
       "model_id": "193af9487f7b4bb7bd1e38dd21ca7200",
       "version_major": 2,
       "version_minor": 0
      },
      "text/plain": [
       "Backtest.optimize:   0%|          | 0/9 [00:00<?, ?it/s]"
      ]
     },
     "metadata": {},
     "output_type": "display_data"
    },
    {
     "data": {
      "application/vnd.jupyter.widget-view+json": {
       "model_id": "51042151010f4e3abd11ec0f90c01636",
       "version_major": 2,
       "version_minor": 0
      },
      "text/plain": [
       "Backtest.optimize:   0%|          | 0/9 [00:00<?, ?it/s]"
      ]
     },
     "metadata": {},
     "output_type": "display_data"
    },
    {
     "data": {
      "application/vnd.jupyter.widget-view+json": {
       "model_id": "361c42eea2a7421bb1f7b6e176fc213f",
       "version_major": 2,
       "version_minor": 0
      },
      "text/plain": [
       "Backtest.optimize:   0%|          | 0/9 [00:00<?, ?it/s]"
      ]
     },
     "metadata": {},
     "output_type": "display_data"
    },
    {
     "data": {
      "application/vnd.jupyter.widget-view+json": {
       "model_id": "cb3a3b8f39ab454b90b11c70ef24e616",
       "version_major": 2,
       "version_minor": 0
      },
      "text/plain": [
       "Backtest.optimize:   0%|          | 0/9 [00:00<?, ?it/s]"
      ]
     },
     "metadata": {},
     "output_type": "display_data"
    },
    {
     "data": {
      "application/vnd.jupyter.widget-view+json": {
       "model_id": "b200872025b84de399914a08b0b59c69",
       "version_major": 2,
       "version_minor": 0
      },
      "text/plain": [
       "Backtest.optimize:   0%|          | 0/9 [00:00<?, ?it/s]"
      ]
     },
     "metadata": {},
     "output_type": "display_data"
    },
    {
     "data": {
      "application/vnd.jupyter.widget-view+json": {
       "model_id": "241a68848b3e4253abc3fc1a195fd261",
       "version_major": 2,
       "version_minor": 0
      },
      "text/plain": [
       "Backtest.optimize:   0%|          | 0/9 [00:00<?, ?it/s]"
      ]
     },
     "metadata": {},
     "output_type": "display_data"
    },
    {
     "data": {
      "application/vnd.jupyter.widget-view+json": {
       "model_id": "fcbe8a1e3b4d44218b615ef1fd9b3917",
       "version_major": 2,
       "version_minor": 0
      },
      "text/plain": [
       "Backtest.optimize:   0%|          | 0/9 [00:00<?, ?it/s]"
      ]
     },
     "metadata": {},
     "output_type": "display_data"
    },
    {
     "data": {
      "application/vnd.jupyter.widget-view+json": {
       "model_id": "ded1a0cf6a8243f7b9b30cede091bd0d",
       "version_major": 2,
       "version_minor": 0
      },
      "text/plain": [
       "Backtest.optimize:   0%|          | 0/9 [00:00<?, ?it/s]"
      ]
     },
     "metadata": {},
     "output_type": "display_data"
    },
    {
     "data": {
      "application/vnd.jupyter.widget-view+json": {
       "model_id": "f99a6de57fdb4ad78ec40b6193ae2aee",
       "version_major": 2,
       "version_minor": 0
      },
      "text/plain": [
       "Backtest.optimize:   0%|          | 0/9 [00:00<?, ?it/s]"
      ]
     },
     "metadata": {},
     "output_type": "display_data"
    },
    {
     "data": {
      "application/vnd.jupyter.widget-view+json": {
       "model_id": "fe7ab8f6211e488dba7920cc948bd6d7",
       "version_major": 2,
       "version_minor": 0
      },
      "text/plain": [
       "Backtest.optimize:   0%|          | 0/9 [00:00<?, ?it/s]"
      ]
     },
     "metadata": {},
     "output_type": "display_data"
    },
    {
     "data": {
      "application/vnd.jupyter.widget-view+json": {
       "model_id": "44d708432eed46dba0aa28bdbed62a6f",
       "version_major": 2,
       "version_minor": 0
      },
      "text/plain": [
       "Backtest.optimize:   0%|          | 0/9 [00:00<?, ?it/s]"
      ]
     },
     "metadata": {},
     "output_type": "display_data"
    },
    {
     "data": {
      "application/vnd.jupyter.widget-view+json": {
       "model_id": "14ff35d0c2d1441aa30ca7b44521445f",
       "version_major": 2,
       "version_minor": 0
      },
      "text/plain": [
       "Backtest.optimize:   0%|          | 0/9 [00:00<?, ?it/s]"
      ]
     },
     "metadata": {},
     "output_type": "display_data"
    },
    {
     "data": {
      "application/vnd.jupyter.widget-view+json": {
       "model_id": "cddd2d18e7b14000b796b8d0f490d82c",
       "version_major": 2,
       "version_minor": 0
      },
      "text/plain": [
       "Backtest.optimize:   0%|          | 0/9 [00:00<?, ?it/s]"
      ]
     },
     "metadata": {},
     "output_type": "display_data"
    },
    {
     "data": {
      "application/vnd.jupyter.widget-view+json": {
       "model_id": "d9a34b24129d4e3880d61227e60a341d",
       "version_major": 2,
       "version_minor": 0
      },
      "text/plain": [
       "Backtest.optimize:   0%|          | 0/9 [00:00<?, ?it/s]"
      ]
     },
     "metadata": {},
     "output_type": "display_data"
    },
    {
     "data": {
      "application/vnd.jupyter.widget-view+json": {
       "model_id": "ac045d569b60417bb9699821de74d9a6",
       "version_major": 2,
       "version_minor": 0
      },
      "text/plain": [
       "Backtest.optimize:   0%|          | 0/9 [00:00<?, ?it/s]"
      ]
     },
     "metadata": {},
     "output_type": "display_data"
    },
    {
     "data": {
      "application/vnd.jupyter.widget-view+json": {
       "model_id": "d1e46455f11b4e0689009c59e5ad4c04",
       "version_major": 2,
       "version_minor": 0
      },
      "text/plain": [
       "Backtest.optimize:   0%|          | 0/9 [00:00<?, ?it/s]"
      ]
     },
     "metadata": {},
     "output_type": "display_data"
    },
    {
     "data": {
      "application/vnd.jupyter.widget-view+json": {
       "model_id": "02c7c39cd4d94747a3f60cecff94c22b",
       "version_major": 2,
       "version_minor": 0
      },
      "text/plain": [
       "Backtest.optimize:   0%|          | 0/9 [00:00<?, ?it/s]"
      ]
     },
     "metadata": {},
     "output_type": "display_data"
    },
    {
     "data": {
      "application/vnd.jupyter.widget-view+json": {
       "model_id": "4e4fcd20c2844ca89966d9d84a8b7ab2",
       "version_major": 2,
       "version_minor": 0
      },
      "text/plain": [
       "Backtest.optimize:   0%|          | 0/9 [00:00<?, ?it/s]"
      ]
     },
     "metadata": {},
     "output_type": "display_data"
    },
    {
     "data": {
      "application/vnd.jupyter.widget-view+json": {
       "model_id": "f8171f3d19af4f2f92825709853ef794",
       "version_major": 2,
       "version_minor": 0
      },
      "text/plain": [
       "Backtest.optimize:   0%|          | 0/9 [00:00<?, ?it/s]"
      ]
     },
     "metadata": {},
     "output_type": "display_data"
    },
    {
     "data": {
      "application/vnd.jupyter.widget-view+json": {
       "model_id": "19cde0d4a0104d0a826ca4e8073df92c",
       "version_major": 2,
       "version_minor": 0
      },
      "text/plain": [
       "Backtest.optimize:   0%|          | 0/9 [00:00<?, ?it/s]"
      ]
     },
     "metadata": {},
     "output_type": "display_data"
    },
    {
     "data": {
      "application/vnd.jupyter.widget-view+json": {
       "model_id": "ce328d66ceb146b0a1fff6378af0cc73",
       "version_major": 2,
       "version_minor": 0
      },
      "text/plain": [
       "Backtest.optimize:   0%|          | 0/9 [00:00<?, ?it/s]"
      ]
     },
     "metadata": {},
     "output_type": "display_data"
    },
    {
     "data": {
      "application/vnd.jupyter.widget-view+json": {
       "model_id": "82da0eb3016249cc8879df7465eb24b0",
       "version_major": 2,
       "version_minor": 0
      },
      "text/plain": [
       "Backtest.optimize:   0%|          | 0/9 [00:00<?, ?it/s]"
      ]
     },
     "metadata": {},
     "output_type": "display_data"
    },
    {
     "data": {
      "application/vnd.jupyter.widget-view+json": {
       "model_id": "6f1595148c7d4f788ff5c40f82e70245",
       "version_major": 2,
       "version_minor": 0
      },
      "text/plain": [
       "Backtest.optimize:   0%|          | 0/9 [00:00<?, ?it/s]"
      ]
     },
     "metadata": {},
     "output_type": "display_data"
    },
    {
     "data": {
      "application/vnd.jupyter.widget-view+json": {
       "model_id": "e8b8091ca0cc4f288ed04e28ff12e444",
       "version_major": 2,
       "version_minor": 0
      },
      "text/plain": [
       "Backtest.optimize:   0%|          | 0/9 [00:00<?, ?it/s]"
      ]
     },
     "metadata": {},
     "output_type": "display_data"
    },
    {
     "data": {
      "application/vnd.jupyter.widget-view+json": {
       "model_id": "50ec46fe686446c7988e512b2324aed8",
       "version_major": 2,
       "version_minor": 0
      },
      "text/plain": [
       "Backtest.optimize:   0%|          | 0/9 [00:00<?, ?it/s]"
      ]
     },
     "metadata": {},
     "output_type": "display_data"
    },
    {
     "data": {
      "application/vnd.jupyter.widget-view+json": {
       "model_id": "2bd434303dd04a66984d9c1e99c5f068",
       "version_major": 2,
       "version_minor": 0
      },
      "text/plain": [
       "Backtest.optimize:   0%|          | 0/9 [00:00<?, ?it/s]"
      ]
     },
     "metadata": {},
     "output_type": "display_data"
    },
    {
     "data": {
      "application/vnd.jupyter.widget-view+json": {
       "model_id": "2505c104c3bf4407b4bb1dbcb6b115c4",
       "version_major": 2,
       "version_minor": 0
      },
      "text/plain": [
       "Backtest.optimize:   0%|          | 0/9 [00:00<?, ?it/s]"
      ]
     },
     "metadata": {},
     "output_type": "display_data"
    },
    {
     "data": {
      "application/vnd.jupyter.widget-view+json": {
       "model_id": "e22a3b8940ac4e92a2a8a1cf86e691ca",
       "version_major": 2,
       "version_minor": 0
      },
      "text/plain": [
       "Backtest.optimize:   0%|          | 0/9 [00:00<?, ?it/s]"
      ]
     },
     "metadata": {},
     "output_type": "display_data"
    },
    {
     "data": {
      "application/vnd.jupyter.widget-view+json": {
       "model_id": "7376326624aa4e22a3b1cabcffb35018",
       "version_major": 2,
       "version_minor": 0
      },
      "text/plain": [
       "Backtest.optimize:   0%|          | 0/9 [00:00<?, ?it/s]"
      ]
     },
     "metadata": {},
     "output_type": "display_data"
    },
    {
     "data": {
      "application/vnd.jupyter.widget-view+json": {
       "model_id": "db97e012bb8a4b58a0fd7bde8e745877",
       "version_major": 2,
       "version_minor": 0
      },
      "text/plain": [
       "Backtest.optimize:   0%|          | 0/9 [00:00<?, ?it/s]"
      ]
     },
     "metadata": {},
     "output_type": "display_data"
    },
    {
     "data": {
      "application/vnd.jupyter.widget-view+json": {
       "model_id": "9a4ce7b652724413a9eae08c7b5ca6aa",
       "version_major": 2,
       "version_minor": 0
      },
      "text/plain": [
       "Backtest.optimize:   0%|          | 0/9 [00:00<?, ?it/s]"
      ]
     },
     "metadata": {},
     "output_type": "display_data"
    },
    {
     "data": {
      "application/vnd.jupyter.widget-view+json": {
       "model_id": "5f4faafc13724cf1a0f74acc20be5216",
       "version_major": 2,
       "version_minor": 0
      },
      "text/plain": [
       "Backtest.optimize:   0%|          | 0/9 [00:00<?, ?it/s]"
      ]
     },
     "metadata": {},
     "output_type": "display_data"
    },
    {
     "data": {
      "application/vnd.jupyter.widget-view+json": {
       "model_id": "20e59c7c9cc7417e83fb759c4b9ae27b",
       "version_major": 2,
       "version_minor": 0
      },
      "text/plain": [
       "Backtest.optimize:   0%|          | 0/9 [00:00<?, ?it/s]"
      ]
     },
     "metadata": {},
     "output_type": "display_data"
    },
    {
     "data": {
      "application/vnd.jupyter.widget-view+json": {
       "model_id": "41277bea800941258dfcc234fa50a0ec",
       "version_major": 2,
       "version_minor": 0
      },
      "text/plain": [
       "Backtest.optimize:   0%|          | 0/9 [00:00<?, ?it/s]"
      ]
     },
     "metadata": {},
     "output_type": "display_data"
    },
    {
     "data": {
      "application/vnd.jupyter.widget-view+json": {
       "model_id": "b7c935eee64942d6a3b83b0330e7c479",
       "version_major": 2,
       "version_minor": 0
      },
      "text/plain": [
       "Backtest.optimize:   0%|          | 0/9 [00:00<?, ?it/s]"
      ]
     },
     "metadata": {},
     "output_type": "display_data"
    },
    {
     "data": {
      "application/vnd.jupyter.widget-view+json": {
       "model_id": "ec884ac767e94122b3e7c8cda067e5ff",
       "version_major": 2,
       "version_minor": 0
      },
      "text/plain": [
       "Backtest.optimize:   0%|          | 0/9 [00:00<?, ?it/s]"
      ]
     },
     "metadata": {},
     "output_type": "display_data"
    },
    {
     "data": {
      "application/vnd.jupyter.widget-view+json": {
       "model_id": "a2b3c62fd5074458a863056a337b27c3",
       "version_major": 2,
       "version_minor": 0
      },
      "text/plain": [
       "Backtest.optimize:   0%|          | 0/9 [00:00<?, ?it/s]"
      ]
     },
     "metadata": {},
     "output_type": "display_data"
    },
    {
     "data": {
      "application/vnd.jupyter.widget-view+json": {
       "model_id": "85eea2fa642c4963a22e789d02481ea6",
       "version_major": 2,
       "version_minor": 0
      },
      "text/plain": [
       "Backtest.optimize:   0%|          | 0/9 [00:00<?, ?it/s]"
      ]
     },
     "metadata": {},
     "output_type": "display_data"
    },
    {
     "data": {
      "application/vnd.jupyter.widget-view+json": {
       "model_id": "fe4a410376bd453ab165d6b0514ccf30",
       "version_major": 2,
       "version_minor": 0
      },
      "text/plain": [
       "Backtest.optimize:   0%|          | 0/9 [00:00<?, ?it/s]"
      ]
     },
     "metadata": {},
     "output_type": "display_data"
    },
    {
     "data": {
      "application/vnd.jupyter.widget-view+json": {
       "model_id": "b589454838224d7094badc58264aca5a",
       "version_major": 2,
       "version_minor": 0
      },
      "text/plain": [
       "Backtest.optimize:   0%|          | 0/9 [00:00<?, ?it/s]"
      ]
     },
     "metadata": {},
     "output_type": "display_data"
    },
    {
     "data": {
      "application/vnd.jupyter.widget-view+json": {
       "model_id": "d0e4c4ecb2b0401d87c6d89e03760059",
       "version_major": 2,
       "version_minor": 0
      },
      "text/plain": [
       "Backtest.optimize:   0%|          | 0/9 [00:00<?, ?it/s]"
      ]
     },
     "metadata": {},
     "output_type": "display_data"
    },
    {
     "data": {
      "application/vnd.jupyter.widget-view+json": {
       "model_id": "721c1c70a1d047e799df7f0561d24f69",
       "version_major": 2,
       "version_minor": 0
      },
      "text/plain": [
       "Backtest.optimize:   0%|          | 0/9 [00:00<?, ?it/s]"
      ]
     },
     "metadata": {},
     "output_type": "display_data"
    },
    {
     "data": {
      "application/vnd.jupyter.widget-view+json": {
       "model_id": "38d3aeaf2eb642a9bd9d59e40ec0dd3e",
       "version_major": 2,
       "version_minor": 0
      },
      "text/plain": [
       "Backtest.optimize:   0%|          | 0/9 [00:00<?, ?it/s]"
      ]
     },
     "metadata": {},
     "output_type": "display_data"
    },
    {
     "data": {
      "application/vnd.jupyter.widget-view+json": {
       "model_id": "250e3664630c4b07ab9d3cb35add0ca4",
       "version_major": 2,
       "version_minor": 0
      },
      "text/plain": [
       "Backtest.optimize:   0%|          | 0/9 [00:00<?, ?it/s]"
      ]
     },
     "metadata": {},
     "output_type": "display_data"
    },
    {
     "data": {
      "application/vnd.jupyter.widget-view+json": {
       "model_id": "9e4849e48aab4faf9a611aa2be578539",
       "version_major": 2,
       "version_minor": 0
      },
      "text/plain": [
       "Backtest.optimize:   0%|          | 0/9 [00:00<?, ?it/s]"
      ]
     },
     "metadata": {},
     "output_type": "display_data"
    },
    {
     "data": {
      "application/vnd.jupyter.widget-view+json": {
       "model_id": "bfd415b5c494495ab697b6eece1ac52b",
       "version_major": 2,
       "version_minor": 0
      },
      "text/plain": [
       "Backtest.optimize:   0%|          | 0/9 [00:00<?, ?it/s]"
      ]
     },
     "metadata": {},
     "output_type": "display_data"
    },
    {
     "data": {
      "application/vnd.jupyter.widget-view+json": {
       "model_id": "86748084b74647a2af255e546fe25f5b",
       "version_major": 2,
       "version_minor": 0
      },
      "text/plain": [
       "Backtest.optimize:   0%|          | 0/9 [00:00<?, ?it/s]"
      ]
     },
     "metadata": {},
     "output_type": "display_data"
    },
    {
     "data": {
      "application/vnd.jupyter.widget-view+json": {
       "model_id": "5719b0d1a2b04b55ade1e13440af0104",
       "version_major": 2,
       "version_minor": 0
      },
      "text/plain": [
       "Backtest.optimize:   0%|          | 0/9 [00:00<?, ?it/s]"
      ]
     },
     "metadata": {},
     "output_type": "display_data"
    },
    {
     "data": {
      "application/vnd.jupyter.widget-view+json": {
       "model_id": "9f11f2f5039a40a9b329956210b6caa2",
       "version_major": 2,
       "version_minor": 0
      },
      "text/plain": [
       "Backtest.optimize:   0%|          | 0/9 [00:00<?, ?it/s]"
      ]
     },
     "metadata": {},
     "output_type": "display_data"
    },
    {
     "data": {
      "application/vnd.jupyter.widget-view+json": {
       "model_id": "d6c76ed9da564fe985efa827f0636ce6",
       "version_major": 2,
       "version_minor": 0
      },
      "text/plain": [
       "Backtest.optimize:   0%|          | 0/9 [00:00<?, ?it/s]"
      ]
     },
     "metadata": {},
     "output_type": "display_data"
    },
    {
     "data": {
      "application/vnd.jupyter.widget-view+json": {
       "model_id": "4a1c5c59c3d3444289c272b421255f14",
       "version_major": 2,
       "version_minor": 0
      },
      "text/plain": [
       "Backtest.optimize:   0%|          | 0/9 [00:00<?, ?it/s]"
      ]
     },
     "metadata": {},
     "output_type": "display_data"
    },
    {
     "data": {
      "application/vnd.jupyter.widget-view+json": {
       "model_id": "376e9ad9aecb42ab931e70f3c69dc230",
       "version_major": 2,
       "version_minor": 0
      },
      "text/plain": [
       "Backtest.optimize:   0%|          | 0/9 [00:00<?, ?it/s]"
      ]
     },
     "metadata": {},
     "output_type": "display_data"
    },
    {
     "data": {
      "application/vnd.jupyter.widget-view+json": {
       "model_id": "27c9992c7f284a43bc563a88dc554350",
       "version_major": 2,
       "version_minor": 0
      },
      "text/plain": [
       "Backtest.optimize:   0%|          | 0/9 [00:00<?, ?it/s]"
      ]
     },
     "metadata": {},
     "output_type": "display_data"
    },
    {
     "data": {
      "application/vnd.jupyter.widget-view+json": {
       "model_id": "bc9a3318d5494ba6983d95935acfb96b",
       "version_major": 2,
       "version_minor": 0
      },
      "text/plain": [
       "Backtest.optimize:   0%|          | 0/9 [00:00<?, ?it/s]"
      ]
     },
     "metadata": {},
     "output_type": "display_data"
    },
    {
     "data": {
      "application/vnd.jupyter.widget-view+json": {
       "model_id": "cc6e9ef9e3d34056b867ef8449076beb",
       "version_major": 2,
       "version_minor": 0
      },
      "text/plain": [
       "Backtest.optimize:   0%|          | 0/9 [00:00<?, ?it/s]"
      ]
     },
     "metadata": {},
     "output_type": "display_data"
    },
    {
     "data": {
      "application/vnd.jupyter.widget-view+json": {
       "model_id": "866bf339f06a45e3af2f339698612822",
       "version_major": 2,
       "version_minor": 0
      },
      "text/plain": [
       "Backtest.optimize:   0%|          | 0/9 [00:00<?, ?it/s]"
      ]
     },
     "metadata": {},
     "output_type": "display_data"
    },
    {
     "data": {
      "application/vnd.jupyter.widget-view+json": {
       "model_id": "7f9c6905892c4a648098a235f77f396f",
       "version_major": 2,
       "version_minor": 0
      },
      "text/plain": [
       "Backtest.optimize:   0%|          | 0/9 [00:00<?, ?it/s]"
      ]
     },
     "metadata": {},
     "output_type": "display_data"
    },
    {
     "data": {
      "application/vnd.jupyter.widget-view+json": {
       "model_id": "3f41832121eb4939857f7ce41ae4f8ce",
       "version_major": 2,
       "version_minor": 0
      },
      "text/plain": [
       "Backtest.optimize:   0%|          | 0/9 [00:00<?, ?it/s]"
      ]
     },
     "metadata": {},
     "output_type": "display_data"
    },
    {
     "data": {
      "application/vnd.jupyter.widget-view+json": {
       "model_id": "d625d30adb3d4bb086d0e6e55ca310be",
       "version_major": 2,
       "version_minor": 0
      },
      "text/plain": [
       "Backtest.optimize:   0%|          | 0/9 [00:00<?, ?it/s]"
      ]
     },
     "metadata": {},
     "output_type": "display_data"
    },
    {
     "data": {
      "application/vnd.jupyter.widget-view+json": {
       "model_id": "9b967adf960a492e8e13a8087ea64aef",
       "version_major": 2,
       "version_minor": 0
      },
      "text/plain": [
       "Backtest.optimize:   0%|          | 0/9 [00:00<?, ?it/s]"
      ]
     },
     "metadata": {},
     "output_type": "display_data"
    },
    {
     "data": {
      "application/vnd.jupyter.widget-view+json": {
       "model_id": "6a0f3202f43440658893fdc8c32bca99",
       "version_major": 2,
       "version_minor": 0
      },
      "text/plain": [
       "Backtest.optimize:   0%|          | 0/9 [00:00<?, ?it/s]"
      ]
     },
     "metadata": {},
     "output_type": "display_data"
    },
    {
     "data": {
      "application/vnd.jupyter.widget-view+json": {
       "model_id": "3f8a34d255b44ff29602f513715acad9",
       "version_major": 2,
       "version_minor": 0
      },
      "text/plain": [
       "Backtest.optimize:   0%|          | 0/9 [00:00<?, ?it/s]"
      ]
     },
     "metadata": {},
     "output_type": "display_data"
    },
    {
     "data": {
      "application/vnd.jupyter.widget-view+json": {
       "model_id": "4083a490e6754971a895879325a88a9b",
       "version_major": 2,
       "version_minor": 0
      },
      "text/plain": [
       "Backtest.optimize:   0%|          | 0/9 [00:00<?, ?it/s]"
      ]
     },
     "metadata": {},
     "output_type": "display_data"
    },
    {
     "data": {
      "application/vnd.jupyter.widget-view+json": {
       "model_id": "a8ef6158982e425b932313cf9a69c8c6",
       "version_major": 2,
       "version_minor": 0
      },
      "text/plain": [
       "Backtest.optimize:   0%|          | 0/9 [00:00<?, ?it/s]"
      ]
     },
     "metadata": {},
     "output_type": "display_data"
    },
    {
     "data": {
      "application/vnd.jupyter.widget-view+json": {
       "model_id": "2087a635c57e4ceaa352774e46b9042a",
       "version_major": 2,
       "version_minor": 0
      },
      "text/plain": [
       "Backtest.optimize:   0%|          | 0/9 [00:00<?, ?it/s]"
      ]
     },
     "metadata": {},
     "output_type": "display_data"
    },
    {
     "data": {
      "application/vnd.jupyter.widget-view+json": {
       "model_id": "e76462e708d549afb7ce60b9032acdb0",
       "version_major": 2,
       "version_minor": 0
      },
      "text/plain": [
       "Backtest.optimize:   0%|          | 0/9 [00:00<?, ?it/s]"
      ]
     },
     "metadata": {},
     "output_type": "display_data"
    },
    {
     "data": {
      "application/vnd.jupyter.widget-view+json": {
       "model_id": "d04252fcf3cf400d9a6a22c04d84dd27",
       "version_major": 2,
       "version_minor": 0
      },
      "text/plain": [
       "Backtest.optimize:   0%|          | 0/9 [00:00<?, ?it/s]"
      ]
     },
     "metadata": {},
     "output_type": "display_data"
    },
    {
     "data": {
      "application/vnd.jupyter.widget-view+json": {
       "model_id": "401fda634d7d4804bd36ca88a32e61de",
       "version_major": 2,
       "version_minor": 0
      },
      "text/plain": [
       "Backtest.optimize:   0%|          | 0/9 [00:00<?, ?it/s]"
      ]
     },
     "metadata": {},
     "output_type": "display_data"
    },
    {
     "data": {
      "application/vnd.jupyter.widget-view+json": {
       "model_id": "db162c4782d6405892f559297d269fa5",
       "version_major": 2,
       "version_minor": 0
      },
      "text/plain": [
       "Backtest.optimize:   0%|          | 0/9 [00:00<?, ?it/s]"
      ]
     },
     "metadata": {},
     "output_type": "display_data"
    },
    {
     "data": {
      "application/vnd.jupyter.widget-view+json": {
       "model_id": "e29e283a81444c079a2ee5725124f810",
       "version_major": 2,
       "version_minor": 0
      },
      "text/plain": [
       "Backtest.optimize:   0%|          | 0/9 [00:00<?, ?it/s]"
      ]
     },
     "metadata": {},
     "output_type": "display_data"
    },
    {
     "data": {
      "application/vnd.jupyter.widget-view+json": {
       "model_id": "5d795e41cd47417f8aa1c60d24fe3445",
       "version_major": 2,
       "version_minor": 0
      },
      "text/plain": [
       "Backtest.optimize:   0%|          | 0/9 [00:00<?, ?it/s]"
      ]
     },
     "metadata": {},
     "output_type": "display_data"
    },
    {
     "data": {
      "application/vnd.jupyter.widget-view+json": {
       "model_id": "7e8ae9bbe57441e1a2d91db87792a32b",
       "version_major": 2,
       "version_minor": 0
      },
      "text/plain": [
       "Backtest.optimize:   0%|          | 0/9 [00:00<?, ?it/s]"
      ]
     },
     "metadata": {},
     "output_type": "display_data"
    },
    {
     "data": {
      "application/vnd.jupyter.widget-view+json": {
       "model_id": "89534cbc43a947eb85adafca9d59b280",
       "version_major": 2,
       "version_minor": 0
      },
      "text/plain": [
       "Backtest.optimize:   0%|          | 0/9 [00:00<?, ?it/s]"
      ]
     },
     "metadata": {},
     "output_type": "display_data"
    },
    {
     "data": {
      "application/vnd.jupyter.widget-view+json": {
       "model_id": "a6fd3a5fe1954d4ca3598922fb9d661a",
       "version_major": 2,
       "version_minor": 0
      },
      "text/plain": [
       "Backtest.optimize:   0%|          | 0/9 [00:00<?, ?it/s]"
      ]
     },
     "metadata": {},
     "output_type": "display_data"
    },
    {
     "name": "stderr",
     "output_type": "stream",
     "text": [
      " 20%|██        | 12/60 [23:37<1:32:02, 115.05s/it]"
     ]
    },
    {
     "name": "stdout",
     "output_type": "stream",
     "text": [
      "BTC-USD : best_params: None, best_performance: -inf\n",
      "BTC-USD : train_set: 2020-02-01 00:00:00 - 2020-08-18 00:00:00, test_set: 2020-08-19 00:00:00 - 2020-09-20 00:00:00\n"
     ]
    },
    {
     "data": {
      "application/vnd.jupyter.widget-view+json": {
       "model_id": "8ab449901b08447abb26e336f8fc9ef3",
       "version_major": 2,
       "version_minor": 0
      },
      "text/plain": [
       "Backtest.optimize:   0%|          | 0/9 [00:00<?, ?it/s]"
      ]
     },
     "metadata": {},
     "output_type": "display_data"
    },
    {
     "data": {
      "application/vnd.jupyter.widget-view+json": {
       "model_id": "fc18b4abd06742e5a3b16bc271e99ff7",
       "version_major": 2,
       "version_minor": 0
      },
      "text/plain": [
       "Backtest.optimize:   0%|          | 0/9 [00:00<?, ?it/s]"
      ]
     },
     "metadata": {},
     "output_type": "display_data"
    },
    {
     "data": {
      "application/vnd.jupyter.widget-view+json": {
       "model_id": "7f9bfdc8df7343e1827c5b49a20f40f1",
       "version_major": 2,
       "version_minor": 0
      },
      "text/plain": [
       "Backtest.optimize:   0%|          | 0/9 [00:00<?, ?it/s]"
      ]
     },
     "metadata": {},
     "output_type": "display_data"
    },
    {
     "data": {
      "application/vnd.jupyter.widget-view+json": {
       "model_id": "ac1d1b7a1fe845338c96851b4c7bc1c2",
       "version_major": 2,
       "version_minor": 0
      },
      "text/plain": [
       "Backtest.optimize:   0%|          | 0/9 [00:00<?, ?it/s]"
      ]
     },
     "metadata": {},
     "output_type": "display_data"
    },
    {
     "data": {
      "application/vnd.jupyter.widget-view+json": {
       "model_id": "cc398413a238452290851d5b2e28a67d",
       "version_major": 2,
       "version_minor": 0
      },
      "text/plain": [
       "Backtest.optimize:   0%|          | 0/9 [00:00<?, ?it/s]"
      ]
     },
     "metadata": {},
     "output_type": "display_data"
    },
    {
     "data": {
      "application/vnd.jupyter.widget-view+json": {
       "model_id": "112a0a57e73e44fd962cacee6ac50eb7",
       "version_major": 2,
       "version_minor": 0
      },
      "text/plain": [
       "Backtest.optimize:   0%|          | 0/9 [00:00<?, ?it/s]"
      ]
     },
     "metadata": {},
     "output_type": "display_data"
    },
    {
     "data": {
      "application/vnd.jupyter.widget-view+json": {
       "model_id": "28eee006e5ca4eadbd0e9d9208a39f1e",
       "version_major": 2,
       "version_minor": 0
      },
      "text/plain": [
       "Backtest.optimize:   0%|          | 0/9 [00:00<?, ?it/s]"
      ]
     },
     "metadata": {},
     "output_type": "display_data"
    },
    {
     "data": {
      "application/vnd.jupyter.widget-view+json": {
       "model_id": "3d1016246e844973b741b2db13f94dca",
       "version_major": 2,
       "version_minor": 0
      },
      "text/plain": [
       "Backtest.optimize:   0%|          | 0/9 [00:00<?, ?it/s]"
      ]
     },
     "metadata": {},
     "output_type": "display_data"
    },
    {
     "data": {
      "application/vnd.jupyter.widget-view+json": {
       "model_id": "d29392cad73549e385dcfa89851c32de",
       "version_major": 2,
       "version_minor": 0
      },
      "text/plain": [
       "Backtest.optimize:   0%|          | 0/9 [00:00<?, ?it/s]"
      ]
     },
     "metadata": {},
     "output_type": "display_data"
    },
    {
     "data": {
      "application/vnd.jupyter.widget-view+json": {
       "model_id": "518e83486f934b789584368136e78e80",
       "version_major": 2,
       "version_minor": 0
      },
      "text/plain": [
       "Backtest.optimize:   0%|          | 0/9 [00:00<?, ?it/s]"
      ]
     },
     "metadata": {},
     "output_type": "display_data"
    },
    {
     "data": {
      "application/vnd.jupyter.widget-view+json": {
       "model_id": "d183527f10c2425f9da65b715395a018",
       "version_major": 2,
       "version_minor": 0
      },
      "text/plain": [
       "Backtest.optimize:   0%|          | 0/9 [00:00<?, ?it/s]"
      ]
     },
     "metadata": {},
     "output_type": "display_data"
    },
    {
     "data": {
      "application/vnd.jupyter.widget-view+json": {
       "model_id": "02c4f1bf89514d288935d36a7394a84d",
       "version_major": 2,
       "version_minor": 0
      },
      "text/plain": [
       "Backtest.optimize:   0%|          | 0/9 [00:00<?, ?it/s]"
      ]
     },
     "metadata": {},
     "output_type": "display_data"
    },
    {
     "data": {
      "application/vnd.jupyter.widget-view+json": {
       "model_id": "280151bf89f54fefb6618a8bebf9190b",
       "version_major": 2,
       "version_minor": 0
      },
      "text/plain": [
       "Backtest.optimize:   0%|          | 0/9 [00:00<?, ?it/s]"
      ]
     },
     "metadata": {},
     "output_type": "display_data"
    },
    {
     "data": {
      "application/vnd.jupyter.widget-view+json": {
       "model_id": "1f78e59730104fbd805986639bba04a1",
       "version_major": 2,
       "version_minor": 0
      },
      "text/plain": [
       "Backtest.optimize:   0%|          | 0/9 [00:00<?, ?it/s]"
      ]
     },
     "metadata": {},
     "output_type": "display_data"
    },
    {
     "data": {
      "application/vnd.jupyter.widget-view+json": {
       "model_id": "375d1060474c475abf637c25c97556ce",
       "version_major": 2,
       "version_minor": 0
      },
      "text/plain": [
       "Backtest.optimize:   0%|          | 0/9 [00:00<?, ?it/s]"
      ]
     },
     "metadata": {},
     "output_type": "display_data"
    },
    {
     "data": {
      "application/vnd.jupyter.widget-view+json": {
       "model_id": "870819b718ab4bf2bc93c27b237b5c24",
       "version_major": 2,
       "version_minor": 0
      },
      "text/plain": [
       "Backtest.optimize:   0%|          | 0/9 [00:00<?, ?it/s]"
      ]
     },
     "metadata": {},
     "output_type": "display_data"
    },
    {
     "data": {
      "application/vnd.jupyter.widget-view+json": {
       "model_id": "7ccbbb8f8e3d413db4a1a5078b618ed3",
       "version_major": 2,
       "version_minor": 0
      },
      "text/plain": [
       "Backtest.optimize:   0%|          | 0/9 [00:00<?, ?it/s]"
      ]
     },
     "metadata": {},
     "output_type": "display_data"
    },
    {
     "data": {
      "application/vnd.jupyter.widget-view+json": {
       "model_id": "8e247adf25474f5ea83b0d54f4c74c4f",
       "version_major": 2,
       "version_minor": 0
      },
      "text/plain": [
       "Backtest.optimize:   0%|          | 0/9 [00:00<?, ?it/s]"
      ]
     },
     "metadata": {},
     "output_type": "display_data"
    },
    {
     "data": {
      "application/vnd.jupyter.widget-view+json": {
       "model_id": "3d2f0810f59646ba8d479aec65d4a582",
       "version_major": 2,
       "version_minor": 0
      },
      "text/plain": [
       "Backtest.optimize:   0%|          | 0/9 [00:00<?, ?it/s]"
      ]
     },
     "metadata": {},
     "output_type": "display_data"
    },
    {
     "data": {
      "application/vnd.jupyter.widget-view+json": {
       "model_id": "48a4607caa124eb5923a361537b7bb9c",
       "version_major": 2,
       "version_minor": 0
      },
      "text/plain": [
       "Backtest.optimize:   0%|          | 0/9 [00:00<?, ?it/s]"
      ]
     },
     "metadata": {},
     "output_type": "display_data"
    },
    {
     "data": {
      "application/vnd.jupyter.widget-view+json": {
       "model_id": "e1dd097cbb6c45d2bf289ea3120ef997",
       "version_major": 2,
       "version_minor": 0
      },
      "text/plain": [
       "Backtest.optimize:   0%|          | 0/9 [00:00<?, ?it/s]"
      ]
     },
     "metadata": {},
     "output_type": "display_data"
    },
    {
     "data": {
      "application/vnd.jupyter.widget-view+json": {
       "model_id": "7ec455cf547d47f69c8d16eed811306a",
       "version_major": 2,
       "version_minor": 0
      },
      "text/plain": [
       "Backtest.optimize:   0%|          | 0/9 [00:00<?, ?it/s]"
      ]
     },
     "metadata": {},
     "output_type": "display_data"
    },
    {
     "data": {
      "application/vnd.jupyter.widget-view+json": {
       "model_id": "60653024a99b43869ac17972d8f70dce",
       "version_major": 2,
       "version_minor": 0
      },
      "text/plain": [
       "Backtest.optimize:   0%|          | 0/9 [00:00<?, ?it/s]"
      ]
     },
     "metadata": {},
     "output_type": "display_data"
    },
    {
     "data": {
      "application/vnd.jupyter.widget-view+json": {
       "model_id": "869a832e307f40fe8bc39500e9de9aef",
       "version_major": 2,
       "version_minor": 0
      },
      "text/plain": [
       "Backtest.optimize:   0%|          | 0/9 [00:00<?, ?it/s]"
      ]
     },
     "metadata": {},
     "output_type": "display_data"
    },
    {
     "data": {
      "application/vnd.jupyter.widget-view+json": {
       "model_id": "6bc92d2aea2a428696e70d53e8bfd360",
       "version_major": 2,
       "version_minor": 0
      },
      "text/plain": [
       "Backtest.optimize:   0%|          | 0/9 [00:00<?, ?it/s]"
      ]
     },
     "metadata": {},
     "output_type": "display_data"
    },
    {
     "data": {
      "application/vnd.jupyter.widget-view+json": {
       "model_id": "ee34da5b8af041d199ed0ca296e9a218",
       "version_major": 2,
       "version_minor": 0
      },
      "text/plain": [
       "Backtest.optimize:   0%|          | 0/9 [00:00<?, ?it/s]"
      ]
     },
     "metadata": {},
     "output_type": "display_data"
    },
    {
     "data": {
      "application/vnd.jupyter.widget-view+json": {
       "model_id": "bacd76b25616405f83e4afe89e4a7ccb",
       "version_major": 2,
       "version_minor": 0
      },
      "text/plain": [
       "Backtest.optimize:   0%|          | 0/9 [00:00<?, ?it/s]"
      ]
     },
     "metadata": {},
     "output_type": "display_data"
    },
    {
     "data": {
      "application/vnd.jupyter.widget-view+json": {
       "model_id": "479e58f921e44923b9e06737d84ad1d2",
       "version_major": 2,
       "version_minor": 0
      },
      "text/plain": [
       "Backtest.optimize:   0%|          | 0/9 [00:00<?, ?it/s]"
      ]
     },
     "metadata": {},
     "output_type": "display_data"
    },
    {
     "data": {
      "application/vnd.jupyter.widget-view+json": {
       "model_id": "c36228ef5db84e949dbd4beea22d925b",
       "version_major": 2,
       "version_minor": 0
      },
      "text/plain": [
       "Backtest.optimize:   0%|          | 0/9 [00:00<?, ?it/s]"
      ]
     },
     "metadata": {},
     "output_type": "display_data"
    },
    {
     "data": {
      "application/vnd.jupyter.widget-view+json": {
       "model_id": "1965249f14ee400a8ffb6effc14559db",
       "version_major": 2,
       "version_minor": 0
      },
      "text/plain": [
       "Backtest.optimize:   0%|          | 0/9 [00:00<?, ?it/s]"
      ]
     },
     "metadata": {},
     "output_type": "display_data"
    },
    {
     "data": {
      "application/vnd.jupyter.widget-view+json": {
       "model_id": "7cd4e4a7b1424b77bbda702137bea25d",
       "version_major": 2,
       "version_minor": 0
      },
      "text/plain": [
       "Backtest.optimize:   0%|          | 0/9 [00:00<?, ?it/s]"
      ]
     },
     "metadata": {},
     "output_type": "display_data"
    },
    {
     "data": {
      "application/vnd.jupyter.widget-view+json": {
       "model_id": "95f47602b8e94efbbc9e0ef6dac8c333",
       "version_major": 2,
       "version_minor": 0
      },
      "text/plain": [
       "Backtest.optimize:   0%|          | 0/9 [00:00<?, ?it/s]"
      ]
     },
     "metadata": {},
     "output_type": "display_data"
    },
    {
     "data": {
      "application/vnd.jupyter.widget-view+json": {
       "model_id": "a17809465724432da1c9c0076c0de8f9",
       "version_major": 2,
       "version_minor": 0
      },
      "text/plain": [
       "Backtest.optimize:   0%|          | 0/9 [00:00<?, ?it/s]"
      ]
     },
     "metadata": {},
     "output_type": "display_data"
    },
    {
     "data": {
      "application/vnd.jupyter.widget-view+json": {
       "model_id": "5a6cb600c04646a9b1bdfb1582ad4ed7",
       "version_major": 2,
       "version_minor": 0
      },
      "text/plain": [
       "Backtest.optimize:   0%|          | 0/9 [00:00<?, ?it/s]"
      ]
     },
     "metadata": {},
     "output_type": "display_data"
    },
    {
     "data": {
      "application/vnd.jupyter.widget-view+json": {
       "model_id": "cdddbe7c79a1461089b7726d011af084",
       "version_major": 2,
       "version_minor": 0
      },
      "text/plain": [
       "Backtest.optimize:   0%|          | 0/9 [00:00<?, ?it/s]"
      ]
     },
     "metadata": {},
     "output_type": "display_data"
    },
    {
     "data": {
      "application/vnd.jupyter.widget-view+json": {
       "model_id": "785c8eba0a7e4bb3ac20055fb932c310",
       "version_major": 2,
       "version_minor": 0
      },
      "text/plain": [
       "Backtest.optimize:   0%|          | 0/9 [00:00<?, ?it/s]"
      ]
     },
     "metadata": {},
     "output_type": "display_data"
    },
    {
     "data": {
      "application/vnd.jupyter.widget-view+json": {
       "model_id": "0d53a334d0e643a183d0f220651fef02",
       "version_major": 2,
       "version_minor": 0
      },
      "text/plain": [
       "Backtest.optimize:   0%|          | 0/9 [00:00<?, ?it/s]"
      ]
     },
     "metadata": {},
     "output_type": "display_data"
    },
    {
     "data": {
      "application/vnd.jupyter.widget-view+json": {
       "model_id": "982339dd89a04533a867100faa476154",
       "version_major": 2,
       "version_minor": 0
      },
      "text/plain": [
       "Backtest.optimize:   0%|          | 0/9 [00:00<?, ?it/s]"
      ]
     },
     "metadata": {},
     "output_type": "display_data"
    },
    {
     "data": {
      "application/vnd.jupyter.widget-view+json": {
       "model_id": "4972aef1a0ab4a45a916a9df97d110cf",
       "version_major": 2,
       "version_minor": 0
      },
      "text/plain": [
       "Backtest.optimize:   0%|          | 0/9 [00:00<?, ?it/s]"
      ]
     },
     "metadata": {},
     "output_type": "display_data"
    },
    {
     "data": {
      "application/vnd.jupyter.widget-view+json": {
       "model_id": "fbbd9d9c346e47e28142cb709e74bdc2",
       "version_major": 2,
       "version_minor": 0
      },
      "text/plain": [
       "Backtest.optimize:   0%|          | 0/9 [00:00<?, ?it/s]"
      ]
     },
     "metadata": {},
     "output_type": "display_data"
    },
    {
     "data": {
      "application/vnd.jupyter.widget-view+json": {
       "model_id": "d6e5faf2818a4a92a91d3ac106748a65",
       "version_major": 2,
       "version_minor": 0
      },
      "text/plain": [
       "Backtest.optimize:   0%|          | 0/9 [00:00<?, ?it/s]"
      ]
     },
     "metadata": {},
     "output_type": "display_data"
    },
    {
     "data": {
      "application/vnd.jupyter.widget-view+json": {
       "model_id": "0a63dc7879e64b4f88f7616905539c1c",
       "version_major": 2,
       "version_minor": 0
      },
      "text/plain": [
       "Backtest.optimize:   0%|          | 0/9 [00:00<?, ?it/s]"
      ]
     },
     "metadata": {},
     "output_type": "display_data"
    },
    {
     "data": {
      "application/vnd.jupyter.widget-view+json": {
       "model_id": "a19f4fc8a6e345cd9bccc58aeef29f96",
       "version_major": 2,
       "version_minor": 0
      },
      "text/plain": [
       "Backtest.optimize:   0%|          | 0/9 [00:00<?, ?it/s]"
      ]
     },
     "metadata": {},
     "output_type": "display_data"
    },
    {
     "data": {
      "application/vnd.jupyter.widget-view+json": {
       "model_id": "d296927d54b540659c90f945e681210c",
       "version_major": 2,
       "version_minor": 0
      },
      "text/plain": [
       "Backtest.optimize:   0%|          | 0/9 [00:00<?, ?it/s]"
      ]
     },
     "metadata": {},
     "output_type": "display_data"
    },
    {
     "data": {
      "application/vnd.jupyter.widget-view+json": {
       "model_id": "6bd4893197c7438aab14e6830f8826a0",
       "version_major": 2,
       "version_minor": 0
      },
      "text/plain": [
       "Backtest.optimize:   0%|          | 0/9 [00:00<?, ?it/s]"
      ]
     },
     "metadata": {},
     "output_type": "display_data"
    },
    {
     "data": {
      "application/vnd.jupyter.widget-view+json": {
       "model_id": "c99912c3173845d2813ac4253a4287f0",
       "version_major": 2,
       "version_minor": 0
      },
      "text/plain": [
       "Backtest.optimize:   0%|          | 0/9 [00:00<?, ?it/s]"
      ]
     },
     "metadata": {},
     "output_type": "display_data"
    },
    {
     "data": {
      "application/vnd.jupyter.widget-view+json": {
       "model_id": "8fef6c6e2f3348009837a854aef348c2",
       "version_major": 2,
       "version_minor": 0
      },
      "text/plain": [
       "Backtest.optimize:   0%|          | 0/9 [00:00<?, ?it/s]"
      ]
     },
     "metadata": {},
     "output_type": "display_data"
    },
    {
     "data": {
      "application/vnd.jupyter.widget-view+json": {
       "model_id": "0bb195482e4e4b07b7cf2e03e0a7af5c",
       "version_major": 2,
       "version_minor": 0
      },
      "text/plain": [
       "Backtest.optimize:   0%|          | 0/9 [00:00<?, ?it/s]"
      ]
     },
     "metadata": {},
     "output_type": "display_data"
    },
    {
     "data": {
      "application/vnd.jupyter.widget-view+json": {
       "model_id": "f0c3fae4877848c48ab7b259d5d3b5e5",
       "version_major": 2,
       "version_minor": 0
      },
      "text/plain": [
       "Backtest.optimize:   0%|          | 0/9 [00:00<?, ?it/s]"
      ]
     },
     "metadata": {},
     "output_type": "display_data"
    },
    {
     "data": {
      "application/vnd.jupyter.widget-view+json": {
       "model_id": "a5feba6b9853412ca705facb1667f8b2",
       "version_major": 2,
       "version_minor": 0
      },
      "text/plain": [
       "Backtest.optimize:   0%|          | 0/9 [00:00<?, ?it/s]"
      ]
     },
     "metadata": {},
     "output_type": "display_data"
    },
    {
     "data": {
      "application/vnd.jupyter.widget-view+json": {
       "model_id": "0fd1e8df94a143a7920b1a1646490e6c",
       "version_major": 2,
       "version_minor": 0
      },
      "text/plain": [
       "Backtest.optimize:   0%|          | 0/9 [00:00<?, ?it/s]"
      ]
     },
     "metadata": {},
     "output_type": "display_data"
    },
    {
     "data": {
      "application/vnd.jupyter.widget-view+json": {
       "model_id": "e714223b77cb48ba9f7471a9325ef471",
       "version_major": 2,
       "version_minor": 0
      },
      "text/plain": [
       "Backtest.optimize:   0%|          | 0/9 [00:00<?, ?it/s]"
      ]
     },
     "metadata": {},
     "output_type": "display_data"
    },
    {
     "data": {
      "application/vnd.jupyter.widget-view+json": {
       "model_id": "48759af1c82b45d78b82464308f00e9e",
       "version_major": 2,
       "version_minor": 0
      },
      "text/plain": [
       "Backtest.optimize:   0%|          | 0/9 [00:00<?, ?it/s]"
      ]
     },
     "metadata": {},
     "output_type": "display_data"
    },
    {
     "data": {
      "application/vnd.jupyter.widget-view+json": {
       "model_id": "1de688bacf6d4350b3d335693fc4692a",
       "version_major": 2,
       "version_minor": 0
      },
      "text/plain": [
       "Backtest.optimize:   0%|          | 0/9 [00:00<?, ?it/s]"
      ]
     },
     "metadata": {},
     "output_type": "display_data"
    },
    {
     "data": {
      "application/vnd.jupyter.widget-view+json": {
       "model_id": "30765bf2ae504d08ab6e0c07191516a8",
       "version_major": 2,
       "version_minor": 0
      },
      "text/plain": [
       "Backtest.optimize:   0%|          | 0/9 [00:00<?, ?it/s]"
      ]
     },
     "metadata": {},
     "output_type": "display_data"
    },
    {
     "data": {
      "application/vnd.jupyter.widget-view+json": {
       "model_id": "13bae8b49063492ba215991d5fa5d5ce",
       "version_major": 2,
       "version_minor": 0
      },
      "text/plain": [
       "Backtest.optimize:   0%|          | 0/9 [00:00<?, ?it/s]"
      ]
     },
     "metadata": {},
     "output_type": "display_data"
    },
    {
     "data": {
      "application/vnd.jupyter.widget-view+json": {
       "model_id": "df7b7313a67844f2b2c4e02135b02c57",
       "version_major": 2,
       "version_minor": 0
      },
      "text/plain": [
       "Backtest.optimize:   0%|          | 0/9 [00:00<?, ?it/s]"
      ]
     },
     "metadata": {},
     "output_type": "display_data"
    },
    {
     "data": {
      "application/vnd.jupyter.widget-view+json": {
       "model_id": "a84565cc565f499a9e11706dfd6568d5",
       "version_major": 2,
       "version_minor": 0
      },
      "text/plain": [
       "Backtest.optimize:   0%|          | 0/9 [00:00<?, ?it/s]"
      ]
     },
     "metadata": {},
     "output_type": "display_data"
    },
    {
     "data": {
      "application/vnd.jupyter.widget-view+json": {
       "model_id": "5cbf8da81a77474b960cd3ee514ee6c4",
       "version_major": 2,
       "version_minor": 0
      },
      "text/plain": [
       "Backtest.optimize:   0%|          | 0/9 [00:00<?, ?it/s]"
      ]
     },
     "metadata": {},
     "output_type": "display_data"
    },
    {
     "data": {
      "application/vnd.jupyter.widget-view+json": {
       "model_id": "e037dde90d1b48549f6b73a7584edd43",
       "version_major": 2,
       "version_minor": 0
      },
      "text/plain": [
       "Backtest.optimize:   0%|          | 0/9 [00:00<?, ?it/s]"
      ]
     },
     "metadata": {},
     "output_type": "display_data"
    },
    {
     "data": {
      "application/vnd.jupyter.widget-view+json": {
       "model_id": "6bda38f418a544ce8154c2be5413502c",
       "version_major": 2,
       "version_minor": 0
      },
      "text/plain": [
       "Backtest.optimize:   0%|          | 0/9 [00:00<?, ?it/s]"
      ]
     },
     "metadata": {},
     "output_type": "display_data"
    },
    {
     "data": {
      "application/vnd.jupyter.widget-view+json": {
       "model_id": "808992a184c64a0fb18bcab7e5d0f8d3",
       "version_major": 2,
       "version_minor": 0
      },
      "text/plain": [
       "Backtest.optimize:   0%|          | 0/9 [00:00<?, ?it/s]"
      ]
     },
     "metadata": {},
     "output_type": "display_data"
    },
    {
     "data": {
      "application/vnd.jupyter.widget-view+json": {
       "model_id": "f918fa21f45644229c73f8be9ab852c4",
       "version_major": 2,
       "version_minor": 0
      },
      "text/plain": [
       "Backtest.optimize:   0%|          | 0/9 [00:00<?, ?it/s]"
      ]
     },
     "metadata": {},
     "output_type": "display_data"
    },
    {
     "data": {
      "application/vnd.jupyter.widget-view+json": {
       "model_id": "641e188781764318a3857b903beaf621",
       "version_major": 2,
       "version_minor": 0
      },
      "text/plain": [
       "Backtest.optimize:   0%|          | 0/9 [00:00<?, ?it/s]"
      ]
     },
     "metadata": {},
     "output_type": "display_data"
    },
    {
     "data": {
      "application/vnd.jupyter.widget-view+json": {
       "model_id": "fd497180244e4c308448fa0cbe40ec64",
       "version_major": 2,
       "version_minor": 0
      },
      "text/plain": [
       "Backtest.optimize:   0%|          | 0/9 [00:00<?, ?it/s]"
      ]
     },
     "metadata": {},
     "output_type": "display_data"
    },
    {
     "data": {
      "application/vnd.jupyter.widget-view+json": {
       "model_id": "ac1f6fde46b94b3b8d63e26440724b68",
       "version_major": 2,
       "version_minor": 0
      },
      "text/plain": [
       "Backtest.optimize:   0%|          | 0/9 [00:00<?, ?it/s]"
      ]
     },
     "metadata": {},
     "output_type": "display_data"
    },
    {
     "data": {
      "application/vnd.jupyter.widget-view+json": {
       "model_id": "c6fb024406e5400c8f09543a1dd25d5c",
       "version_major": 2,
       "version_minor": 0
      },
      "text/plain": [
       "Backtest.optimize:   0%|          | 0/9 [00:00<?, ?it/s]"
      ]
     },
     "metadata": {},
     "output_type": "display_data"
    },
    {
     "data": {
      "application/vnd.jupyter.widget-view+json": {
       "model_id": "ee18d58ec197401e88d1a184ff35959d",
       "version_major": 2,
       "version_minor": 0
      },
      "text/plain": [
       "Backtest.optimize:   0%|          | 0/9 [00:00<?, ?it/s]"
      ]
     },
     "metadata": {},
     "output_type": "display_data"
    },
    {
     "data": {
      "application/vnd.jupyter.widget-view+json": {
       "model_id": "3a93546d2155437095c44e449c2d9435",
       "version_major": 2,
       "version_minor": 0
      },
      "text/plain": [
       "Backtest.optimize:   0%|          | 0/9 [00:00<?, ?it/s]"
      ]
     },
     "metadata": {},
     "output_type": "display_data"
    },
    {
     "data": {
      "application/vnd.jupyter.widget-view+json": {
       "model_id": "fc51b9d0614c40499330e94f8496c9b6",
       "version_major": 2,
       "version_minor": 0
      },
      "text/plain": [
       "Backtest.optimize:   0%|          | 0/9 [00:00<?, ?it/s]"
      ]
     },
     "metadata": {},
     "output_type": "display_data"
    },
    {
     "data": {
      "application/vnd.jupyter.widget-view+json": {
       "model_id": "2f80f829d3364069ae56f225a125c25b",
       "version_major": 2,
       "version_minor": 0
      },
      "text/plain": [
       "Backtest.optimize:   0%|          | 0/9 [00:00<?, ?it/s]"
      ]
     },
     "metadata": {},
     "output_type": "display_data"
    },
    {
     "data": {
      "application/vnd.jupyter.widget-view+json": {
       "model_id": "2c525d6edba14f5bbf9d701253fc44b1",
       "version_major": 2,
       "version_minor": 0
      },
      "text/plain": [
       "Backtest.optimize:   0%|          | 0/9 [00:00<?, ?it/s]"
      ]
     },
     "metadata": {},
     "output_type": "display_data"
    },
    {
     "data": {
      "application/vnd.jupyter.widget-view+json": {
       "model_id": "9f03bcf42e8d41fbb686e21996ee19ad",
       "version_major": 2,
       "version_minor": 0
      },
      "text/plain": [
       "Backtest.optimize:   0%|          | 0/9 [00:00<?, ?it/s]"
      ]
     },
     "metadata": {},
     "output_type": "display_data"
    },
    {
     "data": {
      "application/vnd.jupyter.widget-view+json": {
       "model_id": "cf24ff62084e43fb8f701d858672dd2d",
       "version_major": 2,
       "version_minor": 0
      },
      "text/plain": [
       "Backtest.optimize:   0%|          | 0/9 [00:00<?, ?it/s]"
      ]
     },
     "metadata": {},
     "output_type": "display_data"
    },
    {
     "data": {
      "application/vnd.jupyter.widget-view+json": {
       "model_id": "d4ddcb0e61b54e2cbc37f25770b0a080",
       "version_major": 2,
       "version_minor": 0
      },
      "text/plain": [
       "Backtest.optimize:   0%|          | 0/9 [00:00<?, ?it/s]"
      ]
     },
     "metadata": {},
     "output_type": "display_data"
    },
    {
     "data": {
      "application/vnd.jupyter.widget-view+json": {
       "model_id": "9d097e21aa014134abbcff35b3fe27b8",
       "version_major": 2,
       "version_minor": 0
      },
      "text/plain": [
       "Backtest.optimize:   0%|          | 0/9 [00:00<?, ?it/s]"
      ]
     },
     "metadata": {},
     "output_type": "display_data"
    },
    {
     "data": {
      "application/vnd.jupyter.widget-view+json": {
       "model_id": "fafed19fe43d4a918c346838f76f25a4",
       "version_major": 2,
       "version_minor": 0
      },
      "text/plain": [
       "Backtest.optimize:   0%|          | 0/9 [00:00<?, ?it/s]"
      ]
     },
     "metadata": {},
     "output_type": "display_data"
    },
    {
     "data": {
      "application/vnd.jupyter.widget-view+json": {
       "model_id": "7d8dd505eb614019bc51902d852aadf4",
       "version_major": 2,
       "version_minor": 0
      },
      "text/plain": [
       "Backtest.optimize:   0%|          | 0/9 [00:00<?, ?it/s]"
      ]
     },
     "metadata": {},
     "output_type": "display_data"
    },
    {
     "data": {
      "application/vnd.jupyter.widget-view+json": {
       "model_id": "ab15c1d7f6c646ce88b2363b630f2868",
       "version_major": 2,
       "version_minor": 0
      },
      "text/plain": [
       "Backtest.optimize:   0%|          | 0/9 [00:00<?, ?it/s]"
      ]
     },
     "metadata": {},
     "output_type": "display_data"
    },
    {
     "data": {
      "application/vnd.jupyter.widget-view+json": {
       "model_id": "d7c0b106043247a9af0b5bf60942067e",
       "version_major": 2,
       "version_minor": 0
      },
      "text/plain": [
       "Backtest.optimize:   0%|          | 0/9 [00:00<?, ?it/s]"
      ]
     },
     "metadata": {},
     "output_type": "display_data"
    },
    {
     "data": {
      "application/vnd.jupyter.widget-view+json": {
       "model_id": "0724332cda8f48eaabddde5ac0e01838",
       "version_major": 2,
       "version_minor": 0
      },
      "text/plain": [
       "Backtest.optimize:   0%|          | 0/9 [00:00<?, ?it/s]"
      ]
     },
     "metadata": {},
     "output_type": "display_data"
    },
    {
     "name": "stderr",
     "output_type": "stream",
     "text": [
      " 22%|██▏       | 13/60 [25:42<1:32:33, 118.16s/it]"
     ]
    },
    {
     "name": "stdout",
     "output_type": "stream",
     "text": [
      "BTC-USD : best_params: None, best_performance: -inf\n",
      "BTC-USD : train_set: 2020-03-05 00:00:00 - 2020-09-20 00:00:00, test_set: 2020-09-21 00:00:00 - 2020-10-23 00:00:00\n"
     ]
    },
    {
     "data": {
      "application/vnd.jupyter.widget-view+json": {
       "model_id": "b2f0b041fefc464dbe6765a2061a1abe",
       "version_major": 2,
       "version_minor": 0
      },
      "text/plain": [
       "Backtest.optimize:   0%|          | 0/9 [00:00<?, ?it/s]"
      ]
     },
     "metadata": {},
     "output_type": "display_data"
    },
    {
     "data": {
      "application/vnd.jupyter.widget-view+json": {
       "model_id": "915d36d43dd14c7886758780b21ba28c",
       "version_major": 2,
       "version_minor": 0
      },
      "text/plain": [
       "Backtest.optimize:   0%|          | 0/9 [00:00<?, ?it/s]"
      ]
     },
     "metadata": {},
     "output_type": "display_data"
    },
    {
     "data": {
      "application/vnd.jupyter.widget-view+json": {
       "model_id": "a12cb6ca0a5a4f5f83b27d90b31cae37",
       "version_major": 2,
       "version_minor": 0
      },
      "text/plain": [
       "Backtest.optimize:   0%|          | 0/9 [00:00<?, ?it/s]"
      ]
     },
     "metadata": {},
     "output_type": "display_data"
    },
    {
     "data": {
      "application/vnd.jupyter.widget-view+json": {
       "model_id": "d3c08f48b2a74f66ab666de26320ffe7",
       "version_major": 2,
       "version_minor": 0
      },
      "text/plain": [
       "Backtest.optimize:   0%|          | 0/9 [00:00<?, ?it/s]"
      ]
     },
     "metadata": {},
     "output_type": "display_data"
    },
    {
     "data": {
      "application/vnd.jupyter.widget-view+json": {
       "model_id": "bd83c16a21ef43528de18fd789535ff6",
       "version_major": 2,
       "version_minor": 0
      },
      "text/plain": [
       "Backtest.optimize:   0%|          | 0/9 [00:00<?, ?it/s]"
      ]
     },
     "metadata": {},
     "output_type": "display_data"
    },
    {
     "data": {
      "application/vnd.jupyter.widget-view+json": {
       "model_id": "0c2604d373c24c7d9df3e2c8ab1e486a",
       "version_major": 2,
       "version_minor": 0
      },
      "text/plain": [
       "Backtest.optimize:   0%|          | 0/9 [00:00<?, ?it/s]"
      ]
     },
     "metadata": {},
     "output_type": "display_data"
    },
    {
     "data": {
      "application/vnd.jupyter.widget-view+json": {
       "model_id": "41db9d7dbcb44e939c6fdecf8ed8b091",
       "version_major": 2,
       "version_minor": 0
      },
      "text/plain": [
       "Backtest.optimize:   0%|          | 0/9 [00:00<?, ?it/s]"
      ]
     },
     "metadata": {},
     "output_type": "display_data"
    },
    {
     "data": {
      "application/vnd.jupyter.widget-view+json": {
       "model_id": "d83660b1a131431391c5995263f064a2",
       "version_major": 2,
       "version_minor": 0
      },
      "text/plain": [
       "Backtest.optimize:   0%|          | 0/9 [00:00<?, ?it/s]"
      ]
     },
     "metadata": {},
     "output_type": "display_data"
    },
    {
     "data": {
      "application/vnd.jupyter.widget-view+json": {
       "model_id": "640388f8c76245f7bd14d3f1d4e5d883",
       "version_major": 2,
       "version_minor": 0
      },
      "text/plain": [
       "Backtest.optimize:   0%|          | 0/9 [00:00<?, ?it/s]"
      ]
     },
     "metadata": {},
     "output_type": "display_data"
    },
    {
     "data": {
      "application/vnd.jupyter.widget-view+json": {
       "model_id": "496b6fbaab97435bb992d2892c2ca5eb",
       "version_major": 2,
       "version_minor": 0
      },
      "text/plain": [
       "Backtest.optimize:   0%|          | 0/9 [00:00<?, ?it/s]"
      ]
     },
     "metadata": {},
     "output_type": "display_data"
    },
    {
     "data": {
      "application/vnd.jupyter.widget-view+json": {
       "model_id": "20bc7ce7876c4b188530ec0ac6aad5d1",
       "version_major": 2,
       "version_minor": 0
      },
      "text/plain": [
       "Backtest.optimize:   0%|          | 0/9 [00:00<?, ?it/s]"
      ]
     },
     "metadata": {},
     "output_type": "display_data"
    },
    {
     "data": {
      "application/vnd.jupyter.widget-view+json": {
       "model_id": "6641056afbdf49df8fac4c6df305744e",
       "version_major": 2,
       "version_minor": 0
      },
      "text/plain": [
       "Backtest.optimize:   0%|          | 0/9 [00:00<?, ?it/s]"
      ]
     },
     "metadata": {},
     "output_type": "display_data"
    },
    {
     "data": {
      "application/vnd.jupyter.widget-view+json": {
       "model_id": "d96aa3636ae643cdb5008c3b7457508c",
       "version_major": 2,
       "version_minor": 0
      },
      "text/plain": [
       "Backtest.optimize:   0%|          | 0/9 [00:00<?, ?it/s]"
      ]
     },
     "metadata": {},
     "output_type": "display_data"
    },
    {
     "data": {
      "application/vnd.jupyter.widget-view+json": {
       "model_id": "ac753a4ffd124280939417fa12d088f6",
       "version_major": 2,
       "version_minor": 0
      },
      "text/plain": [
       "Backtest.optimize:   0%|          | 0/9 [00:00<?, ?it/s]"
      ]
     },
     "metadata": {},
     "output_type": "display_data"
    },
    {
     "data": {
      "application/vnd.jupyter.widget-view+json": {
       "model_id": "34ab018a341148bdb3626ecc95f7cd30",
       "version_major": 2,
       "version_minor": 0
      },
      "text/plain": [
       "Backtest.optimize:   0%|          | 0/9 [00:00<?, ?it/s]"
      ]
     },
     "metadata": {},
     "output_type": "display_data"
    },
    {
     "data": {
      "application/vnd.jupyter.widget-view+json": {
       "model_id": "b6ec2172c1cc406ca1cdfa8e4c8538c9",
       "version_major": 2,
       "version_minor": 0
      },
      "text/plain": [
       "Backtest.optimize:   0%|          | 0/9 [00:00<?, ?it/s]"
      ]
     },
     "metadata": {},
     "output_type": "display_data"
    },
    {
     "data": {
      "application/vnd.jupyter.widget-view+json": {
       "model_id": "03dc8ac075a544c39d266f87c215f301",
       "version_major": 2,
       "version_minor": 0
      },
      "text/plain": [
       "Backtest.optimize:   0%|          | 0/9 [00:00<?, ?it/s]"
      ]
     },
     "metadata": {},
     "output_type": "display_data"
    },
    {
     "data": {
      "application/vnd.jupyter.widget-view+json": {
       "model_id": "ea2fe79629534b28aece4848199ed00d",
       "version_major": 2,
       "version_minor": 0
      },
      "text/plain": [
       "Backtest.optimize:   0%|          | 0/9 [00:00<?, ?it/s]"
      ]
     },
     "metadata": {},
     "output_type": "display_data"
    },
    {
     "data": {
      "application/vnd.jupyter.widget-view+json": {
       "model_id": "ed470730a6754faca0e88aa8bf17b200",
       "version_major": 2,
       "version_minor": 0
      },
      "text/plain": [
       "Backtest.optimize:   0%|          | 0/9 [00:00<?, ?it/s]"
      ]
     },
     "metadata": {},
     "output_type": "display_data"
    },
    {
     "data": {
      "application/vnd.jupyter.widget-view+json": {
       "model_id": "54fe418b028a46bbaf5e3cd3a02eb12b",
       "version_major": 2,
       "version_minor": 0
      },
      "text/plain": [
       "Backtest.optimize:   0%|          | 0/9 [00:00<?, ?it/s]"
      ]
     },
     "metadata": {},
     "output_type": "display_data"
    },
    {
     "data": {
      "application/vnd.jupyter.widget-view+json": {
       "model_id": "f9db5b2473fe427884dfcf4912b23693",
       "version_major": 2,
       "version_minor": 0
      },
      "text/plain": [
       "Backtest.optimize:   0%|          | 0/9 [00:00<?, ?it/s]"
      ]
     },
     "metadata": {},
     "output_type": "display_data"
    },
    {
     "data": {
      "application/vnd.jupyter.widget-view+json": {
       "model_id": "ae49f749186c4f41832fdea5786c46f5",
       "version_major": 2,
       "version_minor": 0
      },
      "text/plain": [
       "Backtest.optimize:   0%|          | 0/9 [00:00<?, ?it/s]"
      ]
     },
     "metadata": {},
     "output_type": "display_data"
    },
    {
     "data": {
      "application/vnd.jupyter.widget-view+json": {
       "model_id": "1fd7d3115f234bb5bd94ee938377cb37",
       "version_major": 2,
       "version_minor": 0
      },
      "text/plain": [
       "Backtest.optimize:   0%|          | 0/9 [00:00<?, ?it/s]"
      ]
     },
     "metadata": {},
     "output_type": "display_data"
    },
    {
     "data": {
      "application/vnd.jupyter.widget-view+json": {
       "model_id": "3f1531eef3db4efb9ad96665b61cce80",
       "version_major": 2,
       "version_minor": 0
      },
      "text/plain": [
       "Backtest.optimize:   0%|          | 0/9 [00:00<?, ?it/s]"
      ]
     },
     "metadata": {},
     "output_type": "display_data"
    },
    {
     "data": {
      "application/vnd.jupyter.widget-view+json": {
       "model_id": "3cb608a973fe4981b55c96b0c21c8008",
       "version_major": 2,
       "version_minor": 0
      },
      "text/plain": [
       "Backtest.optimize:   0%|          | 0/9 [00:00<?, ?it/s]"
      ]
     },
     "metadata": {},
     "output_type": "display_data"
    },
    {
     "data": {
      "application/vnd.jupyter.widget-view+json": {
       "model_id": "103cc610896d4164b81ea6b7a8cf0ae4",
       "version_major": 2,
       "version_minor": 0
      },
      "text/plain": [
       "Backtest.optimize:   0%|          | 0/9 [00:00<?, ?it/s]"
      ]
     },
     "metadata": {},
     "output_type": "display_data"
    },
    {
     "data": {
      "application/vnd.jupyter.widget-view+json": {
       "model_id": "85aced00113a45cb95809b5a91211f6a",
       "version_major": 2,
       "version_minor": 0
      },
      "text/plain": [
       "Backtest.optimize:   0%|          | 0/9 [00:00<?, ?it/s]"
      ]
     },
     "metadata": {},
     "output_type": "display_data"
    },
    {
     "data": {
      "application/vnd.jupyter.widget-view+json": {
       "model_id": "96bf0c6db3e34fe7bc5b52b31953fa10",
       "version_major": 2,
       "version_minor": 0
      },
      "text/plain": [
       "Backtest.optimize:   0%|          | 0/9 [00:00<?, ?it/s]"
      ]
     },
     "metadata": {},
     "output_type": "display_data"
    },
    {
     "data": {
      "application/vnd.jupyter.widget-view+json": {
       "model_id": "4a8cf2d777e349d7bab9fafb891693be",
       "version_major": 2,
       "version_minor": 0
      },
      "text/plain": [
       "Backtest.optimize:   0%|          | 0/9 [00:00<?, ?it/s]"
      ]
     },
     "metadata": {},
     "output_type": "display_data"
    },
    {
     "data": {
      "application/vnd.jupyter.widget-view+json": {
       "model_id": "a45b38fc5dfb4f79a7eee70d0c8cd029",
       "version_major": 2,
       "version_minor": 0
      },
      "text/plain": [
       "Backtest.optimize:   0%|          | 0/9 [00:00<?, ?it/s]"
      ]
     },
     "metadata": {},
     "output_type": "display_data"
    },
    {
     "data": {
      "application/vnd.jupyter.widget-view+json": {
       "model_id": "9a68f083555b48b3acc3545d48fc9c3b",
       "version_major": 2,
       "version_minor": 0
      },
      "text/plain": [
       "Backtest.optimize:   0%|          | 0/9 [00:00<?, ?it/s]"
      ]
     },
     "metadata": {},
     "output_type": "display_data"
    },
    {
     "data": {
      "application/vnd.jupyter.widget-view+json": {
       "model_id": "38d5b5c566964d268f4bd4f951b1ce18",
       "version_major": 2,
       "version_minor": 0
      },
      "text/plain": [
       "Backtest.optimize:   0%|          | 0/9 [00:00<?, ?it/s]"
      ]
     },
     "metadata": {},
     "output_type": "display_data"
    },
    {
     "data": {
      "application/vnd.jupyter.widget-view+json": {
       "model_id": "892af83c4d7a42cd9519ed61b5711755",
       "version_major": 2,
       "version_minor": 0
      },
      "text/plain": [
       "Backtest.optimize:   0%|          | 0/9 [00:00<?, ?it/s]"
      ]
     },
     "metadata": {},
     "output_type": "display_data"
    },
    {
     "data": {
      "application/vnd.jupyter.widget-view+json": {
       "model_id": "5ca3a9a8e45040b0ac6483209b4e4980",
       "version_major": 2,
       "version_minor": 0
      },
      "text/plain": [
       "Backtest.optimize:   0%|          | 0/9 [00:00<?, ?it/s]"
      ]
     },
     "metadata": {},
     "output_type": "display_data"
    },
    {
     "data": {
      "application/vnd.jupyter.widget-view+json": {
       "model_id": "4fbfe85e74b44b8e928f8ffbbc8b5664",
       "version_major": 2,
       "version_minor": 0
      },
      "text/plain": [
       "Backtest.optimize:   0%|          | 0/9 [00:00<?, ?it/s]"
      ]
     },
     "metadata": {},
     "output_type": "display_data"
    },
    {
     "data": {
      "application/vnd.jupyter.widget-view+json": {
       "model_id": "c22a17c5affb4be1bf9b0bcfd6d7b724",
       "version_major": 2,
       "version_minor": 0
      },
      "text/plain": [
       "Backtest.optimize:   0%|          | 0/9 [00:00<?, ?it/s]"
      ]
     },
     "metadata": {},
     "output_type": "display_data"
    },
    {
     "data": {
      "application/vnd.jupyter.widget-view+json": {
       "model_id": "ac8c2726a79749f38646b059207d2519",
       "version_major": 2,
       "version_minor": 0
      },
      "text/plain": [
       "Backtest.optimize:   0%|          | 0/9 [00:00<?, ?it/s]"
      ]
     },
     "metadata": {},
     "output_type": "display_data"
    },
    {
     "data": {
      "application/vnd.jupyter.widget-view+json": {
       "model_id": "4b9b2abfa8604abb8a0e2116ee3ba0ee",
       "version_major": 2,
       "version_minor": 0
      },
      "text/plain": [
       "Backtest.optimize:   0%|          | 0/9 [00:00<?, ?it/s]"
      ]
     },
     "metadata": {},
     "output_type": "display_data"
    },
    {
     "data": {
      "application/vnd.jupyter.widget-view+json": {
       "model_id": "42aff85387dc440ebc0aa2f1053252e0",
       "version_major": 2,
       "version_minor": 0
      },
      "text/plain": [
       "Backtest.optimize:   0%|          | 0/9 [00:00<?, ?it/s]"
      ]
     },
     "metadata": {},
     "output_type": "display_data"
    },
    {
     "data": {
      "application/vnd.jupyter.widget-view+json": {
       "model_id": "3722a467a63b4f549613eae0f6b156bc",
       "version_major": 2,
       "version_minor": 0
      },
      "text/plain": [
       "Backtest.optimize:   0%|          | 0/9 [00:00<?, ?it/s]"
      ]
     },
     "metadata": {},
     "output_type": "display_data"
    },
    {
     "data": {
      "application/vnd.jupyter.widget-view+json": {
       "model_id": "81da53ed183049c4a7c11241891503e7",
       "version_major": 2,
       "version_minor": 0
      },
      "text/plain": [
       "Backtest.optimize:   0%|          | 0/9 [00:00<?, ?it/s]"
      ]
     },
     "metadata": {},
     "output_type": "display_data"
    },
    {
     "data": {
      "application/vnd.jupyter.widget-view+json": {
       "model_id": "40b6e5fe32bc4f328ece56cd5251a66b",
       "version_major": 2,
       "version_minor": 0
      },
      "text/plain": [
       "Backtest.optimize:   0%|          | 0/9 [00:00<?, ?it/s]"
      ]
     },
     "metadata": {},
     "output_type": "display_data"
    },
    {
     "data": {
      "application/vnd.jupyter.widget-view+json": {
       "model_id": "b35bc948b7a049db97b5b15e4badd97c",
       "version_major": 2,
       "version_minor": 0
      },
      "text/plain": [
       "Backtest.optimize:   0%|          | 0/9 [00:00<?, ?it/s]"
      ]
     },
     "metadata": {},
     "output_type": "display_data"
    },
    {
     "data": {
      "application/vnd.jupyter.widget-view+json": {
       "model_id": "d54b74011dca445f9f0d458fc38322c7",
       "version_major": 2,
       "version_minor": 0
      },
      "text/plain": [
       "Backtest.optimize:   0%|          | 0/9 [00:00<?, ?it/s]"
      ]
     },
     "metadata": {},
     "output_type": "display_data"
    },
    {
     "data": {
      "application/vnd.jupyter.widget-view+json": {
       "model_id": "e267d33e7b1a4acc92fae440a3b52b75",
       "version_major": 2,
       "version_minor": 0
      },
      "text/plain": [
       "Backtest.optimize:   0%|          | 0/9 [00:00<?, ?it/s]"
      ]
     },
     "metadata": {},
     "output_type": "display_data"
    },
    {
     "data": {
      "application/vnd.jupyter.widget-view+json": {
       "model_id": "5ab7118c25ea4c5d997ac841f8f342a1",
       "version_major": 2,
       "version_minor": 0
      },
      "text/plain": [
       "Backtest.optimize:   0%|          | 0/9 [00:00<?, ?it/s]"
      ]
     },
     "metadata": {},
     "output_type": "display_data"
    },
    {
     "data": {
      "application/vnd.jupyter.widget-view+json": {
       "model_id": "27a621271cba486bb817801176315aff",
       "version_major": 2,
       "version_minor": 0
      },
      "text/plain": [
       "Backtest.optimize:   0%|          | 0/9 [00:00<?, ?it/s]"
      ]
     },
     "metadata": {},
     "output_type": "display_data"
    },
    {
     "data": {
      "application/vnd.jupyter.widget-view+json": {
       "model_id": "8b17316a86384fc580d9fd85455635f6",
       "version_major": 2,
       "version_minor": 0
      },
      "text/plain": [
       "Backtest.optimize:   0%|          | 0/9 [00:00<?, ?it/s]"
      ]
     },
     "metadata": {},
     "output_type": "display_data"
    },
    {
     "data": {
      "application/vnd.jupyter.widget-view+json": {
       "model_id": "17be0359a47442d8825311fa81fda969",
       "version_major": 2,
       "version_minor": 0
      },
      "text/plain": [
       "Backtest.optimize:   0%|          | 0/9 [00:00<?, ?it/s]"
      ]
     },
     "metadata": {},
     "output_type": "display_data"
    },
    {
     "data": {
      "application/vnd.jupyter.widget-view+json": {
       "model_id": "cfcb4d40e769479caa7fea60496c7e92",
       "version_major": 2,
       "version_minor": 0
      },
      "text/plain": [
       "Backtest.optimize:   0%|          | 0/9 [00:00<?, ?it/s]"
      ]
     },
     "metadata": {},
     "output_type": "display_data"
    },
    {
     "data": {
      "application/vnd.jupyter.widget-view+json": {
       "model_id": "2cfd0342d0d541b19bab2be863caf776",
       "version_major": 2,
       "version_minor": 0
      },
      "text/plain": [
       "Backtest.optimize:   0%|          | 0/9 [00:00<?, ?it/s]"
      ]
     },
     "metadata": {},
     "output_type": "display_data"
    },
    {
     "data": {
      "application/vnd.jupyter.widget-view+json": {
       "model_id": "1ca852d3fd834df7be9dd73b1ccff2f8",
       "version_major": 2,
       "version_minor": 0
      },
      "text/plain": [
       "Backtest.optimize:   0%|          | 0/9 [00:00<?, ?it/s]"
      ]
     },
     "metadata": {},
     "output_type": "display_data"
    },
    {
     "data": {
      "application/vnd.jupyter.widget-view+json": {
       "model_id": "c898180e34d14e68aa48542d8d0dbffe",
       "version_major": 2,
       "version_minor": 0
      },
      "text/plain": [
       "Backtest.optimize:   0%|          | 0/9 [00:00<?, ?it/s]"
      ]
     },
     "metadata": {},
     "output_type": "display_data"
    },
    {
     "data": {
      "application/vnd.jupyter.widget-view+json": {
       "model_id": "115285ca0b8d49318bf68f7d7040d1c4",
       "version_major": 2,
       "version_minor": 0
      },
      "text/plain": [
       "Backtest.optimize:   0%|          | 0/9 [00:00<?, ?it/s]"
      ]
     },
     "metadata": {},
     "output_type": "display_data"
    },
    {
     "data": {
      "application/vnd.jupyter.widget-view+json": {
       "model_id": "3cc389a929a24fcb981c0b488f2d7117",
       "version_major": 2,
       "version_minor": 0
      },
      "text/plain": [
       "Backtest.optimize:   0%|          | 0/9 [00:00<?, ?it/s]"
      ]
     },
     "metadata": {},
     "output_type": "display_data"
    },
    {
     "data": {
      "application/vnd.jupyter.widget-view+json": {
       "model_id": "1941c0559f994efaaf99570fa2a26b34",
       "version_major": 2,
       "version_minor": 0
      },
      "text/plain": [
       "Backtest.optimize:   0%|          | 0/9 [00:00<?, ?it/s]"
      ]
     },
     "metadata": {},
     "output_type": "display_data"
    },
    {
     "data": {
      "application/vnd.jupyter.widget-view+json": {
       "model_id": "1b74379a56584ba0962511b9ebd5fc8c",
       "version_major": 2,
       "version_minor": 0
      },
      "text/plain": [
       "Backtest.optimize:   0%|          | 0/9 [00:00<?, ?it/s]"
      ]
     },
     "metadata": {},
     "output_type": "display_data"
    },
    {
     "data": {
      "application/vnd.jupyter.widget-view+json": {
       "model_id": "456c4ae9fa074ca9872efae683cfc87d",
       "version_major": 2,
       "version_minor": 0
      },
      "text/plain": [
       "Backtest.optimize:   0%|          | 0/9 [00:00<?, ?it/s]"
      ]
     },
     "metadata": {},
     "output_type": "display_data"
    },
    {
     "data": {
      "application/vnd.jupyter.widget-view+json": {
       "model_id": "7cb27cba81724bf387cfd55f18ac8606",
       "version_major": 2,
       "version_minor": 0
      },
      "text/plain": [
       "Backtest.optimize:   0%|          | 0/9 [00:00<?, ?it/s]"
      ]
     },
     "metadata": {},
     "output_type": "display_data"
    },
    {
     "data": {
      "application/vnd.jupyter.widget-view+json": {
       "model_id": "3088db0ab8b746468ad58ad3c1cec6e6",
       "version_major": 2,
       "version_minor": 0
      },
      "text/plain": [
       "Backtest.optimize:   0%|          | 0/9 [00:00<?, ?it/s]"
      ]
     },
     "metadata": {},
     "output_type": "display_data"
    },
    {
     "data": {
      "application/vnd.jupyter.widget-view+json": {
       "model_id": "8add1f760c9343faaa2e573d0a57b229",
       "version_major": 2,
       "version_minor": 0
      },
      "text/plain": [
       "Backtest.optimize:   0%|          | 0/9 [00:00<?, ?it/s]"
      ]
     },
     "metadata": {},
     "output_type": "display_data"
    },
    {
     "data": {
      "application/vnd.jupyter.widget-view+json": {
       "model_id": "91c267511b314a17b41f5c20703b41b3",
       "version_major": 2,
       "version_minor": 0
      },
      "text/plain": [
       "Backtest.optimize:   0%|          | 0/9 [00:00<?, ?it/s]"
      ]
     },
     "metadata": {},
     "output_type": "display_data"
    },
    {
     "data": {
      "application/vnd.jupyter.widget-view+json": {
       "model_id": "4f1ff5d19756484d83fa6c9ed78adf1a",
       "version_major": 2,
       "version_minor": 0
      },
      "text/plain": [
       "Backtest.optimize:   0%|          | 0/9 [00:00<?, ?it/s]"
      ]
     },
     "metadata": {},
     "output_type": "display_data"
    },
    {
     "data": {
      "application/vnd.jupyter.widget-view+json": {
       "model_id": "df61a5bc551e472a86ffe20504364475",
       "version_major": 2,
       "version_minor": 0
      },
      "text/plain": [
       "Backtest.optimize:   0%|          | 0/9 [00:00<?, ?it/s]"
      ]
     },
     "metadata": {},
     "output_type": "display_data"
    },
    {
     "data": {
      "application/vnd.jupyter.widget-view+json": {
       "model_id": "c88a25762103469e809db455d7cb5677",
       "version_major": 2,
       "version_minor": 0
      },
      "text/plain": [
       "Backtest.optimize:   0%|          | 0/9 [00:00<?, ?it/s]"
      ]
     },
     "metadata": {},
     "output_type": "display_data"
    },
    {
     "data": {
      "application/vnd.jupyter.widget-view+json": {
       "model_id": "7ae5622550b8462b9d5a150d5df54ceb",
       "version_major": 2,
       "version_minor": 0
      },
      "text/plain": [
       "Backtest.optimize:   0%|          | 0/9 [00:00<?, ?it/s]"
      ]
     },
     "metadata": {},
     "output_type": "display_data"
    },
    {
     "data": {
      "application/vnd.jupyter.widget-view+json": {
       "model_id": "6580f8aa264847ab890782ad29a06918",
       "version_major": 2,
       "version_minor": 0
      },
      "text/plain": [
       "Backtest.optimize:   0%|          | 0/9 [00:00<?, ?it/s]"
      ]
     },
     "metadata": {},
     "output_type": "display_data"
    },
    {
     "data": {
      "application/vnd.jupyter.widget-view+json": {
       "model_id": "cdc1354ec23d48ae9f5ba05cf5a85949",
       "version_major": 2,
       "version_minor": 0
      },
      "text/plain": [
       "Backtest.optimize:   0%|          | 0/9 [00:00<?, ?it/s]"
      ]
     },
     "metadata": {},
     "output_type": "display_data"
    },
    {
     "data": {
      "application/vnd.jupyter.widget-view+json": {
       "model_id": "8db7520c771e482ca1a15a9664ab3003",
       "version_major": 2,
       "version_minor": 0
      },
      "text/plain": [
       "Backtest.optimize:   0%|          | 0/9 [00:00<?, ?it/s]"
      ]
     },
     "metadata": {},
     "output_type": "display_data"
    },
    {
     "data": {
      "application/vnd.jupyter.widget-view+json": {
       "model_id": "f329944a044e4794ba93b1c998ecc3db",
       "version_major": 2,
       "version_minor": 0
      },
      "text/plain": [
       "Backtest.optimize:   0%|          | 0/9 [00:00<?, ?it/s]"
      ]
     },
     "metadata": {},
     "output_type": "display_data"
    },
    {
     "data": {
      "application/vnd.jupyter.widget-view+json": {
       "model_id": "0e4289bc8e214e53bfb922e4757507aa",
       "version_major": 2,
       "version_minor": 0
      },
      "text/plain": [
       "Backtest.optimize:   0%|          | 0/9 [00:00<?, ?it/s]"
      ]
     },
     "metadata": {},
     "output_type": "display_data"
    },
    {
     "data": {
      "application/vnd.jupyter.widget-view+json": {
       "model_id": "ca45a2ca48cf45afb98f879391a704d2",
       "version_major": 2,
       "version_minor": 0
      },
      "text/plain": [
       "Backtest.optimize:   0%|          | 0/9 [00:00<?, ?it/s]"
      ]
     },
     "metadata": {},
     "output_type": "display_data"
    },
    {
     "data": {
      "application/vnd.jupyter.widget-view+json": {
       "model_id": "22efa7e1eee445c09ef4291339367c1c",
       "version_major": 2,
       "version_minor": 0
      },
      "text/plain": [
       "Backtest.optimize:   0%|          | 0/9 [00:00<?, ?it/s]"
      ]
     },
     "metadata": {},
     "output_type": "display_data"
    },
    {
     "data": {
      "application/vnd.jupyter.widget-view+json": {
       "model_id": "ebbddf9d5a2e4a54a00861f582054f7f",
       "version_major": 2,
       "version_minor": 0
      },
      "text/plain": [
       "Backtest.optimize:   0%|          | 0/9 [00:00<?, ?it/s]"
      ]
     },
     "metadata": {},
     "output_type": "display_data"
    },
    {
     "data": {
      "application/vnd.jupyter.widget-view+json": {
       "model_id": "5eb8c3223fb24875a29a84fcfe16f7b7",
       "version_major": 2,
       "version_minor": 0
      },
      "text/plain": [
       "Backtest.optimize:   0%|          | 0/9 [00:00<?, ?it/s]"
      ]
     },
     "metadata": {},
     "output_type": "display_data"
    },
    {
     "data": {
      "application/vnd.jupyter.widget-view+json": {
       "model_id": "0634a9efe8af420dbe91e7aac63c949e",
       "version_major": 2,
       "version_minor": 0
      },
      "text/plain": [
       "Backtest.optimize:   0%|          | 0/9 [00:00<?, ?it/s]"
      ]
     },
     "metadata": {},
     "output_type": "display_data"
    },
    {
     "data": {
      "application/vnd.jupyter.widget-view+json": {
       "model_id": "bd479573387646a7a9f013e5b69e2762",
       "version_major": 2,
       "version_minor": 0
      },
      "text/plain": [
       "Backtest.optimize:   0%|          | 0/9 [00:00<?, ?it/s]"
      ]
     },
     "metadata": {},
     "output_type": "display_data"
    },
    {
     "data": {
      "application/vnd.jupyter.widget-view+json": {
       "model_id": "2d43cc49fe374378bffaeaebfb8b3e86",
       "version_major": 2,
       "version_minor": 0
      },
      "text/plain": [
       "Backtest.optimize:   0%|          | 0/9 [00:00<?, ?it/s]"
      ]
     },
     "metadata": {},
     "output_type": "display_data"
    },
    {
     "data": {
      "application/vnd.jupyter.widget-view+json": {
       "model_id": "37e36d9fd13e4fbab4222eed625dd3c1",
       "version_major": 2,
       "version_minor": 0
      },
      "text/plain": [
       "Backtest.optimize:   0%|          | 0/9 [00:00<?, ?it/s]"
      ]
     },
     "metadata": {},
     "output_type": "display_data"
    },
    {
     "data": {
      "application/vnd.jupyter.widget-view+json": {
       "model_id": "3b8a63908f964015a296bd3d7e05c3c6",
       "version_major": 2,
       "version_minor": 0
      },
      "text/plain": [
       "Backtest.optimize:   0%|          | 0/9 [00:00<?, ?it/s]"
      ]
     },
     "metadata": {},
     "output_type": "display_data"
    },
    {
     "data": {
      "application/vnd.jupyter.widget-view+json": {
       "model_id": "2dd0484f707543aa829337ba741519a5",
       "version_major": 2,
       "version_minor": 0
      },
      "text/plain": [
       "Backtest.optimize:   0%|          | 0/9 [00:00<?, ?it/s]"
      ]
     },
     "metadata": {},
     "output_type": "display_data"
    },
    {
     "name": "stderr",
     "output_type": "stream",
     "text": [
      " 23%|██▎       | 14/60 [27:33<1:28:56, 116.02s/it]"
     ]
    },
    {
     "name": "stdout",
     "output_type": "stream",
     "text": [
      "BTC-USD : best_params: None, best_performance: -inf\n",
      "BTC-USD : train_set: 2020-04-07 00:00:00 - 2020-10-23 00:00:00, test_set: 2020-10-24 00:00:00 - 2020-11-25 00:00:00\n"
     ]
    },
    {
     "data": {
      "application/vnd.jupyter.widget-view+json": {
       "model_id": "09c566c429f84f1cb8fb18b5016c10a6",
       "version_major": 2,
       "version_minor": 0
      },
      "text/plain": [
       "Backtest.optimize:   0%|          | 0/9 [00:00<?, ?it/s]"
      ]
     },
     "metadata": {},
     "output_type": "display_data"
    },
    {
     "data": {
      "application/vnd.jupyter.widget-view+json": {
       "model_id": "d9934944147e437abb0ab686a3b1db6a",
       "version_major": 2,
       "version_minor": 0
      },
      "text/plain": [
       "Backtest.optimize:   0%|          | 0/9 [00:00<?, ?it/s]"
      ]
     },
     "metadata": {},
     "output_type": "display_data"
    },
    {
     "data": {
      "application/vnd.jupyter.widget-view+json": {
       "model_id": "b64c6e29e1264687b380bf5de443917c",
       "version_major": 2,
       "version_minor": 0
      },
      "text/plain": [
       "Backtest.optimize:   0%|          | 0/9 [00:00<?, ?it/s]"
      ]
     },
     "metadata": {},
     "output_type": "display_data"
    },
    {
     "data": {
      "application/vnd.jupyter.widget-view+json": {
       "model_id": "e0d2dba418894d5f93591f4010fd5656",
       "version_major": 2,
       "version_minor": 0
      },
      "text/plain": [
       "Backtest.optimize:   0%|          | 0/9 [00:00<?, ?it/s]"
      ]
     },
     "metadata": {},
     "output_type": "display_data"
    },
    {
     "data": {
      "application/vnd.jupyter.widget-view+json": {
       "model_id": "28acc46fb44a48eca18e95203d626f0b",
       "version_major": 2,
       "version_minor": 0
      },
      "text/plain": [
       "Backtest.optimize:   0%|          | 0/9 [00:00<?, ?it/s]"
      ]
     },
     "metadata": {},
     "output_type": "display_data"
    },
    {
     "data": {
      "application/vnd.jupyter.widget-view+json": {
       "model_id": "180fce7f7ae34b72aae5bb6a66decf6c",
       "version_major": 2,
       "version_minor": 0
      },
      "text/plain": [
       "Backtest.optimize:   0%|          | 0/9 [00:00<?, ?it/s]"
      ]
     },
     "metadata": {},
     "output_type": "display_data"
    },
    {
     "data": {
      "application/vnd.jupyter.widget-view+json": {
       "model_id": "b89a85db5c2f4fb09a411ca12a5dedb1",
       "version_major": 2,
       "version_minor": 0
      },
      "text/plain": [
       "Backtest.optimize:   0%|          | 0/9 [00:00<?, ?it/s]"
      ]
     },
     "metadata": {},
     "output_type": "display_data"
    },
    {
     "data": {
      "application/vnd.jupyter.widget-view+json": {
       "model_id": "897f199d424148f9a778b0ec4d5388b4",
       "version_major": 2,
       "version_minor": 0
      },
      "text/plain": [
       "Backtest.optimize:   0%|          | 0/9 [00:00<?, ?it/s]"
      ]
     },
     "metadata": {},
     "output_type": "display_data"
    },
    {
     "data": {
      "application/vnd.jupyter.widget-view+json": {
       "model_id": "f9c415ea4a854e699fc82f46f402f0ab",
       "version_major": 2,
       "version_minor": 0
      },
      "text/plain": [
       "Backtest.optimize:   0%|          | 0/9 [00:00<?, ?it/s]"
      ]
     },
     "metadata": {},
     "output_type": "display_data"
    },
    {
     "data": {
      "application/vnd.jupyter.widget-view+json": {
       "model_id": "b397cb230fa14d90a61f89113c6330eb",
       "version_major": 2,
       "version_minor": 0
      },
      "text/plain": [
       "Backtest.optimize:   0%|          | 0/9 [00:00<?, ?it/s]"
      ]
     },
     "metadata": {},
     "output_type": "display_data"
    },
    {
     "data": {
      "application/vnd.jupyter.widget-view+json": {
       "model_id": "982697482cbb4a2b845e119855e5de26",
       "version_major": 2,
       "version_minor": 0
      },
      "text/plain": [
       "Backtest.optimize:   0%|          | 0/9 [00:00<?, ?it/s]"
      ]
     },
     "metadata": {},
     "output_type": "display_data"
    },
    {
     "data": {
      "application/vnd.jupyter.widget-view+json": {
       "model_id": "2cf1a1331f7c4a34a93ce95bbc32de2f",
       "version_major": 2,
       "version_minor": 0
      },
      "text/plain": [
       "Backtest.optimize:   0%|          | 0/9 [00:00<?, ?it/s]"
      ]
     },
     "metadata": {},
     "output_type": "display_data"
    },
    {
     "data": {
      "application/vnd.jupyter.widget-view+json": {
       "model_id": "502585e303e446e8b3b39701bb75a7f5",
       "version_major": 2,
       "version_minor": 0
      },
      "text/plain": [
       "Backtest.optimize:   0%|          | 0/9 [00:00<?, ?it/s]"
      ]
     },
     "metadata": {},
     "output_type": "display_data"
    },
    {
     "data": {
      "application/vnd.jupyter.widget-view+json": {
       "model_id": "c9cb1538ba784ab4ba8ef11429cfbd56",
       "version_major": 2,
       "version_minor": 0
      },
      "text/plain": [
       "Backtest.optimize:   0%|          | 0/9 [00:00<?, ?it/s]"
      ]
     },
     "metadata": {},
     "output_type": "display_data"
    },
    {
     "data": {
      "application/vnd.jupyter.widget-view+json": {
       "model_id": "b928d5fc3c8e4bfa9a383991e3bf5a97",
       "version_major": 2,
       "version_minor": 0
      },
      "text/plain": [
       "Backtest.optimize:   0%|          | 0/9 [00:00<?, ?it/s]"
      ]
     },
     "metadata": {},
     "output_type": "display_data"
    },
    {
     "data": {
      "application/vnd.jupyter.widget-view+json": {
       "model_id": "e1f22ef0951d4c2db6ff1215b74d7c7d",
       "version_major": 2,
       "version_minor": 0
      },
      "text/plain": [
       "Backtest.optimize:   0%|          | 0/9 [00:00<?, ?it/s]"
      ]
     },
     "metadata": {},
     "output_type": "display_data"
    },
    {
     "data": {
      "application/vnd.jupyter.widget-view+json": {
       "model_id": "01979bcdb07d4124b28f1216a43dec1b",
       "version_major": 2,
       "version_minor": 0
      },
      "text/plain": [
       "Backtest.optimize:   0%|          | 0/9 [00:00<?, ?it/s]"
      ]
     },
     "metadata": {},
     "output_type": "display_data"
    },
    {
     "data": {
      "application/vnd.jupyter.widget-view+json": {
       "model_id": "58a715bdd9b84acba350a156a1a011a3",
       "version_major": 2,
       "version_minor": 0
      },
      "text/plain": [
       "Backtest.optimize:   0%|          | 0/9 [00:00<?, ?it/s]"
      ]
     },
     "metadata": {},
     "output_type": "display_data"
    },
    {
     "data": {
      "application/vnd.jupyter.widget-view+json": {
       "model_id": "3b2580737a274f3fa27033a2bf4aea80",
       "version_major": 2,
       "version_minor": 0
      },
      "text/plain": [
       "Backtest.optimize:   0%|          | 0/9 [00:00<?, ?it/s]"
      ]
     },
     "metadata": {},
     "output_type": "display_data"
    },
    {
     "data": {
      "application/vnd.jupyter.widget-view+json": {
       "model_id": "9f8593eb2d1b4102b4f315941ea19764",
       "version_major": 2,
       "version_minor": 0
      },
      "text/plain": [
       "Backtest.optimize:   0%|          | 0/9 [00:00<?, ?it/s]"
      ]
     },
     "metadata": {},
     "output_type": "display_data"
    },
    {
     "data": {
      "application/vnd.jupyter.widget-view+json": {
       "model_id": "b21d9de6dc41487893330dadcb5ba59f",
       "version_major": 2,
       "version_minor": 0
      },
      "text/plain": [
       "Backtest.optimize:   0%|          | 0/9 [00:00<?, ?it/s]"
      ]
     },
     "metadata": {},
     "output_type": "display_data"
    },
    {
     "data": {
      "application/vnd.jupyter.widget-view+json": {
       "model_id": "90c759560acc43feb7d1ecc145566915",
       "version_major": 2,
       "version_minor": 0
      },
      "text/plain": [
       "Backtest.optimize:   0%|          | 0/9 [00:00<?, ?it/s]"
      ]
     },
     "metadata": {},
     "output_type": "display_data"
    },
    {
     "data": {
      "application/vnd.jupyter.widget-view+json": {
       "model_id": "c8b87ac1150d4380aa5b4b91bac3f81c",
       "version_major": 2,
       "version_minor": 0
      },
      "text/plain": [
       "Backtest.optimize:   0%|          | 0/9 [00:00<?, ?it/s]"
      ]
     },
     "metadata": {},
     "output_type": "display_data"
    },
    {
     "data": {
      "application/vnd.jupyter.widget-view+json": {
       "model_id": "02d7e4c967c64aa7a2def3cbed45bb6b",
       "version_major": 2,
       "version_minor": 0
      },
      "text/plain": [
       "Backtest.optimize:   0%|          | 0/9 [00:00<?, ?it/s]"
      ]
     },
     "metadata": {},
     "output_type": "display_data"
    },
    {
     "data": {
      "application/vnd.jupyter.widget-view+json": {
       "model_id": "938c8629bcfa4d9ebed53d6011c0a66e",
       "version_major": 2,
       "version_minor": 0
      },
      "text/plain": [
       "Backtest.optimize:   0%|          | 0/9 [00:00<?, ?it/s]"
      ]
     },
     "metadata": {},
     "output_type": "display_data"
    },
    {
     "data": {
      "application/vnd.jupyter.widget-view+json": {
       "model_id": "ccfc0fe04b4c4132b0079666a0b665d8",
       "version_major": 2,
       "version_minor": 0
      },
      "text/plain": [
       "Backtest.optimize:   0%|          | 0/9 [00:00<?, ?it/s]"
      ]
     },
     "metadata": {},
     "output_type": "display_data"
    },
    {
     "data": {
      "application/vnd.jupyter.widget-view+json": {
       "model_id": "7322b2a18ef24862b27f1cd1b170aa42",
       "version_major": 2,
       "version_minor": 0
      },
      "text/plain": [
       "Backtest.optimize:   0%|          | 0/9 [00:00<?, ?it/s]"
      ]
     },
     "metadata": {},
     "output_type": "display_data"
    },
    {
     "data": {
      "application/vnd.jupyter.widget-view+json": {
       "model_id": "1b8bb762f935410d978a6b44e25ffcfd",
       "version_major": 2,
       "version_minor": 0
      },
      "text/plain": [
       "Backtest.optimize:   0%|          | 0/9 [00:00<?, ?it/s]"
      ]
     },
     "metadata": {},
     "output_type": "display_data"
    },
    {
     "data": {
      "application/vnd.jupyter.widget-view+json": {
       "model_id": "6509e079af15469997c0fb6541291e43",
       "version_major": 2,
       "version_minor": 0
      },
      "text/plain": [
       "Backtest.optimize:   0%|          | 0/9 [00:00<?, ?it/s]"
      ]
     },
     "metadata": {},
     "output_type": "display_data"
    },
    {
     "data": {
      "application/vnd.jupyter.widget-view+json": {
       "model_id": "751b4c9f75d74ae19c6a48b36faa1b1a",
       "version_major": 2,
       "version_minor": 0
      },
      "text/plain": [
       "Backtest.optimize:   0%|          | 0/9 [00:00<?, ?it/s]"
      ]
     },
     "metadata": {},
     "output_type": "display_data"
    },
    {
     "data": {
      "application/vnd.jupyter.widget-view+json": {
       "model_id": "808ae33d20f8481694f8e5116a5a2a26",
       "version_major": 2,
       "version_minor": 0
      },
      "text/plain": [
       "Backtest.optimize:   0%|          | 0/9 [00:00<?, ?it/s]"
      ]
     },
     "metadata": {},
     "output_type": "display_data"
    },
    {
     "data": {
      "application/vnd.jupyter.widget-view+json": {
       "model_id": "e8295fa68cfa45c9a776a1bf4db99e93",
       "version_major": 2,
       "version_minor": 0
      },
      "text/plain": [
       "Backtest.optimize:   0%|          | 0/9 [00:00<?, ?it/s]"
      ]
     },
     "metadata": {},
     "output_type": "display_data"
    },
    {
     "data": {
      "application/vnd.jupyter.widget-view+json": {
       "model_id": "d97004b73afe4c599e5ed61653048c7b",
       "version_major": 2,
       "version_minor": 0
      },
      "text/plain": [
       "Backtest.optimize:   0%|          | 0/9 [00:00<?, ?it/s]"
      ]
     },
     "metadata": {},
     "output_type": "display_data"
    },
    {
     "data": {
      "application/vnd.jupyter.widget-view+json": {
       "model_id": "dd94fcb5553e423e9d789c09e306b3ea",
       "version_major": 2,
       "version_minor": 0
      },
      "text/plain": [
       "Backtest.optimize:   0%|          | 0/9 [00:00<?, ?it/s]"
      ]
     },
     "metadata": {},
     "output_type": "display_data"
    },
    {
     "data": {
      "application/vnd.jupyter.widget-view+json": {
       "model_id": "3616237fa1f147809f24e336e86214ca",
       "version_major": 2,
       "version_minor": 0
      },
      "text/plain": [
       "Backtest.optimize:   0%|          | 0/9 [00:00<?, ?it/s]"
      ]
     },
     "metadata": {},
     "output_type": "display_data"
    },
    {
     "data": {
      "application/vnd.jupyter.widget-view+json": {
       "model_id": "3a2fb9a006794e13bb0a323abe0682e9",
       "version_major": 2,
       "version_minor": 0
      },
      "text/plain": [
       "Backtest.optimize:   0%|          | 0/9 [00:00<?, ?it/s]"
      ]
     },
     "metadata": {},
     "output_type": "display_data"
    },
    {
     "data": {
      "application/vnd.jupyter.widget-view+json": {
       "model_id": "84bfb843ef7a440ba55f1478b6a747a8",
       "version_major": 2,
       "version_minor": 0
      },
      "text/plain": [
       "Backtest.optimize:   0%|          | 0/9 [00:00<?, ?it/s]"
      ]
     },
     "metadata": {},
     "output_type": "display_data"
    },
    {
     "data": {
      "application/vnd.jupyter.widget-view+json": {
       "model_id": "2f8f024edf3d46198e602f0ddb398589",
       "version_major": 2,
       "version_minor": 0
      },
      "text/plain": [
       "Backtest.optimize:   0%|          | 0/9 [00:00<?, ?it/s]"
      ]
     },
     "metadata": {},
     "output_type": "display_data"
    },
    {
     "data": {
      "application/vnd.jupyter.widget-view+json": {
       "model_id": "d12efdc70d8d49dd814c15a8929023c8",
       "version_major": 2,
       "version_minor": 0
      },
      "text/plain": [
       "Backtest.optimize:   0%|          | 0/9 [00:00<?, ?it/s]"
      ]
     },
     "metadata": {},
     "output_type": "display_data"
    },
    {
     "data": {
      "application/vnd.jupyter.widget-view+json": {
       "model_id": "f263dd098184414187297b09b574e4d5",
       "version_major": 2,
       "version_minor": 0
      },
      "text/plain": [
       "Backtest.optimize:   0%|          | 0/9 [00:00<?, ?it/s]"
      ]
     },
     "metadata": {},
     "output_type": "display_data"
    },
    {
     "data": {
      "application/vnd.jupyter.widget-view+json": {
       "model_id": "66133bb69a9f4ba0b75b94636eba2ac7",
       "version_major": 2,
       "version_minor": 0
      },
      "text/plain": [
       "Backtest.optimize:   0%|          | 0/9 [00:00<?, ?it/s]"
      ]
     },
     "metadata": {},
     "output_type": "display_data"
    },
    {
     "data": {
      "application/vnd.jupyter.widget-view+json": {
       "model_id": "095c20505e0d4decbe1b6c6fc52b80cf",
       "version_major": 2,
       "version_minor": 0
      },
      "text/plain": [
       "Backtest.optimize:   0%|          | 0/9 [00:00<?, ?it/s]"
      ]
     },
     "metadata": {},
     "output_type": "display_data"
    },
    {
     "data": {
      "application/vnd.jupyter.widget-view+json": {
       "model_id": "5227bac83aca42859be684eebc826b6f",
       "version_major": 2,
       "version_minor": 0
      },
      "text/plain": [
       "Backtest.optimize:   0%|          | 0/9 [00:00<?, ?it/s]"
      ]
     },
     "metadata": {},
     "output_type": "display_data"
    },
    {
     "data": {
      "application/vnd.jupyter.widget-view+json": {
       "model_id": "11f76607272940639762000a48f4d3a2",
       "version_major": 2,
       "version_minor": 0
      },
      "text/plain": [
       "Backtest.optimize:   0%|          | 0/9 [00:00<?, ?it/s]"
      ]
     },
     "metadata": {},
     "output_type": "display_data"
    },
    {
     "data": {
      "application/vnd.jupyter.widget-view+json": {
       "model_id": "1fd8f6c0f4d74af580890969e2955eec",
       "version_major": 2,
       "version_minor": 0
      },
      "text/plain": [
       "Backtest.optimize:   0%|          | 0/9 [00:00<?, ?it/s]"
      ]
     },
     "metadata": {},
     "output_type": "display_data"
    },
    {
     "data": {
      "application/vnd.jupyter.widget-view+json": {
       "model_id": "b905d16508ac447e81539664e8c06008",
       "version_major": 2,
       "version_minor": 0
      },
      "text/plain": [
       "Backtest.optimize:   0%|          | 0/9 [00:00<?, ?it/s]"
      ]
     },
     "metadata": {},
     "output_type": "display_data"
    },
    {
     "data": {
      "application/vnd.jupyter.widget-view+json": {
       "model_id": "235f09c1cd864627a043b286bbbac187",
       "version_major": 2,
       "version_minor": 0
      },
      "text/plain": [
       "Backtest.optimize:   0%|          | 0/9 [00:00<?, ?it/s]"
      ]
     },
     "metadata": {},
     "output_type": "display_data"
    },
    {
     "data": {
      "application/vnd.jupyter.widget-view+json": {
       "model_id": "dce55bd559f44998b0e9a6fa6fb2f8df",
       "version_major": 2,
       "version_minor": 0
      },
      "text/plain": [
       "Backtest.optimize:   0%|          | 0/9 [00:00<?, ?it/s]"
      ]
     },
     "metadata": {},
     "output_type": "display_data"
    },
    {
     "data": {
      "application/vnd.jupyter.widget-view+json": {
       "model_id": "c1e7b933755a49f6b5a727f805e2a1b6",
       "version_major": 2,
       "version_minor": 0
      },
      "text/plain": [
       "Backtest.optimize:   0%|          | 0/9 [00:00<?, ?it/s]"
      ]
     },
     "metadata": {},
     "output_type": "display_data"
    },
    {
     "data": {
      "application/vnd.jupyter.widget-view+json": {
       "model_id": "113e3aa9488c41bbbcea65ff8feb7694",
       "version_major": 2,
       "version_minor": 0
      },
      "text/plain": [
       "Backtest.optimize:   0%|          | 0/9 [00:00<?, ?it/s]"
      ]
     },
     "metadata": {},
     "output_type": "display_data"
    },
    {
     "data": {
      "application/vnd.jupyter.widget-view+json": {
       "model_id": "0d359466f14e4f24b0a53e69d3160c90",
       "version_major": 2,
       "version_minor": 0
      },
      "text/plain": [
       "Backtest.optimize:   0%|          | 0/9 [00:00<?, ?it/s]"
      ]
     },
     "metadata": {},
     "output_type": "display_data"
    },
    {
     "data": {
      "application/vnd.jupyter.widget-view+json": {
       "model_id": "9a8dd08e61774ea4bca440163d700f1e",
       "version_major": 2,
       "version_minor": 0
      },
      "text/plain": [
       "Backtest.optimize:   0%|          | 0/9 [00:00<?, ?it/s]"
      ]
     },
     "metadata": {},
     "output_type": "display_data"
    },
    {
     "data": {
      "application/vnd.jupyter.widget-view+json": {
       "model_id": "4168bdb43b0a4556bf814a601b56c605",
       "version_major": 2,
       "version_minor": 0
      },
      "text/plain": [
       "Backtest.optimize:   0%|          | 0/9 [00:00<?, ?it/s]"
      ]
     },
     "metadata": {},
     "output_type": "display_data"
    },
    {
     "data": {
      "application/vnd.jupyter.widget-view+json": {
       "model_id": "0cff2b278cb14b8bb63238766cd8702c",
       "version_major": 2,
       "version_minor": 0
      },
      "text/plain": [
       "Backtest.optimize:   0%|          | 0/9 [00:00<?, ?it/s]"
      ]
     },
     "metadata": {},
     "output_type": "display_data"
    },
    {
     "data": {
      "application/vnd.jupyter.widget-view+json": {
       "model_id": "7684d84858a54259b6b9319757220aea",
       "version_major": 2,
       "version_minor": 0
      },
      "text/plain": [
       "Backtest.optimize:   0%|          | 0/9 [00:00<?, ?it/s]"
      ]
     },
     "metadata": {},
     "output_type": "display_data"
    },
    {
     "data": {
      "application/vnd.jupyter.widget-view+json": {
       "model_id": "7bcd9af38b1c44adbc101875ecbeeb92",
       "version_major": 2,
       "version_minor": 0
      },
      "text/plain": [
       "Backtest.optimize:   0%|          | 0/9 [00:00<?, ?it/s]"
      ]
     },
     "metadata": {},
     "output_type": "display_data"
    },
    {
     "data": {
      "application/vnd.jupyter.widget-view+json": {
       "model_id": "af152d7b46434d0cbaec823cddf75e95",
       "version_major": 2,
       "version_minor": 0
      },
      "text/plain": [
       "Backtest.optimize:   0%|          | 0/9 [00:00<?, ?it/s]"
      ]
     },
     "metadata": {},
     "output_type": "display_data"
    },
    {
     "data": {
      "application/vnd.jupyter.widget-view+json": {
       "model_id": "c5cb0e9cb41d42f7918f61b2ef6d9dcf",
       "version_major": 2,
       "version_minor": 0
      },
      "text/plain": [
       "Backtest.optimize:   0%|          | 0/9 [00:00<?, ?it/s]"
      ]
     },
     "metadata": {},
     "output_type": "display_data"
    },
    {
     "data": {
      "application/vnd.jupyter.widget-view+json": {
       "model_id": "a94ffb13bd054ce294f4014b07458c38",
       "version_major": 2,
       "version_minor": 0
      },
      "text/plain": [
       "Backtest.optimize:   0%|          | 0/9 [00:00<?, ?it/s]"
      ]
     },
     "metadata": {},
     "output_type": "display_data"
    },
    {
     "data": {
      "application/vnd.jupyter.widget-view+json": {
       "model_id": "5532494764154f35a5a9095983bcb931",
       "version_major": 2,
       "version_minor": 0
      },
      "text/plain": [
       "Backtest.optimize:   0%|          | 0/9 [00:00<?, ?it/s]"
      ]
     },
     "metadata": {},
     "output_type": "display_data"
    },
    {
     "data": {
      "application/vnd.jupyter.widget-view+json": {
       "model_id": "1c1afbb16476403a9981303ad38e4fea",
       "version_major": 2,
       "version_minor": 0
      },
      "text/plain": [
       "Backtest.optimize:   0%|          | 0/9 [00:00<?, ?it/s]"
      ]
     },
     "metadata": {},
     "output_type": "display_data"
    },
    {
     "data": {
      "application/vnd.jupyter.widget-view+json": {
       "model_id": "892ddaef29474b5eaf63e0bd25d8f6b5",
       "version_major": 2,
       "version_minor": 0
      },
      "text/plain": [
       "Backtest.optimize:   0%|          | 0/9 [00:00<?, ?it/s]"
      ]
     },
     "metadata": {},
     "output_type": "display_data"
    },
    {
     "data": {
      "application/vnd.jupyter.widget-view+json": {
       "model_id": "e981abdf78e347f390451d5c4164cc0f",
       "version_major": 2,
       "version_minor": 0
      },
      "text/plain": [
       "Backtest.optimize:   0%|          | 0/9 [00:00<?, ?it/s]"
      ]
     },
     "metadata": {},
     "output_type": "display_data"
    },
    {
     "data": {
      "application/vnd.jupyter.widget-view+json": {
       "model_id": "b6e9cf7fca7143f5a556aa5991d12973",
       "version_major": 2,
       "version_minor": 0
      },
      "text/plain": [
       "Backtest.optimize:   0%|          | 0/9 [00:00<?, ?it/s]"
      ]
     },
     "metadata": {},
     "output_type": "display_data"
    },
    {
     "data": {
      "application/vnd.jupyter.widget-view+json": {
       "model_id": "fcd72a65d5bf48bb9ed8ead812c4563c",
       "version_major": 2,
       "version_minor": 0
      },
      "text/plain": [
       "Backtest.optimize:   0%|          | 0/9 [00:00<?, ?it/s]"
      ]
     },
     "metadata": {},
     "output_type": "display_data"
    },
    {
     "data": {
      "application/vnd.jupyter.widget-view+json": {
       "model_id": "07f6db4dd49c4cc48689705a71c6fb93",
       "version_major": 2,
       "version_minor": 0
      },
      "text/plain": [
       "Backtest.optimize:   0%|          | 0/9 [00:00<?, ?it/s]"
      ]
     },
     "metadata": {},
     "output_type": "display_data"
    },
    {
     "data": {
      "application/vnd.jupyter.widget-view+json": {
       "model_id": "9652577442de41c0b97cc346c786e858",
       "version_major": 2,
       "version_minor": 0
      },
      "text/plain": [
       "Backtest.optimize:   0%|          | 0/9 [00:00<?, ?it/s]"
      ]
     },
     "metadata": {},
     "output_type": "display_data"
    },
    {
     "data": {
      "application/vnd.jupyter.widget-view+json": {
       "model_id": "7fd9802ac9984e5e830d56602596abfc",
       "version_major": 2,
       "version_minor": 0
      },
      "text/plain": [
       "Backtest.optimize:   0%|          | 0/9 [00:00<?, ?it/s]"
      ]
     },
     "metadata": {},
     "output_type": "display_data"
    },
    {
     "data": {
      "application/vnd.jupyter.widget-view+json": {
       "model_id": "7a785f21e47045c3bce3d513382bf3f1",
       "version_major": 2,
       "version_minor": 0
      },
      "text/plain": [
       "Backtest.optimize:   0%|          | 0/9 [00:00<?, ?it/s]"
      ]
     },
     "metadata": {},
     "output_type": "display_data"
    },
    {
     "data": {
      "application/vnd.jupyter.widget-view+json": {
       "model_id": "aaeb31a170e4427a91a319e4f3552814",
       "version_major": 2,
       "version_minor": 0
      },
      "text/plain": [
       "Backtest.optimize:   0%|          | 0/9 [00:00<?, ?it/s]"
      ]
     },
     "metadata": {},
     "output_type": "display_data"
    },
    {
     "data": {
      "application/vnd.jupyter.widget-view+json": {
       "model_id": "b69c30015de3411288ec29c42205221e",
       "version_major": 2,
       "version_minor": 0
      },
      "text/plain": [
       "Backtest.optimize:   0%|          | 0/9 [00:00<?, ?it/s]"
      ]
     },
     "metadata": {},
     "output_type": "display_data"
    },
    {
     "data": {
      "application/vnd.jupyter.widget-view+json": {
       "model_id": "57db5054cc9e48f2b90ac4fb868cfa04",
       "version_major": 2,
       "version_minor": 0
      },
      "text/plain": [
       "Backtest.optimize:   0%|          | 0/9 [00:00<?, ?it/s]"
      ]
     },
     "metadata": {},
     "output_type": "display_data"
    },
    {
     "data": {
      "application/vnd.jupyter.widget-view+json": {
       "model_id": "26c345408bd7420f8191af2c6888b21c",
       "version_major": 2,
       "version_minor": 0
      },
      "text/plain": [
       "Backtest.optimize:   0%|          | 0/9 [00:00<?, ?it/s]"
      ]
     },
     "metadata": {},
     "output_type": "display_data"
    },
    {
     "data": {
      "application/vnd.jupyter.widget-view+json": {
       "model_id": "2bdbfb57b4bc45eb8ca3f81d64d71874",
       "version_major": 2,
       "version_minor": 0
      },
      "text/plain": [
       "Backtest.optimize:   0%|          | 0/9 [00:00<?, ?it/s]"
      ]
     },
     "metadata": {},
     "output_type": "display_data"
    },
    {
     "data": {
      "application/vnd.jupyter.widget-view+json": {
       "model_id": "8b9d0e185fe841349756f51ed9d2e79c",
       "version_major": 2,
       "version_minor": 0
      },
      "text/plain": [
       "Backtest.optimize:   0%|          | 0/9 [00:00<?, ?it/s]"
      ]
     },
     "metadata": {},
     "output_type": "display_data"
    },
    {
     "data": {
      "application/vnd.jupyter.widget-view+json": {
       "model_id": "c45896c5d0a54641b93dd7f9d86246c7",
       "version_major": 2,
       "version_minor": 0
      },
      "text/plain": [
       "Backtest.optimize:   0%|          | 0/9 [00:00<?, ?it/s]"
      ]
     },
     "metadata": {},
     "output_type": "display_data"
    },
    {
     "data": {
      "application/vnd.jupyter.widget-view+json": {
       "model_id": "6789e80420254efb8aaa783307b0557d",
       "version_major": 2,
       "version_minor": 0
      },
      "text/plain": [
       "Backtest.optimize:   0%|          | 0/9 [00:00<?, ?it/s]"
      ]
     },
     "metadata": {},
     "output_type": "display_data"
    },
    {
     "data": {
      "application/vnd.jupyter.widget-view+json": {
       "model_id": "0afad9d46f314a0791a6699fb9ee46f6",
       "version_major": 2,
       "version_minor": 0
      },
      "text/plain": [
       "Backtest.optimize:   0%|          | 0/9 [00:00<?, ?it/s]"
      ]
     },
     "metadata": {},
     "output_type": "display_data"
    },
    {
     "data": {
      "application/vnd.jupyter.widget-view+json": {
       "model_id": "2e18909e50234c76920fe147a4d972f7",
       "version_major": 2,
       "version_minor": 0
      },
      "text/plain": [
       "Backtest.optimize:   0%|          | 0/9 [00:00<?, ?it/s]"
      ]
     },
     "metadata": {},
     "output_type": "display_data"
    },
    {
     "data": {
      "application/vnd.jupyter.widget-view+json": {
       "model_id": "c1a6599133584941be42ca700929f8c3",
       "version_major": 2,
       "version_minor": 0
      },
      "text/plain": [
       "Backtest.optimize:   0%|          | 0/9 [00:00<?, ?it/s]"
      ]
     },
     "metadata": {},
     "output_type": "display_data"
    },
    {
     "data": {
      "application/vnd.jupyter.widget-view+json": {
       "model_id": "83955450f0bb411fa8c5f83e21a9c027",
       "version_major": 2,
       "version_minor": 0
      },
      "text/plain": [
       "Backtest.optimize:   0%|          | 0/9 [00:00<?, ?it/s]"
      ]
     },
     "metadata": {},
     "output_type": "display_data"
    },
    {
     "name": "stderr",
     "output_type": "stream",
     "text": [
      " 25%|██▌       | 15/60 [29:23<1:25:37, 114.16s/it]"
     ]
    },
    {
     "name": "stdout",
     "output_type": "stream",
     "text": [
      "BTC-USD : best_params: None, best_performance: -inf\n",
      "BTC-USD : train_set: 2020-05-10 00:00:00 - 2020-11-25 00:00:00, test_set: 2020-11-26 00:00:00 - 2020-12-28 00:00:00\n"
     ]
    },
    {
     "data": {
      "application/vnd.jupyter.widget-view+json": {
       "model_id": "ad937ee0a43343e399f9a445522b1ac5",
       "version_major": 2,
       "version_minor": 0
      },
      "text/plain": [
       "Backtest.optimize:   0%|          | 0/9 [00:00<?, ?it/s]"
      ]
     },
     "metadata": {},
     "output_type": "display_data"
    },
    {
     "data": {
      "application/vnd.jupyter.widget-view+json": {
       "model_id": "ae74175f756f499da8e65dd8f1a4f59f",
       "version_major": 2,
       "version_minor": 0
      },
      "text/plain": [
       "Backtest.optimize:   0%|          | 0/9 [00:00<?, ?it/s]"
      ]
     },
     "metadata": {},
     "output_type": "display_data"
    },
    {
     "data": {
      "application/vnd.jupyter.widget-view+json": {
       "model_id": "6582c3eba7664cdf8013a2d3d38bc57e",
       "version_major": 2,
       "version_minor": 0
      },
      "text/plain": [
       "Backtest.optimize:   0%|          | 0/9 [00:00<?, ?it/s]"
      ]
     },
     "metadata": {},
     "output_type": "display_data"
    },
    {
     "data": {
      "application/vnd.jupyter.widget-view+json": {
       "model_id": "b4d435af45f34c41ad836bf0d338b9ba",
       "version_major": 2,
       "version_minor": 0
      },
      "text/plain": [
       "Backtest.optimize:   0%|          | 0/9 [00:00<?, ?it/s]"
      ]
     },
     "metadata": {},
     "output_type": "display_data"
    },
    {
     "data": {
      "application/vnd.jupyter.widget-view+json": {
       "model_id": "1bfe6cc02e454ff09f70e5b61b7d049b",
       "version_major": 2,
       "version_minor": 0
      },
      "text/plain": [
       "Backtest.optimize:   0%|          | 0/9 [00:00<?, ?it/s]"
      ]
     },
     "metadata": {},
     "output_type": "display_data"
    },
    {
     "data": {
      "application/vnd.jupyter.widget-view+json": {
       "model_id": "9fa405b5610645d4918ee71287db30e5",
       "version_major": 2,
       "version_minor": 0
      },
      "text/plain": [
       "Backtest.optimize:   0%|          | 0/9 [00:00<?, ?it/s]"
      ]
     },
     "metadata": {},
     "output_type": "display_data"
    },
    {
     "data": {
      "application/vnd.jupyter.widget-view+json": {
       "model_id": "ba3e8df722b44afbbf8df450c4d848a7",
       "version_major": 2,
       "version_minor": 0
      },
      "text/plain": [
       "Backtest.optimize:   0%|          | 0/9 [00:00<?, ?it/s]"
      ]
     },
     "metadata": {},
     "output_type": "display_data"
    },
    {
     "data": {
      "application/vnd.jupyter.widget-view+json": {
       "model_id": "e5e586ddc1a746e9aaf61bfd19938e2a",
       "version_major": 2,
       "version_minor": 0
      },
      "text/plain": [
       "Backtest.optimize:   0%|          | 0/9 [00:00<?, ?it/s]"
      ]
     },
     "metadata": {},
     "output_type": "display_data"
    },
    {
     "data": {
      "application/vnd.jupyter.widget-view+json": {
       "model_id": "02c4e1f3fe8245c9917b3e0d18d5d6d2",
       "version_major": 2,
       "version_minor": 0
      },
      "text/plain": [
       "Backtest.optimize:   0%|          | 0/9 [00:00<?, ?it/s]"
      ]
     },
     "metadata": {},
     "output_type": "display_data"
    },
    {
     "data": {
      "application/vnd.jupyter.widget-view+json": {
       "model_id": "ac2b5156efa34ef2bfc3a13dbc2e2c04",
       "version_major": 2,
       "version_minor": 0
      },
      "text/plain": [
       "Backtest.optimize:   0%|          | 0/9 [00:00<?, ?it/s]"
      ]
     },
     "metadata": {},
     "output_type": "display_data"
    },
    {
     "data": {
      "application/vnd.jupyter.widget-view+json": {
       "model_id": "40f5f967e20d43f194f71937416b5274",
       "version_major": 2,
       "version_minor": 0
      },
      "text/plain": [
       "Backtest.optimize:   0%|          | 0/9 [00:00<?, ?it/s]"
      ]
     },
     "metadata": {},
     "output_type": "display_data"
    },
    {
     "data": {
      "application/vnd.jupyter.widget-view+json": {
       "model_id": "e8d165378dd649edb7caf87d0b0401ea",
       "version_major": 2,
       "version_minor": 0
      },
      "text/plain": [
       "Backtest.optimize:   0%|          | 0/9 [00:00<?, ?it/s]"
      ]
     },
     "metadata": {},
     "output_type": "display_data"
    },
    {
     "data": {
      "application/vnd.jupyter.widget-view+json": {
       "model_id": "dde5a1775d4140b881422686ec95fc53",
       "version_major": 2,
       "version_minor": 0
      },
      "text/plain": [
       "Backtest.optimize:   0%|          | 0/9 [00:00<?, ?it/s]"
      ]
     },
     "metadata": {},
     "output_type": "display_data"
    },
    {
     "data": {
      "application/vnd.jupyter.widget-view+json": {
       "model_id": "dc098f8d0a334cd0838f93dc0b419648",
       "version_major": 2,
       "version_minor": 0
      },
      "text/plain": [
       "Backtest.optimize:   0%|          | 0/9 [00:00<?, ?it/s]"
      ]
     },
     "metadata": {},
     "output_type": "display_data"
    },
    {
     "data": {
      "application/vnd.jupyter.widget-view+json": {
       "model_id": "30caa751dcdd43869e4ea85bf334c16a",
       "version_major": 2,
       "version_minor": 0
      },
      "text/plain": [
       "Backtest.optimize:   0%|          | 0/9 [00:00<?, ?it/s]"
      ]
     },
     "metadata": {},
     "output_type": "display_data"
    },
    {
     "data": {
      "application/vnd.jupyter.widget-view+json": {
       "model_id": "cdd66cab483a4640870775f119f8eb73",
       "version_major": 2,
       "version_minor": 0
      },
      "text/plain": [
       "Backtest.optimize:   0%|          | 0/9 [00:00<?, ?it/s]"
      ]
     },
     "metadata": {},
     "output_type": "display_data"
    },
    {
     "data": {
      "application/vnd.jupyter.widget-view+json": {
       "model_id": "fdc84f9f10ef4eb5ae9d3e9250e02412",
       "version_major": 2,
       "version_minor": 0
      },
      "text/plain": [
       "Backtest.optimize:   0%|          | 0/9 [00:00<?, ?it/s]"
      ]
     },
     "metadata": {},
     "output_type": "display_data"
    },
    {
     "data": {
      "application/vnd.jupyter.widget-view+json": {
       "model_id": "849b36ec21924b3aa4cc3d047b7974c0",
       "version_major": 2,
       "version_minor": 0
      },
      "text/plain": [
       "Backtest.optimize:   0%|          | 0/9 [00:00<?, ?it/s]"
      ]
     },
     "metadata": {},
     "output_type": "display_data"
    },
    {
     "data": {
      "application/vnd.jupyter.widget-view+json": {
       "model_id": "4e33247caf4d43668bb826a22f3a5fb9",
       "version_major": 2,
       "version_minor": 0
      },
      "text/plain": [
       "Backtest.optimize:   0%|          | 0/9 [00:00<?, ?it/s]"
      ]
     },
     "metadata": {},
     "output_type": "display_data"
    },
    {
     "data": {
      "application/vnd.jupyter.widget-view+json": {
       "model_id": "a4b97907e22d499795edb44a24dcfbb3",
       "version_major": 2,
       "version_minor": 0
      },
      "text/plain": [
       "Backtest.optimize:   0%|          | 0/9 [00:00<?, ?it/s]"
      ]
     },
     "metadata": {},
     "output_type": "display_data"
    },
    {
     "data": {
      "application/vnd.jupyter.widget-view+json": {
       "model_id": "ff6cfd4bd38242b9b7d14520d01ac80a",
       "version_major": 2,
       "version_minor": 0
      },
      "text/plain": [
       "Backtest.optimize:   0%|          | 0/9 [00:00<?, ?it/s]"
      ]
     },
     "metadata": {},
     "output_type": "display_data"
    },
    {
     "data": {
      "application/vnd.jupyter.widget-view+json": {
       "model_id": "0ddc9aa9d97847d6a89c9741ff2767fd",
       "version_major": 2,
       "version_minor": 0
      },
      "text/plain": [
       "Backtest.optimize:   0%|          | 0/9 [00:00<?, ?it/s]"
      ]
     },
     "metadata": {},
     "output_type": "display_data"
    },
    {
     "data": {
      "application/vnd.jupyter.widget-view+json": {
       "model_id": "55b2617bc3444c3aaa73ef01c327c6cd",
       "version_major": 2,
       "version_minor": 0
      },
      "text/plain": [
       "Backtest.optimize:   0%|          | 0/9 [00:00<?, ?it/s]"
      ]
     },
     "metadata": {},
     "output_type": "display_data"
    },
    {
     "data": {
      "application/vnd.jupyter.widget-view+json": {
       "model_id": "bb88004078484d6da06be5e1206b7ea3",
       "version_major": 2,
       "version_minor": 0
      },
      "text/plain": [
       "Backtest.optimize:   0%|          | 0/9 [00:00<?, ?it/s]"
      ]
     },
     "metadata": {},
     "output_type": "display_data"
    },
    {
     "data": {
      "application/vnd.jupyter.widget-view+json": {
       "model_id": "941f35877815404ca7ac46387585ca4f",
       "version_major": 2,
       "version_minor": 0
      },
      "text/plain": [
       "Backtest.optimize:   0%|          | 0/9 [00:00<?, ?it/s]"
      ]
     },
     "metadata": {},
     "output_type": "display_data"
    },
    {
     "data": {
      "application/vnd.jupyter.widget-view+json": {
       "model_id": "11f6762827de4606bfe8ff0ca35c87e8",
       "version_major": 2,
       "version_minor": 0
      },
      "text/plain": [
       "Backtest.optimize:   0%|          | 0/9 [00:00<?, ?it/s]"
      ]
     },
     "metadata": {},
     "output_type": "display_data"
    },
    {
     "data": {
      "application/vnd.jupyter.widget-view+json": {
       "model_id": "17780564ece9498e9198dd1889151864",
       "version_major": 2,
       "version_minor": 0
      },
      "text/plain": [
       "Backtest.optimize:   0%|          | 0/9 [00:00<?, ?it/s]"
      ]
     },
     "metadata": {},
     "output_type": "display_data"
    },
    {
     "data": {
      "application/vnd.jupyter.widget-view+json": {
       "model_id": "e4a56c0ea6c7454890600910d3af3b58",
       "version_major": 2,
       "version_minor": 0
      },
      "text/plain": [
       "Backtest.optimize:   0%|          | 0/9 [00:00<?, ?it/s]"
      ]
     },
     "metadata": {},
     "output_type": "display_data"
    },
    {
     "data": {
      "application/vnd.jupyter.widget-view+json": {
       "model_id": "5a3ffc401f97484aa425e89ec15a5882",
       "version_major": 2,
       "version_minor": 0
      },
      "text/plain": [
       "Backtest.optimize:   0%|          | 0/9 [00:00<?, ?it/s]"
      ]
     },
     "metadata": {},
     "output_type": "display_data"
    },
    {
     "data": {
      "application/vnd.jupyter.widget-view+json": {
       "model_id": "ed05fa28c7b1478e96e3e4e14405cc8b",
       "version_major": 2,
       "version_minor": 0
      },
      "text/plain": [
       "Backtest.optimize:   0%|          | 0/9 [00:00<?, ?it/s]"
      ]
     },
     "metadata": {},
     "output_type": "display_data"
    },
    {
     "data": {
      "application/vnd.jupyter.widget-view+json": {
       "model_id": "8bd7fd1df50e4507a565376b67bd6e91",
       "version_major": 2,
       "version_minor": 0
      },
      "text/plain": [
       "Backtest.optimize:   0%|          | 0/9 [00:00<?, ?it/s]"
      ]
     },
     "metadata": {},
     "output_type": "display_data"
    },
    {
     "data": {
      "application/vnd.jupyter.widget-view+json": {
       "model_id": "9a58d0971c914ac28344259284d479eb",
       "version_major": 2,
       "version_minor": 0
      },
      "text/plain": [
       "Backtest.optimize:   0%|          | 0/9 [00:00<?, ?it/s]"
      ]
     },
     "metadata": {},
     "output_type": "display_data"
    },
    {
     "data": {
      "application/vnd.jupyter.widget-view+json": {
       "model_id": "89fde0b341274b679842e4d127f308b2",
       "version_major": 2,
       "version_minor": 0
      },
      "text/plain": [
       "Backtest.optimize:   0%|          | 0/9 [00:00<?, ?it/s]"
      ]
     },
     "metadata": {},
     "output_type": "display_data"
    },
    {
     "data": {
      "application/vnd.jupyter.widget-view+json": {
       "model_id": "b20269a8966449c493d3e2e18b1b9a04",
       "version_major": 2,
       "version_minor": 0
      },
      "text/plain": [
       "Backtest.optimize:   0%|          | 0/9 [00:00<?, ?it/s]"
      ]
     },
     "metadata": {},
     "output_type": "display_data"
    },
    {
     "data": {
      "application/vnd.jupyter.widget-view+json": {
       "model_id": "1971e0b6543c442fa0791f3bb4ee85f2",
       "version_major": 2,
       "version_minor": 0
      },
      "text/plain": [
       "Backtest.optimize:   0%|          | 0/9 [00:00<?, ?it/s]"
      ]
     },
     "metadata": {},
     "output_type": "display_data"
    },
    {
     "data": {
      "application/vnd.jupyter.widget-view+json": {
       "model_id": "823f1b3ab1314013ab71cab9999a9540",
       "version_major": 2,
       "version_minor": 0
      },
      "text/plain": [
       "Backtest.optimize:   0%|          | 0/9 [00:00<?, ?it/s]"
      ]
     },
     "metadata": {},
     "output_type": "display_data"
    },
    {
     "data": {
      "application/vnd.jupyter.widget-view+json": {
       "model_id": "0eeaf2519a664069a7cfac1664e56442",
       "version_major": 2,
       "version_minor": 0
      },
      "text/plain": [
       "Backtest.optimize:   0%|          | 0/9 [00:00<?, ?it/s]"
      ]
     },
     "metadata": {},
     "output_type": "display_data"
    },
    {
     "data": {
      "application/vnd.jupyter.widget-view+json": {
       "model_id": "7894ea3c4a6c431d8960135f6512d133",
       "version_major": 2,
       "version_minor": 0
      },
      "text/plain": [
       "Backtest.optimize:   0%|          | 0/9 [00:00<?, ?it/s]"
      ]
     },
     "metadata": {},
     "output_type": "display_data"
    },
    {
     "data": {
      "application/vnd.jupyter.widget-view+json": {
       "model_id": "29f3ceca865f4ff8b1b0decfa3b22d8f",
       "version_major": 2,
       "version_minor": 0
      },
      "text/plain": [
       "Backtest.optimize:   0%|          | 0/9 [00:00<?, ?it/s]"
      ]
     },
     "metadata": {},
     "output_type": "display_data"
    },
    {
     "data": {
      "application/vnd.jupyter.widget-view+json": {
       "model_id": "939978905efd44f69c9b953d98adbbc8",
       "version_major": 2,
       "version_minor": 0
      },
      "text/plain": [
       "Backtest.optimize:   0%|          | 0/9 [00:00<?, ?it/s]"
      ]
     },
     "metadata": {},
     "output_type": "display_data"
    },
    {
     "data": {
      "application/vnd.jupyter.widget-view+json": {
       "model_id": "808ab18addef4f30b755cf5455d8d6c2",
       "version_major": 2,
       "version_minor": 0
      },
      "text/plain": [
       "Backtest.optimize:   0%|          | 0/9 [00:00<?, ?it/s]"
      ]
     },
     "metadata": {},
     "output_type": "display_data"
    },
    {
     "data": {
      "application/vnd.jupyter.widget-view+json": {
       "model_id": "e233506737ed4083b4d393d2d4a5196b",
       "version_major": 2,
       "version_minor": 0
      },
      "text/plain": [
       "Backtest.optimize:   0%|          | 0/9 [00:00<?, ?it/s]"
      ]
     },
     "metadata": {},
     "output_type": "display_data"
    },
    {
     "data": {
      "application/vnd.jupyter.widget-view+json": {
       "model_id": "a1c9af5756854d00b276225ac52db858",
       "version_major": 2,
       "version_minor": 0
      },
      "text/plain": [
       "Backtest.optimize:   0%|          | 0/9 [00:00<?, ?it/s]"
      ]
     },
     "metadata": {},
     "output_type": "display_data"
    },
    {
     "data": {
      "application/vnd.jupyter.widget-view+json": {
       "model_id": "66df92426d994053b1cce5643c1dc5a1",
       "version_major": 2,
       "version_minor": 0
      },
      "text/plain": [
       "Backtest.optimize:   0%|          | 0/9 [00:00<?, ?it/s]"
      ]
     },
     "metadata": {},
     "output_type": "display_data"
    },
    {
     "data": {
      "application/vnd.jupyter.widget-view+json": {
       "model_id": "77c957d72a5f429b906ce314ba2a4a38",
       "version_major": 2,
       "version_minor": 0
      },
      "text/plain": [
       "Backtest.optimize:   0%|          | 0/9 [00:00<?, ?it/s]"
      ]
     },
     "metadata": {},
     "output_type": "display_data"
    },
    {
     "data": {
      "application/vnd.jupyter.widget-view+json": {
       "model_id": "91ada6d4154a428eb3ff6bc6c9c8861d",
       "version_major": 2,
       "version_minor": 0
      },
      "text/plain": [
       "Backtest.optimize:   0%|          | 0/9 [00:00<?, ?it/s]"
      ]
     },
     "metadata": {},
     "output_type": "display_data"
    },
    {
     "data": {
      "application/vnd.jupyter.widget-view+json": {
       "model_id": "eae6b3b65bda48fb8457cde8f6ef75ab",
       "version_major": 2,
       "version_minor": 0
      },
      "text/plain": [
       "Backtest.optimize:   0%|          | 0/9 [00:00<?, ?it/s]"
      ]
     },
     "metadata": {},
     "output_type": "display_data"
    },
    {
     "data": {
      "application/vnd.jupyter.widget-view+json": {
       "model_id": "2a4dccda4d6246af9863a90ca4187ff7",
       "version_major": 2,
       "version_minor": 0
      },
      "text/plain": [
       "Backtest.optimize:   0%|          | 0/9 [00:00<?, ?it/s]"
      ]
     },
     "metadata": {},
     "output_type": "display_data"
    },
    {
     "data": {
      "application/vnd.jupyter.widget-view+json": {
       "model_id": "ff41daf85a664389a8edfb134a943897",
       "version_major": 2,
       "version_minor": 0
      },
      "text/plain": [
       "Backtest.optimize:   0%|          | 0/9 [00:00<?, ?it/s]"
      ]
     },
     "metadata": {},
     "output_type": "display_data"
    },
    {
     "data": {
      "application/vnd.jupyter.widget-view+json": {
       "model_id": "b75c35b2982840c18088879c308de110",
       "version_major": 2,
       "version_minor": 0
      },
      "text/plain": [
       "Backtest.optimize:   0%|          | 0/9 [00:00<?, ?it/s]"
      ]
     },
     "metadata": {},
     "output_type": "display_data"
    },
    {
     "data": {
      "application/vnd.jupyter.widget-view+json": {
       "model_id": "b10698d1cfeb4ebea04288e6df689146",
       "version_major": 2,
       "version_minor": 0
      },
      "text/plain": [
       "Backtest.optimize:   0%|          | 0/9 [00:00<?, ?it/s]"
      ]
     },
     "metadata": {},
     "output_type": "display_data"
    },
    {
     "data": {
      "application/vnd.jupyter.widget-view+json": {
       "model_id": "cd3aff0797f4413aa690ca82cef5563f",
       "version_major": 2,
       "version_minor": 0
      },
      "text/plain": [
       "Backtest.optimize:   0%|          | 0/9 [00:00<?, ?it/s]"
      ]
     },
     "metadata": {},
     "output_type": "display_data"
    },
    {
     "data": {
      "application/vnd.jupyter.widget-view+json": {
       "model_id": "c05e2dfccefb4693aac82b901d614199",
       "version_major": 2,
       "version_minor": 0
      },
      "text/plain": [
       "Backtest.optimize:   0%|          | 0/9 [00:00<?, ?it/s]"
      ]
     },
     "metadata": {},
     "output_type": "display_data"
    },
    {
     "data": {
      "application/vnd.jupyter.widget-view+json": {
       "model_id": "02d158b7c03a4090abfa9e66ee2b22c7",
       "version_major": 2,
       "version_minor": 0
      },
      "text/plain": [
       "Backtest.optimize:   0%|          | 0/9 [00:00<?, ?it/s]"
      ]
     },
     "metadata": {},
     "output_type": "display_data"
    },
    {
     "data": {
      "application/vnd.jupyter.widget-view+json": {
       "model_id": "129b7b16a5b64d29823073031d5d6115",
       "version_major": 2,
       "version_minor": 0
      },
      "text/plain": [
       "Backtest.optimize:   0%|          | 0/9 [00:00<?, ?it/s]"
      ]
     },
     "metadata": {},
     "output_type": "display_data"
    },
    {
     "data": {
      "application/vnd.jupyter.widget-view+json": {
       "model_id": "80ad9d4ee70f43c4b4f4f87ab5eac305",
       "version_major": 2,
       "version_minor": 0
      },
      "text/plain": [
       "Backtest.optimize:   0%|          | 0/9 [00:00<?, ?it/s]"
      ]
     },
     "metadata": {},
     "output_type": "display_data"
    },
    {
     "data": {
      "application/vnd.jupyter.widget-view+json": {
       "model_id": "abc2087e7a2547f68a1e935e6471cf7d",
       "version_major": 2,
       "version_minor": 0
      },
      "text/plain": [
       "Backtest.optimize:   0%|          | 0/9 [00:00<?, ?it/s]"
      ]
     },
     "metadata": {},
     "output_type": "display_data"
    },
    {
     "data": {
      "application/vnd.jupyter.widget-view+json": {
       "model_id": "12ecd4216a954b1d8467a8fa60ac2877",
       "version_major": 2,
       "version_minor": 0
      },
      "text/plain": [
       "Backtest.optimize:   0%|          | 0/9 [00:00<?, ?it/s]"
      ]
     },
     "metadata": {},
     "output_type": "display_data"
    },
    {
     "data": {
      "application/vnd.jupyter.widget-view+json": {
       "model_id": "53ed04b658544e4f9cc098a7c12103fc",
       "version_major": 2,
       "version_minor": 0
      },
      "text/plain": [
       "Backtest.optimize:   0%|          | 0/9 [00:00<?, ?it/s]"
      ]
     },
     "metadata": {},
     "output_type": "display_data"
    },
    {
     "data": {
      "application/vnd.jupyter.widget-view+json": {
       "model_id": "b9577a9a90f544ceb3cd6a7b749c9cf6",
       "version_major": 2,
       "version_minor": 0
      },
      "text/plain": [
       "Backtest.optimize:   0%|          | 0/9 [00:00<?, ?it/s]"
      ]
     },
     "metadata": {},
     "output_type": "display_data"
    },
    {
     "data": {
      "application/vnd.jupyter.widget-view+json": {
       "model_id": "ecd5c776f60a4475a94073146864f1c2",
       "version_major": 2,
       "version_minor": 0
      },
      "text/plain": [
       "Backtest.optimize:   0%|          | 0/9 [00:00<?, ?it/s]"
      ]
     },
     "metadata": {},
     "output_type": "display_data"
    },
    {
     "data": {
      "application/vnd.jupyter.widget-view+json": {
       "model_id": "1c8c1284019f483c887a2e017899a5a8",
       "version_major": 2,
       "version_minor": 0
      },
      "text/plain": [
       "Backtest.optimize:   0%|          | 0/9 [00:00<?, ?it/s]"
      ]
     },
     "metadata": {},
     "output_type": "display_data"
    },
    {
     "data": {
      "application/vnd.jupyter.widget-view+json": {
       "model_id": "df9bc8242c8145e99c43cbdb2b6cdff2",
       "version_major": 2,
       "version_minor": 0
      },
      "text/plain": [
       "Backtest.optimize:   0%|          | 0/9 [00:00<?, ?it/s]"
      ]
     },
     "metadata": {},
     "output_type": "display_data"
    },
    {
     "data": {
      "application/vnd.jupyter.widget-view+json": {
       "model_id": "af22db0c815c4f9785219ceb47c06b94",
       "version_major": 2,
       "version_minor": 0
      },
      "text/plain": [
       "Backtest.optimize:   0%|          | 0/9 [00:00<?, ?it/s]"
      ]
     },
     "metadata": {},
     "output_type": "display_data"
    },
    {
     "data": {
      "application/vnd.jupyter.widget-view+json": {
       "model_id": "b8da6ec8ab264bcfb76e82d0f0addb9a",
       "version_major": 2,
       "version_minor": 0
      },
      "text/plain": [
       "Backtest.optimize:   0%|          | 0/9 [00:00<?, ?it/s]"
      ]
     },
     "metadata": {},
     "output_type": "display_data"
    },
    {
     "data": {
      "application/vnd.jupyter.widget-view+json": {
       "model_id": "7bc24a3fd50d40f6bbb0208ab44eddec",
       "version_major": 2,
       "version_minor": 0
      },
      "text/plain": [
       "Backtest.optimize:   0%|          | 0/9 [00:00<?, ?it/s]"
      ]
     },
     "metadata": {},
     "output_type": "display_data"
    },
    {
     "data": {
      "application/vnd.jupyter.widget-view+json": {
       "model_id": "aad0fefc87c14543abbf61893505016a",
       "version_major": 2,
       "version_minor": 0
      },
      "text/plain": [
       "Backtest.optimize:   0%|          | 0/9 [00:00<?, ?it/s]"
      ]
     },
     "metadata": {},
     "output_type": "display_data"
    },
    {
     "data": {
      "application/vnd.jupyter.widget-view+json": {
       "model_id": "ae72c2f067c44ae08fcc79124f01de72",
       "version_major": 2,
       "version_minor": 0
      },
      "text/plain": [
       "Backtest.optimize:   0%|          | 0/9 [00:00<?, ?it/s]"
      ]
     },
     "metadata": {},
     "output_type": "display_data"
    },
    {
     "data": {
      "application/vnd.jupyter.widget-view+json": {
       "model_id": "c21ab9f16c2749b29b4f1a32d7f64641",
       "version_major": 2,
       "version_minor": 0
      },
      "text/plain": [
       "Backtest.optimize:   0%|          | 0/9 [00:00<?, ?it/s]"
      ]
     },
     "metadata": {},
     "output_type": "display_data"
    },
    {
     "data": {
      "application/vnd.jupyter.widget-view+json": {
       "model_id": "4600a9902bc84dedb949b4d973b96993",
       "version_major": 2,
       "version_minor": 0
      },
      "text/plain": [
       "Backtest.optimize:   0%|          | 0/9 [00:00<?, ?it/s]"
      ]
     },
     "metadata": {},
     "output_type": "display_data"
    },
    {
     "data": {
      "application/vnd.jupyter.widget-view+json": {
       "model_id": "d74ddf7136b0448e97b134ae2136f9f7",
       "version_major": 2,
       "version_minor": 0
      },
      "text/plain": [
       "Backtest.optimize:   0%|          | 0/9 [00:00<?, ?it/s]"
      ]
     },
     "metadata": {},
     "output_type": "display_data"
    },
    {
     "data": {
      "application/vnd.jupyter.widget-view+json": {
       "model_id": "fb1852dac8424749a20c39d28a47e268",
       "version_major": 2,
       "version_minor": 0
      },
      "text/plain": [
       "Backtest.optimize:   0%|          | 0/9 [00:00<?, ?it/s]"
      ]
     },
     "metadata": {},
     "output_type": "display_data"
    },
    {
     "data": {
      "application/vnd.jupyter.widget-view+json": {
       "model_id": "b4f250709d8741b79d6700ef08a84ce1",
       "version_major": 2,
       "version_minor": 0
      },
      "text/plain": [
       "Backtest.optimize:   0%|          | 0/9 [00:00<?, ?it/s]"
      ]
     },
     "metadata": {},
     "output_type": "display_data"
    },
    {
     "data": {
      "application/vnd.jupyter.widget-view+json": {
       "model_id": "a5035612e2c542d296a85ea82d921f92",
       "version_major": 2,
       "version_minor": 0
      },
      "text/plain": [
       "Backtest.optimize:   0%|          | 0/9 [00:00<?, ?it/s]"
      ]
     },
     "metadata": {},
     "output_type": "display_data"
    },
    {
     "data": {
      "application/vnd.jupyter.widget-view+json": {
       "model_id": "e2000789db674823bbfd88c7bc558888",
       "version_major": 2,
       "version_minor": 0
      },
      "text/plain": [
       "Backtest.optimize:   0%|          | 0/9 [00:00<?, ?it/s]"
      ]
     },
     "metadata": {},
     "output_type": "display_data"
    },
    {
     "data": {
      "application/vnd.jupyter.widget-view+json": {
       "model_id": "2389dec62b84462fbf4dda0ae3d6f03b",
       "version_major": 2,
       "version_minor": 0
      },
      "text/plain": [
       "Backtest.optimize:   0%|          | 0/9 [00:00<?, ?it/s]"
      ]
     },
     "metadata": {},
     "output_type": "display_data"
    },
    {
     "data": {
      "application/vnd.jupyter.widget-view+json": {
       "model_id": "366bed465ab04d2ba050fe05bd7b9a59",
       "version_major": 2,
       "version_minor": 0
      },
      "text/plain": [
       "Backtest.optimize:   0%|          | 0/9 [00:00<?, ?it/s]"
      ]
     },
     "metadata": {},
     "output_type": "display_data"
    },
    {
     "data": {
      "application/vnd.jupyter.widget-view+json": {
       "model_id": "f373ba3036fd4966988da95b406df196",
       "version_major": 2,
       "version_minor": 0
      },
      "text/plain": [
       "Backtest.optimize:   0%|          | 0/9 [00:00<?, ?it/s]"
      ]
     },
     "metadata": {},
     "output_type": "display_data"
    },
    {
     "data": {
      "application/vnd.jupyter.widget-view+json": {
       "model_id": "cec1c239e94444afab4924aaa57d2073",
       "version_major": 2,
       "version_minor": 0
      },
      "text/plain": [
       "Backtest.optimize:   0%|          | 0/9 [00:00<?, ?it/s]"
      ]
     },
     "metadata": {},
     "output_type": "display_data"
    },
    {
     "data": {
      "application/vnd.jupyter.widget-view+json": {
       "model_id": "abb7f148e5ca47f9a3b1f316ca06b5ff",
       "version_major": 2,
       "version_minor": 0
      },
      "text/plain": [
       "Backtest.optimize:   0%|          | 0/9 [00:00<?, ?it/s]"
      ]
     },
     "metadata": {},
     "output_type": "display_data"
    },
    {
     "data": {
      "application/vnd.jupyter.widget-view+json": {
       "model_id": "712229d6704c44f8a7925352f4bdfa8f",
       "version_major": 2,
       "version_minor": 0
      },
      "text/plain": [
       "Backtest.optimize:   0%|          | 0/9 [00:00<?, ?it/s]"
      ]
     },
     "metadata": {},
     "output_type": "display_data"
    },
    {
     "name": "stderr",
     "output_type": "stream",
     "text": [
      " 27%|██▋       | 16/60 [31:16<1:23:22, 113.69s/it]"
     ]
    },
    {
     "name": "stdout",
     "output_type": "stream",
     "text": [
      "BTC-USD : best_params: None, best_performance: -inf\n",
      "BTC-USD : train_set: 2020-06-12 00:00:00 - 2020-12-28 00:00:00, test_set: 2020-12-29 00:00:00 - 2021-01-30 00:00:00\n"
     ]
    },
    {
     "data": {
      "application/vnd.jupyter.widget-view+json": {
       "model_id": "4ad7715c69a74fdc828c7fb8b7ba4ae0",
       "version_major": 2,
       "version_minor": 0
      },
      "text/plain": [
       "Backtest.optimize:   0%|          | 0/9 [00:00<?, ?it/s]"
      ]
     },
     "metadata": {},
     "output_type": "display_data"
    },
    {
     "data": {
      "application/vnd.jupyter.widget-view+json": {
       "model_id": "5591e600791b4607b861091e038bcd04",
       "version_major": 2,
       "version_minor": 0
      },
      "text/plain": [
       "Backtest.optimize:   0%|          | 0/9 [00:00<?, ?it/s]"
      ]
     },
     "metadata": {},
     "output_type": "display_data"
    },
    {
     "data": {
      "application/vnd.jupyter.widget-view+json": {
       "model_id": "7dfb3b40280747a09e4074cacfaa4d71",
       "version_major": 2,
       "version_minor": 0
      },
      "text/plain": [
       "Backtest.optimize:   0%|          | 0/9 [00:00<?, ?it/s]"
      ]
     },
     "metadata": {},
     "output_type": "display_data"
    },
    {
     "data": {
      "application/vnd.jupyter.widget-view+json": {
       "model_id": "dfd46ac4551f4264b5a7a87e7e182f2d",
       "version_major": 2,
       "version_minor": 0
      },
      "text/plain": [
       "Backtest.optimize:   0%|          | 0/9 [00:00<?, ?it/s]"
      ]
     },
     "metadata": {},
     "output_type": "display_data"
    },
    {
     "data": {
      "application/vnd.jupyter.widget-view+json": {
       "model_id": "c69f23db77374741977dc081fdc27087",
       "version_major": 2,
       "version_minor": 0
      },
      "text/plain": [
       "Backtest.optimize:   0%|          | 0/9 [00:00<?, ?it/s]"
      ]
     },
     "metadata": {},
     "output_type": "display_data"
    },
    {
     "data": {
      "application/vnd.jupyter.widget-view+json": {
       "model_id": "dbb366baa3f54f1b9f5f8d2cfc5c2955",
       "version_major": 2,
       "version_minor": 0
      },
      "text/plain": [
       "Backtest.optimize:   0%|          | 0/9 [00:00<?, ?it/s]"
      ]
     },
     "metadata": {},
     "output_type": "display_data"
    },
    {
     "data": {
      "application/vnd.jupyter.widget-view+json": {
       "model_id": "ffb415240f6d47fa82f6fd7b28e97b27",
       "version_major": 2,
       "version_minor": 0
      },
      "text/plain": [
       "Backtest.optimize:   0%|          | 0/9 [00:00<?, ?it/s]"
      ]
     },
     "metadata": {},
     "output_type": "display_data"
    },
    {
     "data": {
      "application/vnd.jupyter.widget-view+json": {
       "model_id": "4d8ecd0db8814ea7a587161e008c86bd",
       "version_major": 2,
       "version_minor": 0
      },
      "text/plain": [
       "Backtest.optimize:   0%|          | 0/9 [00:00<?, ?it/s]"
      ]
     },
     "metadata": {},
     "output_type": "display_data"
    },
    {
     "data": {
      "application/vnd.jupyter.widget-view+json": {
       "model_id": "b9d2734c7c804c1f9f1bf8fe07e89ded",
       "version_major": 2,
       "version_minor": 0
      },
      "text/plain": [
       "Backtest.optimize:   0%|          | 0/9 [00:00<?, ?it/s]"
      ]
     },
     "metadata": {},
     "output_type": "display_data"
    },
    {
     "data": {
      "application/vnd.jupyter.widget-view+json": {
       "model_id": "81feaa679d234aeb85e706c839ed90d9",
       "version_major": 2,
       "version_minor": 0
      },
      "text/plain": [
       "Backtest.optimize:   0%|          | 0/9 [00:00<?, ?it/s]"
      ]
     },
     "metadata": {},
     "output_type": "display_data"
    },
    {
     "data": {
      "application/vnd.jupyter.widget-view+json": {
       "model_id": "6cb32eb9fc254d5f9f47de4193b2166f",
       "version_major": 2,
       "version_minor": 0
      },
      "text/plain": [
       "Backtest.optimize:   0%|          | 0/9 [00:00<?, ?it/s]"
      ]
     },
     "metadata": {},
     "output_type": "display_data"
    },
    {
     "data": {
      "application/vnd.jupyter.widget-view+json": {
       "model_id": "0560336a682541bdb9ba474d6c6aa384",
       "version_major": 2,
       "version_minor": 0
      },
      "text/plain": [
       "Backtest.optimize:   0%|          | 0/9 [00:00<?, ?it/s]"
      ]
     },
     "metadata": {},
     "output_type": "display_data"
    },
    {
     "data": {
      "application/vnd.jupyter.widget-view+json": {
       "model_id": "76822cdbc0c64e85b9218458e47aa18c",
       "version_major": 2,
       "version_minor": 0
      },
      "text/plain": [
       "Backtest.optimize:   0%|          | 0/9 [00:00<?, ?it/s]"
      ]
     },
     "metadata": {},
     "output_type": "display_data"
    },
    {
     "data": {
      "application/vnd.jupyter.widget-view+json": {
       "model_id": "3ebcff75c9a949abb7cc396839800f58",
       "version_major": 2,
       "version_minor": 0
      },
      "text/plain": [
       "Backtest.optimize:   0%|          | 0/9 [00:00<?, ?it/s]"
      ]
     },
     "metadata": {},
     "output_type": "display_data"
    },
    {
     "data": {
      "application/vnd.jupyter.widget-view+json": {
       "model_id": "8e91233dee03424796080a789a82f1cb",
       "version_major": 2,
       "version_minor": 0
      },
      "text/plain": [
       "Backtest.optimize:   0%|          | 0/9 [00:00<?, ?it/s]"
      ]
     },
     "metadata": {},
     "output_type": "display_data"
    },
    {
     "data": {
      "application/vnd.jupyter.widget-view+json": {
       "model_id": "3ef26ea4fcd848f984cf44e573d0fe01",
       "version_major": 2,
       "version_minor": 0
      },
      "text/plain": [
       "Backtest.optimize:   0%|          | 0/9 [00:00<?, ?it/s]"
      ]
     },
     "metadata": {},
     "output_type": "display_data"
    },
    {
     "data": {
      "application/vnd.jupyter.widget-view+json": {
       "model_id": "b821057b69ef47db9febe324a68b9f7e",
       "version_major": 2,
       "version_minor": 0
      },
      "text/plain": [
       "Backtest.optimize:   0%|          | 0/9 [00:00<?, ?it/s]"
      ]
     },
     "metadata": {},
     "output_type": "display_data"
    },
    {
     "data": {
      "application/vnd.jupyter.widget-view+json": {
       "model_id": "c542efe1d1584f63abc37cded15c6495",
       "version_major": 2,
       "version_minor": 0
      },
      "text/plain": [
       "Backtest.optimize:   0%|          | 0/9 [00:00<?, ?it/s]"
      ]
     },
     "metadata": {},
     "output_type": "display_data"
    },
    {
     "data": {
      "application/vnd.jupyter.widget-view+json": {
       "model_id": "32829b9295af4daf9e1c2335352dd3df",
       "version_major": 2,
       "version_minor": 0
      },
      "text/plain": [
       "Backtest.optimize:   0%|          | 0/9 [00:00<?, ?it/s]"
      ]
     },
     "metadata": {},
     "output_type": "display_data"
    },
    {
     "data": {
      "application/vnd.jupyter.widget-view+json": {
       "model_id": "730fcbbfa0be4a0dbed36d50b35f2a72",
       "version_major": 2,
       "version_minor": 0
      },
      "text/plain": [
       "Backtest.optimize:   0%|          | 0/9 [00:00<?, ?it/s]"
      ]
     },
     "metadata": {},
     "output_type": "display_data"
    },
    {
     "data": {
      "application/vnd.jupyter.widget-view+json": {
       "model_id": "fba564b193dc41209e4173c437d2b0cc",
       "version_major": 2,
       "version_minor": 0
      },
      "text/plain": [
       "Backtest.optimize:   0%|          | 0/9 [00:00<?, ?it/s]"
      ]
     },
     "metadata": {},
     "output_type": "display_data"
    },
    {
     "data": {
      "application/vnd.jupyter.widget-view+json": {
       "model_id": "33b7b6fe75f948528c46ad6d476f3646",
       "version_major": 2,
       "version_minor": 0
      },
      "text/plain": [
       "Backtest.optimize:   0%|          | 0/9 [00:00<?, ?it/s]"
      ]
     },
     "metadata": {},
     "output_type": "display_data"
    },
    {
     "data": {
      "application/vnd.jupyter.widget-view+json": {
       "model_id": "e55a610b1f4e46c381211de0d9fe440a",
       "version_major": 2,
       "version_minor": 0
      },
      "text/plain": [
       "Backtest.optimize:   0%|          | 0/9 [00:00<?, ?it/s]"
      ]
     },
     "metadata": {},
     "output_type": "display_data"
    },
    {
     "data": {
      "application/vnd.jupyter.widget-view+json": {
       "model_id": "b448b82cc1c849eb8ded15505b1c2b1d",
       "version_major": 2,
       "version_minor": 0
      },
      "text/plain": [
       "Backtest.optimize:   0%|          | 0/9 [00:00<?, ?it/s]"
      ]
     },
     "metadata": {},
     "output_type": "display_data"
    },
    {
     "data": {
      "application/vnd.jupyter.widget-view+json": {
       "model_id": "36d7fece0b1a466e9973ebaffed6c258",
       "version_major": 2,
       "version_minor": 0
      },
      "text/plain": [
       "Backtest.optimize:   0%|          | 0/9 [00:00<?, ?it/s]"
      ]
     },
     "metadata": {},
     "output_type": "display_data"
    },
    {
     "data": {
      "application/vnd.jupyter.widget-view+json": {
       "model_id": "705f9a20ab0e40e3892925474688d68a",
       "version_major": 2,
       "version_minor": 0
      },
      "text/plain": [
       "Backtest.optimize:   0%|          | 0/9 [00:00<?, ?it/s]"
      ]
     },
     "metadata": {},
     "output_type": "display_data"
    },
    {
     "data": {
      "application/vnd.jupyter.widget-view+json": {
       "model_id": "40941878f3f844379d5e72860322441f",
       "version_major": 2,
       "version_minor": 0
      },
      "text/plain": [
       "Backtest.optimize:   0%|          | 0/9 [00:00<?, ?it/s]"
      ]
     },
     "metadata": {},
     "output_type": "display_data"
    },
    {
     "data": {
      "application/vnd.jupyter.widget-view+json": {
       "model_id": "ce79d376b2b2467493833ec9aeb6889e",
       "version_major": 2,
       "version_minor": 0
      },
      "text/plain": [
       "Backtest.optimize:   0%|          | 0/9 [00:00<?, ?it/s]"
      ]
     },
     "metadata": {},
     "output_type": "display_data"
    },
    {
     "data": {
      "application/vnd.jupyter.widget-view+json": {
       "model_id": "428edfaf3caf41ec8898ed682e1b90e9",
       "version_major": 2,
       "version_minor": 0
      },
      "text/plain": [
       "Backtest.optimize:   0%|          | 0/9 [00:00<?, ?it/s]"
      ]
     },
     "metadata": {},
     "output_type": "display_data"
    },
    {
     "data": {
      "application/vnd.jupyter.widget-view+json": {
       "model_id": "9449c415f64f4ec2a42d4565a89d4855",
       "version_major": 2,
       "version_minor": 0
      },
      "text/plain": [
       "Backtest.optimize:   0%|          | 0/9 [00:00<?, ?it/s]"
      ]
     },
     "metadata": {},
     "output_type": "display_data"
    },
    {
     "data": {
      "application/vnd.jupyter.widget-view+json": {
       "model_id": "b68919b32e8b486bb4127de65da373cd",
       "version_major": 2,
       "version_minor": 0
      },
      "text/plain": [
       "Backtest.optimize:   0%|          | 0/9 [00:00<?, ?it/s]"
      ]
     },
     "metadata": {},
     "output_type": "display_data"
    },
    {
     "data": {
      "application/vnd.jupyter.widget-view+json": {
       "model_id": "8665b84084e24ce6b4e83c7dbc5f0a71",
       "version_major": 2,
       "version_minor": 0
      },
      "text/plain": [
       "Backtest.optimize:   0%|          | 0/9 [00:00<?, ?it/s]"
      ]
     },
     "metadata": {},
     "output_type": "display_data"
    },
    {
     "data": {
      "application/vnd.jupyter.widget-view+json": {
       "model_id": "96905624b0944384a324577f9bc30a42",
       "version_major": 2,
       "version_minor": 0
      },
      "text/plain": [
       "Backtest.optimize:   0%|          | 0/9 [00:00<?, ?it/s]"
      ]
     },
     "metadata": {},
     "output_type": "display_data"
    },
    {
     "data": {
      "application/vnd.jupyter.widget-view+json": {
       "model_id": "c5d12859b3e44e4f9f49f0e58b7ffb88",
       "version_major": 2,
       "version_minor": 0
      },
      "text/plain": [
       "Backtest.optimize:   0%|          | 0/9 [00:00<?, ?it/s]"
      ]
     },
     "metadata": {},
     "output_type": "display_data"
    },
    {
     "data": {
      "application/vnd.jupyter.widget-view+json": {
       "model_id": "d9b2a3de87c34caaaf555173fd845666",
       "version_major": 2,
       "version_minor": 0
      },
      "text/plain": [
       "Backtest.optimize:   0%|          | 0/9 [00:00<?, ?it/s]"
      ]
     },
     "metadata": {},
     "output_type": "display_data"
    },
    {
     "data": {
      "application/vnd.jupyter.widget-view+json": {
       "model_id": "b40ccece86b947d1ac33ddf329178634",
       "version_major": 2,
       "version_minor": 0
      },
      "text/plain": [
       "Backtest.optimize:   0%|          | 0/9 [00:00<?, ?it/s]"
      ]
     },
     "metadata": {},
     "output_type": "display_data"
    },
    {
     "data": {
      "application/vnd.jupyter.widget-view+json": {
       "model_id": "9c4f4ee5a851479093ecbcc9e3d3cb55",
       "version_major": 2,
       "version_minor": 0
      },
      "text/plain": [
       "Backtest.optimize:   0%|          | 0/9 [00:00<?, ?it/s]"
      ]
     },
     "metadata": {},
     "output_type": "display_data"
    },
    {
     "data": {
      "application/vnd.jupyter.widget-view+json": {
       "model_id": "480ef70805604a9f83c7bc992239a796",
       "version_major": 2,
       "version_minor": 0
      },
      "text/plain": [
       "Backtest.optimize:   0%|          | 0/9 [00:00<?, ?it/s]"
      ]
     },
     "metadata": {},
     "output_type": "display_data"
    },
    {
     "data": {
      "application/vnd.jupyter.widget-view+json": {
       "model_id": "f037384f67644ba78058e423ad9ece35",
       "version_major": 2,
       "version_minor": 0
      },
      "text/plain": [
       "Backtest.optimize:   0%|          | 0/9 [00:00<?, ?it/s]"
      ]
     },
     "metadata": {},
     "output_type": "display_data"
    },
    {
     "data": {
      "application/vnd.jupyter.widget-view+json": {
       "model_id": "c9027a60c04a4b7bb6bcca8d72cd0663",
       "version_major": 2,
       "version_minor": 0
      },
      "text/plain": [
       "Backtest.optimize:   0%|          | 0/9 [00:00<?, ?it/s]"
      ]
     },
     "metadata": {},
     "output_type": "display_data"
    },
    {
     "data": {
      "application/vnd.jupyter.widget-view+json": {
       "model_id": "4f6d4de3518f4d7485fc5b217e5e7c89",
       "version_major": 2,
       "version_minor": 0
      },
      "text/plain": [
       "Backtest.optimize:   0%|          | 0/9 [00:00<?, ?it/s]"
      ]
     },
     "metadata": {},
     "output_type": "display_data"
    },
    {
     "data": {
      "application/vnd.jupyter.widget-view+json": {
       "model_id": "f5e4efcbe2134034b6e0db0f428b571f",
       "version_major": 2,
       "version_minor": 0
      },
      "text/plain": [
       "Backtest.optimize:   0%|          | 0/9 [00:00<?, ?it/s]"
      ]
     },
     "metadata": {},
     "output_type": "display_data"
    },
    {
     "data": {
      "application/vnd.jupyter.widget-view+json": {
       "model_id": "43b96da9fa394ad2baee531ea9f68531",
       "version_major": 2,
       "version_minor": 0
      },
      "text/plain": [
       "Backtest.optimize:   0%|          | 0/9 [00:00<?, ?it/s]"
      ]
     },
     "metadata": {},
     "output_type": "display_data"
    },
    {
     "data": {
      "application/vnd.jupyter.widget-view+json": {
       "model_id": "01f9199e2e684ee5aa1709999e0defa3",
       "version_major": 2,
       "version_minor": 0
      },
      "text/plain": [
       "Backtest.optimize:   0%|          | 0/9 [00:00<?, ?it/s]"
      ]
     },
     "metadata": {},
     "output_type": "display_data"
    },
    {
     "data": {
      "application/vnd.jupyter.widget-view+json": {
       "model_id": "53033ba0cdb34640bc8e831e2c56b42e",
       "version_major": 2,
       "version_minor": 0
      },
      "text/plain": [
       "Backtest.optimize:   0%|          | 0/9 [00:00<?, ?it/s]"
      ]
     },
     "metadata": {},
     "output_type": "display_data"
    },
    {
     "data": {
      "application/vnd.jupyter.widget-view+json": {
       "model_id": "1ba6b74f18d04abb87ad9b971c59177f",
       "version_major": 2,
       "version_minor": 0
      },
      "text/plain": [
       "Backtest.optimize:   0%|          | 0/9 [00:00<?, ?it/s]"
      ]
     },
     "metadata": {},
     "output_type": "display_data"
    },
    {
     "data": {
      "application/vnd.jupyter.widget-view+json": {
       "model_id": "cfa2a0dc1d3a4281a6081de6f4fee48b",
       "version_major": 2,
       "version_minor": 0
      },
      "text/plain": [
       "Backtest.optimize:   0%|          | 0/9 [00:00<?, ?it/s]"
      ]
     },
     "metadata": {},
     "output_type": "display_data"
    },
    {
     "data": {
      "application/vnd.jupyter.widget-view+json": {
       "model_id": "c771fdb6b3544ce3a373612c214c6092",
       "version_major": 2,
       "version_minor": 0
      },
      "text/plain": [
       "Backtest.optimize:   0%|          | 0/9 [00:00<?, ?it/s]"
      ]
     },
     "metadata": {},
     "output_type": "display_data"
    },
    {
     "data": {
      "application/vnd.jupyter.widget-view+json": {
       "model_id": "1ff409dfe09c4e86baa122e7b9ea2a2c",
       "version_major": 2,
       "version_minor": 0
      },
      "text/plain": [
       "Backtest.optimize:   0%|          | 0/9 [00:00<?, ?it/s]"
      ]
     },
     "metadata": {},
     "output_type": "display_data"
    },
    {
     "data": {
      "application/vnd.jupyter.widget-view+json": {
       "model_id": "a08349f4d3544c5d8aab5528486be18d",
       "version_major": 2,
       "version_minor": 0
      },
      "text/plain": [
       "Backtest.optimize:   0%|          | 0/9 [00:00<?, ?it/s]"
      ]
     },
     "metadata": {},
     "output_type": "display_data"
    },
    {
     "data": {
      "application/vnd.jupyter.widget-view+json": {
       "model_id": "811b5e959cea41278cc72586099a49f1",
       "version_major": 2,
       "version_minor": 0
      },
      "text/plain": [
       "Backtest.optimize:   0%|          | 0/9 [00:00<?, ?it/s]"
      ]
     },
     "metadata": {},
     "output_type": "display_data"
    },
    {
     "data": {
      "application/vnd.jupyter.widget-view+json": {
       "model_id": "3ec4663fb4174cff98d34d324126be47",
       "version_major": 2,
       "version_minor": 0
      },
      "text/plain": [
       "Backtest.optimize:   0%|          | 0/9 [00:00<?, ?it/s]"
      ]
     },
     "metadata": {},
     "output_type": "display_data"
    },
    {
     "data": {
      "application/vnd.jupyter.widget-view+json": {
       "model_id": "f9a11aafb76b400c95c9ff420332fa68",
       "version_major": 2,
       "version_minor": 0
      },
      "text/plain": [
       "Backtest.optimize:   0%|          | 0/9 [00:00<?, ?it/s]"
      ]
     },
     "metadata": {},
     "output_type": "display_data"
    },
    {
     "data": {
      "application/vnd.jupyter.widget-view+json": {
       "model_id": "c28c97d0deb7454ea358c76a1ce386ed",
       "version_major": 2,
       "version_minor": 0
      },
      "text/plain": [
       "Backtest.optimize:   0%|          | 0/9 [00:00<?, ?it/s]"
      ]
     },
     "metadata": {},
     "output_type": "display_data"
    },
    {
     "data": {
      "application/vnd.jupyter.widget-view+json": {
       "model_id": "6f916a49f7714c6d9a5d83cce75053c6",
       "version_major": 2,
       "version_minor": 0
      },
      "text/plain": [
       "Backtest.optimize:   0%|          | 0/9 [00:00<?, ?it/s]"
      ]
     },
     "metadata": {},
     "output_type": "display_data"
    },
    {
     "data": {
      "application/vnd.jupyter.widget-view+json": {
       "model_id": "2e3260fb5e0c43d38340eb2f2ad81e0f",
       "version_major": 2,
       "version_minor": 0
      },
      "text/plain": [
       "Backtest.optimize:   0%|          | 0/9 [00:00<?, ?it/s]"
      ]
     },
     "metadata": {},
     "output_type": "display_data"
    },
    {
     "data": {
      "application/vnd.jupyter.widget-view+json": {
       "model_id": "8528d546f53e4ca7bd5f4db8197407b2",
       "version_major": 2,
       "version_minor": 0
      },
      "text/plain": [
       "Backtest.optimize:   0%|          | 0/9 [00:00<?, ?it/s]"
      ]
     },
     "metadata": {},
     "output_type": "display_data"
    },
    {
     "data": {
      "application/vnd.jupyter.widget-view+json": {
       "model_id": "b518f2a66e264ec7be9424767d95dc2e",
       "version_major": 2,
       "version_minor": 0
      },
      "text/plain": [
       "Backtest.optimize:   0%|          | 0/9 [00:00<?, ?it/s]"
      ]
     },
     "metadata": {},
     "output_type": "display_data"
    },
    {
     "data": {
      "application/vnd.jupyter.widget-view+json": {
       "model_id": "abbc963137bd4f6ba8cd1365590b5ca0",
       "version_major": 2,
       "version_minor": 0
      },
      "text/plain": [
       "Backtest.optimize:   0%|          | 0/9 [00:00<?, ?it/s]"
      ]
     },
     "metadata": {},
     "output_type": "display_data"
    },
    {
     "data": {
      "application/vnd.jupyter.widget-view+json": {
       "model_id": "5e4d406b251744238f34b60640f5d21c",
       "version_major": 2,
       "version_minor": 0
      },
      "text/plain": [
       "Backtest.optimize:   0%|          | 0/9 [00:00<?, ?it/s]"
      ]
     },
     "metadata": {},
     "output_type": "display_data"
    },
    {
     "data": {
      "application/vnd.jupyter.widget-view+json": {
       "model_id": "668b7d600195426384692bc4ce86f46a",
       "version_major": 2,
       "version_minor": 0
      },
      "text/plain": [
       "Backtest.optimize:   0%|          | 0/9 [00:00<?, ?it/s]"
      ]
     },
     "metadata": {},
     "output_type": "display_data"
    },
    {
     "data": {
      "application/vnd.jupyter.widget-view+json": {
       "model_id": "05ea67c96e44473e87a5a6d58059354a",
       "version_major": 2,
       "version_minor": 0
      },
      "text/plain": [
       "Backtest.optimize:   0%|          | 0/9 [00:00<?, ?it/s]"
      ]
     },
     "metadata": {},
     "output_type": "display_data"
    },
    {
     "data": {
      "application/vnd.jupyter.widget-view+json": {
       "model_id": "8d6e44c0ceb941c3ae627d3e76b0f9c8",
       "version_major": 2,
       "version_minor": 0
      },
      "text/plain": [
       "Backtest.optimize:   0%|          | 0/9 [00:00<?, ?it/s]"
      ]
     },
     "metadata": {},
     "output_type": "display_data"
    },
    {
     "data": {
      "application/vnd.jupyter.widget-view+json": {
       "model_id": "1a77b1c438194a148981c6203ce8216f",
       "version_major": 2,
       "version_minor": 0
      },
      "text/plain": [
       "Backtest.optimize:   0%|          | 0/9 [00:00<?, ?it/s]"
      ]
     },
     "metadata": {},
     "output_type": "display_data"
    },
    {
     "data": {
      "application/vnd.jupyter.widget-view+json": {
       "model_id": "55bc28e08b264bae96e545cc691c359f",
       "version_major": 2,
       "version_minor": 0
      },
      "text/plain": [
       "Backtest.optimize:   0%|          | 0/9 [00:00<?, ?it/s]"
      ]
     },
     "metadata": {},
     "output_type": "display_data"
    },
    {
     "data": {
      "application/vnd.jupyter.widget-view+json": {
       "model_id": "53b8276c667d4f2c9b554aec80e71e51",
       "version_major": 2,
       "version_minor": 0
      },
      "text/plain": [
       "Backtest.optimize:   0%|          | 0/9 [00:00<?, ?it/s]"
      ]
     },
     "metadata": {},
     "output_type": "display_data"
    },
    {
     "data": {
      "application/vnd.jupyter.widget-view+json": {
       "model_id": "ad5db72d90ce4427a2daedc36a08c29a",
       "version_major": 2,
       "version_minor": 0
      },
      "text/plain": [
       "Backtest.optimize:   0%|          | 0/9 [00:00<?, ?it/s]"
      ]
     },
     "metadata": {},
     "output_type": "display_data"
    },
    {
     "data": {
      "application/vnd.jupyter.widget-view+json": {
       "model_id": "1ae24d907f9345bc9e9a2a4982b6a1d5",
       "version_major": 2,
       "version_minor": 0
      },
      "text/plain": [
       "Backtest.optimize:   0%|          | 0/9 [00:00<?, ?it/s]"
      ]
     },
     "metadata": {},
     "output_type": "display_data"
    },
    {
     "data": {
      "application/vnd.jupyter.widget-view+json": {
       "model_id": "bb47f588c0654977a308b3f6e34d3ce8",
       "version_major": 2,
       "version_minor": 0
      },
      "text/plain": [
       "Backtest.optimize:   0%|          | 0/9 [00:00<?, ?it/s]"
      ]
     },
     "metadata": {},
     "output_type": "display_data"
    },
    {
     "data": {
      "application/vnd.jupyter.widget-view+json": {
       "model_id": "51da87b3424e4540bdda29ea5ae0ddec",
       "version_major": 2,
       "version_minor": 0
      },
      "text/plain": [
       "Backtest.optimize:   0%|          | 0/9 [00:00<?, ?it/s]"
      ]
     },
     "metadata": {},
     "output_type": "display_data"
    },
    {
     "data": {
      "application/vnd.jupyter.widget-view+json": {
       "model_id": "c2166fed63ef4373892e592dcbc2eeef",
       "version_major": 2,
       "version_minor": 0
      },
      "text/plain": [
       "Backtest.optimize:   0%|          | 0/9 [00:00<?, ?it/s]"
      ]
     },
     "metadata": {},
     "output_type": "display_data"
    },
    {
     "data": {
      "application/vnd.jupyter.widget-view+json": {
       "model_id": "cc27d41655ae456fa832c5b97e8814ba",
       "version_major": 2,
       "version_minor": 0
      },
      "text/plain": [
       "Backtest.optimize:   0%|          | 0/9 [00:00<?, ?it/s]"
      ]
     },
     "metadata": {},
     "output_type": "display_data"
    },
    {
     "data": {
      "application/vnd.jupyter.widget-view+json": {
       "model_id": "62ae5d52c80e4252b0c7cbdf47e4b7c5",
       "version_major": 2,
       "version_minor": 0
      },
      "text/plain": [
       "Backtest.optimize:   0%|          | 0/9 [00:00<?, ?it/s]"
      ]
     },
     "metadata": {},
     "output_type": "display_data"
    },
    {
     "data": {
      "application/vnd.jupyter.widget-view+json": {
       "model_id": "d087a054e12e40988f1cb186f6e0360a",
       "version_major": 2,
       "version_minor": 0
      },
      "text/plain": [
       "Backtest.optimize:   0%|          | 0/9 [00:00<?, ?it/s]"
      ]
     },
     "metadata": {},
     "output_type": "display_data"
    },
    {
     "data": {
      "application/vnd.jupyter.widget-view+json": {
       "model_id": "3d4420cea2584462b3fe1cef0d39a1ae",
       "version_major": 2,
       "version_minor": 0
      },
      "text/plain": [
       "Backtest.optimize:   0%|          | 0/9 [00:00<?, ?it/s]"
      ]
     },
     "metadata": {},
     "output_type": "display_data"
    },
    {
     "data": {
      "application/vnd.jupyter.widget-view+json": {
       "model_id": "56646c50308e4dc69cf575f9fe698e81",
       "version_major": 2,
       "version_minor": 0
      },
      "text/plain": [
       "Backtest.optimize:   0%|          | 0/9 [00:00<?, ?it/s]"
      ]
     },
     "metadata": {},
     "output_type": "display_data"
    },
    {
     "data": {
      "application/vnd.jupyter.widget-view+json": {
       "model_id": "148afff58f5e4eefac391712f82199e9",
       "version_major": 2,
       "version_minor": 0
      },
      "text/plain": [
       "Backtest.optimize:   0%|          | 0/9 [00:00<?, ?it/s]"
      ]
     },
     "metadata": {},
     "output_type": "display_data"
    },
    {
     "data": {
      "application/vnd.jupyter.widget-view+json": {
       "model_id": "3e154405f5d94870a5313952a481acba",
       "version_major": 2,
       "version_minor": 0
      },
      "text/plain": [
       "Backtest.optimize:   0%|          | 0/9 [00:00<?, ?it/s]"
      ]
     },
     "metadata": {},
     "output_type": "display_data"
    },
    {
     "data": {
      "application/vnd.jupyter.widget-view+json": {
       "model_id": "e8d4423df5ce4a3e87bb7fb912001f9a",
       "version_major": 2,
       "version_minor": 0
      },
      "text/plain": [
       "Backtest.optimize:   0%|          | 0/9 [00:00<?, ?it/s]"
      ]
     },
     "metadata": {},
     "output_type": "display_data"
    },
    {
     "data": {
      "application/vnd.jupyter.widget-view+json": {
       "model_id": "e69d01539064419abd842cad2adbe216",
       "version_major": 2,
       "version_minor": 0
      },
      "text/plain": [
       "Backtest.optimize:   0%|          | 0/9 [00:00<?, ?it/s]"
      ]
     },
     "metadata": {},
     "output_type": "display_data"
    },
    {
     "data": {
      "application/vnd.jupyter.widget-view+json": {
       "model_id": "76af5abbd03c41b1bde8077b6b5f762f",
       "version_major": 2,
       "version_minor": 0
      },
      "text/plain": [
       "Backtest.optimize:   0%|          | 0/9 [00:00<?, ?it/s]"
      ]
     },
     "metadata": {},
     "output_type": "display_data"
    },
    {
     "name": "stderr",
     "output_type": "stream",
     "text": [
      " 28%|██▊       | 17/60 [33:08<1:21:13, 113.33s/it]"
     ]
    },
    {
     "name": "stdout",
     "output_type": "stream",
     "text": [
      "BTC-USD : best_params: None, best_performance: -inf\n",
      "BTC-USD : train_set: 2020-07-15 00:00:00 - 2021-01-30 00:00:00, test_set: 2021-01-31 00:00:00 - 2021-03-04 00:00:00\n"
     ]
    },
    {
     "data": {
      "application/vnd.jupyter.widget-view+json": {
       "model_id": "0c78c8dae2054756b0249014346a3a40",
       "version_major": 2,
       "version_minor": 0
      },
      "text/plain": [
       "Backtest.optimize:   0%|          | 0/9 [00:00<?, ?it/s]"
      ]
     },
     "metadata": {},
     "output_type": "display_data"
    },
    {
     "data": {
      "application/vnd.jupyter.widget-view+json": {
       "model_id": "67725f2631ca49abbd50c00bea14ecd5",
       "version_major": 2,
       "version_minor": 0
      },
      "text/plain": [
       "Backtest.optimize:   0%|          | 0/9 [00:00<?, ?it/s]"
      ]
     },
     "metadata": {},
     "output_type": "display_data"
    },
    {
     "data": {
      "application/vnd.jupyter.widget-view+json": {
       "model_id": "8dfe8944d8d24d3d98606a32e3820315",
       "version_major": 2,
       "version_minor": 0
      },
      "text/plain": [
       "Backtest.optimize:   0%|          | 0/9 [00:00<?, ?it/s]"
      ]
     },
     "metadata": {},
     "output_type": "display_data"
    },
    {
     "data": {
      "application/vnd.jupyter.widget-view+json": {
       "model_id": "7426651b04764ff19423b0b6a11b12e9",
       "version_major": 2,
       "version_minor": 0
      },
      "text/plain": [
       "Backtest.optimize:   0%|          | 0/9 [00:00<?, ?it/s]"
      ]
     },
     "metadata": {},
     "output_type": "display_data"
    },
    {
     "data": {
      "application/vnd.jupyter.widget-view+json": {
       "model_id": "4fb1763407a74f55aa55e5310097f4ec",
       "version_major": 2,
       "version_minor": 0
      },
      "text/plain": [
       "Backtest.optimize:   0%|          | 0/9 [00:00<?, ?it/s]"
      ]
     },
     "metadata": {},
     "output_type": "display_data"
    },
    {
     "data": {
      "application/vnd.jupyter.widget-view+json": {
       "model_id": "1831002e94b3409a8577eacb3c8e4ddb",
       "version_major": 2,
       "version_minor": 0
      },
      "text/plain": [
       "Backtest.optimize:   0%|          | 0/9 [00:00<?, ?it/s]"
      ]
     },
     "metadata": {},
     "output_type": "display_data"
    },
    {
     "data": {
      "application/vnd.jupyter.widget-view+json": {
       "model_id": "dc59bce421914213ba668c7eeaf86a9d",
       "version_major": 2,
       "version_minor": 0
      },
      "text/plain": [
       "Backtest.optimize:   0%|          | 0/9 [00:00<?, ?it/s]"
      ]
     },
     "metadata": {},
     "output_type": "display_data"
    },
    {
     "data": {
      "application/vnd.jupyter.widget-view+json": {
       "model_id": "1a4e2462521947b9a65a5cbfdc2942ce",
       "version_major": 2,
       "version_minor": 0
      },
      "text/plain": [
       "Backtest.optimize:   0%|          | 0/9 [00:00<?, ?it/s]"
      ]
     },
     "metadata": {},
     "output_type": "display_data"
    },
    {
     "data": {
      "application/vnd.jupyter.widget-view+json": {
       "model_id": "ca902c7f4e634cf9847d840b37b3c472",
       "version_major": 2,
       "version_minor": 0
      },
      "text/plain": [
       "Backtest.optimize:   0%|          | 0/9 [00:00<?, ?it/s]"
      ]
     },
     "metadata": {},
     "output_type": "display_data"
    },
    {
     "data": {
      "application/vnd.jupyter.widget-view+json": {
       "model_id": "a4433513346048f88ba8e4ffe5dfcd4b",
       "version_major": 2,
       "version_minor": 0
      },
      "text/plain": [
       "Backtest.optimize:   0%|          | 0/9 [00:00<?, ?it/s]"
      ]
     },
     "metadata": {},
     "output_type": "display_data"
    },
    {
     "data": {
      "application/vnd.jupyter.widget-view+json": {
       "model_id": "be545ac16dd742b5b78a1047d23495f7",
       "version_major": 2,
       "version_minor": 0
      },
      "text/plain": [
       "Backtest.optimize:   0%|          | 0/9 [00:00<?, ?it/s]"
      ]
     },
     "metadata": {},
     "output_type": "display_data"
    },
    {
     "data": {
      "application/vnd.jupyter.widget-view+json": {
       "model_id": "2144c59c8b864ea099e0aaa863f48731",
       "version_major": 2,
       "version_minor": 0
      },
      "text/plain": [
       "Backtest.optimize:   0%|          | 0/9 [00:00<?, ?it/s]"
      ]
     },
     "metadata": {},
     "output_type": "display_data"
    },
    {
     "data": {
      "application/vnd.jupyter.widget-view+json": {
       "model_id": "35e00cb87bce4665970536f32295f36a",
       "version_major": 2,
       "version_minor": 0
      },
      "text/plain": [
       "Backtest.optimize:   0%|          | 0/9 [00:00<?, ?it/s]"
      ]
     },
     "metadata": {},
     "output_type": "display_data"
    },
    {
     "data": {
      "application/vnd.jupyter.widget-view+json": {
       "model_id": "f394de3eb6934831bd0d2aaddab4c4d1",
       "version_major": 2,
       "version_minor": 0
      },
      "text/plain": [
       "Backtest.optimize:   0%|          | 0/9 [00:00<?, ?it/s]"
      ]
     },
     "metadata": {},
     "output_type": "display_data"
    },
    {
     "data": {
      "application/vnd.jupyter.widget-view+json": {
       "model_id": "db63a3a8c3634e41bc1166804dca83c9",
       "version_major": 2,
       "version_minor": 0
      },
      "text/plain": [
       "Backtest.optimize:   0%|          | 0/9 [00:00<?, ?it/s]"
      ]
     },
     "metadata": {},
     "output_type": "display_data"
    },
    {
     "data": {
      "application/vnd.jupyter.widget-view+json": {
       "model_id": "b74e586419a04640a6a4e5e08c30379d",
       "version_major": 2,
       "version_minor": 0
      },
      "text/plain": [
       "Backtest.optimize:   0%|          | 0/9 [00:00<?, ?it/s]"
      ]
     },
     "metadata": {},
     "output_type": "display_data"
    },
    {
     "data": {
      "application/vnd.jupyter.widget-view+json": {
       "model_id": "ef202952490f4cc7903ebe0c8612c482",
       "version_major": 2,
       "version_minor": 0
      },
      "text/plain": [
       "Backtest.optimize:   0%|          | 0/9 [00:00<?, ?it/s]"
      ]
     },
     "metadata": {},
     "output_type": "display_data"
    },
    {
     "data": {
      "application/vnd.jupyter.widget-view+json": {
       "model_id": "e6f0b8cf567e46f4ad0c2cf9a2271ed7",
       "version_major": 2,
       "version_minor": 0
      },
      "text/plain": [
       "Backtest.optimize:   0%|          | 0/9 [00:00<?, ?it/s]"
      ]
     },
     "metadata": {},
     "output_type": "display_data"
    },
    {
     "data": {
      "application/vnd.jupyter.widget-view+json": {
       "model_id": "6f954e06e3214f4abfade769a8e818c8",
       "version_major": 2,
       "version_minor": 0
      },
      "text/plain": [
       "Backtest.optimize:   0%|          | 0/9 [00:00<?, ?it/s]"
      ]
     },
     "metadata": {},
     "output_type": "display_data"
    },
    {
     "data": {
      "application/vnd.jupyter.widget-view+json": {
       "model_id": "a7a7ff139bcc4e74b2db043e6668c4d6",
       "version_major": 2,
       "version_minor": 0
      },
      "text/plain": [
       "Backtest.optimize:   0%|          | 0/9 [00:00<?, ?it/s]"
      ]
     },
     "metadata": {},
     "output_type": "display_data"
    },
    {
     "data": {
      "application/vnd.jupyter.widget-view+json": {
       "model_id": "112a66e1b43f441a8d26cc957d12b9a1",
       "version_major": 2,
       "version_minor": 0
      },
      "text/plain": [
       "Backtest.optimize:   0%|          | 0/9 [00:00<?, ?it/s]"
      ]
     },
     "metadata": {},
     "output_type": "display_data"
    },
    {
     "data": {
      "application/vnd.jupyter.widget-view+json": {
       "model_id": "7d6c22befaa04c22a94bd6fd81c80e90",
       "version_major": 2,
       "version_minor": 0
      },
      "text/plain": [
       "Backtest.optimize:   0%|          | 0/9 [00:00<?, ?it/s]"
      ]
     },
     "metadata": {},
     "output_type": "display_data"
    },
    {
     "data": {
      "application/vnd.jupyter.widget-view+json": {
       "model_id": "775a36da26c54a449f12c4d5b15b6a12",
       "version_major": 2,
       "version_minor": 0
      },
      "text/plain": [
       "Backtest.optimize:   0%|          | 0/9 [00:00<?, ?it/s]"
      ]
     },
     "metadata": {},
     "output_type": "display_data"
    },
    {
     "data": {
      "application/vnd.jupyter.widget-view+json": {
       "model_id": "8e15b7b18684482782a9464de623a84f",
       "version_major": 2,
       "version_minor": 0
      },
      "text/plain": [
       "Backtest.optimize:   0%|          | 0/9 [00:00<?, ?it/s]"
      ]
     },
     "metadata": {},
     "output_type": "display_data"
    },
    {
     "data": {
      "application/vnd.jupyter.widget-view+json": {
       "model_id": "63467961639f4fd6bf15d25f36f10a94",
       "version_major": 2,
       "version_minor": 0
      },
      "text/plain": [
       "Backtest.optimize:   0%|          | 0/9 [00:00<?, ?it/s]"
      ]
     },
     "metadata": {},
     "output_type": "display_data"
    },
    {
     "data": {
      "application/vnd.jupyter.widget-view+json": {
       "model_id": "27d9e8665eca4f5f8fdb804b0a0688f7",
       "version_major": 2,
       "version_minor": 0
      },
      "text/plain": [
       "Backtest.optimize:   0%|          | 0/9 [00:00<?, ?it/s]"
      ]
     },
     "metadata": {},
     "output_type": "display_data"
    },
    {
     "data": {
      "application/vnd.jupyter.widget-view+json": {
       "model_id": "be327a5e036f4477b51f8fd486cb0dec",
       "version_major": 2,
       "version_minor": 0
      },
      "text/plain": [
       "Backtest.optimize:   0%|          | 0/9 [00:00<?, ?it/s]"
      ]
     },
     "metadata": {},
     "output_type": "display_data"
    },
    {
     "data": {
      "application/vnd.jupyter.widget-view+json": {
       "model_id": "98fe14788f7849189e33b969ceb52a51",
       "version_major": 2,
       "version_minor": 0
      },
      "text/plain": [
       "Backtest.optimize:   0%|          | 0/9 [00:00<?, ?it/s]"
      ]
     },
     "metadata": {},
     "output_type": "display_data"
    },
    {
     "data": {
      "application/vnd.jupyter.widget-view+json": {
       "model_id": "4430ff573506438c993842e888c48704",
       "version_major": 2,
       "version_minor": 0
      },
      "text/plain": [
       "Backtest.optimize:   0%|          | 0/9 [00:00<?, ?it/s]"
      ]
     },
     "metadata": {},
     "output_type": "display_data"
    },
    {
     "data": {
      "application/vnd.jupyter.widget-view+json": {
       "model_id": "0a690456ae964a4aae7a700c6a7b9be2",
       "version_major": 2,
       "version_minor": 0
      },
      "text/plain": [
       "Backtest.optimize:   0%|          | 0/9 [00:00<?, ?it/s]"
      ]
     },
     "metadata": {},
     "output_type": "display_data"
    },
    {
     "data": {
      "application/vnd.jupyter.widget-view+json": {
       "model_id": "ea75de12287f43198664cef16c0b0645",
       "version_major": 2,
       "version_minor": 0
      },
      "text/plain": [
       "Backtest.optimize:   0%|          | 0/9 [00:00<?, ?it/s]"
      ]
     },
     "metadata": {},
     "output_type": "display_data"
    },
    {
     "data": {
      "application/vnd.jupyter.widget-view+json": {
       "model_id": "1539b416f03c4796803ddcaf5b3e96a5",
       "version_major": 2,
       "version_minor": 0
      },
      "text/plain": [
       "Backtest.optimize:   0%|          | 0/9 [00:00<?, ?it/s]"
      ]
     },
     "metadata": {},
     "output_type": "display_data"
    },
    {
     "data": {
      "application/vnd.jupyter.widget-view+json": {
       "model_id": "aa24165bf65e4d13b9538e96ddb0895d",
       "version_major": 2,
       "version_minor": 0
      },
      "text/plain": [
       "Backtest.optimize:   0%|          | 0/9 [00:00<?, ?it/s]"
      ]
     },
     "metadata": {},
     "output_type": "display_data"
    },
    {
     "data": {
      "application/vnd.jupyter.widget-view+json": {
       "model_id": "1848d6538192481daae7753da01fec22",
       "version_major": 2,
       "version_minor": 0
      },
      "text/plain": [
       "Backtest.optimize:   0%|          | 0/9 [00:00<?, ?it/s]"
      ]
     },
     "metadata": {},
     "output_type": "display_data"
    },
    {
     "data": {
      "application/vnd.jupyter.widget-view+json": {
       "model_id": "2816bf04fa8145f88e6249db970c994d",
       "version_major": 2,
       "version_minor": 0
      },
      "text/plain": [
       "Backtest.optimize:   0%|          | 0/9 [00:00<?, ?it/s]"
      ]
     },
     "metadata": {},
     "output_type": "display_data"
    },
    {
     "data": {
      "application/vnd.jupyter.widget-view+json": {
       "model_id": "3771239ef3894e60adda6dde8637d23a",
       "version_major": 2,
       "version_minor": 0
      },
      "text/plain": [
       "Backtest.optimize:   0%|          | 0/9 [00:00<?, ?it/s]"
      ]
     },
     "metadata": {},
     "output_type": "display_data"
    },
    {
     "data": {
      "application/vnd.jupyter.widget-view+json": {
       "model_id": "c9bb1728ba994ad99514c112c661e904",
       "version_major": 2,
       "version_minor": 0
      },
      "text/plain": [
       "Backtest.optimize:   0%|          | 0/9 [00:00<?, ?it/s]"
      ]
     },
     "metadata": {},
     "output_type": "display_data"
    },
    {
     "data": {
      "application/vnd.jupyter.widget-view+json": {
       "model_id": "f1c883288d2e4191ae722646fec111c8",
       "version_major": 2,
       "version_minor": 0
      },
      "text/plain": [
       "Backtest.optimize:   0%|          | 0/9 [00:00<?, ?it/s]"
      ]
     },
     "metadata": {},
     "output_type": "display_data"
    },
    {
     "data": {
      "application/vnd.jupyter.widget-view+json": {
       "model_id": "8a566e2a8d8a4fb7b4a7cef5e1fe78a5",
       "version_major": 2,
       "version_minor": 0
      },
      "text/plain": [
       "Backtest.optimize:   0%|          | 0/9 [00:00<?, ?it/s]"
      ]
     },
     "metadata": {},
     "output_type": "display_data"
    },
    {
     "data": {
      "application/vnd.jupyter.widget-view+json": {
       "model_id": "4520408734d74806a3917fb734f9be1c",
       "version_major": 2,
       "version_minor": 0
      },
      "text/plain": [
       "Backtest.optimize:   0%|          | 0/9 [00:00<?, ?it/s]"
      ]
     },
     "metadata": {},
     "output_type": "display_data"
    },
    {
     "data": {
      "application/vnd.jupyter.widget-view+json": {
       "model_id": "be8ac50b88e044eb8382e378287d997b",
       "version_major": 2,
       "version_minor": 0
      },
      "text/plain": [
       "Backtest.optimize:   0%|          | 0/9 [00:00<?, ?it/s]"
      ]
     },
     "metadata": {},
     "output_type": "display_data"
    },
    {
     "data": {
      "application/vnd.jupyter.widget-view+json": {
       "model_id": "e86b87b6fe7d4dd58a81a3b1d88a3240",
       "version_major": 2,
       "version_minor": 0
      },
      "text/plain": [
       "Backtest.optimize:   0%|          | 0/9 [00:00<?, ?it/s]"
      ]
     },
     "metadata": {},
     "output_type": "display_data"
    },
    {
     "data": {
      "application/vnd.jupyter.widget-view+json": {
       "model_id": "4a6a82e94d4b485d868d77a844f635b9",
       "version_major": 2,
       "version_minor": 0
      },
      "text/plain": [
       "Backtest.optimize:   0%|          | 0/9 [00:00<?, ?it/s]"
      ]
     },
     "metadata": {},
     "output_type": "display_data"
    },
    {
     "data": {
      "application/vnd.jupyter.widget-view+json": {
       "model_id": "998b855cccea44a8b1cda345c9c63aa5",
       "version_major": 2,
       "version_minor": 0
      },
      "text/plain": [
       "Backtest.optimize:   0%|          | 0/9 [00:00<?, ?it/s]"
      ]
     },
     "metadata": {},
     "output_type": "display_data"
    },
    {
     "data": {
      "application/vnd.jupyter.widget-view+json": {
       "model_id": "646dfbaa30d54d53a95ed472627fe0a5",
       "version_major": 2,
       "version_minor": 0
      },
      "text/plain": [
       "Backtest.optimize:   0%|          | 0/9 [00:00<?, ?it/s]"
      ]
     },
     "metadata": {},
     "output_type": "display_data"
    },
    {
     "data": {
      "application/vnd.jupyter.widget-view+json": {
       "model_id": "ff98c6cd4a474e6e8ff9ec0e18881fc2",
       "version_major": 2,
       "version_minor": 0
      },
      "text/plain": [
       "Backtest.optimize:   0%|          | 0/9 [00:00<?, ?it/s]"
      ]
     },
     "metadata": {},
     "output_type": "display_data"
    },
    {
     "data": {
      "application/vnd.jupyter.widget-view+json": {
       "model_id": "b347f5103f9e44e69be73e3a8c7f8db6",
       "version_major": 2,
       "version_minor": 0
      },
      "text/plain": [
       "Backtest.optimize:   0%|          | 0/9 [00:00<?, ?it/s]"
      ]
     },
     "metadata": {},
     "output_type": "display_data"
    },
    {
     "data": {
      "application/vnd.jupyter.widget-view+json": {
       "model_id": "c1d3b3e699424ff992fe3aa02c49ff00",
       "version_major": 2,
       "version_minor": 0
      },
      "text/plain": [
       "Backtest.optimize:   0%|          | 0/9 [00:00<?, ?it/s]"
      ]
     },
     "metadata": {},
     "output_type": "display_data"
    },
    {
     "data": {
      "application/vnd.jupyter.widget-view+json": {
       "model_id": "46a767246bca48c1849eadeb0a8e3aee",
       "version_major": 2,
       "version_minor": 0
      },
      "text/plain": [
       "Backtest.optimize:   0%|          | 0/9 [00:00<?, ?it/s]"
      ]
     },
     "metadata": {},
     "output_type": "display_data"
    },
    {
     "data": {
      "application/vnd.jupyter.widget-view+json": {
       "model_id": "81006e23eb6343e2a8a32c7872df42c3",
       "version_major": 2,
       "version_minor": 0
      },
      "text/plain": [
       "Backtest.optimize:   0%|          | 0/9 [00:00<?, ?it/s]"
      ]
     },
     "metadata": {},
     "output_type": "display_data"
    },
    {
     "data": {
      "application/vnd.jupyter.widget-view+json": {
       "model_id": "21d74eaed62c46829330fdacf77c9da5",
       "version_major": 2,
       "version_minor": 0
      },
      "text/plain": [
       "Backtest.optimize:   0%|          | 0/9 [00:00<?, ?it/s]"
      ]
     },
     "metadata": {},
     "output_type": "display_data"
    },
    {
     "data": {
      "application/vnd.jupyter.widget-view+json": {
       "model_id": "45f6b9e32ee64740bced60d12df0a899",
       "version_major": 2,
       "version_minor": 0
      },
      "text/plain": [
       "Backtest.optimize:   0%|          | 0/9 [00:00<?, ?it/s]"
      ]
     },
     "metadata": {},
     "output_type": "display_data"
    },
    {
     "data": {
      "application/vnd.jupyter.widget-view+json": {
       "model_id": "9ecc45ccecbd4e1eb68dde72595d9e2e",
       "version_major": 2,
       "version_minor": 0
      },
      "text/plain": [
       "Backtest.optimize:   0%|          | 0/9 [00:00<?, ?it/s]"
      ]
     },
     "metadata": {},
     "output_type": "display_data"
    },
    {
     "data": {
      "application/vnd.jupyter.widget-view+json": {
       "model_id": "93379d28111c40b7aec140ff86798494",
       "version_major": 2,
       "version_minor": 0
      },
      "text/plain": [
       "Backtest.optimize:   0%|          | 0/9 [00:00<?, ?it/s]"
      ]
     },
     "metadata": {},
     "output_type": "display_data"
    },
    {
     "data": {
      "application/vnd.jupyter.widget-view+json": {
       "model_id": "a83ff10a01de4285ab913f56fc34cabd",
       "version_major": 2,
       "version_minor": 0
      },
      "text/plain": [
       "Backtest.optimize:   0%|          | 0/9 [00:00<?, ?it/s]"
      ]
     },
     "metadata": {},
     "output_type": "display_data"
    },
    {
     "data": {
      "application/vnd.jupyter.widget-view+json": {
       "model_id": "4cfbd67fd18444078c8c1640c7156397",
       "version_major": 2,
       "version_minor": 0
      },
      "text/plain": [
       "Backtest.optimize:   0%|          | 0/9 [00:00<?, ?it/s]"
      ]
     },
     "metadata": {},
     "output_type": "display_data"
    },
    {
     "data": {
      "application/vnd.jupyter.widget-view+json": {
       "model_id": "1d9e9a54832045b3b8dddc591b99e8e0",
       "version_major": 2,
       "version_minor": 0
      },
      "text/plain": [
       "Backtest.optimize:   0%|          | 0/9 [00:00<?, ?it/s]"
      ]
     },
     "metadata": {},
     "output_type": "display_data"
    },
    {
     "data": {
      "application/vnd.jupyter.widget-view+json": {
       "model_id": "ed73ef95238b4345911fb5209bfc3cc9",
       "version_major": 2,
       "version_minor": 0
      },
      "text/plain": [
       "Backtest.optimize:   0%|          | 0/9 [00:00<?, ?it/s]"
      ]
     },
     "metadata": {},
     "output_type": "display_data"
    },
    {
     "data": {
      "application/vnd.jupyter.widget-view+json": {
       "model_id": "3dc8774e9db74c7e8490cec3e107375b",
       "version_major": 2,
       "version_minor": 0
      },
      "text/plain": [
       "Backtest.optimize:   0%|          | 0/9 [00:00<?, ?it/s]"
      ]
     },
     "metadata": {},
     "output_type": "display_data"
    },
    {
     "data": {
      "application/vnd.jupyter.widget-view+json": {
       "model_id": "f8c0d767187f4dd79e13bb6d6452d595",
       "version_major": 2,
       "version_minor": 0
      },
      "text/plain": [
       "Backtest.optimize:   0%|          | 0/9 [00:00<?, ?it/s]"
      ]
     },
     "metadata": {},
     "output_type": "display_data"
    },
    {
     "data": {
      "application/vnd.jupyter.widget-view+json": {
       "model_id": "36127df0802e403ca6aa21cf1f11e6d3",
       "version_major": 2,
       "version_minor": 0
      },
      "text/plain": [
       "Backtest.optimize:   0%|          | 0/9 [00:00<?, ?it/s]"
      ]
     },
     "metadata": {},
     "output_type": "display_data"
    },
    {
     "data": {
      "application/vnd.jupyter.widget-view+json": {
       "model_id": "53c7132a3c6b450d9f9192899a50081a",
       "version_major": 2,
       "version_minor": 0
      },
      "text/plain": [
       "Backtest.optimize:   0%|          | 0/9 [00:00<?, ?it/s]"
      ]
     },
     "metadata": {},
     "output_type": "display_data"
    },
    {
     "data": {
      "application/vnd.jupyter.widget-view+json": {
       "model_id": "7cadfb284570427dbdf69a4d4f3e5333",
       "version_major": 2,
       "version_minor": 0
      },
      "text/plain": [
       "Backtest.optimize:   0%|          | 0/9 [00:00<?, ?it/s]"
      ]
     },
     "metadata": {},
     "output_type": "display_data"
    },
    {
     "data": {
      "application/vnd.jupyter.widget-view+json": {
       "model_id": "20b1857a9f7f4c72a234dc85b49efd72",
       "version_major": 2,
       "version_minor": 0
      },
      "text/plain": [
       "Backtest.optimize:   0%|          | 0/9 [00:00<?, ?it/s]"
      ]
     },
     "metadata": {},
     "output_type": "display_data"
    },
    {
     "data": {
      "application/vnd.jupyter.widget-view+json": {
       "model_id": "4378381f58b542d4a01d0c60f186f31c",
       "version_major": 2,
       "version_minor": 0
      },
      "text/plain": [
       "Backtest.optimize:   0%|          | 0/9 [00:00<?, ?it/s]"
      ]
     },
     "metadata": {},
     "output_type": "display_data"
    },
    {
     "data": {
      "application/vnd.jupyter.widget-view+json": {
       "model_id": "adaff3b964914c1684820ff2ca2dc7a7",
       "version_major": 2,
       "version_minor": 0
      },
      "text/plain": [
       "Backtest.optimize:   0%|          | 0/9 [00:00<?, ?it/s]"
      ]
     },
     "metadata": {},
     "output_type": "display_data"
    },
    {
     "data": {
      "application/vnd.jupyter.widget-view+json": {
       "model_id": "d97edb0fe4814be09e87baabdabbd967",
       "version_major": 2,
       "version_minor": 0
      },
      "text/plain": [
       "Backtest.optimize:   0%|          | 0/9 [00:00<?, ?it/s]"
      ]
     },
     "metadata": {},
     "output_type": "display_data"
    },
    {
     "data": {
      "application/vnd.jupyter.widget-view+json": {
       "model_id": "85105e6d8e0947498051602d9e1d8339",
       "version_major": 2,
       "version_minor": 0
      },
      "text/plain": [
       "Backtest.optimize:   0%|          | 0/9 [00:00<?, ?it/s]"
      ]
     },
     "metadata": {},
     "output_type": "display_data"
    },
    {
     "data": {
      "application/vnd.jupyter.widget-view+json": {
       "model_id": "f26b2c606be1447b9e0e3226c500885b",
       "version_major": 2,
       "version_minor": 0
      },
      "text/plain": [
       "Backtest.optimize:   0%|          | 0/9 [00:00<?, ?it/s]"
      ]
     },
     "metadata": {},
     "output_type": "display_data"
    },
    {
     "data": {
      "application/vnd.jupyter.widget-view+json": {
       "model_id": "c22d5ab6a81c4dc3b739f7c126f57f95",
       "version_major": 2,
       "version_minor": 0
      },
      "text/plain": [
       "Backtest.optimize:   0%|          | 0/9 [00:00<?, ?it/s]"
      ]
     },
     "metadata": {},
     "output_type": "display_data"
    },
    {
     "data": {
      "application/vnd.jupyter.widget-view+json": {
       "model_id": "44852c867f6e4f0eb55ccc2f987be3c8",
       "version_major": 2,
       "version_minor": 0
      },
      "text/plain": [
       "Backtest.optimize:   0%|          | 0/9 [00:00<?, ?it/s]"
      ]
     },
     "metadata": {},
     "output_type": "display_data"
    },
    {
     "data": {
      "application/vnd.jupyter.widget-view+json": {
       "model_id": "90023373a2674fa4a4707a02502bd9f6",
       "version_major": 2,
       "version_minor": 0
      },
      "text/plain": [
       "Backtest.optimize:   0%|          | 0/9 [00:00<?, ?it/s]"
      ]
     },
     "metadata": {},
     "output_type": "display_data"
    },
    {
     "data": {
      "application/vnd.jupyter.widget-view+json": {
       "model_id": "ad04d1105b2145558edbff30e9648805",
       "version_major": 2,
       "version_minor": 0
      },
      "text/plain": [
       "Backtest.optimize:   0%|          | 0/9 [00:00<?, ?it/s]"
      ]
     },
     "metadata": {},
     "output_type": "display_data"
    },
    {
     "data": {
      "application/vnd.jupyter.widget-view+json": {
       "model_id": "b695f61abe254caeae737dc97ec83e0c",
       "version_major": 2,
       "version_minor": 0
      },
      "text/plain": [
       "Backtest.optimize:   0%|          | 0/9 [00:00<?, ?it/s]"
      ]
     },
     "metadata": {},
     "output_type": "display_data"
    },
    {
     "data": {
      "application/vnd.jupyter.widget-view+json": {
       "model_id": "c5ce2ca234e648248afcef3907764b48",
       "version_major": 2,
       "version_minor": 0
      },
      "text/plain": [
       "Backtest.optimize:   0%|          | 0/9 [00:00<?, ?it/s]"
      ]
     },
     "metadata": {},
     "output_type": "display_data"
    },
    {
     "data": {
      "application/vnd.jupyter.widget-view+json": {
       "model_id": "7e17f592ff2247dbb87ab9d4ef19179b",
       "version_major": 2,
       "version_minor": 0
      },
      "text/plain": [
       "Backtest.optimize:   0%|          | 0/9 [00:00<?, ?it/s]"
      ]
     },
     "metadata": {},
     "output_type": "display_data"
    },
    {
     "data": {
      "application/vnd.jupyter.widget-view+json": {
       "model_id": "57b7c0b16c7e443db6ec03de38587f7c",
       "version_major": 2,
       "version_minor": 0
      },
      "text/plain": [
       "Backtest.optimize:   0%|          | 0/9 [00:00<?, ?it/s]"
      ]
     },
     "metadata": {},
     "output_type": "display_data"
    },
    {
     "data": {
      "application/vnd.jupyter.widget-view+json": {
       "model_id": "b5dea5d4dd124739813bc6337df203b7",
       "version_major": 2,
       "version_minor": 0
      },
      "text/plain": [
       "Backtest.optimize:   0%|          | 0/9 [00:00<?, ?it/s]"
      ]
     },
     "metadata": {},
     "output_type": "display_data"
    },
    {
     "data": {
      "application/vnd.jupyter.widget-view+json": {
       "model_id": "1fcb0a562bc04cef9faa6fe0deb33ac2",
       "version_major": 2,
       "version_minor": 0
      },
      "text/plain": [
       "Backtest.optimize:   0%|          | 0/9 [00:00<?, ?it/s]"
      ]
     },
     "metadata": {},
     "output_type": "display_data"
    },
    {
     "data": {
      "application/vnd.jupyter.widget-view+json": {
       "model_id": "d5204026279c4a71953e09a4452cc12b",
       "version_major": 2,
       "version_minor": 0
      },
      "text/plain": [
       "Backtest.optimize:   0%|          | 0/9 [00:00<?, ?it/s]"
      ]
     },
     "metadata": {},
     "output_type": "display_data"
    },
    {
     "data": {
      "application/vnd.jupyter.widget-view+json": {
       "model_id": "71f221ea41274880ac28a26cd95c6218",
       "version_major": 2,
       "version_minor": 0
      },
      "text/plain": [
       "Backtest.optimize:   0%|          | 0/9 [00:00<?, ?it/s]"
      ]
     },
     "metadata": {},
     "output_type": "display_data"
    },
    {
     "name": "stderr",
     "output_type": "stream",
     "text": [
      " 30%|███       | 18/60 [35:08<1:20:43, 115.33s/it]"
     ]
    },
    {
     "name": "stdout",
     "output_type": "stream",
     "text": [
      "BTC-USD : best_params: None, best_performance: -inf\n",
      "BTC-USD : train_set: 2020-08-17 00:00:00 - 2021-03-04 00:00:00, test_set: 2021-03-05 00:00:00 - 2021-04-06 00:00:00\n"
     ]
    },
    {
     "data": {
      "application/vnd.jupyter.widget-view+json": {
       "model_id": "b0cf06158a75448eb595dbdf321224c2",
       "version_major": 2,
       "version_minor": 0
      },
      "text/plain": [
       "Backtest.optimize:   0%|          | 0/9 [00:00<?, ?it/s]"
      ]
     },
     "metadata": {},
     "output_type": "display_data"
    },
    {
     "data": {
      "application/vnd.jupyter.widget-view+json": {
       "model_id": "8d74ebb6949c4af59da41697dc4b28ba",
       "version_major": 2,
       "version_minor": 0
      },
      "text/plain": [
       "Backtest.optimize:   0%|          | 0/9 [00:00<?, ?it/s]"
      ]
     },
     "metadata": {},
     "output_type": "display_data"
    },
    {
     "data": {
      "application/vnd.jupyter.widget-view+json": {
       "model_id": "f2ce75d38104432d8c88a744bcd4bccb",
       "version_major": 2,
       "version_minor": 0
      },
      "text/plain": [
       "Backtest.optimize:   0%|          | 0/9 [00:00<?, ?it/s]"
      ]
     },
     "metadata": {},
     "output_type": "display_data"
    },
    {
     "data": {
      "application/vnd.jupyter.widget-view+json": {
       "model_id": "f8250c2294874f6a887f174270c5c507",
       "version_major": 2,
       "version_minor": 0
      },
      "text/plain": [
       "Backtest.optimize:   0%|          | 0/9 [00:00<?, ?it/s]"
      ]
     },
     "metadata": {},
     "output_type": "display_data"
    },
    {
     "data": {
      "application/vnd.jupyter.widget-view+json": {
       "model_id": "203048269cfc4d28835c3770092538d3",
       "version_major": 2,
       "version_minor": 0
      },
      "text/plain": [
       "Backtest.optimize:   0%|          | 0/9 [00:00<?, ?it/s]"
      ]
     },
     "metadata": {},
     "output_type": "display_data"
    },
    {
     "data": {
      "application/vnd.jupyter.widget-view+json": {
       "model_id": "8506faf6664f4ac2a09ad7287cdc803c",
       "version_major": 2,
       "version_minor": 0
      },
      "text/plain": [
       "Backtest.optimize:   0%|          | 0/9 [00:00<?, ?it/s]"
      ]
     },
     "metadata": {},
     "output_type": "display_data"
    },
    {
     "data": {
      "application/vnd.jupyter.widget-view+json": {
       "model_id": "926c6868e2be4efc9663a24a5acd7a01",
       "version_major": 2,
       "version_minor": 0
      },
      "text/plain": [
       "Backtest.optimize:   0%|          | 0/9 [00:00<?, ?it/s]"
      ]
     },
     "metadata": {},
     "output_type": "display_data"
    },
    {
     "data": {
      "application/vnd.jupyter.widget-view+json": {
       "model_id": "9c243b76636f4f81a35c2b8ecebb4d60",
       "version_major": 2,
       "version_minor": 0
      },
      "text/plain": [
       "Backtest.optimize:   0%|          | 0/9 [00:00<?, ?it/s]"
      ]
     },
     "metadata": {},
     "output_type": "display_data"
    },
    {
     "data": {
      "application/vnd.jupyter.widget-view+json": {
       "model_id": "6ac0e9f4053747ddb3a299865aeb1542",
       "version_major": 2,
       "version_minor": 0
      },
      "text/plain": [
       "Backtest.optimize:   0%|          | 0/9 [00:00<?, ?it/s]"
      ]
     },
     "metadata": {},
     "output_type": "display_data"
    },
    {
     "data": {
      "application/vnd.jupyter.widget-view+json": {
       "model_id": "576909f1c3874aaab091787aeec3b671",
       "version_major": 2,
       "version_minor": 0
      },
      "text/plain": [
       "Backtest.optimize:   0%|          | 0/9 [00:00<?, ?it/s]"
      ]
     },
     "metadata": {},
     "output_type": "display_data"
    },
    {
     "data": {
      "application/vnd.jupyter.widget-view+json": {
       "model_id": "5b84073f31be4606a4cd304825d63125",
       "version_major": 2,
       "version_minor": 0
      },
      "text/plain": [
       "Backtest.optimize:   0%|          | 0/9 [00:00<?, ?it/s]"
      ]
     },
     "metadata": {},
     "output_type": "display_data"
    },
    {
     "data": {
      "application/vnd.jupyter.widget-view+json": {
       "model_id": "ad8afd4e688947c1a85563a68f0adaac",
       "version_major": 2,
       "version_minor": 0
      },
      "text/plain": [
       "Backtest.optimize:   0%|          | 0/9 [00:00<?, ?it/s]"
      ]
     },
     "metadata": {},
     "output_type": "display_data"
    },
    {
     "data": {
      "application/vnd.jupyter.widget-view+json": {
       "model_id": "81958b7c87b149b582d07fce36be83a3",
       "version_major": 2,
       "version_minor": 0
      },
      "text/plain": [
       "Backtest.optimize:   0%|          | 0/9 [00:00<?, ?it/s]"
      ]
     },
     "metadata": {},
     "output_type": "display_data"
    },
    {
     "data": {
      "application/vnd.jupyter.widget-view+json": {
       "model_id": "08f5a2cecd6248eead15a25febfc7bcf",
       "version_major": 2,
       "version_minor": 0
      },
      "text/plain": [
       "Backtest.optimize:   0%|          | 0/9 [00:00<?, ?it/s]"
      ]
     },
     "metadata": {},
     "output_type": "display_data"
    },
    {
     "data": {
      "application/vnd.jupyter.widget-view+json": {
       "model_id": "670e63c9a1f24f04b6536de11c038ddc",
       "version_major": 2,
       "version_minor": 0
      },
      "text/plain": [
       "Backtest.optimize:   0%|          | 0/9 [00:00<?, ?it/s]"
      ]
     },
     "metadata": {},
     "output_type": "display_data"
    },
    {
     "data": {
      "application/vnd.jupyter.widget-view+json": {
       "model_id": "cd4fcf66f4a34e2ea9e1bbe0ea925e93",
       "version_major": 2,
       "version_minor": 0
      },
      "text/plain": [
       "Backtest.optimize:   0%|          | 0/9 [00:00<?, ?it/s]"
      ]
     },
     "metadata": {},
     "output_type": "display_data"
    },
    {
     "data": {
      "application/vnd.jupyter.widget-view+json": {
       "model_id": "0ef7b35352874a4c8d2ca29a2e795a05",
       "version_major": 2,
       "version_minor": 0
      },
      "text/plain": [
       "Backtest.optimize:   0%|          | 0/9 [00:00<?, ?it/s]"
      ]
     },
     "metadata": {},
     "output_type": "display_data"
    },
    {
     "data": {
      "application/vnd.jupyter.widget-view+json": {
       "model_id": "e41837c454cc4cd98499d91152762564",
       "version_major": 2,
       "version_minor": 0
      },
      "text/plain": [
       "Backtest.optimize:   0%|          | 0/9 [00:00<?, ?it/s]"
      ]
     },
     "metadata": {},
     "output_type": "display_data"
    },
    {
     "data": {
      "application/vnd.jupyter.widget-view+json": {
       "model_id": "91b4c78183924f7fb99e42bd7ab265e7",
       "version_major": 2,
       "version_minor": 0
      },
      "text/plain": [
       "Backtest.optimize:   0%|          | 0/9 [00:00<?, ?it/s]"
      ]
     },
     "metadata": {},
     "output_type": "display_data"
    },
    {
     "data": {
      "application/vnd.jupyter.widget-view+json": {
       "model_id": "b66f36ffb1754d249695b8cb0bf55131",
       "version_major": 2,
       "version_minor": 0
      },
      "text/plain": [
       "Backtest.optimize:   0%|          | 0/9 [00:00<?, ?it/s]"
      ]
     },
     "metadata": {},
     "output_type": "display_data"
    },
    {
     "data": {
      "application/vnd.jupyter.widget-view+json": {
       "model_id": "9ad9861bfbb9499db0f51e5d6267666d",
       "version_major": 2,
       "version_minor": 0
      },
      "text/plain": [
       "Backtest.optimize:   0%|          | 0/9 [00:00<?, ?it/s]"
      ]
     },
     "metadata": {},
     "output_type": "display_data"
    },
    {
     "data": {
      "application/vnd.jupyter.widget-view+json": {
       "model_id": "b77345879c31440e8d828ed9d304842e",
       "version_major": 2,
       "version_minor": 0
      },
      "text/plain": [
       "Backtest.optimize:   0%|          | 0/9 [00:00<?, ?it/s]"
      ]
     },
     "metadata": {},
     "output_type": "display_data"
    },
    {
     "data": {
      "application/vnd.jupyter.widget-view+json": {
       "model_id": "b48eeb4b557e4ffebd937872b136c1d3",
       "version_major": 2,
       "version_minor": 0
      },
      "text/plain": [
       "Backtest.optimize:   0%|          | 0/9 [00:00<?, ?it/s]"
      ]
     },
     "metadata": {},
     "output_type": "display_data"
    },
    {
     "data": {
      "application/vnd.jupyter.widget-view+json": {
       "model_id": "3a80090c9585446782f106f70ed8b8c9",
       "version_major": 2,
       "version_minor": 0
      },
      "text/plain": [
       "Backtest.optimize:   0%|          | 0/9 [00:00<?, ?it/s]"
      ]
     },
     "metadata": {},
     "output_type": "display_data"
    },
    {
     "data": {
      "application/vnd.jupyter.widget-view+json": {
       "model_id": "738806edcadb43d7866303f0f5dc3bc2",
       "version_major": 2,
       "version_minor": 0
      },
      "text/plain": [
       "Backtest.optimize:   0%|          | 0/9 [00:00<?, ?it/s]"
      ]
     },
     "metadata": {},
     "output_type": "display_data"
    },
    {
     "data": {
      "application/vnd.jupyter.widget-view+json": {
       "model_id": "51758675c75d486e80284112970cb290",
       "version_major": 2,
       "version_minor": 0
      },
      "text/plain": [
       "Backtest.optimize:   0%|          | 0/9 [00:00<?, ?it/s]"
      ]
     },
     "metadata": {},
     "output_type": "display_data"
    },
    {
     "data": {
      "application/vnd.jupyter.widget-view+json": {
       "model_id": "2cac7ee5ab944a17849ec7006ec1ac9b",
       "version_major": 2,
       "version_minor": 0
      },
      "text/plain": [
       "Backtest.optimize:   0%|          | 0/9 [00:00<?, ?it/s]"
      ]
     },
     "metadata": {},
     "output_type": "display_data"
    },
    {
     "data": {
      "application/vnd.jupyter.widget-view+json": {
       "model_id": "8b76e51d72d443a383018c08eb650f99",
       "version_major": 2,
       "version_minor": 0
      },
      "text/plain": [
       "Backtest.optimize:   0%|          | 0/9 [00:00<?, ?it/s]"
      ]
     },
     "metadata": {},
     "output_type": "display_data"
    },
    {
     "data": {
      "application/vnd.jupyter.widget-view+json": {
       "model_id": "63dae4f2e2a243b18e44312d5442f1cd",
       "version_major": 2,
       "version_minor": 0
      },
      "text/plain": [
       "Backtest.optimize:   0%|          | 0/9 [00:00<?, ?it/s]"
      ]
     },
     "metadata": {},
     "output_type": "display_data"
    },
    {
     "data": {
      "application/vnd.jupyter.widget-view+json": {
       "model_id": "914392bcad8f4881bd88fe74d4fe4558",
       "version_major": 2,
       "version_minor": 0
      },
      "text/plain": [
       "Backtest.optimize:   0%|          | 0/9 [00:00<?, ?it/s]"
      ]
     },
     "metadata": {},
     "output_type": "display_data"
    },
    {
     "data": {
      "application/vnd.jupyter.widget-view+json": {
       "model_id": "07514c5311c343279bece52cf4a6210b",
       "version_major": 2,
       "version_minor": 0
      },
      "text/plain": [
       "Backtest.optimize:   0%|          | 0/9 [00:00<?, ?it/s]"
      ]
     },
     "metadata": {},
     "output_type": "display_data"
    },
    {
     "data": {
      "application/vnd.jupyter.widget-view+json": {
       "model_id": "0a9579826e8e430a993fa2c22ced72c3",
       "version_major": 2,
       "version_minor": 0
      },
      "text/plain": [
       "Backtest.optimize:   0%|          | 0/9 [00:00<?, ?it/s]"
      ]
     },
     "metadata": {},
     "output_type": "display_data"
    },
    {
     "data": {
      "application/vnd.jupyter.widget-view+json": {
       "model_id": "be10df78e86f4e629db3b7900648e966",
       "version_major": 2,
       "version_minor": 0
      },
      "text/plain": [
       "Backtest.optimize:   0%|          | 0/9 [00:00<?, ?it/s]"
      ]
     },
     "metadata": {},
     "output_type": "display_data"
    },
    {
     "data": {
      "application/vnd.jupyter.widget-view+json": {
       "model_id": "8f32a39effa44f708a53bae834fcb934",
       "version_major": 2,
       "version_minor": 0
      },
      "text/plain": [
       "Backtest.optimize:   0%|          | 0/9 [00:00<?, ?it/s]"
      ]
     },
     "metadata": {},
     "output_type": "display_data"
    },
    {
     "data": {
      "application/vnd.jupyter.widget-view+json": {
       "model_id": "26232ca16a80419387780a8c7266004d",
       "version_major": 2,
       "version_minor": 0
      },
      "text/plain": [
       "Backtest.optimize:   0%|          | 0/9 [00:00<?, ?it/s]"
      ]
     },
     "metadata": {},
     "output_type": "display_data"
    },
    {
     "data": {
      "application/vnd.jupyter.widget-view+json": {
       "model_id": "054fb0551edb48e08681355408feb160",
       "version_major": 2,
       "version_minor": 0
      },
      "text/plain": [
       "Backtest.optimize:   0%|          | 0/9 [00:00<?, ?it/s]"
      ]
     },
     "metadata": {},
     "output_type": "display_data"
    },
    {
     "data": {
      "application/vnd.jupyter.widget-view+json": {
       "model_id": "a6e78521606643cca5a8a8698ebacf9b",
       "version_major": 2,
       "version_minor": 0
      },
      "text/plain": [
       "Backtest.optimize:   0%|          | 0/9 [00:00<?, ?it/s]"
      ]
     },
     "metadata": {},
     "output_type": "display_data"
    },
    {
     "data": {
      "application/vnd.jupyter.widget-view+json": {
       "model_id": "c0d5d1b888f94576a5b86fca45358217",
       "version_major": 2,
       "version_minor": 0
      },
      "text/plain": [
       "Backtest.optimize:   0%|          | 0/9 [00:00<?, ?it/s]"
      ]
     },
     "metadata": {},
     "output_type": "display_data"
    },
    {
     "data": {
      "application/vnd.jupyter.widget-view+json": {
       "model_id": "eef4a5b95f31470abf333100d88b44a7",
       "version_major": 2,
       "version_minor": 0
      },
      "text/plain": [
       "Backtest.optimize:   0%|          | 0/9 [00:00<?, ?it/s]"
      ]
     },
     "metadata": {},
     "output_type": "display_data"
    },
    {
     "data": {
      "application/vnd.jupyter.widget-view+json": {
       "model_id": "7e224fbd30c14625a7284711fe4aef29",
       "version_major": 2,
       "version_minor": 0
      },
      "text/plain": [
       "Backtest.optimize:   0%|          | 0/9 [00:00<?, ?it/s]"
      ]
     },
     "metadata": {},
     "output_type": "display_data"
    },
    {
     "data": {
      "application/vnd.jupyter.widget-view+json": {
       "model_id": "90c88fcdf7d24b93a441eb1be584bd47",
       "version_major": 2,
       "version_minor": 0
      },
      "text/plain": [
       "Backtest.optimize:   0%|          | 0/9 [00:00<?, ?it/s]"
      ]
     },
     "metadata": {},
     "output_type": "display_data"
    },
    {
     "data": {
      "application/vnd.jupyter.widget-view+json": {
       "model_id": "3a13b216ec514bd6b49e34865e94fd0c",
       "version_major": 2,
       "version_minor": 0
      },
      "text/plain": [
       "Backtest.optimize:   0%|          | 0/9 [00:00<?, ?it/s]"
      ]
     },
     "metadata": {},
     "output_type": "display_data"
    },
    {
     "data": {
      "application/vnd.jupyter.widget-view+json": {
       "model_id": "f470b29e5fa04fefba8af3e61acd0f46",
       "version_major": 2,
       "version_minor": 0
      },
      "text/plain": [
       "Backtest.optimize:   0%|          | 0/9 [00:00<?, ?it/s]"
      ]
     },
     "metadata": {},
     "output_type": "display_data"
    },
    {
     "data": {
      "application/vnd.jupyter.widget-view+json": {
       "model_id": "c439ce94d3fa4c4081bee9d874bddf0c",
       "version_major": 2,
       "version_minor": 0
      },
      "text/plain": [
       "Backtest.optimize:   0%|          | 0/9 [00:00<?, ?it/s]"
      ]
     },
     "metadata": {},
     "output_type": "display_data"
    },
    {
     "data": {
      "application/vnd.jupyter.widget-view+json": {
       "model_id": "5f06e0baa0274232abf795a169ffabca",
       "version_major": 2,
       "version_minor": 0
      },
      "text/plain": [
       "Backtest.optimize:   0%|          | 0/9 [00:00<?, ?it/s]"
      ]
     },
     "metadata": {},
     "output_type": "display_data"
    },
    {
     "data": {
      "application/vnd.jupyter.widget-view+json": {
       "model_id": "a13d1ecd46bb43bcb9fd34d92681c5e0",
       "version_major": 2,
       "version_minor": 0
      },
      "text/plain": [
       "Backtest.optimize:   0%|          | 0/9 [00:00<?, ?it/s]"
      ]
     },
     "metadata": {},
     "output_type": "display_data"
    },
    {
     "data": {
      "application/vnd.jupyter.widget-view+json": {
       "model_id": "264cb97928454bf0975643951c4346e4",
       "version_major": 2,
       "version_minor": 0
      },
      "text/plain": [
       "Backtest.optimize:   0%|          | 0/9 [00:00<?, ?it/s]"
      ]
     },
     "metadata": {},
     "output_type": "display_data"
    },
    {
     "data": {
      "application/vnd.jupyter.widget-view+json": {
       "model_id": "5cf0d39079ec46b08bedb380b00b313c",
       "version_major": 2,
       "version_minor": 0
      },
      "text/plain": [
       "Backtest.optimize:   0%|          | 0/9 [00:00<?, ?it/s]"
      ]
     },
     "metadata": {},
     "output_type": "display_data"
    },
    {
     "data": {
      "application/vnd.jupyter.widget-view+json": {
       "model_id": "a98440fb1233486c909b4c899752485b",
       "version_major": 2,
       "version_minor": 0
      },
      "text/plain": [
       "Backtest.optimize:   0%|          | 0/9 [00:00<?, ?it/s]"
      ]
     },
     "metadata": {},
     "output_type": "display_data"
    },
    {
     "data": {
      "application/vnd.jupyter.widget-view+json": {
       "model_id": "40fdfdb4a83d416f89e5ca132666fbea",
       "version_major": 2,
       "version_minor": 0
      },
      "text/plain": [
       "Backtest.optimize:   0%|          | 0/9 [00:00<?, ?it/s]"
      ]
     },
     "metadata": {},
     "output_type": "display_data"
    },
    {
     "data": {
      "application/vnd.jupyter.widget-view+json": {
       "model_id": "d2be56e6d61e42349c46912ed5722172",
       "version_major": 2,
       "version_minor": 0
      },
      "text/plain": [
       "Backtest.optimize:   0%|          | 0/9 [00:00<?, ?it/s]"
      ]
     },
     "metadata": {},
     "output_type": "display_data"
    },
    {
     "data": {
      "application/vnd.jupyter.widget-view+json": {
       "model_id": "e20b992e392e4966ba2020eae81e6704",
       "version_major": 2,
       "version_minor": 0
      },
      "text/plain": [
       "Backtest.optimize:   0%|          | 0/9 [00:00<?, ?it/s]"
      ]
     },
     "metadata": {},
     "output_type": "display_data"
    },
    {
     "data": {
      "application/vnd.jupyter.widget-view+json": {
       "model_id": "7fe932cce3d54dbb8ed56b7f4f2a6b93",
       "version_major": 2,
       "version_minor": 0
      },
      "text/plain": [
       "Backtest.optimize:   0%|          | 0/9 [00:00<?, ?it/s]"
      ]
     },
     "metadata": {},
     "output_type": "display_data"
    },
    {
     "data": {
      "application/vnd.jupyter.widget-view+json": {
       "model_id": "dd99952e0908492d87724cc17b41b80f",
       "version_major": 2,
       "version_minor": 0
      },
      "text/plain": [
       "Backtest.optimize:   0%|          | 0/9 [00:00<?, ?it/s]"
      ]
     },
     "metadata": {},
     "output_type": "display_data"
    },
    {
     "data": {
      "application/vnd.jupyter.widget-view+json": {
       "model_id": "ebeed276dc30473383a19bfb09cc817f",
       "version_major": 2,
       "version_minor": 0
      },
      "text/plain": [
       "Backtest.optimize:   0%|          | 0/9 [00:00<?, ?it/s]"
      ]
     },
     "metadata": {},
     "output_type": "display_data"
    },
    {
     "data": {
      "application/vnd.jupyter.widget-view+json": {
       "model_id": "c70290c6c2ba4c278e8c3f25dfdccadf",
       "version_major": 2,
       "version_minor": 0
      },
      "text/plain": [
       "Backtest.optimize:   0%|          | 0/9 [00:00<?, ?it/s]"
      ]
     },
     "metadata": {},
     "output_type": "display_data"
    },
    {
     "data": {
      "application/vnd.jupyter.widget-view+json": {
       "model_id": "bb1e5b80349248d889c4753a69c29e49",
       "version_major": 2,
       "version_minor": 0
      },
      "text/plain": [
       "Backtest.optimize:   0%|          | 0/9 [00:00<?, ?it/s]"
      ]
     },
     "metadata": {},
     "output_type": "display_data"
    },
    {
     "data": {
      "application/vnd.jupyter.widget-view+json": {
       "model_id": "e138415808de4028afa7cb4d8c6e4436",
       "version_major": 2,
       "version_minor": 0
      },
      "text/plain": [
       "Backtest.optimize:   0%|          | 0/9 [00:00<?, ?it/s]"
      ]
     },
     "metadata": {},
     "output_type": "display_data"
    },
    {
     "data": {
      "application/vnd.jupyter.widget-view+json": {
       "model_id": "40315efae61a4b569ed63fd1dd206d56",
       "version_major": 2,
       "version_minor": 0
      },
      "text/plain": [
       "Backtest.optimize:   0%|          | 0/9 [00:00<?, ?it/s]"
      ]
     },
     "metadata": {},
     "output_type": "display_data"
    },
    {
     "data": {
      "application/vnd.jupyter.widget-view+json": {
       "model_id": "987d557d0ba0470fa9b0b55406ba3ee6",
       "version_major": 2,
       "version_minor": 0
      },
      "text/plain": [
       "Backtest.optimize:   0%|          | 0/9 [00:00<?, ?it/s]"
      ]
     },
     "metadata": {},
     "output_type": "display_data"
    },
    {
     "data": {
      "application/vnd.jupyter.widget-view+json": {
       "model_id": "07727a5943ea4004a14cd852d1774ada",
       "version_major": 2,
       "version_minor": 0
      },
      "text/plain": [
       "Backtest.optimize:   0%|          | 0/9 [00:00<?, ?it/s]"
      ]
     },
     "metadata": {},
     "output_type": "display_data"
    },
    {
     "data": {
      "application/vnd.jupyter.widget-view+json": {
       "model_id": "6a74d3271fd34fbf82293ec3023df442",
       "version_major": 2,
       "version_minor": 0
      },
      "text/plain": [
       "Backtest.optimize:   0%|          | 0/9 [00:00<?, ?it/s]"
      ]
     },
     "metadata": {},
     "output_type": "display_data"
    },
    {
     "data": {
      "application/vnd.jupyter.widget-view+json": {
       "model_id": "2e7b7a708d2c474e98320ca3e9b3fea4",
       "version_major": 2,
       "version_minor": 0
      },
      "text/plain": [
       "Backtest.optimize:   0%|          | 0/9 [00:00<?, ?it/s]"
      ]
     },
     "metadata": {},
     "output_type": "display_data"
    },
    {
     "data": {
      "application/vnd.jupyter.widget-view+json": {
       "model_id": "ee00e88903b24e56b8838191240aae42",
       "version_major": 2,
       "version_minor": 0
      },
      "text/plain": [
       "Backtest.optimize:   0%|          | 0/9 [00:00<?, ?it/s]"
      ]
     },
     "metadata": {},
     "output_type": "display_data"
    },
    {
     "data": {
      "application/vnd.jupyter.widget-view+json": {
       "model_id": "9ea9033b1118454597abb5c8f308cbd8",
       "version_major": 2,
       "version_minor": 0
      },
      "text/plain": [
       "Backtest.optimize:   0%|          | 0/9 [00:00<?, ?it/s]"
      ]
     },
     "metadata": {},
     "output_type": "display_data"
    },
    {
     "data": {
      "application/vnd.jupyter.widget-view+json": {
       "model_id": "483a29977fe24c8896fd8d0cc1ed5604",
       "version_major": 2,
       "version_minor": 0
      },
      "text/plain": [
       "Backtest.optimize:   0%|          | 0/9 [00:00<?, ?it/s]"
      ]
     },
     "metadata": {},
     "output_type": "display_data"
    },
    {
     "data": {
      "application/vnd.jupyter.widget-view+json": {
       "model_id": "030556ce903f4b9e8c6e667ad07d3160",
       "version_major": 2,
       "version_minor": 0
      },
      "text/plain": [
       "Backtest.optimize:   0%|          | 0/9 [00:00<?, ?it/s]"
      ]
     },
     "metadata": {},
     "output_type": "display_data"
    },
    {
     "data": {
      "application/vnd.jupyter.widget-view+json": {
       "model_id": "3c91f44ae260428d89f847cf87e5281f",
       "version_major": 2,
       "version_minor": 0
      },
      "text/plain": [
       "Backtest.optimize:   0%|          | 0/9 [00:00<?, ?it/s]"
      ]
     },
     "metadata": {},
     "output_type": "display_data"
    },
    {
     "data": {
      "application/vnd.jupyter.widget-view+json": {
       "model_id": "8cd4704435964678aabf5cfd178a653f",
       "version_major": 2,
       "version_minor": 0
      },
      "text/plain": [
       "Backtest.optimize:   0%|          | 0/9 [00:00<?, ?it/s]"
      ]
     },
     "metadata": {},
     "output_type": "display_data"
    },
    {
     "data": {
      "application/vnd.jupyter.widget-view+json": {
       "model_id": "b6f9316bcf3f4770b12e99f729ba431b",
       "version_major": 2,
       "version_minor": 0
      },
      "text/plain": [
       "Backtest.optimize:   0%|          | 0/9 [00:00<?, ?it/s]"
      ]
     },
     "metadata": {},
     "output_type": "display_data"
    },
    {
     "data": {
      "application/vnd.jupyter.widget-view+json": {
       "model_id": "4cdb4632dbb34a78ab8c685696eaaab9",
       "version_major": 2,
       "version_minor": 0
      },
      "text/plain": [
       "Backtest.optimize:   0%|          | 0/9 [00:00<?, ?it/s]"
      ]
     },
     "metadata": {},
     "output_type": "display_data"
    },
    {
     "data": {
      "application/vnd.jupyter.widget-view+json": {
       "model_id": "a66cbfdd272044cc9aaa697dfb55128d",
       "version_major": 2,
       "version_minor": 0
      },
      "text/plain": [
       "Backtest.optimize:   0%|          | 0/9 [00:00<?, ?it/s]"
      ]
     },
     "metadata": {},
     "output_type": "display_data"
    },
    {
     "data": {
      "application/vnd.jupyter.widget-view+json": {
       "model_id": "8f00fe61140847d49da0b3e42f7b9f9e",
       "version_major": 2,
       "version_minor": 0
      },
      "text/plain": [
       "Backtest.optimize:   0%|          | 0/9 [00:00<?, ?it/s]"
      ]
     },
     "metadata": {},
     "output_type": "display_data"
    },
    {
     "data": {
      "application/vnd.jupyter.widget-view+json": {
       "model_id": "21f71b7de69f463eb9de74d502d02cf0",
       "version_major": 2,
       "version_minor": 0
      },
      "text/plain": [
       "Backtest.optimize:   0%|          | 0/9 [00:00<?, ?it/s]"
      ]
     },
     "metadata": {},
     "output_type": "display_data"
    },
    {
     "data": {
      "application/vnd.jupyter.widget-view+json": {
       "model_id": "2eb2c5e2eebf41b3be8b2fa8d34648dd",
       "version_major": 2,
       "version_minor": 0
      },
      "text/plain": [
       "Backtest.optimize:   0%|          | 0/9 [00:00<?, ?it/s]"
      ]
     },
     "metadata": {},
     "output_type": "display_data"
    },
    {
     "data": {
      "application/vnd.jupyter.widget-view+json": {
       "model_id": "17da6764c6744e72a5011ddec452f610",
       "version_major": 2,
       "version_minor": 0
      },
      "text/plain": [
       "Backtest.optimize:   0%|          | 0/9 [00:00<?, ?it/s]"
      ]
     },
     "metadata": {},
     "output_type": "display_data"
    },
    {
     "data": {
      "application/vnd.jupyter.widget-view+json": {
       "model_id": "4e7b60476aa54c66b67a1ee55350ac84",
       "version_major": 2,
       "version_minor": 0
      },
      "text/plain": [
       "Backtest.optimize:   0%|          | 0/9 [00:00<?, ?it/s]"
      ]
     },
     "metadata": {},
     "output_type": "display_data"
    },
    {
     "data": {
      "application/vnd.jupyter.widget-view+json": {
       "model_id": "b97088711dbd40acaffb0f160e70d028",
       "version_major": 2,
       "version_minor": 0
      },
      "text/plain": [
       "Backtest.optimize:   0%|          | 0/9 [00:00<?, ?it/s]"
      ]
     },
     "metadata": {},
     "output_type": "display_data"
    },
    {
     "data": {
      "application/vnd.jupyter.widget-view+json": {
       "model_id": "a9e8b1b47f694e6d87364e8ea5deb329",
       "version_major": 2,
       "version_minor": 0
      },
      "text/plain": [
       "Backtest.optimize:   0%|          | 0/9 [00:00<?, ?it/s]"
      ]
     },
     "metadata": {},
     "output_type": "display_data"
    },
    {
     "data": {
      "application/vnd.jupyter.widget-view+json": {
       "model_id": "ce274ee1629448f89f1f45d8271df75d",
       "version_major": 2,
       "version_minor": 0
      },
      "text/plain": [
       "Backtest.optimize:   0%|          | 0/9 [00:00<?, ?it/s]"
      ]
     },
     "metadata": {},
     "output_type": "display_data"
    },
    {
     "data": {
      "application/vnd.jupyter.widget-view+json": {
       "model_id": "e872bbd48097430a98ee06379c85783d",
       "version_major": 2,
       "version_minor": 0
      },
      "text/plain": [
       "Backtest.optimize:   0%|          | 0/9 [00:00<?, ?it/s]"
      ]
     },
     "metadata": {},
     "output_type": "display_data"
    },
    {
     "name": "stderr",
     "output_type": "stream",
     "text": [
      " 32%|███▏      | 19/60 [37:59<1:30:04, 131.83s/it]"
     ]
    },
    {
     "name": "stdout",
     "output_type": "stream",
     "text": [
      "BTC-USD : best_params: None, best_performance: -inf\n",
      "BTC-USD : train_set: 2020-09-19 00:00:00 - 2021-04-06 00:00:00, test_set: 2021-04-07 00:00:00 - 2021-05-09 00:00:00\n"
     ]
    },
    {
     "data": {
      "application/vnd.jupyter.widget-view+json": {
       "model_id": "d3ca2a819287470190db156f67a6f81b",
       "version_major": 2,
       "version_minor": 0
      },
      "text/plain": [
       "Backtest.optimize:   0%|          | 0/9 [00:00<?, ?it/s]"
      ]
     },
     "metadata": {},
     "output_type": "display_data"
    },
    {
     "data": {
      "application/vnd.jupyter.widget-view+json": {
       "model_id": "9ffb027dc789499c8d27f346ed7b0310",
       "version_major": 2,
       "version_minor": 0
      },
      "text/plain": [
       "Backtest.optimize:   0%|          | 0/9 [00:00<?, ?it/s]"
      ]
     },
     "metadata": {},
     "output_type": "display_data"
    },
    {
     "data": {
      "application/vnd.jupyter.widget-view+json": {
       "model_id": "f02add736cbe4d2db082d1c23f6378e7",
       "version_major": 2,
       "version_minor": 0
      },
      "text/plain": [
       "Backtest.optimize:   0%|          | 0/9 [00:00<?, ?it/s]"
      ]
     },
     "metadata": {},
     "output_type": "display_data"
    },
    {
     "data": {
      "application/vnd.jupyter.widget-view+json": {
       "model_id": "f7b99d617efa4693948adfd1b9a182fb",
       "version_major": 2,
       "version_minor": 0
      },
      "text/plain": [
       "Backtest.optimize:   0%|          | 0/9 [00:00<?, ?it/s]"
      ]
     },
     "metadata": {},
     "output_type": "display_data"
    },
    {
     "data": {
      "application/vnd.jupyter.widget-view+json": {
       "model_id": "529117a0aac24637ada0be554e65afb2",
       "version_major": 2,
       "version_minor": 0
      },
      "text/plain": [
       "Backtest.optimize:   0%|          | 0/9 [00:00<?, ?it/s]"
      ]
     },
     "metadata": {},
     "output_type": "display_data"
    },
    {
     "data": {
      "application/vnd.jupyter.widget-view+json": {
       "model_id": "6c89c0eae6714359ac2c0e849b5a80d7",
       "version_major": 2,
       "version_minor": 0
      },
      "text/plain": [
       "Backtest.optimize:   0%|          | 0/9 [00:00<?, ?it/s]"
      ]
     },
     "metadata": {},
     "output_type": "display_data"
    },
    {
     "data": {
      "application/vnd.jupyter.widget-view+json": {
       "model_id": "cb0b5186469c4587a913b51b28fc3935",
       "version_major": 2,
       "version_minor": 0
      },
      "text/plain": [
       "Backtest.optimize:   0%|          | 0/9 [00:00<?, ?it/s]"
      ]
     },
     "metadata": {},
     "output_type": "display_data"
    },
    {
     "data": {
      "application/vnd.jupyter.widget-view+json": {
       "model_id": "b92761501f394dfb982e20bdbe4dab48",
       "version_major": 2,
       "version_minor": 0
      },
      "text/plain": [
       "Backtest.optimize:   0%|          | 0/9 [00:00<?, ?it/s]"
      ]
     },
     "metadata": {},
     "output_type": "display_data"
    },
    {
     "data": {
      "application/vnd.jupyter.widget-view+json": {
       "model_id": "dfc5d81f3f3f4de28bd57dc27175cfa4",
       "version_major": 2,
       "version_minor": 0
      },
      "text/plain": [
       "Backtest.optimize:   0%|          | 0/9 [00:00<?, ?it/s]"
      ]
     },
     "metadata": {},
     "output_type": "display_data"
    },
    {
     "data": {
      "application/vnd.jupyter.widget-view+json": {
       "model_id": "65b30db621244988be4fa9f55d5befe7",
       "version_major": 2,
       "version_minor": 0
      },
      "text/plain": [
       "Backtest.optimize:   0%|          | 0/9 [00:00<?, ?it/s]"
      ]
     },
     "metadata": {},
     "output_type": "display_data"
    },
    {
     "data": {
      "application/vnd.jupyter.widget-view+json": {
       "model_id": "d39819ead2d040fe9de5b10e924b4acc",
       "version_major": 2,
       "version_minor": 0
      },
      "text/plain": [
       "Backtest.optimize:   0%|          | 0/9 [00:00<?, ?it/s]"
      ]
     },
     "metadata": {},
     "output_type": "display_data"
    },
    {
     "data": {
      "application/vnd.jupyter.widget-view+json": {
       "model_id": "3e52b3969b15444e9325e8024b92a475",
       "version_major": 2,
       "version_minor": 0
      },
      "text/plain": [
       "Backtest.optimize:   0%|          | 0/9 [00:00<?, ?it/s]"
      ]
     },
     "metadata": {},
     "output_type": "display_data"
    },
    {
     "data": {
      "application/vnd.jupyter.widget-view+json": {
       "model_id": "cd37bc74e70e42449a30cd77cefa4f19",
       "version_major": 2,
       "version_minor": 0
      },
      "text/plain": [
       "Backtest.optimize:   0%|          | 0/9 [00:00<?, ?it/s]"
      ]
     },
     "metadata": {},
     "output_type": "display_data"
    },
    {
     "data": {
      "application/vnd.jupyter.widget-view+json": {
       "model_id": "16719608cb3049afb169002fc0d1d50a",
       "version_major": 2,
       "version_minor": 0
      },
      "text/plain": [
       "Backtest.optimize:   0%|          | 0/9 [00:00<?, ?it/s]"
      ]
     },
     "metadata": {},
     "output_type": "display_data"
    },
    {
     "data": {
      "application/vnd.jupyter.widget-view+json": {
       "model_id": "98a56942b62c48928fc7153f1120482b",
       "version_major": 2,
       "version_minor": 0
      },
      "text/plain": [
       "Backtest.optimize:   0%|          | 0/9 [00:00<?, ?it/s]"
      ]
     },
     "metadata": {},
     "output_type": "display_data"
    },
    {
     "data": {
      "application/vnd.jupyter.widget-view+json": {
       "model_id": "d183c0949b6140649f6f242158a5969a",
       "version_major": 2,
       "version_minor": 0
      },
      "text/plain": [
       "Backtest.optimize:   0%|          | 0/9 [00:00<?, ?it/s]"
      ]
     },
     "metadata": {},
     "output_type": "display_data"
    },
    {
     "data": {
      "application/vnd.jupyter.widget-view+json": {
       "model_id": "5ab853c06bcc46dfa143ccaa0f6483df",
       "version_major": 2,
       "version_minor": 0
      },
      "text/plain": [
       "Backtest.optimize:   0%|          | 0/9 [00:00<?, ?it/s]"
      ]
     },
     "metadata": {},
     "output_type": "display_data"
    },
    {
     "data": {
      "application/vnd.jupyter.widget-view+json": {
       "model_id": "ad3dc259e7364d0fa49bd03c02e8f013",
       "version_major": 2,
       "version_minor": 0
      },
      "text/plain": [
       "Backtest.optimize:   0%|          | 0/9 [00:00<?, ?it/s]"
      ]
     },
     "metadata": {},
     "output_type": "display_data"
    },
    {
     "data": {
      "application/vnd.jupyter.widget-view+json": {
       "model_id": "80a9f6933bcc48638db23a9789dcc6db",
       "version_major": 2,
       "version_minor": 0
      },
      "text/plain": [
       "Backtest.optimize:   0%|          | 0/9 [00:00<?, ?it/s]"
      ]
     },
     "metadata": {},
     "output_type": "display_data"
    },
    {
     "data": {
      "application/vnd.jupyter.widget-view+json": {
       "model_id": "5968e962959247a997da5cd0dd4e0462",
       "version_major": 2,
       "version_minor": 0
      },
      "text/plain": [
       "Backtest.optimize:   0%|          | 0/9 [00:00<?, ?it/s]"
      ]
     },
     "metadata": {},
     "output_type": "display_data"
    },
    {
     "data": {
      "application/vnd.jupyter.widget-view+json": {
       "model_id": "606644a198ca42a79b5dd6302950fe2c",
       "version_major": 2,
       "version_minor": 0
      },
      "text/plain": [
       "Backtest.optimize:   0%|          | 0/9 [00:00<?, ?it/s]"
      ]
     },
     "metadata": {},
     "output_type": "display_data"
    },
    {
     "data": {
      "application/vnd.jupyter.widget-view+json": {
       "model_id": "75de3798d9564b699e631b715f582c78",
       "version_major": 2,
       "version_minor": 0
      },
      "text/plain": [
       "Backtest.optimize:   0%|          | 0/9 [00:00<?, ?it/s]"
      ]
     },
     "metadata": {},
     "output_type": "display_data"
    },
    {
     "data": {
      "application/vnd.jupyter.widget-view+json": {
       "model_id": "de2c35e832994c81b8fcf72881995f50",
       "version_major": 2,
       "version_minor": 0
      },
      "text/plain": [
       "Backtest.optimize:   0%|          | 0/9 [00:00<?, ?it/s]"
      ]
     },
     "metadata": {},
     "output_type": "display_data"
    },
    {
     "data": {
      "application/vnd.jupyter.widget-view+json": {
       "model_id": "4b3b436530b8492aa551fe102f34c9e8",
       "version_major": 2,
       "version_minor": 0
      },
      "text/plain": [
       "Backtest.optimize:   0%|          | 0/9 [00:00<?, ?it/s]"
      ]
     },
     "metadata": {},
     "output_type": "display_data"
    },
    {
     "data": {
      "application/vnd.jupyter.widget-view+json": {
       "model_id": "b9dbbc5f1d5c4b9f81904116c7784a30",
       "version_major": 2,
       "version_minor": 0
      },
      "text/plain": [
       "Backtest.optimize:   0%|          | 0/9 [00:00<?, ?it/s]"
      ]
     },
     "metadata": {},
     "output_type": "display_data"
    },
    {
     "data": {
      "application/vnd.jupyter.widget-view+json": {
       "model_id": "a80b60e07e8f4efdabd7d7b59bcc54b8",
       "version_major": 2,
       "version_minor": 0
      },
      "text/plain": [
       "Backtest.optimize:   0%|          | 0/9 [00:00<?, ?it/s]"
      ]
     },
     "metadata": {},
     "output_type": "display_data"
    },
    {
     "data": {
      "application/vnd.jupyter.widget-view+json": {
       "model_id": "d1787c2382ab490ea6ce9eaa8171e23a",
       "version_major": 2,
       "version_minor": 0
      },
      "text/plain": [
       "Backtest.optimize:   0%|          | 0/9 [00:00<?, ?it/s]"
      ]
     },
     "metadata": {},
     "output_type": "display_data"
    },
    {
     "data": {
      "application/vnd.jupyter.widget-view+json": {
       "model_id": "56382fec563545de9cf7bb79d1fa430f",
       "version_major": 2,
       "version_minor": 0
      },
      "text/plain": [
       "Backtest.optimize:   0%|          | 0/9 [00:00<?, ?it/s]"
      ]
     },
     "metadata": {},
     "output_type": "display_data"
    },
    {
     "data": {
      "application/vnd.jupyter.widget-view+json": {
       "model_id": "850255ecc5e044b99831756377082bbd",
       "version_major": 2,
       "version_minor": 0
      },
      "text/plain": [
       "Backtest.optimize:   0%|          | 0/9 [00:00<?, ?it/s]"
      ]
     },
     "metadata": {},
     "output_type": "display_data"
    },
    {
     "data": {
      "application/vnd.jupyter.widget-view+json": {
       "model_id": "e45ff7a9bc1e4fd9bdccda44a5839834",
       "version_major": 2,
       "version_minor": 0
      },
      "text/plain": [
       "Backtest.optimize:   0%|          | 0/9 [00:00<?, ?it/s]"
      ]
     },
     "metadata": {},
     "output_type": "display_data"
    }
   ],
   "source": [
    "report_dict = {}\n",
    "symbols =['BTC-USD']\n",
    "for name in symbols:\n",
    "# for name in tickers:\n",
    "    df = get_data(dir, name)\n",
    "    df.reset_index(inplace=True)\n",
    "\n",
    "    df_length = len(df)\n",
    "    print(f\"Start {name} backtesting, df: {df_length}\")\n",
    "\n",
    "    try:\n",
    "        train_size = 200\n",
    "        test_size = 33\n",
    "        index_range = walk_forward_optimization_by_index(df_length, train_size, test_size)\n",
    "        # print(pd.DataFrame(index_range))\n",
    "        print(f\"{name} wfo iterations: {len(index_range)}\")\n",
    "\n",
    "        params = {\n",
    "            'bb_period_list': [15, 20, 30], # 13-30\n",
    "            'bb_width_threshold_list': [0.002, 0.0015, 0.001],\n",
    "            'atr_period_list': [7, 10, 14], # Long time frames: 20-50, Short: 2-10\n",
    "            'rsi_period_list': [10, 10, 14], # Short-term intraday: 9-11, Medium-term: 14, Longer-term position: 20-30\n",
    "            'cash': 10_000,\n",
    "            # 'maximize': 'Profit Factor',\n",
    "            'maximize': 'Return [%]',\n",
    "            # 'maximize': 'Equity Final [$]', #!\n",
    "            # 'maximize': 'Win Rate [%]',\n",
    "            'max_tries': 300, # ???\n",
    "            # 'stats_item': 'Profit Factor',\n",
    "            'stats_item': 'Win Rate [%]',\n",
    "            # 'method': 'skopt',\n",
    "            'bb_std': 1.5, #1.8, 2\n",
    "            'back_candles': 7, #8,9\n",
    "            'ema_period': 30, # 20, 50, based on test_set_size param - ???\n",
    "        }\n",
    "\n",
    "        signals_df = pd.DataFrame()       \n",
    "        for iter in tqdm(index_range):\n",
    "            start_train = iter['train_indexes'][0]\n",
    "            end_train = iter['train_indexes'][1]\n",
    "            start_test = iter['test_indexes'][0]\n",
    "            end_test = iter['test_indexes'][1]\n",
    "            \n",
    "            train_set = df.iloc[start_train:end_train].copy()\n",
    "            test_set = df.iloc[start_test:end_test].copy()\n",
    "\n",
    "            print(f\"{name} : train_set: {train_set.iloc[0].Date} - {train_set.iloc[-1].Date}, test_set: {test_set.iloc[0].Date} - {test_set.iloc[-1].Date}\")\n",
    "\n",
    "            best_params, best_performance = get_best_bb_rsi_strategy(train_set, BBRSIStrategy, params, apply_bb_rsi_strategy)\n",
    "\n",
    "            print(f\"{name} : best_params: {best_params}, best_performance: {best_performance}\")\n",
    "\n",
    "            if best_performance > 0:\n",
    "                combined_data = pd.concat([train_set, test_set]).reset_index(drop=True)\n",
    "                combined_with_test_signal = apply_bb_rsi_strategy(combined_data.copy(), best_params)\n",
    "                test_set_with_signal = combined_with_test_signal.iloc[-test_size:].copy()\n",
    "                signals_df = pd.concat([signals_df, test_set_with_signal], ignore_index=True)\n",
    "\n",
    "        if not signals_df.empty:\n",
    "            report_dict[name] = signals_df\n",
    "    except Exception as e:\n",
    "        print(f\"Error backtesting for {name}: {e}\")"
   ]
  },
  {
   "cell_type": "markdown",
   "metadata": {},
   "source": [
    "### Run the backtest for the out-of-sample data using the optimal parameters."
   ]
  },
  {
   "cell_type": "code",
   "execution_count": 16,
   "metadata": {},
   "outputs": [
    {
     "name": "stdout",
     "output_type": "stream",
     "text": [
      "=== BTC-USD:\n",
      "Start                                     0.0\n",
      "End                                     119.0\n",
      "Duration                                119.0\n",
      "Exposure Time [%]                   21.666667\n",
      "Equity Final [$]                 10712.307598\n",
      "Equity Peak [$]                  10712.307598\n",
      "Return [%]                           7.123076\n",
      "Buy & Hold Return [%]              -20.584658\n",
      "Return (Ann.) [%]                         0.0\n",
      "Volatility (Ann.) [%]                     NaN\n",
      "Sharpe Ratio                              NaN\n",
      "Sortino Ratio                             NaN\n",
      "Calmar Ratio                              0.0\n",
      "Max. Drawdown [%]                  -10.714245\n",
      "Avg. Drawdown [%]                   -7.364487\n",
      "Max. Drawdown Duration                   16.0\n",
      "Avg. Drawdown Duration                   11.5\n",
      "# Trades                                  1.0\n",
      "Win Rate [%]                            100.0\n",
      "Best Trade [%]                       8.573734\n",
      "Worst Trade [%]                      8.573734\n",
      "Avg. Trade [%]                       8.573734\n",
      "Max. Trade Duration                      25.0\n",
      "Avg. Trade Duration                      25.0\n",
      "Profit Factor                             NaN\n",
      "Expectancy [%]                       8.573734\n",
      "SQN                                       NaN\n",
      "_strategy                       BBRSIStrategy\n",
      "_equity_curve                        Equit...\n",
      "_trades                      Size  EntryBa...\n",
      "dtype: object\n"
     ]
    }
   ],
   "source": [
    "report = dict()\n",
    "\n",
    "for name, df in report_dict.items():\n",
    "    bt = Backtest(df, BBRSIStrategy, cash=10_000, margin=1/10, commission=0.001, exclusive_orders=True)\n",
    "    report[name] = bt.run()\n",
    "    bt.plot(plot_equity=True,plot_drawdown=True,relative_equity=False,)\n",
    "\n",
    "for name, stats in report.items():\n",
    "    print(f\"=== {name}:\")\n",
    "    print(stats)\n"
   ]
  },
  {
   "cell_type": "code",
   "execution_count": null,
   "metadata": {},
   "outputs": [
    {
     "data": {
      "text/html": [
       "<div>\n",
       "<style scoped>\n",
       "    .dataframe tbody tr th:only-of-type {\n",
       "        vertical-align: middle;\n",
       "    }\n",
       "\n",
       "    .dataframe tbody tr th {\n",
       "        vertical-align: top;\n",
       "    }\n",
       "\n",
       "    .dataframe thead th {\n",
       "        text-align: right;\n",
       "    }\n",
       "</style>\n",
       "<table border=\"1\" class=\"dataframe\">\n",
       "  <thead>\n",
       "    <tr style=\"text-align: right;\">\n",
       "      <th></th>\n",
       "      <th>Date</th>\n",
       "      <th>Open</th>\n",
       "      <th>High</th>\n",
       "      <th>Low</th>\n",
       "      <th>Close</th>\n",
       "      <th>bb_up</th>\n",
       "      <th>bb_mid</th>\n",
       "      <th>bb_low</th>\n",
       "      <th>bb_width</th>\n",
       "      <th>rsi</th>\n",
       "      <th>atr</th>\n",
       "      <th>Signal</th>\n",
       "    </tr>\n",
       "  </thead>\n",
       "  <tbody>\n",
       "    <tr>\n",
       "      <th>count</th>\n",
       "      <td>2310</td>\n",
       "      <td>2310.000000</td>\n",
       "      <td>2310.000000</td>\n",
       "      <td>2310.000000</td>\n",
       "      <td>2310.000000</td>\n",
       "      <td>2107.000000</td>\n",
       "      <td>2107.000000</td>\n",
       "      <td>2107.000000</td>\n",
       "      <td>2107.000000</td>\n",
       "      <td>2212.000000</td>\n",
       "      <td>2212.000000</td>\n",
       "      <td>2310.000000</td>\n",
       "    </tr>\n",
       "    <tr>\n",
       "      <th>mean</th>\n",
       "      <td>2019-09-16 18:51:25.714285824</td>\n",
       "      <td>8307.040607</td>\n",
       "      <td>8492.406662</td>\n",
       "      <td>8117.741998</td>\n",
       "      <td>8315.217411</td>\n",
       "      <td>9409.088628</td>\n",
       "      <td>8433.211024</td>\n",
       "      <td>7457.333420</td>\n",
       "      <td>0.230780</td>\n",
       "      <td>52.280194</td>\n",
       "      <td>377.200137</td>\n",
       "      <td>0.043290</td>\n",
       "    </tr>\n",
       "    <tr>\n",
       "      <th>min</th>\n",
       "      <td>2019-01-01 00:00:00</td>\n",
       "      <td>3401.376465</td>\n",
       "      <td>3427.945557</td>\n",
       "      <td>3391.023682</td>\n",
       "      <td>3399.471680</td>\n",
       "      <td>3702.000543</td>\n",
       "      <td>3568.140169</td>\n",
       "      <td>3349.405293</td>\n",
       "      <td>0.060367</td>\n",
       "      <td>14.080537</td>\n",
       "      <td>63.400053</td>\n",
       "      <td>0.000000</td>\n",
       "    </tr>\n",
       "    <tr>\n",
       "      <th>25%</th>\n",
       "      <td>2019-06-21 00:00:00</td>\n",
       "      <td>7277.197754</td>\n",
       "      <td>7418.858887</td>\n",
       "      <td>7167.179199</td>\n",
       "      <td>7276.802734</td>\n",
       "      <td>8443.029132</td>\n",
       "      <td>7420.057520</td>\n",
       "      <td>6912.231121</td>\n",
       "      <td>0.154624</td>\n",
       "      <td>43.015584</td>\n",
       "      <td>270.783237</td>\n",
       "      <td>0.000000</td>\n",
       "    </tr>\n",
       "    <tr>\n",
       "      <th>50%</th>\n",
       "      <td>2019-09-17 00:00:00</td>\n",
       "      <td>8487.669922</td>\n",
       "      <td>8640.493164</td>\n",
       "      <td>8276.612305</td>\n",
       "      <td>8486.993164</td>\n",
       "      <td>9636.870780</td>\n",
       "      <td>8643.247282</td>\n",
       "      <td>7629.149413</td>\n",
       "      <td>0.209787</td>\n",
       "      <td>51.690641</td>\n",
       "      <td>332.314801</td>\n",
       "      <td>0.000000</td>\n",
       "    </tr>\n",
       "    <tr>\n",
       "      <th>75%</th>\n",
       "      <td>2019-12-10 00:00:00</td>\n",
       "      <td>9871.165039</td>\n",
       "      <td>10118.483643</td>\n",
       "      <td>9675.316406</td>\n",
       "      <td>9870.303711</td>\n",
       "      <td>10920.557152</td>\n",
       "      <td>10000.656087</td>\n",
       "      <td>8920.338399</td>\n",
       "      <td>0.275113</td>\n",
       "      <td>62.698759</td>\n",
       "      <td>429.956062</td>\n",
       "      <td>0.000000</td>\n",
       "    </tr>\n",
       "    <tr>\n",
       "      <th>max</th>\n",
       "      <td>2020-06-23 00:00:00</td>\n",
       "      <td>13017.125000</td>\n",
       "      <td>13796.489258</td>\n",
       "      <td>12233.261719</td>\n",
       "      <td>13016.231445</td>\n",
       "      <td>12713.528244</td>\n",
       "      <td>11213.690625</td>\n",
       "      <td>10008.061282</td>\n",
       "      <td>0.654091</td>\n",
       "      <td>90.781110</td>\n",
       "      <td>967.702870</td>\n",
       "      <td>2.000000</td>\n",
       "    </tr>\n",
       "    <tr>\n",
       "      <th>std</th>\n",
       "      <td>NaN</td>\n",
       "      <td>2093.928802</td>\n",
       "      <td>2153.498591</td>\n",
       "      <td>2014.899745</td>\n",
       "      <td>2085.889042</td>\n",
       "      <td>2145.242433</td>\n",
       "      <td>1884.669168</td>\n",
       "      <td>1741.911796</td>\n",
       "      <td>0.118654</td>\n",
       "      <td>14.426739</td>\n",
       "      <td>191.350021</td>\n",
       "      <td>0.269474</td>\n",
       "    </tr>\n",
       "  </tbody>\n",
       "</table>\n",
       "</div>"
      ],
      "text/plain": [
       "                                Date          Open          High  \\\n",
       "count                           2310   2310.000000   2310.000000   \n",
       "mean   2019-09-16 18:51:25.714285824   8307.040607   8492.406662   \n",
       "min              2019-01-01 00:00:00   3401.376465   3427.945557   \n",
       "25%              2019-06-21 00:00:00   7277.197754   7418.858887   \n",
       "50%              2019-09-17 00:00:00   8487.669922   8640.493164   \n",
       "75%              2019-12-10 00:00:00   9871.165039  10118.483643   \n",
       "max              2020-06-23 00:00:00  13017.125000  13796.489258   \n",
       "std                              NaN   2093.928802   2153.498591   \n",
       "\n",
       "                Low         Close         bb_up        bb_mid        bb_low  \\\n",
       "count   2310.000000   2310.000000   2107.000000   2107.000000   2107.000000   \n",
       "mean    8117.741998   8315.217411   9409.088628   8433.211024   7457.333420   \n",
       "min     3391.023682   3399.471680   3702.000543   3568.140169   3349.405293   \n",
       "25%     7167.179199   7276.802734   8443.029132   7420.057520   6912.231121   \n",
       "50%     8276.612305   8486.993164   9636.870780   8643.247282   7629.149413   \n",
       "75%     9675.316406   9870.303711  10920.557152  10000.656087   8920.338399   \n",
       "max    12233.261719  13016.231445  12713.528244  11213.690625  10008.061282   \n",
       "std     2014.899745   2085.889042   2145.242433   1884.669168   1741.911796   \n",
       "\n",
       "          bb_width          rsi          atr       Signal  \n",
       "count  2107.000000  2212.000000  2212.000000  2310.000000  \n",
       "mean      0.230780    52.280194   377.200137     0.043290  \n",
       "min       0.060367    14.080537    63.400053     0.000000  \n",
       "25%       0.154624    43.015584   270.783237     0.000000  \n",
       "50%       0.209787    51.690641   332.314801     0.000000  \n",
       "75%       0.275113    62.698759   429.956062     0.000000  \n",
       "max       0.654091    90.781110   967.702870     2.000000  \n",
       "std       0.118654    14.426739   191.350021     0.269474  "
      ]
     },
     "execution_count": 10,
     "metadata": {},
     "output_type": "execute_result"
    }
   ],
   "source": [
    "report_dict['BTC-USD'].describe()"
   ]
  },
  {
   "cell_type": "markdown",
   "metadata": {},
   "source": [
    "### Calculate signals count"
   ]
  },
  {
   "cell_type": "code",
   "execution_count": 17,
   "metadata": {},
   "outputs": [
    {
     "data": {
      "text/plain": [
       "Signal\n",
       "0    117\n",
       "2      3\n",
       "Name: count, dtype: int64"
      ]
     },
     "execution_count": 17,
     "metadata": {},
     "output_type": "execute_result"
    }
   ],
   "source": [
    "sum([report_dict[key]['Signal'].value_counts() for key in report_dict], start=0)"
   ]
  },
  {
   "cell_type": "code",
   "execution_count": 14,
   "metadata": {},
   "outputs": [
    {
     "name": "stdout",
     "output_type": "stream",
     "text": [
      "6\n"
     ]
    }
   ],
   "source": [
    "# Checks the count of signals for each ticker\n",
    "for df in report_dict.values():\n",
    "    print(len(df[df.Signal != 0]))"
   ]
  },
  {
   "cell_type": "markdown",
   "metadata": {},
   "source": [
    "## Position points plot\n"
   ]
  },
  {
   "cell_type": "code",
   "execution_count": 16,
   "metadata": {},
   "outputs": [
    {
     "name": "stdout",
     "output_type": "stream",
     "text": [
      "Params: 0.0001\n"
     ]
    }
   ],
   "source": [
    "# Add position points\n",
    "for df in report_dict.values():\n",
    "    df = add_pointpos_column(df, \"Signal\", 1e-4)\n"
   ]
  },
  {
   "cell_type": "code",
   "execution_count": null,
   "metadata": {},
   "outputs": [
    {
     "data": {
      "application/vnd.plotly.v1+json": {
       "config": {
        "plotlyServerURL": "https://plot.ly"
       },
       "data": [
        {
         "close": [
          3843.52001953125,
          3943.409423828125,
          3836.7412109375,
          3857.717529296875,
          3845.194580078125,
          4076.632568359375,
          4025.248291015625,
          4030.847900390625,
          4035.29638671875,
          3678.924560546875,
          3687.365478515625,
          3661.301025390625,
          3552.953125,
          3706.05224609375,
          3630.67529296875,
          3655.0068359375,
          3678.56396484375,
          3657.83935546875,
          3728.568359375,
          3601.013671875,
          3576.032470703125,
          3604.5771484375,
          3585.123046875,
          3600.865478515625,
          3599.765869140625,
          3602.46044921875,
          3583.9658203125,
          3470.450439453125,
          3448.116943359375,
          3486.181640625,
          3457.792724609375,
          3487.9453125,
          3521.060791015625,
          3464.013427734375,
          3459.154052734375,
          3466.357421875,
          3413.767822265625,
          3399.4716796875,
          3666.7802734375,
          3671.20361328125,
          3690.188232421875,
          3648.4306640625,
          3653.528564453125,
          3632.070556640625,
          3616.880859375,
          3620.810791015625,
          3629.78759765625,
          3673.836181640625,
          3915.71435546875,
          3947.094482421875,
          3999.820556640625,
          3954.1181640625,
          4005.526611328125,
          4142.52685546875,
          3810.427490234375,
          3882.6962890625,
          3854.35791015625,
          3851.04736328125,
          3854.785400390625,
          3859.583740234375,
          3864.4150390625,
          3847.17578125,
          3761.55712890625,
          3896.375,
          3903.942626953125,
          3911.484375,
          3901.131591796875,
          3963.313720703125,
          3951.599853515625,
          3905.227294921875,
          3909.15625,
          3906.71728515625,
          3924.369140625,
          3960.9111328125,
          4048.725830078125,
          4025.22900390625,
          4032.50732421875,
          4071.190185546875,
          4087.476318359375,
          4029.326904296875,
          4023.96826171875,
          4035.826416015625,
          4022.168212890625,
          3963.070556640625,
          3985.080810546875,
          4087.066162109375,
          4069.107177734375,
          4098.37451171875,
          4106.66015625,
          4105.404296875,
          4158.18310546875,
          4879.8779296875,
          4973.02197265625,
          4922.798828125,
          5036.68115234375,
          5059.8173828125,
          5198.89697265625,
          5289.77099609375,
          5204.95849609375,
          5324.5517578125,
          5064.48779296875,
          5089.5390625,
          5096.58642578125,
          5167.72216796875,
          5067.1083984375,
          5235.5595703125,
          5251.93798828125,
          5298.3857421875,
          5303.8125,
          5337.88623046875,
          5314.53125,
          5399.365234375,
          5572.3623046875,
          5464.86669921875,
          5210.515625,
          5279.34814453125,
          5268.291015625,
          5285.13916015625,
          5247.3525390625,
          5350.7265625,
          5402.697265625,
          5505.28369140625,
          5768.28955078125,
          5831.16748046875,
          5795.70849609375,
          5746.80712890625,
          5829.50146484375,
          5982.45751953125,
          6174.52880859375,
          6378.84912109375,
          7204.771484375,
          6972.37158203125,
          7814.9150390625,
          7994.416015625,
          8205.16796875,
          7884.9091796875,
          7343.8955078125,
          7271.2080078125,
          8197.689453125,
          7978.30908203125,
          7963.32763671875,
          7680.06640625,
          7881.8466796875,
          7987.37158203125,
          8052.5439453125,
          8673.2158203125,
          8805.7783203125,
          8719.9619140625,
          8659.4873046875,
          8319.47265625,
          8574.501953125,
          8564.0166015625,
          8742.9580078125,
          8208.9951171875,
          7707.77099609375,
          7824.2314453125,
          7822.0234375,
          8043.951171875,
          7954.1279296875,
          7688.0771484375,
          8000.32958984375,
          7927.71435546875,
          8145.857421875,
          8230.923828125,
          8693.8330078125,
          8838.375,
          8994.48828125,
          9320.3525390625,
          9081.7626953125,
          9273.521484375,
          9527.16015625,
          10144.556640625,
          10701.69140625,
          10855.37109375,
          11011.1025390625,
          11790.9169921875,
          13016.2314453125,
          11182.806640625,
          12407.33203125,
          11959.37109375,
          10817.1552734375,
          10583.134765625,
          10801.677734375,
          11961.26953125,
          11215.4375,
          10978.4599609375,
          11208.55078125,
          11450.8466796875,
          12285.9580078125,
          12573.8125,
          12156.5126953125,
          11358.662109375,
          11815.986328125,
          11392.37890625,
          10256.05859375,
          10895.08984375,
          9477.6416015625,
          9693.802734375,
          10666.482421875,
          10530.732421875,
          10767.1396484375,
          10599.10546875,
          10343.1064453125,
          9900.767578125,
          9811.92578125,
          9911.841796875,
          9870.3037109375,
          9477.677734375,
          9552.8603515625,
          9519.1455078125,
          9607.423828125,
          10085.6279296875,
          10399.6689453125,
          10518.1748046875,
          10821.7265625,
          10970.1845703125,
          11805.6533203125,
          11478.1689453125,
          11941.96875,
          11966.4072265625,
          11862.9365234375,
          11354.0244140625,
          11523.5791015625,
          11382.6162109375,
          10895.830078125,
          10051.7041015625,
          10311.5458984375,
          10374.3388671875,
          10231.744140625,
          10345.810546875,
          10916.0537109375,
          10763.232421875,
          10138.0498046875,
          10131.0556640625,
          10407.96484375,
          10159.9609375,
          10138.517578125,
          10370.8203125,
          10185.5,
          9754.4228515625,
          9510.2001953125,
          9598.173828125,
          9630.6640625,
          9757.970703125,
          10346.7607421875,
          10623.5400390625,
          10594.4931640625,
          10575.533203125,
          10353.302734375,
          10517.2548828125,
          10441.2763671875,
          10334.974609375,
          10115.9755859375,
          10178.3720703125,
          10410.126953125,
          10360.546875,
          10358.048828125,
          10347.712890625,
          10276.7939453125,
          10241.2724609375,
          10198.248046875,
          10266.4150390625,
          10181.6416015625,
          10019.716796875,
          10070.392578125,
          9729.32421875,
          8620.56640625,
          8486.9931640625,
          8118.9677734375,
          8251.845703125,
          8245.9150390625,
          8104.185546875,
          8293.8681640625,
          8343.2763671875,
          8393.0419921875,
          8259.9921875,
          8205.939453125,
          8151.50048828125,
          7988.15576171875,
          8245.623046875,
          8228.783203125,
          8595.740234375,
          8586.4736328125,
          8321.7568359375,
          8336.5556640625,
          8321.005859375,
          8374.6865234375,
          8205.369140625,
          8047.52685546875,
          8103.9111328125,
          7973.20751953125,
          7988.560546875,
          8222.078125,
          8243.720703125,
          8078.203125,
          7514.671875,
          7493.48876953125,
          8660.7001953125,
          9244.97265625,
          9551.71484375,
          9256.1484375,
          9427.6875,
          9205.7265625,
          9199.5849609375,
          9261.1044921875,
          9324.7177734375,
          9235.3544921875,
          9412.6123046875,
          9342.52734375,
          9360.8798828125,
          9267.5615234375,
          8804.880859375,
          8813.58203125,
          9055.5263671875,
          8757.7880859375,
          8815.662109375,
          8808.2626953125,
          8708.0947265625,
          8491.9921875,
          8550.7607421875,
          8577.9755859375,
          8309.2861328125,
          8206.1455078125,
          8027.26806640625,
          7642.75,
          7296.57763671875,
          7397.796875,
          7047.9169921875,
          7146.1337890625,
          7218.37109375,
          3457.792724609375,
          3487.9453125,
          3521.060791015625,
          3464.013427734375,
          3459.154052734375,
          3466.357421875,
          3413.767822265625,
          3399.4716796875,
          3666.7802734375,
          3671.20361328125,
          3690.188232421875,
          3648.4306640625,
          3653.528564453125,
          3632.070556640625,
          3616.880859375,
          3620.810791015625,
          3629.78759765625,
          3673.836181640625,
          3915.71435546875,
          3947.094482421875
         ],
         "high": [
          3850.913818359375,
          3947.981201171875,
          3935.68505859375,
          3865.9345703125,
          3904.903076171875,
          4093.29736328125,
          4092.613525390625,
          4109.02099609375,
          4068.403564453125,
          4064.066650390625,
          3713.8818359375,
          3698.978271484375,
          3674.760009765625,
          3727.836181640625,
          3720.1533203125,
          3685.777099609375,
          3680.135986328125,
          3682.52001953125,
          3758.533447265625,
          3743.387939453125,
          3608.8408203125,
          3620.74658203125,
          3623.06787109375,
          3616.08740234375,
          3612.927734375,
          3654.93310546875,
          3612.67138671875,
          3586.7509765625,
          3476.0654296875,
          3495.1748046875,
          3504.804931640625,
          3501.9541015625,
          3523.287353515625,
          3521.38818359375,
          3476.223876953125,
          3478.148193359375,
          3469.091796875,
          3427.945556640625,
          3695.614013671875,
          3679.94140625,
          3695.0361328125,
          3695.613037109375,
          3668.5869140625,
          3669.74658203125,
          3646.256591796875,
          3647.795166015625,
          3652.84130859375,
          3680.537353515625,
          3936.6650390625,
          4010.87939453125,
          4000.486328125,
          4010.009521484375,
          4006.538330078125,
          4166.2861328125,
          4210.6416015625,
          3913.707275390625,
          3891.578857421875,
          3888.802490234375,
          3906.058349609375,
          3907.79541015625,
          3874.607421875,
          3875.483642578125,
          3867.3818359375,
          3903.916748046875,
          3919.510498046875,
          3939.373291015625,
          3950.43212890625,
          3987.23779296875,
          3966.17431640625,
          3966.384765625,
          3926.88916015625,
          3926.59765625,
          3946.50439453125,
          3968.54296875,
          4077.036376953125,
          4054.1220703125,
          4071.556640625,
          4082.216064453125,
          4089.4619140625,
          4097.35986328125,
          4053.90673828125,
          4049.882568359375,
          4040.69970703125,
          4038.8408203125,
          3985.080810546875,
          4087.066162109375,
          4094.902099609375,
          4113.5009765625,
          4296.806640625,
          4113.0234375,
          4164.953125,
          4905.95458984375,
          5307.00341796875,
          5063.15966796875,
          5053.509765625,
          5205.82177734375,
          5235.1865234375,
          5318.83642578125,
          5289.91796875,
          5421.6513671875,
          5354.2255859375,
          5103.2744140625,
          5127.1220703125,
          5184.01611328125,
          5196.60693359375,
          5238.9453125,
          5274.275390625,
          5319.986328125,
          5336.68017578125,
          5358.49072265625,
          5359.9248046875,
          5422.6875,
          5633.80224609375,
          5642.04443359375,
          5542.23828125,
          5383.63427734375,
          5310.75,
          5326.23193359375,
          5311.27490234375,
          5363.25732421875,
          5418.00390625,
          5522.2626953125,
          5865.8818359375,
          5886.8935546875,
          5833.86279296875,
          5802.95751953125,
          5988.17822265625,
          5989.98095703125,
          6183.0390625,
          6434.61767578125,
          7333.0029296875,
          7503.8720703125,
          8047.4130859375,
          8268.712890625,
          8216.423828125,
          8320.82421875,
          7929.1455078125,
          7447.27197265625,
          8261.94140625,
          8200.9677734375,
          8062.16796875,
          7997.6123046875,
          7943.79150390625,
          8140.7197265625,
          8117.92578125,
          8687.5205078125,
          8907.1748046875,
          8807.0166015625,
          8755.8525390625,
          9008.314453125,
          8586.6591796875,
          8625.6005859375,
          8809.3037109375,
          8743.5,
          8210.9853515625,
          7901.84912109375,
          7937.3408203125,
          8126.1533203125,
          8076.89111328125,
          7975.97412109375,
          8031.90966796875,
          8026.39404296875,
          8196.6484375,
          8311.5673828125,
          8710.63671875,
          8859.1279296875,
          9335.8671875,
          9416.4072265625,
          9348.3740234375,
          9299.62109375,
          9594.419921875,
          10144.556640625,
          11157.345703125,
          11246.14453125,
          11065.896484375,
          11790.9169921875,
          13796.4892578125,
          13311.14453125,
          12445.1748046875,
          12400.91015625,
          12178.3837890625,
          11206.439453125,
          10912.1884765625,
          11968.078125,
          12006.0751953125,
          11395.6611328125,
          11620.96484375,
          11541.6201171875,
          12345.8330078125,
          12779.1318359375,
          13129.529296875,
          12144.623046875,
          11905.4873046875,
          11841.95703125,
          11451.2041015625,
          11052.7666015625,
          10996.6328125,
          9963.134765625,
          10736.8427734375,
          10716.98046875,
          11048.662109375,
          10841.8876953125,
          10651.791015625,
          10346.748046875,
          9908.796875,
          10154.25390625,
          9916.517578125,
          10167.3203125,
          9575.544921875,
          9681.6484375,
          9701.759765625,
          10085.6279296875,
          10446.919921875,
          10657.953125,
          10946.78125,
          11009.20703125,
          11895.091796875,
          12273.8212890625,
          12036.990234375,
          11979.419921875,
          11970.4580078125,
          11915.6552734375,
          11523.5791015625,
          11528.189453125,
          11420.0498046875,
          10889.556640625,
          10437.4111328125,
          10524.349609375,
          10452.625,
          10487.0703125,
          10916.0537109375,
          10947.0419921875,
          10798.7294921875,
          10232.99609375,
          10442.443359375,
          10418.0205078125,
          10304.6220703125,
          10512.328125,
          10381.328125,
          10279.3662109375,
          9756.7861328125,
          9656.1240234375,
          9673.220703125,
          9796.755859375,
          10396.591796875,
          10736.1044921875,
          10762.64453125,
          10627.26953125,
          10898.76171875,
          10558.673828125,
          10595.6376953125,
          10450.3115234375,
          10394.353515625,
          10215.9482421875,
          10442.25390625,
          10441.4892578125,
          10422.1337890625,
          10387.03515625,
          10386.8671875,
          10296.771484375,
          10275.9287109375,
          10295.6689453125,
          10285.8720703125,
          10188.09765625,
          10074.4443359375,
          10074.23828125,
          9804.3173828125,
          8744.828125,
          8515.685546875,
          8271.5205078125,
          8285.6171875,
          8261.70703125,
          8314.2314453125,
          8497.6923828125,
          8393.0419921875,
          8414.2275390625,
          8260.0556640625,
          8215.5263671875,
          8161.41015625,
          8308.4501953125,
          8332.71484375,
          8627.7060546875,
          8625.2724609375,
          8721.7802734375,
          8415.2421875,
          8470.98828125,
          8390.208984375,
          8410.71484375,
          8216.8125,
          8134.83154296875,
          8138.41357421875,
          8082.62939453125,
          8281.818359375,
          8296.6943359375,
          8296.6513671875,
          8092.99951171875,
          7532.86767578125,
          8691.5400390625,
          10021.744140625,
          9749.529296875,
          9805.1181640625,
          9516.1806640625,
          9426.8740234375,
          9383.1611328125,
          9275.6572265625,
          9377.486328125,
          9379.806640625,
          9505.0517578125,
          9457.41796875,
          9423.2373046875,
          9368.4765625,
          9272.759765625,
          8891.818359375,
          9103.826171875,
          9081.279296875,
          8853.7685546875,
          8836.841796875,
          8826.943359375,
          8730.873046875,
          8591.9970703125,
          8727.7890625,
          8653.2802734375,
          8408.5166015625,
          8237.240234375,
          8110.09814453125,
          7697.3828125,
          7442.2587890625,
          7408.5771484375,
          7319.85693359375,
          7320.23046875,
          3504.804931640625,
          3501.9541015625,
          3523.287353515625,
          3521.38818359375,
          3476.223876953125,
          3478.148193359375,
          3469.091796875,
          3427.945556640625,
          3695.614013671875,
          3679.94140625,
          3695.0361328125,
          3695.613037109375,
          3668.5869140625,
          3669.74658203125,
          3646.256591796875,
          3647.795166015625,
          3652.84130859375,
          3680.537353515625,
          3936.6650390625,
          4010.87939453125
         ],
         "low": [
          3707.231201171875,
          3817.409423828125,
          3826.222900390625,
          3783.853759765625,
          3836.900146484375,
          3826.51318359375,
          4020.89404296875,
          3996.955322265625,
          4022.662841796875,
          3659.174560546875,
          3653.06982421875,
          3653.810791015625,
          3544.92724609375,
          3552.28515625,
          3619.94921875,
          3624.67333984375,
          3621.9609375,
          3637.080810546875,
          3652.3779296875,
          3583.01953125,
          3558.537109375,
          3539.721435546875,
          3565.31396484375,
          3569.0927734375,
          3575.597412109375,
          3593.345947265625,
          3567.245849609375,
          3439.23291015625,
          3400.81982421875,
          3429.387939453125,
          3447.915771484375,
          3431.591552734375,
          3467.57470703125,
          3447.92431640625,
          3442.5869140625,
          3451.93701171875,
          3398.5654296875,
          3394.218505859375,
          3391.023681640625,
          3646.559326171875,
          3640.97998046875,
          3642.287841796875,
          3618.556884765625,
          3617.246337890625,
          3607.69775390625,
          3608.20654296875,
          3615.270263671875,
          3619.18212890625,
          3669.982421875,
          3908.153076171875,
          3926.246826171875,
          3940.108154296875,
          3950.81640625,
          3968.726806640625,
          3793.708984375,
          3807.00244140625,
          3837.986328125,
          3787.058837890625,
          3845.8212890625,
          3851.6923828125,
          3832.1279296875,
          3836.90576171875,
          3733.749755859375,
          3745.18310546875,
          3871.460693359375,
          3894.113037109375,
          3875.228515625,
          3892.390380859375,
          3924.381103515625,
          3889.239013671875,
          3863.55908203125,
          3891.904296875,
          3901.296875,
          3914.015380859375,
          3961.657470703125,
          4006.4111328125,
          4009.1171875,
          4023.8125,
          4031.11083984375,
          4005.1513671875,
          4021.54248046875,
          4015.964599609375,
          4006.19287109375,
          3934.03125,
          3944.753173828125,
          3977.810546875,
          4040.266357421875,
          4034.09716796875,
          4053.90966796875,
          4094.100830078125,
          4096.9013671875,
          4155.31689453125,
          4876.62109375,
          4836.7939453125,
          4919.49169921875,
          4992.22216796875,
          5050.412109375,
          5148.2119140625,
          5167.4189453125,
          5193.38232421875,
          5017.29638671875,
          4955.8525390625,
          5061.58935546875,
          5053.568359375,
          5024.0693359375,
          5055.19482421875,
          5219.20556640625,
          5250.5068359375,
          5233.3349609375,
          5295.8779296875,
          5257.33935546875,
          5280.27685546875,
          5389.40869140625,
          5418.26318359375,
          5181.3388671875,
          5177.36865234375,
          5233.6357421875,
          5255.68359375,
          5216.48779296875,
          5224.18994140625,
          5347.64599609375,
          5394.21728515625,
          5490.20166015625,
          5645.46923828125,
          5708.03515625,
          5653.6875,
          5741.39599609375,
          5794.7158203125,
          5982.31640625,
          6161.51904296875,
          6375.69873046875,
          6815.77099609375,
          6898.2822265625,
          7696.39111328125,
          7899.10693359375,
          7729.6083984375,
          7038.12451171875,
          7251.50439453125,
          7267.962890625,
          7678.78173828125,
          7843.33984375,
          7615.9873046875,
          7533.19677734375,
          7824.44873046875,
          7965.97607421875,
          7924.67041015625,
          8668.705078125,
          8634.7216796875,
          8482.728515625,
          8221.2734375,
          8172.55078125,
          8481.578125,
          8561.2353515625,
          8204.185546875,
          7564.48876953125,
          7668.66845703125,
          7571.47119140625,
          7788.37353515625,
          7837.61083984375,
          7583.2197265625,
          7586.73095703125,
          7772.8037109375,
          7862.35986328125,
          8087.06103515625,
          8183.39306640625,
          8618.3955078125,
          8814.556640625,
          8988.923828125,
          9004.9013671875,
          9070.3955078125,
          9232.484375,
          9525.07421875,
          10107.03515625,
          10556.095703125,
          10610.427734375,
          11007.2021484375,
          11755.59765625,
          10491.8525390625,
          10914.4951171875,
          11508.37890625,
          10799.0087890625,
          10089.314453125,
          9737.884765625,
          10818.15625,
          11166.5693359375,
          10874.96484375,
          10982.5439453125,
          11148.8046875,
          11393.3740234375,
          12233.26171875,
          11710.978515625,
          11158.9228515625,
          11179.14453125,
          10908.4794921875,
          10234.576171875,
          9992.0068359375,
          9448.1064453125,
          9163.134765625,
          9376.798828125,
          10229.62890625,
          10451.2763671875,
          10389.599609375,
          10154.921875,
          9883.5947265625,
          9614.306640625,
          9773.95703125,
          9717.982421875,
          9411.521484375,
          9252.296875,
          9472.9482421875,
          9437.3359375,
          9598.09765625,
          9922.01953125,
          10371.013671875,
          10503.5048828125,
          10620.2783203125,
          10960.7353515625,
          11290.7314453125,
          11433.701171875,
          11556.16796875,
          11709.7451171875,
          11323.8984375,
          11248.294921875,
          11320.951171875,
          10830.3271484375,
          10028.1357421875,
          9675.31640625,
          9855.478515625,
          10086.6982421875,
          10119.0947265625,
          10313.2041015625,
          10618.9609375,
          9962.7216796875,
          9831.462890625,
          10078.1923828125,
          9982.296875,
          10008.7890625,
          10126.2998046875,
          10087.30078125,
          9716.65625,
          9421.6298828125,
          9428.302734375,
          9531.7998046875,
          9582.9443359375,
          9730.650390625,
          10308.5478515625,
          10434.7099609375,
          10516.41796875,
          10292.2998046875,
          10348.9189453125,
          10409.0908203125,
          10144.9296875,
          10020.5732421875,
          9980.7763671875,
          10099.2421875,
          10226.5966796875,
          10291.6943359375,
          10313.0927734375,
          10189.744140625,
          10199.7392578125,
          10191.4697265625,
          9851.6923828125,
          10132.1865234375,
          10000.7080078125,
          9922.533203125,
          9727.1435546875,
          8370.8017578125,
          8325.396484375,
          7895.62939453125,
          7965.9228515625,
          8125.431640625,
          7990.4970703125,
          7830.7587890625,
          8232.6796875,
          8227.6953125,
          8146.43701171875,
          8151.23681640625,
          8071.12060546875,
          7958.8505859375,
          7905.76611328125,
          8185.76318359375,
          8169.298828125,
          8471.93359375,
          8316.181640625,
          8313.3408203125,
          8276.6123046875,
          8284.130859375,
          8182.70654296875,
          7985.08984375,
          8000.94287109375,
          7902.1640625,
          7944.77685546875,
          7949.439453125,
          8196.416015625,
          8074.462890625,
          7469.32275390625,
          7446.98876953125,
          7479.984375,
          8662.6220703125,
          9112.5419921875,
          9256.1484375,
          9232.6484375,
          9085.3701171875,
          9028.7177734375,
          9132.0478515625,
          9249.587890625,
          9141.251953125,
          9191.4853515625,
          9256.931640625,
          9305.9091796875,
          9202.353515625,
          8775.5341796875,
          8793.1630859375,
          8806.162109375,
          8700.6083984375,
          8685.427734375,
          8761.6513671875,
          8692.5517578125,
          8484.84375,
          8473.9736328125,
          8500.9677734375,
          8273.5732421875,
          8099.96337890625,
          8010.51171875,
          7597.3818359375,
          6936.70654296875,
          7151.41796875,
          7029.2890625,
          6617.1669921875,
          7098.572265625,
          3447.915771484375,
          3431.591552734375,
          3467.57470703125,
          3447.92431640625,
          3442.5869140625,
          3451.93701171875,
          3398.5654296875,
          3394.218505859375,
          3391.023681640625,
          3646.559326171875,
          3640.97998046875,
          3642.287841796875,
          3618.556884765625,
          3617.246337890625,
          3607.69775390625,
          3608.20654296875,
          3615.270263671875,
          3619.18212890625,
          3669.982421875,
          3908.153076171875
         ],
         "open": [
          3746.71337890625,
          3849.21630859375,
          3931.048583984375,
          3832.0400390625,
          3851.973876953125,
          3836.51904296875,
          4078.5849609375,
          4028.47216796875,
          4031.552001953125,
          4034.411376953125,
          3674.015380859375,
          3686.97314453125,
          3658.8681640625,
          3557.31103515625,
          3704.21630859375,
          3631.509765625,
          3651.87109375,
          3677.990478515625,
          3652.3779296875,
          3725.446044921875,
          3600.372802734375,
          3575.081298828125,
          3605.55712890625,
          3584.500244140625,
          3607.390380859375,
          3599.71533203125,
          3604.687255859375,
          3584.283203125,
          3468.8701171875,
          3443.89697265625,
          3485.4091796875,
          3460.547119140625,
          3484.6259765625,
          3516.1396484375,
          3467.211669921875,
          3454.950927734375,
          3469.091796875,
          3414.929443359375,
          3401.37646484375,
          3671.5859375,
          3673.201416015625,
          3695.613037109375,
          3642.751953125,
          3653.60400390625,
          3631.170166015625,
          3617.368408203125,
          3615.270263671875,
          3633.359375,
          3671.369873046875,
          3911.66162109375,
          3946.68505859375,
          4000.2568359375,
          3952.406494140625,
          3998.916259765625,
          4145.4580078125,
          3807.00244140625,
          3878.697265625,
          3857.479736328125,
          3848.261962890625,
          3853.757080078125,
          3855.318115234375,
          3862.26611328125,
          3845.091552734375,
          3759.83251953125,
          3897.0810546875,
          3903.384765625,
          3913.225830078125,
          3894.552490234375,
          3966.17431640625,
          3953.740234375,
          3903.75830078125,
          3913.04736328125,
          3905.576904296875,
          3926.663330078125,
          3963.900146484375,
          4047.719482421875,
          4029.968505859375,
          4032.69189453125,
          4070.7939453125,
          4083.953857421875,
          4028.5146484375,
          4022.71337890625,
          4035.16357421875,
          4024.11279296875,
          3969.228759765625,
          3984.244873046875,
          4087.58447265625,
          4068.2998046875,
          4092.13623046875,
          4105.4560546875,
          4105.3623046875,
          4156.91943359375,
          4879.9580078125,
          4971.3076171875,
          4922.80615234375,
          5036.79296875,
          5062.7939453125,
          5199.83544921875,
          5289.91796875,
          5204.10546875,
          5325.08154296875,
          5061.20068359375,
          5088.85009765625,
          5095.7587890625,
          5167.32177734375,
          5066.57763671875,
          5236.13525390625,
          5251.48046875,
          5298.154296875,
          5304.16064453125,
          5335.87890625,
          5312.49462890625,
          5399.36572265625,
          5571.50830078125,
          5466.5244140625,
          5210.3046875,
          5279.47119140625,
          5271.74658203125,
          5284.8583984375,
          5247.72607421875,
          5350.91455078125,
          5402.4228515625,
          5505.55224609375,
          5769.20263671875,
          5831.068359375,
          5791.693359375,
          5745.59912109375,
          5849.4814453125,
          5982.31640625,
          6175.82275390625,
          6379.6669921875,
          7203.50732421875,
          6971.17822265625,
          7807.88427734375,
          7989.37451171875,
          8194.5009765625,
          7886.92578125,
          7341.66455078125,
          7267.962890625,
          8196.923828125,
          7977.96923828125,
          7956.2919921875,
          7677.26904296875,
          7881.6953125,
          7991.88525390625,
          8055.2060546875,
          8674.072265625,
          8802.7578125,
          8718.591796875,
          8661.7607421875,
          8320.2861328125,
          8573.83984375,
          8565.4736328125,
          8741.7470703125,
          8210.9853515625,
          7704.34326171875,
          7819.63330078125,
          7826.9013671875,
          8036.77490234375,
          7949.6748046875,
          7692.28466796875,
          8004.24365234375,
          7925.43408203125,
          8145.54541015625,
          8230.8984375,
          8689.74609375,
          8841.4404296875,
          8988.923828125,
          9335.466796875,
          9078.7275390625,
          9273.060546875,
          9525.07421875,
          10175.923828125,
          10696.69140625,
          10853.744140625,
          11007.2021484375,
          11778.5810546875,
          13017.125,
          11162.16796875,
          12400.763671875,
          11931.9912109375,
          10796.9306640625,
          10588.68359375,
          10818.15625,
          11972.71875,
          11203.1025390625,
          10982.5439453125,
          11217.6162109375,
          11446.5966796875,
          12284.326171875,
          12571.537109375,
          12139.7138671875,
          11354.2998046875,
          11813.126953125,
          11381.0205078125,
          10257.8388671875,
          10896.6533203125,
          9471.2138671875,
          9698.5029296875,
          10653.9560546875,
          10525.8193359375,
          10777.529296875,
          10596.9482421875,
          10346.748046875,
          9887.73046875,
          9809.0966796875,
          9913.126953125,
          9871.1650390625,
          9491.626953125,
          9548.1787109375,
          9522.3291015625,
          9604.05078125,
          10077.4423828125,
          10402.04296875,
          10519.2783203125,
          10821.6328125,
          10960.7353515625,
          11811.544921875,
          11476.193359375,
          11954.0400390625,
          11953.4697265625,
          11861.556640625,
          11349.740234375,
          11528.189453125,
          11385.052734375,
          10889.4873046875,
          10038.421875,
          10319.419921875,
          10358.72265625,
          10233.005859375,
          10350.283203125,
          10916.3466796875,
          10764.572265625,
          10142.521484375,
          10136.3095703125,
          10407.64453125,
          10160.7373046875,
          10126.2998046875,
          10372.826171875,
          10203.4267578125,
          9756.7861328125,
          9514.8447265625,
          9597.5390625,
          9630.5927734375,
          9757.4736328125,
          10345.7255859375,
          10621.1806640625,
          10588.18359375,
          10578.1982421875,
          10353.931640625,
          10518.1142578125,
          10443.228515625,
          10336.408203125,
          10123.03515625,
          10176.8193359375,
          10415.3623046875,
          10345.4033203125,
          10356.4658203125,
          10347.22265625,
          10281.513671875,
          10247.7958984375,
          10200.49609375,
          10266.318359375,
          10183.6484375,
          10024.115234375,
          10067.962890625,
          9729.3212890625,
          8603.4287109375,
          8487.669921875,
          8113.10107421875,
          8251.2734375,
          8246.037109375,
          8104.2265625,
          8299.720703125,
          8344.212890625,
          8390.7744140625,
          8259.494140625,
          8210.1494140625,
          8149.876953125,
          7989.12060546875,
          8246.849609375,
          8229.8408203125,
          8585.2802734375,
          8585.2626953125,
          8315.6650390625,
          8336.90234375,
          8320.83203125,
          8373.4580078125,
          8204.6748046875,
          8047.8125,
          8100.93359375,
          7973.8037109375,
          7997.80712890625,
          8225.115234375,
          8243.40234375,
          8076.228515625,
          7509.72802734375,
          7490.703125,
          8667.5771484375,
          9241.70703125,
          9565.1015625,
          9248.4404296875,
          9422.462890625,
          9202.4580078125,
          9193.9921875,
          9259.783203125,
          9324.787109375,
          9235.607421875,
          9413.0048828125,
          9340.8642578125,
          9352.3935546875,
          9265.3681640625,
          8809.46875,
          8812.4892578125,
          9056.91796875,
          8759.751953125,
          8812.033203125,
          8811.9365234375,
          8705.7080078125,
          8491.166015625,
          8549.470703125,
          8573.98046875,
          8305.134765625,
          8203.61328125,
          8023.64453125,
          7643.5693359375,
          7296.16455078125,
          7398.6337890625,
          7039.97705078125,
          7145.1591796875,
          3485.4091796875,
          3460.547119140625,
          3484.6259765625,
          3516.1396484375,
          3467.211669921875,
          3454.950927734375,
          3469.091796875,
          3414.929443359375,
          3401.37646484375,
          3671.5859375,
          3673.201416015625,
          3695.613037109375,
          3642.751953125,
          3653.60400390625,
          3631.170166015625,
          3617.368408203125,
          3615.270263671875,
          3633.359375,
          3671.369873046875,
          3911.66162109375
         ],
         "type": "candlestick",
         "x": [
          0,
          1,
          2,
          3,
          4,
          5,
          6,
          7,
          8,
          9,
          10,
          11,
          12,
          13,
          14,
          15,
          16,
          17,
          18,
          19,
          20,
          21,
          22,
          23,
          24,
          25,
          26,
          27,
          28,
          29,
          30,
          31,
          32,
          33,
          34,
          35,
          36,
          37,
          38,
          39,
          40,
          41,
          42,
          43,
          44,
          45,
          46,
          47,
          48,
          49,
          50,
          51,
          52,
          53,
          54,
          55,
          56,
          57,
          58,
          59,
          60,
          61,
          62,
          63,
          64,
          65,
          66,
          67,
          68,
          69,
          70,
          71,
          72,
          73,
          74,
          75,
          76,
          77,
          78,
          79,
          80,
          81,
          82,
          83,
          84,
          85,
          86,
          87,
          88,
          89,
          90,
          91,
          92,
          93,
          94,
          95,
          96,
          97,
          98,
          99,
          100,
          101,
          102,
          103,
          104,
          105,
          106,
          107,
          108,
          109,
          110,
          111,
          112,
          113,
          114,
          115,
          116,
          117,
          118,
          119,
          120,
          121,
          122,
          123,
          124,
          125,
          126,
          127,
          128,
          129,
          130,
          131,
          132,
          133,
          134,
          135,
          136,
          137,
          138,
          139,
          140,
          141,
          142,
          143,
          144,
          145,
          146,
          147,
          148,
          149,
          150,
          151,
          152,
          153,
          154,
          155,
          156,
          157,
          158,
          159,
          160,
          161,
          162,
          163,
          164,
          165,
          166,
          167,
          168,
          169,
          170,
          171,
          172,
          173,
          174,
          175,
          176,
          177,
          178,
          179,
          180,
          181,
          182,
          183,
          184,
          185,
          186,
          187,
          188,
          189,
          190,
          191,
          192,
          193,
          194,
          195,
          196,
          197,
          198,
          199,
          200,
          201,
          202,
          203,
          204,
          205,
          206,
          207,
          208,
          209,
          210,
          211,
          212,
          213,
          214,
          215,
          216,
          217,
          218,
          219,
          220,
          221,
          222,
          223,
          224,
          225,
          226,
          227,
          228,
          229,
          230,
          231,
          232,
          233,
          234,
          235,
          236,
          237,
          238,
          239,
          240,
          241,
          242,
          243,
          244,
          245,
          246,
          247,
          248,
          249,
          250,
          251,
          252,
          253,
          254,
          255,
          256,
          257,
          258,
          259,
          260,
          261,
          262,
          263,
          264,
          265,
          266,
          267,
          268,
          269,
          270,
          271,
          272,
          273,
          274,
          275,
          276,
          277,
          278,
          279,
          280,
          281,
          282,
          283,
          284,
          285,
          286,
          287,
          288,
          289,
          290,
          291,
          292,
          293,
          294,
          295,
          296,
          297,
          298,
          299,
          300,
          301,
          302,
          303,
          304,
          305,
          306,
          307,
          308,
          309,
          310,
          311,
          312,
          313,
          314,
          315,
          316,
          317,
          318,
          319,
          320,
          321,
          322,
          323,
          324,
          325,
          326,
          327,
          328,
          329,
          330,
          331,
          332,
          333,
          334,
          335,
          336,
          337,
          338,
          339,
          340,
          341,
          342,
          343,
          344,
          345,
          346,
          347,
          348,
          349
         ],
         "xaxis": "x",
         "yaxis": "y"
        },
        {
         "line": {
          "color": "green",
          "width": 1
         },
         "name": "BB_Low",
         "type": "scatter",
         "x": [
          0,
          1,
          2,
          3,
          4,
          5,
          6,
          7,
          8,
          9,
          10,
          11,
          12,
          13,
          14,
          15,
          16,
          17,
          18,
          19,
          20,
          21,
          22,
          23,
          24,
          25,
          26,
          27,
          28,
          29,
          30,
          31,
          32,
          33,
          34,
          35,
          36,
          37,
          38,
          39,
          40,
          41,
          42,
          43,
          44,
          45,
          46,
          47,
          48,
          49,
          50,
          51,
          52,
          53,
          54,
          55,
          56,
          57,
          58,
          59,
          60,
          61,
          62,
          63,
          64,
          65,
          66,
          67,
          68,
          69,
          70,
          71,
          72,
          73,
          74,
          75,
          76,
          77,
          78,
          79,
          80,
          81,
          82,
          83,
          84,
          85,
          86,
          87,
          88,
          89,
          90,
          91,
          92,
          93,
          94,
          95,
          96,
          97,
          98,
          99,
          100,
          101,
          102,
          103,
          104,
          105,
          106,
          107,
          108,
          109,
          110,
          111,
          112,
          113,
          114,
          115,
          116,
          117,
          118,
          119,
          120,
          121,
          122,
          123,
          124,
          125,
          126,
          127,
          128,
          129,
          130,
          131,
          132,
          133,
          134,
          135,
          136,
          137,
          138,
          139,
          140,
          141,
          142,
          143,
          144,
          145,
          146,
          147,
          148,
          149,
          150,
          151,
          152,
          153,
          154,
          155,
          156,
          157,
          158,
          159,
          160,
          161,
          162,
          163,
          164,
          165,
          166,
          167,
          168,
          169,
          170,
          171,
          172,
          173,
          174,
          175,
          176,
          177,
          178,
          179,
          180,
          181,
          182,
          183,
          184,
          185,
          186,
          187,
          188,
          189,
          190,
          191,
          192,
          193,
          194,
          195,
          196,
          197,
          198,
          199,
          200,
          201,
          202,
          203,
          204,
          205,
          206,
          207,
          208,
          209,
          210,
          211,
          212,
          213,
          214,
          215,
          216,
          217,
          218,
          219,
          220,
          221,
          222,
          223,
          224,
          225,
          226,
          227,
          228,
          229,
          230,
          231,
          232,
          233,
          234,
          235,
          236,
          237,
          238,
          239,
          240,
          241,
          242,
          243,
          244,
          245,
          246,
          247,
          248,
          249,
          250,
          251,
          252,
          253,
          254,
          255,
          256,
          257,
          258,
          259,
          260,
          261,
          262,
          263,
          264,
          265,
          266,
          267,
          268,
          269,
          270,
          271,
          272,
          273,
          274,
          275,
          276,
          277,
          278,
          279,
          280,
          281,
          282,
          283,
          284,
          285,
          286,
          287,
          288,
          289,
          290,
          291,
          292,
          293,
          294,
          295,
          296,
          297,
          298,
          299,
          300,
          301,
          302,
          303,
          304,
          305,
          306,
          307,
          308,
          309,
          310,
          311,
          312,
          313,
          314,
          315,
          316,
          317,
          318,
          319,
          320,
          321,
          322,
          323,
          324,
          325,
          326,
          327,
          328,
          329,
          330,
          331,
          332,
          333,
          334,
          335,
          336,
          337,
          338,
          339,
          340,
          341,
          342,
          343,
          344,
          345,
          346,
          347,
          348,
          349
         ],
         "xaxis": "x",
         "y": [
          null,
          null,
          null,
          null,
          null,
          null,
          null,
          null,
          null,
          null,
          null,
          null,
          null,
          null,
          null,
          null,
          null,
          null,
          null,
          null,
          null,
          null,
          null,
          null,
          null,
          null,
          null,
          null,
          null,
          3450.3012927034683,
          3431.642445469017,
          3419.889131420239,
          3409.5946423568944,
          3396.054790862246,
          3383.254629391368,
          3387.9763665916703,
          3388.8675717429896,
          3396.3563431589114,
          3430.2442589748575,
          3430.415685290623,
          3430.3320848825997,
          3430.48223976239,
          3432.1697525129075,
          3433.5337255931518,
          3433.469617827624,
          3433.596566965874,
          3434.2797951560433,
          3433.942599517633,
          3416.229033761271,
          3398.7813384626047,
          3382.451687274788,
          3374.222815407367,
          3365.9510397171066,
          3349.4052933818048,
          3353.37357855914,
          3356.667727270451,
          3362.0996388708345,
          3376.2061626192685,
          3393.5392951432373,
          3408.7076543424255,
          3427.8122261011495,
          3445.367205691934,
          3459.4865557475496,
          3481.9256079977913,
          3506.931936468389,
          3533.3498742482266,
          3570.2081875718777,
          3614.095994205153,
          3625.3084461546873,
          3637.099575995385,
          3647.8804118454495,
          3663.709210242313,
          3680.3295396942876,
          3701.30520022181,
          3725.0581518690524,
          3752.5529302848518,
          3782.5838403043626,
          3807.4629016940553,
          3805.9712810186484,
          3806.223773912546,
          3806.005937249924,
          3806.1743446306737,
          3806.0554193042976,
          3811.990976478271,
          3822.189923610967,
          3823.914768777754,
          3829.7564791313753,
          3835.7320317121967,
          3842.194274659936,
          3849.4469898447514,
          3854.8475427823323,
          3753.1845047546612,
          3701.073846969357,
          3671.441968632397,
          3644.052260382656,
          3627.6551381274307,
          3611.2655156211345,
          3595.1347235945054,
          3596.5515304300675,
          3601.898002533792,
          3627.092439934973,
          3656.2911668624374,
          3688.386204428792,
          3719.8631960878424,
          3750.683636763668,
          3783.3079267309204,
          3819.5064692040146,
          3855.7566818829146,
          3895.069757415289,
          3943.939496774784,
          3999.1845944844936,
          4057.2226464534206,
          4118.745629947625,
          4198.610734884994,
          4285.786617093825,
          4367.568395785614,
          4460.8698165675705,
          4561.117969129324,
          4674.5723329405055,
          4813.033402023656,
          4984.64811971463,
          5013.153799532645,
          5010.9260793765425,
          5017.2077678188325,
          5021.763279726301,
          5033.083813887648,
          5031.070443456143,
          5016.398195242819,
          4997.058106172509,
          4961.475540431489,
          4856.481546111268,
          4826.697810146161,
          4723.531237197552,
          4644.923937437328,
          4592.442448086324,
          4586.2640367166205,
          4623.052052255189,
          4666.72924211915,
          4675.626757470736,
          4710.94891564187,
          4761.2323148658725,
          4824.1610884415195,
          4876.338144911932,
          4942.946773382064,
          5041.5621477855575,
          5122.879059124333,
          5216.668635511059,
          5330.421628957532,
          5467.812052233943,
          5617.666488101506,
          5771.947867156926,
          5930.726545008596,
          6069.265959520227,
          6220.626490705961,
          6381.069022250314,
          6568.203080130435,
          6763.3424638722,
          6964.09306831943,
          7156.261297768363,
          7324.761456425961,
          7389.437314151389,
          7491.858297950603,
          7507.4500134697355,
          7514.891704252743,
          7510.364578929527,
          7515.953322480426,
          7572.611196415563,
          7627.321820558277,
          7621.660897303667,
          7623.120718044002,
          7617.04979745797,
          7594.296871721737,
          7521.512787434567,
          7464.824831800715,
          7422.104935436915,
          7299.8760053149335,
          7085.063082523269,
          7082.993250881989,
          7024.068227396073,
          7041.085602804244,
          7092.752606290829,
          7151.986116311308,
          7203.794424676721,
          7273.109247926892,
          7420.181345255406,
          7570.100248002043,
          7731.489973657991,
          7881.336459076001,
          8036.989076381581,
          8236.296921556524,
          8435.788344262572,
          8672.36876187028,
          8902.28913848066,
          9142.992397522328,
          9294.795572048062,
          9471.459054538225,
          9530.023567766062,
          9571.291394048474,
          9724.303175084413,
          9852.546705377723,
          9969.545296184628,
          10008.061282274783,
          9980.916890809629,
          9902.610678172841,
          9811.274974849734,
          9722.47451936223,
          9694.995720272687,
          9578.634456950109,
          9503.326658472453,
          9417.71819561233,
          9343.470495025984,
          9317.321178384182,
          9302.478840446236,
          9303.541597447693,
          9299.813650459135,
          9299.718057384518,
          9288.928842169036,
          9288.533782778723,
          9306.530367580259,
          9346.310221644051,
          9362.147256085125,
          9362.2160222532,
          9372.46816042612,
          9372.64616601057,
          9394.01663146244,
          9360.602429652105,
          9424.35186567583,
          9472.086808388596,
          9453.199440175575,
          9445.164328137675,
          9447.693725622397,
          9452.262876551653,
          9440.668417014234,
          9457.085239458944,
          9496.695310694991,
          9514.757984810716,
          9535.112489037867,
          9610.059916775423,
          9668.087927880912,
          9694.351609140205,
          9682.878438420124,
          9636.56618732168,
          9575.556516933966,
          9524.003850774287,
          9507.077438422488,
          9500.06752214982,
          9512.357113698732,
          9514.055478427625,
          9540.065166222274,
          9588.686948391296,
          9642.68902803301,
          9660.53265759416,
          9695.16350931296,
          9735.508218845143,
          9748.153130855646,
          9760.389160844656,
          9761.3627024628,
          9760.910228393197,
          9762.410176204421,
          9759.571133975758,
          9771.768737172031,
          9780.074862508423,
          9781.920369072792,
          9775.597190310358,
          9766.470720600597,
          9734.090866779643,
          9517.009462900463,
          9315.53539578119,
          9082.944884949651,
          8920.33839910716,
          8785.584637897706,
          8637.102834527745,
          8522.79198904882,
          8416.209331311482,
          8312.111067011643,
          8205.46222956987,
          8102.905662053505,
          8004.60876645694,
          7895.374650370877,
          7823.72909151257,
          7757.1381720952295,
          7722.311334453734,
          7687.226786508572,
          7640.49468836492,
          7609.535982989227,
          7584.235576186866,
          7571.6264349679595,
          7557.8695392853015,
          7540.643401346793,
          7538.877420775525,
          7539.722562494979,
          7568.052051080437,
          7629.149412737637,
          7703.430317656157,
          7831.377185120375,
          7907.142384699933,
          7831.660066304619,
          7823.917599905762,
          7767.557774445198,
          7691.257815622131,
          7668.610516361611,
          7649.03690125497,
          7643.608929882716,
          7640.66967421307,
          7636.772065465138,
          7640.081541430471,
          7653.94327706127,
          7669.086016082463,
          7704.224143558902,
          7724.334478692326,
          7751.012557087978,
          7757.5601901046,
          7764.810150289002,
          7789.870676593384,
          7809.788574554447,
          7832.9859936761595,
          7853.083708890912,
          7882.778709465474,
          7916.9205452741535,
          7950.006660785763,
          7999.229869561851,
          8030.002738637313,
          8028.551518651047,
          8007.454043379873,
          7955.5560288144525,
          7921.890357428436,
          7907.728926066593,
          7737.068369942398,
          7589.601011340747,
          7471.8546248879275,
          null,
          null,
          null,
          null,
          null,
          null,
          null,
          null,
          null,
          null,
          null,
          null,
          null,
          null,
          null,
          null,
          null,
          null,
          null,
          null
         ],
         "yaxis": "y"
        },
        {
         "line": {
          "color": "yellow",
          "width": 1
         },
         "name": "BB_MID",
         "type": "scatter",
         "x": [
          0,
          1,
          2,
          3,
          4,
          5,
          6,
          7,
          8,
          9,
          10,
          11,
          12,
          13,
          14,
          15,
          16,
          17,
          18,
          19,
          20,
          21,
          22,
          23,
          24,
          25,
          26,
          27,
          28,
          29,
          30,
          31,
          32,
          33,
          34,
          35,
          36,
          37,
          38,
          39,
          40,
          41,
          42,
          43,
          44,
          45,
          46,
          47,
          48,
          49,
          50,
          51,
          52,
          53,
          54,
          55,
          56,
          57,
          58,
          59,
          60,
          61,
          62,
          63,
          64,
          65,
          66,
          67,
          68,
          69,
          70,
          71,
          72,
          73,
          74,
          75,
          76,
          77,
          78,
          79,
          80,
          81,
          82,
          83,
          84,
          85,
          86,
          87,
          88,
          89,
          90,
          91,
          92,
          93,
          94,
          95,
          96,
          97,
          98,
          99,
          100,
          101,
          102,
          103,
          104,
          105,
          106,
          107,
          108,
          109,
          110,
          111,
          112,
          113,
          114,
          115,
          116,
          117,
          118,
          119,
          120,
          121,
          122,
          123,
          124,
          125,
          126,
          127,
          128,
          129,
          130,
          131,
          132,
          133,
          134,
          135,
          136,
          137,
          138,
          139,
          140,
          141,
          142,
          143,
          144,
          145,
          146,
          147,
          148,
          149,
          150,
          151,
          152,
          153,
          154,
          155,
          156,
          157,
          158,
          159,
          160,
          161,
          162,
          163,
          164,
          165,
          166,
          167,
          168,
          169,
          170,
          171,
          172,
          173,
          174,
          175,
          176,
          177,
          178,
          179,
          180,
          181,
          182,
          183,
          184,
          185,
          186,
          187,
          188,
          189,
          190,
          191,
          192,
          193,
          194,
          195,
          196,
          197,
          198,
          199,
          200,
          201,
          202,
          203,
          204,
          205,
          206,
          207,
          208,
          209,
          210,
          211,
          212,
          213,
          214,
          215,
          216,
          217,
          218,
          219,
          220,
          221,
          222,
          223,
          224,
          225,
          226,
          227,
          228,
          229,
          230,
          231,
          232,
          233,
          234,
          235,
          236,
          237,
          238,
          239,
          240,
          241,
          242,
          243,
          244,
          245,
          246,
          247,
          248,
          249,
          250,
          251,
          252,
          253,
          254,
          255,
          256,
          257,
          258,
          259,
          260,
          261,
          262,
          263,
          264,
          265,
          266,
          267,
          268,
          269,
          270,
          271,
          272,
          273,
          274,
          275,
          276,
          277,
          278,
          279,
          280,
          281,
          282,
          283,
          284,
          285,
          286,
          287,
          288,
          289,
          290,
          291,
          292,
          293,
          294,
          295,
          296,
          297,
          298,
          299,
          300,
          301,
          302,
          303,
          304,
          305,
          306,
          307,
          308,
          309,
          310,
          311,
          312,
          313,
          314,
          315,
          316,
          317,
          318,
          319,
          320,
          321,
          322,
          323,
          324,
          325,
          326,
          327,
          328,
          329,
          330,
          331,
          332,
          333,
          334,
          335,
          336,
          337,
          338,
          339,
          340,
          341,
          342,
          343,
          344,
          345,
          346,
          347,
          348,
          349
         ],
         "xaxis": "x",
         "y": [
          null,
          null,
          null,
          null,
          null,
          null,
          null,
          null,
          null,
          null,
          null,
          null,
          null,
          null,
          null,
          null,
          null,
          null,
          null,
          null,
          null,
          null,
          null,
          null,
          null,
          null,
          null,
          null,
          null,
          3709.68037109375,
          3696.822794596354,
          3681.640657552083,
          3671.1179768880206,
          3657.9945068359375,
          3645.1264892578124,
          3624.783984375,
          3604.401302083333,
          3583.355428059896,
          3571.0715576171874,
          3570.8141927083334,
          3570.9082845052085,
          3570.4792724609374,
          3573.831787109375,
          3571.365730794271,
          3570.9059163411457,
          3569.766048177083,
          3568.140169270833,
          3568.6733968098956,
          3574.9115966796876,
          3586.4476236979167,
          3600.5738932291665,
          3612.2252604166665,
          3626.2387125651044,
          3644.294091796875,
          3651.3161458333334,
          3660.6573404947917,
          3669.67041015625,
          3682.356974283854,
          3695.912589518229,
          3708.359326171875,
          3721.9134033203127,
          3733.8877522786456,
          3741.904296875,
          3756.3163492838544,
          3771.1426350911456,
          3785.9802001953126,
          3802.2256591796877,
          3821.0203938802083,
          3830.5143798828126,
          3838.3151692708334,
          3845.6141031901043,
          3854.2236572265624,
          3863.251676432292,
          3874.213028971354,
          3888.607861328125,
          3902.0884684244793,
          3915.512459309896,
          3928.7575927734374,
          3934.4829915364585,
          3937.224072265625,
          3938.0289957682294,
          3940.7526041666665,
          3941.30732421875,
          3935.325447591146,
          3941.147224934896,
          3947.9595540364585,
          3955.1178629557294,
          3963.362101236979,
          3971.7579264322917,
          3979.951944986979,
          3989.7442138671877,
          4024.167618815104,
          4064.5497802734376,
          4098.763907877604,
          4136.521858723959,
          4174.799625651041,
          4218.0584716796875,
          4262.273714192708,
          4304.052335611979,
          4351.363151041666,
          4389.874202473959,
          4429.301595052083,
          4468.375504557292,
          4508.6025390625,
          4542.5486246744795,
          4582.892976888021,
          4623.540665690104,
          4664.447184244792,
          4704.991723632813,
          4748.610367838542,
          4791.629134114583,
          4837.080428059896,
          4888.753564453125,
          4938.8134358723955,
          4979.661263020834,
          5019.403995768229,
          5059.376790364583,
          5098.935611979166,
          5136.95869140625,
          5178.46943359375,
          5219.953238932291,
          5240.80009765625,
          5267.309016927084,
          5297.587972005208,
          5322.888883463542,
          5345.788541666667,
          5366.80869140625,
          5389.8982421875,
          5422.217252604167,
          5457.360498046875,
          5528.703287760417,
          5591.464371744792,
          5682.075325520834,
          5776.298453776041,
          5880.900439453125,
          5969.212093098959,
          6038.944010416667,
          6104.704752604167,
          6201.167317708333,
          6289.181412760417,
          6377.474625651042,
          6453.497998046875,
          6530.480810546875,
          6614.564306640625,
          6709.298583984375,
          6822.427506510417,
          6940.34375,
          7054.837841796875,
          7168.575667317708,
          7267.533870442709,
          7373.260693359375,
          7475.21845703125,
          7574.374072265625,
          7653.634993489583,
          7717.37041015625,
          7786.617887369792,
          7853.035286458334,
          7921.751741536458,
          7981.071712239584,
          8024.712646484375,
          8051.23125,
          8083.076009114583,
          8094.107421875,
          8101.991015625,
          8118.279850260416,
          8150.062044270833,
          8205.081803385418,
          8273.38662109375,
          8302.855729166668,
          8346.029475911459,
          8398.1572265625,
          8480.306901041668,
          8574.301725260417,
          8669.901708984375,
          8768.520328776041,
          8872.443701171875,
          9012.792138671875,
          9094.886962890625,
          9219.815120442709,
          9341.145068359376,
          9415.900179036458,
          9483.204117838543,
          9551.828108723957,
          9676.903922526042,
          9793.826139322917,
          9898.96708984375,
          10011.851334635418,
          10125.414518229167,
          10269.808854166668,
          10432.66669921875,
          10571.206136067709,
          10685.571061197918,
          10807.90869140625,
          10913.29052734375,
          10965.364713541667,
          11033.921875,
          11050.026985677083,
          11062.475325520832,
          11115.29931640625,
          11157.20634765625,
          11198.538997395834,
          11213.690625,
          11201.73779296875,
          11169.91767578125,
          11129.9451171875,
          11067.30927734375,
          10962.44501953125,
          10905.607389322917,
          10810.458333333334,
          10729.11748046875,
          10688.793098958333,
          10672.209537760416,
          10658.809244791666,
          10610.706087239583,
          10597.582389322917,
          10597.30654296875,
          10617.2099609375,
          10618.120703125,
          10606.65439453125,
          10586.407552083334,
          10576.6216796875,
          10576.46708984375,
          10566.720182291667,
          10566.394759114582,
          10587.720475260418,
          10559.6076171875,
          10587.404427083333,
          10610.08896484375,
          10595.597688802083,
          10589.433626302083,
          10594.397428385417,
          10599.868326822916,
          10593.03310546875,
          10600.709375,
          10620.57734375,
          10628.847981770834,
          10637.788444010417,
          10667.55986328125,
          10688.6478515625,
          10696.4904296875,
          10693.249641927083,
          10677.001171875,
          10651.36767578125,
          10626.0275390625,
          10610.195345052083,
          10598.64052734375,
          10558.268522135417,
          10528.1806640625,
          10475.225130208333,
          10426.920052083333,
          10379.531380208333,
          10345.563053385416,
          10298.642936197917,
          10258.50146484375,
          10242.311360677084,
          10252.606119791666,
          10254.156217447917,
          10253.268684895833,
          10254.770345052084,
          10251.2857421875,
          10227.35888671875,
          10210.798307291667,
          10212.2513671875,
          10208.540071614583,
          10197.287662760416,
          10182.93310546875,
          10132.334733072918,
          10069.540494791667,
          10000.656087239584,
          9950.570182291667,
          9908.42734375,
          9858.627734375,
          9814.06787109375,
          9766.911393229168,
          9701.787434895834,
          9623.002506510416,
          9543.384049479168,
          9462.582958984374,
          9383.7447265625,
          9308.023665364582,
          9234.273893229167,
          9176.2994140625,
          9125.316015625,
          9063.428841145833,
          8994.309798177082,
          8926.32509765625,
          8860.213020833333,
          8788.8015625,
          8714.492659505207,
          8643.247281901042,
          8569.079264322916,
          8493.15078125,
          8427.831998697917,
          8368.63212890625,
          8302.225813802082,
          8228.404069010418,
          8190.834814453125,
          8196.625048828126,
          8234.158544921875,
          8277.487516276042,
          8311.161962890625,
          8355.278694661458,
          8385.673974609375,
          8414.217594401041,
          8443.153011067709,
          8478.643863932291,
          8512.957698567709,
          8554.994759114583,
          8600.140478515625,
          8637.315706380208,
          8671.941650390625,
          8678.913004557291,
          8686.483284505208,
          8710.942268880208,
          8724.983349609374,
          8741.471891276042,
          8755.924430338542,
          8772.681949869791,
          8787.4974609375,
          8802.392447916667,
          8822.551383463542,
          8833.242236328126,
          8832.711149088542,
          8825.496061197917,
          8810.98095703125,
          8803.711149088542,
          8800.521419270834,
          8746.761979166668,
          8676.80068359375,
          8599.02255859375,
          null,
          null,
          null,
          null,
          null,
          null,
          null,
          null,
          null,
          null,
          null,
          null,
          null,
          null,
          null,
          null,
          null,
          null,
          null,
          null
         ],
         "yaxis": "y"
        },
        {
         "line": {
          "color": "green",
          "width": 1
         },
         "name": "BB_UPPER",
         "type": "scatter",
         "x": [
          0,
          1,
          2,
          3,
          4,
          5,
          6,
          7,
          8,
          9,
          10,
          11,
          12,
          13,
          14,
          15,
          16,
          17,
          18,
          19,
          20,
          21,
          22,
          23,
          24,
          25,
          26,
          27,
          28,
          29,
          30,
          31,
          32,
          33,
          34,
          35,
          36,
          37,
          38,
          39,
          40,
          41,
          42,
          43,
          44,
          45,
          46,
          47,
          48,
          49,
          50,
          51,
          52,
          53,
          54,
          55,
          56,
          57,
          58,
          59,
          60,
          61,
          62,
          63,
          64,
          65,
          66,
          67,
          68,
          69,
          70,
          71,
          72,
          73,
          74,
          75,
          76,
          77,
          78,
          79,
          80,
          81,
          82,
          83,
          84,
          85,
          86,
          87,
          88,
          89,
          90,
          91,
          92,
          93,
          94,
          95,
          96,
          97,
          98,
          99,
          100,
          101,
          102,
          103,
          104,
          105,
          106,
          107,
          108,
          109,
          110,
          111,
          112,
          113,
          114,
          115,
          116,
          117,
          118,
          119,
          120,
          121,
          122,
          123,
          124,
          125,
          126,
          127,
          128,
          129,
          130,
          131,
          132,
          133,
          134,
          135,
          136,
          137,
          138,
          139,
          140,
          141,
          142,
          143,
          144,
          145,
          146,
          147,
          148,
          149,
          150,
          151,
          152,
          153,
          154,
          155,
          156,
          157,
          158,
          159,
          160,
          161,
          162,
          163,
          164,
          165,
          166,
          167,
          168,
          169,
          170,
          171,
          172,
          173,
          174,
          175,
          176,
          177,
          178,
          179,
          180,
          181,
          182,
          183,
          184,
          185,
          186,
          187,
          188,
          189,
          190,
          191,
          192,
          193,
          194,
          195,
          196,
          197,
          198,
          199,
          200,
          201,
          202,
          203,
          204,
          205,
          206,
          207,
          208,
          209,
          210,
          211,
          212,
          213,
          214,
          215,
          216,
          217,
          218,
          219,
          220,
          221,
          222,
          223,
          224,
          225,
          226,
          227,
          228,
          229,
          230,
          231,
          232,
          233,
          234,
          235,
          236,
          237,
          238,
          239,
          240,
          241,
          242,
          243,
          244,
          245,
          246,
          247,
          248,
          249,
          250,
          251,
          252,
          253,
          254,
          255,
          256,
          257,
          258,
          259,
          260,
          261,
          262,
          263,
          264,
          265,
          266,
          267,
          268,
          269,
          270,
          271,
          272,
          273,
          274,
          275,
          276,
          277,
          278,
          279,
          280,
          281,
          282,
          283,
          284,
          285,
          286,
          287,
          288,
          289,
          290,
          291,
          292,
          293,
          294,
          295,
          296,
          297,
          298,
          299,
          300,
          301,
          302,
          303,
          304,
          305,
          306,
          307,
          308,
          309,
          310,
          311,
          312,
          313,
          314,
          315,
          316,
          317,
          318,
          319,
          320,
          321,
          322,
          323,
          324,
          325,
          326,
          327,
          328,
          329,
          330,
          331,
          332,
          333,
          334,
          335,
          336,
          337,
          338,
          339,
          340,
          341,
          342,
          343,
          344,
          345,
          346,
          347,
          348,
          349
         ],
         "xaxis": "x",
         "y": [
          null,
          null,
          null,
          null,
          null,
          null,
          null,
          null,
          null,
          null,
          null,
          null,
          null,
          null,
          null,
          null,
          null,
          null,
          null,
          null,
          null,
          null,
          null,
          null,
          null,
          null,
          null,
          null,
          null,
          3969.059449484032,
          3962.003143723691,
          3943.392183683927,
          3932.641311419147,
          3919.934222809629,
          3906.998349124257,
          3861.5916021583294,
          3819.9350324236766,
          3770.3545129608806,
          3711.8988562595173,
          3711.2127001260437,
          3711.4844841278173,
          3710.476305159485,
          3715.4938217058425,
          3709.19773599539,
          3708.3422148546674,
          3705.9355293882923,
          3702.000543385623,
          3703.4041941021583,
          3733.5941595981044,
          3774.1139089332287,
          3818.696099183545,
          3850.227705425966,
          3886.526385413102,
          3939.182890211945,
          3949.258713107527,
          3964.6469537191324,
          3977.2411814416655,
          3988.5077859484395,
          3998.285883893221,
          4008.010998001325,
          4016.014580539476,
          4022.408298865357,
          4024.3220380024504,
          4030.7070905699175,
          4035.3533337139024,
          4038.6105261423986,
          4034.2431307874976,
          4027.9447935552635,
          4035.720313610938,
          4039.530762546282,
          4043.347794534759,
          4044.738104210812,
          4046.173813170296,
          4047.120857720898,
          4052.157570787198,
          4051.624006564107,
          4048.441078315429,
          4050.0522838528195,
          4062.9947020542686,
          4068.224370618704,
          4070.0520542865347,
          4075.3308637026594,
          4076.5592291332027,
          4058.6599187040206,
          4060.1045262588245,
          4072.004339295163,
          4080.4792467800835,
          4090.9921707617614,
          4101.321578204647,
          4110.456900129207,
          4124.640884952043,
          4295.150732875547,
          4428.025713577518,
          4526.08584712281,
          4628.991457065261,
          4721.944113174652,
          4824.85142773824,
          4929.4127047909105,
          5011.553140793891,
          5100.828299549541,
          5152.655965012944,
          5202.312023241729,
          5248.364804685791,
          5297.341882037157,
          5334.413612585291,
          5382.478027045121,
          5427.574862176194,
          5473.137686606669,
          5514.913689850337,
          5553.281238902299,
          5584.073673744673,
          5616.938209666371,
          5658.761498958625,
          5679.016136859797,
          5673.5359089478425,
          5671.239595750844,
          5657.8837641615955,
          5636.753254829009,
          5599.345049871995,
          5543.905465163844,
          5455.258358149952,
          5468.446395779854,
          5523.691954477625,
          5577.968176191584,
          5624.014487200782,
          5658.493269445686,
          5702.546939356356,
          5763.39828913218,
          5847.376399035825,
          5953.2454556622615,
          6200.925029409566,
          6356.230933343422,
          6640.619413844115,
          6907.672970114754,
          7169.358430819926,
          7352.160149481297,
          7454.835968578145,
          7542.680263089184,
          7726.70787794593,
          7867.413909878963,
          7993.716936436211,
          8082.834907652231,
          8184.623476181817,
          8286.181839899185,
          8377.035020183193,
          8521.9759538965,
          8664.018864488942,
          8779.254054636218,
          8869.339282401474,
          8917.401252783911,
          8974.573519561824,
          9019.710369053904,
          9079.482185011024,
          9086.643496273206,
          9053.671798062185,
          9005.032694609148,
          8942.728109044469,
          8879.410414753485,
          8805.882126710803,
          8724.663836542788,
          8713.025185848612,
          8674.293720278563,
          8680.764830280265,
          8689.090326997257,
          8726.195121591307,
          8784.17076606124,
          8837.55241035527,
          8919.451421629223,
          8984.050561029668,
          9068.938233778914,
          9179.26465566703,
          9366.316930361598,
          9627.090663086266,
          9874.978586168034,
          10114.935722115168,
          10445.011397028817,
          10940.521194820481,
          11106.78067489926,
          11415.562013489343,
          11641.204533914508,
          11739.047751782087,
          11814.422119365776,
          11899.861792771193,
          12080.698597125192,
          12167.470933390428,
          12227.833931685458,
          12292.212695612845,
          12369.492577382332,
          12502.628631951753,
          12629.036476880974,
          12706.623927872846,
          12698.773360525554,
          12713.52824433184,
          12683.588657165172,
          12635.933855035271,
          12596.384695461775,
          12570.030403588104,
          12553.65925699319,
          12506.295457728087,
          12461.865989934779,
          12427.53269860704,
          12419.319967725216,
          12422.558695127871,
          12437.224673389657,
          12448.615259525268,
          12412.14403532527,
          12229.894318789811,
          12232.580321695725,
          12117.590008194215,
          12040.516765325172,
          12034.115702890682,
          12027.097897136651,
          12015.139649137096,
          11917.870577031474,
          11895.3511281867,
          11894.895028552983,
          11945.491079705964,
          11947.707623471277,
          11906.77842148224,
          11826.504882522617,
          11791.096103289874,
          11790.718157434301,
          11760.972204157213,
          11760.143352218594,
          11781.424319058395,
          11758.612804722894,
          11750.456988490836,
          11748.091121298903,
          11737.995937428592,
          11733.702924466492,
          11741.101131148436,
          11747.47377709418,
          11745.397793923266,
          11744.333510541057,
          11744.459376805007,
          11742.937978730952,
          11740.464398982967,
          11725.059809787079,
          11709.20777524409,
          11698.629250234793,
          11703.620845434041,
          11717.436156428319,
          11727.178834628534,
          11728.051227350712,
          11713.313251681679,
          11697.21353253768,
          11604.179930572102,
          11542.305849697375,
          11410.385094194393,
          11265.15315577537,
          11116.373732383656,
          11030.593449176673,
          10902.122363082874,
          10781.494710842357,
          10736.469590498522,
          10744.823078738676,
          10746.949732433033,
          10745.627141398469,
          10747.130513899747,
          10743.000350399241,
          10682.949036265469,
          10641.52175207491,
          10642.582365302209,
          10641.482952918808,
          10628.104604920236,
          10631.775344157857,
          10747.660003245372,
          10823.545593802144,
          10918.367289529517,
          10980.801965476174,
          11031.270049602294,
          11080.152634222257,
          11105.34375313868,
          11117.613455146853,
          11091.463802780025,
          11040.542783450963,
          10983.86243690483,
          10920.557151511808,
          10872.114802754122,
          10792.318239216595,
          10711.409614363105,
          10630.287493671265,
          10563.405244741427,
          10486.362993926745,
          10379.083613364939,
          10268.414619125635,
          10148.799606698707,
          10019.7335857147,
          9888.341917663622,
          9747.617143026559,
          9598.435966150853,
          9418.249511419563,
          9226.514584658196,
          9033.833940156344,
          8773.07444248379,
          8549.665753320902,
          8550.00956260163,
          8569.332497750489,
          8700.75931539855,
          8863.717216929954,
          8953.713409419637,
          9061.520488067947,
          9127.739019336033,
          9187.765514589013,
          9249.533956670279,
          9317.206186434112,
          9371.972120074148,
          9440.903502146703,
          9496.056813472347,
          9550.29693406809,
          9592.870743693273,
          9600.265819009981,
          9608.156418721414,
          9632.013861167032,
          9640.1781246643,
          9649.957788875925,
          9658.765151786172,
          9662.585190274109,
          9658.074376600847,
          9654.778235047572,
          9645.872897365234,
          9636.481734018938,
          9636.870779526036,
          9643.53807901596,
          9666.405885248048,
          9685.531940748648,
          9693.313912475074,
          9756.455588390936,
          9764.000355846754,
          9726.19049229957,
          null,
          null,
          null,
          null,
          null,
          null,
          null,
          null,
          null,
          null,
          null,
          null,
          null,
          null,
          null,
          null,
          null,
          null,
          null,
          null
         ],
         "yaxis": "y"
        },
        {
         "marker": {
          "color": "MediumPurple",
          "size": 8
         },
         "mode": "markers",
         "name": "entry",
         "type": "scatter",
         "x": [
          0,
          1,
          2,
          3,
          4,
          5,
          6,
          7,
          8,
          9,
          10,
          11,
          12,
          13,
          14,
          15,
          16,
          17,
          18,
          19,
          20,
          21,
          22,
          23,
          24,
          25,
          26,
          27,
          28,
          29,
          30,
          31,
          32,
          33,
          34,
          35,
          36,
          37,
          38,
          39,
          40,
          41,
          42,
          43,
          44,
          45,
          46,
          47,
          48,
          49,
          50,
          51,
          52,
          53,
          54,
          55,
          56,
          57,
          58,
          59,
          60,
          61,
          62,
          63,
          64,
          65,
          66,
          67,
          68,
          69,
          70,
          71,
          72,
          73,
          74,
          75,
          76,
          77,
          78,
          79,
          80,
          81,
          82,
          83,
          84,
          85,
          86,
          87,
          88,
          89,
          90,
          91,
          92,
          93,
          94,
          95,
          96,
          97,
          98,
          99,
          100,
          101,
          102,
          103,
          104,
          105,
          106,
          107,
          108,
          109,
          110,
          111,
          112,
          113,
          114,
          115,
          116,
          117,
          118,
          119,
          120,
          121,
          122,
          123,
          124,
          125,
          126,
          127,
          128,
          129,
          130,
          131,
          132,
          133,
          134,
          135,
          136,
          137,
          138,
          139,
          140,
          141,
          142,
          143,
          144,
          145,
          146,
          147,
          148,
          149,
          150,
          151,
          152,
          153,
          154,
          155,
          156,
          157,
          158,
          159,
          160,
          161,
          162,
          163,
          164,
          165,
          166,
          167,
          168,
          169,
          170,
          171,
          172,
          173,
          174,
          175,
          176,
          177,
          178,
          179,
          180,
          181,
          182,
          183,
          184,
          185,
          186,
          187,
          188,
          189,
          190,
          191,
          192,
          193,
          194,
          195,
          196,
          197,
          198,
          199,
          200,
          201,
          202,
          203,
          204,
          205,
          206,
          207,
          208,
          209,
          210,
          211,
          212,
          213,
          214,
          215,
          216,
          217,
          218,
          219,
          220,
          221,
          222,
          223,
          224,
          225,
          226,
          227,
          228,
          229,
          230,
          231,
          232,
          233,
          234,
          235,
          236,
          237,
          238,
          239,
          240,
          241,
          242,
          243,
          244,
          245,
          246,
          247,
          248,
          249,
          250,
          251,
          252,
          253,
          254,
          255,
          256,
          257,
          258,
          259,
          260,
          261,
          262,
          263,
          264,
          265,
          266,
          267,
          268,
          269,
          270,
          271,
          272,
          273,
          274,
          275,
          276,
          277,
          278,
          279,
          280,
          281,
          282,
          283,
          284,
          285,
          286,
          287,
          288,
          289,
          290,
          291,
          292,
          293,
          294,
          295,
          296,
          297,
          298,
          299,
          300,
          301,
          302,
          303,
          304,
          305,
          306,
          307,
          308,
          309,
          310,
          311,
          312,
          313,
          314,
          315,
          316,
          317,
          318,
          319,
          320,
          321,
          322,
          323,
          324,
          325,
          326,
          327,
          328,
          329,
          330,
          331,
          332,
          333,
          334,
          335,
          336,
          337,
          338,
          339,
          340,
          341,
          342,
          343,
          344,
          345,
          346,
          347,
          348,
          349
         ],
         "xaxis": "x",
         "y": [
          null,
          null,
          null,
          null,
          null,
          null,
          null,
          null,
          null,
          null,
          null,
          null,
          null,
          null,
          null,
          null,
          null,
          null,
          null,
          null,
          null,
          null,
          null,
          null,
          null,
          null,
          null,
          null,
          null,
          null,
          null,
          null,
          null,
          null,
          null,
          null,
          null,
          null,
          null,
          null,
          null,
          null,
          null,
          null,
          null,
          null,
          null,
          null,
          null,
          null,
          null,
          null,
          null,
          null,
          4210.6417015625,
          null,
          null,
          null,
          null,
          null,
          null,
          null,
          null,
          null,
          null,
          null,
          null,
          null,
          null,
          null,
          null,
          null,
          null,
          null,
          null,
          null,
          null,
          null,
          null,
          null,
          null,
          null,
          null,
          null,
          null,
          null,
          null,
          null,
          null,
          null,
          null,
          null,
          null,
          null,
          null,
          null,
          null,
          null,
          null,
          null,
          5354.2256859375,
          null,
          null,
          null,
          null,
          null,
          null,
          null,
          null,
          null,
          null,
          null,
          null,
          null,
          null,
          null,
          null,
          null,
          null,
          null,
          null,
          null,
          null,
          null,
          null,
          null,
          null,
          null,
          null,
          null,
          null,
          null,
          null,
          null,
          null,
          8320.82431875,
          7929.1456078125,
          null,
          null,
          null,
          null,
          null,
          null,
          null,
          null,
          null,
          null,
          null,
          null,
          null,
          null,
          null,
          null,
          null,
          null,
          null,
          null,
          null,
          null,
          null,
          null,
          null,
          null,
          null,
          null,
          null,
          null,
          null,
          null,
          null,
          null,
          null,
          null,
          null,
          null,
          null,
          null,
          13311.14463125,
          null,
          null,
          null,
          null,
          null,
          null,
          null,
          null,
          null,
          null,
          null,
          null,
          null,
          null,
          null,
          null,
          null,
          null,
          null,
          null,
          null,
          null,
          null,
          null,
          null,
          null,
          null,
          null,
          null,
          null,
          null,
          null,
          null,
          null,
          null,
          null,
          null,
          null,
          null,
          null,
          null,
          null,
          null,
          null,
          null,
          null,
          null,
          null,
          null,
          null,
          null,
          null,
          null,
          null,
          null,
          null,
          null,
          null,
          null,
          null,
          null,
          null,
          null,
          null,
          null,
          null,
          null,
          null,
          null,
          null,
          null,
          null,
          null,
          null,
          null,
          null,
          null,
          null,
          null,
          null,
          null,
          null,
          null,
          null,
          null,
          null,
          null,
          null,
          null,
          null,
          null,
          null,
          null,
          null,
          7830.7586890625,
          8232.6795875,
          null,
          null,
          null,
          null,
          null,
          null,
          null,
          null,
          null,
          null,
          null,
          null,
          null,
          null,
          null,
          null,
          null,
          null,
          null,
          null,
          null,
          null,
          null,
          7479.984275,
          null,
          null,
          null,
          null,
          null,
          null,
          null,
          null,
          null,
          null,
          null,
          null,
          null,
          null,
          null,
          null,
          null,
          null,
          null,
          null,
          null,
          null,
          null,
          null,
          null,
          null,
          null,
          null,
          null,
          null,
          null,
          null,
          null,
          null,
          null,
          null,
          null,
          null,
          null,
          null,
          null,
          null,
          null,
          null,
          null,
          null,
          null,
          null,
          null,
          null,
          null,
          null
         ],
         "yaxis": "y"
        },
        {
         "line": {
          "color": "brown",
          "width": 2
         },
         "name": "RSI",
         "type": "scatter",
         "x": [
          0,
          1,
          2,
          3,
          4,
          5,
          6,
          7,
          8,
          9,
          10,
          11,
          12,
          13,
          14,
          15,
          16,
          17,
          18,
          19,
          20,
          21,
          22,
          23,
          24,
          25,
          26,
          27,
          28,
          29,
          30,
          31,
          32,
          33,
          34,
          35,
          36,
          37,
          38,
          39,
          40,
          41,
          42,
          43,
          44,
          45,
          46,
          47,
          48,
          49,
          50,
          51,
          52,
          53,
          54,
          55,
          56,
          57,
          58,
          59,
          60,
          61,
          62,
          63,
          64,
          65,
          66,
          67,
          68,
          69,
          70,
          71,
          72,
          73,
          74,
          75,
          76,
          77,
          78,
          79,
          80,
          81,
          82,
          83,
          84,
          85,
          86,
          87,
          88,
          89,
          90,
          91,
          92,
          93,
          94,
          95,
          96,
          97,
          98,
          99,
          100,
          101,
          102,
          103,
          104,
          105,
          106,
          107,
          108,
          109,
          110,
          111,
          112,
          113,
          114,
          115,
          116,
          117,
          118,
          119,
          120,
          121,
          122,
          123,
          124,
          125,
          126,
          127,
          128,
          129,
          130,
          131,
          132,
          133,
          134,
          135,
          136,
          137,
          138,
          139,
          140,
          141,
          142,
          143,
          144,
          145,
          146,
          147,
          148,
          149,
          150,
          151,
          152,
          153,
          154,
          155,
          156,
          157,
          158,
          159,
          160,
          161,
          162,
          163,
          164,
          165,
          166,
          167,
          168,
          169,
          170,
          171,
          172,
          173,
          174,
          175,
          176,
          177,
          178,
          179,
          180,
          181,
          182,
          183,
          184,
          185,
          186,
          187,
          188,
          189,
          190,
          191,
          192,
          193,
          194,
          195,
          196,
          197,
          198,
          199,
          200,
          201,
          202,
          203,
          204,
          205,
          206,
          207,
          208,
          209,
          210,
          211,
          212,
          213,
          214,
          215,
          216,
          217,
          218,
          219,
          220,
          221,
          222,
          223,
          224,
          225,
          226,
          227,
          228,
          229,
          230,
          231,
          232,
          233,
          234,
          235,
          236,
          237,
          238,
          239,
          240,
          241,
          242,
          243,
          244,
          245,
          246,
          247,
          248,
          249,
          250,
          251,
          252,
          253,
          254,
          255,
          256,
          257,
          258,
          259,
          260,
          261,
          262,
          263,
          264,
          265,
          266,
          267,
          268,
          269,
          270,
          271,
          272,
          273,
          274,
          275,
          276,
          277,
          278,
          279,
          280,
          281,
          282,
          283,
          284,
          285,
          286,
          287,
          288,
          289,
          290,
          291,
          292,
          293,
          294,
          295,
          296,
          297,
          298,
          299,
          300,
          301,
          302,
          303,
          304,
          305,
          306,
          307,
          308,
          309,
          310,
          311,
          312,
          313,
          314,
          315,
          316,
          317,
          318,
          319,
          320,
          321,
          322,
          323,
          324,
          325,
          326,
          327,
          328,
          329,
          330,
          331,
          332,
          333,
          334,
          335,
          336,
          337,
          338,
          339,
          340,
          341,
          342,
          343,
          344,
          345,
          346,
          347,
          348,
          349
         ],
         "xaxis": "x2",
         "y": [
          null,
          null,
          null,
          null,
          null,
          null,
          null,
          null,
          null,
          null,
          null,
          null,
          null,
          null,
          41.557991096795334,
          42.748020649372656,
          43.9382660932113,
          43.089541909341975,
          46.86200255503924,
          41.51706271662655,
          40.54178912357829,
          42.21223442147915,
          41.35939875228702,
          42.373989481450636,
          42.318911468421646,
          42.516091324292034,
          41.46827707694928,
          35.659324253433624,
          34.63145176686546,
          37.91614746325808,
          36.44526318601643,
          39.14553340999607,
          42.05725275417834,
          38.62836982836842,
          38.34161438298451,
          39.06375360055183,
          35.7699618660689,
          34.90826576667453,
          56.16957702211647,
          56.42323078006434,
          57.55848412767469,
          54.21299836969193,
          54.560235959563805,
          52.74695678448995,
          51.44359744659387,
          51.77560966502905,
          52.5733319700581,
          56.38581174142458,
          70.43853073409224,
          71.71196925238795,
          73.75752876865138,
          69.09366538604019,
          71.29260583854285,
          76.16043967999612,
          52.7915613351017,
          55.95848876938242,
          54.41692559683763,
          54.228978252664284,
          54.42040437835294,
          54.68240932648837,
          54.9631238386905,
          53.68523735184619,
          47.747682028142506,
          55.99989240049249,
          56.41598396304951,
          56.85388288528744,
          56.021787004537885,
          59.82509303282294,
          58.79358403378935,
          54.76771444721139,
          55.04856418531795,
          54.821009553608,
          56.23118761035476,
          59.078747637318784,
          64.97581204711767,
          62.385241094726176,
          62.87894967560382,
          65.47280528403878,
          66.5330964368715,
          59.50656810158888,
          58.889356605644835,
          59.881023772118645,
          58.14138846640889,
          51.20908753187982,
          53.43589537953256,
          62.07334896852233,
          59.963975181045846,
          62.217317783640894,
          62.8547115766807,
          62.68210473216131,
          66.80748164017221,
          87.36913938645434,
          88.37044615758717,
          84.48152229271565,
          85.9873640525836,
          86.27866871336408,
          87.90625454465678,
          88.83790777850052,
          82.45368090348705,
          84.18009649449479,
          68.41582084571256,
          69.01770434679342,
          69.1955478222767,
          71.00478917239342,
          65.17419360377518,
          69.66541652417006,
          70.0695816291523,
          71.239860121007,
          71.38065812059907,
          72.29769198011935,
          70.6272081504616,
          73.06198144893378,
          77.21056974168921,
          69.99699206539577,
          56.53726382306089,
          58.84368275244846,
          58.30839707627285,
          58.92158535031926,
          56.90028724042398,
          60.85645041732519,
          62.70967415693046,
          66.11950893102595,
          72.94890393472723,
          74.28353520369694,
          72.12250917156675,
          69.13542497751838,
          71.30011742594432,
          74.81814480610609,
          78.39890561374843,
          81.42480658153406,
          88.46121864553258,
          79.35245023497598,
          85.27300044504568,
          86.1820672713684,
          87.18247104031295,
          77.94725226397601,
          65.35292655467983,
          63.859997457910154,
          72.48720932164511,
          68.32785610265452,
          68.04072911713646,
          62.67773161100525,
          64.8058018736613,
          65.9008236510869,
          66.59216605314934,
          72.34307484397853,
          73.39642197093352,
          71.49798686865473,
          70.12153909383842,
          62.80102025279651,
          65.69395234171103,
          65.46851942203023,
          67.51712760748813,
          56.706279386266424,
          48.806279486084094,
          50.53077558160536,
          50.49604518712501,
          53.923919852769764,
          52.3440751429747,
          47.87043718681091,
          52.9526670112767,
          51.690583092374645,
          55.1489521874697,
          56.4579817570634,
          62.817670354765355,
          64.55837026176957,
          66.38859521643703,
          69.88452041246423,
          64.58758788433889,
          66.76776139376744,
          69.44712983899748,
          74.77787457890267,
          78.43446919552575,
          79.32486750833242,
          80.21627596621516,
          83.9483327761192,
          87.8323955690968,
          63.192785774343875,
          69.37263770005012,
          65.06862277631828,
          55.596902446213434,
          53.866811433438585,
          55.26677323256559,
          61.87734248915056,
          56.13171429299986,
          54.40316846937806,
          55.825564051105445,
          57.334913543300445,
          62.136870890990345,
          63.655318645488556,
          59.904690295501794,
          53.42343385672819,
          56.33935541825481,
          53.0277713249427,
          45.330507262127476,
          49.74815453296334,
          41.69913727565868,
          43.2081976551766,
          49.537778137536556,
          48.721635978755614,
          50.258562874006444,
          49.13136681626035,
          47.38763461293706,
          44.451925658587825,
          43.86415934393517,
          44.74898324354481,
          44.435407946625496,
          41.47683989686739,
          42.26948884519297,
          41.99480250891654,
          43.038581260984074,
          48.4500337096584,
          51.69550908338001,
          52.90055570574063,
          55.93309541913829,
          57.37845357210058,
          64.44591847462068,
          60.22999842726271,
          63.838055396622565,
          64.02326681380896,
          62.56224645660913,
          55.81565336031075,
          57.461560890081195,
          55.60697916078507,
          49.64779744618027,
          41.368700702875906,
          44.44006364325538,
          45.18731953960018,
          43.74836661658206,
          45.25030019007257,
          52.131337227187224,
          50.30657874859384,
          43.58526813469307,
          43.515222263927654,
          47.13747224658084,
          44.39175887150822,
          44.15228338500364,
          47.45904476498868,
          45.16172553443759,
          40.277642297030944,
          37.78452813741188,
          39.243418691949174,
          39.80481694137391,
          42.063788262167456,
          51.187545188585105,
          54.79167065187761,
          54.33822504654159,
          54.02394295230331,
          50.348169606086046,
          52.89459736298178,
          51.5745487974791,
          49.70551358178027,
          46.0064863483628,
          47.21186069201154,
          51.53923144991606,
          50.58388060346519,
          50.53305546467487,
          50.30782044997946,
          48.70376291583734,
          47.88027991057545,
          46.84708271744641,
          48.73461593284719,
          46.522047737158836,
          42.548473153738676,
          44.15604527886151,
          36.71066611554624,
          23.084038581574735,
          22.02344537758663,
          19.381266588335006,
          22.974387680813102,
          22.925275908265196,
          21.72980481555942,
          27.201230819706566,
          28.601303579132797,
          30.060336837868228,
          28.389979278927825,
          27.716170085145826,
          27.020595592336306,
          24.99374512327213,
          33.46553334815901,
          33.20139308674288,
          43.64055025504932,
          43.45586323579528,
          38.449906062686026,
          38.873838243492486,
          38.57320590417766,
          40.289941431400436,
          36.796742863270396,
          33.85031477953408,
          35.82709112403432,
          33.33990455319184,
          33.92020991529809,
          42.16686158572283,
          42.87837590139917,
          38.93336146982011,
          29.11252113357163,
          28.818247988815713,
          55.50618651324096,
          62.987034183683036,
          66.20003076494885,
          60.72958248028928,
          62.65822749403377,
          58.64480804583215,
          58.533088886312754,
          59.36807933084835,
          60.259198738379915,
          58.324059205965625,
          60.99946958781257,
          59.37645146846599,
          59.67899278104074,
          57.34056263644282,
          47.41948803040506,
          47.60309260622901,
          52.563255737058256,
          46.703930112503514,
          47.91921085235394,
          47.76923268801265,
          45.684715314411555,
          41.479339857949896,
          43.015582410830284,
          43.75196489305363,
          38.466753883868726,
          36.6371772808368,
          33.64810657201298,
          28.302625806850685,
          24.525176774548513,
          27.56921721425241,
          23.970368325029394,
          26.85682128470136,
          28.992072057210976,
          null,
          null,
          null,
          null,
          null,
          null,
          null,
          null,
          null,
          null,
          null,
          null,
          null,
          null,
          63.87032889468618,
          64.13500783347364,
          64.76988684874968,
          67.78353712955713,
          78.60590260713545,
          79.56499782741602
         ],
         "yaxis": "y2"
        }
       ],
       "layout": {
        "annotations": [
         {
          "font": {
           "size": 16
          },
          "showarrow": false,
          "text": "BTC-USD",
          "x": 0.5,
          "xanchor": "center",
          "xref": "paper",
          "y": 1,
          "yanchor": "bottom",
          "yref": "paper"
         }
        ],
        "height": 600,
        "template": {
         "data": {
          "bar": [
           {
            "error_x": {
             "color": "#2a3f5f"
            },
            "error_y": {
             "color": "#2a3f5f"
            },
            "marker": {
             "line": {
              "color": "#E5ECF6",
              "width": 0.5
             },
             "pattern": {
              "fillmode": "overlay",
              "size": 10,
              "solidity": 0.2
             }
            },
            "type": "bar"
           }
          ],
          "barpolar": [
           {
            "marker": {
             "line": {
              "color": "#E5ECF6",
              "width": 0.5
             },
             "pattern": {
              "fillmode": "overlay",
              "size": 10,
              "solidity": 0.2
             }
            },
            "type": "barpolar"
           }
          ],
          "carpet": [
           {
            "aaxis": {
             "endlinecolor": "#2a3f5f",
             "gridcolor": "white",
             "linecolor": "white",
             "minorgridcolor": "white",
             "startlinecolor": "#2a3f5f"
            },
            "baxis": {
             "endlinecolor": "#2a3f5f",
             "gridcolor": "white",
             "linecolor": "white",
             "minorgridcolor": "white",
             "startlinecolor": "#2a3f5f"
            },
            "type": "carpet"
           }
          ],
          "choropleth": [
           {
            "colorbar": {
             "outlinewidth": 0,
             "ticks": ""
            },
            "type": "choropleth"
           }
          ],
          "contour": [
           {
            "colorbar": {
             "outlinewidth": 0,
             "ticks": ""
            },
            "colorscale": [
             [
              0,
              "#0d0887"
             ],
             [
              0.1111111111111111,
              "#46039f"
             ],
             [
              0.2222222222222222,
              "#7201a8"
             ],
             [
              0.3333333333333333,
              "#9c179e"
             ],
             [
              0.4444444444444444,
              "#bd3786"
             ],
             [
              0.5555555555555556,
              "#d8576b"
             ],
             [
              0.6666666666666666,
              "#ed7953"
             ],
             [
              0.7777777777777778,
              "#fb9f3a"
             ],
             [
              0.8888888888888888,
              "#fdca26"
             ],
             [
              1,
              "#f0f921"
             ]
            ],
            "type": "contour"
           }
          ],
          "contourcarpet": [
           {
            "colorbar": {
             "outlinewidth": 0,
             "ticks": ""
            },
            "type": "contourcarpet"
           }
          ],
          "heatmap": [
           {
            "colorbar": {
             "outlinewidth": 0,
             "ticks": ""
            },
            "colorscale": [
             [
              0,
              "#0d0887"
             ],
             [
              0.1111111111111111,
              "#46039f"
             ],
             [
              0.2222222222222222,
              "#7201a8"
             ],
             [
              0.3333333333333333,
              "#9c179e"
             ],
             [
              0.4444444444444444,
              "#bd3786"
             ],
             [
              0.5555555555555556,
              "#d8576b"
             ],
             [
              0.6666666666666666,
              "#ed7953"
             ],
             [
              0.7777777777777778,
              "#fb9f3a"
             ],
             [
              0.8888888888888888,
              "#fdca26"
             ],
             [
              1,
              "#f0f921"
             ]
            ],
            "type": "heatmap"
           }
          ],
          "heatmapgl": [
           {
            "colorbar": {
             "outlinewidth": 0,
             "ticks": ""
            },
            "colorscale": [
             [
              0,
              "#0d0887"
             ],
             [
              0.1111111111111111,
              "#46039f"
             ],
             [
              0.2222222222222222,
              "#7201a8"
             ],
             [
              0.3333333333333333,
              "#9c179e"
             ],
             [
              0.4444444444444444,
              "#bd3786"
             ],
             [
              0.5555555555555556,
              "#d8576b"
             ],
             [
              0.6666666666666666,
              "#ed7953"
             ],
             [
              0.7777777777777778,
              "#fb9f3a"
             ],
             [
              0.8888888888888888,
              "#fdca26"
             ],
             [
              1,
              "#f0f921"
             ]
            ],
            "type": "heatmapgl"
           }
          ],
          "histogram": [
           {
            "marker": {
             "pattern": {
              "fillmode": "overlay",
              "size": 10,
              "solidity": 0.2
             }
            },
            "type": "histogram"
           }
          ],
          "histogram2d": [
           {
            "colorbar": {
             "outlinewidth": 0,
             "ticks": ""
            },
            "colorscale": [
             [
              0,
              "#0d0887"
             ],
             [
              0.1111111111111111,
              "#46039f"
             ],
             [
              0.2222222222222222,
              "#7201a8"
             ],
             [
              0.3333333333333333,
              "#9c179e"
             ],
             [
              0.4444444444444444,
              "#bd3786"
             ],
             [
              0.5555555555555556,
              "#d8576b"
             ],
             [
              0.6666666666666666,
              "#ed7953"
             ],
             [
              0.7777777777777778,
              "#fb9f3a"
             ],
             [
              0.8888888888888888,
              "#fdca26"
             ],
             [
              1,
              "#f0f921"
             ]
            ],
            "type": "histogram2d"
           }
          ],
          "histogram2dcontour": [
           {
            "colorbar": {
             "outlinewidth": 0,
             "ticks": ""
            },
            "colorscale": [
             [
              0,
              "#0d0887"
             ],
             [
              0.1111111111111111,
              "#46039f"
             ],
             [
              0.2222222222222222,
              "#7201a8"
             ],
             [
              0.3333333333333333,
              "#9c179e"
             ],
             [
              0.4444444444444444,
              "#bd3786"
             ],
             [
              0.5555555555555556,
              "#d8576b"
             ],
             [
              0.6666666666666666,
              "#ed7953"
             ],
             [
              0.7777777777777778,
              "#fb9f3a"
             ],
             [
              0.8888888888888888,
              "#fdca26"
             ],
             [
              1,
              "#f0f921"
             ]
            ],
            "type": "histogram2dcontour"
           }
          ],
          "mesh3d": [
           {
            "colorbar": {
             "outlinewidth": 0,
             "ticks": ""
            },
            "type": "mesh3d"
           }
          ],
          "parcoords": [
           {
            "line": {
             "colorbar": {
              "outlinewidth": 0,
              "ticks": ""
             }
            },
            "type": "parcoords"
           }
          ],
          "pie": [
           {
            "automargin": true,
            "type": "pie"
           }
          ],
          "scatter": [
           {
            "fillpattern": {
             "fillmode": "overlay",
             "size": 10,
             "solidity": 0.2
            },
            "type": "scatter"
           }
          ],
          "scatter3d": [
           {
            "line": {
             "colorbar": {
              "outlinewidth": 0,
              "ticks": ""
             }
            },
            "marker": {
             "colorbar": {
              "outlinewidth": 0,
              "ticks": ""
             }
            },
            "type": "scatter3d"
           }
          ],
          "scattercarpet": [
           {
            "marker": {
             "colorbar": {
              "outlinewidth": 0,
              "ticks": ""
             }
            },
            "type": "scattercarpet"
           }
          ],
          "scattergeo": [
           {
            "marker": {
             "colorbar": {
              "outlinewidth": 0,
              "ticks": ""
             }
            },
            "type": "scattergeo"
           }
          ],
          "scattergl": [
           {
            "marker": {
             "colorbar": {
              "outlinewidth": 0,
              "ticks": ""
             }
            },
            "type": "scattergl"
           }
          ],
          "scattermapbox": [
           {
            "marker": {
             "colorbar": {
              "outlinewidth": 0,
              "ticks": ""
             }
            },
            "type": "scattermapbox"
           }
          ],
          "scatterpolar": [
           {
            "marker": {
             "colorbar": {
              "outlinewidth": 0,
              "ticks": ""
             }
            },
            "type": "scatterpolar"
           }
          ],
          "scatterpolargl": [
           {
            "marker": {
             "colorbar": {
              "outlinewidth": 0,
              "ticks": ""
             }
            },
            "type": "scatterpolargl"
           }
          ],
          "scatterternary": [
           {
            "marker": {
             "colorbar": {
              "outlinewidth": 0,
              "ticks": ""
             }
            },
            "type": "scatterternary"
           }
          ],
          "surface": [
           {
            "colorbar": {
             "outlinewidth": 0,
             "ticks": ""
            },
            "colorscale": [
             [
              0,
              "#0d0887"
             ],
             [
              0.1111111111111111,
              "#46039f"
             ],
             [
              0.2222222222222222,
              "#7201a8"
             ],
             [
              0.3333333333333333,
              "#9c179e"
             ],
             [
              0.4444444444444444,
              "#bd3786"
             ],
             [
              0.5555555555555556,
              "#d8576b"
             ],
             [
              0.6666666666666666,
              "#ed7953"
             ],
             [
              0.7777777777777778,
              "#fb9f3a"
             ],
             [
              0.8888888888888888,
              "#fdca26"
             ],
             [
              1,
              "#f0f921"
             ]
            ],
            "type": "surface"
           }
          ],
          "table": [
           {
            "cells": {
             "fill": {
              "color": "#EBF0F8"
             },
             "line": {
              "color": "white"
             }
            },
            "header": {
             "fill": {
              "color": "#C8D4E3"
             },
             "line": {
              "color": "white"
             }
            },
            "type": "table"
           }
          ]
         },
         "layout": {
          "annotationdefaults": {
           "arrowcolor": "#2a3f5f",
           "arrowhead": 0,
           "arrowwidth": 1
          },
          "autotypenumbers": "strict",
          "coloraxis": {
           "colorbar": {
            "outlinewidth": 0,
            "ticks": ""
           }
          },
          "colorscale": {
           "diverging": [
            [
             0,
             "#8e0152"
            ],
            [
             0.1,
             "#c51b7d"
            ],
            [
             0.2,
             "#de77ae"
            ],
            [
             0.3,
             "#f1b6da"
            ],
            [
             0.4,
             "#fde0ef"
            ],
            [
             0.5,
             "#f7f7f7"
            ],
            [
             0.6,
             "#e6f5d0"
            ],
            [
             0.7,
             "#b8e186"
            ],
            [
             0.8,
             "#7fbc41"
            ],
            [
             0.9,
             "#4d9221"
            ],
            [
             1,
             "#276419"
            ]
           ],
           "sequential": [
            [
             0,
             "#0d0887"
            ],
            [
             0.1111111111111111,
             "#46039f"
            ],
            [
             0.2222222222222222,
             "#7201a8"
            ],
            [
             0.3333333333333333,
             "#9c179e"
            ],
            [
             0.4444444444444444,
             "#bd3786"
            ],
            [
             0.5555555555555556,
             "#d8576b"
            ],
            [
             0.6666666666666666,
             "#ed7953"
            ],
            [
             0.7777777777777778,
             "#fb9f3a"
            ],
            [
             0.8888888888888888,
             "#fdca26"
            ],
            [
             1,
             "#f0f921"
            ]
           ],
           "sequentialminus": [
            [
             0,
             "#0d0887"
            ],
            [
             0.1111111111111111,
             "#46039f"
            ],
            [
             0.2222222222222222,
             "#7201a8"
            ],
            [
             0.3333333333333333,
             "#9c179e"
            ],
            [
             0.4444444444444444,
             "#bd3786"
            ],
            [
             0.5555555555555556,
             "#d8576b"
            ],
            [
             0.6666666666666666,
             "#ed7953"
            ],
            [
             0.7777777777777778,
             "#fb9f3a"
            ],
            [
             0.8888888888888888,
             "#fdca26"
            ],
            [
             1,
             "#f0f921"
            ]
           ]
          },
          "colorway": [
           "#636efa",
           "#EF553B",
           "#00cc96",
           "#ab63fa",
           "#FFA15A",
           "#19d3f3",
           "#FF6692",
           "#B6E880",
           "#FF97FF",
           "#FECB52"
          ],
          "font": {
           "color": "#2a3f5f"
          },
          "geo": {
           "bgcolor": "white",
           "lakecolor": "white",
           "landcolor": "#E5ECF6",
           "showlakes": true,
           "showland": true,
           "subunitcolor": "white"
          },
          "hoverlabel": {
           "align": "left"
          },
          "hovermode": "closest",
          "mapbox": {
           "style": "light"
          },
          "paper_bgcolor": "white",
          "plot_bgcolor": "#E5ECF6",
          "polar": {
           "angularaxis": {
            "gridcolor": "white",
            "linecolor": "white",
            "ticks": ""
           },
           "bgcolor": "#E5ECF6",
           "radialaxis": {
            "gridcolor": "white",
            "linecolor": "white",
            "ticks": ""
           }
          },
          "scene": {
           "xaxis": {
            "backgroundcolor": "#E5ECF6",
            "gridcolor": "white",
            "gridwidth": 2,
            "linecolor": "white",
            "showbackground": true,
            "ticks": "",
            "zerolinecolor": "white"
           },
           "yaxis": {
            "backgroundcolor": "#E5ECF6",
            "gridcolor": "white",
            "gridwidth": 2,
            "linecolor": "white",
            "showbackground": true,
            "ticks": "",
            "zerolinecolor": "white"
           },
           "zaxis": {
            "backgroundcolor": "#E5ECF6",
            "gridcolor": "white",
            "gridwidth": 2,
            "linecolor": "white",
            "showbackground": true,
            "ticks": "",
            "zerolinecolor": "white"
           }
          },
          "shapedefaults": {
           "line": {
            "color": "#2a3f5f"
           }
          },
          "ternary": {
           "aaxis": {
            "gridcolor": "white",
            "linecolor": "white",
            "ticks": ""
           },
           "baxis": {
            "gridcolor": "white",
            "linecolor": "white",
            "ticks": ""
           },
           "bgcolor": "#E5ECF6",
           "caxis": {
            "gridcolor": "white",
            "linecolor": "white",
            "ticks": ""
           }
          },
          "title": {
           "x": 0.05
          },
          "xaxis": {
           "automargin": true,
           "gridcolor": "white",
           "linecolor": "white",
           "ticks": "",
           "title": {
            "standoff": 15
           },
           "zerolinecolor": "white",
           "zerolinewidth": 2
          },
          "yaxis": {
           "automargin": true,
           "gridcolor": "white",
           "linecolor": "white",
           "ticks": "",
           "title": {
            "standoff": 15
           },
           "zerolinecolor": "white",
           "zerolinewidth": 2
          }
         }
        },
        "width": 800,
        "xaxis": {
         "anchor": "y",
         "domain": [
          0,
          1
         ]
        },
        "xaxis2": {
         "anchor": "y2",
         "domain": [
          0,
          1
         ]
        },
        "yaxis": {
         "anchor": "x",
         "domain": [
          0.575,
          1
         ]
        },
        "yaxis2": {
         "anchor": "x2",
         "domain": [
          0,
          0.425
         ]
        }
       }
      }
     },
     "metadata": {},
     "output_type": "display_data"
    }
   ],
   "source": [
    "st=0\n",
    "for name, df in report_dict.items():\n",
    "    dfpl = df[st:st+350]\n",
    "\n",
    "    # Create a plot with 2 rows\n",
    "    fig = make_subplots(rows=2, cols=1, column_titles=[name])\n",
    "\n",
    "    # Add candlestick plot on the first row\n",
    "    fig.add_trace(go.Candlestick(x=dfpl.index,\n",
    "                                open=dfpl['Open'],\n",
    "                                high=dfpl['High'],\n",
    "                                low=dfpl['Low'],\n",
    "                                close=dfpl['Close']),\n",
    "                row=1, col=1)\n",
    "\n",
    "    # Add Bollinger Bands, EMA lines on the same subplot\n",
    "    fig.add_trace(go.Scatter(x=dfpl.index, y=dfpl['bb_low'],\n",
    "                            line=dict(color='green', width=1),\n",
    "                            name=\"BB_Low\"),\n",
    "                row=1, col=1)\n",
    "    \n",
    "    fig.add_trace(go.Scatter(x=dfpl.index, y=dfpl['bb_mid'],\n",
    "                            line=dict(color='yellow', width=1),\n",
    "                            name=\"BB_MID\"),\n",
    "                row=1, col=1)\n",
    "\n",
    "    fig.add_trace(go.Scatter(x=dfpl.index, y=dfpl['bb_up'],\n",
    "                            line=dict(color='green', width=1),\n",
    "                            name=\"BB_UPPER\"),\n",
    "                row=1, col=1)\n",
    "\n",
    "    # Add markers for trade entry points on the same subplot\n",
    "    fig.add_trace(go.Scatter(x=dfpl.index, y=dfpl['pointpos'], mode=\"markers\",\n",
    "                            marker=dict(size=8, color=\"MediumPurple\"),\n",
    "                            name=\"entry\"),\n",
    "                row=1, col=1)\n",
    "\n",
    "    # Add markers for trade entry points on the same subplot\n",
    "    fig.add_trace(go.Scatter(x=dfpl.index, y=dfpl['rsi'], \n",
    "                            line=dict(color='brown', width=2),\n",
    "                            name=\"RSI\"),\n",
    "                row=2, col=1)\n",
    "\n",
    "    fig.update_layout(width=800, height=600, sliders=[])\n",
    "    fig.show()\n"
   ]
  }
 ],
 "metadata": {
  "kernelspec": {
   "display_name": "otus",
   "language": "python",
   "name": "python3"
  },
  "language_info": {
   "codemirror_mode": {
    "name": "ipython",
    "version": 3
   },
   "file_extension": ".py",
   "mimetype": "text/x-python",
   "name": "python",
   "nbconvert_exporter": "python",
   "pygments_lexer": "ipython3",
   "version": "3.11.10"
  }
 },
 "nbformat": 4,
 "nbformat_minor": 2
}
