{
 "cells": [
  {
   "cell_type": "code",
   "execution_count": 3,
   "metadata": {},
   "outputs": [],
   "source": [
    "import pandas as pd"
   ]
  },
  {
   "cell_type": "code",
   "execution_count": null,
   "metadata": {},
   "outputs": [],
   "source": [
    "def loading(path: str, name: str) -> pd.DataFrame:\n",
    "    \"\"\"\n",
    "    this function loading crypto index and keep only closed values\n",
    "    args:\n",
    "        - path: path to file\n",
    "        - name: name of index\n",
    "    return:\n",
    "        - pandas DataFrame with columns Date and index\n",
    "    \"\"\"\n",
    "\n",
    "    renaming_dict = {\n",
    "        'Date': 'date', 'Close': name, 'Volume': name + '_vol'\n",
    "    }\n",
    "\n",
    "    df = pd.read_csv(path, parse_dates=['Date']).drop(columns=['Adj Close'])\n",
    "\n",
    "    # df['Date'] = df.Date.dt.tz_localize(None) # remove timezone\n",
    "\n",
    "    df = df.rename(columns=renaming_dict)\n",
    "    df = df[renaming_dict.values()]\n",
    "    \n",
    "    df[name+'_chg'] = df[name].pct_change().fillna(0).multiply(100).round(2)\n",
    "    df[name+'_vol_chg'] = df[name+'_vol'].pct_change().fillna(0).multiply(100).round(2)\n",
    "    for col in df.columns[1:]:\n",
    "        try:\n",
    "            df[col] = df[col].str.replace(',', '', regex=False)\n",
    "            df[col] = df[col].astype('double')\n",
    "        except AttributeError:\n",
    "            continue\n",
    "\n",
    "    return df"
   ]
  },
  {
   "cell_type": "code",
   "execution_count": null,
   "metadata": {},
   "outputs": [],
   "source": [
    "def loading_v2(path: str, name: str) -> pd.DataFrame:\n",
    "    renaming_dict = {\n",
    "        'Datetime': 'date', 'Close': name, 'Volume': name + '_vol'\n",
    "    }\n",
    "\n",
    "    df = pd.read_csv(path, parse_dates=['Datetime']).drop(columns=['Adj Close'])\n",
    "\n",
    "    df['Datetime'] = df.Datetime.dt.tz_localize(None) # remove timezone\n",
    "\n",
    "\n",
    "    df = df.rename(columns=renaming_dict)\n",
    "    df = df[renaming_dict.values()]\n",
    "    \n",
    "    df[name+'_chg'] = df[name].pct_change().fillna(0).multiply(100).round(2)\n",
    "    df[name+'_vol_chg'] = df[name+'_vol'].pct_change().fillna(0).multiply(100).round(2)\n",
    "    for col in df.columns[1:]:\n",
    "        try:\n",
    "            df[col] = df[col].str.replace(',', '', regex=False)\n",
    "            df[col] = df[col].astype('double')\n",
    "        except AttributeError:\n",
    "            continue\n",
    "\n",
    "    return df"
   ]
  },
  {
   "cell_type": "code",
   "execution_count": null,
   "metadata": {},
   "outputs": [],
   "source": [
    "def loading_v3(path: str) -> pd.DataFrame:\n",
    "    renaming_dict = {\n",
    "        'Adj Close': 'Close'\n",
    "    }\n",
    "\n",
    "    df = pd.read_csv(path, parse_dates=['Date']).drop(columns=['Close'])\n",
    "    df = df.rename(columns=renaming_dict)\n",
    "\n",
    "\n",
    "    df['chg'] = df['Close'].pct_change().fillna(0).multiply(100).round(2)\n",
    "    df['vol_chg'] = df['Volume'].pct_change().fillna(0).multiply(100).round(2)\n",
    "\n",
    "    for col in df.columns[1:]:\n",
    "        try:\n",
    "            df[col] = df[col].str.replace(',', '', regex=False)\n",
    "            df[col] = df[col].astype('double')\n",
    "        except AttributeError:\n",
    "            continue\n",
    "\n",
    "    return df"
   ]
  },
  {
   "cell_type": "code",
   "execution_count": null,
   "metadata": {},
   "outputs": [],
   "source": [
    "def get_data(dir, filename):\n",
    "    try:\n",
    "        f = os.path.join(dir, filename+'.csv')\n",
    "        if os.path.isfile(f):\n",
    "            return loading_v3(f)\n",
    "    except Exception as e:\n",
    "        print(f\"Error loading file {filename}.csv: {e}\")"
   ]
  },
  {
   "cell_type": "code",
   "execution_count": null,
   "metadata": {},
   "outputs": [],
   "source": [
    "# # validate with\n",
    "# # https://www.investing.com/equities/apple-computer-inc-historical-data?utm_source=google&utm_medium=cpc&utm_campaign=16816825626&utm_content=591978799158&utm_term=dsa-1546555491534_&GL_Ad_ID=591978799158&GL_Campaign_ID=16816825626&ISP=1&gad_source=1&gclid=CjwKCAiAxea5BhBeEiwAh4t5K3jLQNVzqbbCTLp-guh_jCrvv0cJI19-3Rh-kKb8spcB_GsFwx91ThoCGcIQAvD_BwE\n",
    "# import os\n",
    "# f = os.path.join('crypto_data', 'BTC-USD.csv')\n",
    "# df = loading_v2(f, 'BTC-USD')\n",
    "\n",
    "# df.tail(5)"
   ]
  }
 ],
 "metadata": {
  "kernelspec": {
   "display_name": "otus",
   "language": "python",
   "name": "python3"
  },
  "language_info": {
   "codemirror_mode": {
    "name": "ipython",
    "version": 3
   },
   "file_extension": ".py",
   "mimetype": "text/x-python",
   "name": "python",
   "nbconvert_exporter": "python",
   "pygments_lexer": "ipython3",
   "version": "3.11.10"
  }
 },
 "nbformat": 4,
 "nbformat_minor": 2
}
