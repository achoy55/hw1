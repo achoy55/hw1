{
 "cells": [
  {
   "cell_type": "code",
   "execution_count": 1,
   "metadata": {},
   "outputs": [],
   "source": [
    "import os\n",
    "import pandas as pd\n",
    "import pyarrow as pa\n",
    "import pyarrow.parquet as pq"
   ]
  },
  {
   "cell_type": "code",
   "execution_count": null,
   "metadata": {},
   "outputs": [],
   "source": [
    "def loading(path: str, name: str) -> pd.DataFrame:\n",
    "    \"\"\"\n",
    "    this function loading crypto index and keep only closed values\n",
    "    args:\n",
    "        - path: path to file\n",
    "        - name: name of index\n",
    "    return:\n",
    "        - pandas DataFrame with columns Date and index\n",
    "    \"\"\"\n",
    "\n",
    "    renaming_dict = {\n",
    "        'Date': 'date', 'Close': name, 'Volume': name + '_vol'\n",
    "    }\n",
    "\n",
    "    df = pd.read_csv(path, parse_dates=['Date']).drop(columns=['Adj Close'])\n",
    "\n",
    "    df = df.rename(columns=renaming_dict)\n",
    "    df = df[renaming_dict.values()]\n",
    "    \n",
    "    df[name+'_chg'] = df[name].pct_change().fillna(0).multiply(100).round(2)\n",
    "    df[name+'_vol_chg'] = df[name+'_vol'].pct_change().fillna(0).multiply(100).round(2)\n",
    "    for col in df.columns[1:]:\n",
    "        try:\n",
    "            df[col] = df[col].str.replace(',', '', regex=False)\n",
    "            df[col] = df[col].astype('double')\n",
    "        except AttributeError:\n",
    "            continue\n",
    "\n",
    "    return df"
   ]
  },
  {
   "cell_type": "code",
   "execution_count": null,
   "metadata": {},
   "outputs": [],
   "source": [
    "def loading_v2(path: str, name: str) -> pd.DataFrame:\n",
    "    renaming_dict = {\n",
    "        'Datetime': 'date', 'Close': name, 'Volume': name + '_vol'\n",
    "    }\n",
    "\n",
    "    df = pd.read_csv(path, parse_dates=['Datetime']).drop(columns=['Adj Close'])\n",
    "\n",
    "    df['Datetime'] = df.Datetime.dt.tz_localize(None) # remove timezone\n",
    "\n",
    "\n",
    "    df = df.rename(columns=renaming_dict)\n",
    "    df = df[renaming_dict.values()]\n",
    "    \n",
    "    df[name+'_chg'] = df[name].pct_change().fillna(0).multiply(100).round(2)\n",
    "    df[name+'_vol_chg'] = df[name+'_vol'].pct_change().fillna(0).multiply(100).round(2)\n",
    "    for col in df.columns[1:]:\n",
    "        try:\n",
    "            df[col] = df[col].str.replace(',', '', regex=False)\n",
    "            df[col] = df[col].astype('double')\n",
    "        except AttributeError:\n",
    "            continue\n",
    "\n",
    "    return df"
   ]
  },
  {
   "cell_type": "code",
   "execution_count": null,
   "metadata": {},
   "outputs": [],
   "source": [
    "def loading_v3(path: str) -> pd.DataFrame:\n",
    "    renaming_dict = {\n",
    "        'Adj Close': 'Close'\n",
    "    }\n",
    "\n",
    "    df = pd.read_csv(path, parse_dates=True, keep_date_col=True)\n",
    "    if 'Adj Close' in df.columns:\n",
    "        df.drop(columns=['Close'], inplace=True)\n",
    "        df.rename(columns=renaming_dict, inplace=True)\n",
    "\n",
    "    df['chg'] = df['Close'].pct_change().fillna(0).multiply(100).round(2)\n",
    "    df['vol_chg'] = df['Volume'].pct_change().fillna(0).multiply(100).round(2)\n",
    "    df.dropna(subset=['chg', 'vol_chg'], inplace=True) \n",
    "\n",
    "    for col in df.columns[1:]:\n",
    "        try:\n",
    "            df[col] = df[col].str.replace(',', '', regex=False)\n",
    "            df[col] = df[col].astype('double')\n",
    "        except AttributeError:\n",
    "            continue\n",
    "\n",
    "    return df"
   ]
  },
  {
   "cell_type": "code",
   "execution_count": null,
   "metadata": {},
   "outputs": [],
   "source": [
    "def get_data(dir: str, filename: str, compress=False):\n",
    "    ext='.csv'\n",
    "    if compress:\n",
    "        ext = '.zip'\n",
    "            \n",
    "    try:\n",
    "        f = os.path.join(dir, filename+ext)\n",
    "        if os.path.isfile(f):\n",
    "            return loading_v3(f)\n",
    "    except Exception as e:\n",
    "        print(f\"Error loading file {dir} {filename+ext}: {e}\")\n",
    "        raise\n",
    "    else:\n",
    "        return pd.DataFrame()"
   ]
  },
  {
   "cell_type": "code",
   "execution_count": null,
   "metadata": {},
   "outputs": [],
   "source": [
    "def create_store_folder(store_dir = '_data_store'):\n",
    "    os.makedirs(store_dir, exist_ok=True) \n",
    "\n",
    "def store_to_file(data, filename, store_dir = '_data_store', compress=False):\n",
    "    create_store_folder()\n",
    "\n",
    "    file_path = store_dir+'/'+filename\n",
    "    compression_opts = None\n",
    "    if compress:\n",
    "        compression_opts = dict(method='zip', archive_name=filename+'.csv')\n",
    "        file_path += '.zip'\n",
    "    else:\n",
    "        file_path += '.csv'\n",
    "\n",
    "    data.to_csv(file_path, compression=compression_opts)"
   ]
  },
  {
   "cell_type": "code",
   "execution_count": null,
   "metadata": {},
   "outputs": [],
   "source": [
    "def store_parquet_file(data, filename, store_dir = '_data_store', compress=False):\n",
    "    create_store_folder()\n",
    "    file_path = store_dir+'/'+filename+'.parquet'\n",
    "    table = pa.Table.from_pandas(data)\n",
    "    if compress:\n",
    "        pq.write_table(table, file_path, compression='snappy')\n",
    "    else:\n",
    "        pq.write_table(table, file_path)\n"
   ]
  },
  {
   "cell_type": "code",
   "execution_count": null,
   "metadata": {},
   "outputs": [],
   "source": [
    "def read_parquet_file(filename, store_dir = '_data_store'):\n",
    "    file_path = store_dir+'/'+filename+'.parquet'\n",
    "    table = pq.read_table(file_path)\n",
    "    return table.to_pandas()"
   ]
  },
  {
   "cell_type": "code",
   "execution_count": null,
   "metadata": {},
   "outputs": [],
   "source": [
    "# # validate with\n",
    "# # https://www.investing.com/equities/apple-computer-inc-historical-data?utm_source=google&utm_medium=cpc&utm_campaign=16816825626&utm_content=591978799158&utm_term=dsa-1546555491534_&GL_Ad_ID=591978799158&GL_Campaign_ID=16816825626&ISP=1&gad_source=1&gclid=CjwKCAiAxea5BhBeEiwAh4t5K3jLQNVzqbbCTLp-guh_jCrvv0cJI19-3Rh-kKb8spcB_GsFwx91ThoCGcIQAvD_BwE\n",
    "# import os\n",
    "# f = os.path.join('crypto_data', 'BTC-USD.csv')\n",
    "# df = loading_v2(f, 'BTC-USD')\n",
    "\n",
    "# df.tail(5)"
   ]
  }
 ],
 "metadata": {
  "kernelspec": {
   "display_name": ".cuda2308",
   "language": "python",
   "name": "python3"
  },
  "language_info": {
   "codemirror_mode": {
    "name": "ipython",
    "version": 3
   },
   "file_extension": ".py",
   "mimetype": "text/x-python",
   "name": "python",
   "nbconvert_exporter": "python",
   "pygments_lexer": "ipython3",
   "version": "3.10.16"
  }
 },
 "nbformat": 4,
 "nbformat_minor": 2
}
