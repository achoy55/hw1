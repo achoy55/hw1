{
 "cells": [
  {
   "cell_type": "code",
   "execution_count": null,
   "metadata": {},
   "outputs": [
    {
     "name": "stdout",
     "output_type": "stream",
     "text": [
      "0.2.47\n"
     ]
    }
   ],
   "source": [
    "import yfinance as yf\n",
    "import pandas as pd\n",
    "from datetime import timedelta, datetime\n",
    "import os\n",
    "\n",
    "print(\"yfinance version: {}\".format(yf.__version__))"
   ]
  },
  {
   "cell_type": "code",
   "execution_count": null,
   "metadata": {},
   "outputs": [],
   "source": [
    "delta = timedelta(days=period) # \n",
    "today = datetime.now()"
   ]
  },
  {
   "cell_type": "code",
   "execution_count": null,
   "metadata": {},
   "outputs": [],
   "source": [
    "print(\"Start load crypto data with interval: {}, from: {}\".format(time_interval, today+delta))\n",
    "\n",
    "data = yf.download(tickers, today+delta, interval=time_interval, group_by='ticker')\n",
    "data.index.names = ['Date']\n",
    "data.info()"
   ]
  },
  {
   "cell_type": "code",
   "execution_count": null,
   "metadata": {},
   "outputs": [],
   "source": [
    "data.isna().sum()"
   ]
  },
  {
   "cell_type": "code",
   "execution_count": 24,
   "metadata": {},
   "outputs": [],
   "source": [
    "#Should be ${workspaceFolder} in vscode://settings/jupyter.notebookFileRoot \n",
    "save_location = \"crypto_data\"\n",
    "if not os.path.exists(save_location) :\n",
    "    os.makedirs(save_location)\n",
    "    print(\"Directory '%s' created\" % save_location)"
   ]
  },
  {
   "cell_type": "code",
   "execution_count": 25,
   "metadata": {},
   "outputs": [
    {
     "name": "stdout",
     "output_type": "stream",
     "text": [
      "Download crypto data completed\n"
     ]
    }
   ],
   "source": [
    "for i in tickers:\n",
    "    try:\n",
    "        TEMP = data[i].copy(deep=True)\n",
    "        TEMP = TEMP.dropna()\n",
    "        TEMP.to_csv(save_location+\"/\"+i+\".csv\")\n",
    "    except:\n",
    "        print(\"Unable to load data for {}\".format(i))\n",
    "\n",
    "print(\"Download crypto data completed\")"
   ]
  }
 ],
 "metadata": {
  "kernelspec": {
   "display_name": "otus",
   "language": "python",
   "name": "python3"
  },
  "language_info": {
   "codemirror_mode": {
    "name": "ipython",
    "version": 3
   },
   "file_extension": ".py",
   "mimetype": "text/x-python",
   "name": "python",
   "nbconvert_exporter": "python",
   "pygments_lexer": "ipython3",
   "version": "3.11.10"
  }
 },
 "nbformat": 4,
 "nbformat_minor": 2
}
