{
 "cells": [
  {
   "cell_type": "code",
   "execution_count": null,
   "metadata": {},
   "outputs": [
    {
     "name": "stdout",
     "output_type": "stream",
     "text": [
      "0.2.47\n"
     ]
    }
   ],
   "source": [
    "import yfinance as yf\n",
    "import pandas as pd\n",
    "from datetime import timedelta, datetime\n",
    "import os\n",
    "\n",
    "print(\"yfinance version: {}\".format(yf.__version__))"
   ]
  },
  {
   "cell_type": "code",
   "execution_count": null,
   "metadata": {},
   "outputs": [],
   "source": [
    "crypto_symbols = ['BTC-USD', 'ETH-USD', 'SOL-USD', 'XRP-USD']\n",
    "\n",
    "delta = timedelta(days=period) # \n",
    "today = datetime.now()"
   ]
  },
  {
   "cell_type": "code",
   "execution_count": null,
   "metadata": {},
   "outputs": [
    {
     "ename": "NameError",
     "evalue": "name 'time_interval' is not defined",
     "output_type": "error",
     "traceback": [
      "\u001b[0;31m---------------------------------------------------------------------------\u001b[0m",
      "\u001b[0;31mNameError\u001b[0m                                 Traceback (most recent call last)",
      "Cell \u001b[0;32mIn[1], line 1\u001b[0m\n\u001b[0;32m----> 1\u001b[0m \u001b[38;5;28mprint\u001b[39m(\u001b[38;5;124m\"\u001b[39m\u001b[38;5;124mStart load crypto data with interval: \u001b[39m\u001b[38;5;124m\"\u001b[39m \u001b[38;5;241m+\u001b[39m \u001b[43mtime_interval\u001b[49m \u001b[38;5;241m+\u001b[39m \u001b[38;5;124m\"\u001b[39m\u001b[38;5;124m, period: \u001b[39m\u001b[38;5;124m\"\u001b[39m \u001b[38;5;241m+\u001b[39m {period} )\n\u001b[1;32m      2\u001b[0m data \u001b[38;5;241m=\u001b[39m yf\u001b[38;5;241m.\u001b[39mdownload(crypto_symbols, today\u001b[38;5;241m+\u001b[39mdelta, interval\u001b[38;5;241m=\u001b[39mtime_interval) \u001b[38;5;66;03m# 1h, 1wk\u001b[39;00m\n\u001b[1;32m      3\u001b[0m data\u001b[38;5;241m.\u001b[39mcolumns \u001b[38;5;241m=\u001b[39m pd\u001b[38;5;241m.\u001b[39mMultiIndex\u001b[38;5;241m.\u001b[39mfrom_tuples([i[::\u001b[38;5;241m-\u001b[39m\u001b[38;5;241m1\u001b[39m] \u001b[38;5;28;01mfor\u001b[39;00m i \u001b[38;5;129;01min\u001b[39;00m data\u001b[38;5;241m.\u001b[39mcolumns])\n",
      "\u001b[0;31mNameError\u001b[0m: name 'time_interval' is not defined"
     ]
    }
   ],
   "source": [
    "print(\"Start load crypto data with interval: {}, from: {}\".format(time_interval, today+delta))\n",
    "\n",
    "data = yf.download(crypto_symbols, today+delta, interval=time_interval) # 1h, 1wk\n",
    "data.columns = pd.MultiIndex.from_tuples([i[::-1] for i in data.columns])\n",
    "# data.head\n",
    "data.info()"
   ]
  },
  {
   "cell_type": "code",
   "execution_count": 23,
   "metadata": {},
   "outputs": [
    {
     "data": {
      "text/plain": [
       "BTC-USD  Adj Close    0\n",
       "ETH-USD  Adj Close    1\n",
       "SOL-USD  Adj Close    1\n",
       "XRP-USD  Adj Close    0\n",
       "BTC-USD  Close        0\n",
       "ETH-USD  Close        1\n",
       "SOL-USD  Close        1\n",
       "XRP-USD  Close        0\n",
       "BTC-USD  High         0\n",
       "ETH-USD  High         1\n",
       "SOL-USD  High         1\n",
       "XRP-USD  High         0\n",
       "BTC-USD  Low          0\n",
       "ETH-USD  Low          1\n",
       "SOL-USD  Low          1\n",
       "XRP-USD  Low          0\n",
       "BTC-USD  Open         0\n",
       "ETH-USD  Open         1\n",
       "SOL-USD  Open         1\n",
       "XRP-USD  Open         0\n",
       "BTC-USD  Volume       0\n",
       "ETH-USD  Volume       1\n",
       "SOL-USD  Volume       1\n",
       "XRP-USD  Volume       0\n",
       "dtype: int64"
      ]
     },
     "execution_count": 23,
     "metadata": {},
     "output_type": "execute_result"
    }
   ],
   "source": [
    "data.isna().sum()"
   ]
  },
  {
   "cell_type": "code",
   "execution_count": 24,
   "metadata": {},
   "outputs": [],
   "source": [
    "#Should be ${workspaceFolder} in vscode://settings/jupyter.notebookFileRoot \n",
    "save_location = \"crypto_data\"\n",
    "if not os.path.exists(save_location) :\n",
    "    os.makedirs(save_location)\n",
    "    print(\"Directory '%s' created\" % save_location)"
   ]
  },
  {
   "cell_type": "code",
   "execution_count": 25,
   "metadata": {},
   "outputs": [
    {
     "name": "stdout",
     "output_type": "stream",
     "text": [
      "Download crypto data completed\n"
     ]
    }
   ],
   "source": [
    "for i in crypto_symbols:\n",
    "    try:\n",
    "        TEMP = data[i].copy(deep=True)\n",
    "        TEMP = TEMP.dropna()\n",
    "        TEMP.to_csv(save_location+\"/\"+i+\".csv\")\n",
    "    except:\n",
    "        print(\"Unable to load data for {}\".format(i))\n",
    "\n",
    "print(\"Download crypto data completed\")"
   ]
  }
 ],
 "metadata": {
  "kernelspec": {
   "display_name": "otus",
   "language": "python",
   "name": "python3"
  },
  "language_info": {
   "codemirror_mode": {
    "name": "ipython",
    "version": 3
   },
   "file_extension": ".py",
   "mimetype": "text/x-python",
   "name": "python",
   "nbconvert_exporter": "python",
   "pygments_lexer": "ipython3",
   "version": "3.11.10"
  }
 },
 "nbformat": 4,
 "nbformat_minor": 2
}
