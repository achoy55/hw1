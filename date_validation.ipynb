{
 "cells": [
  {
   "cell_type": "code",
   "execution_count": null,
   "metadata": {},
   "outputs": [],
   "source": [
    "import pandas as pd\n",
    "import numpy as np\n",
    "import matplotlib.pyplot as plt\n",
    "import seaborn\n",
    "# print(plt.style.available)\n",
    "\n",
    "# служебные функции\n",
    "from adtk.data import validate_series\n",
    "from adtk.visualization import plot\n",
    "# Статистические методы детектирования точечных аномалий\n",
    "from adtk.detector import ThresholdAD\n",
    "from adtk.detector import QuantileAD\n",
    "from adtk.detector import InterQuartileRangeAD\n",
    "from adtk.detector import GeneralizedESDTestAD\n",
    "# Статистические методы детектирования групповых аномалий\n",
    "from adtk.detector import PersistAD\n",
    "from adtk.detector import LevelShiftAD\n",
    "from adtk.detector import VolatilityShiftAD\n",
    "# методы на основе декомпозиции временного ряда и авторегрессии\n",
    "from adtk.detector import SeasonalAD\n",
    "from adtk.detector import AutoregressionAD\n",
    "# Методы на основе кластеризации - неконтролируемое обучение\n",
    "from adtk.detector import MinClusterDetector\n",
    "from sklearn.cluster import KMeans\n",
    "# Методы на основе плотности\n",
    "from adtk.detector import OutlierDetector\n",
    "from sklearn.neighbors import LocalOutlierFactor\n",
    "# Методы на основе регрессии - контролируемое обучение\n",
    "from adtk.detector import RegressionAD\n",
    "from sklearn.linear_model import LinearRegression\n",
    "# Методы на основе понижения размерности\n",
    "from adtk.detector import PcaAD\n",
    "# кастомизация\n",
    "from adtk.detector import CustomizedDetectorHD\n"
   ]
  },
  {
   "cell_type": "code",
   "execution_count": null,
   "metadata": {},
   "outputs": [],
   "source": [
    "def detect_ThresholdAD(df, high, low):\n",
    "    s = validate_series(df)\n",
    "    threshold_ad = ThresholdAD(high=high, low=low)\n",
    "    return threshold_ad.detect(s)"
   ]
  },
  {
   "cell_type": "code",
   "execution_count": null,
   "metadata": {},
   "outputs": [],
   "source": [
    "def detect_QuantileAD(df, high, low):\n",
    "    s = validate_series(df)\n",
    "    quantile_ad = QuantileAD(high=high, low=low)\n",
    "    return quantile_ad.fit_detect(s)"
   ]
  },
  {
   "cell_type": "code",
   "execution_count": null,
   "metadata": {},
   "outputs": [],
   "source": [
    "def detect_InterQuartileRangeAD(df, c):\n",
    "    s = validate_series(df)\n",
    "    iqr_ad = InterQuartileRangeAD(c=c)\n",
    "    return iqr_ad.fit_detect(s)"
   ]
  },
  {
   "cell_type": "code",
   "execution_count": null,
   "metadata": {},
   "outputs": [],
   "source": [
    "def detect_SeasonalAD(df, c=3.0, side=\"both\"):\n",
    "    s = validate_series(df)\n",
    "    seasonal_ad = SeasonalAD(c=c, side=side)\n",
    "    return seasonal_ad.fit_detect(s)"
   ]
  },
  {
   "cell_type": "code",
   "execution_count": null,
   "metadata": {},
   "outputs": [],
   "source": [
    "def detect_AutoregressionAD(df, n_steps=7*2, step_size=24, c=3.0):\n",
    "    s = validate_series(df)\n",
    "    autoregression_ad = AutoregressionAD(n_steps=n_steps, step_size=step_size, c=c)\n",
    "    return autoregression_ad.fit_detect(s)"
   ]
  },
  {
   "cell_type": "code",
   "execution_count": null,
   "metadata": {},
   "outputs": [],
   "source": [
    "def detect_MinClusterDetector(df, n_clusters=3):\n",
    "    s = validate_series(df)\n",
    "    min_cluster_detector = MinClusterDetector(KMeans(n_clusters=n_clusters))\n",
    "    return min_cluster_detector.fit_detect(s)\n"
   ]
  },
  {
   "cell_type": "code",
   "execution_count": null,
   "metadata": {},
   "outputs": [],
   "source": [
    "def detect_OutlierDetector(df, contamination=0.05):\n",
    "    s = validate_series(df)\n",
    "    outlier_detector = OutlierDetector(LocalOutlierFactor(contamination=contamination))\n",
    "    return outlier_detector.fit_detect(s)"
   ]
  },
  {
   "cell_type": "code",
   "execution_count": null,
   "metadata": {},
   "outputs": [],
   "source": [
    "def detect_RegressionAD(df, target='Close', c=3.0):\n",
    "    s = validate_series(df)\n",
    "    regression_ad = RegressionAD(regressor=LinearRegression(), target=target, c=c)\n",
    "    return regression_ad.fit_detect(s)"
   ]
  },
  {
   "cell_type": "markdown",
   "metadata": {},
   "source": [
    "### Testing"
   ]
  },
  {
   "cell_type": "code",
   "execution_count": null,
   "metadata": {},
   "outputs": [],
   "source": [
    "# import os\n",
    "# import import_ipynb\n",
    "# from file_loader import loading_v3\n",
    "\n",
    "# dir = \"crypto_data\"\n",
    "# symbol = 'BTC-USD'\n",
    "# df = pd.DataFrame()\n",
    "# try:\n",
    "#     f = os.path.join(dir, symbol+'.csv')\n",
    "#     if os.path.isfile(f):\n",
    "#         df = loading_v3(f)\n",
    "#     df = df.dropna()\n",
    "#     df.set_index('Date', inplace=True)\n",
    "# except Exception as e:\n",
    "#     print(f\"Error loading file {symbol}.csv: {e}\")\n",
    "\n",
    "# close_df = df['Close'].copy()\n",
    "# close_df"
   ]
  },
  {
   "cell_type": "code",
   "execution_count": null,
   "metadata": {},
   "outputs": [],
   "source": [
    "\n",
    "# anomalies = detect_InterQuartileRangeAD(close_df, 1.5)\n",
    "# anomalies = detect_ThresholdAD(close_df, 30, 15)\n",
    "# anomalies = detect_InterQuartileRangeAD(close_df, 1.5)\n",
    "# anomalies = detect_AutoregressionAD(close_df, 7*2, 6, 3.0)\n",
    "\n",
    "# anomalies = detect_SeasonalAD(df['Volume'], 3.0, 'both')\n",
    "# plot(df['Volume'], anomaly=anomalies, ts_markersize=1, anomaly_color='red', anomaly_tag=\"marker\", anomaly_markersize=2);\n",
    "\n",
    "# anomalies = detect_MinClusterDetector(df, 3) # must be pandas Dataframe\n",
    "# anomalies = detect_OutlierDetector(df, 0.05) # ERROR\n",
    "# anomalies = detect_RegressionAD(df, 'Volume', 3.0) # ERROR\n",
    "# plot(df, anomaly=anomalies, ts_linewidth=1, ts_markersize=3, anomaly_color='red', anomaly_alpha=0.3, curve_group='all');\n",
    "\n",
    "# print(anomalies.value_counts())\n",
    "# plot(close_df, anomaly=anomalies, ts_linewidth=1, ts_markersize=3, anomaly_markersize=5, ts_color='g', anomaly_color='red', anomaly_tag=\"marker\");\n"
   ]
  }
 ],
 "metadata": {
  "kernelspec": {
   "display_name": "otus",
   "language": "python",
   "name": "python3"
  },
  "language_info": {
   "codemirror_mode": {
    "name": "ipython",
    "version": 3
   },
   "file_extension": ".py",
   "mimetype": "text/x-python",
   "name": "python",
   "nbconvert_exporter": "python",
   "pygments_lexer": "ipython3",
   "version": "3.6.15"
  }
 },
 "nbformat": 4,
 "nbformat_minor": 2
}
