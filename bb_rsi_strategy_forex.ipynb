{
 "cells": [
  {
   "cell_type": "markdown",
   "metadata": {},
   "source": [
    "Стратегия объединяет BBANDS, RSI и определенные свечные паттерны для обнаружения точек разворота и определения оптимальных позиций входа.\n",
    "- RSI - потдверждение тренда\n",
    "- ATR - управления торговлей, используется для подсчета параметров стоп-лосса и тейк-профита (класс BBRSIStrategy [backtest_strategy.ipynb](backtest_strategy.ipynb))\n",
    "- get_best_bb_rsi_strategy, backest_bb_rsi_strategy, apply_bb_rsi_strategy, add_bb_rsi_signal, walk_forward_optimization ([useful_functions.ipynb](useful_functions.ipynb))\n"
   ]
  },
  {
   "cell_type": "code",
   "execution_count": 1,
   "metadata": {},
   "outputs": [],
   "source": [
    "from datetime import datetime\n",
    "from dateutil.relativedelta import relativedelta\n",
    "\n",
    "# period=-(datetime.now() - (datetime.now() - relativedelta(years = 8))).days\n",
    "period=-(datetime.now() - datetime(2016, 1, 1)).days\n",
    "time_interval='1d'\n",
    "tickers = ['EURUSD=X', 'GBPUSD=X', 'USDCHF=X', 'USDJPY=X']\n",
    "forex_tickers = ['EURUSD', 'GBPUSD', 'USDCHF', 'USDJPY']\n",
    "dir = 'forex_data'\n"
   ]
  },
  {
   "cell_type": "code",
   "execution_count": null,
   "metadata": {},
   "outputs": [],
   "source": [
    "%run forex_data_loader.ipynb"
   ]
  },
  {
   "cell_type": "code",
   "execution_count": 2,
   "metadata": {},
   "outputs": [],
   "source": [
    "import pandas as pd\n",
    "import warnings\n",
    "import numpy as np\n",
    "import plotly.graph_objects as go\n",
    "from plotly.subplots import make_subplots\n",
    "import seaborn as sns\n",
    "import matplotlib.pyplot as plt\n",
    "from datetime import datetime, timedelta\n",
    "import import_ipynb\n",
    "\n",
    "from tqdm import tqdm\n",
    "tqdm.pandas()\n",
    "warnings.simplefilter('ignore')"
   ]
  },
  {
   "cell_type": "markdown",
   "metadata": {},
   "source": [
    "### Usefull functions"
   ]
  },
  {
   "cell_type": "code",
   "execution_count": 3,
   "metadata": {},
   "outputs": [],
   "source": [
    "# %run file_loader.ipynb\n",
    "# %run useful_functions.ipynb\n",
    "# %run backtest_strategy.ipynb\n",
    "\n",
    "from file_loader import get_data\n",
    "from useful_functions import get_best_bb_rsi_strategy, walk_forward_optimization_by_index, apply_bb_rsi_ema_strategy, add_pointpos_column, walk_forward_optimization_by_date_range2\n",
    "\n",
    "from backtest_strategy import StopLossStrategy2\n",
    "\n",
    "# log.basicConfig(level=log.INFO)"
   ]
  },
  {
   "cell_type": "markdown",
   "metadata": {},
   "source": [
    "### Walk Forward Optimization\n",
    "### Calculate Bollinger Bands and RSI,ATR and Signal apply\n",
    "\n",
    "#### WFO by index"
   ]
  },
  {
   "cell_type": "code",
   "execution_count": null,
   "metadata": {},
   "outputs": [
    {
     "name": "stdout",
     "output_type": "stream",
     "text": [
      "Start EURUSD backtesting, df: 2338\n",
      "EURUSD wfo iterations: 12\n"
     ]
    },
    {
     "name": "stderr",
     "output_type": "stream",
     "text": [
      "  0%|          | 0/12 [00:00<?, ?it/s]"
     ]
    },
    {
     "name": "stdout",
     "output_type": "stream",
     "text": [
      "EURUSD : train_set: 2016-01-01 00:00:00 - 2017-03-23 00:00:00, test_set: 2017-03-24 00:00:00 - 2017-12-04 00:00:00\n"
     ]
    },
    {
     "name": "stderr",
     "output_type": "stream",
     "text": []
    },
    {
     "name": "stderr",
     "output_type": "stream",
     "text": [
      "100%|██████████| 320/320 [00:03<00:00, 93.84it/s]\n"
     ]
    },
    {
     "data": {
      "application/vnd.jupyter.widget-view+json": {
       "model_id": "2dfc3c494cf34aff97db4c7351e5e42d",
       "version_major": 2,
       "version_minor": 0
      },
      "text/plain": [
       "Backtest.optimize:   0%|          | 0/9 [00:00<?, ?it/s]"
      ]
     },
     "metadata": {},
     "output_type": "display_data"
    },
    {
     "name": "stdout",
     "output_type": "stream",
     "text": [
      "Performance, current: 100.0, best_performance: -inf, strategy_class: <class 'backtest_strategy.StopLossStrategy2'>\n"
     ]
    },
    {
     "name": "stderr",
     "output_type": "stream",
     "text": [
      "100%|██████████| 320/320 [00:03<00:00, 100.16it/s]\n"
     ]
    },
    {
     "data": {
      "application/vnd.jupyter.widget-view+json": {
       "model_id": "3d83f660ca7a419c92d7d9b7e2969e2d",
       "version_major": 2,
       "version_minor": 0
      },
      "text/plain": [
       "Backtest.optimize:   0%|          | 0/9 [00:00<?, ?it/s]"
      ]
     },
     "metadata": {},
     "output_type": "display_data"
    },
    {
     "name": "stdout",
     "output_type": "stream",
     "text": [
      "Performance, current: 100.0, best_performance: 100.0, strategy_class: <class 'backtest_strategy.StopLossStrategy2'>\n"
     ]
    },
    {
     "name": "stderr",
     "output_type": "stream",
     "text": [
      "100%|██████████| 320/320 [00:03<00:00, 104.39it/s]\n"
     ]
    },
    {
     "data": {
      "application/vnd.jupyter.widget-view+json": {
       "model_id": "ffe95fd01a1b4928af03fb85828facb0",
       "version_major": 2,
       "version_minor": 0
      },
      "text/plain": [
       "Backtest.optimize:   0%|          | 0/9 [00:00<?, ?it/s]"
      ]
     },
     "metadata": {},
     "output_type": "display_data"
    },
    {
     "name": "stdout",
     "output_type": "stream",
     "text": [
      "Performance, current: 100.0, best_performance: 100.0, strategy_class: <class 'backtest_strategy.StopLossStrategy2'>\n"
     ]
    },
    {
     "name": "stderr",
     "output_type": "stream",
     "text": [
      "100%|██████████| 320/320 [00:03<00:00, 96.87it/s]\n"
     ]
    },
    {
     "data": {
      "application/vnd.jupyter.widget-view+json": {
       "model_id": "fa80fb4c847548a29885d76641976513",
       "version_major": 2,
       "version_minor": 0
      },
      "text/plain": [
       "Backtest.optimize:   0%|          | 0/9 [00:00<?, ?it/s]"
      ]
     },
     "metadata": {},
     "output_type": "display_data"
    },
    {
     "name": "stdout",
     "output_type": "stream",
     "text": [
      "Performance, current: 100.0, best_performance: 100.0, strategy_class: <class 'backtest_strategy.StopLossStrategy2'>\n"
     ]
    },
    {
     "name": "stderr",
     "output_type": "stream",
     "text": [
      "100%|██████████| 320/320 [00:03<00:00, 100.81it/s]\n"
     ]
    },
    {
     "data": {
      "application/vnd.jupyter.widget-view+json": {
       "model_id": "4796dea73e684508ae9c9cce7ae79ce6",
       "version_major": 2,
       "version_minor": 0
      },
      "text/plain": [
       "Backtest.optimize:   0%|          | 0/9 [00:00<?, ?it/s]"
      ]
     },
     "metadata": {},
     "output_type": "display_data"
    },
    {
     "name": "stdout",
     "output_type": "stream",
     "text": [
      "Performance, current: 100.0, best_performance: 100.0, strategy_class: <class 'backtest_strategy.StopLossStrategy2'>\n"
     ]
    },
    {
     "name": "stderr",
     "output_type": "stream",
     "text": [
      "100%|██████████| 320/320 [00:03<00:00, 100.38it/s]\n"
     ]
    },
    {
     "data": {
      "application/vnd.jupyter.widget-view+json": {
       "model_id": "09c7a5d49ce0442b9a95f93ef1e161cc",
       "version_major": 2,
       "version_minor": 0
      },
      "text/plain": [
       "Backtest.optimize:   0%|          | 0/9 [00:00<?, ?it/s]"
      ]
     },
     "metadata": {},
     "output_type": "display_data"
    },
    {
     "name": "stdout",
     "output_type": "stream",
     "text": [
      "Performance, current: 100.0, best_performance: 100.0, strategy_class: <class 'backtest_strategy.StopLossStrategy2'>\n"
     ]
    },
    {
     "name": "stderr",
     "output_type": "stream",
     "text": [
      "100%|██████████| 320/320 [00:03<00:00, 101.05it/s]\n"
     ]
    },
    {
     "data": {
      "application/vnd.jupyter.widget-view+json": {
       "model_id": "f9a5abba95244be09c9c6ad4d45cfc73",
       "version_major": 2,
       "version_minor": 0
      },
      "text/plain": [
       "Backtest.optimize:   0%|          | 0/9 [00:00<?, ?it/s]"
      ]
     },
     "metadata": {},
     "output_type": "display_data"
    },
    {
     "name": "stdout",
     "output_type": "stream",
     "text": [
      "Performance, current: 100.0, best_performance: 100.0, strategy_class: <class 'backtest_strategy.StopLossStrategy2'>\n"
     ]
    },
    {
     "name": "stderr",
     "output_type": "stream",
     "text": [
      "100%|██████████| 320/320 [00:03<00:00, 103.48it/s]\n"
     ]
    },
    {
     "data": {
      "application/vnd.jupyter.widget-view+json": {
       "model_id": "ed7023f016f34aaf83c69a12ab371fc2",
       "version_major": 2,
       "version_minor": 0
      },
      "text/plain": [
       "Backtest.optimize:   0%|          | 0/9 [00:00<?, ?it/s]"
      ]
     },
     "metadata": {},
     "output_type": "display_data"
    },
    {
     "name": "stdout",
     "output_type": "stream",
     "text": [
      "Performance, current: 100.0, best_performance: 100.0, strategy_class: <class 'backtest_strategy.StopLossStrategy2'>\n"
     ]
    },
    {
     "name": "stderr",
     "output_type": "stream",
     "text": [
      "100%|██████████| 320/320 [00:03<00:00, 104.91it/s]\n"
     ]
    },
    {
     "data": {
      "application/vnd.jupyter.widget-view+json": {
       "model_id": "e94b860318864fdfbc2945177f6e89e0",
       "version_major": 2,
       "version_minor": 0
      },
      "text/plain": [
       "Backtest.optimize:   0%|          | 0/9 [00:00<?, ?it/s]"
      ]
     },
     "metadata": {},
     "output_type": "display_data"
    },
    {
     "name": "stdout",
     "output_type": "stream",
     "text": [
      "Performance, current: 100.0, best_performance: 100.0, strategy_class: <class 'backtest_strategy.StopLossStrategy2'>\n"
     ]
    },
    {
     "name": "stderr",
     "output_type": "stream",
     "text": [
      "100%|██████████| 320/320 [00:03<00:00, 94.73it/s]\n"
     ]
    },
    {
     "data": {
      "application/vnd.jupyter.widget-view+json": {
       "model_id": "db0c814660b3417e96990aa6cadf0ae6",
       "version_major": 2,
       "version_minor": 0
      },
      "text/plain": [
       "Backtest.optimize:   0%|          | 0/9 [00:00<?, ?it/s]"
      ]
     },
     "metadata": {},
     "output_type": "display_data"
    },
    {
     "name": "stdout",
     "output_type": "stream",
     "text": [
      "Performance, current: 100.0, best_performance: 100.0, strategy_class: <class 'backtest_strategy.StopLossStrategy2'>\n"
     ]
    },
    {
     "name": "stderr",
     "output_type": "stream",
     "text": [
      "100%|██████████| 320/320 [00:03<00:00, 95.63it/s]\n"
     ]
    },
    {
     "data": {
      "application/vnd.jupyter.widget-view+json": {
       "model_id": "e016a8e968a84b9d88f1dddefd056590",
       "version_major": 2,
       "version_minor": 0
      },
      "text/plain": [
       "Backtest.optimize:   0%|          | 0/9 [00:00<?, ?it/s]"
      ]
     },
     "metadata": {},
     "output_type": "display_data"
    },
    {
     "name": "stdout",
     "output_type": "stream",
     "text": [
      "Performance, current: 100.0, best_performance: 100.0, strategy_class: <class 'backtest_strategy.StopLossStrategy2'>\n"
     ]
    },
    {
     "name": "stderr",
     "output_type": "stream",
     "text": [
      "100%|██████████| 320/320 [00:03<00:00, 99.10it/s]\n"
     ]
    },
    {
     "data": {
      "application/vnd.jupyter.widget-view+json": {
       "model_id": "117c5f1122e043f18387e64d2ddbfe1e",
       "version_major": 2,
       "version_minor": 0
      },
      "text/plain": [
       "Backtest.optimize:   0%|          | 0/9 [00:00<?, ?it/s]"
      ]
     },
     "metadata": {},
     "output_type": "display_data"
    },
    {
     "name": "stdout",
     "output_type": "stream",
     "text": [
      "Performance, current: 100.0, best_performance: 100.0, strategy_class: <class 'backtest_strategy.StopLossStrategy2'>\n"
     ]
    },
    {
     "name": "stderr",
     "output_type": "stream",
     "text": [
      "100%|██████████| 320/320 [00:03<00:00, 97.42it/s] \n"
     ]
    },
    {
     "data": {
      "application/vnd.jupyter.widget-view+json": {
       "model_id": "646e503b11c44c62903c109f79ea73d0",
       "version_major": 2,
       "version_minor": 0
      },
      "text/plain": [
       "Backtest.optimize:   0%|          | 0/9 [00:00<?, ?it/s]"
      ]
     },
     "metadata": {},
     "output_type": "display_data"
    },
    {
     "name": "stdout",
     "output_type": "stream",
     "text": [
      "Performance, current: 100.0, best_performance: 100.0, strategy_class: <class 'backtest_strategy.StopLossStrategy2'>\n"
     ]
    },
    {
     "name": "stderr",
     "output_type": "stream",
     "text": [
      "100%|██████████| 320/320 [00:03<00:00, 96.11it/s] \n"
     ]
    },
    {
     "data": {
      "application/vnd.jupyter.widget-view+json": {
       "model_id": "7527fefc2bc8476495777198d4228863",
       "version_major": 2,
       "version_minor": 0
      },
      "text/plain": [
       "Backtest.optimize:   0%|          | 0/9 [00:00<?, ?it/s]"
      ]
     },
     "metadata": {},
     "output_type": "display_data"
    },
    {
     "name": "stdout",
     "output_type": "stream",
     "text": [
      "Performance, current: 100.0, best_performance: 100.0, strategy_class: <class 'backtest_strategy.StopLossStrategy2'>\n"
     ]
    },
    {
     "name": "stderr",
     "output_type": "stream",
     "text": [
      "100%|██████████| 320/320 [00:03<00:00, 102.18it/s]\n"
     ]
    },
    {
     "data": {
      "application/vnd.jupyter.widget-view+json": {
       "model_id": "278fb88be7e84536afbb8fd9289bf2c4",
       "version_major": 2,
       "version_minor": 0
      },
      "text/plain": [
       "Backtest.optimize:   0%|          | 0/9 [00:00<?, ?it/s]"
      ]
     },
     "metadata": {},
     "output_type": "display_data"
    },
    {
     "name": "stdout",
     "output_type": "stream",
     "text": [
      "Performance, current: 100.0, best_performance: 100.0, strategy_class: <class 'backtest_strategy.StopLossStrategy2'>\n"
     ]
    },
    {
     "name": "stderr",
     "output_type": "stream",
     "text": [
      "100%|██████████| 320/320 [00:03<00:00, 100.20it/s]\n"
     ]
    },
    {
     "data": {
      "application/vnd.jupyter.widget-view+json": {
       "model_id": "eef91c536ca14c629b53b5b776d5e168",
       "version_major": 2,
       "version_minor": 0
      },
      "text/plain": [
       "Backtest.optimize:   0%|          | 0/9 [00:00<?, ?it/s]"
      ]
     },
     "metadata": {},
     "output_type": "display_data"
    },
    {
     "name": "stdout",
     "output_type": "stream",
     "text": [
      "Performance, current: 100.0, best_performance: 100.0, strategy_class: <class 'backtest_strategy.StopLossStrategy2'>\n"
     ]
    },
    {
     "name": "stderr",
     "output_type": "stream",
     "text": [
      "100%|██████████| 320/320 [00:03<00:00, 97.28it/s]\n"
     ]
    },
    {
     "data": {
      "application/vnd.jupyter.widget-view+json": {
       "model_id": "f233883357c242249ef15ca93f7a6558",
       "version_major": 2,
       "version_minor": 0
      },
      "text/plain": [
       "Backtest.optimize:   0%|          | 0/9 [00:00<?, ?it/s]"
      ]
     },
     "metadata": {},
     "output_type": "display_data"
    },
    {
     "name": "stdout",
     "output_type": "stream",
     "text": [
      "Performance, current: 100.0, best_performance: 100.0, strategy_class: <class 'backtest_strategy.StopLossStrategy2'>\n"
     ]
    },
    {
     "name": "stderr",
     "output_type": "stream",
     "text": [
      "100%|██████████| 320/320 [00:03<00:00, 96.74it/s] \n"
     ]
    },
    {
     "data": {
      "application/vnd.jupyter.widget-view+json": {
       "model_id": "bdf7ce28a5c74dfb945bd3f9e5ee7da4",
       "version_major": 2,
       "version_minor": 0
      },
      "text/plain": [
       "Backtest.optimize:   0%|          | 0/9 [00:00<?, ?it/s]"
      ]
     },
     "metadata": {},
     "output_type": "display_data"
    },
    {
     "name": "stdout",
     "output_type": "stream",
     "text": [
      "Performance, current: 100.0, best_performance: 100.0, strategy_class: <class 'backtest_strategy.StopLossStrategy2'>\n"
     ]
    },
    {
     "name": "stderr",
     "output_type": "stream",
     "text": [
      "100%|██████████| 320/320 [00:03<00:00, 101.66it/s]\n"
     ]
    },
    {
     "data": {
      "application/vnd.jupyter.widget-view+json": {
       "model_id": "ea4e3bc91c6c4f7b9a81cc7b532b65b6",
       "version_major": 2,
       "version_minor": 0
      },
      "text/plain": [
       "Backtest.optimize:   0%|          | 0/9 [00:00<?, ?it/s]"
      ]
     },
     "metadata": {},
     "output_type": "display_data"
    },
    {
     "name": "stdout",
     "output_type": "stream",
     "text": [
      "Performance, current: 100.0, best_performance: 100.0, strategy_class: <class 'backtest_strategy.StopLossStrategy2'>\n"
     ]
    },
    {
     "name": "stderr",
     "output_type": "stream",
     "text": [
      "100%|██████████| 320/320 [00:03<00:00, 100.39it/s]\n"
     ]
    },
    {
     "data": {
      "application/vnd.jupyter.widget-view+json": {
       "model_id": "cb80e158a8a94e39852fc3d4003cc6ca",
       "version_major": 2,
       "version_minor": 0
      },
      "text/plain": [
       "Backtest.optimize:   0%|          | 0/9 [00:00<?, ?it/s]"
      ]
     },
     "metadata": {},
     "output_type": "display_data"
    },
    {
     "name": "stdout",
     "output_type": "stream",
     "text": [
      "Performance, current: 100.0, best_performance: 100.0, strategy_class: <class 'backtest_strategy.StopLossStrategy2'>\n"
     ]
    },
    {
     "name": "stderr",
     "output_type": "stream",
     "text": [
      "100%|██████████| 320/320 [00:02<00:00, 107.27it/s]\n"
     ]
    },
    {
     "data": {
      "application/vnd.jupyter.widget-view+json": {
       "model_id": "f8c9150401a74a03a84e884ffa6d0d50",
       "version_major": 2,
       "version_minor": 0
      },
      "text/plain": [
       "Backtest.optimize:   0%|          | 0/9 [00:00<?, ?it/s]"
      ]
     },
     "metadata": {},
     "output_type": "display_data"
    },
    {
     "name": "stdout",
     "output_type": "stream",
     "text": [
      "Performance, current: 100.0, best_performance: 100.0, strategy_class: <class 'backtest_strategy.StopLossStrategy2'>\n"
     ]
    },
    {
     "name": "stderr",
     "output_type": "stream",
     "text": [
      "100%|██████████| 320/320 [00:04<00:00, 68.44it/s]\n"
     ]
    },
    {
     "data": {
      "application/vnd.jupyter.widget-view+json": {
       "model_id": "cea26b0cc9a34d4182a23e7f8f4fb15b",
       "version_major": 2,
       "version_minor": 0
      },
      "text/plain": [
       "Backtest.optimize:   0%|          | 0/9 [00:00<?, ?it/s]"
      ]
     },
     "metadata": {},
     "output_type": "display_data"
    },
    {
     "name": "stdout",
     "output_type": "stream",
     "text": [
      "Performance, current: 100.0, best_performance: 100.0, strategy_class: <class 'backtest_strategy.StopLossStrategy2'>\n"
     ]
    },
    {
     "name": "stderr",
     "output_type": "stream",
     "text": [
      "100%|██████████| 320/320 [00:03<00:00, 93.34it/s] \n"
     ]
    },
    {
     "data": {
      "application/vnd.jupyter.widget-view+json": {
       "model_id": "25b2672432f4484288af021632da1236",
       "version_major": 2,
       "version_minor": 0
      },
      "text/plain": [
       "Backtest.optimize:   0%|          | 0/9 [00:00<?, ?it/s]"
      ]
     },
     "metadata": {},
     "output_type": "display_data"
    },
    {
     "name": "stdout",
     "output_type": "stream",
     "text": [
      "Performance, current: 100.0, best_performance: 100.0, strategy_class: <class 'backtest_strategy.StopLossStrategy2'>\n"
     ]
    },
    {
     "name": "stderr",
     "output_type": "stream",
     "text": [
      "100%|██████████| 320/320 [00:03<00:00, 97.94it/s] \n"
     ]
    },
    {
     "data": {
      "application/vnd.jupyter.widget-view+json": {
       "model_id": "c58bdae11d434331b18e46d4768b8b5c",
       "version_major": 2,
       "version_minor": 0
      },
      "text/plain": [
       "Backtest.optimize:   0%|          | 0/9 [00:00<?, ?it/s]"
      ]
     },
     "metadata": {},
     "output_type": "display_data"
    },
    {
     "name": "stdout",
     "output_type": "stream",
     "text": [
      "Performance, current: 100.0, best_performance: 100.0, strategy_class: <class 'backtest_strategy.StopLossStrategy2'>\n"
     ]
    },
    {
     "name": "stderr",
     "output_type": "stream",
     "text": [
      "100%|██████████| 320/320 [00:03<00:00, 94.98it/s]\n"
     ]
    },
    {
     "data": {
      "application/vnd.jupyter.widget-view+json": {
       "model_id": "7449e3f45c534748a074d6fe912aec78",
       "version_major": 2,
       "version_minor": 0
      },
      "text/plain": [
       "Backtest.optimize:   0%|          | 0/9 [00:00<?, ?it/s]"
      ]
     },
     "metadata": {},
     "output_type": "display_data"
    },
    {
     "name": "stdout",
     "output_type": "stream",
     "text": [
      "Performance, current: 100.0, best_performance: 100.0, strategy_class: <class 'backtest_strategy.StopLossStrategy2'>\n"
     ]
    },
    {
     "name": "stderr",
     "output_type": "stream",
     "text": [
      "100%|██████████| 320/320 [00:03<00:00, 89.62it/s]\n"
     ]
    },
    {
     "data": {
      "application/vnd.jupyter.widget-view+json": {
       "model_id": "248c816485fe42d8a95de7eb3a522368",
       "version_major": 2,
       "version_minor": 0
      },
      "text/plain": [
       "Backtest.optimize:   0%|          | 0/9 [00:00<?, ?it/s]"
      ]
     },
     "metadata": {},
     "output_type": "display_data"
    },
    {
     "name": "stdout",
     "output_type": "stream",
     "text": [
      "Performance, current: 100.0, best_performance: 100.0, strategy_class: <class 'backtest_strategy.StopLossStrategy2'>\n"
     ]
    },
    {
     "name": "stderr",
     "output_type": "stream",
     "text": [
      "100%|██████████| 320/320 [00:03<00:00, 94.93it/s]\n"
     ]
    },
    {
     "data": {
      "application/vnd.jupyter.widget-view+json": {
       "model_id": "c12b1c252cc040cfb38fb656c18fd8ba",
       "version_major": 2,
       "version_minor": 0
      },
      "text/plain": [
       "Backtest.optimize:   0%|          | 0/9 [00:00<?, ?it/s]"
      ]
     },
     "metadata": {},
     "output_type": "display_data"
    },
    {
     "name": "stdout",
     "output_type": "stream",
     "text": [
      "Performance, current: 100.0, best_performance: 100.0, strategy_class: <class 'backtest_strategy.StopLossStrategy2'>\n"
     ]
    },
    {
     "name": "stderr",
     "output_type": "stream",
     "text": [
      "100%|██████████| 320/320 [00:03<00:00, 84.70it/s]\n"
     ]
    },
    {
     "data": {
      "application/vnd.jupyter.widget-view+json": {
       "model_id": "cde0ebc0e9214f0884949a8c966d9e05",
       "version_major": 2,
       "version_minor": 0
      },
      "text/plain": [
       "Backtest.optimize:   0%|          | 0/9 [00:00<?, ?it/s]"
      ]
     },
     "metadata": {},
     "output_type": "display_data"
    },
    {
     "name": "stdout",
     "output_type": "stream",
     "text": [
      "Performance, current: 100.0, best_performance: 100.0, strategy_class: <class 'backtest_strategy.StopLossStrategy2'>\n"
     ]
    },
    {
     "name": "stderr",
     "output_type": "stream",
     "text": [
      "100%|██████████| 320/320 [00:03<00:00, 90.09it/s]\n"
     ]
    },
    {
     "data": {
      "application/vnd.jupyter.widget-view+json": {
       "model_id": "e2517b81e6b2474ab81f4ba1a2e300c1",
       "version_major": 2,
       "version_minor": 0
      },
      "text/plain": [
       "Backtest.optimize:   0%|          | 0/9 [00:00<?, ?it/s]"
      ]
     },
     "metadata": {},
     "output_type": "display_data"
    },
    {
     "name": "stdout",
     "output_type": "stream",
     "text": [
      "Performance, current: 100.0, best_performance: 100.0, strategy_class: <class 'backtest_strategy.StopLossStrategy2'>\n"
     ]
    },
    {
     "name": "stderr",
     "output_type": "stream",
     "text": [
      "100%|██████████| 320/320 [00:03<00:00, 101.93it/s]\n"
     ]
    },
    {
     "data": {
      "application/vnd.jupyter.widget-view+json": {
       "model_id": "dd286ce7b1654325a3e59cba63325be5",
       "version_major": 2,
       "version_minor": 0
      },
      "text/plain": [
       "Backtest.optimize:   0%|          | 0/9 [00:00<?, ?it/s]"
      ]
     },
     "metadata": {},
     "output_type": "display_data"
    },
    {
     "name": "stdout",
     "output_type": "stream",
     "text": [
      "Performance, current: 100.0, best_performance: 100.0, strategy_class: <class 'backtest_strategy.StopLossStrategy2'>\n"
     ]
    },
    {
     "name": "stderr",
     "output_type": "stream",
     "text": [
      "100%|██████████| 320/320 [00:03<00:00, 91.61it/s]\n"
     ]
    },
    {
     "data": {
      "application/vnd.jupyter.widget-view+json": {
       "model_id": "98257c65af6c4fb7a25e6d8fb1f8866b",
       "version_major": 2,
       "version_minor": 0
      },
      "text/plain": [
       "Backtest.optimize:   0%|          | 0/9 [00:00<?, ?it/s]"
      ]
     },
     "metadata": {},
     "output_type": "display_data"
    },
    {
     "name": "stdout",
     "output_type": "stream",
     "text": [
      "Performance, current: 100.0, best_performance: 100.0, strategy_class: <class 'backtest_strategy.StopLossStrategy2'>\n"
     ]
    },
    {
     "name": "stderr",
     "output_type": "stream",
     "text": [
      "100%|██████████| 320/320 [00:03<00:00, 87.15it/s]\n"
     ]
    },
    {
     "data": {
      "application/vnd.jupyter.widget-view+json": {
       "model_id": "7b635676ac4d4f87b211e53a8449c462",
       "version_major": 2,
       "version_minor": 0
      },
      "text/plain": [
       "Backtest.optimize:   0%|          | 0/9 [00:00<?, ?it/s]"
      ]
     },
     "metadata": {},
     "output_type": "display_data"
    },
    {
     "name": "stdout",
     "output_type": "stream",
     "text": [
      "Performance, current: 100.0, best_performance: 100.0, strategy_class: <class 'backtest_strategy.StopLossStrategy2'>\n"
     ]
    },
    {
     "name": "stderr",
     "output_type": "stream",
     "text": [
      "100%|██████████| 320/320 [00:03<00:00, 86.28it/s]\n"
     ]
    },
    {
     "data": {
      "application/vnd.jupyter.widget-view+json": {
       "model_id": "e4462ebc81a84222bed782620fe216ad",
       "version_major": 2,
       "version_minor": 0
      },
      "text/plain": [
       "Backtest.optimize:   0%|          | 0/9 [00:00<?, ?it/s]"
      ]
     },
     "metadata": {},
     "output_type": "display_data"
    },
    {
     "name": "stdout",
     "output_type": "stream",
     "text": [
      "Performance, current: 100.0, best_performance: 100.0, strategy_class: <class 'backtest_strategy.StopLossStrategy2'>\n"
     ]
    },
    {
     "name": "stderr",
     "output_type": "stream",
     "text": [
      "100%|██████████| 320/320 [00:03<00:00, 100.99it/s]\n"
     ]
    },
    {
     "data": {
      "application/vnd.jupyter.widget-view+json": {
       "model_id": "999b6dbbbec54759a1bd5436f74faaf1",
       "version_major": 2,
       "version_minor": 0
      },
      "text/plain": [
       "Backtest.optimize:   0%|          | 0/9 [00:00<?, ?it/s]"
      ]
     },
     "metadata": {},
     "output_type": "display_data"
    },
    {
     "name": "stdout",
     "output_type": "stream",
     "text": [
      "Performance, current: 100.0, best_performance: 100.0, strategy_class: <class 'backtest_strategy.StopLossStrategy2'>\n"
     ]
    },
    {
     "name": "stderr",
     "output_type": "stream",
     "text": [
      "100%|██████████| 320/320 [00:02<00:00, 106.75it/s]\n"
     ]
    },
    {
     "data": {
      "application/vnd.jupyter.widget-view+json": {
       "model_id": "8e884f693d3f43088aa9b325801e5a35",
       "version_major": 2,
       "version_minor": 0
      },
      "text/plain": [
       "Backtest.optimize:   0%|          | 0/9 [00:00<?, ?it/s]"
      ]
     },
     "metadata": {},
     "output_type": "display_data"
    },
    {
     "name": "stdout",
     "output_type": "stream",
     "text": [
      "Performance, current: 100.0, best_performance: 100.0, strategy_class: <class 'backtest_strategy.StopLossStrategy2'>\n"
     ]
    },
    {
     "name": "stderr",
     "output_type": "stream",
     "text": [
      "100%|██████████| 320/320 [00:03<00:00, 86.42it/s]\n"
     ]
    },
    {
     "data": {
      "application/vnd.jupyter.widget-view+json": {
       "model_id": "7da6b87aa44446848348b413e46a91c9",
       "version_major": 2,
       "version_minor": 0
      },
      "text/plain": [
       "Backtest.optimize:   0%|          | 0/9 [00:00<?, ?it/s]"
      ]
     },
     "metadata": {},
     "output_type": "display_data"
    },
    {
     "name": "stdout",
     "output_type": "stream",
     "text": [
      "Performance, current: 100.0, best_performance: 100.0, strategy_class: <class 'backtest_strategy.StopLossStrategy2'>\n"
     ]
    },
    {
     "name": "stderr",
     "output_type": "stream",
     "text": [
      "100%|██████████| 320/320 [00:03<00:00, 91.24it/s]\n"
     ]
    },
    {
     "data": {
      "application/vnd.jupyter.widget-view+json": {
       "model_id": "9b6b3235e18441b58160fe735437adc0",
       "version_major": 2,
       "version_minor": 0
      },
      "text/plain": [
       "Backtest.optimize:   0%|          | 0/9 [00:00<?, ?it/s]"
      ]
     },
     "metadata": {},
     "output_type": "display_data"
    },
    {
     "name": "stdout",
     "output_type": "stream",
     "text": [
      "Performance, current: 100.0, best_performance: 100.0, strategy_class: <class 'backtest_strategy.StopLossStrategy2'>\n"
     ]
    },
    {
     "name": "stderr",
     "output_type": "stream",
     "text": [
      "100%|██████████| 320/320 [00:03<00:00, 91.83it/s]\n"
     ]
    },
    {
     "data": {
      "application/vnd.jupyter.widget-view+json": {
       "model_id": "45a38aa1fa8b456cb3b33395a1bb2f67",
       "version_major": 2,
       "version_minor": 0
      },
      "text/plain": [
       "Backtest.optimize:   0%|          | 0/9 [00:00<?, ?it/s]"
      ]
     },
     "metadata": {},
     "output_type": "display_data"
    },
    {
     "name": "stdout",
     "output_type": "stream",
     "text": [
      "Performance, current: 100.0, best_performance: 100.0, strategy_class: <class 'backtest_strategy.StopLossStrategy2'>\n"
     ]
    },
    {
     "name": "stderr",
     "output_type": "stream",
     "text": [
      "100%|██████████| 320/320 [00:03<00:00, 97.57it/s] \n"
     ]
    },
    {
     "data": {
      "application/vnd.jupyter.widget-view+json": {
       "model_id": "21e6f6a7f8324992b7a90c6ed9bffe3d",
       "version_major": 2,
       "version_minor": 0
      },
      "text/plain": [
       "Backtest.optimize:   0%|          | 0/9 [00:00<?, ?it/s]"
      ]
     },
     "metadata": {},
     "output_type": "display_data"
    },
    {
     "name": "stdout",
     "output_type": "stream",
     "text": [
      "Performance, current: 100.0, best_performance: 100.0, strategy_class: <class 'backtest_strategy.StopLossStrategy2'>\n"
     ]
    },
    {
     "name": "stderr",
     "output_type": "stream",
     "text": [
      "100%|██████████| 320/320 [00:03<00:00, 96.94it/s]\n"
     ]
    },
    {
     "data": {
      "application/vnd.jupyter.widget-view+json": {
       "model_id": "104ec4215335437da79f440c03b88319",
       "version_major": 2,
       "version_minor": 0
      },
      "text/plain": [
       "Backtest.optimize:   0%|          | 0/9 [00:00<?, ?it/s]"
      ]
     },
     "metadata": {},
     "output_type": "display_data"
    },
    {
     "name": "stdout",
     "output_type": "stream",
     "text": [
      "Performance, current: 100.0, best_performance: 100.0, strategy_class: <class 'backtest_strategy.StopLossStrategy2'>\n"
     ]
    },
    {
     "name": "stderr",
     "output_type": "stream",
     "text": [
      "100%|██████████| 320/320 [00:03<00:00, 99.41it/s] \n"
     ]
    },
    {
     "data": {
      "application/vnd.jupyter.widget-view+json": {
       "model_id": "60d07d90fdbf4ad685d7619cc8744231",
       "version_major": 2,
       "version_minor": 0
      },
      "text/plain": [
       "Backtest.optimize:   0%|          | 0/9 [00:00<?, ?it/s]"
      ]
     },
     "metadata": {},
     "output_type": "display_data"
    },
    {
     "name": "stdout",
     "output_type": "stream",
     "text": [
      "Performance, current: 100.0, best_performance: 100.0, strategy_class: <class 'backtest_strategy.StopLossStrategy2'>\n"
     ]
    },
    {
     "name": "stderr",
     "output_type": "stream",
     "text": [
      "100%|██████████| 320/320 [00:03<00:00, 93.70it/s]\n"
     ]
    },
    {
     "data": {
      "application/vnd.jupyter.widget-view+json": {
       "model_id": "c8505c24746f4b1f816086eb83ad8f25",
       "version_major": 2,
       "version_minor": 0
      },
      "text/plain": [
       "Backtest.optimize:   0%|          | 0/9 [00:00<?, ?it/s]"
      ]
     },
     "metadata": {},
     "output_type": "display_data"
    },
    {
     "name": "stdout",
     "output_type": "stream",
     "text": [
      "Performance, current: 100.0, best_performance: 100.0, strategy_class: <class 'backtest_strategy.StopLossStrategy2'>\n"
     ]
    },
    {
     "name": "stderr",
     "output_type": "stream",
     "text": [
      "100%|██████████| 320/320 [00:03<00:00, 102.84it/s]\n"
     ]
    },
    {
     "data": {
      "application/vnd.jupyter.widget-view+json": {
       "model_id": "553accd9a4a844bb82c6f202d029cebe",
       "version_major": 2,
       "version_minor": 0
      },
      "text/plain": [
       "Backtest.optimize:   0%|          | 0/9 [00:00<?, ?it/s]"
      ]
     },
     "metadata": {},
     "output_type": "display_data"
    },
    {
     "name": "stdout",
     "output_type": "stream",
     "text": [
      "Performance, current: 100.0, best_performance: 100.0, strategy_class: <class 'backtest_strategy.StopLossStrategy2'>\n"
     ]
    },
    {
     "name": "stderr",
     "output_type": "stream",
     "text": [
      "100%|██████████| 320/320 [00:03<00:00, 90.97it/s]\n"
     ]
    },
    {
     "data": {
      "application/vnd.jupyter.widget-view+json": {
       "model_id": "5e854be51ab34633bc786a57e76b7b49",
       "version_major": 2,
       "version_minor": 0
      },
      "text/plain": [
       "Backtest.optimize:   0%|          | 0/9 [00:00<?, ?it/s]"
      ]
     },
     "metadata": {},
     "output_type": "display_data"
    },
    {
     "name": "stdout",
     "output_type": "stream",
     "text": [
      "Performance, current: 100.0, best_performance: 100.0, strategy_class: <class 'backtest_strategy.StopLossStrategy2'>\n"
     ]
    },
    {
     "name": "stderr",
     "output_type": "stream",
     "text": [
      "100%|██████████| 320/320 [00:03<00:00, 96.14it/s]\n"
     ]
    },
    {
     "data": {
      "application/vnd.jupyter.widget-view+json": {
       "model_id": "9ceeb9f4772c439d88eb29750c7878f5",
       "version_major": 2,
       "version_minor": 0
      },
      "text/plain": [
       "Backtest.optimize:   0%|          | 0/9 [00:00<?, ?it/s]"
      ]
     },
     "metadata": {},
     "output_type": "display_data"
    },
    {
     "name": "stdout",
     "output_type": "stream",
     "text": [
      "Performance, current: 100.0, best_performance: 100.0, strategy_class: <class 'backtest_strategy.StopLossStrategy2'>\n"
     ]
    },
    {
     "name": "stderr",
     "output_type": "stream",
     "text": [
      "100%|██████████| 320/320 [00:03<00:00, 97.96it/s] \n"
     ]
    },
    {
     "data": {
      "application/vnd.jupyter.widget-view+json": {
       "model_id": "f03148d7fa17413496f20976b0be8fb8",
       "version_major": 2,
       "version_minor": 0
      },
      "text/plain": [
       "Backtest.optimize:   0%|          | 0/9 [00:00<?, ?it/s]"
      ]
     },
     "metadata": {},
     "output_type": "display_data"
    },
    {
     "name": "stdout",
     "output_type": "stream",
     "text": [
      "Performance, current: 100.0, best_performance: 100.0, strategy_class: <class 'backtest_strategy.StopLossStrategy2'>\n"
     ]
    },
    {
     "name": "stderr",
     "output_type": "stream",
     "text": [
      "100%|██████████| 320/320 [00:03<00:00, 103.31it/s]\n"
     ]
    },
    {
     "data": {
      "application/vnd.jupyter.widget-view+json": {
       "model_id": "e2d023bb686448018174d9e388b5c2af",
       "version_major": 2,
       "version_minor": 0
      },
      "text/plain": [
       "Backtest.optimize:   0%|          | 0/9 [00:00<?, ?it/s]"
      ]
     },
     "metadata": {},
     "output_type": "display_data"
    },
    {
     "name": "stdout",
     "output_type": "stream",
     "text": [
      "Performance, current: 100.0, best_performance: 100.0, strategy_class: <class 'backtest_strategy.StopLossStrategy2'>\n"
     ]
    },
    {
     "name": "stderr",
     "output_type": "stream",
     "text": [
      "100%|██████████| 320/320 [00:03<00:00, 100.43it/s]\n"
     ]
    },
    {
     "data": {
      "application/vnd.jupyter.widget-view+json": {
       "model_id": "b93a07f99b9b420682a6816827a61d34",
       "version_major": 2,
       "version_minor": 0
      },
      "text/plain": [
       "Backtest.optimize:   0%|          | 0/9 [00:00<?, ?it/s]"
      ]
     },
     "metadata": {},
     "output_type": "display_data"
    },
    {
     "name": "stdout",
     "output_type": "stream",
     "text": [
      "Performance, current: 100.0, best_performance: 100.0, strategy_class: <class 'backtest_strategy.StopLossStrategy2'>\n"
     ]
    },
    {
     "name": "stderr",
     "output_type": "stream",
     "text": [
      "100%|██████████| 320/320 [00:03<00:00, 100.44it/s]\n"
     ]
    },
    {
     "data": {
      "application/vnd.jupyter.widget-view+json": {
       "model_id": "7a0014e7c6014d028983cb0b46829dc9",
       "version_major": 2,
       "version_minor": 0
      },
      "text/plain": [
       "Backtest.optimize:   0%|          | 0/9 [00:00<?, ?it/s]"
      ]
     },
     "metadata": {},
     "output_type": "display_data"
    },
    {
     "name": "stdout",
     "output_type": "stream",
     "text": [
      "Performance, current: 100.0, best_performance: 100.0, strategy_class: <class 'backtest_strategy.StopLossStrategy2'>\n"
     ]
    },
    {
     "name": "stderr",
     "output_type": "stream",
     "text": [
      "100%|██████████| 320/320 [00:03<00:00, 94.41it/s]\n"
     ]
    },
    {
     "data": {
      "application/vnd.jupyter.widget-view+json": {
       "model_id": "72b37c4ec3714178a7e32b519f37f7bc",
       "version_major": 2,
       "version_minor": 0
      },
      "text/plain": [
       "Backtest.optimize:   0%|          | 0/9 [00:00<?, ?it/s]"
      ]
     },
     "metadata": {},
     "output_type": "display_data"
    },
    {
     "name": "stdout",
     "output_type": "stream",
     "text": [
      "Performance, current: 100.0, best_performance: 100.0, strategy_class: <class 'backtest_strategy.StopLossStrategy2'>\n"
     ]
    },
    {
     "name": "stderr",
     "output_type": "stream",
     "text": [
      "100%|██████████| 320/320 [00:03<00:00, 105.63it/s]\n"
     ]
    },
    {
     "data": {
      "application/vnd.jupyter.widget-view+json": {
       "model_id": "679743fc79b94ecc9f0ab055498261c5",
       "version_major": 2,
       "version_minor": 0
      },
      "text/plain": [
       "Backtest.optimize:   0%|          | 0/9 [00:00<?, ?it/s]"
      ]
     },
     "metadata": {},
     "output_type": "display_data"
    },
    {
     "name": "stdout",
     "output_type": "stream",
     "text": [
      "Performance, current: 100.0, best_performance: 100.0, strategy_class: <class 'backtest_strategy.StopLossStrategy2'>\n"
     ]
    },
    {
     "name": "stderr",
     "output_type": "stream",
     "text": [
      "100%|██████████| 320/320 [00:06<00:00, 50.00it/s]\n"
     ]
    },
    {
     "data": {
      "application/vnd.jupyter.widget-view+json": {
       "model_id": "5538778345b545e287582b9a90556eba",
       "version_major": 2,
       "version_minor": 0
      },
      "text/plain": [
       "Backtest.optimize:   0%|          | 0/9 [00:00<?, ?it/s]"
      ]
     },
     "metadata": {},
     "output_type": "display_data"
    },
    {
     "name": "stdout",
     "output_type": "stream",
     "text": [
      "Performance, current: 100.0, best_performance: 100.0, strategy_class: <class 'backtest_strategy.StopLossStrategy2'>\n"
     ]
    },
    {
     "name": "stderr",
     "output_type": "stream",
     "text": [
      "100%|██████████| 320/320 [00:03<00:00, 88.41it/s] \n"
     ]
    },
    {
     "data": {
      "application/vnd.jupyter.widget-view+json": {
       "model_id": "884047717e684b2bb63e06e38d18c5f9",
       "version_major": 2,
       "version_minor": 0
      },
      "text/plain": [
       "Backtest.optimize:   0%|          | 0/9 [00:00<?, ?it/s]"
      ]
     },
     "metadata": {},
     "output_type": "display_data"
    },
    {
     "name": "stdout",
     "output_type": "stream",
     "text": [
      "Performance, current: 100.0, best_performance: 100.0, strategy_class: <class 'backtest_strategy.StopLossStrategy2'>\n"
     ]
    },
    {
     "name": "stderr",
     "output_type": "stream",
     "text": [
      "100%|██████████| 320/320 [00:02<00:00, 115.13it/s]\n"
     ]
    },
    {
     "data": {
      "application/vnd.jupyter.widget-view+json": {
       "model_id": "1ea7d7a20e274d95b5c9960d6618bdce",
       "version_major": 2,
       "version_minor": 0
      },
      "text/plain": [
       "Backtest.optimize:   0%|          | 0/9 [00:00<?, ?it/s]"
      ]
     },
     "metadata": {},
     "output_type": "display_data"
    },
    {
     "name": "stdout",
     "output_type": "stream",
     "text": [
      "Performance, current: 100.0, best_performance: 100.0, strategy_class: <class 'backtest_strategy.StopLossStrategy2'>\n"
     ]
    },
    {
     "name": "stderr",
     "output_type": "stream",
     "text": [
      "100%|██████████| 320/320 [00:02<00:00, 122.20it/s]\n"
     ]
    },
    {
     "data": {
      "application/vnd.jupyter.widget-view+json": {
       "model_id": "a96fed5ae356404d9f2433e34a9750f6",
       "version_major": 2,
       "version_minor": 0
      },
      "text/plain": [
       "Backtest.optimize:   0%|          | 0/9 [00:00<?, ?it/s]"
      ]
     },
     "metadata": {},
     "output_type": "display_data"
    },
    {
     "name": "stdout",
     "output_type": "stream",
     "text": [
      "Performance, current: 100.0, best_performance: 100.0, strategy_class: <class 'backtest_strategy.StopLossStrategy2'>\n"
     ]
    },
    {
     "name": "stderr",
     "output_type": "stream",
     "text": [
      "100%|██████████| 320/320 [00:03<00:00, 100.67it/s]\n"
     ]
    },
    {
     "data": {
      "application/vnd.jupyter.widget-view+json": {
       "model_id": "82256bc6484b4bd2980daa96ee42c594",
       "version_major": 2,
       "version_minor": 0
      },
      "text/plain": [
       "Backtest.optimize:   0%|          | 0/9 [00:00<?, ?it/s]"
      ]
     },
     "metadata": {},
     "output_type": "display_data"
    },
    {
     "name": "stdout",
     "output_type": "stream",
     "text": [
      "Performance, current: 100.0, best_performance: 100.0, strategy_class: <class 'backtest_strategy.StopLossStrategy2'>\n"
     ]
    },
    {
     "name": "stderr",
     "output_type": "stream",
     "text": [
      "100%|██████████| 320/320 [00:04<00:00, 68.04it/s]\n"
     ]
    },
    {
     "data": {
      "application/vnd.jupyter.widget-view+json": {
       "model_id": "2be01992f99a422fac9f618b4cb15ef6",
       "version_major": 2,
       "version_minor": 0
      },
      "text/plain": [
       "Backtest.optimize:   0%|          | 0/9 [00:00<?, ?it/s]"
      ]
     },
     "metadata": {},
     "output_type": "display_data"
    },
    {
     "name": "stdout",
     "output_type": "stream",
     "text": [
      "Performance, current: 100.0, best_performance: 100.0, strategy_class: <class 'backtest_strategy.StopLossStrategy2'>\n"
     ]
    },
    {
     "name": "stderr",
     "output_type": "stream",
     "text": [
      "100%|██████████| 320/320 [00:04<00:00, 75.67it/s] \n"
     ]
    },
    {
     "data": {
      "application/vnd.jupyter.widget-view+json": {
       "model_id": "5731f804e951485fb6f7885c68cb30e6",
       "version_major": 2,
       "version_minor": 0
      },
      "text/plain": [
       "Backtest.optimize:   0%|          | 0/9 [00:00<?, ?it/s]"
      ]
     },
     "metadata": {},
     "output_type": "display_data"
    },
    {
     "name": "stdout",
     "output_type": "stream",
     "text": [
      "Performance, current: 100.0, best_performance: 100.0, strategy_class: <class 'backtest_strategy.StopLossStrategy2'>\n"
     ]
    },
    {
     "name": "stderr",
     "output_type": "stream",
     "text": [
      "100%|██████████| 320/320 [00:03<00:00, 90.70it/s]\n"
     ]
    },
    {
     "data": {
      "application/vnd.jupyter.widget-view+json": {
       "model_id": "e5aa9e99809d44f399b2977144e1ae11",
       "version_major": 2,
       "version_minor": 0
      },
      "text/plain": [
       "Backtest.optimize:   0%|          | 0/9 [00:00<?, ?it/s]"
      ]
     },
     "metadata": {},
     "output_type": "display_data"
    },
    {
     "name": "stdout",
     "output_type": "stream",
     "text": [
      "Performance, current: 100.0, best_performance: 100.0, strategy_class: <class 'backtest_strategy.StopLossStrategy2'>\n"
     ]
    },
    {
     "name": "stderr",
     "output_type": "stream",
     "text": [
      "100%|██████████| 320/320 [00:03<00:00, 88.77it/s]\n"
     ]
    },
    {
     "data": {
      "application/vnd.jupyter.widget-view+json": {
       "model_id": "14e87d7c34d74a1289417faa652543be",
       "version_major": 2,
       "version_minor": 0
      },
      "text/plain": [
       "Backtest.optimize:   0%|          | 0/9 [00:00<?, ?it/s]"
      ]
     },
     "metadata": {},
     "output_type": "display_data"
    },
    {
     "name": "stdout",
     "output_type": "stream",
     "text": [
      "Performance, current: 100.0, best_performance: 100.0, strategy_class: <class 'backtest_strategy.StopLossStrategy2'>\n"
     ]
    },
    {
     "name": "stderr",
     "output_type": "stream",
     "text": [
      "100%|██████████| 320/320 [00:03<00:00, 94.85it/s]\n"
     ]
    },
    {
     "data": {
      "application/vnd.jupyter.widget-view+json": {
       "model_id": "3bc0442ef4e54152a4943488c41a70ec",
       "version_major": 2,
       "version_minor": 0
      },
      "text/plain": [
       "Backtest.optimize:   0%|          | 0/9 [00:00<?, ?it/s]"
      ]
     },
     "metadata": {},
     "output_type": "display_data"
    },
    {
     "name": "stdout",
     "output_type": "stream",
     "text": [
      "Performance, current: 100.0, best_performance: 100.0, strategy_class: <class 'backtest_strategy.StopLossStrategy2'>\n"
     ]
    },
    {
     "name": "stderr",
     "output_type": "stream",
     "text": [
      "100%|██████████| 320/320 [00:03<00:00, 104.07it/s]\n"
     ]
    },
    {
     "data": {
      "application/vnd.jupyter.widget-view+json": {
       "model_id": "bc6b429620ec4e068b3f89a447ee6a73",
       "version_major": 2,
       "version_minor": 0
      },
      "text/plain": [
       "Backtest.optimize:   0%|          | 0/9 [00:00<?, ?it/s]"
      ]
     },
     "metadata": {},
     "output_type": "display_data"
    },
    {
     "name": "stdout",
     "output_type": "stream",
     "text": [
      "Performance, current: 100.0, best_performance: 100.0, strategy_class: <class 'backtest_strategy.StopLossStrategy2'>\n"
     ]
    },
    {
     "name": "stderr",
     "output_type": "stream",
     "text": [
      "100%|██████████| 320/320 [00:03<00:00, 94.70it/s]\n"
     ]
    },
    {
     "data": {
      "application/vnd.jupyter.widget-view+json": {
       "model_id": "d57dc0ad0c8e46b5997c8faf1e2666e1",
       "version_major": 2,
       "version_minor": 0
      },
      "text/plain": [
       "Backtest.optimize:   0%|          | 0/9 [00:00<?, ?it/s]"
      ]
     },
     "metadata": {},
     "output_type": "display_data"
    },
    {
     "name": "stdout",
     "output_type": "stream",
     "text": [
      "Performance, current: 100.0, best_performance: 100.0, strategy_class: <class 'backtest_strategy.StopLossStrategy2'>\n"
     ]
    },
    {
     "name": "stderr",
     "output_type": "stream",
     "text": [
      "100%|██████████| 320/320 [00:03<00:00, 91.27it/s]\n"
     ]
    },
    {
     "data": {
      "application/vnd.jupyter.widget-view+json": {
       "model_id": "d855d340f2cb4a0d869e5fc6e7da7fa3",
       "version_major": 2,
       "version_minor": 0
      },
      "text/plain": [
       "Backtest.optimize:   0%|          | 0/9 [00:00<?, ?it/s]"
      ]
     },
     "metadata": {},
     "output_type": "display_data"
    },
    {
     "name": "stdout",
     "output_type": "stream",
     "text": [
      "Performance, current: 100.0, best_performance: 100.0, strategy_class: <class 'backtest_strategy.StopLossStrategy2'>\n"
     ]
    },
    {
     "name": "stderr",
     "output_type": "stream",
     "text": [
      "100%|██████████| 320/320 [00:03<00:00, 91.26it/s]\n"
     ]
    },
    {
     "data": {
      "application/vnd.jupyter.widget-view+json": {
       "model_id": "90982993f35248fcafa61aaf0779cd22",
       "version_major": 2,
       "version_minor": 0
      },
      "text/plain": [
       "Backtest.optimize:   0%|          | 0/9 [00:00<?, ?it/s]"
      ]
     },
     "metadata": {},
     "output_type": "display_data"
    },
    {
     "name": "stdout",
     "output_type": "stream",
     "text": [
      "Performance, current: 100.0, best_performance: 100.0, strategy_class: <class 'backtest_strategy.StopLossStrategy2'>\n"
     ]
    },
    {
     "name": "stderr",
     "output_type": "stream",
     "text": [
      "100%|██████████| 320/320 [00:03<00:00, 90.35it/s]\n"
     ]
    },
    {
     "data": {
      "application/vnd.jupyter.widget-view+json": {
       "model_id": "da70971109b74de59ab0e5bb93b904e0",
       "version_major": 2,
       "version_minor": 0
      },
      "text/plain": [
       "Backtest.optimize:   0%|          | 0/9 [00:00<?, ?it/s]"
      ]
     },
     "metadata": {},
     "output_type": "display_data"
    },
    {
     "name": "stdout",
     "output_type": "stream",
     "text": [
      "Performance, current: 100.0, best_performance: 100.0, strategy_class: <class 'backtest_strategy.StopLossStrategy2'>\n"
     ]
    },
    {
     "name": "stderr",
     "output_type": "stream",
     "text": [
      "100%|██████████| 320/320 [00:03<00:00, 90.19it/s] \n"
     ]
    },
    {
     "data": {
      "application/vnd.jupyter.widget-view+json": {
       "model_id": "ecc2eb62312f472f9f8025e5e30311a7",
       "version_major": 2,
       "version_minor": 0
      },
      "text/plain": [
       "Backtest.optimize:   0%|          | 0/9 [00:00<?, ?it/s]"
      ]
     },
     "metadata": {},
     "output_type": "display_data"
    },
    {
     "name": "stdout",
     "output_type": "stream",
     "text": [
      "Performance, current: 100.0, best_performance: 100.0, strategy_class: <class 'backtest_strategy.StopLossStrategy2'>\n"
     ]
    },
    {
     "name": "stderr",
     "output_type": "stream",
     "text": [
      "100%|██████████| 320/320 [00:03<00:00, 97.37it/s]\n"
     ]
    },
    {
     "data": {
      "application/vnd.jupyter.widget-view+json": {
       "model_id": "221c6c78cd984b309fcecfe1c2ad3634",
       "version_major": 2,
       "version_minor": 0
      },
      "text/plain": [
       "Backtest.optimize:   0%|          | 0/9 [00:00<?, ?it/s]"
      ]
     },
     "metadata": {},
     "output_type": "display_data"
    },
    {
     "name": "stdout",
     "output_type": "stream",
     "text": [
      "Performance, current: 100.0, best_performance: 100.0, strategy_class: <class 'backtest_strategy.StopLossStrategy2'>\n"
     ]
    },
    {
     "name": "stderr",
     "output_type": "stream",
     "text": [
      "100%|██████████| 320/320 [00:02<00:00, 106.78it/s]\n"
     ]
    },
    {
     "data": {
      "application/vnd.jupyter.widget-view+json": {
       "model_id": "a7eb408a19db4933be17532084e7b482",
       "version_major": 2,
       "version_minor": 0
      },
      "text/plain": [
       "Backtest.optimize:   0%|          | 0/9 [00:00<?, ?it/s]"
      ]
     },
     "metadata": {},
     "output_type": "display_data"
    },
    {
     "name": "stdout",
     "output_type": "stream",
     "text": [
      "Performance, current: 100.0, best_performance: 100.0, strategy_class: <class 'backtest_strategy.StopLossStrategy2'>\n"
     ]
    },
    {
     "name": "stderr",
     "output_type": "stream",
     "text": [
      "100%|██████████| 320/320 [00:03<00:00, 98.88it/s] \n"
     ]
    },
    {
     "data": {
      "application/vnd.jupyter.widget-view+json": {
       "model_id": "56ca2e4308104dd6b7a14341e937c5c3",
       "version_major": 2,
       "version_minor": 0
      },
      "text/plain": [
       "Backtest.optimize:   0%|          | 0/9 [00:00<?, ?it/s]"
      ]
     },
     "metadata": {},
     "output_type": "display_data"
    },
    {
     "name": "stdout",
     "output_type": "stream",
     "text": [
      "Performance, current: 100.0, best_performance: 100.0, strategy_class: <class 'backtest_strategy.StopLossStrategy2'>\n"
     ]
    },
    {
     "name": "stderr",
     "output_type": "stream",
     "text": [
      "100%|██████████| 320/320 [00:03<00:00, 95.07it/s]\n"
     ]
    },
    {
     "data": {
      "application/vnd.jupyter.widget-view+json": {
       "model_id": "19897ae600b24718bb1ea7ecb0b74cce",
       "version_major": 2,
       "version_minor": 0
      },
      "text/plain": [
       "Backtest.optimize:   0%|          | 0/9 [00:00<?, ?it/s]"
      ]
     },
     "metadata": {},
     "output_type": "display_data"
    },
    {
     "name": "stdout",
     "output_type": "stream",
     "text": [
      "Performance, current: 100.0, best_performance: 100.0, strategy_class: <class 'backtest_strategy.StopLossStrategy2'>\n"
     ]
    },
    {
     "name": "stderr",
     "output_type": "stream",
     "text": [
      "100%|██████████| 320/320 [00:03<00:00, 95.83it/s]\n"
     ]
    },
    {
     "data": {
      "application/vnd.jupyter.widget-view+json": {
       "model_id": "75bb454ad2ce40c3865bedca773a13f2",
       "version_major": 2,
       "version_minor": 0
      },
      "text/plain": [
       "Backtest.optimize:   0%|          | 0/9 [00:00<?, ?it/s]"
      ]
     },
     "metadata": {},
     "output_type": "display_data"
    },
    {
     "name": "stdout",
     "output_type": "stream",
     "text": [
      "Performance, current: 100.0, best_performance: 100.0, strategy_class: <class 'backtest_strategy.StopLossStrategy2'>\n"
     ]
    },
    {
     "name": "stderr",
     "output_type": "stream",
     "text": [
      "100%|██████████| 320/320 [00:03<00:00, 105.49it/s]\n"
     ]
    },
    {
     "data": {
      "application/vnd.jupyter.widget-view+json": {
       "model_id": "b18a82da15194528b79d645b1c83a1ef",
       "version_major": 2,
       "version_minor": 0
      },
      "text/plain": [
       "Backtest.optimize:   0%|          | 0/9 [00:00<?, ?it/s]"
      ]
     },
     "metadata": {},
     "output_type": "display_data"
    },
    {
     "name": "stdout",
     "output_type": "stream",
     "text": [
      "Performance, current: 100.0, best_performance: 100.0, strategy_class: <class 'backtest_strategy.StopLossStrategy2'>\n"
     ]
    },
    {
     "name": "stderr",
     "output_type": "stream",
     "text": [
      "100%|██████████| 320/320 [00:03<00:00, 104.58it/s]\n"
     ]
    },
    {
     "data": {
      "application/vnd.jupyter.widget-view+json": {
       "model_id": "78817deaf28241b297df6ef67f7cfc10",
       "version_major": 2,
       "version_minor": 0
      },
      "text/plain": [
       "Backtest.optimize:   0%|          | 0/9 [00:00<?, ?it/s]"
      ]
     },
     "metadata": {},
     "output_type": "display_data"
    },
    {
     "name": "stdout",
     "output_type": "stream",
     "text": [
      "Performance, current: 100.0, best_performance: 100.0, strategy_class: <class 'backtest_strategy.StopLossStrategy2'>\n"
     ]
    },
    {
     "name": "stderr",
     "output_type": "stream",
     "text": [
      "100%|██████████| 320/320 [00:03<00:00, 91.50it/s]\n"
     ]
    },
    {
     "data": {
      "application/vnd.jupyter.widget-view+json": {
       "model_id": "9573cba1eeeb459f932b8556fbbf3dee",
       "version_major": 2,
       "version_minor": 0
      },
      "text/plain": [
       "Backtest.optimize:   0%|          | 0/9 [00:00<?, ?it/s]"
      ]
     },
     "metadata": {},
     "output_type": "display_data"
    },
    {
     "name": "stdout",
     "output_type": "stream",
     "text": [
      "Performance, current: 100.0, best_performance: 100.0, strategy_class: <class 'backtest_strategy.StopLossStrategy2'>\n"
     ]
    },
    {
     "name": "stderr",
     "output_type": "stream",
     "text": [
      "100%|██████████| 320/320 [00:03<00:00, 99.31it/s] \n"
     ]
    },
    {
     "data": {
      "application/vnd.jupyter.widget-view+json": {
       "model_id": "d8a9afaba4724b40acf41836ced96d83",
       "version_major": 2,
       "version_minor": 0
      },
      "text/plain": [
       "Backtest.optimize:   0%|          | 0/9 [00:00<?, ?it/s]"
      ]
     },
     "metadata": {},
     "output_type": "display_data"
    },
    {
     "name": "stdout",
     "output_type": "stream",
     "text": [
      "Performance, current: 100.0, best_performance: 100.0, strategy_class: <class 'backtest_strategy.StopLossStrategy2'>\n"
     ]
    },
    {
     "name": "stderr",
     "output_type": "stream",
     "text": [
      "100%|██████████| 320/320 [00:03<00:00, 94.72it/s]\n"
     ]
    },
    {
     "data": {
      "application/vnd.jupyter.widget-view+json": {
       "model_id": "90887775b59e4461ac4f7554d2b53957",
       "version_major": 2,
       "version_minor": 0
      },
      "text/plain": [
       "Backtest.optimize:   0%|          | 0/9 [00:00<?, ?it/s]"
      ]
     },
     "metadata": {},
     "output_type": "display_data"
    },
    {
     "name": "stdout",
     "output_type": "stream",
     "text": [
      "Performance, current: 100.0, best_performance: 100.0, strategy_class: <class 'backtest_strategy.StopLossStrategy2'>\n"
     ]
    },
    {
     "name": "stderr",
     "output_type": "stream",
     "text": [
      "100%|██████████| 320/320 [00:03<00:00, 93.15it/s]\n"
     ]
    },
    {
     "data": {
      "application/vnd.jupyter.widget-view+json": {
       "model_id": "99a336a5244a477b963f02bcb1d8a466",
       "version_major": 2,
       "version_minor": 0
      },
      "text/plain": [
       "Backtest.optimize:   0%|          | 0/9 [00:00<?, ?it/s]"
      ]
     },
     "metadata": {},
     "output_type": "display_data"
    },
    {
     "name": "stdout",
     "output_type": "stream",
     "text": [
      "Performance, current: 100.0, best_performance: 100.0, strategy_class: <class 'backtest_strategy.StopLossStrategy2'>\n"
     ]
    },
    {
     "name": "stderr",
     "output_type": "stream",
     "text": [
      "100%|██████████| 320/320 [00:03<00:00, 93.28it/s]\n"
     ]
    },
    {
     "data": {
      "application/vnd.jupyter.widget-view+json": {
       "model_id": "aca31bc4f9504738af245417b262da04",
       "version_major": 2,
       "version_minor": 0
      },
      "text/plain": [
       "Backtest.optimize:   0%|          | 0/9 [00:00<?, ?it/s]"
      ]
     },
     "metadata": {},
     "output_type": "display_data"
    },
    {
     "name": "stdout",
     "output_type": "stream",
     "text": [
      "Performance, current: 100.0, best_performance: 100.0, strategy_class: <class 'backtest_strategy.StopLossStrategy2'>\n"
     ]
    },
    {
     "name": "stderr",
     "output_type": "stream",
     "text": [
      "100%|██████████| 320/320 [00:04<00:00, 74.96it/s]\n"
     ]
    },
    {
     "data": {
      "application/vnd.jupyter.widget-view+json": {
       "model_id": "a63f9bd8941d4654a6bca27f7c9d3249",
       "version_major": 2,
       "version_minor": 0
      },
      "text/plain": [
       "Backtest.optimize:   0%|          | 0/9 [00:00<?, ?it/s]"
      ]
     },
     "metadata": {},
     "output_type": "display_data"
    },
    {
     "name": "stdout",
     "output_type": "stream",
     "text": [
      "Performance, current: 100.0, best_performance: 100.0, strategy_class: <class 'backtest_strategy.StopLossStrategy2'>\n"
     ]
    },
    {
     "name": "stderr",
     "output_type": "stream",
     "text": [
      "100%|██████████| 320/320 [00:03<00:00, 83.86it/s]\n"
     ]
    },
    {
     "data": {
      "application/vnd.jupyter.widget-view+json": {
       "model_id": "ad3a8f24548840e1a0aed954d423c9f1",
       "version_major": 2,
       "version_minor": 0
      },
      "text/plain": [
       "Backtest.optimize:   0%|          | 0/9 [00:00<?, ?it/s]"
      ]
     },
     "metadata": {},
     "output_type": "display_data"
    },
    {
     "name": "stdout",
     "output_type": "stream",
     "text": [
      "Performance, current: 100.0, best_performance: 100.0, strategy_class: <class 'backtest_strategy.StopLossStrategy2'>\n",
      "EURUSD : best_params: {'cash': 10000, 'maximize': 'Return [%]', 'max_tries': 300, 'method': 'grid', 'stats_item': 'Win Rate [%]', 'bb_std': 1.5, 'back_candles': 7, 'ema_period': 30, 'bb_period': 13, 'bb_width_threshold': 0.001, 'atr_period': 5, 'rsi_period': 9}, best_performance: 100.0\n"
     ]
    },
    {
     "name": "stderr",
     "output_type": "stream",
     "text": [
      "100%|██████████| 500/500 [00:05<00:00, 88.92it/s] \n",
      "  8%|▊         | 1/12 [08:15<1:30:50, 495.54s/it]"
     ]
    },
    {
     "name": "stdout",
     "output_type": "stream",
     "text": [
      "EURUSD : train_set: 2016-09-09 00:00:00 - 2017-12-04 00:00:00, test_set: 2017-12-05 00:00:00 - 2018-08-13 00:00:00\n"
     ]
    },
    {
     "name": "stderr",
     "output_type": "stream",
     "text": [
      "100%|██████████| 320/320 [00:03<00:00, 105.80it/s]\n"
     ]
    },
    {
     "data": {
      "application/vnd.jupyter.widget-view+json": {
       "model_id": "9cd1f55248f248efa3b14ecc81c0c402",
       "version_major": 2,
       "version_minor": 0
      },
      "text/plain": [
       "Backtest.optimize:   0%|          | 0/9 [00:00<?, ?it/s]"
      ]
     },
     "metadata": {},
     "output_type": "display_data"
    },
    {
     "name": "stdout",
     "output_type": "stream",
     "text": [
      "Performance, current: 57.14285714285714, best_performance: -inf, strategy_class: <class 'backtest_strategy.StopLossStrategy2'>\n"
     ]
    },
    {
     "name": "stderr",
     "output_type": "stream",
     "text": [
      "100%|██████████| 320/320 [00:02<00:00, 110.08it/s]\n"
     ]
    },
    {
     "data": {
      "application/vnd.jupyter.widget-view+json": {
       "model_id": "06bcf9c2254449af9f3655e1521108e0",
       "version_major": 2,
       "version_minor": 0
      },
      "text/plain": [
       "Backtest.optimize:   0%|          | 0/9 [00:00<?, ?it/s]"
      ]
     },
     "metadata": {},
     "output_type": "display_data"
    },
    {
     "name": "stdout",
     "output_type": "stream",
     "text": [
      "Performance, current: 57.14285714285714, best_performance: 57.14285714285714, strategy_class: <class 'backtest_strategy.StopLossStrategy2'>\n"
     ]
    },
    {
     "name": "stderr",
     "output_type": "stream",
     "text": [
      "100%|██████████| 320/320 [00:03<00:00, 105.34it/s]\n"
     ]
    },
    {
     "data": {
      "application/vnd.jupyter.widget-view+json": {
       "model_id": "298e638f4b114a70afbaaa477b410eea",
       "version_major": 2,
       "version_minor": 0
      },
      "text/plain": [
       "Backtest.optimize:   0%|          | 0/9 [00:00<?, ?it/s]"
      ]
     },
     "metadata": {},
     "output_type": "display_data"
    },
    {
     "name": "stdout",
     "output_type": "stream",
     "text": [
      "Performance, current: 57.14285714285714, best_performance: 57.14285714285714, strategy_class: <class 'backtest_strategy.StopLossStrategy2'>\n"
     ]
    },
    {
     "name": "stderr",
     "output_type": "stream",
     "text": [
      "100%|██████████| 320/320 [00:02<00:00, 106.97it/s]\n"
     ]
    },
    {
     "data": {
      "application/vnd.jupyter.widget-view+json": {
       "model_id": "8f4e6928d9f64182bf4f8b05a994abaa",
       "version_major": 2,
       "version_minor": 0
      },
      "text/plain": [
       "Backtest.optimize:   0%|          | 0/9 [00:00<?, ?it/s]"
      ]
     },
     "metadata": {},
     "output_type": "display_data"
    },
    {
     "name": "stdout",
     "output_type": "stream",
     "text": [
      "Performance, current: 57.14285714285714, best_performance: 57.14285714285714, strategy_class: <class 'backtest_strategy.StopLossStrategy2'>\n"
     ]
    },
    {
     "name": "stderr",
     "output_type": "stream",
     "text": [
      "100%|██████████| 320/320 [00:02<00:00, 114.62it/s]\n"
     ]
    },
    {
     "data": {
      "application/vnd.jupyter.widget-view+json": {
       "model_id": "af6ad10a8f2d4fea854fbeba5cfb7e55",
       "version_major": 2,
       "version_minor": 0
      },
      "text/plain": [
       "Backtest.optimize:   0%|          | 0/9 [00:00<?, ?it/s]"
      ]
     },
     "metadata": {},
     "output_type": "display_data"
    },
    {
     "name": "stdout",
     "output_type": "stream",
     "text": [
      "Performance, current: 57.14285714285714, best_performance: 57.14285714285714, strategy_class: <class 'backtest_strategy.StopLossStrategy2'>\n"
     ]
    },
    {
     "name": "stderr",
     "output_type": "stream",
     "text": [
      "100%|██████████| 320/320 [00:02<00:00, 108.39it/s]\n"
     ]
    },
    {
     "data": {
      "application/vnd.jupyter.widget-view+json": {
       "model_id": "5c1b187d79f64ca79df4226b4f873078",
       "version_major": 2,
       "version_minor": 0
      },
      "text/plain": [
       "Backtest.optimize:   0%|          | 0/9 [00:00<?, ?it/s]"
      ]
     },
     "metadata": {},
     "output_type": "display_data"
    },
    {
     "name": "stdout",
     "output_type": "stream",
     "text": [
      "Performance, current: 57.14285714285714, best_performance: 57.14285714285714, strategy_class: <class 'backtest_strategy.StopLossStrategy2'>\n"
     ]
    },
    {
     "name": "stderr",
     "output_type": "stream",
     "text": [
      "100%|██████████| 320/320 [00:02<00:00, 107.24it/s]\n"
     ]
    },
    {
     "data": {
      "application/vnd.jupyter.widget-view+json": {
       "model_id": "16e67d3de9bf468fb920a4d2b1b1932d",
       "version_major": 2,
       "version_minor": 0
      },
      "text/plain": [
       "Backtest.optimize:   0%|          | 0/9 [00:00<?, ?it/s]"
      ]
     },
     "metadata": {},
     "output_type": "display_data"
    }
   ],
   "source": [
    "report_dict = {}\n",
    "symbols =['EURUSD']\n",
    "for name in symbols:\n",
    "# for name in forex_tickers:\n",
    "    df = get_data(dir, name)\n",
    "    df.reset_index(inplace=True)\n",
    "\n",
    "    df_length = len(df)\n",
    "    print(f\"Start {name} backtesting, df: {df_length}\")\n",
    "   \n",
    "    try:\n",
    "        signals_df = pd.DataFrame()\n",
    "       \n",
    "        train_size = 320\n",
    "        test_size = 180\n",
    "        index_range = walk_forward_optimization_by_index(len(df), train_size, test_size)\n",
    "        print(f\"{name} wfo iterations: {len(index_range)}\")\n",
    "\n",
    "        params = {\n",
    "            'bb_period_list': [15, 14, 13], # 13-30\n",
    "            'bb_width_threshold_list': [0.002, 0.0015, 0.001],\n",
    "            'atr_period_list': [7, 6, 5], # Long time frames: 20-50, Short: 2-10\n",
    "            'rsi_period_list': [10, 11, 9], # Short-term intraday: 9-11, Medium-term: 14, Longer-term position: 20-30\n",
    "            'cash': 10_000,\n",
    "            # 'maximize': 'Profit Factor',\n",
    "            'maximize': 'Return [%]',\n",
    "            # 'maximize': 'Equity Final [$]',\n",
    "            # 'maximize': 'Win Rate [%]',\n",
    "            'max_tries': 300, # ???\n",
    "            # 'stats_item': 'Profit Factor',\n",
    "            'stats_item': 'Win Rate [%]',\n",
    "            # 'method': 'skopt',\n",
    "            'bb_std': 1.5, #1.8, 2\n",
    "            'back_candles': 7, #8,9\n",
    "            'ema_period': 30, # 20, 50, based on test_set_size param - ???            \n",
    "        }\n",
    "\n",
    "        for iter in tqdm(index_range):\n",
    "            start_train = iter['train_indexes'][0]\n",
    "            end_train = iter['train_indexes'][1]\n",
    "            start_test = iter['test_indexes'][0]\n",
    "            end_test = iter['test_indexes'][1]\n",
    "            \n",
    "            train_set = df.iloc[start_train:end_train].copy()\n",
    "            test_set = df.iloc[start_test:end_test].copy()\n",
    "\n",
    "            print(f\"{name} : train_set: {train_set.iloc[0].Date} - {train_set.iloc[-1].Date}, test_set: {test_set.iloc[0].Date} - {test_set.iloc[-1].Date}\")\n",
    "\n",
    "            best_params, best_performance = get_best_bb_rsi_strategy(train_set.copy(), StopLossStrategy2, params, apply_bb_rsi_ema_strategy)\n",
    "\n",
    "            print(f\"{name} : best_params: {best_params}, best_performance: {best_performance}\")\n",
    "            if best_performance > 0:\n",
    "                combined_data = pd.concat([train_set, test_set]).reset_index(drop=True)\n",
    "                combined_with_test_signal = apply_bb_rsi_ema_strategy(combined_data.copy(), best_params)\n",
    "                test_with_signal = combined_with_test_signal.iloc[-test_size:].copy()\n",
    "                signals_df = pd.concat([signals_df, combined_with_test_signal], ignore_index=True)\n",
    "\n",
    "        if not signals_df.empty:\n",
    "            report_dict[name] = signals_df\n",
    "    except Exception as e:\n",
    "        print(f\"Error backtesting for {name}: {e}\")"
   ]
  },
  {
   "cell_type": "markdown",
   "metadata": {},
   "source": [
    "### WFO by date index"
   ]
  },
  {
   "cell_type": "code",
   "execution_count": null,
   "metadata": {},
   "outputs": [],
   "source": [
    "report_dict = {}\n",
    "symbols =['EURUSD']\n",
    "for name in symbols:\n",
    "# for name in forex_tickers:\n",
    "    df = get_data(dir, name)\n",
    "    df.set_index('Date', inplace=True)\n",
    "\n",
    "    df_length = len(df)\n",
    "    print(f\"Start {name} backtesting, df: {df_length}\")\n",
    "\n",
    "    try:\n",
    "        train_size_in_month = 12\n",
    "        test_size_in_month = 3\n",
    "        dates_range = walk_forward_optimization_by_date_range2(df.index.date[0], df.index.date[-1], train_size_in_month, test_size_in_month)\n",
    "        print(f\"{name} wfo iterations: {len(index_range)}\")\n",
    "\n",
    "        params = {\n",
    "            'bb_period_list': [15, 20, 30], # 13-30\n",
    "            'bb_width_threshold_list': [0.002, 0.0015, 0.001],\n",
    "            'atr_period_list': [13, 15, 14], # Long time frames: 20-50, Short: 2-10\n",
    "            'rsi_period_list': [13, 15, 14], # Short-term intraday: 9-11, Medium-term: 14, Longer-term position: 20-30\n",
    "            'cash': 10_000,\n",
    "            # 'maximize': 'Profit Factor',\n",
    "            'maximize': 'Return [%]',\n",
    "            # 'maximize': 'Equity Final [$]',\n",
    "            # 'maximize': 'Win Rate [%]',\n",
    "            # 'maximize': None, # SQN\n",
    "            'max_tries': 300,\n",
    "            # 'stats_item': 'Profit Factor',\n",
    "            'stats_item': 'Win Rate [%]',\n",
    "            # 'method': 'skopt',\n",
    "            'bb_std': 1.5, #1.8, 2\n",
    "            'back_candles': 7, #8,9\n",
    "            'ema_period': 30, # 20, 50, based on test_set_size param - ???            \n",
    "        }\n",
    "\n",
    "        signals_df = pd.DataFrame()\n",
    "        for iter in tqdm(dates_range):\n",
    "            train_from_date = datetime.combine(iter['train_dates'][0], datetime.min.time())\n",
    "            train_end_date = datetime.combine(iter['train_dates'][1], datetime.min.time())\n",
    "            test_from_date = datetime.combine(iter['test_dates'][0], datetime.min.time())\n",
    "            test_end_date = datetime.combine(iter['test_dates'][1], datetime.min.time())\n",
    "            \n",
    "            train_set = df[(df.index >= train_from_date) & (df.index <= train_end_date)].copy()\n",
    "            test_set = df[(df.index >= test_from_date) & (df.index <= test_end_date)].copy()\n",
    "\n",
    "            train_set.reset_index(inplace=True)\n",
    "            test_set.reset_index(inplace=True)\n",
    "            \n",
    "            print(f\"{name} : train_set: {train_set.iloc[0].Date} - {train_set.iloc[-1].Date}, test_set: {test_set.iloc[0].Date} - {test_set.iloc[-1].Date}\")\n",
    "\n",
    "            best_params, best_performance = get_best_bb_rsi_strategy(train_set, StopLossStrategy2, params, apply_bb_rsi_ema_strategy)\n",
    "\n",
    "            print(f\"{name} : best_params: {best_params}, best_performance: {best_performance}\")\n",
    "            if best_performance > 0:\n",
    "                combined_data = pd.concat([train_set, test_set]).reset_index(drop=True)\n",
    "                combined_with_test_signal = apply_bb_rsi_ema_strategy(combined_data.copy(), best_params).copy()\n",
    "                combined_with_test_signal.set_index('Date', inplace=True)\n",
    "\n",
    "                test_set_with_signal = combined_with_test_signal[(combined_with_test_signal.index >= test_from_date) &\n",
    "                                                             (combined_with_test_signal.index <= test_end_date)\n",
    "                                                            ].copy()\n",
    "                signals_df = pd.concat([signals_df, test_set_with_signal], ignore_index=True)\n",
    "\n",
    "        if not signals_df.empty:\n",
    "            report_dict[name] = signals_df\n",
    "    except Exception as e:\n",
    "        print(f\"Error backtesting for {name}: {e}\")\n"
   ]
  },
  {
   "cell_type": "markdown",
   "metadata": {},
   "source": [
    "### Checks the count of entry and exit signals for each ticker"
   ]
  },
  {
   "cell_type": "code",
   "execution_count": 55,
   "metadata": {},
   "outputs": [
    {
     "data": {
      "text/plain": [
       "Signal\n",
       "0    31\n",
       "Name: count, dtype: int64"
      ]
     },
     "execution_count": 55,
     "metadata": {},
     "output_type": "execute_result"
    }
   ],
   "source": [
    "sum([report_dict[key]['Signal'].value_counts() for key in report_dict], start=0)"
   ]
  },
  {
   "cell_type": "code",
   "execution_count": 56,
   "metadata": {},
   "outputs": [
    {
     "name": "stdout",
     "output_type": "stream",
     "text": [
      "0\n"
     ]
    }
   ],
   "source": [
    "# Checks the count of signals for each ticker\n",
    "for df in report_dict.values():\n",
    "    print(len(df[df.Signal != 0]))"
   ]
  },
  {
   "cell_type": "markdown",
   "metadata": {},
   "source": [
    "### Backtest with test_set"
   ]
  },
  {
   "cell_type": "code",
   "execution_count": null,
   "metadata": {},
   "outputs": [],
   "source": [
    "results = dict()\n",
    "\n",
    "for name, df in report_dict.items():\n",
    "    bt = Backtest(df, BBRSIStrategy, cash=10000, margin=1/10, commission=0.002)\n",
    "    stats, heatmap = bt.optimize(slcoef=[i/10 for i in range(10, 16)],\n",
    "                    TPcoef=[i/10 for i in range(10, 21)],\n",
    "                    maximize='Return [%]', max_tries=300,\n",
    "                    random_state=0,\n",
    "                    return_heatmap=True)\n",
    "    results[name] = [stats, heatmap]\n"
   ]
  },
  {
   "cell_type": "markdown",
   "metadata": {},
   "source": [
    "### Stats\n"
   ]
  },
  {
   "cell_type": "code",
   "execution_count": null,
   "metadata": {},
   "outputs": [],
   "source": [
    "for name, result_list in results.items():\n",
    "    print(\"=== Stats of {} ===\".format(name))\n",
    "    print(result_list[0])\n"
   ]
  },
  {
   "cell_type": "markdown",
   "metadata": {},
   "source": [
    "### Heatmap"
   ]
  },
  {
   "cell_type": "code",
   "execution_count": null,
   "metadata": {},
   "outputs": [],
   "source": [
    "import seaborn as sns\n",
    "\n",
    "for name, result_list in results.items():\n",
    "    print(\"=== heatmap of {} ===\".format(name))\n",
    "    heatmap_df = result_list[1].unstack()\n",
    "    plt.figure(figsize=(10, 8))\n",
    "    sns.heatmap(heatmap_df, annot=True, cmap='viridis', fmt='.0f')\n",
    "    plt.show()"
   ]
  },
  {
   "cell_type": "code",
   "execution_count": null,
   "metadata": {},
   "outputs": [],
   "source": [
    "# Add position points\n",
    "for df in report_dict.values():\n",
    "    df = add_pointpos_column(df, \"Signal\", 1e-4)\n"
   ]
  },
  {
   "cell_type": "code",
   "execution_count": null,
   "metadata": {},
   "outputs": [],
   "source": [
    "st=0\n",
    "for name, df in report_dict.items():\n",
    "    dfpl = df[st:st+320]\n",
    "\n",
    "    # Create a plot with 2 rows\n",
    "    fig = make_subplots(rows=2, cols=1, column_titles=[name])\n",
    "\n",
    "    # Add candlestick plot on the first row\n",
    "    fig.add_trace(go.Candlestick(x=dfpl.index,\n",
    "                                open=dfpl['Open'],\n",
    "                                high=dfpl['High'],\n",
    "                                low=dfpl['Low'],\n",
    "                                close=dfpl['Close']),\n",
    "                row=1, col=1)\n",
    "\n",
    "    # Add Bollinger Bands, EMA lines on the same subplot\n",
    "    fig.add_trace(go.Scatter(x=dfpl.index, y=dfpl['bb_low'],\n",
    "                            line=dict(color='green', width=1),\n",
    "                            name=\"BB_Low\"),\n",
    "                row=1, col=1)\n",
    "    \n",
    "    fig.add_trace(go.Scatter(x=dfpl.index, y=dfpl['bb_mid'],\n",
    "                            line=dict(color='yellow', width=1),\n",
    "                            name=\"BB_MID\"),\n",
    "                row=1, col=1)\n",
    "\n",
    "    fig.add_trace(go.Scatter(x=dfpl.index, y=dfpl['bb_up'],\n",
    "                            line=dict(color='green', width=1),\n",
    "                            name=\"BB_UPPER\"),\n",
    "                row=1, col=1)\n",
    "\n",
    "    # Add markers for trade entry points on the same subplot\n",
    "    fig.add_trace(go.Scatter(x=dfpl.index, y=dfpl['pointpos'], mode=\"markers\",\n",
    "                            marker=dict(size=8, color=\"MediumPurple\"),\n",
    "                            name=\"entry\"),\n",
    "                row=1, col=1)\n",
    "\n",
    "    # Add markers for trade entry points on the same subplot\n",
    "    fig.add_trace(go.Scatter(x=dfpl.index, y=dfpl['rsi'], \n",
    "                            line=dict(color='brown', width=2),\n",
    "                            name=\"RSI\"),\n",
    "                row=2, col=1)\n",
    "\n",
    "    fig.update_layout(width=800, height=600, sliders=[])\n",
    "    fig.show()\n"
   ]
  }
 ],
 "metadata": {
  "kernelspec": {
   "display_name": "otus",
   "language": "python",
   "name": "python3"
  },
  "language_info": {
   "codemirror_mode": {
    "name": "ipython",
    "version": 3
   },
   "file_extension": ".py",
   "mimetype": "text/x-python",
   "name": "python",
   "nbconvert_exporter": "python",
   "pygments_lexer": "ipython3",
   "version": "3.11.10"
  }
 },
 "nbformat": 4,
 "nbformat_minor": 2
}
